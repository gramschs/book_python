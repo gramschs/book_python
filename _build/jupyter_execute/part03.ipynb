{
 "cells": [
  {
   "cell_type": "markdown",
   "id": "c7720d20",
   "metadata": {},
   "source": [
    "# Programmverzweigung (if - elif - else)\n",
    "\n",
    "## Einführung und Lernziele\n",
    "\n",
    "Bisher haben wir kleinere Skripte geschrieben, bei denen die Anweisungen Zeile\n",
    "für Zeile ausgeführt wurden. Ein Programm oder Skript, das nur aus einer\n",
    "einfachen Aneinanderreihung von Befehlen besteht, nennt man linear. Bisher\n",
    "hatten wir also nur lineare Programme.\n",
    "\n",
    "In diesem und in den nächsten Skripten werden wir uns mit dem Thema\n",
    "**Kontrollstruktur** beschäftigen. Kontrollstrukturen dienen dazu, den linearen\n",
    "Ablauf der Programme oder Skripte aufzubrechen und beispielsweise auf Eingaben\n",
    "der Benutzerinnen und Benutzer zu reagieren. Wir starten dazu mit der\n",
    "Kontrollstruktur **Programmverzweigung**. Wenn ein Skript auf eine Eingabe oder\n",
    "auf den aktuellen Zustand einer Variable reagieren soll, muss der\n",
    "Python-Interpreter in der Lage sein, Vergleiche zu ziehen und entscheiden zu\n",
    "können. Daher beschäftigen wir uns vorher mit dem **Datentyp Bool** und\n",
    "**Vergleichen**.\n",
    "\n",
    "## Der boolesche Datentyp\n",
    "\n",
    "Viele Möglichkeiten unserer Gesellschaft stehen nur Volljährigen offen und sind\n",
    "damit an eine Altersangabe gebunden. Wenn jetzt ein Computersystem vorab prüfen\n",
    "soll, ob Volljährigkeit vorliegt oder nicht, dann brauchen wir einen einfachen\n",
    "Vergleich. Angenommen, wir würden das Alter der Benutzers oder der Benutzerin in\n",
    "der Variable `alter` speichern. Damit wäre ein simples Beispiel für eine\n",
    "einfache Bedingung der mathematische Ausdruck `alter < 18`. Der Wert der\n",
    "Variablen `alter` wird also mit der Zahl 18 verglichen. Dieser Vergleich ist\n",
    "entweder **wahr (True)** oder **falsch (False)**. Oder anders formuliert, ist\n",
    "diese Bedingung entweder erfüllt oder nicht erfüllt. \n",
    "\n",
    "Um den Wahrheitswert einer Bedingung zu speichern, hat Python einen eigenen\n",
    "Datentyp, einen sogenannten booleschen Datentyp. Nach dem englischen Wort wird\n",
    "dieser Datentyp in der Informatik üblicherweise **Boolean** genannt. Das\n",
    "besondere an diesem Datentyp ist, dass eine Variable diesen Datentyps nur zwei\n",
    "verschiedene Werte annehmen kann, nämlich\n",
    "* True: Wahrheitswert ist wahr oder\n",
    "* False: Wahrheitswert ist falsch.\n",
    "\n",
    "Aber wie kann man dann überprüfen, welcher Datentyp in einer Variablen\n",
    "gespeichert ist? Dazu gibt es das Kommando `type`. Führen Sie die nächste\n",
    "Code-Zelle aus."
   ]
  },
  {
   "cell_type": "code",
   "execution_count": 1,
   "id": "275a6d96",
   "metadata": {},
   "outputs": [
    {
     "data": {
      "text/plain": [
       "bool"
      ]
     },
     "execution_count": 1,
     "metadata": {},
     "output_type": "execute_result"
    }
   ],
   "source": [
    "a = False\n",
    "type(a)"
   ]
  },
  {
   "cell_type": "markdown",
   "id": "d3e2f1aa",
   "metadata": {},
   "source": [
    "## Vergleiche mit Zahlen\n",
    "\n",
    "Nachdem wir jetzt den Datentyp kennegelernt haben, mit dem Python das Ergebnis\n",
    "eines Vergleichs speichert, kommen wir nun zu dem Vergleich selbst.\n",
    "\n",
    "Zunächst beschäftigen wir uns mit mathematischen Vergleichen. In der Mathematik\n",
    "ist ein Vergleich ein Ausdruck mit zwei Argumenten und einem Vergleichsoperator\n",
    "in der Mitte. Die beiden Argumente können auch unterschiedliche Datentypen\n",
    "haben, dann muss der Vergleichsoperator aber sinnvoll für diese Datentypen\n",
    "definiert sein. Z.B. darf man einen Integer mit einem Float vergleichen \n",
    "\n",
    "`3 < 17.2`\n",
    "\n",
    "aber\n",
    "\n",
    "`3 < 'vier'`\n",
    "\n",
    "ist nicht sinnvoll und undefiniert. Es gibt die folgenden Vergleichsoperatoren\n",
    "in Python:\n",
    "* `<`   kleiner\n",
    "* `<=`  kleiner oder gleich\n",
    "* `>`   größer\n",
    "* `>=`  größer oder gleich\n",
    "* `==`  gleich\n",
    "* `!= ` ungleich\n",
    "\n",
    "Im interaktiven Modus von Python können wir leicht den Wahrheitsgehalt von Vergleichen überprüfen. Wir setzen eine Variable auf den Wert 7:"
   ]
  },
  {
   "cell_type": "code",
   "execution_count": 2,
   "id": "b47fc0e5",
   "metadata": {},
   "outputs": [],
   "source": [
    "x = 7"
   ]
  },
  {
   "cell_type": "markdown",
   "id": "498651d5",
   "metadata": {},
   "source": [
    "Jetzt probieren wir in den nachfolgenden Code-Zellen verschiedene Vergleichsoperatoren aus. Zur Erinnerung, 0 steht dabei für false (falsch) und 1 für wahr (true).\n",
    "\n",
    "Ist x genau gleich 15?"
   ]
  },
  {
   "cell_type": "code",
   "execution_count": 3,
   "id": "320aa36d",
   "metadata": {},
   "outputs": [
    {
     "data": {
      "text/plain": [
       "False"
      ]
     },
     "execution_count": 3,
     "metadata": {},
     "output_type": "execute_result"
    }
   ],
   "source": [
    "x == 15    "
   ]
  },
  {
   "cell_type": "markdown",
   "id": "5f05cca9",
   "metadata": {},
   "source": [
    "Ist x kleiner als 42?"
   ]
  },
  {
   "cell_type": "code",
   "execution_count": 4,
   "id": "d3dc9291",
   "metadata": {},
   "outputs": [
    {
     "data": {
      "text/plain": [
       "True"
      ]
     },
     "execution_count": 4,
     "metadata": {},
     "output_type": "execute_result"
    }
   ],
   "source": [
    "x < 42"
   ]
  },
  {
   "cell_type": "markdown",
   "id": "f5c4a9fa",
   "metadata": {},
   "source": [
    "Ist x genau 30?"
   ]
  },
  {
   "cell_type": "code",
   "execution_count": 5,
   "id": "dc319f61",
   "metadata": {},
   "outputs": [
    {
     "data": {
      "text/plain": [
       "False"
      ]
     },
     "execution_count": 5,
     "metadata": {},
     "output_type": "execute_result"
    }
   ],
   "source": [
    "x == 30"
   ]
  },
  {
   "cell_type": "markdown",
   "id": "57171be2",
   "metadata": {},
   "source": [
    "Ist x ungleich 42?"
   ]
  },
  {
   "cell_type": "code",
   "execution_count": 6,
   "id": "c3b4a31b",
   "metadata": {},
   "outputs": [
    {
     "data": {
      "text/plain": [
       "True"
      ]
     },
     "execution_count": 6,
     "metadata": {},
     "output_type": "execute_result"
    }
   ],
   "source": [
    "x != 42 "
   ]
  },
  {
   "cell_type": "markdown",
   "id": "f299fca9",
   "metadata": {},
   "source": [
    "Ist x größer als 30?"
   ]
  },
  {
   "cell_type": "code",
   "execution_count": 7,
   "id": "a8cfe238",
   "metadata": {},
   "outputs": [
    {
     "data": {
      "text/plain": [
       "False"
      ]
     },
     "execution_count": 7,
     "metadata": {},
     "output_type": "execute_result"
    }
   ],
   "source": [
    "x > 30"
   ]
  },
  {
   "cell_type": "markdown",
   "id": "6c84544f",
   "metadata": {},
   "source": [
    "Ist x größer gleich 30?"
   ]
  },
  {
   "cell_type": "code",
   "execution_count": 8,
   "id": "f90fb0d7",
   "metadata": {},
   "outputs": [
    {
     "data": {
      "text/plain": [
       "False"
      ]
     },
     "execution_count": 8,
     "metadata": {},
     "output_type": "execute_result"
    }
   ],
   "source": [
    "x >= 30"
   ]
  },
  {
   "cell_type": "markdown",
   "id": "4932f4c8",
   "metadata": {},
   "source": [
    "```{admonition} Mini-Übung\n",
    ":class: miniexercise\n",
    "Wählen Sie sich eine Zahl. Testen Sie anschließend:\n",
    "* Ist Ihre Zahl kleiner gleich 5?\n",
    "* Ist Ihre Zahl genau 17?\n",
    "* Ist Ihre Zahl nicht gleich 17?\n",
    "* Ist Ihre Zahl positiv?\n",
    "* Ist Ihre Zahl kleiner als -17.7?\n",
    "```"
   ]
  },
  {
   "cell_type": "code",
   "execution_count": 9,
   "id": "368c5549",
   "metadata": {},
   "outputs": [],
   "source": [
    "# Geben Sie nach diesem Kommentar Ihren Code ein:\n"
   ]
  },
  {
   "cell_type": "markdown",
   "id": "5d3807fd",
   "metadata": {},
   "source": [
    "````{admonition} Lösung\n",
    ":class: minisolution, toggle\n",
    "```python\n",
    "# Eingabe: Wahl meiner Zahl\n",
    "x = 33\n",
    "\n",
    "# kleiner gleich 5?\n",
    "x <= 5\n",
    "\n",
    "# genau gleich 17?\n",
    "x == 17\n",
    "\n",
    "# nicht gleich 17?\n",
    "x != 17\n",
    "\n",
    "# positiv?\n",
    "x > 0\n",
    "\n",
    "# kleiner als -17.7?\n",
    "x < -17.7\n",
    "```\n",
    "````\n",
    "\n",
    "<iframe width=\"560\" height=\"315\" src=\"https://www.youtube.com/embed/ucsv_Nhhxmk\" title=\"YouTube video player\" frameborder=\"0\" allow=\"accelerometer; autoplay; clipboard-write; encrypted-media; gyroscope; picture-in-picture\" allowfullscreen></iframe>\n",
    "\n",
    "\n",
    "## Programmverzweigungen mit einen Zweig: if\n",
    "\n",
    "Bei einer Programmverzweigung wird Code abhängig von einer Bedingung ausgeführt.\n",
    "Im einfachsten Fall liegt ein if-Block vor. Die Syntax lautet wie folgt:\n",
    "\n",
    "```python\n",
    "if bedingung:\n",
    "    anweisungsblock\n",
    "```\n",
    "\n",
    "Ist die Bedingung erfüllt, also \"True\", so wird der eingerückte Anweisungsblock\n",
    "ausgeführt, ansonsten übersprungen. Damit ist gemeint, dass der\n",
    "Python-Interpreter nach dem Ende des if-Blocks weiter macht, falls die Bedingung\n",
    "nicht erfüllt (= False) wird.\n",
    "\n",
    "Wir betrachten nun ein Beispiel:"
   ]
  },
  {
   "cell_type": "code",
   "execution_count": 10,
   "id": "9e7ead31",
   "metadata": {},
   "outputs": [
    {
     "name": "stdout",
     "output_type": "stream",
     "text": [
      "Bananen dürfen Sie immer kaufen, egal wie alt Sie sind ...\n"
     ]
    }
   ],
   "source": [
    "alter = 17\n",
    "if alter >= 18:\n",
    "    print('Sie dürfen Alkohol kaufen.')\n",
    "print('Bananen dürfen Sie immer kaufen, egal wie alt Sie sind ...')"
   ]
  },
  {
   "cell_type": "markdown",
   "id": "41a57f2a",
   "metadata": {},
   "source": [
    "Und könnte beispielsweise mit einer Benutzerabfrage kombiniert werden:\n",
    "```python\n",
    "alter = int(input('Wie alt sind Sie?'))\n",
    "if (alter >= 18):\n",
    "    print('Sie dürfen Alkohol kaufen.')\n",
    "print('Bananen dürfen Sie immer kaufen, egal wie alt Sie sind...')\n",
    "```\n",
    "\n",
    "```{admonition} Mini-Übung\n",
    ":class: miniexercise\n",
    "Schreiben Sie ein Skript, das einen Benutzer oder eine Benutzerin nach der aktuellen Temperatur fragt. Wenn die Temperatur kleiner gleich 10 ˚C ist, soll ausgegeben werden: \"Heute ist es aber kalt!\"\n",
    "```"
   ]
  },
  {
   "cell_type": "code",
   "execution_count": 11,
   "id": "db50ec1e",
   "metadata": {},
   "outputs": [],
   "source": [
    "# Geben Sie nach diesem Kommentar Ihren Code ein:\n"
   ]
  },
  {
   "cell_type": "markdown",
   "id": "a3ab0705",
   "metadata": {},
   "source": [
    "````{admonition} Lösung\n",
    ":class: minisolution, toggle\n",
    "```python\n",
    "# Eingabe\n",
    "temperatur = int(input('Welche Temperatur haben wir aktuell?'))\n",
    "\n",
    "# Verarbeitung und Ausgabe\n",
    "if temperatur <= 10:\n",
    "    print('Heute ist es aber kalt!')\n",
    "```\n",
    "````\n",
    "\n",
    "```{admonition} Mini-Übung\n",
    ":class: miniexercise\n",
    "Schreiben Sie ein Skript, das eine Benutzerin oder einen Benutzer nach einer Zahl fragt. \n",
    "Wenn die Zahl kleiner als 0 ist, soll ausgegeben werden: \"Die Zahl ist negativ.\"\n",
    "Wenn die Zahl genau gleich 0 ist, soll ausgegeben werden: \"Die Zahl ist Null.\"\n",
    "Wenn die Zahl größer als 0 ist, soll ausgegeben werden: \"Die Zahl ist positiv.\"\n",
    "\n",
    "Wie viele if-Blöcke brauchen Sie für die Umsetzung dieser Mini-Übung?\n",
    "```"
   ]
  },
  {
   "cell_type": "code",
   "execution_count": 12,
   "id": "7d9a6d4e",
   "metadata": {},
   "outputs": [],
   "source": [
    "# Geben Sie nach diesem Kommentar Ihren Code ein:\n"
   ]
  },
  {
   "cell_type": "markdown",
   "id": "a3e37d9a",
   "metadata": {},
   "source": [
    "````{admonition} Lösung\n",
    ":class: minisolution, toggle\n",
    "```python\n",
    "% Eingabe\n",
    "zahl = float(input('Geben Sie bitte eine Zahl ein: '))\n",
    "\n",
    "% Verarbeitung und Ausgabe\n",
    "if zahl < 0:\n",
    "    print('Die Zahl ist negativ.')\n",
    "\n",
    "if zahl == 0:\n",
    "    print('Die Zahl ist Null.')\n",
    "\n",
    "if zahl > 0:\n",
    "    print('Die Zahl ist positiv.')\n",
    "```\n",
    "\n",
    "Der Code erfordert drei if-Blöcke.\n",
    "````\n",
    "\n",
    "<iframe width=\"560\" height=\"315\" src=\"https://www.youtube.com/embed/b6KzYbM-Hvg\" title=\"YouTube video player\" frameborder=\"0\" allow=\"accelerometer; autoplay; clipboard-write; encrypted-media; gyroscope; picture-in-picture\" allowfullscreen></iframe>\n",
    "\n",
    "## Programmverzweigungen mit zwei Zweigen: if – else\n",
    "\n",
    "In unserem Alltag kommen häufig Entscheidungen zwischen zwei Möglichkeiten vor.\n",
    "Wenn ich an eine T-Kreuzung komme, muss ich mich entscheiden: links oder rechts?\n",
    "Betrete ich ein Gebäude entscheide ich zwischen Treppe oder Fahrstuhl. Mein\n",
    "Alter entscheidet darüber, ob ich etwas darf oder nicht darf. Für diese Wahl\n",
    "zwischen zwei Möglichkeiten gibt es **zweiteilige Programmverzweigungen**. \n",
    "\n",
    "Wir erweitern die Syntax mit dem if-Block um ein neues Element, nämlich den\n",
    "sogenannten **else-Block**:\n",
    "\n",
    "```python\n",
    "if bedingung:\n",
    "    anweisungsblock 1\n",
    "else:\n",
    "    anweisungsblock 2\n",
    "```\n",
    "\n",
    "Wichtig ist, dass die Anweisungen, die nur bedingt ausgeführt werden sollen,\n",
    "eingerückt sind!\n",
    "\n",
    "Falls die Bedingung erfüllt ist, wird der 1. Anweisungsblock ausgeführt,\n",
    "ansonsten der 2. Anweisungsblock. Danach führt der Python-Interpreter alles nach\n",
    "dem if-else-Konstrukt aus, d.h. der Interpreter macht mit dem normalen\n",
    "Programmablauf weiter.\n",
    "\n",
    "Hier wieder das Beispiel mit dem Alter:  \n",
    "\n",
    "```python\n",
    "alter = int(input('Wie alt sind Sie? '))\n",
    "if alter >= 18:\n",
    "    print('Sie sind volljährig, Sie dürfen Alkohol kaufen.')\n",
    "else:\n",
    "    print('Sie sind noch nicht volljährig und dürfen daher keinen Alkohol kaufen.')\n",
    "\n",
    "print('Jetzt haben wir aber genug über den Alkoholkauf geredet...')\n",
    "```\n",
    "\n",
    "```{admonition} Mini-Übung\n",
    ":class: miniexercise\n",
    "Schreiben Sie ein Skript, das nach dem aktuellen Monat fragt (1 für Januar, 2\n",
    "für Februar, 3 für März, usw.). Wenn der aktuelle Monat Januar bis Juni ist,\n",
    "soll ausgegeben werden: \"Dieser Monat gehört zur 1. Jahreshälfte.\" Ansonsten\n",
    "soll ausgegeben werden: \"Dieser Monat gehört zur 2. Jahreshälfte.\"\n",
    "```"
   ]
  },
  {
   "cell_type": "code",
   "execution_count": 13,
   "id": "04313202",
   "metadata": {},
   "outputs": [],
   "source": [
    "# Geben Sie nach diesem Kommentar Ihren Code ein:\n"
   ]
  },
  {
   "cell_type": "markdown",
   "id": "6761ddfc",
   "metadata": {},
   "source": [
    "````{admonition} Lösung\n",
    ":class: minisolution, toggle\n",
    "```python\n",
    "# Eingabe\n",
    "monat = int(input('Geben Sie bitte den aktuellen Monat ein, 1 für Januar, 2 für Februar usw.'))\n",
    "\n",
    "# Verarbeitung und Ausgabe\n",
    "if monat <= 6:\n",
    "    print('Dieser Monat gehört zur 1. Jahreshälfte.')\n",
    "else:\n",
    "    print('Dieser Monat gehört zur 2. Jahreshälfte.')\n",
    "```\n",
    "````\n",
    "\n",
    "```{admonition} Mini-Übung\n",
    ":class: miniexercise\n",
    "Schreiben Sie ein Skript, das nach der aktuellen Temperatur fragt. Wenn die\n",
    "aktuelle Temperatur kleiner gleich 3 ˚C ist, dann lassen Sie ausgeben:\n",
    "\"Vorsicht, es besteht Glatteisgefahr!\" und ansonsten \"Kein Grund zur Sorge.\"\n",
    "```"
   ]
  },
  {
   "cell_type": "code",
   "execution_count": 14,
   "id": "bc22c10c",
   "metadata": {},
   "outputs": [],
   "source": [
    "# Geben Sie nach diesem Kommentar Ihren Code ein:\n"
   ]
  },
  {
   "cell_type": "markdown",
   "id": "5f699370",
   "metadata": {},
   "source": [
    "````{admonition} Lösung\n",
    ":class: minisolution, toggle\n",
    "```python\n",
    "# Eingabe\n",
    "temperatur = float(input('Welche Temperatur haben wir aktuell?'))\n",
    "\n",
    "# Verarbeitung und Ausgabe\n",
    "if temperatur <= 3:\n",
    "    print('Vorsicht, es besteht Glatteisgefahr!')\n",
    "else:\n",
    "    print('Kein Grund zur Sorge.')\n",
    "```\n",
    "````\n",
    "\n",
    "## Programmverzweigungen mit vielen Zweigen: if – elseif – else\n",
    "\n",
    "Eins, zwei, drei, viele ... häufig müssen mehr als zwei Fälle unterschieden\n",
    "werden. In einer Mini-Übung haben wir beispielsweise überprüft, ob eine Zahl\n",
    "negativ oder positiv oder Null ist. Ein Beispiel aus dem Alltag ist der Kauf\n",
    "einer Fahrkarte für den ÖPNV. Meist wird beim Ticketpreis unterschieden, ob die\n",
    "Person jünger als 6 ist (keine Fahrkarte notwendig), zwischen 6 und 14 ist\n",
    "(Schülerfahrkarte) oder älter als 14 (Erwachsenenfahrkarte). Da es jetzt drei\n",
    "Altersklassen gibt, können wir kein if-else-Konstrukt benutzen, denn nur weil\n",
    "die Person beispielsweise nicht jünger als 6 ist wissen wir noch lange nicht, ob\n",
    "die Person eine Schülerfahrkarte oder eine Erwachsenenfahrkarte braucht. \n",
    "\n",
    "Probieren wir es einfach:"
   ]
  },
  {
   "cell_type": "code",
   "execution_count": 15,
   "id": "e525fb95",
   "metadata": {},
   "outputs": [
    {
     "name": "stdout",
     "output_type": "stream",
     "text": [
      "Schülerfahrkarte\n"
     ]
    }
   ],
   "source": [
    "alter = 8\n",
    "if alter < 6:\n",
    "    print('keine Fahrkarte notwendig')\n",
    "if alter <= 14:\n",
    "    print('Schülerfahrkarte')\n",
    "if alter > 14:\n",
    "    print('Erwachsenenfahrkarte')"
   ]
  },
  {
   "cell_type": "markdown",
   "id": "2d0686aa",
   "metadata": {},
   "source": [
    "Sieht zunächst einmal gut aus. Für ein Alter von 8 Jahren wird tatsächlich\n",
    "Schülerfahrkarte ausgegeben. Wenn wir jetzt aber das Alter auf 5 Jahre setzen,\n",
    "so bekommen wir zwei Ausgaben:"
   ]
  },
  {
   "cell_type": "code",
   "execution_count": 16,
   "id": "0e199d24",
   "metadata": {},
   "outputs": [
    {
     "name": "stdout",
     "output_type": "stream",
     "text": [
      "keine Fahrkarte notwendig\n",
      "Schülerfahrkarte\n"
     ]
    }
   ],
   "source": [
    "alter = 5\n",
    "if alter < 6:\n",
    "    print('keine Fahrkarte notwendig')\n",
    "if alter <= 14:\n",
    "    print('Schülerfahrkarte')\n",
    "if alter > 14:\n",
    "    print('Erwachsenenfahrkarte')"
   ]
  },
  {
   "cell_type": "markdown",
   "id": "04442efe",
   "metadata": {},
   "source": [
    "Wir erhalten die Ausgabe `\"keine Fahrkarte notwendig\"`, weil die Bedingung des\n",
    "ersten if-Konstrukts erfüllt ist (`alter < 6`). Danach wird aber auch noch die\n",
    "Ausgabe `\"Schülerfahrkarte\"` angezeigt, weil auch die Bedingung des zweiten\n",
    "if-Konstrukts (`alter <= 14`) erfüllt ist. So geht es also nicht, zwischen drei\n",
    "Bedingungen zu unterscheiden.\n",
    "\n",
    "Probieren wir es mit einem zusätzlichen if-else-Konstrukt für die Unterscheidung\n",
    "der Kinder."
   ]
  },
  {
   "cell_type": "code",
   "execution_count": 17,
   "id": "595a9bb5",
   "metadata": {},
   "outputs": [
    {
     "name": "stdout",
     "output_type": "stream",
     "text": [
      "keine Fahrkarte notwendig\n"
     ]
    }
   ],
   "source": [
    "alter = 5\n",
    "\n",
    "if alter < 6:\n",
    "    print('keine Fahrkarte notwendig')\n",
    "else:\n",
    "    print('Schülerfahrkarte')\n",
    "\n",
    "if alter > 14:\n",
    "    print('Erwachsenenfahrkarte')"
   ]
  },
  {
   "cell_type": "markdown",
   "id": "b3bfffec",
   "metadata": {},
   "source": [
    "Jetzt sind aber Erwachsene problematisch:"
   ]
  },
  {
   "cell_type": "code",
   "execution_count": 18,
   "id": "cf4eb912",
   "metadata": {},
   "outputs": [
    {
     "name": "stdout",
     "output_type": "stream",
     "text": [
      "Schülerfahrkarte\n",
      "Erwachsenenfahrkarte\n"
     ]
    }
   ],
   "source": [
    "alter = 27\n",
    "\n",
    "if alter < 6:\n",
    "    print('keine Fahrkarte notwendig')\n",
    "else:\n",
    "    print('Schülerfahrkarte')\n",
    "\n",
    "if alter > 14:\n",
    "    print('Erwachsenenfahrkarte')"
   ]
  },
  {
   "cell_type": "markdown",
   "id": "18761b4d",
   "metadata": {},
   "source": [
    "Tatsächlich läuft unser Programm-Code nur korrekt, wenn wir in den else-Zweig\n",
    "noch zusätzlich zwischen \"jünger als 14\" und \"älter als 14\" unterscheiden.\n",
    "\n",
    "Führen Sie die folgende Code-Zelle mehrfach aus. Ändern Sie dabei das Alter.\n",
    "Probieren Sie beispielsweise 5, 8, 11, 16, 21 und Ihr Alter aus."
   ]
  },
  {
   "cell_type": "code",
   "execution_count": 19,
   "id": "43b50cf2",
   "metadata": {},
   "outputs": [
    {
     "name": "stdout",
     "output_type": "stream",
     "text": [
      "Erwachsenenfahrkarte\n"
     ]
    }
   ],
   "source": [
    "alter = 27\n",
    "\n",
    "if alter < 6:\n",
    "    print('keine Fahrkarte notwendig')\n",
    "else:\n",
    "    if alter <= 14:\n",
    "        print('Schülerfahrkarte')\n",
    "    else:\n",
    "        print('Erwachsenenfahrkarte')"
   ]
  },
  {
   "cell_type": "markdown",
   "id": "651f0388",
   "metadata": {},
   "source": [
    "Um den obigen Code besser zu verstehen, zeichen wir den Ablauf schematisch:\n",
    "\n",
    "```{image} pics/part02_fahrkarte.png\n",
    ":name: part02_fahrkarte\n",
    "```\n",
    "\n",
    "Es wäre schöner, wenn es für solche Mehrfachverzweigungen etwas\n",
    "übersichtlicheren Code gäbe. Und in der Tat, den gibt es. Man könnte sozusagen\n",
    "den Start des else-Konstruktes mit dem nachfolgenden if-Konstrukt verschmelzen.\n",
    "Das Ergebnis davon ist die if-elif-else-Syntax. Allgemein sieht das\n",
    "**if-elif-else-Konstrukt** so aus:\n",
    "\n",
    "\n",
    "```python\n",
    "if bedingung 1:\n",
    "    anweisungsblock 1\n",
    "elif bedingung 2:\n",
    "    anweisungsblock 2\n",
    "elif bedingung 3:\n",
    "    anweisungsblock 3   \n",
    "...\n",
    "else:\n",
    "    anweisungsblock n\n",
    "```\n",
    "\n",
    "Hier die besser lesbare Version der Unterscheidung von Zahlen in negative\n",
    "Zahlen, 0 und positive Zahlen aus der obigen Mini-Übung:"
   ]
  },
  {
   "cell_type": "code",
   "execution_count": 20,
   "id": "fb85fbaa",
   "metadata": {},
   "outputs": [
    {
     "name": "stdout",
     "output_type": "stream",
     "text": [
      "a ist positiv.\n"
     ]
    }
   ],
   "source": [
    "a = 17\n",
    "if a == 0:\n",
    "    print('a ist Null.')\n",
    "elif a < 0:\n",
    "    print('a ist negativ.')\n",
    "else:\n",
    "    print('a ist positiv.')"
   ]
  },
  {
   "cell_type": "markdown",
   "id": "1fe406bd",
   "metadata": {},
   "source": [
    "Und jetzt noch einmal eine besser lesbare Version des Fahrkartenautomaten:"
   ]
  },
  {
   "cell_type": "code",
   "execution_count": 21,
   "id": "834ef45a",
   "metadata": {},
   "outputs": [
    {
     "name": "stdout",
     "output_type": "stream",
     "text": [
      "Erwachsenenfahrkarte\n"
     ]
    }
   ],
   "source": [
    "alter = 27\n",
    "\n",
    "if alter < 6:\n",
    "    print('keine Fahrkarte notwendig')\n",
    "elif alter <= 14:\n",
    "    print('Schülerfahrkarte')\n",
    "else:\n",
    "    print('Erwachsenenfahrkarte')"
   ]
  },
  {
   "cell_type": "markdown",
   "id": "71dc550a",
   "metadata": {},
   "source": [
    "````{admonition} Mini-Übung\n",
    ":class: miniexercise\n",
    "Sie finden den aktuellen Bußgeldkatalog für Geschwindigkeitsüberschreitungen mit\n",
    "dem PKW im Internet auf der Seite:\n",
    "https://www.bussgeldkatalog.org/geschwindigkeitsueberschreitung/ Schreiben Sie\n",
    "ein Skript, dass abhängig von der Geschwindigkeitsüberschreitung ausgibt,\n",
    "welche Strafe in Euro verhängt wird. Die Tabelle für das Jahr 2022 lautet wie\n",
    "folgt:\n",
    "```{image} pics/part02_bussgeldkatalog.png\n",
    ":name: part02_bussgeldkatalog\n",
    "```\n",
    "````"
   ]
  },
  {
   "cell_type": "code",
   "execution_count": 22,
   "id": "23ac747d",
   "metadata": {},
   "outputs": [],
   "source": [
    "# Geben Sie nach diesem Kommentar Ihren Code ein:\n"
   ]
  },
  {
   "cell_type": "markdown",
   "id": "4d6f6672",
   "metadata": {},
   "source": [
    "````{admonition} Lösung\n",
    ":class: minisolution, toggle\n",
    "```python\n",
    "# Eingabe\n",
    "verstoss = int(input('Wieviel zu schnell ist die Person gefahren? '))\n",
    "\n",
    "# Verarbeitung und Ausgabe\n",
    "if verstoss <= 10:\n",
    "    print('20 EUR')\n",
    "elif verstoss <= 15: \n",
    "    print('40 EUR')\n",
    "elif verstoss <= 20:\n",
    "    print('60 EUR')\n",
    "elif verstoss <= 25:\n",
    "    print('100 EUR')\n",
    "elif verstoss <= 30:\n",
    "    print('150 EUR')\n",
    "elif verstoss <= 40:\n",
    "    print('200 EUR')\n",
    "elif verstoss <= 50:\n",
    "    print('320 EUR')\n",
    "elif verstoss <= 60:\n",
    "    print('480 EUR')\n",
    "elif verstoss <= 70:\n",
    "    print('600 EUR')\n",
    "else:\n",
    "    print('700 EUR')\n",
    "```\n",
    "````\n",
    "\n",
    "```{admonition} Mini-Übung\n",
    ":class: miniexercise\n",
    "Schreiben Sie ein Skript, das die aktuelle Temperatur von einem Benutzer oder einer Benutzerin abfragt. Wenn die Temperatur\n",
    "* <= - 10 ˚C ist, dann Ausgabe: \"Es ist bitterkalt.\"\n",
    "* <= 0 ˚C ist, dann Ausgabe: \"Es ist kalt.\"\n",
    "* <= 10 ˚C ist, dann Ausgabe: \"Es ist kühl, aber OK.\"\n",
    "* <= 20 ˚C ist, dann Ausgabe: \"Es ist frühlingshaft.\"\n",
    "* <= 30 ˚C ist, dann Ausgabe: \"Es ist heiß!\"\n",
    "* \\> 30 ˚C ist, dann Ausgabe: \"Das ist ja nicht mehr auszuhalten heiß!!!\"\n",
    "```"
   ]
  },
  {
   "cell_type": "code",
   "execution_count": 23,
   "id": "ac50a63c",
   "metadata": {},
   "outputs": [],
   "source": [
    "# Geben Sie nach diesem Kommentar Ihren Code ein:\n"
   ]
  },
  {
   "cell_type": "markdown",
   "id": "f8d9dcf1",
   "metadata": {},
   "source": [
    "````{admonition} Lösung\n",
    ":class: minisolution, toggle\n",
    "```python\n",
    "# Eingabe\n",
    "temperatur = float(input('Welche Temperatur haben wir aktuell? '))\n",
    "\n",
    "# Verarbeitung und Ausgabe\n",
    "if temperatur <= - 10:\n",
    "    print('Es ist bitterkalt.')\n",
    "elif temperatur <= 0: \n",
    "    print('Es ist kalt.')\n",
    "elif temperatur <= 10:\n",
    "    print('Es ist kühl, aber OK.')\n",
    "elif temperatur <= 20:\n",
    "    print('Es ist frühlingshaft.')\n",
    "elif temperatur <= 30:\n",
    "    print('Es ist heiß!')\n",
    "else:\n",
    "    print('Das ist ja nicht mehr auszuhalten heiß!')\n",
    "```\n",
    "````\n",
    "\n",
    "<iframe width=\"560\" height=\"315\" src=\"https://www.youtube.com/embed/f3YdEdYSNdk\" title=\"YouTube video player\" frameborder=\"0\" allow=\"accelerometer; autoplay; clipboard-write; encrypted-media; gyroscope; picture-in-picture\" allowfullscreen></iframe>\n",
    "\n",
    "## Zusammenfassung\n",
    "\n",
    "In diesem Kapitel haben Sie die erste Kontrollstruktur kennengelernt, um ein\n",
    "lineares Python-Programm in ein nichtlineares Python-Programm zu verwandeln, das\n",
    "auf Eingaben von Benutzer:innen oder Zustände von Variablen reagiert. Mit Hilfe\n",
    "von if, elseif und else können Sie nun beliebig viele Verzweigungen\n",
    "programmieren. Damit der Python-Interpreter den Programm-Code in einer\n",
    "Verzweigung ausführt, muss die Bedingung für diese Verzweigung erfült sein.\n",
    "Bedingungen sind entweder wahr oder falsch, was Python in einem booleschen\n",
    "Datentyp abspeichert. Für die Auswertung der Bedingung haben wir bisher\n",
    "Vergleiche von Zahlen betrachtet. Andere Bedingungen beispielsweise auch für\n",
    "Texte werden wir noch kennenlernen."
   ]
  }
 ],
 "metadata": {
  "jupytext": {
   "formats": "ipynb,md:myst",
   "text_representation": {
    "extension": ".md",
    "format_name": "myst",
    "format_version": 0.13,
    "jupytext_version": "1.13.8"
   }
  },
  "kernelspec": {
   "display_name": "Python 3 (ipykernel)",
   "language": "python",
   "name": "python3"
  },
  "language_info": {
   "codemirror_mode": {
    "name": "ipython",
    "version": 3
   },
   "file_extension": ".py",
   "mimetype": "text/x-python",
   "name": "python",
   "nbconvert_exporter": "python",
   "pygments_lexer": "ipython3",
   "version": "3.10.8"
  },
  "source_map": [
   13,
   58,
   61,
   90,
   92,
   96,
   98,
   101,
   103,
   106,
   108,
   111,
   113,
   116,
   118,
   121,
   123,
   134,
   137,
   181,
   186,
   200,
   203,
   225,
   228,
   296,
   299,
   320,
   323,
   352,
   360,
   366,
   374,
   385,
   395,
   399,
   409,
   417,
   427,
   457,
   465,
   469,
   478,
   492,
   495,
   536,
   539
  ]
 },
 "nbformat": 4,
 "nbformat_minor": 5
}