{
 "cells": [
  {
   "attachments": {},
   "cell_type": "markdown",
   "metadata": {},
   "source": [
    "# Listen\n",
    "\n",
    "Bisher haben wir drei verschiedene Datentypen kennengelernt:\n",
    "* Integer (ganze Zahlen),\n",
    "* Floats (Fließkommazahlen) und\n",
    "* Strings (Zeichenketten).\n",
    "\n",
    "Damit können wir einzelne Objekte der realen Welt ganz gut abbilden. Mit einem\n",
    "String können wir den Namen einer Person erfassen, mit einem Integer das Alter\n",
    "der Person und mit einem Float die Körpergröße der Person gemessen in Meter. Was\n",
    "uns aber bisher fehlt ist, eine Sammlung von Namen oder eine Sammlung von\n",
    "Körpergrößen verwalten zu können. Daher werden wir uns in diesem Jupyter\n",
    "Notebook mit Listen beschäftigen.\n",
    "\n",
    "```{admonition} Lernziele\n",
    ":class: hint\n",
    "* Sie wissen, dass **Container** Datentypen sind, die andere Objekte als Sammlung verwalten.\n",
    "* Sie können eine **Liste** erzeugen.\n",
    "* Sie wissen, was der Fachbegriff **Index** bedeutet.\n",
    "* Sie können lesend und schreibend auf die Elemente einer Liste zugreifen, beherrschen also\n",
    "    * **Lesezugriff** und \n",
    "    * **Schreibzugriff**.\n",
    "* Sie können mit dem Plus-Operator + Listen **verketten**.\n",
    "* Sie können Strings als Container interpretieren.\n",
    "```\n"
   ]
  },
  {
   "cell_type": "markdown",
   "metadata": {},
   "source": [
    "## Container für Sammlungen\n",
    "\n",
    "In der Mathematik gibt es den Begriff des Vektors. Einen Vektor kann man als\n",
    "eine Sammlung von Zahlen interpretieren. Dabei müssen Vektoren nicht immer eine\n",
    "geometrische Interpretation haben. Beispielsweise steht der Vektor\n",
    "\n",
    "(116, 144, 199)\n",
    "\n",
    "für ein sehr schönes Blau, wenn die drei Komponenten als die Intensität der\n",
    "Farbanteile Rot - Grün und Blau interpretiert werden. Diese Art Farben zu\n",
    "beschreiben, wird RGB-Wert genannt (siehe auch [Wikipedia →\n",
    "RGB-Farbraum](https://de.wikipedia.org/wiki/RGB-Farbraum)). Die Internetseite\n",
    "[https://www.color-hex.com](https://www.color-hex.com/) ermöglicht es, die\n",
    "RGB-Werte verschiedener Farbtöne zu ermitteln.\n",
    "\n",
    "Wir könnten aber auch eine Namensliste mit den Mitgliedern einer WG führen\n",
    "wollen, z.B. [“Alice”, “Bob”, “Charlie”]. Damit verlassen wir die mathematische\n",
    "Welt der Zahlen und damit des Vektors. Aber auch für diese Anwendungsszenarien\n",
    "wäre es schön, Daten gemeinsam zu sammeln und zu verwalten. \n",
    "\n",
    "Der Fachbegriff für\n",
    "Datentypen, die daür gedacht sind, Daten als Sammlung zu verwalten, ist\n",
    "**Container**. In Python gibt es verschiedene Container:\n",
    "\n",
    "* Listen: list\n",
    "* Tupel: tuple\n",
    "* Dictionaries: dict\n",
    "* Mengen: set\n",
    "\n",
    "Wir behandeln in diesem Abschnitt die Listen.\n"
   ]
  },
  {
   "cell_type": "markdown",
   "metadata": {},
   "source": [
    "## Listen erzeugen mit []\n",
    "\n",
    "Eine Liste wird in Python durch eckige Klammern [  ] erzeugt. Sie finden das\n",
    "Zeichen für die eckige Klammer auf der Taste mit der 8, das Zeichen für die\n",
    "eckige Klammer auf der Taste mit der 9. Zusätzlich müssen Sie die Taste Alt Gr\n",
    "drücken, um die eckigen Klammern auf der Tastatur einzugeben.\n",
    "\n",
    "Betrachten wir ein Beispiel. Hier wird eine Liste mit den Elementen 1, 2, 3, 4,\n",
    "5 erzeugt und dann anschließend in der Variablen `liste_beispiel` gespeichert.\n",
    "Mit der Funktion `print()` lassen wir den Inhalt der Liste ausgeben."
   ]
  },
  {
   "cell_type": "code",
   "execution_count": 1,
   "metadata": {},
   "outputs": [
    {
     "name": "stdout",
     "output_type": "stream",
     "text": [
      "[1, 2, 3, 4, 5]\n"
     ]
    }
   ],
   "source": [
    "liste_beispiel = [1, 2, 3, 4, 5]\n",
    "print(liste_beispiel)"
   ]
  },
  {
   "attachments": {},
   "cell_type": "markdown",
   "metadata": {},
   "source": [
    "```{admonition} Mini-Übung\n",
    ":class: miniexercise\n",
    "Erzeugen Sie eine Liste mit Ihrem Vornamen, Ihrem Nachnamen und Ihrer Körpergröße in m. Welche Datentypen brauchen Sie für diese drei Objekte? Lassen Sie Ihre Liste auch ausgeben.\n",
    "```"
   ]
  },
  {
   "cell_type": "code",
   "execution_count": 2,
   "metadata": {},
   "outputs": [],
   "source": [
    "# Hier Ihr Code\n"
   ]
  },
  {
   "attachments": {},
   "cell_type": "markdown",
   "metadata": {},
   "source": [
    "````{admonition} Lösung\n",
    ":class: minisolution, toggle\n",
    "```python\n",
    "ich = ['Simone', 'Gramsch', 1.61]\n",
    "print(ich)\n",
    "```\n",
    "Vor- und Nachname werden durch Strings repräsentiert, die Körpergröße als Float.\n",
    "````"
   ]
  },
  {
   "attachments": {},
   "cell_type": "markdown",
   "metadata": {},
   "source": [
    "## Elemente aus einer Liste herausholen: Zugriff\n",
    "\n",
    "Jede Liste hat einen Index. Man kann sich eine Liste wie eine Straße mit einer\n",
    "Sammlung von Häusern vorstellen. Um ein Haus in der Straße zu finden, hat es\n",
    "eine Hausnummer. Und das ist in der Informatik der **Index**, also die Position\n",
    "in der Liste, an der ein Element zu finden ist.\n",
    "\n",
    "In jeder Programmiersprache gibt es Container mit einem Index, wobei der Index\n",
    "in der Regel durch Integer repräsentiert wird. Allerdings gibt es Unterschiede,\n",
    "bei welcher Zahl die Nummerierung beginnt. In Python fangen wir mit der Null an.\n",
    "Dann können wir mit dem Index sozusagen nachsehen, welches Element an dieser\n",
    "Index-Position gespeichert ist. Das nennt man in der Informatik **Lesezugriff**.\n",
    "Oder wir können das Element an einer bestimmten Index-Position gegen ein neues\n",
    "Element austauschen. Das nennt man dann **Schreibzugriff**.\n",
    "\n",
    "Um auf ein Element einer Liste zugreifen zu können (egal ob lesend oder\n",
    "schreibend), verwenden wir eckige Klammern und den Index. Wenn wir also\n",
    "beispielsweise das erste Element nachschlagen, also lesen wollen, dann sieht der\n",
    "Lesezugriff also so aus:"
   ]
  },
  {
   "cell_type": "code",
   "execution_count": 3,
   "metadata": {},
   "outputs": [
    {
     "name": "stdout",
     "output_type": "stream",
     "text": [
      "rot\n"
     ]
    }
   ],
   "source": [
    "# Erzeugung einer Liste\n",
    "meine_liste = ['rot', 'grün', 'blau', 'gelb', 'weiß', 'schwarz']\n",
    "\n",
    "# Lesezugriff mit Position 1, also Index 0\n",
    "erstes_objekt = meine_liste[0]\n",
    "print(erstes_objekt)"
   ]
  },
  {
   "attachments": {},
   "cell_type": "markdown",
   "metadata": {},
   "source": [
    "```{admonition} Mini-Übung\n",
    ":class: miniexercise\n",
    "Speichern Sie das 4. Element der Liste `meine_liste = ['rot', 'grün', 'blau', 'gelb', 'weiß', 'schwarz']` in der Variable `vier` ab und lassen Sie es ausgeben.\n",
    "```"
   ]
  },
  {
   "cell_type": "code",
   "execution_count": 4,
   "metadata": {},
   "outputs": [],
   "source": [
    "# Hier Ihr Code"
   ]
  },
  {
   "attachments": {},
   "cell_type": "markdown",
   "metadata": {},
   "source": [
    "````{admonition} Lösung\n",
    ":class: minisolution, toggle\n",
    "```python\n",
    "meine_liste = ['rot', 'grün', 'blau', 'gelb', 'weiß', 'schwarz']\n",
    "\n",
    "vier = meine_liste[3]\n",
    "print(vier)\n",
    "```\n",
    "````"
   ]
  },
  {
   "attachments": {},
   "cell_type": "markdown",
   "metadata": {},
   "source": [
    "Für den Schreibzugriff benutzen wir ebenfalls die Schreibweise mit den eckigen\n",
    "Klammern und dem Index.\n",
    "\n",
    "Um in unserer Liste die Farbe weiß durch lila zu ersetzen, benutzen wir\n",
    "folgenden Code:"
   ]
  },
  {
   "cell_type": "code",
   "execution_count": 5,
   "metadata": {},
   "outputs": [
    {
     "name": "stdout",
     "output_type": "stream",
     "text": [
      "['rot', 'grün', 'blau', 'gelb', 'lila', 'schwarz']\n"
     ]
    }
   ],
   "source": [
    "# Erzeugung Liste\n",
    "meine_liste = ['rot', 'grün', 'blau', 'gelb', 'weiß', 'schwarz']\n",
    "\n",
    "# Schreibzugriff\n",
    "meine_liste[4] = 'lila'\n",
    "print(meine_liste)"
   ]
  },
  {
   "attachments": {},
   "cell_type": "markdown",
   "metadata": {},
   "source": [
    "## Liste + Liste = verkettete Liste\n",
    "\n",
    "Auch wenn es im ersten Moment verrückt erscheint, in Python können wir Listen\n",
    "addieren. Am besten schauen wir uns ein Beispiel an:"
   ]
  },
  {
   "cell_type": "code",
   "execution_count": 6,
   "metadata": {},
   "outputs": [
    {
     "name": "stdout",
     "output_type": "stream",
     "text": [
      "['rot', 'grün', 'blau', 'red', 'green', 'blue']\n"
     ]
    }
   ],
   "source": [
    "liste_de = ['rot', 'grün', 'blau']\n",
    "liste_en = ['red', 'green', 'blue']\n",
    "\n",
    "# Verkettung zweier Listen durch +\n",
    "liste_de_en = liste_de + liste_en\n",
    "print(liste_de_en)"
   ]
  },
  {
   "attachments": {},
   "cell_type": "markdown",
   "metadata": {},
   "source": [
    "Das Aneinanderhängen von Elementen zweier Container nennen wir in der Informatik\n",
    "**Verkettung**. Oft wird auch der englische Begriff **Concatenation** verwendet."
   ]
  },
  {
   "attachments": {},
   "cell_type": "markdown",
   "metadata": {},
   "source": [
    "## Strings sind auch nur Container\n",
    "\n",
    "Tatsächlich sind Strings eine Sammlung von einzelnen Zeichen. Im Deutschen\n",
    "werden Strings auch Zeichenketten genannt. Wir können auf einzelne Zeichen eines\n",
    "Strings ebenfalls mit eckigen Klammern und dem Index zugreifen.\n",
    "\n",
    "Beispielsweise können wir so die Initialen ermitteln: "
   ]
  },
  {
   "cell_type": "code",
   "execution_count": 7,
   "metadata": {},
   "outputs": [
    {
     "name": "stdout",
     "output_type": "stream",
     "text": [
      "Initialen:\n",
      "A\n",
      "W\n"
     ]
    }
   ],
   "source": [
    "vorname = 'Alice'\n",
    "nachname = 'Wunderland'\n",
    "\n",
    "print('Initialen:')\n",
    "print(vorname[0])\n",
    "print(nachname[0])"
   ]
  },
  {
   "attachments": {},
   "cell_type": "markdown",
   "metadata": {},
   "source": [
    "Die beiden Buchstaben können erneut verkettet werden, damit die Initialen zusammen sind."
   ]
  },
  {
   "cell_type": "code",
   "execution_count": 8,
   "metadata": {},
   "outputs": [
    {
     "name": "stdout",
     "output_type": "stream",
     "text": [
      "Initialen:\n",
      "AW\n"
     ]
    }
   ],
   "source": [
    "vorname = 'Alice'\n",
    "nachname = 'Wunderland'\n",
    "\n",
    "initialen = vorname[0] + nachname[0]\n",
    "\n",
    "print('Initialen:')\n",
    "print(initialen)\n"
   ]
  },
  {
   "attachments": {},
   "cell_type": "markdown",
   "metadata": {},
   "source": [
    "Dadurch lassen sich Ausgaben auch schöner gestalten. Beispielsweise können wir\n",
    "jetzt auch Strings erst verketten, bevor wir sie anzeigen lassen."
   ]
  },
  {
   "cell_type": "code",
   "execution_count": 9,
   "metadata": {},
   "outputs": [
    {
     "name": "stdout",
     "output_type": "stream",
     "text": [
      "Hallo Alice\n"
     ]
    }
   ],
   "source": [
    "name = 'Alice'\n",
    "print('Hallo ' + name)"
   ]
  }
 ],
 "metadata": {
  "kernelspec": {
   "display_name": "turtle",
   "language": "python",
   "name": "python3"
  },
  "language_info": {
   "codemirror_mode": {
    "name": "ipython",
    "version": 3
   },
   "file_extension": ".py",
   "mimetype": "text/x-python",
   "name": "python",
   "nbconvert_exporter": "python",
   "pygments_lexer": "ipython3",
   "version": "3.10.8"
  },
  "vscode": {
   "interpreter": {
    "hash": "16275fca663e32c106d20bcf6c285993a460d839f327eae28e75507b786215eb"
   }
  }
 },
 "nbformat": 4,
 "nbformat_minor": 2
}