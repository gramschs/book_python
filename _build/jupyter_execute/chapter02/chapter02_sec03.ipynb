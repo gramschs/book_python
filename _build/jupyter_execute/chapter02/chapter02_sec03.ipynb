{
 "cells": [
  {
   "attachments": {},
   "cell_type": "markdown",
   "metadata": {},
   "source": [
    "# Das Modul Turtle\n",
    "\n",
    "```{admonition} Lernziele\n",
    ":class: hint\n",
    "* TODO\n",
    "```"
   ]
  },
  {
   "attachments": {},
   "cell_type": "markdown",
   "metadata": {},
   "source": [
    "## Virtuelle Roboter zeichnen mit dem Modul Turtle\n",
    "\n",
    "In der Informatik nennt man Grafiken, die dadurch entstehen, dass ein Roboter\n",
    "Linien auf eine Leinwand zeichnet, Turtle-Grafiken. Der Roboter wird dabei mit\n",
    "einfachen Kommandos gesteuert. Beschrieben wird er durch seine Position (x- und\n",
    "y-Koordinaten in einem kartesischen Koordinatensystem) und seine Ausrichtung.\n",
    "Der \"Stift\" des Roboters kann von seinen Eigenschaften her ebenfalls variieren.\n",
    "So können beispielsweise verschiedenfarbige Stifte verwendet werden oder die\n",
    "Linienstärke kann verändert werden.\n",
    "\n",
    "Der Kern von Python enthält bereit ein Modul, um eine solche Turtle-Grafik zu erzeugen. Da wir in dieser Vorlesung mit Jupyter Notebooks arbeiten, verwenden wir jedoch das Modul `ipyturtle3`, das das Turtle-Modul mit Funktionalitäten für Jupyter Notebooks erweitert.\n",
    "\n",
    "**Achtung:\n",
    "Bitte verwenden Sie kein JupyterLab, sondern die klassische Software Jupyter Notebook.**"
   ]
  },
  {
   "attachments": {},
   "cell_type": "markdown",
   "metadata": {},
   "source": [
    "Als erstes importieren wir aus dem `ipyturtle3`-Modul die Kommandos Canvas, TurtleScreen und Turtle. Wir erzeugen mit dem Befehl\n",
    "\n",
    "```python3\n",
    "Canvas(width=500, height=250)\n",
    "``` \n",
    "\n",
    "eine leere Leinwand, die 500 Bildpunkte breit ist und 250 Bildpunkte hoch ist. Bildpunkte werden normalerweise als Pixel bezeichnet, was wiederum mit px abgekürzt wird. Damit wir mit der Leinwand weiter arbeiten können, speichern wir dieses Objekt in der Variablen `leinwand`. Zuletzt lassen wir uns die Leinwand mit dem Befehl `display()` anzeigen.\n",
    "\n",
    "Zusammengesetzt lautet der Code zur Erzeugung einer Leinwand also wie folgt:"
   ]
  },
  {
   "cell_type": "code",
   "execution_count": 1,
   "metadata": {},
   "outputs": [
    {
     "data": {
      "application/vnd.jupyter.widget-view+json": {
       "model_id": "e49f1bdf8fe84839a528ab6178d49c6b",
       "version_major": 2,
       "version_minor": 0
      },
      "text/plain": [
       "Canvas(height=250, width=500)"
      ]
     },
     "metadata": {},
     "output_type": "display_data"
    }
   ],
   "source": [
    "from ipyturtle3 import Canvas, TurtleScreen, Turtle\n",
    "\n",
    "leinwand = Canvas(width=500, height=250)\n",
    "display(leinwand)"
   ]
  },
  {
   "attachments": {},
   "cell_type": "markdown",
   "metadata": {},
   "source": [
    "Damit der Computer weiß, dass auf dieser Leinwand eine Turtle-Grafik gezeichnet\n",
    "werden soll, platzieren wir über die Leinwand ein Turtle-Feld. Dazu erzeugen wir\n",
    "mit dem Befehl `TurtleScreen()` das Feld und speichern es zur weiteren\n",
    "Verwendung in der Variablen `feld`. Damit das Turtle-Feld auf der Leinwand\n",
    "platziert wird, müssen wir der Erzeugung des Turtle-Feldes die Leinwand als\n",
    "Zusatzinformation hinzufügen."
   ]
  },
  {
   "cell_type": "code",
   "execution_count": 2,
   "metadata": {},
   "outputs": [],
   "source": [
    "feld = TurtleScreen(leinwand)"
   ]
  },
  {
   "attachments": {},
   "cell_type": "markdown",
   "metadata": {},
   "source": [
    "Nun können wir endlich einen Roboter erzeugen und in die Mitte des Feldes setzen\n",
    "lassen."
   ]
  },
  {
   "cell_type": "code",
   "execution_count": 3,
   "metadata": {},
   "outputs": [],
   "source": [
    "robo = Turtle(feld)"
   ]
  },
  {
   "attachments": {},
   "cell_type": "markdown",
   "metadata": {},
   "source": [
    "Um jetzt den kompletten Code zusammen zu haben, wiederholen wir die bisherigen Code-Zeilen in der folgenden Code-Zelle und experimentieren dann in der übernächsten Code-Zelle mit der Steuerung des Roboters. Mit dem Befehl\n",
    "\n",
    "```python3\n",
    "robo.forward(schritte)\n",
    "````\n",
    "\n",
    "wird der Roboter vorwärts bewegt und legt insgesamt `schritte` (gemessen in Pixeln) zurück.\n",
    "\n",
    "Mit den Befehlen \n",
    "\n",
    "```python3\n",
    "robo.left(winkel)\n",
    "```\n",
    "\n",
    "und \n",
    "\n",
    "```python3\n",
    "robo.right(winkel)\n",
    "````\n",
    "\n",
    "wird der Roboter nach links (gegen den Uhrzeigersinn) oder rechts (im\n",
    "Uhrzeigersinn) gedreht. Der Drehwinkel wird durch die Variable `winkel`\n",
    "bestimmt.\n",
    "\n",
    "Wenn Sie das Turtle-Feld wieder auf seinen Ausgangszustand zurücksetzen möchten,\n",
    "führen Sie erneut die Code-Zelle mit der Erzeugung und Initialisierung aus."
   ]
  },
  {
   "cell_type": "code",
   "execution_count": 4,
   "metadata": {},
   "outputs": [
    {
     "data": {
      "application/vnd.jupyter.widget-view+json": {
       "model_id": "9e385b4e48f340378408745e66a116be",
       "version_major": 2,
       "version_minor": 0
      },
      "text/plain": [
       "Canvas(height=250, width=500)"
      ]
     },
     "metadata": {},
     "output_type": "display_data"
    }
   ],
   "source": [
    "# Import der benötigten Module\n",
    "from ipyturtle3 import Canvas, TurtleScreen, Turtle\n",
    "\n",
    "# Erzeugung und Anzeige der Leinwand\n",
    "leinwand = Canvas(width=500, height=250)\n",
    "display(leinwand)\n",
    "\n",
    "# Initialisierung des Turtle-Feldes\n",
    "feld = TurtleScreen(leinwand)\n",
    "\n",
    "# Erzeugung eines Roboters mit Namen robo und Platzierung auf dem Feld\n",
    "robo = Turtle(feld)"
   ]
  },
  {
   "cell_type": "code",
   "execution_count": 5,
   "metadata": {},
   "outputs": [],
   "source": [
    "robo.forward(100)\n",
    "robo.left(120)\n",
    "robo.forward(50)"
   ]
  },
  {
   "attachments": {},
   "cell_type": "markdown",
   "metadata": {},
   "source": [
    "```{admonition} Mini-Übung\n",
    ":class: miniexercise\n",
    "Erzeugen Sie ein Rechteck der Länge 200 px und Höhe 100 px. Am Ende soll der Roboter in die ursprüngliche Richtung hin ausgerichtet sein, also nach Osten bzw. rechts.\n",
    "```"
   ]
  },
  {
   "attachments": {},
   "cell_type": "markdown",
   "metadata": {},
   "source": [
    "````{admonition} Lösung\n",
    ":class: minisolution, toggle\n",
    "```python\n",
    "robo.forward(200)\n",
    "robo.left(90)\n",
    "robo.forward(100)\n",
    "robo.left(90)\n",
    "robo.forward(200)\n",
    "robo.left(90)\n",
    "robo.forward(100)\n",
    "robo.left(90)\n",
    "```\n",
    "Anmerkung: natürlich hätten wir den Roboter auch viermal nach rechts drehen lassen können.\n",
    "````"
   ]
  }
 ],
 "metadata": {
  "kernelspec": {
   "display_name": "turtle",
   "language": "python",
   "name": "python3"
  },
  "language_info": {
   "codemirror_mode": {
    "name": "ipython",
    "version": 3
   },
   "file_extension": ".py",
   "mimetype": "text/x-python",
   "name": "python",
   "nbconvert_exporter": "python",
   "pygments_lexer": "ipython3",
   "version": "3.10.8"
  },
  "vscode": {
   "interpreter": {
    "hash": "16275fca663e32c106d20bcf6c285993a460d839f327eae28e75507b786215eb"
   }
  },
  "widgets": {
   "application/vnd.jupyter.widget-state+json": {
    "state": {
     "1123253c76bc4ed48a1641e8a5297a6b": {
      "model_module": "@jupyter-widgets/base",
      "model_module_version": "1.2.0",
      "model_name": "LayoutModel",
      "state": {
       "_model_module": "@jupyter-widgets/base",
       "_model_module_version": "1.2.0",
       "_model_name": "LayoutModel",
       "_view_count": null,
       "_view_module": "@jupyter-widgets/base",
       "_view_module_version": "1.2.0",
       "_view_name": "LayoutView",
       "align_content": null,
       "align_items": null,
       "align_self": null,
       "border": null,
       "bottom": null,
       "display": null,
       "flex": null,
       "flex_flow": null,
       "grid_area": null,
       "grid_auto_columns": null,
       "grid_auto_flow": null,
       "grid_auto_rows": null,
       "grid_column": null,
       "grid_gap": null,
       "grid_row": null,
       "grid_template_areas": null,
       "grid_template_columns": null,
       "grid_template_rows": null,
       "height": null,
       "justify_content": null,
       "justify_items": null,
       "left": null,
       "margin": null,
       "max_height": null,
       "max_width": null,
       "min_height": null,
       "min_width": null,
       "object_fit": null,
       "object_position": null,
       "order": null,
       "overflow": null,
       "overflow_x": null,
       "overflow_y": null,
       "padding": null,
       "right": null,
       "top": null,
       "visibility": null,
       "width": null
      }
     },
     "8aab835b7f83464faec454153258be3b": {
      "model_module": "@jupyter-widgets/base",
      "model_module_version": "1.2.0",
      "model_name": "LayoutModel",
      "state": {
       "_model_module": "@jupyter-widgets/base",
       "_model_module_version": "1.2.0",
       "_model_name": "LayoutModel",
       "_view_count": null,
       "_view_module": "@jupyter-widgets/base",
       "_view_module_version": "1.2.0",
       "_view_name": "LayoutView",
       "align_content": null,
       "align_items": null,
       "align_self": null,
       "border": null,
       "bottom": null,
       "display": null,
       "flex": null,
       "flex_flow": null,
       "grid_area": null,
       "grid_auto_columns": null,
       "grid_auto_flow": null,
       "grid_auto_rows": null,
       "grid_column": null,
       "grid_gap": null,
       "grid_row": null,
       "grid_template_areas": null,
       "grid_template_columns": null,
       "grid_template_rows": null,
       "height": null,
       "justify_content": null,
       "justify_items": null,
       "left": null,
       "margin": null,
       "max_height": null,
       "max_width": null,
       "min_height": null,
       "min_width": null,
       "object_fit": null,
       "object_position": null,
       "order": null,
       "overflow": null,
       "overflow_x": null,
       "overflow_y": null,
       "padding": null,
       "right": null,
       "top": null,
       "visibility": null,
       "width": null
      }
     },
     "9e385b4e48f340378408745e66a116be": {
      "model_module": "ipycanvas",
      "model_module_version": "^0.13",
      "model_name": "CanvasModel",
      "state": {
       "_canvas_manager": "IPY_MODEL_ed8562ec89e0479389691c3e0f1d9788",
       "_dom_classes": [],
       "_model_module": "ipycanvas",
       "_model_module_version": "^0.13",
       "_model_name": "CanvasModel",
       "_send_client_ready_event": true,
       "_view_count": null,
       "_view_module": "ipycanvas",
       "_view_module_version": "^0.13",
       "_view_name": "CanvasView",
       "height": 250,
       "image_data": null,
       "layout": "IPY_MODEL_1123253c76bc4ed48a1641e8a5297a6b",
       "sync_image_data": false,
       "width": 500
      }
     },
     "e49f1bdf8fe84839a528ab6178d49c6b": {
      "model_module": "ipycanvas",
      "model_module_version": "^0.13",
      "model_name": "CanvasModel",
      "state": {
       "_canvas_manager": "IPY_MODEL_ed8562ec89e0479389691c3e0f1d9788",
       "_dom_classes": [],
       "_model_module": "ipycanvas",
       "_model_module_version": "^0.13",
       "_model_name": "CanvasModel",
       "_send_client_ready_event": true,
       "_view_count": null,
       "_view_module": "ipycanvas",
       "_view_module_version": "^0.13",
       "_view_name": "CanvasView",
       "height": 250,
       "image_data": null,
       "layout": "IPY_MODEL_8aab835b7f83464faec454153258be3b",
       "sync_image_data": false,
       "width": 500
      }
     },
     "ed8562ec89e0479389691c3e0f1d9788": {
      "model_module": "ipycanvas",
      "model_module_version": "^0.13",
      "model_name": "CanvasManagerModel",
      "state": {
       "_model_module": "ipycanvas",
       "_model_module_version": "^0.13",
       "_model_name": "CanvasManagerModel",
       "_view_count": null,
       "_view_module": null,
       "_view_module_version": "",
       "_view_name": null
      }
     }
    },
    "version_major": 2,
    "version_minor": 0
   }
  }
 },
 "nbformat": 4,
 "nbformat_minor": 2
}