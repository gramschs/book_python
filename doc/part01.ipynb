{
 "cells": [
  {
   "cell_type": "markdown",
   "id": "381f2fe7-c3d1-459f-87d0-b69b9c230c54",
   "metadata": {},
   "source": [
    "# Einstieg in die Programmierung mit Python\n",
    "\n",
    "## Lernziele\n",
    "\n",
    "Dieses Jupyter Notebook ist der Einstieg in die wissenschaftliche Programmierung\n",
    "mit Python. Zuerst werden wir Python als Taschenrechner benutzen. Danach\n",
    "beschäftigen wir uns mit grundlegenden Begriffen der Informatik, nämlich\n",
    "\n",
    "* Hardware und Software,\n",
    "* Programm und Skript,\n",
    "* kompilierte und interpretierte Programmiersprachen sowie\n",
    "* Betriebssystem, Anwendungssoftware (App) und Bibliotheken (Toolbox).\n",
    "\n",
    "Nach dem kurzen Ausflug in die Theorie der Informatik widmen wir uns einfachen\n",
    "Datentypen und Variablen. Zusammen mit einfachen Python-Kommandos, um Eingaben\n",
    "einer Benutzerin oder eines Benutzers abzufragen und auf dem Bildschirm\n",
    "auszugeben, wird es uns möglich, erste kleinere Python-Skripte zu schreiben.\n",
    "Das entspricht auch dem grundlegenden Ablauf in der Datenverarbeitung, dem\n",
    "EVA-Prinzip, das für Eingabe, Verarbeitung und Ausgabe steht.\n",
    "\n",
    "## Python als Taschenrechner\n",
    "\n",
    "Was ist überhaupt Python? Wikipedia erklärt \n",
    "[Python](https://de.wikipedia.org/wiki/Python_(Programmiersprache)) folgendermaßen: \n",
    "\n",
    "> Python ([ˈpʰaɪθn̩], [ˈpʰaɪθɑn], auf Deutsch auch [ˈpʰyːtɔn]) ist eine\n",
    "  universelle, üblicherweise interpretierte, höhere Programmiersprache. Sie hat\n",
    "  den Anspruch, einen gut lesbaren, knappen Programmierstil zu fördern. So\n",
    "  werden beispielsweise Blöcke nicht durch geschweifte Klammern, sondern durch\n",
    "  Einrückungen strukturiert.\n",
    "\n",
    "Wenn Sie das dazugehörige Jupyter Notebook in Python (Jupyter Lab) öffnen,\n",
    "können Sie Code-Zellen direkt ausführen lassen. \n",
    "\n",
    "Ansonsten kopieren Sie bitte den Inhalt der Code-Zellen in Ihr Python-Programm,\n",
    "um die nachfolgenden Ausführungen direkt nachvollziehen zu können.\n",
    "\n",
    "Addition:"
   ]
  },
  {
   "cell_type": "code",
   "execution_count": 1,
   "id": "058d3902",
   "metadata": {},
   "outputs": [
    {
     "data": {
      "text/plain": [
       "5"
      ]
     },
     "execution_count": 1,
     "metadata": {},
     "output_type": "execute_result"
    }
   ],
   "source": [
    "2+3"
   ]
  },
  {
   "cell_type": "markdown",
   "id": "6465b184",
   "metadata": {},
   "source": [
    "Subtraktion:"
   ]
  },
  {
   "cell_type": "code",
   "execution_count": 2,
   "id": "10e8a9ed",
   "metadata": {},
   "outputs": [
    {
     "data": {
      "text/plain": [
       "-1"
      ]
     },
     "execution_count": 2,
     "metadata": {},
     "output_type": "execute_result"
    }
   ],
   "source": [
    "2-3"
   ]
  },
  {
   "cell_type": "markdown",
   "id": "8abc18e6",
   "metadata": {},
   "source": [
    "Multiplikation:"
   ]
  },
  {
   "cell_type": "code",
   "execution_count": 3,
   "id": "779f7c87",
   "metadata": {},
   "outputs": [
    {
     "data": {
      "text/plain": [
       "8"
      ]
     },
     "execution_count": 3,
     "metadata": {},
     "output_type": "execute_result"
    }
   ],
   "source": [
    "2*4"
   ]
  },
  {
   "cell_type": "markdown",
   "id": "1aad1a38",
   "metadata": {},
   "source": [
    "Division:"
   ]
  },
  {
   "cell_type": "code",
   "execution_count": 4,
   "id": "5614985e",
   "metadata": {},
   "outputs": [
    {
     "data": {
      "text/plain": [
       "4.0"
      ]
     },
     "execution_count": 4,
     "metadata": {},
     "output_type": "execute_result"
    }
   ],
   "source": [
    "8/2"
   ]
  },
  {
   "cell_type": "markdown",
   "id": "ce455fce",
   "metadata": {},
   "source": [
    "Potenzierung:"
   ]
  },
  {
   "cell_type": "code",
   "execution_count": 5,
   "id": "b1950b5e",
   "metadata": {},
   "outputs": [
    {
     "data": {
      "text/plain": [
       "9"
      ]
     },
     "execution_count": 5,
     "metadata": {},
     "output_type": "execute_result"
    }
   ],
   "source": [
    "3**2"
   ]
  },
  {
   "cell_type": "markdown",
   "id": "3d3c5dc6",
   "metadata": {},
   "source": [
    "Selbstverständlich beherrscht Python auch Klammerregeln. Gerne können Sie den\n",
    "Term  durch Python berechnen lassen, probieren Sie es doch einmal selbst aus! In\n",
    "der folgenden Code-Zelle ist Platz für Ihren Python-Code. Die Code-Zelle ist\n",
    "zunächst mit einem Kommentar beschriftet, in diese Fall mit dem Kommentar"
   ]
  },
  {
   "cell_type": "code",
   "execution_count": 6,
   "id": "06a66233",
   "metadata": {},
   "outputs": [],
   "source": [
    "# Hier Ihr Code\n"
   ]
  },
  {
   "cell_type": "markdown",
   "id": "cfac1351",
   "metadata": {},
   "source": [
    "Alles was nach dem Hashtag kommt, wird von Python ignoriert. Die sogenannten\n",
    "Kommentare, die durch das Hashtag-Zeichen eingeleitet werden, sind für uns\n",
    "Menschen bestimmt.\n",
    "\n",
    "```{exercise}\n",
    ":label: part01_miniexercise01\n",
    "Lassen Sie Python den Term $3\\cdot (7-10)+5$ berechnen.\n",
    "```\n",
    "````{solution} part01_miniexercise01\n",
    ":label: part01_minisolution01\n",
    ":class: dropdown\n",
    "```python\n",
    "3 * (7-10) + 5\n",
    "```\n",
    "````"
   ]
  }
 ],
 "metadata": {
  "jupytext": {
   "formats": "ipynb,md:myst"
  },
  "kernelspec": {
   "display_name": "Python 3 (ipykernel)",
   "language": "python",
   "name": "python3"
  },
  "language_info": {
   "codemirror_mode": {
    "name": "ipython",
    "version": 3
   },
   "file_extension": ".py",
   "mimetype": "text/x-python",
   "name": "python",
   "nbconvert_exporter": "python",
   "pygments_lexer": "ipython3",
   "version": "3.9.13"
  }
 },
 "nbformat": 4,
 "nbformat_minor": 5
}
