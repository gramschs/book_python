{
 "cells": [
  {
   "cell_type": "markdown",
   "id": "bd3e6221",
   "metadata": {},
   "source": [
    "# Getting Started\n",
    "\n",
    "Das Kapitel \"Getting Started\" gibt Ihnen zuerst eine Einführung in Hardware und\n",
    "Software. Danach werden grundlegende Begriffe zum Programmieren erläutert. Im\n",
    "dritten Abschnitt folgt eine kurze Anleitung, wie Python installiert wird, und\n",
    "wie Jupyter Notebooks aufgebaut sind."
   ]
  }
 ],
 "metadata": {
  "jupytext": {
   "cell_metadata_filter": "-all",
   "main_language": "python",
   "notebook_metadata_filter": "-all"
  }
 },
 "nbformat": 4,
 "nbformat_minor": 5
}
