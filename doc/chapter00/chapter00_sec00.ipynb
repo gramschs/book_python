{
 "cells": [
  {
   "cell_type": "markdown",
   "id": "d5faf03e",
   "metadata": {},
   "source": [
    "# Getting Started\n",
    "\n",
    "Das Kapitel \"Getting Started\" gibt Ihnen zuerst eine Einführung in Hardware und\n",
    "Software. Danach werden grundlegende Begriffe zum Programmieren erläutert. Im\n",
    "dritten Abschnitt folgt eine kurze Anleitung, wie Python installiert wird, und\n",
    "wie Jupyter Notebooks aufgebaut sind."
   ]
  }
 ],
 "metadata": {
  "jupytext": {
   "cell_metadata_filter": "-all",
   "formats": "ipynb,md",
   "main_language": "python"
  }
 },
 "nbformat": 4,
 "nbformat_minor": 5
}
