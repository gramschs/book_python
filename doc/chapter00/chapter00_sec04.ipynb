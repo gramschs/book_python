{
 "cells": [
  {
   "cell_type": "markdown",
   "id": "93017f00",
   "metadata": {},
   "source": [
    "# Übungen\n",
    "\n",
    "```{admonition} Übung \n",
    ":class: miniexercise\n",
    "Installieren Sie Anaconda und Python auf Ihrem PC oder Laptop. Starten Sie die\n",
    "Software Jupyter Notebook. Laden Sie dieses Jupyter Notebook herunter und öffnen\n",
    "Sie es mit der Software Jupyter Notebook.\n",
    "```\n",
    "\n",
    "```{admonition} Übung\n",
    ":class: miniexercise \n",
    "Benutzen Sie Python als Taschenrechner. Fügen Sie dazu diesem Jupyter Notebook eine Code-Zelle hinzu und lassen Sie die folgenden Ausdrücke berechnen:\n",
    "* 2 + 3\n",
    "* 2 - 3\n",
    "* 4 * 5\n",
    "* 16 / 4\n",
    "* 16 / 3\n",
    "* 5**2\n",
    "```\n",
    "\n",
    "```{admonition} Übung\n",
    ":class: miniexercise\n",
    "In der vorhergehenden Aufgabe haben Sie den Ausdruck `5**2` berechnen lassen.\n",
    "Fügen Sie jetzt eine Markdown-Zelle ein. Schreiben Sie auf, was Ihrer Vermutung\n",
    "nach der `**`-Operator für eine Bedeutung hat. Recherchieren Sie anschließend im\n",
    "Internet, nach der Bedeutung und vergleichen Sie Ihre Antwort mit der Recherche.\n",
    "Fügen Sie die Internetseite als URL in die Markdown-Zelle ein.\n",
    "```"
   ]
  }
 ],
 "metadata": {
  "jupytext": {
   "cell_metadata_filter": "-all",
   "main_language": "python",
   "notebook_metadata_filter": "-all"
  }
 },
 "nbformat": 4,
 "nbformat_minor": 5
}
