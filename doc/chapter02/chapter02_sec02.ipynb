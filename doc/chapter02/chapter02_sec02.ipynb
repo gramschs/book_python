{
 "cells": [
  {
   "attachments": {},
   "cell_type": "markdown",
   "metadata": {},
   "source": [
    "# Das Modul Math\n",
    "\n",
    "Python kann auch auf schwachbrüstiger Hardware laufen wie beispielsweise auf\n",
    "dem Raspberry Pi. Ein Grund für die Effizienz von Python ist, dass nicht alle\n",
    "möglichen Datentypen, Funktionen und Methoden von Beginn an in den Speicher\n",
    "geladen werden, sondern erst bei Bedarf. Python-Code ist in sogenannte Module\n",
    "unterteilt.\n",
    "\n",
    "In diesem Jupyter Notebook werden wir den Modul-Mechanismus anhand des\n",
    "Math-Moduls kennenlernen."
   ]
  },
  {
   "attachments": {},
   "cell_type": "markdown",
   "metadata": {},
   "source": [
    "## Lernziele\n",
    "\n",
    "```{admonition} Lernziele\n",
    ":class: hint\n",
    "* Sie können erklären, was ein **Modul** in Python ist.\n",
    "* Sie können ein Modul komplett mit **import modul** importieren und auf die darin enthaltenen Funktionalitäten mit **modul.funktionalitaet** zugreifen.\n",
    "* Sie können mit **from modul import funktionalitaet** einzelne Funktionalitäten eines Moduls importieren.\n",
    "```"
   ]
  },
  {
   "attachments": {},
   "cell_type": "markdown",
   "metadata": {},
   "source": [
    "## Import math\n",
    "\n",
    "Es wäre schön, häufig gebrauchte Zahlen wie die Kreiszahl $\\pi$ oder die\n",
    "Eulersche Zahl $e$ zur Verfügung zu haben. Leider gehören beide nicht zum\n",
    "Python-Kern, wie der folgende Versuch zeigt:\n"
   ]
  },
  {
   "cell_type": "code",
   "execution_count": 2,
   "metadata": {},
   "outputs": [
    {
     "ename": "NameError",
     "evalue": "name 'pi' is not defined",
     "output_type": "error",
     "traceback": [
      "\u001b[0;31m---------------------------------------------------------------------------\u001b[0m",
      "\u001b[0;31mNameError\u001b[0m                                 Traceback (most recent call last)",
      "Cell \u001b[0;32mIn[2], line 1\u001b[0m\n\u001b[0;32m----> 1\u001b[0m \u001b[39mprint\u001b[39m(pi)\n",
      "\u001b[0;31mNameError\u001b[0m: name 'pi' is not defined"
     ]
    }
   ],
   "source": [
    "print(pi)"
   ]
  },
  {
   "attachments": {},
   "cell_type": "markdown",
   "metadata": {},
   "source": [
    "Python gibt eine Fehlermeldung aus. Der Fehler lautet \"NameError\". Der\n",
    "Python-Interpreter meldet auch, bei welcher Variable der Namensfehler auftritt,\n",
    "nämlich bei 'pi'. \n",
    "\n",
    "Die fehlende Kreiszahl Pi könnte natürlich zu Beginn eines Programmes eingeführt werden. "
   ]
  },
  {
   "cell_type": "code",
   "execution_count": 7,
   "metadata": {},
   "outputs": [
    {
     "name": "stdout",
     "output_type": "stream",
     "text": [
      "3.14\n"
     ]
    }
   ],
   "source": [
    "pi = 3.14\n",
    "print(pi)"
   ]
  },
  {
   "attachments": {},
   "cell_type": "markdown",
   "metadata": {},
   "source": [
    "Aber es gibt ja noch mehr Funktionalitäten, die im Python-Kern fehlen wie\n",
    "beispielsweise die Sinus-Funktion oder die Wurzel-Funktion. \n",
    "\n",
    "Module sind Python-Programme, die Konstanten oder Anweisungen (Funktionen,\n",
    "Klassen) zur Verfügung stellen und damit den eigentlichen Python-Kern erweitern.\n",
    "Module müssen importiert werden, damit der Python-Interpreter diese erweiterten\n",
    "Funktionalitäten benutzen kann.\n",
    "\n",
    "Es gibt mehrere Anweisungen, ein Modul zu importieren. Als erstes betrachten wir\n",
    "die direkte import-Anweisung und importieren das Mathematik-Modul `math`."
   ]
  },
  {
   "cell_type": "code",
   "execution_count": 4,
   "metadata": {},
   "outputs": [],
   "source": [
    "import math"
   ]
  },
  {
   "attachments": {},
   "cell_type": "markdown",
   "metadata": {},
   "source": [
    "Wird die obige Anweisung `import math` ausgeführt, passiert scheinbar nichts.\n",
    "Tatsächlich hat der Python-Interpreter jedoch das Modul `math` geladen. Die\n",
    "Anweisung `dir(math)` listet auf, was genau alles importiert wurde. "
   ]
  },
  {
   "cell_type": "code",
   "execution_count": 5,
   "metadata": {},
   "outputs": [
    {
     "data": {
      "text/plain": [
       "['__doc__',\n",
       " '__file__',\n",
       " '__loader__',\n",
       " '__name__',\n",
       " '__package__',\n",
       " '__spec__',\n",
       " 'acos',\n",
       " 'acosh',\n",
       " 'asin',\n",
       " 'asinh',\n",
       " 'atan',\n",
       " 'atan2',\n",
       " 'atanh',\n",
       " 'ceil',\n",
       " 'comb',\n",
       " 'copysign',\n",
       " 'cos',\n",
       " 'cosh',\n",
       " 'degrees',\n",
       " 'dist',\n",
       " 'e',\n",
       " 'erf',\n",
       " 'erfc',\n",
       " 'exp',\n",
       " 'expm1',\n",
       " 'fabs',\n",
       " 'factorial',\n",
       " 'floor',\n",
       " 'fmod',\n",
       " 'frexp',\n",
       " 'fsum',\n",
       " 'gamma',\n",
       " 'gcd',\n",
       " 'hypot',\n",
       " 'inf',\n",
       " 'isclose',\n",
       " 'isfinite',\n",
       " 'isinf',\n",
       " 'isnan',\n",
       " 'isqrt',\n",
       " 'lcm',\n",
       " 'ldexp',\n",
       " 'lgamma',\n",
       " 'log',\n",
       " 'log10',\n",
       " 'log1p',\n",
       " 'log2',\n",
       " 'modf',\n",
       " 'nan',\n",
       " 'nextafter',\n",
       " 'perm',\n",
       " 'pi',\n",
       " 'pow',\n",
       " 'prod',\n",
       " 'radians',\n",
       " 'remainder',\n",
       " 'sin',\n",
       " 'sinh',\n",
       " 'sqrt',\n",
       " 'tan',\n",
       " 'tanh',\n",
       " 'tau',\n",
       " 'trunc',\n",
       " 'ulp']"
      ]
     },
     "execution_count": 5,
     "metadata": {},
     "output_type": "execute_result"
    }
   ],
   "source": [
    "dir(math)"
   ]
  },
  {
   "attachments": {},
   "cell_type": "markdown",
   "metadata": {},
   "source": [
    "Offensichtlich gehören sehr viele mathematische Funktionen zum math-Modul, aber auch die beiden Zahlen `pi` und `e` finden wir in der Liste. Dann können wir ja $\\pi$ jetzt direkt ausgeben lassen:"
   ]
  },
  {
   "cell_type": "code",
   "execution_count": 8,
   "metadata": {},
   "outputs": [
    {
     "name": "stdout",
     "output_type": "stream",
     "text": [
      "3.14\n"
     ]
    }
   ],
   "source": [
    "print(pi)"
   ]
  },
  {
   "attachments": {},
   "cell_type": "markdown",
   "metadata": {},
   "source": [
    "Erstaunlich, dass in einem Standard-Modul von Python die Programmier:innen $\\pi$\n",
    "nur mit zwei Nachkommastellen angegeben haben... haben sie auch nicht. Die\n",
    "Variable `pi` wurde von uns selbst mit `pi = 3.14` definiert und ist nicht\n",
    "identisch mit `pi` aus dem math-Modul. Die Kreiszahl aus dem math-Modul heißt\n",
    "nämlich `math.pi`."
   ]
  },
  {
   "cell_type": "code",
   "execution_count": 9,
   "metadata": {},
   "outputs": [
    {
     "name": "stdout",
     "output_type": "stream",
     "text": [
      "3.141592653589793\n"
     ]
    }
   ],
   "source": [
    "print(math.pi)"
   ]
  },
  {
   "attachments": {},
   "cell_type": "markdown",
   "metadata": {},
   "source": [
    "Um Konstanten, Datentypen oder Funktionen eines Moduls zu nutzen, wird der\n",
    "Modulname vorangestellt und erneut der Punkt benutzt. Probieren Sie es in der\n",
    "nächsten Mini-Übung aus."
   ]
  },
  {
   "attachments": {},
   "cell_type": "markdown",
   "metadata": {},
   "source": [
    "````{admonition} Mini-Übung\n",
    ":class: miniexercise\n",
    "Weisen Sie der Variablen x den Wert $\\pi$ zu. Lassen Sie dann $y = \\sin(x)$\n",
    "berechnen und ausgeben.\n",
    "````"
   ]
  },
  {
   "cell_type": "code",
   "execution_count": 12,
   "metadata": {},
   "outputs": [
    {
     "name": "stdout",
     "output_type": "stream",
     "text": [
      "1.2246467991473532e-16\n"
     ]
    }
   ],
   "source": [
    "# Hier Ihr Code\n"
   ]
  },
  {
   "attachments": {},
   "cell_type": "markdown",
   "metadata": {},
   "source": [
    "````{admonition} Lösung\n",
    ":class: solution, toggle\n",
    "```python\n",
    "x = math.pi\n",
    "y = math.sin(x)\n",
    "\n",
    "print(y)\n",
    "```\n",
    "````"
   ]
  },
  {
   "attachments": {},
   "cell_type": "markdown",
   "metadata": {},
   "source": [
    "## From math import\n",
    "\n",
    "Wenn nur die Kreiszahl $\\pi$ gebraucht wird, ist der komplette Import des\n",
    "math-Modules zuviel des Guten. Auch kann es lästig sein, immer `math.` vor pi zu\n",
    "setzen. Eine zweite Möglichkeit, Funktionalitäten eines Moduls zu importieren,\n",
    "ist die Alternative\n",
    "\n",
    "```python\n",
    "from modulname import etwas1, etwas2\n",
    "```\n",
    "\n",
    "$\\pi$ und die Sinus-Funktion werden dann folgendermaßen importiert:"
   ]
  },
  {
   "cell_type": "code",
   "execution_count": 13,
   "metadata": {},
   "outputs": [
    {
     "name": "stdout",
     "output_type": "stream",
     "text": [
      "3.141592653589793\n",
      "0.0\n"
     ]
    }
   ],
   "source": [
    "from math import pi, sin"
   ]
  },
  {
   "attachments": {},
   "cell_type": "markdown",
   "metadata": {},
   "source": [
    "Jetzt können `pi` und `sin` direkt benutzt werden, ohne `math.` davor zu schreiben."
   ]
  },
  {
   "cell_type": "code",
   "execution_count": null,
   "metadata": {},
   "outputs": [],
   "source": [
    "print(pi)\n",
    "print(sin(0))"
   ]
  },
  {
   "attachments": {},
   "cell_type": "markdown",
   "metadata": {},
   "source": [
    "Tatsächlich gibt es noch weitere Möglichkeiten, etwas aus einem Modul zu importieren. Einen Überblick über diese Alternativen finden Sie im Internet unter [https://docs.python.org/3/tutorial/modules.html](https://docs.python.org/3/tutorial/modules.html)."
   ]
  }
 ],
 "metadata": {
  "kernelspec": {
   "display_name": "turtle",
   "language": "python",
   "name": "python3"
  },
  "language_info": {
   "codemirror_mode": {
    "name": "ipython",
    "version": 3
   },
   "file_extension": ".py",
   "mimetype": "text/x-python",
   "name": "python",
   "nbconvert_exporter": "python",
   "pygments_lexer": "ipython3",
   "version": "3.10.8"
  },
  "orig_nbformat": 4,
  "vscode": {
   "interpreter": {
    "hash": "16275fca663e32c106d20bcf6c285993a460d839f327eae28e75507b786215eb"
   }
  }
 },
 "nbformat": 4,
 "nbformat_minor": 2
}
