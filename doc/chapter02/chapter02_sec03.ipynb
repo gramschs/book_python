{
 "cells": [
  {
   "attachments": {},
   "cell_type": "markdown",
   "metadata": {},
   "source": [
    "# for-Schleifen mit range\n",
    "\n",
    "TODO"
   ]
  }
 ],
 "metadata": {
  "kernelspec": {
   "display_name": "python39",
   "language": "python",
   "name": "python3"
  },
  "language_info": {
   "name": "python",
   "version": "3.9.15 (main, Nov 24 2022, 08:28:41) \n[Clang 14.0.6 ]"
  },
  "orig_nbformat": 4,
  "vscode": {
   "interpreter": {
    "hash": "502e30c89ac744ede490eeeb6f7e63ddbf7b044ca990d418a4738702fff7139e"
   }
  }
 },
 "nbformat": 4,
 "nbformat_minor": 2
}
