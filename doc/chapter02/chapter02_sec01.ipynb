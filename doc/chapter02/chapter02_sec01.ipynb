{
 "cells": [
  {
   "attachments": {},
   "cell_type": "markdown",
   "metadata": {},
   "source": [
    "# Das Modul Turtle\n",
    "\n",
    "```{admonition} Lernziele\n",
    ":class: hint\n",
    "* TODO\n",
    "```"
   ]
  },
  {
   "attachments": {},
   "cell_type": "markdown",
   "metadata": {},
   "source": [
    "## Module organisieren Python-Code\n",
    "\n",
    "TODO"
   ]
  },
  {
   "attachments": {},
   "cell_type": "markdown",
   "metadata": {},
   "source": [
    "## Virtuelle Roboter zeichnen mit dem Modul Turtle\n",
    "\n",
    "In der Informatik nennt man Grafiken, die dadurch entstehen, dass ein Roboter\n",
    "Linien auf eine Leinwand zeichnet, Turtle-Grafiken. Der Roboter wird dabei mit\n",
    "einfachen Kommandos gesteuert. Beschrieben wird er durch seine Position (x- und\n",
    "y-Koordinaten in einem kartesischen Koordinatensystem) und seine Ausrichtung.\n",
    "Der \"Stift\" des Roboters kann von seinen Eigenschaften her ebenfalls variieren.\n",
    "So können beispielsweise verschiedenfarbige Stifte verwendet werden oder die\n",
    "Linienstärke kann verändert werden.\n",
    "\n",
    "Der Kern von Python enthält bereit ein Modul, um eine solche Turtle-Grafik zu erzeugen. Da wir in dieser Vorlesung mit Jupyter Notebooks arbeiten, verwenden wir jedoch das Modul `ipyturtle3`, das das Turtle-Modul mit Funktionalitäten für Jupyter Notebooks erweitert.\n",
    "\n",
    "**Achtung:\n",
    "Bitte verwenden Sie kein JupyterLab, sondern die klassische Software Jupyter Notebook.**"
   ]
  },
  {
   "attachments": {},
   "cell_type": "markdown",
   "metadata": {},
   "source": [
    "Als erstes importieren wir aus dem `ipyturtle3`-Modul die Kommandos Canvas, TurtleScreen und Turtle. Wir erzeugen mit dem Befehl\n",
    "\n",
    "```python3\n",
    "Canvas(width=500, height=250)\n",
    "``` \n",
    "\n",
    "eine leere Leinwand, die 500 Bildpunkte breit ist und 250 Bildpunkte hoch ist. Bildpunkte werden normalerweise als Pixel bezeichnet, was wiederum mit px abgekürzt wird. Damit wir mit der Leinwand weiter arbeiten können, speichern wir dieses Objekt in der Variablen `leinwand`. Zuletzt lassen wir uns die Leinwand mit dem Befehl `display()` anzeigen.\n",
    "\n",
    "Zusammengesetzt lautet der Code zur Erzeugung einer Leinwand also wie folgt:"
   ]
  },
  {
   "cell_type": "code",
   "execution_count": 1,
   "metadata": {},
   "outputs": [
    {
     "data": {
      "application/vnd.jupyter.widget-view+json": {
       "model_id": "7b60a24a19bd437699135cd53f411130",
       "version_major": 2,
       "version_minor": 0
      },
      "text/plain": [
       "Canvas(height=250, width=500)"
      ]
     },
     "metadata": {},
     "output_type": "display_data"
    }
   ],
   "source": [
    "from ipyturtle3 import Canvas, TurtleScreen, Turtle\n",
    "\n",
    "leinwand = Canvas(width=500, height=250)\n",
    "display(leinwand)"
   ]
  },
  {
   "attachments": {},
   "cell_type": "markdown",
   "metadata": {},
   "source": [
    "Damit der Computer weiß, dass auf dieser Leinwand eine Turtle-Grafik gezeichnet\n",
    "werden soll, platzieren wir über die Leinwand ein Turtle-Feld. Dazu erzeugen wir\n",
    "mit dem Befehl `TurtleScreen()` das Feld und speichern es zur weiteren\n",
    "Verwendung in der Variablen `feld`. Damit das Turtle-Feld auf der Leinwand\n",
    "platziert wird, müssen wir der Erzeugung des Turtle-Feldes die Leinwand als\n",
    "Zusatzinformation hinzufügen."
   ]
  },
  {
   "cell_type": "code",
   "execution_count": 2,
   "metadata": {},
   "outputs": [],
   "source": [
    "feld = TurtleScreen(leinwand)"
   ]
  },
  {
   "attachments": {},
   "cell_type": "markdown",
   "metadata": {},
   "source": [
    "Nun können wir endlich einen Roboter erzeugen und in die Mitte des Feldes setzen\n",
    "lassen."
   ]
  },
  {
   "cell_type": "code",
   "execution_count": 3,
   "metadata": {},
   "outputs": [],
   "source": [
    "robo = Turtle(feld)"
   ]
  },
  {
   "attachments": {},
   "cell_type": "markdown",
   "metadata": {},
   "source": [
    "Um jetzt den kompletten Code zusammen zu haben, wiederholen wir die bisherigen Code-Zeilen in der folgenden Code-Zelle und experimentieren dann in der übernächsten Code-Zelle mit der Steuerung des Roboters. Mit dem Befehl\n",
    "\n",
    "```python3\n",
    "robo.forward(schritte)\n",
    "````\n",
    "\n",
    "wird der Roboter vorwärts bewegt und legt insgesamt `schritte` (gemessen in Pixeln) zurück.\n",
    "\n",
    "Mit den Befehlen \n",
    "\n",
    "```python3\n",
    "robo.left(winkel)\n",
    "```\n",
    "\n",
    "und \n",
    "\n",
    "```python3\n",
    "robo.right(winkel)\n",
    "````\n",
    "\n",
    "wird der Roboter nach links (gegen den Uhrzeigersinn) oder rechts (im\n",
    "Uhrzeigersinn) gedreht. Der Drehwinkel wird durch die Variable `winkel`\n",
    "bestimmt.\n",
    "\n",
    "Wenn Sie das Turtle-Feld wieder auf seinen Ausgangszustand zurücksetzen möchten,\n",
    "führen Sie erneut die Code-Zelle mit der Erzeugung und Initialisierung aus."
   ]
  },
  {
   "cell_type": "code",
   "execution_count": 14,
   "metadata": {},
   "outputs": [
    {
     "data": {
      "application/vnd.jupyter.widget-view+json": {
       "model_id": "e8343ec6b97a4b7db79aaa6671a2cdb9",
       "version_major": 2,
       "version_minor": 0
      },
      "text/plain": [
       "Canvas(height=250, width=500)"
      ]
     },
     "metadata": {},
     "output_type": "display_data"
    }
   ],
   "source": [
    "# Import der benötigten Module\n",
    "from ipyturtle3 import Canvas, TurtleScreen, Turtle\n",
    "\n",
    "# Erzeugung und Anzeige der Leinwand\n",
    "leinwand = Canvas(width=500, height=250)\n",
    "display(leinwand)\n",
    "\n",
    "# Initialisierung des Turtle-Feldes\n",
    "feld = TurtleScreen(leinwand)\n",
    "\n",
    "# Erzeugung eines Roboters mit Namen robo und Platzierung auf dem Feld\n",
    "robo = Turtle(feld)"
   ]
  },
  {
   "cell_type": "code",
   "execution_count": 16,
   "metadata": {},
   "outputs": [
    {
     "ename": "TypeError",
     "evalue": "object of type 'NoneType' has no len()",
     "output_type": "error",
     "traceback": [
      "\u001b[0;31m---------------------------------------------------------------------------\u001b[0m",
      "\u001b[0;31mTypeError\u001b[0m                                 Traceback (most recent call last)",
      "Cell \u001b[0;32mIn[16], line 5\u001b[0m\n\u001b[1;32m      3\u001b[0m robo\u001b[39m.\u001b[39mforward(\u001b[39m50\u001b[39m)\n\u001b[1;32m      4\u001b[0m feld\u001b[39m.\u001b[39mclear()\n\u001b[0;32m----> 5\u001b[0m robo\u001b[39m.\u001b[39;49mforward(\u001b[39m20\u001b[39;49m)\n",
      "File \u001b[0;32m/opt/homebrew/Caskroom/miniconda/base/envs/python39/lib/python3.9/turtle.py:1638\u001b[0m, in \u001b[0;36mTNavigator.forward\u001b[0;34m(self, distance)\u001b[0m\n\u001b[1;32m   1617\u001b[0m \u001b[39mdef\u001b[39;00m \u001b[39mforward\u001b[39m(\u001b[39mself\u001b[39m, distance):\n\u001b[1;32m   1618\u001b[0m     \u001b[39m\"\"\"Move the turtle forward by the specified distance.\u001b[39;00m\n\u001b[1;32m   1619\u001b[0m \n\u001b[1;32m   1620\u001b[0m \u001b[39m    Aliases: forward | fd\u001b[39;00m\n\u001b[0;32m   (...)\u001b[0m\n\u001b[1;32m   1636\u001b[0m \u001b[39m    (-50.00,0.00)\u001b[39;00m\n\u001b[1;32m   1637\u001b[0m \u001b[39m    \"\"\"\u001b[39;00m\n\u001b[0;32m-> 1638\u001b[0m     \u001b[39mself\u001b[39;49m\u001b[39m.\u001b[39;49m_go(distance)\n",
      "File \u001b[0;32m/opt/homebrew/Caskroom/miniconda/base/envs/python39/lib/python3.9/turtle.py:1606\u001b[0m, in \u001b[0;36mTNavigator._go\u001b[0;34m(self, distance)\u001b[0m\n\u001b[1;32m   1604\u001b[0m \u001b[39m\"\"\"move turtle forward by specified distance\"\"\"\u001b[39;00m\n\u001b[1;32m   1605\u001b[0m ende \u001b[39m=\u001b[39m \u001b[39mself\u001b[39m\u001b[39m.\u001b[39m_position \u001b[39m+\u001b[39m \u001b[39mself\u001b[39m\u001b[39m.\u001b[39m_orient \u001b[39m*\u001b[39m distance\n\u001b[0;32m-> 1606\u001b[0m \u001b[39mself\u001b[39;49m\u001b[39m.\u001b[39;49m_goto(ende)\n",
      "File \u001b[0;32m/opt/homebrew/Caskroom/miniconda/base/envs/python39/lib/python3.9/turtle.py:3160\u001b[0m, in \u001b[0;36mRawTurtle._goto\u001b[0;34m(self, end)\u001b[0m\n\u001b[1;32m   3152\u001b[0m go_modes \u001b[39m=\u001b[39m ( \u001b[39mself\u001b[39m\u001b[39m.\u001b[39m_drawing,\n\u001b[1;32m   3153\u001b[0m              \u001b[39mself\u001b[39m\u001b[39m.\u001b[39m_pencolor,\n\u001b[1;32m   3154\u001b[0m              \u001b[39mself\u001b[39m\u001b[39m.\u001b[39m_pensize,\n\u001b[1;32m   3155\u001b[0m              \u001b[39misinstance\u001b[39m(\u001b[39mself\u001b[39m\u001b[39m.\u001b[39m_fillpath, \u001b[39mlist\u001b[39m))\n\u001b[1;32m   3156\u001b[0m screen \u001b[39m=\u001b[39m \u001b[39mself\u001b[39m\u001b[39m.\u001b[39mscreen\n\u001b[1;32m   3157\u001b[0m undo_entry \u001b[39m=\u001b[39m (\u001b[39m\"\u001b[39m\u001b[39mgo\u001b[39m\u001b[39m\"\u001b[39m, \u001b[39mself\u001b[39m\u001b[39m.\u001b[39m_position, end, go_modes,\n\u001b[1;32m   3158\u001b[0m               (\u001b[39mself\u001b[39m\u001b[39m.\u001b[39mcurrentLineItem,\n\u001b[1;32m   3159\u001b[0m               \u001b[39mself\u001b[39m\u001b[39m.\u001b[39mcurrentLine[:],\n\u001b[0;32m-> 3160\u001b[0m               screen\u001b[39m.\u001b[39;49m_pointlist(\u001b[39mself\u001b[39;49m\u001b[39m.\u001b[39;49mcurrentLineItem),\n\u001b[1;32m   3161\u001b[0m               \u001b[39mself\u001b[39m\u001b[39m.\u001b[39mitems[:])\n\u001b[1;32m   3162\u001b[0m               )\n\u001b[1;32m   3163\u001b[0m \u001b[39mif\u001b[39;00m \u001b[39mself\u001b[39m\u001b[39m.\u001b[39mundobuffer:\n\u001b[1;32m   3164\u001b[0m     \u001b[39mself\u001b[39m\u001b[39m.\u001b[39mundobuffer\u001b[39m.\u001b[39mpush(undo_entry)\n",
      "File \u001b[0;32m/opt/homebrew/Caskroom/miniconda/base/envs/python39/lib/python3.9/turtle.py:755\u001b[0m, in \u001b[0;36mTurtleScreenBase._pointlist\u001b[0;34m(self, item)\u001b[0m\n\u001b[1;32m    747\u001b[0m \u001b[39m\"\"\"returns list of coordinate-pairs of points of item\u001b[39;00m\n\u001b[1;32m    748\u001b[0m \u001b[39mExample (for insiders):\u001b[39;00m\n\u001b[1;32m    749\u001b[0m \u001b[39m>>> from turtle import *\u001b[39;00m\n\u001b[0;32m   (...)\u001b[0m\n\u001b[1;32m    752\u001b[0m \u001b[39m(9.9999999999999982, 0.0)]\u001b[39;00m\n\u001b[1;32m    753\u001b[0m \u001b[39m>>> \"\"\"\u001b[39;00m\n\u001b[1;32m    754\u001b[0m cl \u001b[39m=\u001b[39m \u001b[39mself\u001b[39m\u001b[39m.\u001b[39mcv\u001b[39m.\u001b[39mcoords(item)\n\u001b[0;32m--> 755\u001b[0m pl \u001b[39m=\u001b[39m [(cl[i], \u001b[39m-\u001b[39mcl[i\u001b[39m+\u001b[39m\u001b[39m1\u001b[39m]) \u001b[39mfor\u001b[39;00m i \u001b[39min\u001b[39;00m \u001b[39mrange\u001b[39m(\u001b[39m0\u001b[39m, \u001b[39mlen\u001b[39;49m(cl), \u001b[39m2\u001b[39m)]\n\u001b[1;32m    756\u001b[0m \u001b[39mreturn\u001b[39;00m  pl\n",
      "\u001b[0;31mTypeError\u001b[0m: object of type 'NoneType' has no len()"
     ]
    }
   ],
   "source": [
    "robo.forward(100)\n",
    "robo.left(120)\n",
    "robo.forward(50)"
   ]
  },
  {
   "attachments": {},
   "cell_type": "markdown",
   "metadata": {},
   "source": [
    "```{admonition} Mini-Übung\n",
    ":class: miniexercise\n",
    "Erzeugen Sie ein Rechteck der Länge 200 px und Höhe 100 px. Am Ende soll der Roboter in die ursprüngliche Richtung hin ausgerichtet sein, also nach Osten bzw. rechts.\n",
    "```"
   ]
  },
  {
   "attachments": {},
   "cell_type": "markdown",
   "metadata": {},
   "source": [
    "````{admonition} Lösung\n",
    ":class: minisolution, toggle\n",
    "```python\n",
    "robo.forward(200)\n",
    "robo.left(90)\n",
    "robo.forward(100)\n",
    "robo.left(90)\n",
    "robo.forward(200)\n",
    "robo.left(90)\n",
    "robo.forward(100)\n",
    "robo.left(90)\n",
    "```\n",
    "Anmerkung: natürlich hätten wir den Roboter auch viermal nach rechts drehen lassen können.\n",
    "````"
   ]
  }
 ],
 "metadata": {
  "kernelspec": {
   "display_name": "python39",
   "language": "python",
   "name": "python3"
  },
  "language_info": {
   "codemirror_mode": {
    "name": "ipython",
    "version": 3
   },
   "file_extension": ".py",
   "mimetype": "text/x-python",
   "name": "python",
   "nbconvert_exporter": "python",
   "pygments_lexer": "ipython3",
   "version": "3.9.15"
  },
  "orig_nbformat": 4,
  "vscode": {
   "interpreter": {
    "hash": "502e30c89ac744ede490eeeb6f7e63ddbf7b044ca990d418a4738702fff7139e"
   }
  }
 },
 "nbformat": 4,
 "nbformat_minor": 2
}
