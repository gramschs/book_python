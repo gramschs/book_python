{
 "cells": [
  {
   "attachments": {},
   "cell_type": "markdown",
   "metadata": {},
   "source": [
    "# Das Modul Turtle\n",
    "\n",
    "```{admonition} Lernziele\n",
    ":class: hint\n",
    "* TODO\n",
    "```"
   ]
  },
  {
   "attachments": {},
   "cell_type": "markdown",
   "metadata": {},
   "source": [
    "## Virtuelle Roboter zeichnen mit dem Modul Turtle\n",
    "\n",
    "In der Informatik nennt man Grafiken, die dadurch entstehen, dass ein Roboter\n",
    "Linien auf eine Leinwand zeichnet, Turtle-Grafiken. Der Roboter wird dabei mit\n",
    "einfachen Kommandos gesteuert. Beschrieben wird er durch seine Position (x- und\n",
    "y-Koordinaten in einem kartesischen Koordinatensystem) und seine Ausrichtung.\n",
    "Der \"Stift\" des Roboters kann von seinen Eigenschaften her ebenfalls variieren.\n",
    "So können beispielsweise verschiedenfarbige Stifte verwendet werden oder die\n",
    "Linienstärke kann verändert werden.\n",
    "\n",
    "Der Kern von Python enthält bereit ein Modul, um eine solche Turtle-Grafik zu erzeugen. Da wir in dieser Vorlesung mit Jupyter Notebooks arbeiten, verwenden wir jedoch das Modul `ipyturtle3`, das das Turtle-Modul mit Funktionalitäten für Jupyter Notebooks erweitert.\n",
    "\n",
    "**Achtung:\n",
    "Bitte verwenden Sie kein JupyterLab, sondern die klassische Software Jupyter Notebook.**"
   ]
  },
  {
   "attachments": {},
   "cell_type": "markdown",
   "metadata": {},
   "source": [
    "Als erstes importieren wir aus dem `ipyturtle3`-Modul die Kommandos Canvas, TurtleScreen und Turtle. Wir erzeugen mit dem Befehl\n",
    "\n",
    "```python3\n",
    "Canvas(width=500, height=250)\n",
    "``` \n",
    "\n",
    "eine leere Leinwand, die 500 Bildpunkte breit ist und 250 Bildpunkte hoch ist. Bildpunkte werden normalerweise als Pixel bezeichnet, was wiederum mit px abgekürzt wird. Damit wir mit der Leinwand weiter arbeiten können, speichern wir dieses Objekt in der Variablen `leinwand`. Zuletzt lassen wir uns die Leinwand mit dem Befehl `display()` anzeigen.\n",
    "\n",
    "Zusammengesetzt lautet der Code zur Erzeugung einer Leinwand also wie folgt:"
   ]
  },
  {
   "cell_type": "code",
   "execution_count": null,
   "metadata": {},
   "outputs": [],
   "source": [
    "from ipyturtle3 import Canvas, TurtleScreen, Turtle\n",
    "\n",
    "leinwand = Canvas(width=500, height=250)\n",
    "display(leinwand)"
   ]
  },
  {
   "attachments": {},
   "cell_type": "markdown",
   "metadata": {},
   "source": [
    "Damit der Computer weiß, dass auf dieser Leinwand eine Turtle-Grafik gezeichnet\n",
    "werden soll, platzieren wir über die Leinwand ein Turtle-Feld. Dazu erzeugen wir\n",
    "mit dem Befehl `TurtleScreen()` das Feld und speichern es zur weiteren\n",
    "Verwendung in der Variablen `feld`. Damit das Turtle-Feld auf der Leinwand\n",
    "platziert wird, müssen wir der Erzeugung des Turtle-Feldes die Leinwand als\n",
    "Zusatzinformation hinzufügen."
   ]
  },
  {
   "cell_type": "code",
   "execution_count": null,
   "metadata": {},
   "outputs": [],
   "source": [
    "feld = TurtleScreen(leinwand)"
   ]
  },
  {
   "attachments": {},
   "cell_type": "markdown",
   "metadata": {},
   "source": [
    "Nun können wir endlich einen Roboter erzeugen und in die Mitte des Feldes setzen\n",
    "lassen."
   ]
  },
  {
   "cell_type": "code",
   "execution_count": null,
   "metadata": {},
   "outputs": [],
   "source": [
    "robo = Turtle(feld)"
   ]
  },
  {
   "attachments": {},
   "cell_type": "markdown",
   "metadata": {},
   "source": [
    "Um jetzt den kompletten Code zusammen zu haben, wiederholen wir die bisherigen Code-Zeilen in der folgenden Code-Zelle und experimentieren dann in der übernächsten Code-Zelle mit der Steuerung des Roboters. Mit dem Befehl\n",
    "\n",
    "```python3\n",
    "robo.forward(schritte)\n",
    "````\n",
    "\n",
    "wird der Roboter vorwärts bewegt und legt insgesamt `schritte` (gemessen in Pixeln) zurück.\n",
    "\n",
    "Mit den Befehlen \n",
    "\n",
    "```python3\n",
    "robo.left(winkel)\n",
    "```\n",
    "\n",
    "und \n",
    "\n",
    "```python3\n",
    "robo.right(winkel)\n",
    "````\n",
    "\n",
    "wird der Roboter nach links (gegen den Uhrzeigersinn) oder rechts (im\n",
    "Uhrzeigersinn) gedreht. Der Drehwinkel wird durch die Variable `winkel`\n",
    "bestimmt.\n",
    "\n",
    "Wenn Sie das Turtle-Feld wieder auf seinen Ausgangszustand zurücksetzen möchten,\n",
    "führen Sie erneut die Code-Zelle mit der Erzeugung und Initialisierung aus."
   ]
  },
  {
   "cell_type": "code",
   "execution_count": null,
   "metadata": {},
   "outputs": [],
   "source": [
    "# Import der benötigten Module\n",
    "from ipyturtle3 import Canvas, TurtleScreen, Turtle\n",
    "\n",
    "# Erzeugung und Anzeige der Leinwand\n",
    "leinwand = Canvas(width=500, height=250)\n",
    "display(leinwand)\n",
    "\n",
    "# Initialisierung des Turtle-Feldes\n",
    "feld = TurtleScreen(leinwand)\n",
    "\n",
    "# Erzeugung eines Roboters mit Namen robo und Platzierung auf dem Feld\n",
    "robo = Turtle(feld)"
   ]
  },
  {
   "cell_type": "code",
   "execution_count": null,
   "metadata": {},
   "outputs": [],
   "source": [
    "robo.forward(100)\n",
    "robo.left(120)\n",
    "robo.forward(50)"
   ]
  },
  {
   "attachments": {},
   "cell_type": "markdown",
   "metadata": {},
   "source": [
    "```{admonition} Mini-Übung\n",
    ":class: miniexercise\n",
    "Erzeugen Sie ein Rechteck der Länge 200 px und Höhe 100 px. Am Ende soll der Roboter in die ursprüngliche Richtung hin ausgerichtet sein, also nach Osten bzw. rechts.\n",
    "```"
   ]
  },
  {
   "attachments": {},
   "cell_type": "markdown",
   "metadata": {},
   "source": [
    "````{admonition} Lösung\n",
    ":class: minisolution, toggle\n",
    "```python\n",
    "robo.forward(200)\n",
    "robo.left(90)\n",
    "robo.forward(100)\n",
    "robo.left(90)\n",
    "robo.forward(200)\n",
    "robo.left(90)\n",
    "robo.forward(100)\n",
    "robo.left(90)\n",
    "```\n",
    "Anmerkung: natürlich hätten wir den Roboter auch viermal nach rechts drehen lassen können.\n",
    "````"
   ]
  }
 ],
 "metadata": {
  "kernelspec": {
   "display_name": "turtle",
   "language": "python",
   "name": "python3"
  },
  "language_info": {
   "name": "python",
   "version": "3.10.8"
  },
  "orig_nbformat": 4,
  "vscode": {
   "interpreter": {
    "hash": "16275fca663e32c106d20bcf6c285993a460d839f327eae28e75507b786215eb"
   }
  }
 },
 "nbformat": 4,
 "nbformat_minor": 2
}
