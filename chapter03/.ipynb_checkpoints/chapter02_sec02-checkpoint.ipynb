{
 "cells": [
  {
   "cell_type": "markdown",
   "metadata": {},
   "source": [
    "# Zählschleifen (for) mit Liste\n",
    "\n",
    "In der Praxis kommt es oft vor, dass wir von vornherein wissen, wie oft wir eine\n",
    "Handlung wiederholen wollen. Beispielsweise soll in einem Verein darüber\n",
    "abgestimmt werde, ob Anna oder Bob zukünftig die Kasse verwalten soll. Alle\n",
    "Vereinsmitglieder schreiben einen der beiden Namen auf einen Zettel und werfen\n",
    "ihn in die Wahlurne. Jetzt beginnt die Wiederholung. Charlie greift in die Urne,\n",
    "zieht einen Zettel heraus, liest den Namen vor und macht dann entweder bei Anna\n",
    "oder bei Bob einen Strich auf dem Flipboard. Solange Zettel in der Urne sind,\n",
    "wird diese Prozedur wiederholt. Wenn wir aber bereits vorher wissen, dass 12\n",
    "Vereinsmitglieder abgestimmt haben, so wird Charlie 12 x diese Prozedur\n",
    "wiederholen. In diesem Fall bietet sich die Umsetzung als sogenannte\n",
    "Zählschleife an.\n",
    "\n",
    "In Python gibt es zwei Varianten von Zählschleifen. Zum einen die Zählschleife,\n",
    "bei der Elemente einer Liste abgearbeitet werden. Zum anderen die Zählschleife\n",
    "mit einem Zahlenbereich. In diesem Abschnitt behandeln wir Zählschleife mit\n",
    "einer Liste.\n",
    "\n",
    "```{admonition} Lernziele\n",
    ":class: hint\n",
    "* TODO\n",
    "```\n"
   ]
  },
  {
   "cell_type": "markdown",
   "metadata": {},
   "source": [
    "## Liste\n",
    "\n",
    "In der Mathematik gibt es den Begriff der **Menge**. Eine Menge ist eine Ansammlung von Objekten. In Python können wir Mengen durch eine **Liste** repräsentieren. Dazu schreiben wir die Sammlung von Objekten einfach in eckigen Klammern.\n",
    "\n",
    "Die Sammlung der Objekte 2, 4, 6, 8, 10 würde in Python also geschrieben werden als\n",
    "\n",
    "```python3\n",
    "[2, 4, 6, 8, 10]\n",
    "````\n",
    "\n",
    "Wir können die Liste auch in einer Variablen speichern und mit der `print()`-Funktion ausgeben lassen."
   ]
  },
  {
   "cell_type": "code",
   "execution_count": 1,
   "metadata": {},
   "outputs": [
    {
     "name": "stdout",
     "output_type": "stream",
     "text": [
      "[2, 4, 6, 8, 10]\n"
     ]
    }
   ],
   "source": [
    "meine_liste = [2, 4, 6, 8, 10]\n",
    "print(meine_liste)"
   ]
  },
  {
   "cell_type": "markdown",
   "metadata": {},
   "source": [
    "Wir können nicht nur Listen mit ganzen Zahlen bilden, sondern auch beispielsweise Floats oder Strings verwenden oder gar mischen:"
   ]
  },
  {
   "cell_type": "code",
   "execution_count": 2,
   "metadata": {},
   "outputs": [
    {
     "name": "stdout",
     "output_type": "stream",
     "text": [
      "[1, 2, 3.8, -17.3, 'drei']\n"
     ]
    }
   ],
   "source": [
    "meine_zweite_liste = [1, 2, 3.8, -17.3, 'drei']\n",
    "print(meine_zweite_liste)"
   ]
  },
  {
   "cell_type": "markdown",
   "metadata": {},
   "source": [
    "Dem Thema Listen werden wir noch ein eigenes Kapitel widmen. Vorerst belassen\n",
    "wir es dabei und verwenden nun die Listen innerhalb einer Zählschleife."
   ]
  },
  {
   "cell_type": "markdown",
   "metadata": {},
   "source": [
    "## Grammatik der for-Schleife mit Liste\n",
    "\n",
    "Die for-Schleife mit Liste hat folgende Syntax (= Grammatik einer Programmiersprache):\n",
    "\n",
    "```python3\n",
    "for element in liste:\n",
    "    anweisungsblock\n",
    "```\n",
    "\n",
    "Eine Schleife beginnt mit dem Schlüsselwort **for**. Danach kommt der Name der sogenannten **Schleifenvariable**, in diesem Fall also `element`. Als nächstes folgt wieder ein Schlüsselwort, nämlich **in** und zuletzt die Liste.\n",
    "\n",
    "Python muss wissen, welche Kommandos für jeden Schleifendurchgang ausgeführt werden sollen. Daher wird die Kopfzeile der Schleife mit einem Doppelpunkt `:` beendet. Danach werden alle Kommandos aufgelistet, die ausgeführt werden sollen. Damit Python weiß, wann es wieder mit dem normalen Programm weitergehen soll, müssen wir dem Python-Interpreter das Ende der Schleife signalisieren. In vielen Programmiersprachen wird das mit dem Schlüsselwort `end` gemacht oder es werden Klammern gesetzt. In Python wird stattdessen mit **Einrückung** gearbeitet. Alle Zeilen, die eingerückt sind, werden in der Schleife wiederholt.\n",
    "\n",
    "Probieren wir es mit einem einfachen Beispiel:\n",
    "\n"
   ]
  },
  {
   "cell_type": "code",
   "execution_count": 3,
   "metadata": {},
   "outputs": [
    {
     "name": "stdout",
     "output_type": "stream",
     "text": [
      "2\n",
      "4\n",
      "6\n",
      "8\n",
      "10\n"
     ]
    }
   ],
   "source": [
    "for i in [2, 4, 6, 8, 10]:\n",
    "    print(i)"
   ]
  },
  {
   "cell_type": "markdown",
   "metadata": {},
   "source": [
    "\n",
    "Es werden nacheinander die Elemente der Menge `[2, 4, 6, 8, 10]` auf dem Bildschirm ausgegeben.\n",
    "\n",
    "Meistens geht es nicht darum, nur etwas einzeln anzuzeigen, sondern die Elemente der Menge zu verarbeiten. Im nächsten Beispiel soll jedes Element der Liste `[4,5,7,11,21` um 2 erhöht und dann angezeigt werden."
   ]
  },
  {
   "cell_type": "code",
   "execution_count": 1,
   "metadata": {},
   "outputs": [
    {
     "name": "stdout",
     "output_type": "stream",
     "text": [
      "6\n",
      "7\n",
      "9\n",
      "13\n",
      "23\n",
      "Ich bin fertig!\n"
     ]
    }
   ],
   "source": [
    "for zahl in [4,5,7,11,21]:\n",
    "    zahl2 = zahl + 2\n",
    "    print(zahl2)\n",
    "\n",
    "print('Ich bin fertig!')"
   ]
  }
 ],
 "metadata": {
  "kernelspec": {
   "display_name": "Python 3",
   "language": "python",
   "name": "python3"
  },
  "language_info": {
   "codemirror_mode": {
    "name": "ipython",
    "version": 3
   },
   "file_extension": ".py",
   "mimetype": "text/x-python",
   "name": "python",
   "nbconvert_exporter": "python",
   "pygments_lexer": "ipython3",
   "version": "3.9.15"
  },
  "vscode": {
   "interpreter": {
    "hash": "502e30c89ac744ede490eeeb6f7e63ddbf7b044ca990d418a4738702fff7139e"
   }
  }
 },
 "nbformat": 4,
 "nbformat_minor": 4
}
