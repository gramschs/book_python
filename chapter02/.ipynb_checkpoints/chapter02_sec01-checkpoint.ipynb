{
 "cells": [
  {
   "cell_type": "markdown",
   "metadata": {},
   "source": [
    "# Listen\n",
    "\n",
    "Bisher haben wir drei verschiedene Datentypen kennengelernt:\n",
    "* Integer (ganze Zahlen),\n",
    "* Floats (Fließkommazahlen) und\n",
    "* Strings (Zeichenketten).\n",
    "\n",
    "Damit können wir einzelne Objekte der realen Welt ganz gut abbilden. Mit einem\n",
    "String können wir den Namen einer Person erfassen, mit einem Integer das Alter\n",
    "der Person und mit einem Float die Körpergröße der Person gemessen in Meter. Was\n",
    "uns aber bisher fehlt ist, eine Sammlung von Namen oder eine Sammlung von\n",
    "Körpergrößen verwalten zu können. Daher werden wir uns in diesem Jupyter\n",
    "Notebook mit Listen beschäftigen.\n",
    "\n",
    "```{admonition} Lernziele\n",
    ":class: hint\n",
    "* TODO\n",
    "```\n"
   ]
  },
  {
   "cell_type": "markdown",
   "metadata": {},
   "source": [
    "## Container für Sammlungen\n",
    "\n",
    "In der Mathematik gibt es den Begriff des Vektors. Einen Vektor kann man als\n",
    "eine Sammlung von Zahlen interpretieren. Dabei müssen Vektoren nicht immer eine\n",
    "geometrische Interpretation haben. Beispielsweise steht der Vektor\n",
    "\n",
    "(116, 144, 199)\n",
    "\n",
    "für ein sehr schönes Blau, wenn die drei Komponenten als die Intensität der\n",
    "Farbanteile Rot - Grün und Blau interpretiert werden. Diese Art Farben zu\n",
    "beschreiben, wird RGB-Wert genannt (siehe auch [Wikipedia →\n",
    "RGB-Farbraum](https://de.wikipedia.org/wiki/RGB-Farbraum)). Die Internetseite\n",
    "[https://www.color-hex.com](https://www.color-hex.com/) ermöglicht es, die\n",
    "RGB-Werte verschiedener Farbtöne zu ermitteln.\n",
    "\n",
    "Wir könnten aber auch eine Namensliste mit den Mitgliedern einer WG führen\n",
    "wollen, z.B. [“Alice”, “Bob”, “Charlie”]. Damit verlassen wir die mathematische\n",
    "Welt der Zahlen und damit des Vektors. Aber auch für diese Anwendungsszenarien\n",
    "wäre es schön, Daten gemeinsam zu sammeln und zu verwalten. \n",
    "\n",
    "Der Fachbegriff für\n",
    "Datentypen, die daür gedacht sind, Daten als Sammlung zu verwalten, ist\n",
    "**Container**. In Python gibt es verschiedene Container:\n",
    "\n",
    "* Listen: list\n",
    "* Tupel: tuple\n",
    "* Dictionaries: dict\n",
    "* Mengen: set\n",
    "\n",
    "Wir behandeln in diesem Abschnitt die Listen.\n"
   ]
  },
  {
   "cell_type": "markdown",
   "metadata": {},
   "source": [
    "## Listen erzeugen mit []\n",
    "\n",
    "Eine Liste wird in Python durch eckige Klammern [  ] erzeugt. Sie finden das\n",
    "Zeichen für die eckige Klammer auf der Taste mit der 8, das Zeichen für die\n",
    "eckige Klammer auf der Taste mit der 9. Zusätzlich müssen Sie die Taste Alt Gr\n",
    "drücken, um die eckigen Klammern auf der Tastatur einzugeben.\n",
    "\n",
    "Betrachten wir ein Beispiel. Hier wird eine Liste mit den Elementen 1, 2, 3, 4,\n",
    "5 erzeugt und dann anschließend in der Variablen `liste_beispiel` gespeichert.\n",
    "Mit der Funktion `print()` lassen wir den Inhalt der Liste ausgeben."
   ]
  },
  {
   "cell_type": "code",
   "execution_count": 1,
   "metadata": {},
   "outputs": [
    {
     "name": "stdout",
     "output_type": "stream",
     "text": [
      "[1, 2, 3, 4, 5]\n"
     ]
    }
   ],
   "source": [
    "liste_beispiel = [1, 2, 3, 4, 5]\n",
    "print(liste_beispiel)"
   ]
  },
  {
   "cell_type": "code",
   "execution_count": null,
   "metadata": {},
   "outputs": [],
   "source": []
  }
 ],
 "metadata": {
  "kernelspec": {
   "display_name": "Python 3 (ipykernel)",
   "language": "python",
   "name": "python3"
  },
  "language_info": {
   "codemirror_mode": {
    "name": "ipython",
    "version": 3
   },
   "file_extension": ".py",
   "mimetype": "text/x-python",
   "name": "python",
   "nbconvert_exporter": "python",
   "pygments_lexer": "ipython3",
   "version": "3.10.9"
  },
  "vscode": {
   "interpreter": {
    "hash": "502e30c89ac744ede490eeeb6f7e63ddbf7b044ca990d418a4738702fff7139e"
   }
  }
 },
 "nbformat": 4,
 "nbformat_minor": 2
}
