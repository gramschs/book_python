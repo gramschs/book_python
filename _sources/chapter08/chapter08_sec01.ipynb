{
 "cells": [
  {
   "cell_type": "markdown",
   "id": "6fa8dc2f",
   "metadata": {},
   "source": [
    "# 8.1 Was sind Klassen und Objekte?\n",
    "\n",
    "100 Studierende mit jeweils fünf Eigenschaften verwalten? Das wären 500 einzelne\n",
    "Variablen, ein Albtraum! Die objektorientierte Programmierung löst dieses\n",
    "Problem: Anstatt Daten und Funktionen getrennt zu behandeln, bündeln wir sie in\n",
    "Objekten. In diesem Kapitel lernen wir, wie das funktioniert.\n",
    "\n",
    "## Lernziele\n",
    "\n",
    "```{admonition} Lernziele\n",
    ":class: goals\n",
    "* Sie verstehen das Konzept der objektorientierten Programmierung (OOP).\n",
    "* Sie können zwischen einer **Klasse** und einem **Objekt** unterscheiden.\n",
    "* Sie können eine einfache Klasse selbst implementieren.\n",
    "* Sie wissen, was ein **Attribut** ist und können darauf lesend und schreibend\n",
    "  zugreifen.\n",
    "```\n",
    "\n",
    "## Konzept\n",
    "\n",
    "Bei der bisherigen prozeduralen Programmierung haben wir Funktionen und Daten\n",
    "getrennt. Daten speichern wir in Variablen. Funktionen arbeiten dabei nach dem\n",
    "EVA-Prinzip: Eingabe – Verarbeitung – Ausgabe. In der Regel erwartet eine\n",
    "Funktion eine Eingabe von Daten, verarbeitet diese Daten und gibt Daten zurück.\n",
    "In vielen Fällen ist die prozedurale Programmierung völlig ausreichend. Diese\n",
    "Herangehensweise stößt an ihre Grenzen, wenn es darum geht, die reale Welt durch\n",
    "komplexere Modelle nachzubilden.\n",
    "\n",
    "Angenommen, wir wollten ein Programm zur Verwaltung von Studierenden schreiben,\n",
    "die an einer Python-Vorlesung teilnehmen. Bereits vor Beginn der Vorlesung\n",
    "müssen sich die Studierenden anmelden, um an der Vorlesung teilnehmen zu können.\n",
    "In dem Formular werden\n",
    "\n",
    "* Nachname\n",
    "* Vorname\n",
    "* Studiengang\n",
    "* Semester\n",
    "* Matrikelnummer\n",
    "\n",
    "abgefragt. Angenommen, es melden sich 20 Studierende für die Python-Vorlesung\n",
    "an. Welchen Datentyp benutzen wir nun zur Erfassung der Anmeldedaten?\n",
    "\n",
    "Eine naheliegende Lösung wäre, für jeden Studierenden separate Variablen\n",
    "anzulegen:\n",
    "\n",
    "```python\n",
    "# Studierende 1\n",
    "nachname_1 = \"Abendrot\"\n",
    "vorname_1 = \"Anna\"\n",
    "studiengang_1 = \"Maschinenbau\"\n",
    "semester_1 = 3\n",
    "matrikelnummer_1 = \"12345678\"\n",
    "\n",
    "# Studierende 2\n",
    "nachname_2 = \"Berliner\"\n",
    "vorname_2 = \"Bob\"\n",
    "studiengang_2 = \"Maschinenbau\"\n",
    "semester_2 = 5\n",
    "matrikelnummer_2 = \"87654321\"\n",
    "\n",
    "# ... und so weiter für alle 20 Studierenden.\n",
    "```\n",
    "\n",
    "Für 20 Studierende benötigen wir 100 Variablen! Das ist nicht nur\n",
    "unübersichtlich, sondern auch unpraktisch. Was passiert, wenn wir später weitere\n",
    "Informationen speichern möchten, wie beispielsweise die Klausurnote? Dann\n",
    "müssten wir 20 weitere Variablen hinzufügen.\n",
    "\n",
    "Eine andere Möglichkeit wäre die Verwendung von Listen:\n",
    "\n",
    "```python\n",
    "nachnamen = [\"Abendrot\", \"Berliner\", \"Colorado\", ...]\n",
    "vornamen = [\"Anna\", \"Bob\", \"Charlie\", ...]\n",
    "studiengänge = [\"Maschinenbau\", \"Maschinenbau\", \"Elektrotechnik\", ...]\n",
    "semester = [3, 5, 2, ...]\n",
    "matrikelnummern = [\"12345678\", \"87654321\", \"11223344\", ...]\n",
    "```\n",
    "\n",
    "Auch hier entstehen Probleme: Der Zusammenhang zwischen den Daten kann leicht\n",
    "verloren gehen. Wenn wir beispielsweise einen Studierenden aus der Liste\n",
    "entfernen möchten, müssen wir daran denken, den entsprechenden Eintrag in\n",
    "allen fünf Listen zu löschen. Vergessen wir eine Liste, stimmen die Daten\n",
    "nicht mehr überein.\n",
    "\n",
    "Eine weitere Möglichkeit wäre, für jeden Studierenden ein Dictionary zu\n",
    "verwenden. Damit könnten wir die Daten folgendermaßen zusammenfassen:\n",
    "\n",
    "```python\n",
    "student1 = {\n",
    "    \"nachname\": \"Abendrot\",\n",
    "    \"vorname\": \"Anna\",\n",
    "    \"studiengang\": \"Maschinenbau\",\n",
    "    \"semester\": 3,\n",
    "    \"matrikelnummer\": \"12345678\"\n",
    "}\n",
    "```\n",
    "\n",
    "Dictionaries sind zwar praktischer als viele einzelne Variablen oder parallele\n",
    "Listen, haben aber auch Grenzen: Wir können zwar Daten bündeln, aber es gibt\n",
    "keine feste Struktur. Tippfehler bei Schlüsseln oder fehlende Einträge fallen\n",
    "erst zur Laufzeit auf. Außerdem können wir Funktionen zwar separat schreiben,\n",
    "sie sind aber nicht automatisch mit den Daten verbunden.\n",
    "\n",
    "Genau hier setzt die objektorientierte Programmierung an. Die Grundidee besteht\n",
    "darin, Daten und die dazugehörigen Funktionen in einer gemeinsamen Struktur zu\n",
    "bündeln.\n",
    "\n",
    "```{dropdown} Video zu \"Konzept der Objektorientierung\" von Programmieren lernen\n",
    "<iframe width=\"560\" height=\"315\" src=\"https://www.youtube.com/embed/46yolPy-2VQ\" \n",
    "title=\"YouTube video player\" frameborder=\"0\" allow=\"accelerometer; autoplay; \n",
    "clipboard-write; encrypted-media; gyroscope; picture-in-picture\" allowfullscreen>\n",
    "</iframe>\n",
    "```\n",
    "\n",
    "## Die Lösung: Eine Klasse für Studierende\n",
    "\n",
    "Die objektorientierte Programmierung löst dieses Problem elegant. Wir erstellen\n",
    "eine sogenannte Klasse, die wie ein Formular oder ein Bauplan funktioniert:"
   ]
  },
  {
   "cell_type": "code",
   "execution_count": 1,
   "id": "542e4fa6",
   "metadata": {},
   "outputs": [],
   "source": [
    "class Student:\n",
    "    def __init__(self, nachname, vorname, studiengang, semester, matrikelnummer):\n",
    "        self.nachname = nachname\n",
    "        self.vorname = vorname\n",
    "        self.studiengang = studiengang\n",
    "        self.semester = semester\n",
    "        self.matrikelnummer = matrikelnummer"
   ]
  },
  {
   "cell_type": "markdown",
   "id": "88871b7e",
   "metadata": {},
   "source": [
    "Mit dieser Klasse können wir nun ganz einfach einzelne Studierende erstellen:"
   ]
  },
  {
   "cell_type": "code",
   "execution_count": 2,
   "id": "88a9164b",
   "metadata": {},
   "outputs": [],
   "source": [
    "# Einzelne Studierende erstellen (= Objekte)\n",
    "student1 = Student(\"Abendrot\", \"Anna\", \"Maschinenbau\", 3, \"12345678\")\n",
    "student2 = Student(\"Berliner\", \"Bob\", \"Maschinenbau\", 5, \"87654321\")\n",
    "student3 = Student(\"Colorado\", \"Charlie\", \"Elektrotechnik\", 2, \"11223344\")"
   ]
  },
  {
   "cell_type": "markdown",
   "id": "eec868d6",
   "metadata": {},
   "source": [
    "Die **Klasse** ist also vergleichbar mit einem Formular, das die Studierenden\n",
    "zur Anmeldung ausfüllen müssen. Das Formular legt fest, welche Daten erhoben\n",
    "werden. Zur Anmeldung wird die Klausurnote beispielsweise nicht abgefragt, auch\n",
    "wenn sich Studierende das vielleicht wünschen würden. Ein **Objekt** dieser\n",
    "Klasse ist dann jeder einzelne Studierende wie beispielsweise `student1` oder\n",
    "`student2` mit den konkreten Daten. Die Eigenschaften, die in diesen Objekten\n",
    "gemäß dem Bauplan gespeichert sind, werden **Attribute** genannt.\n",
    "\n",
    "In diesem Kapitel konzentrieren wir uns zunächst auf Klassen, Objekte und\n",
    "Attribute. Auf Methoden gehen wir im nächsten Kapitel genauer ein, geben aber in\n",
    "der folgenden Zusammenfassung der Grundbegriffe der objektorientierten\n",
    "Programmierung (OOP) schon einmal einen Ausblick auf den Fachbegriff Methode.\n",
    "\n",
    "```{admonition} Grundbegriffe der objektorientierten Programmierung\n",
    ":class: note\n",
    "* Eine **Klasse** ist dabei wie ein Bauplan oder ein Formular: Sie legt fest,\n",
    "  welche Daten und welche Funktionen zu einem bestimmten Typ von Dingen gehören.\n",
    "* Ein **Objekt** ist eine konkrete Ausprägung einer Klasse, sozusagen ein\n",
    "  Exemplar nach dem Bauplan. Ein Objekt »Studierender« enthält also die echten\n",
    "  Angaben einer Person wie Nachname, Vorname und Matrikelnummer.\n",
    "* Die einzelnen Daten, die ein Objekt speichert, nennt man **Attribute**.\n",
    "* Neben Attributen können Klassen auch **Methoden** enthalten. Das sind\n",
    "  Funktionen, die speziell für die Arbeit mit den Objekten gedacht sind.\n",
    "```\n",
    "\n",
    "## Zugriff auf die Daten eines Objekts\n",
    "\n",
    "Nachdem wir ein Objekt erstellt haben, können wir auf seine Attribute (=\n",
    "gespeicherte Daten) zugreifen:"
   ]
  },
  {
   "cell_type": "code",
   "execution_count": 3,
   "id": "be1c84c1",
   "metadata": {},
   "outputs": [
    {
     "name": "stdout",
     "output_type": "stream",
     "text": [
      "Abendrot\n",
      "Anna\n",
      "3\n",
      "4\n",
      "Anna-Lena\n"
     ]
    }
   ],
   "source": [
    "# Objekt erstellen\n",
    "student1 = Student(\"Abendrot\", \"Anna\", \"Maschinenbau\", 3, \"12345678\")\n",
    "\n",
    "# Lesender Zugriff auf Attribute\n",
    "print(student1.nachname)       # Ausgabe: Abendrot\n",
    "print(student1.vorname)        # Ausgabe: Anna\n",
    "print(student1.semester)       # Ausgabe: 3\n",
    "\n",
    "# Schreibender Zugriff - Werte ändern\n",
    "student1.semester = 4          # Anna ist jetzt im 4. Semester\n",
    "student1.vorname = \"Anna-Lena\" # Vorname ändern\n",
    "\n",
    "# Überprüfung der Änderung\n",
    "print(student1.semester)       # Ausgabe: 4\n",
    "print(student1.vorname)        # Ausgabe: Anna-Lena"
   ]
  },
  {
   "cell_type": "markdown",
   "id": "2398e31b",
   "metadata": {},
   "source": [
    "Um auf ein Attribut zuzugreifen, verwenden wir die **Punkt-Notation** bzw. den\n",
    "**Punkt-Operator**:\n",
    "\n",
    "```python\n",
    "objektname.attributname\n",
    "```\n",
    "\n",
    "Jedes Objekt hat seine eigenen Attribute:"
   ]
  },
  {
   "cell_type": "code",
   "execution_count": 4,
   "id": "bca5960a",
   "metadata": {},
   "outputs": [
    {
     "name": "stdout",
     "output_type": "stream",
     "text": [
      "Abendrot\n",
      "Berliner\n"
     ]
    }
   ],
   "source": [
    "print(student1.nachname)  # \"Abendrot\"\n",
    "print(student2.nachname)  # \"Berliner\"\n",
    "# student1 und student2 sind völlig unabhängig voneinander"
   ]
  },
  {
   "cell_type": "markdown",
   "id": "92e4ad96",
   "metadata": {},
   "source": [
    "Schauen wir uns nun die Vorteile an, die Objekte in der Programmierung mit sich\n",
    "bringen.\n",
    "\n",
    "## Vorteile der objektorientierten Lösung\n",
    "\n",
    "**1. Zusammengehörige Daten sind gebündelt:**\n",
    "Alle Informationen zu einem Studierenden sind in einem Objekt gespeichert. Es\n",
    "kann nichts \"durcheinander geraten\":"
   ]
  },
  {
   "cell_type": "code",
   "execution_count": 5,
   "id": "b0c03505",
   "metadata": {},
   "outputs": [
    {
     "name": "stdout",
     "output_type": "stream",
     "text": [
      "Abendrot\n",
      "Anna-Lena\n",
      "Maschinenbau\n"
     ]
    }
   ],
   "source": [
    "print(student1.nachname)       # \"Abendrot\"\n",
    "print(student1.vorname)        # \"Anna\"\n",
    "print(student1.studiengang)    # \"Maschinenbau\""
   ]
  },
  {
   "cell_type": "markdown",
   "id": "66355a02",
   "metadata": {},
   "source": [
    "**2. Einfache Erweiterung:**\n",
    "Neue Eigenschaften können leicht hinzugefügt werden, ohne bestehenden Code\n",
    "zu ändern:"
   ]
  },
  {
   "cell_type": "code",
   "execution_count": 6,
   "id": "d39df0e6",
   "metadata": {},
   "outputs": [],
   "source": [
    "class Student:\n",
    "    def __init__(self, nachname, vorname, studiengang, semester, matrikelnummer):\n",
    "        self.nachname = nachname\n",
    "        self.vorname = vorname\n",
    "        self.studiengang = studiengang\n",
    "        self.semester = semester\n",
    "        self.matrikelnummer = matrikelnummer\n",
    "        self.klausurnote = None  # Neue Eigenschaft"
   ]
  },
  {
   "cell_type": "markdown",
   "id": "8952d161",
   "metadata": {},
   "source": [
    "Da wir nicht wollen, dass die Klausurnote durch die Studierenden bei der\n",
    "Anmeldung gesetzt wird, haben wir diese Eigenschaft im `__init__()`-Abschnitt\n",
    "bewusst weggelassen. Da die Klausurnote erst später vergeben wird, setzen wir\n",
    "sie initial auf `None` (= kein Wert). Es bleibt also bei der alten Methode, ein\n",
    "konkretes Objekt zu erzeugen, wie der folgende Code-Abschnitt zeigt."
   ]
  },
  {
   "cell_type": "code",
   "execution_count": 7,
   "id": "09de0183",
   "metadata": {},
   "outputs": [
    {
     "name": "stdout",
     "output_type": "stream",
     "text": [
      "None\n"
     ]
    }
   ],
   "source": [
    "student1 = Student(\"Abendrot\", \"Anna\", \"Maschinenbau\", 3, \"12345678\")\n",
    "\n",
    "print(student1.klausurnote)"
   ]
  },
  {
   "cell_type": "markdown",
   "id": "d746c875",
   "metadata": {},
   "source": [
    "**3. Übersichtliche Verwaltung vieler Objekte:**\n",
    "Anstatt 100 einzelner Variablen verwenden wir einfach eine Liste von Objekten:"
   ]
  },
  {
   "cell_type": "code",
   "execution_count": 8,
   "id": "7d132b59",
   "metadata": {},
   "outputs": [
    {
     "name": "stdout",
     "output_type": "stream",
     "text": [
      "Anna Abendrot\n",
      "Bob Berliner\n",
      "Charlie Colorado\n"
     ]
    }
   ],
   "source": [
    "# Liste mit Studierenden anlegen\n",
    "studierende = [\n",
    "    Student(\"Abendrot\", \"Anna\", \"Maschinenbau\", 3, \"12345678\"),\n",
    "    Student(\"Berliner\", \"Bob\", \"Maschinenbau\", 5, \"87654321\"),\n",
    "    Student(\"Colorado\", \"Charlie\", \"Elektrotechnik\", 2, \"11223344\")\n",
    "]\n",
    "\n",
    "# alle Namen ausgeben\n",
    "for student in studierende:\n",
    "    print(f\"{student.vorname} {student.nachname}\")"
   ]
  },
  {
   "cell_type": "markdown",
   "id": "7b10f3f1",
   "metadata": {},
   "source": [
    "**4. Wiederverwendbarkeit:**\n",
    "Die Klasse kann in verschiedenen Programmen wiederverwendet werden.\n",
    "\n",
    "```{dropdown} Video zu \"Klassen und Objekte\" von Programmieren lernen\n",
    "<iframe width=\"560\" height=\"315\" src=\"https://www.youtube.com/embed/XxCZrT7Z3G4\" \n",
    "title=\"YouTube video player\" frameborder=\"0\" allow=\"accelerometer; autoplay; \n",
    "clipboard-write; encrypted-media; gyroscope; picture-in-picture\" allowfullscreen>\n",
    "</iframe>\n",
    "```\n",
    "\n",
    "## Zusammenfassung und Ausblick\n",
    "\n",
    "In diesem Kapitel haben wir das Grundkonzept der objektorientierten\n",
    "Programmierung kennengelernt. Wir haben gesehen, dass eine Klasse wie ein\n",
    "Bauplan oder ein Formular funktioniert und daraus Objekte mit konkreten Daten\n",
    "entstehen. Die gespeicherten Informationen heißen Attribute. Im nächsten Kapitel\n",
    "lernen wir die Methoden kennen, also Funktionen, die direkt zu einer Klasse\n",
    "gehören."
   ]
  }
 ],
 "metadata": {
  "jupytext": {
   "formats": "ipynb,md:myst",
   "text_representation": {
    "extension": ".md",
    "format_name": "myst",
    "format_version": 0.13,
    "jupytext_version": "1.13.8"
   }
  },
  "kernelspec": {
   "display_name": "Python 3 (ipykernel)",
   "language": "python",
   "name": "python3"
  },
  "language_info": {
   "codemirror_mode": {
    "name": "ipython",
    "version": 3
   },
   "file_extension": ".py",
   "mimetype": "text/x-python",
   "name": "python",
   "nbconvert_exporter": "python",
   "pygments_lexer": "ipython3",
   "version": "3.12.2"
  },
  "source_map": [
   13,
   134,
   142,
   146,
   151,
   183,
   199,
   210,
   214,
   225,
   229,
   235,
   244,
   252,
   256,
   261,
   272
  ]
 },
 "nbformat": 4,
 "nbformat_minor": 5
}