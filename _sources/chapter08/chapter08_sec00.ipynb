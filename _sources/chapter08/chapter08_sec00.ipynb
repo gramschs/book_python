{
 "cells": [
  {
   "cell_type": "markdown",
   "id": "47b7885b",
   "metadata": {},
   "source": [
    "# 8. Objektorientierte Programmierung\n",
    "\n",
    "Bis hierhin haben wir uns die Grundlagen der Programmierung erarbeitet:\n",
    "\n",
    "* Datentypen (Integer, Float, Bool, String) und Datenstrukturen (List,\n",
    "  Dictionary),\n",
    "* Kontrollstrukturen: Verzeigungen und Schleifen\n",
    "* Funktionen.\n",
    "\n",
    "In einigen Programmiersprachen wie beispielsweise C hätten wir damit auch alle\n",
    "Sprachelement kennengelernt. Diese Programmierung nennt man **prozedurale\n",
    "Programmierung**. Python gehört jedoch zu den objektorientierten\n",
    "Programmiersprachen, so dass wir uns jetzt noch dem Thema Objektorientierung\n",
    "widmen."
   ]
  }
 ],
 "metadata": {
  "jupytext": {
   "formats": "ipynb,md:myst",
   "text_representation": {
    "extension": ".md",
    "format_name": "myst",
    "format_version": 0.13,
    "jupytext_version": "1.13.8"
   }
  },
  "kernelspec": {
   "display_name": "Python 3 (ipykernel)",
   "language": "python",
   "name": "python3"
  },
  "source_map": [
   13
  ]
 },
 "nbformat": 4,
 "nbformat_minor": 5
}