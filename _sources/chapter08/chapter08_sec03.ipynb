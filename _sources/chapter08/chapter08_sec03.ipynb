{
 "cells": [
  {
   "cell_type": "markdown",
   "id": "8e724c9b",
   "metadata": {},
   "source": [
    "# 8.3 OOP in der Praxis\n",
    "\n",
    "Mit Klassen, Objekten und Methoden haben wir die Grundlagen der\n",
    "objektorientierten Programmierung kennengelernt. In diesem Kapitel schauen wir\n",
    "uns an, wie wir diese Konzepte in der Praxis anwenden: Wir verwalten mehrere\n",
    "Objekte in Listen und sorgen dafür, dass unsere Objekte sich schön ausgeben\n",
    "lassen.\n",
    "\n",
    "## Lernziele\n",
    "\n",
    "```{admonition} Lernziele\n",
    ":class: goals\n",
    "* Sie können Objekte in Listen speichern und verwalten.\n",
    "* Sie können Listen von Objekten durchlaufen und durchsuchen.\n",
    "* Sie verstehen die `__str__`-Methode und können sie implementieren.\n",
    "* Sie können ein vollständiges objektorientiertes Programm zur Datenverwaltung erstellen.\n",
    "* Sie verstehen, wie OOP bei der Lösung praktischer Probleme hilft.\n",
    "```\n",
    "\n",
    "## Listen von Objekten verwalten\n",
    "\n",
    "In der Praxis arbeiten wir selten mit nur einem Objekt. Angenommen, wir müssten\n",
    "die Daten aller Studierenden eines Kurses verwalten. Mit einzelnen Variablen\n",
    "wäre das ein Albtraum, aber mit Listen von Objekten wird es elegant und\n",
    "übersichtlich. Listen können nicht nur Zahlen oder Strings enthalten, sondern\n",
    "auch Objekte. Das macht sie zu einem mächtigen Werkzeug für die Datenverwaltung."
   ]
  },
  {
   "cell_type": "code",
   "execution_count": 1,
   "id": "5bfb7b7c",
   "metadata": {},
   "outputs": [
    {
     "name": "stdout",
     "output_type": "stream",
     "text": [
      "Anzahl Studierende: 4\n"
     ]
    }
   ],
   "source": [
    "class Student:\n",
    "    def __init__(self, nachname, vorname, studiengang, semester, matrikelnummer):\n",
    "        self.nachname = nachname\n",
    "        self.vorname = vorname\n",
    "        self.studiengang = studiengang\n",
    "        self.semester = semester\n",
    "        self.matrikelnummer = matrikelnummer\n",
    "\n",
    "# Liste mit mehreren Studierenden erstellen\n",
    "studierende = [\n",
    "    Student(\"Abendrot\", \"Anna\", \"Maschinenbau\", 3, \"12345678\"),\n",
    "    Student(\"Berliner\", \"Bob\", \"Maschinenbau\", 5, \"87654321\"),\n",
    "    Student(\"Colorado\", \"Charlie\", \"Elektrotechnik\", 2, \"11223344\"),\n",
    "    Student(\"Dietrich\", \"Diana\", \"Maschinenbau\", 1, \"99887766\")\n",
    "]\n",
    "\n",
    "print(f\"Anzahl Studierende: {len(studierende)}\")"
   ]
  },
  {
   "cell_type": "markdown",
   "id": "e0a1debc",
   "metadata": {},
   "source": [
    "Mit for-Schleifen können wir einfach über alle Objekte in der Liste iterieren:"
   ]
  },
  {
   "cell_type": "code",
   "execution_count": 2,
   "id": "17ac6acb",
   "metadata": {},
   "outputs": [
    {
     "name": "stdout",
     "output_type": "stream",
     "text": [
      "Hallo Anna Abendrot!\n",
      "Hallo Bob Berliner!\n",
      "Hallo Charlie Colorado!\n",
      "Hallo Diana Dietrich!\n",
      "\n",
      "Anna Abendrot (Maschinenbau)\n",
      "Bob Berliner (Maschinenbau)\n",
      "Charlie Colorado (Elektrotechnik)\n",
      "Diana Dietrich (Maschinenbau)\n"
     ]
    }
   ],
   "source": [
    "# Alle Studierenden begrüßen\n",
    "for student in studierende:\n",
    "    print(f\"Hallo {student.vorname} {student.nachname}!\")\n",
    "\n",
    "print()\n",
    "\n",
    "# Nur die Namen ausgeben\n",
    "for student in studierende:\n",
    "    print(f\"{student.vorname} {student.nachname} ({student.studiengang})\")"
   ]
  },
  {
   "cell_type": "markdown",
   "id": "88ee1e31",
   "metadata": {},
   "source": [
    "Oft müssen wir bestimmte Objekte aus einer Liste herausfiltern oder suchen:"
   ]
  },
  {
   "cell_type": "code",
   "execution_count": 3,
   "id": "95d01e45",
   "metadata": {},
   "outputs": [
    {
     "name": "stdout",
     "output_type": "stream",
     "text": [
      "Gefunden: Bob Berliner\n",
      "\n",
      "Maschinenbau-Studierende:\n",
      "- Anna Abendrot\n",
      "- Bob Berliner\n",
      "- Diana Dietrich\n"
     ]
    }
   ],
   "source": [
    "# Nach einem bestimmten Nachnamen suchen\n",
    "gesuchter_name = \"Berliner\"\n",
    "for student in studierende:\n",
    "    if student.nachname == gesuchter_name:\n",
    "        print(f\"Gefunden: {student.vorname} {student.nachname}\")\n",
    "        break\n",
    "\n",
    "print()\n",
    "\n",
    "# Alle Maschinenbau-Studierenden finden\n",
    "maschinenbauer = []\n",
    "for student in studierende:\n",
    "    if student.studiengang == \"Maschinenbau\":\n",
    "        maschinenbauer.append(student)\n",
    "\n",
    "print(\"Maschinenbau-Studierende:\")\n",
    "for student in maschinenbauer:\n",
    "    print(f\"- {student.vorname} {student.nachname}\")"
   ]
  },
  {
   "cell_type": "markdown",
   "id": "91258ddc",
   "metadata": {},
   "source": [
    "```{admonition} Mini-Übung\n",
    ":class: miniexercise\n",
    "Schreiben Sie Code, der alle Studierenden im 3. Semester oder höher findet und\n",
    "deren Namen ausgibt. Verwenden Sie die bereits erstellte `studierende`-Liste.\n",
    "```"
   ]
  },
  {
   "cell_type": "code",
   "execution_count": 4,
   "id": "a01a6e9a",
   "metadata": {},
   "outputs": [],
   "source": [
    "# Geben Sie nach diesem Kommentar Ihren Code ein:\n"
   ]
  },
  {
   "cell_type": "markdown",
   "id": "65055976",
   "metadata": {},
   "source": [
    "````{admonition} Lösung\n",
    ":class: miniexercise, toggle\n",
    "```python\n",
    "# Studierende im 3. Semester oder höher\n",
    "hoeheres_semester = []\n",
    "for student in studierende:\n",
    "    if student.semester >= 3:\n",
    "        hoeheres_semester.append(student)\n",
    "\n",
    "print(\"Studierende im 3. Semester oder höher:\")\n",
    "for student in hoeheres_semester:\n",
    "    print(f\"- {student.vorname} {student.nachname} ({student.semester}. Semester)\")\n",
    "```\n",
    "````\n",
    "\n",
    "## Die __str__-Methode für schöne Ausgabe\n",
    "\n",
    "Wenn wir Objekte mit `print()` ausgeben, erhalten wir oft kryptische Meldungen\n",
    "statt nützlicher Informationen. Die `__str__`-Methode löst dieses Problem\n",
    "elegant.\n",
    "\n",
    "Schauen wir uns an, was passiert, wenn wir ein Objekt direkt ausgeben:"
   ]
  },
  {
   "cell_type": "code",
   "execution_count": 5,
   "id": "08870c6a",
   "metadata": {},
   "outputs": [
    {
     "name": "stdout",
     "output_type": "stream",
     "text": [
      "<__main__.Student object at 0x1042b4c20>\n"
     ]
    }
   ],
   "source": [
    "class Student:\n",
    "    def __init__(self, nachname, vorname, studiengang, semester, matrikelnummer):\n",
    "        self.nachname = nachname\n",
    "        self.vorname = vorname\n",
    "        self.studiengang = studiengang\n",
    "        self.semester = semester\n",
    "        self.matrikelnummer = matrikelnummer\n",
    "\n",
    "student = Student(\"Müller\", \"Max\", \"Maschinenbau\", 3, \"12345678\")\n",
    "print(student)  # Kryptische Ausgabe wie <__main__.Student object at 0x...>"
   ]
  },
  {
   "cell_type": "markdown",
   "id": "c8d09b55",
   "metadata": {},
   "source": [
    "Das ist nicht sehr hilfreich! Python zeigt nur den Objekttyp und eine\n",
    "Speicheradresse an.\n",
    "\n",
    "Die `__str__`-Methode ist eine spezielle Methode, die Python automatisch aufruft, wenn ein Objekt als String dargestellt werden soll:"
   ]
  },
  {
   "cell_type": "code",
   "execution_count": 6,
   "id": "ba0bbffd",
   "metadata": {},
   "outputs": [
    {
     "name": "stdout",
     "output_type": "stream",
     "text": [
      "Max Müller (Maschinenbau, 3. Semester)\n"
     ]
    }
   ],
   "source": [
    "class Student:\n",
    "    def __init__(self, nachname, vorname, studiengang, semester, matrikelnummer):\n",
    "        self.nachname = nachname\n",
    "        self.vorname = vorname\n",
    "        self.studiengang = studiengang\n",
    "        self.semester = semester\n",
    "        self.matrikelnummer = matrikelnummer\n",
    "    \n",
    "    def __str__(self):\n",
    "        return f\"{self.vorname} {self.nachname} ({self.studiengang}, {self.semester}. Semester)\"\n",
    "\n",
    "student = Student(\"Müller\", \"Max\", \"Maschinenbau\", 3, \"12345678\")\n",
    "print(student)  # Jetzt: Max Müller (Maschinenbau, 3. Semester)"
   ]
  },
  {
   "cell_type": "markdown",
   "id": "838d5e2d",
   "metadata": {},
   "source": [
    "Der Unterschied wird besonders bei Listen von Objekten deutlich:"
   ]
  },
  {
   "cell_type": "code",
   "execution_count": 7,
   "id": "68c31d4b",
   "metadata": {},
   "outputs": [
    {
     "name": "stdout",
     "output_type": "stream",
     "text": [
      "Ohne __str__:\n",
      "<__main__.StudentOhne object at 0x104295970>\n",
      "\n",
      "Mit __str__:\n",
      "Sarah Schmidt\n",
      "\n",
      "Liste ohne __str__: [<__main__.StudentOhne object at 0x1042b4c50>, <__main__.StudentOhne object at 0x1042b4c20>]\n",
      "Liste mit __str__: [<__main__.StudentMit object at 0x1042b4ce0>, <__main__.StudentMit object at 0x1042b5a00>]\n"
     ]
    }
   ],
   "source": [
    "# Ohne __str__-Methode\n",
    "class StudentOhne:\n",
    "    def __init__(self, nachname, vorname):\n",
    "        self.nachname = nachname\n",
    "        self.vorname = vorname\n",
    "\n",
    "# Mit __str__-Methode  \n",
    "class StudentMit:\n",
    "    def __init__(self, nachname, vorname):\n",
    "        self.nachname = nachname\n",
    "        self.vorname = vorname\n",
    "    \n",
    "    def __str__(self):\n",
    "        return f\"{self.vorname} {self.nachname}\"\n",
    "\n",
    "student_ohne = StudentOhne(\"Schmidt\", \"Sarah\")\n",
    "student_mit = StudentMit(\"Schmidt\", \"Sarah\")\n",
    "\n",
    "print(\"Ohne __str__:\")\n",
    "print(student_ohne)\n",
    "\n",
    "print(\"\\nMit __str__:\")\n",
    "print(student_mit)\n",
    "\n",
    "# Bei Listen wird der Unterschied noch deutlicher\n",
    "liste_ohne = [StudentOhne(\"Müller\", \"Max\"), StudentOhne(\"Weber\", \"Lisa\")]\n",
    "liste_mit = [StudentMit(\"Müller\", \"Max\"), StudentMit(\"Weber\", \"Lisa\")]\n",
    "\n",
    "print(f\"\\nListe ohne __str__: {liste_ohne}\")\n",
    "print(f\"Liste mit __str__: {liste_mit}\")"
   ]
  },
  {
   "cell_type": "markdown",
   "id": "57f170b1",
   "metadata": {},
   "source": [
    "Eine gute `__str__`-Methode sollte:\n",
    "\n",
    "* kurz und informativ sein,\n",
    "* die wichtigsten Informationen** enthalten und\n",
    "* für Menschen lesbar sein.\n",
    "\n",
    "```{admonition} Mini-Übung\n",
    ":class: miniexercise\n",
    "Erweitern Sie die Student-Klasse um eine `__str__`-Methode, die den Namen und\n",
    "das Semester in der Form \"Anna Abendrot (3. Semester)\" ausgibt. Testen Sie Ihre\n",
    "Lösung mit mindestens zwei Objekten.\n",
    "```"
   ]
  },
  {
   "cell_type": "code",
   "execution_count": 8,
   "id": "45bb38a4",
   "metadata": {},
   "outputs": [],
   "source": [
    "# Geben Sie nach diesem Kommentar Ihren Code ein:\n"
   ]
  },
  {
   "cell_type": "markdown",
   "id": "9e835345",
   "metadata": {},
   "source": [
    "````{admonition} Lösung\n",
    ":class: miniexercise, toggle\n",
    "```python\n",
    "class Student:\n",
    "    def __init__(self, nachname, vorname, studiengang, semester, matrikelnummer):\n",
    "        self.nachname = nachname\n",
    "        self.vorname = vorname\n",
    "        self.studiengang = studiengang\n",
    "        self.semester = semester\n",
    "        self.matrikelnummer = matrikelnummer\n",
    "    \n",
    "    def __str__(self):\n",
    "        return f\"{self.vorname} {self.nachname} ({self.semester}. Semester)\"\n",
    "\n",
    "# Test der Lösung\n",
    "student1 = Student(\"Abendrot\", \"Anna\", \"Maschinenbau\", 3, \"12345678\")\n",
    "student2 = Student(\"Berliner\", \"Bob\", \"Elektrotechnik\", 1, \"87654321\")\n",
    "\n",
    "print(student1)  # Anna Abendrot (3. Semester)\n",
    "print(student2)  # Bob Berliner (1. Semester)\n",
    "```\n",
    "````\n",
    "\n",
    "## Ein vollständiges Beispiel: Kursverwaltung\n",
    "\n",
    "Jetzt bringen wir alles zusammen: Eine vollständige Student-Klasse mit allen\n",
    "gelernten Methoden und eine praktische Kursverwaltung, die zeigt, wie mächtig\n",
    "OOP in der Praxis ist."
   ]
  },
  {
   "cell_type": "code",
   "execution_count": 9,
   "id": "40525b9f",
   "metadata": {},
   "outputs": [],
   "source": [
    "class Student:\n",
    "    def __init__(self, nachname, vorname, studiengang, semester, matrikelnummer):\n",
    "        self.nachname = nachname\n",
    "        self.vorname = vorname\n",
    "        self.studiengang = studiengang\n",
    "        self.semester = semester\n",
    "        self.matrikelnummer = matrikelnummer\n",
    "        self.noten = []\n",
    "    \n",
    "    def __str__(self):\n",
    "        return f\"{self.vorname} {self.nachname} ({self.studiengang}, {self.semester}. Sem)\"\n",
    "    \n",
    "    def vollstaendiger_name(self):\n",
    "        return f\"{self.vorname} {self.nachname}\"\n",
    "    \n",
    "    def note_hinzufuegen(self, note):\n",
    "        self.noten.append(note)\n",
    "    \n",
    "    def notendurchschnitt(self):\n",
    "        if len(self.noten) == 0:\n",
    "            return 0.0\n",
    "        return sum(self.noten) / len(self.noten)\n",
    "    \n",
    "    def semester_erhoehen(self):\n",
    "        self.semester += 1"
   ]
  },
  {
   "cell_type": "markdown",
   "id": "4cc9d9b5",
   "metadata": {},
   "source": [
    "Wir erstellen nun den Kurs mit den teilnehmenden Studierenden und lassen alle\n",
    "anzeigen."
   ]
  },
  {
   "cell_type": "code",
   "execution_count": 10,
   "id": "ccde4bb7",
   "metadata": {},
   "outputs": [
    {
     "name": "stdout",
     "output_type": "stream",
     "text": [
      "=== Python-Kurs Teilnehmer ===\n",
      "- Anna Abendrot (Maschinenbau, 3. Sem)\n",
      "- Bob Berliner (Maschinenbau, 5. Sem)\n",
      "- Charlie Colorado (Elektrotechnik, 2. Sem)\n",
      "- Diana Dietrich (Informatik, 1. Sem)\n",
      "- Emil Eberhard (Maschinenbau, 4. Sem)\n",
      "\n",
      "Gesamtzahl: 5 Studierende\n"
     ]
    }
   ],
   "source": [
    "# Kurs erstellen und mit Studierenden füllen\n",
    "python_kurs = [\n",
    "    Student(\"Abendrot\", \"Anna\", \"Maschinenbau\", 3, \"12345678\"),\n",
    "    Student(\"Berliner\", \"Bob\", \"Maschinenbau\", 5, \"87654321\"),\n",
    "    Student(\"Colorado\", \"Charlie\", \"Elektrotechnik\", 2, \"11223344\"),\n",
    "    Student(\"Dietrich\", \"Diana\", \"Informatik\", 1, \"99887766\"),\n",
    "    Student(\"Eberhard\", \"Emil\", \"Maschinenbau\", 4, \"55443322\")\n",
    "]\n",
    "\n",
    "# Alle Kursteilnehmer anzeigen\n",
    "print(\"=== Python-Kurs Teilnehmer ===\")\n",
    "for student in python_kurs:\n",
    "    print(f\"- {student}\")\n",
    "\n",
    "print(f\"\\nGesamtzahl: {len(python_kurs)} Studierende\")"
   ]
  },
  {
   "cell_type": "markdown",
   "id": "904cae7f",
   "metadata": {},
   "source": [
    "Wir können nun nach dem Studiengang filtern, das durchschnittliche Semester\n",
    "berechnen oder Noten verwalten."
   ]
  },
  {
   "cell_type": "code",
   "execution_count": 11,
   "id": "a5fa846a",
   "metadata": {},
   "outputs": [
    {
     "name": "stdout",
     "output_type": "stream",
     "text": [
      "\n",
      "=== Maschinenbau-Studierende (3) ===\n",
      "- Anna Abendrot (Maschinenbau, 3. Sem)\n",
      "- Bob Berliner (Maschinenbau, 5. Sem)\n",
      "- Emil Eberhard (Maschinenbau, 4. Sem)\n",
      "\n",
      "Durchschnittliches Semester: 3.0\n",
      "\n",
      "=== Noten eintragen ===\n",
      "Anna Abendrot: Durchschnitt 2.0\n",
      "Bob Berliner: Durchschnitt 2.0\n"
     ]
    }
   ],
   "source": [
    "# Nach Studiengang filtern\n",
    "def studierende_nach_studiengang(studierende, studiengang):\n",
    "    gefunden = []\n",
    "    for student in studierende:\n",
    "        if student.studiengang == studiengang:\n",
    "            gefunden.append(student)\n",
    "    return gefunden\n",
    "\n",
    "maschinenbauer = studierende_nach_studiengang(python_kurs, \"Maschinenbau\")\n",
    "print(f\"\\n=== Maschinenbau-Studierende ({len(maschinenbauer)}) ===\")\n",
    "for student in maschinenbauer:\n",
    "    print(f\"- {student}\")\n",
    "\n",
    "# Durchschnittliches Semester berechnen\n",
    "semester_summe = 0\n",
    "for student in python_kurs:\n",
    "    semester_summe = semester_summe + student.semester\n",
    "durchschnitt_semester = semester_summe / len(python_kurs)\n",
    "print(f\"\\nDurchschnittliches Semester: {durchschnitt_semester:.1f}\")\n",
    "\n",
    "# Noten verwalten (Beispiel)\n",
    "print(\"\\n=== Noten eintragen ===\")\n",
    "python_kurs[0].note_hinzufuegen(1.7)  # Anna\n",
    "python_kurs[0].note_hinzufuegen(2.3)\n",
    "python_kurs[1].note_hinzufuegen(2.0)  # Bob\n",
    "\n",
    "print(f\"{python_kurs[0].vollstaendiger_name()}: Durchschnitt {python_kurs[0].notendurchschnitt():.1f}\")\n",
    "print(f\"{python_kurs[1].vollstaendiger_name()}: Durchschnitt {python_kurs[1].notendurchschnitt():.1f}\")"
   ]
  },
  {
   "cell_type": "markdown",
   "id": "a557b57d",
   "metadata": {},
   "source": [
    "Interessant für eine Kursverwaltung sind statistische Auswertungen."
   ]
  },
  {
   "cell_type": "code",
   "execution_count": 12,
   "id": "cf516db7",
   "metadata": {},
   "outputs": [
    {
     "name": "stdout",
     "output_type": "stream",
     "text": [
      "=== KURS-STATISTIK ===\n",
      "Teilnehmer gesamt: 5\n",
      "Maschinenbau-Studierende: 3\n",
      "Semester-Spanne: 1. bis 5. Semester\n",
      "\n",
      "=== SUCHE ===\n",
      "Gefunden: Bob Berliner (Maschinenbau, 5. Sem)\n",
      "Matrikelnummer: 87654321\n"
     ]
    }
   ],
   "source": [
    "# Hilfsfunktionen für die Kursverwaltung\n",
    "def kurs_statistik(studierende):\n",
    "    \"\"\"Zeigt eine Übersicht über den Kurs\"\"\"\n",
    "    print(\"=== KURS-STATISTIK ===\")\n",
    "    print(f\"Teilnehmer gesamt: {len(studierende)}\")\n",
    "    \n",
    "    # Maschinenbau-Studierende zählen\n",
    "    maschinenbau_anzahl = 0\n",
    "    for student in studierende:\n",
    "        if student.studiengang == \"Maschinenbau\":\n",
    "            maschinenbau_anzahl = maschinenbau_anzahl + 1\n",
    "    \n",
    "    print(f\"Maschinenbau-Studierende: {maschinenbau_anzahl}\")\n",
    "    \n",
    "    # Niedrigstes und höchstes Semester finden\n",
    "    semester_min = studierende[0].semester\n",
    "    semester_max = studierende[0].semester\n",
    "    for student in studierende:\n",
    "        if student.semester < semester_min:\n",
    "            semester_min = student.semester\n",
    "        if student.semester > semester_max:\n",
    "            semester_max = student.semester\n",
    "    \n",
    "    print(f\"Semester-Spanne: {semester_min}. bis {semester_max}. Semester\")\n",
    "\n",
    "def student_suchen(studierende, nachname):\n",
    "    \"\"\"Sucht einen Studierenden nach Nachname\"\"\"\n",
    "    for student in studierende:\n",
    "        if student.nachname.lower() == nachname.lower():\n",
    "            return student\n",
    "    return None\n",
    "\n",
    "# Statistik anzeigen\n",
    "kurs_statistik(python_kurs)\n",
    "\n",
    "# Student suchen\n",
    "print(\"\\n=== SUCHE ===\")\n",
    "gefunden = student_suchen(python_kurs, \"Berliner\")\n",
    "if gefunden:\n",
    "    print(f\"Gefunden: {gefunden}\")\n",
    "    print(f\"Matrikelnummer: {gefunden.matrikelnummer}\")\n",
    "else:\n",
    "    print(\"Student nicht gefunden\")"
   ]
  },
  {
   "cell_type": "markdown",
   "id": "7ff16c8b",
   "metadata": {},
   "source": [
    "Mit wenigen Zeilen Code haben wir ein funktionsfähiges Verwaltungssystem\n",
    "erstellt und schließen das Beispiel mit der nächsten Mini-Übung ab.\n",
    "\n",
    "```{admonition} Mini-Übung\n",
    ":class: miniexercise\n",
    "Schreiben Sie eine Funktion `erstsemester_finden(studierende)`, die eine Liste\n",
    "aller Studierenden im 1. Semester zurückgibt. Testen Sie die Funktion mit dem\n",
    "`python_kurs`.\n",
    "```"
   ]
  },
  {
   "cell_type": "code",
   "execution_count": 13,
   "id": "c7b81f38",
   "metadata": {},
   "outputs": [],
   "source": [
    "# Geben Sie nach diesem Kommentar Ihren Code ein:\n"
   ]
  },
  {
   "cell_type": "markdown",
   "id": "d26db556",
   "metadata": {},
   "source": [
    "````{admonition} Lösung\n",
    ":class: miniexercise, toggle\n",
    "```python\n",
    "def erstsemester_finden(studierende):\n",
    "    \"\"\"Findet alle Studierenden im 1. Semester\"\"\"\n",
    "    erstsemester = []\n",
    "    for student in studierende:\n",
    "        if student.semester == 1:\n",
    "            erstsemester.append(student)\n",
    "    return erstsemester\n",
    "\n",
    "# Test der Funktion\n",
    "erstsemester = erstsemester_finden(python_kurs)\n",
    "print(f\"Erstsemester ({len(erstsemester)}):\")\n",
    "for student in erstsemester:\n",
    "    print(f\"- {student}\")\n",
    "```\n",
    "````\n",
    "\n",
    "## Zusammenfassung und Ausblick\n",
    "\n",
    "Listen kombiniert mit Objekten sind ein mächtiges Werkzeug zur Verwaltung von\n",
    "Daten. Dabei ist es hilfreich, vordefinierte Methoden wie beispielsweise\n",
    "`__str__` zu implementieren, um die Objekte benutzerfreundlich zu machen. Mit\n",
    "diesem Kapitel schließen wir die Objektorientierte Programmierung ab, um uns den\n",
    "Themen Matlab und Simulink zu widmen."
   ]
  }
 ],
 "metadata": {
  "jupytext": {
   "formats": "ipynb,md:myst",
   "text_representation": {
    "extension": ".md",
    "format_name": "myst",
    "format_version": 0.13,
    "jupytext_version": "1.13.8"
   }
  },
  "kernelspec": {
   "display_name": "Python 3 (ipykernel)",
   "language": "python",
   "name": "python3"
  },
  "language_info": {
   "codemirror_mode": {
    "name": "ipython",
    "version": 3
   },
   "file_extension": ".py",
   "mimetype": "text/x-python",
   "name": "python",
   "nbconvert_exporter": "python",
   "pygments_lexer": "ipython3",
   "version": "3.12.2"
  },
  "source_map": [
   13,
   42,
   60,
   64,
   74,
   78,
   97,
   105,
   108,
   133,
   144,
   151,
   165,
   169,
   200,
   215,
   218,
   249,
   275,
   280,
   296,
   301,
   330,
   334,
   378,
   390,
   393
  ]
 },
 "nbformat": 4,
 "nbformat_minor": 5
}