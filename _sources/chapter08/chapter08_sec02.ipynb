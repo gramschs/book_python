{
 "cells": [
  {
   "cell_type": "markdown",
   "id": "2f73e4f5",
   "metadata": {},
   "source": [
    "# 8.2 Methoden und der self-Parameter\n",
    "\n",
    "Bisher haben wir gelernt, wie wir Daten in Objekten speichern können. Aber\n",
    "Objekte können mehr als nur Daten speichern, sonst könnten wir auch Dictionaries\n",
    "nehmen. Ihren großen Vorteil erlangen Objekte durch Methoden.\n",
    "\n",
    "## Lernziele\n",
    "\n",
    "```{admonition} Lernziele\n",
    ":class: goals\n",
    "* Sie verstehen, was Methoden sind und wie sie sich von normalen Funktionen\n",
    "  unterscheiden.\n",
    "* Sie können einfache Methoden in einer Klasse implementieren und aufrufen.\n",
    "* Sie verstehen den `self`-Parameter und wissen, warum er benötigt wird.\n",
    "* Sie können über `self` auf Objektattribute zugreifen und diese verändern.\n",
    "* Sie können Methoden schreiben, die mit den Daten des jeweiligen Objekts\n",
    "  arbeiten.\n",
    "```\n",
    "\n",
    "## Methoden sind Funktionen, die zu einer Klasse gehören\n",
    "\n",
    "Eine **Methode** ist im Grunde eine Funktion, die direkt zu einer Klasse gehört.\n",
    "Statt die Funktion separat zu schreiben, definieren wir sie innerhalb der\n",
    "Klasse. Dadurch kann die Funktion direkt mit den Daten des Objekts arbeiten.\n",
    "\n",
    "Schauen wir uns ein Beispiel an. Angenommen, wir möchten für einen Studierenden\n",
    "den vollständigen Namen ausgeben. Bisher würden wir das so machen:\n",
    "\n",
    "```python\n",
    "# Ohne Methoden, d.h. mit normaler Funktion\n",
    "def vollstaendiger_name(student):\n",
    "    return f\"{student.vorname} {student.nachname}\"\n",
    "\n",
    "student1 = Student(\"Abendrot\", \"Anna\", \"Maschinenbau\", 3, \"12345678\")\n",
    "print(vollstaendiger_name(student1))  # Anna Abendrot\n",
    "```\n",
    "\n",
    "Mit einer Methode können wir das eleganter lösen:"
   ]
  },
  {
   "cell_type": "code",
   "execution_count": 1,
   "id": "aee39544",
   "metadata": {},
   "outputs": [
    {
     "name": "stdout",
     "output_type": "stream",
     "text": [
      "Anna Abendrot\n"
     ]
    }
   ],
   "source": [
    "class Student:\n",
    "    def __init__(self, nachname, vorname, studiengang, semester, matrikelnummer):\n",
    "        self.nachname = nachname\n",
    "        self.vorname = vorname\n",
    "        self.studiengang = studiengang\n",
    "        self.semester = semester\n",
    "        self.matrikelnummer = matrikelnummer\n",
    "    \n",
    "    # Das ist eine Methode!\n",
    "    def vollstaendiger_name(self):\n",
    "        return f\"{self.vorname} {self.nachname}\"\n",
    "\n",
    "# Objekt erstellen\n",
    "student1 = Student(\"Abendrot\", \"Anna\", \"Maschinenbau\", 3, \"12345678\")\n",
    "\n",
    "# Methode aufrufen\n",
    "print(student1.vollstaendiger_name())  # Anna Abendrot"
   ]
  },
  {
   "cell_type": "markdown",
   "id": "06f61b6d",
   "metadata": {},
   "source": [
    "Der wichtigste Unterschied zwischen Funktionen und Methoden ist, wo und wie wir\n",
    "sie aufrufen:\n",
    "\n",
    "Normale Funktion:\n",
    "\n",
    "```python\n",
    "# Funktion wird separat definiert\n",
    "def vollstaendiger_name(student):\n",
    "    return f\"{student.vorname} {student.nachname}\"\n",
    "\n",
    "# Aufruf: funktion(objekt)\n",
    "ergebnis = vollstaendiger_name(student1)\n",
    "```\n",
    "\n",
    "Methode:\n",
    "\n",
    "```python\n",
    "# Methode wird in der Klasse definiert\n",
    "class Student:\n",
    "    def vollstaendiger_name(self):\n",
    "        return f\"{self.vorname} {self.nachname}\"\n",
    "\n",
    "# Aufruf: objekt.methode()\n",
    "ergebnis = student1.vollstaendiger_name()\n",
    "```\n",
    "\n",
    "Nicht nur der Ort (in oder außerhalb der Klasse) unterscheidet sich, sondern\n",
    "auch die Syntax beim Aufruf:\n",
    "\n",
    "* Normale Funktion: `funktion(objekt)`\n",
    "* Methode: `objekt.methode()`\n",
    "\n",
    "Erweitern wir unsere Klasse Student um eine weitere nützliche Methode:"
   ]
  },
  {
   "cell_type": "code",
   "execution_count": 2,
   "id": "6cbc252d",
   "metadata": {},
   "outputs": [
    {
     "name": "stdout",
     "output_type": "stream",
     "text": [
      "Anna Abendrot\n",
      "Hallo, ich bin Anna und studiere Maschinenbau.\n",
      "\n",
      "Bob Berliner\n",
      "Hallo, ich bin Bob und studiere Maschinenbau.\n"
     ]
    }
   ],
   "source": [
    "class Student:\n",
    "    def __init__(self, nachname, vorname, studiengang, semester, matrikelnummer):\n",
    "        self.nachname = nachname\n",
    "        self.vorname = vorname\n",
    "        self.studiengang = studiengang\n",
    "        self.semester = semester\n",
    "        self.matrikelnummer = matrikelnummer\n",
    "    \n",
    "    def vollstaendiger_name(self):\n",
    "        return f\"{self.vorname} {self.nachname}\"\n",
    "    \n",
    "    def begruessung(self):\n",
    "        return f\"Hallo, ich bin {self.vorname} und studiere {self.studiengang}.\"\n",
    "\n",
    "# Ausprobieren\n",
    "student1 = Student(\"Abendrot\", \"Anna\", \"Maschinenbau\", 3, \"12345678\")\n",
    "student2 = Student(\"Berliner\", \"Bob\", \"Maschinenbau\", 1, \"87654321\")\n",
    "\n",
    "print(student1.vollstaendiger_name())  # Anna Abendrot\n",
    "print(student1.begruessung())          # Hallo, ich bin Anna und studiere Maschinenbau.\n",
    "print()\n",
    "print(student2.vollstaendiger_name())  # Bob Berliner\n",
    "print(student2.begruessung())          # Hallo, ich bin Bob und studiere Maschinenbau."
   ]
  },
  {
   "cell_type": "markdown",
   "id": "bc78cfe2",
   "metadata": {},
   "source": [
    "Anhand des obigen Beispiels stellen wir fest:\n",
    "\n",
    "1. Der `self`-Parameter: Jede Methode hat als ersten Parameter `self`. Dieser\n",
    "Parameter bezieht sich auf das konkrete Objekt, für das die Methode aufgerufen\n",
    "wird. Mehr dazu lernen wir im nächsten Abschnitt.\n",
    "2. Zugriff auf Attribute: Innerhalb einer Methode greifen wir mit\n",
    "`self.attributname` auf die Attribute des Objekts zu.\n",
    "3. Jedes Objekt ruft seine eigene Methode auf: Obwohl beide Objekte die gleiche\n",
    "   Methode `begruessung()` verwenden, geben sie unterschiedliche Ergebnisse\n",
    "   zurück, je nach ihren eigenen Daten.\n",
    "\n",
    "```{admonition} Mini-Übung\n",
    ":class: miniexercise\n",
    "Versuchen Sie selbst, eine Methode zu schreiben! Erweitern Sie die\n",
    "Klasse Student um eine Methode `studieninfo()`, die eine Zeile wie \"Anna\n",
    "Abendrot studiert Maschinenbau im 3. Semester\" zurückgibt.\n",
    "```"
   ]
  },
  {
   "cell_type": "code",
   "execution_count": 3,
   "id": "48687f01",
   "metadata": {},
   "outputs": [],
   "source": [
    "# Geben Sie nach diesem Kommentar Ihren Code ein:\n"
   ]
  },
  {
   "cell_type": "markdown",
   "id": "215b1a2b",
   "metadata": {},
   "source": [
    "````{admonition} Lösung\n",
    ":class: miniexercise, toggle\n",
    "```python\n",
    "class Student:\n",
    "    def __init__(self, nachname, vorname, studiengang, semester, matrikelnummer):\n",
    "        self.nachname = nachname\n",
    "        self.vorname = vorname\n",
    "        self.studiengang = studiengang\n",
    "        self.semester = semester\n",
    "        self.matrikelnummer = matrikelnummer\n",
    "    \n",
    "    def vollstaendiger_name(self):\n",
    "        return f\"{self.vorname} {self.nachname}\"\n",
    "    \n",
    "    def studieninfo(self):\n",
    "        return f\"{self.vollstaendiger_name()} studiert {self.studiengang} im {self.semester}. Semester\"\n",
    "\n",
    "# Test der neuen Methode\n",
    "student1 = Student(\"Müller\", \"Max\", \"Maschinenbau\", 3, \"12345678\")\n",
    "print(student1.studieninfo())  # Max Müller studiert Maschinenbau im 3. Semester\n",
    "```\n",
    "In dieser Musterlösung rufen wir in der `studieninfo()`-Methode die andere\n",
    "Methode `vollstaendiger_name()` auf. Das geht mit `self.vollstaendiger_name()`.\n",
    "Auch Methoden können andere Methoden der gleichen Klasse verwenden!\n",
    "````\n",
    "\n",
    "Im nächsten Abschnitt schauen wir uns genauer an, was es mit diesem mysteriösen\n",
    "`self`-Parameter auf sich hat.\n",
    "\n",
    "```{dropdown} Video zu \"Methoden in Klassen\" von Programmieren lernen\n",
    "<iframe width=\"560\" height=\"315\" src=\"https://www.youtube.com/embed/58IjjwHs_4A\" \n",
    "title=\"YouTube video player\" frameborder=\"0\" allow=\"accelerometer; autoplay; \n",
    "clipboard-write; encrypted-media; gyroscope; picture-in-picture\" allowfullscreen>\n",
    "</iframe>\n",
    "```\n",
    "\n",
    "## Der self-Parameter\n",
    "\n",
    "Im vorigen Abschnitt haben wir gesehen, dass jede Methode einen `self`-Parameter\n",
    "hat. In diesem Abschnitt klären wir, was self ist, warum wir es brauchen und wie\n",
    "es funktioniert.\n",
    "\n",
    "`self` ist ein Verweis auf das konkrete Objekt, für das eine Methode aufgerufen\n",
    "wird. Angenommen, wir haben mehrere Studierende und jeder soll sich vorstellen.\n",
    "Woher weiß die Methode `begruessung()`, ob sie \"Hallo, ich bin Anna\" oder\n",
    "\"Hallo, ich bin Bob\" sagen soll? Genau hier kommt `self` ins Spiel.\n",
    "\n",
    "Schauen wir uns ein Beispiel an:"
   ]
  },
  {
   "cell_type": "code",
   "execution_count": 4,
   "id": "b6359ff6",
   "metadata": {},
   "outputs": [
    {
     "name": "stdout",
     "output_type": "stream",
     "text": [
      "Hallo, ich bin Anna Abendrot\n",
      "Meine Matrikelnummer ist 12345678\n",
      "\n",
      "Hallo, ich bin Bob Berliner\n",
      "Meine Matrikelnummer ist 87654321\n"
     ]
    }
   ],
   "source": [
    "class Student:\n",
    "    def __init__(self, nachname, vorname, studiengang, semester, matrikelnummer):\n",
    "        self.nachname = nachname\n",
    "        self.vorname = vorname\n",
    "        self.studiengang = studiengang\n",
    "        self.semester = semester\n",
    "        self.matrikelnummer = matrikelnummer\n",
    "    \n",
    "    def begruessung(self):\n",
    "        # self bezieht sich auf das Objekt, das diese Methode aufruft\n",
    "        print(f\"Hallo, ich bin {self.vorname} {self.nachname}\")\n",
    "        print(f\"Meine Matrikelnummer ist {self.matrikelnummer}\")\n",
    "\n",
    "# Zwei verschiedene Objekte erstellen\n",
    "student1 = Student(\"Abendrot\", \"Anna\", \"Maschinenbau\", 3, \"12345678\")\n",
    "student2 = Student(\"Berliner\", \"Bob\", \"Elektrotechnik\", 1, \"87654321\")\n",
    "\n",
    "# Gleiche Methode, aber verschiedene Objekte\n",
    "student1.begruessung()\n",
    "print()\n",
    "student2.begruessung()"
   ]
  },
  {
   "cell_type": "markdown",
   "id": "9c9c4812",
   "metadata": {},
   "source": [
    "Wenn wir `student1.begruessung()` aufrufen, dann ist `self` in der Methode eine\n",
    "Referenz auf `student1`. Bei `student2.begruessung()` bezieht sich `self` auf\n",
    "`student2`. Ohne `self` wüsste eine Methode nicht, auf welches Objekt sie sich\n",
    "bezieht."
   ]
  },
  {
   "cell_type": "code",
   "execution_count": 5,
   "id": "e950a357",
   "metadata": {},
   "outputs": [
    {
     "name": "stdout",
     "output_type": "stream",
     "text": [
      "Max ist im 3. Semester\n",
      "Sarah ist im 1. Semester\n",
      "Tim ist im 5. Semester\n"
     ]
    }
   ],
   "source": [
    "class Student:\n",
    "    def __init__(self, nachname, vorname, studiengang, semester, matrikelnummer):\n",
    "        self.nachname = nachname\n",
    "        self.vorname = vorname\n",
    "        self.studiengang = studiengang\n",
    "        self.semester = semester\n",
    "        self.matrikelnummer = matrikelnummer\n",
    "    \n",
    "    def zeige_semester(self):\n",
    "        print(f\"{self.vorname} ist im {self.semester}. Semester\")\n",
    "\n",
    "# Verschiedene Studierende in verschiedenen Semestern\n",
    "studierende = [\n",
    "    Student(\"Müller\", \"Max\", \"Maschinenbau\", 3, \"12345678\"),\n",
    "    Student(\"Schmidt\", \"Sarah\", \"Elektrotechnik\", 1, \"87654321\"),\n",
    "    Student(\"Weber\", \"Tim\", \"Informatik\", 5, \"11111111\")\n",
    "]\n",
    "\n",
    "# Für jeden Studierenden die Methode aufrufen\n",
    "for studi in studierende:\n",
    "    studi.zeige_semester()  # self wird automatisch gesetzt!"
   ]
  },
  {
   "cell_type": "markdown",
   "id": "19614cb4",
   "metadata": {},
   "source": [
    "Mit self können wir auf alle Attribute des aktuellen Objekts zugreifen. Die\n",
    "Syntax ist einfach: `self.attributname`."
   ]
  },
  {
   "cell_type": "code",
   "execution_count": 6,
   "id": "692ac279",
   "metadata": {},
   "outputs": [
    {
     "name": "stdout",
     "output_type": "stream",
     "text": [
      "--- Studierendendaten ---\n",
      "Name: Lisa Johnson\n",
      "Studiengang: Maschinenbau\n",
      "Semester: 2\n",
      "Matrikelnummer: 98765432\n"
     ]
    }
   ],
   "source": [
    "class Student:\n",
    "    def __init__(self, nachname, vorname, studiengang, semester, matrikelnummer):\n",
    "        self.nachname = nachname\n",
    "        self.vorname = vorname\n",
    "        self.studiengang = studiengang\n",
    "        self.semester = semester\n",
    "        self.matrikelnummer = matrikelnummer\n",
    "    \n",
    "    def alle_infos_anzeigen(self):\n",
    "        print(\"--- Studierendendaten ---\")\n",
    "        print(f\"Name: {self.vorname} {self.nachname}\")\n",
    "        print(f\"Studiengang: {self.studiengang}\")\n",
    "        print(f\"Semester: {self.semester}\")\n",
    "        print(f\"Matrikelnummer: {self.matrikelnummer}\")\n",
    "\n",
    "student = Student(\"Johnson\", \"Lisa\", \"Maschinenbau\", 2, \"98765432\")\n",
    "student.alle_infos_anzeigen()"
   ]
  },
  {
   "cell_type": "markdown",
   "id": "a58dcd59",
   "metadata": {},
   "source": [
    "Hier kommt der \"magische Teil\": Obwohl jede Methode `self` als ersten Parameter\n",
    "hat, übergeben wir beim Aufruf keinen Wert dafür. Python macht das automatisch!\n",
    "Wir schreiben:\n",
    "\n",
    "```python\n",
    "student.alle_infos_anzeigen()\n",
    "```\n",
    "\n",
    "Python macht daraus intern:\n",
    "\n",
    "```python\n",
    "Student.alle_infos_anzeigen(student)\n",
    "```\n",
    "\n",
    "Das bedeutet: Wenn wir `objekt.methode()` schreiben, übergibt Python automatisch\n",
    "das Objekt als ersten Parameter `(self)` an die Methode.\n",
    "\n",
    "`self` ermöglicht es uns nicht nur, Attribute zu lesen, sondern auch zu\n",
    "verändern:"
   ]
  },
  {
   "cell_type": "code",
   "execution_count": 7,
   "id": "9ff5ab2e",
   "metadata": {},
   "outputs": [
    {
     "name": "stdout",
     "output_type": "stream",
     "text": [
      "Max ist im 3. Semester\n",
      "Max ist jetzt im 4. Semester\n",
      "Max ist im 4. Semester\n"
     ]
    }
   ],
   "source": [
    "class Student:\n",
    "    def __init__(self, nachname, vorname, studiengang, semester, matrikelnummer):\n",
    "        self.nachname = nachname\n",
    "        self.vorname = vorname\n",
    "        self.studiengang = studiengang\n",
    "        self.semester = semester\n",
    "        self.matrikelnummer = matrikelnummer\n",
    "    \n",
    "    def semester_erhoehen(self):\n",
    "        \"\"\"Erhöht das Semester um 1 (für den Semesterübergang)\"\"\"\n",
    "        self.semester = self.semester + 1\n",
    "        print(f\"{self.vorname} ist jetzt im {self.semester}. Semester\")\n",
    "    \n",
    "    def aktuelles_semester_anzeigen(self):\n",
    "        print(f\"{self.vorname} ist im {self.semester}. Semester\")\n",
    "\n",
    "# Ausprobieren\n",
    "student = Student(\"Müller\", \"Max\", \"Maschinenbau\", 3, \"12345678\")\n",
    "student.aktuelles_semester_anzeigen()  # Max ist im 3. Semester\n",
    "\n",
    "student.semester_erhoehen()            # Max ist jetzt im 4. Semester\n",
    "student.aktuelles_semester_anzeigen()  # Max ist im 4. Semester"
   ]
  },
  {
   "cell_type": "markdown",
   "id": "9e8254ce",
   "metadata": {},
   "source": [
    "```{admonition} Mini-Übung\n",
    ":class: miniexercise\n",
    "Erweitern Sie die Klasse Student um zwei neue Methoden:\n",
    "1. `note_eintragen(note)` - fügt eine Note zur Notenliste hinzu (verwenden Sie\n",
    "   eine Liste `self.noten`)\n",
    "2. `notendurchschnitt()` - berechnet und gibt den Durchschnitt aller Noten\n",
    "   zurück\n",
    "\n",
    "Tipp: Initialisieren Sie die Notenliste in `__init__` als leere Liste. Falls\n",
    "noch keine Noten vorhanden sind, soll die Methode den Durchschnitt 0.0\n",
    "zurückgeben.\n",
    "```"
   ]
  },
  {
   "cell_type": "code",
   "execution_count": 8,
   "id": "8a6e3f0b",
   "metadata": {},
   "outputs": [],
   "source": [
    "# Geben Sie nach diesem Kommentar Ihren Code ein:\n"
   ]
  },
  {
   "cell_type": "markdown",
   "id": "d64ed46c",
   "metadata": {},
   "source": [
    "````{admonition} Lösung\n",
    ":class: miniexercise, toggle\n",
    "```python\n",
    "class Student:\n",
    "    def __init__(self, nachname, vorname, studiengang, semester, matrikelnummer):\n",
    "        self.nachname = nachname\n",
    "        self.vorname = vorname\n",
    "        self.studiengang = studiengang\n",
    "        self.semester = semester\n",
    "        self.matrikelnummer = matrikelnummer\n",
    "        self.noten = []  # Leere Liste für Noten\n",
    "    \n",
    "    def note_eintragen(self, note):\n",
    "        \"\"\"Fügt eine Note zur Notenliste hinzu\"\"\"\n",
    "        self.noten.append(note)\n",
    "        print(f\"Note {note} für {self.vorname} eingetragen\")\n",
    "    \n",
    "    def notendurchschnitt(self):\n",
    "        \"\"\"Berechnet den Durchschnitt aller Noten\"\"\"\n",
    "        if len(self.noten) == 0:\n",
    "            return 0.0\n",
    "        return sum(self.noten) / len(self.noten)\n",
    "\n",
    "# Test der neuen Methoden\n",
    "student = Student(\"Müller\", \"Max\", \"Maschinenbau\", 3, \"12345678\")\n",
    "student.note_eintragen(2.3)  # Note 2.3 für Max eingetragen\n",
    "student.note_eintragen(1.7)  # Note 1.7 für Max eingetragen\n",
    "student.note_eintragen(2.0)  # Note 2.0 für Max eingetragen\n",
    "\n",
    "print(f\"Durchschnitt: {student.notendurchschnitt()}\")  # Durchschnitt: 2.0\n",
    "```\n",
    "````\n",
    "\n",
    "```{dropdown} Video zu \"Der self Parameter\" von Programmieren lernen\n",
    "<iframe width=\"560\" height=\"315\" src=\"https://www.youtube.com/embed/CLoK-_qNTnU\" \n",
    "title=\"YouTube video player\" frameborder=\"0\" allow=\"accelerometer; autoplay; \n",
    "clipboard-write; encrypted-media; gyroscope; picture-in-picture\" allowfullscreen>\n",
    "</iframe>\n",
    "```\n",
    "\n",
    "## Zusammenfassung und Ausblick\n",
    "\n",
    "Methoden sind Funktionen, die zu einer Klasse gehören und direkt mit Objektdaten\n",
    "arbeiten können. Der `self`-Parameter ermöglicht jeder Methode den Zugriff auf das\n",
    "konkrete Objekt, das sie aufruft."
   ]
  }
 ],
 "metadata": {
  "jupytext": {
   "formats": "ipynb,md:myst",
   "text_representation": {
    "extension": ".md",
    "format_name": "myst",
    "format_version": 0.13,
    "jupytext_version": "1.13.8"
   }
  },
  "kernelspec": {
   "display_name": "Python 3 (ipykernel)",
   "language": "python",
   "name": "python3"
  },
  "language_info": {
   "codemirror_mode": {
    "name": "ipython",
    "version": 3
   },
   "file_extension": ".py",
   "mimetype": "text/x-python",
   "name": "python",
   "nbconvert_exporter": "python",
   "pygments_lexer": "ipython3",
   "version": "3.12.2"
  },
  "source_map": [
   13,
   54,
   72,
   108,
   132,
   152,
   155,
   206,
   228,
   235,
   257,
   262,
   280,
   302,
   325,
   340,
   343
  ]
 },
 "nbformat": 4,
 "nbformat_minor": 5
}