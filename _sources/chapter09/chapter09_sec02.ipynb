{
 "cells": [
  {
   "cell_type": "markdown",
   "id": "d4563b2c",
   "metadata": {},
   "source": [
    "# 9.2 Arbeiten mit Tabellendaten\n",
    "\n",
    "## Lernziele\n",
    "\n",
    "```{admonition} Lernziele\n",
    ":class: hint\n",
    "* Sie können auf ganze Zeilen und Spalten zugreifen:\n",
    "  * Zugriff auf eine einzelne Zeile oder Spalte, indem ein Index spezifiziert wird\n",
    "  * Zugriff auf mehrere zusammenhängende Zeilen oder Spalten (Slice) \n",
    "  * Zugriff auf mehrere unzusammenhängende Zeilen oder Spalten (Selektion)\n",
    "* Sie können auf einzelne oder mehrere Zellen der Tabelle zugreifen.\n",
    "* Sie können ein DataFrame-Objekt nach einer Eigenschaft filtern.\n",
    "```\n",
    "\n",
    "## Zugriff auf Zeilen\n",
    "\n",
    "Als erstes möchten wir ganze Zeilen der Tabelle lesen. Dazu verwenden wir das\n",
    "Attribut `.loc` mit passenden Indizes. \n",
    "\n",
    "Für die folgenden Demonstrationen wollen wir wiederum die Spielerdaten der\n",
    "Top7-Fußballvereine der Bundesligasaison 2020/21 verwenden. Importieren Sie\n",
    "bitte vorab die Daten und verwenden Sie die 1. Spalte (= Namen) als Zeilenindex."
   ]
  },
  {
   "cell_type": "code",
   "execution_count": 1,
   "id": "19ff0063",
   "metadata": {},
   "outputs": [
    {
     "ename": "ModuleNotFoundError",
     "evalue": "No module named 'pandas'",
     "output_type": "error",
     "traceback": [
      "\u001b[0;31m---------------------------------------------------------------------------\u001b[0m",
      "\u001b[0;31mModuleNotFoundError\u001b[0m                       Traceback (most recent call last)",
      "Cell \u001b[0;32mIn[1], line 1\u001b[0m\n\u001b[0;32m----> 1\u001b[0m \u001b[38;5;28;01mimport\u001b[39;00m \u001b[38;5;21;01mpandas\u001b[39;00m \u001b[38;5;28;01mas\u001b[39;00m \u001b[38;5;21;01mpd\u001b[39;00m\n\u001b[1;32m      2\u001b[0m data \u001b[38;5;241m=\u001b[39m pd\u001b[38;5;241m.\u001b[39mread_csv(\u001b[38;5;124m'\u001b[39m\u001b[38;5;124mbundesliga_top7_offensive.csv\u001b[39m\u001b[38;5;124m'\u001b[39m, index_col\u001b[38;5;241m=\u001b[39m\u001b[38;5;241m0\u001b[39m)\n\u001b[1;32m      3\u001b[0m data\u001b[38;5;241m.\u001b[39mhead(\u001b[38;5;241m10\u001b[39m)\n",
      "\u001b[0;31mModuleNotFoundError\u001b[0m: No module named 'pandas'"
     ]
    }
   ],
   "source": [
    "import pandas as pd\n",
    "data = pd.read_csv('bundesliga_top7_offensive.csv', index_col=0)\n",
    "data.head(10)"
   ]
  },
  {
   "cell_type": "markdown",
   "id": "c72b7a45",
   "metadata": {},
   "source": [
    "### Einzelne Zeile\n",
    "\n",
    "Uns interessieren die Spielerdaten von Joshua Kimmich näher. Um eine ganze Zeile\n",
    "aus der Tabelle herauszugreifen, verwenden wir das Attribut `.loc[zeilenindex]`\n",
    "und geben in eckigen Klammern den Index der Zeile an, die wir betrachten wollen.\n",
    "Da wir beim Import die Namen als Zeileindex gesetzt haben, lautet der Zugriff\n",
    "also wie folgt:"
   ]
  },
  {
   "cell_type": "code",
   "execution_count": null,
   "id": "deaa5238",
   "metadata": {},
   "outputs": [],
   "source": [
    "zeile = data.loc['Joshua Kimmich']\n",
    "print(zeile)"
   ]
  },
  {
   "cell_type": "markdown",
   "id": "83277bfd",
   "metadata": {},
   "source": [
    "### Zusammenhängende Zeilen: Slicing\n",
    "\n",
    "Wenn wir auf mehrere Zeilen gleichzeitig zugreifen wollen, gibt es zwei\n",
    "Möglichkeiten:\n",
    "\n",
    "1. Die Zeilen folgen direkt aufeinander, sind also zusammenhängend.\n",
    "2. Zwischen den einzelnen Zeilen sind Lücken. \n",
    "\n",
    "Als erstes betrachten wir zusammenhängende Zeilen. Der Zugriff auf\n",
    "zusammenhängende Bereiche wird in der Informatik **Slicing** genannt. Bei der\n",
    "Angabe des Bereiches gibt man den Anfangsindex gefolgt von einem Doppelpunkt an\n",
    "und dann den Endindex der letzten Zeile, die \"herausgeschnitten\" werden soll."
   ]
  },
  {
   "cell_type": "code",
   "execution_count": null,
   "id": "68bfbd47",
   "metadata": {},
   "outputs": [],
   "source": [
    "zeilen_slice = data.loc['Joshua Kimmich' : 'Alphonso Davies']\n",
    "print(zeilen_slice)"
   ]
  },
  {
   "cell_type": "markdown",
   "id": "554457de",
   "metadata": {},
   "source": [
    "Beim Slicing können wir den Angangsindex oder den Endindex oder sogar beides\n",
    "weglassen. Wenn wir den Anfangsindex weglassen, fängt Pandas bei der ersten\n",
    "Zeile an. Lassen wir den Endindex weg, geht der Slice automatisch bis zum Ende. \n",
    "\n",
    "Im folgenden Beispiel startet der Slice bei 'Robert Lewandowski'und geht bis zur\n",
    "letzten Zeile. Obwohl nicht alle Zeilendargestellt werden, erkennen wir das an\n",
    "der Anzahl der Zeilen: 173 rows (und 15 Spalten columns). Zur Erinnerung, es\n",
    "sind insgesamt 177 Zeilen."
   ]
  },
  {
   "cell_type": "code",
   "execution_count": null,
   "id": "4e2050ec",
   "metadata": {},
   "outputs": [],
   "source": [
    "data_slice_from_lewandowski = data.loc['Robert Lewandowski': ]\n",
    "print(data_slice_from_lewandowski)"
   ]
  },
  {
   "cell_type": "markdown",
   "id": "acbb0d92",
   "metadata": {},
   "source": [
    "### Selektion unzusammenhängender Zeilen per Liste\n",
    "\n",
    "Soll auf mehrere Zeilen zugegriffen werdenn, die nicht zusammenhängen, so können\n",
    "wir eine Liste mit den Zeilenindizes übergeben."
   ]
  },
  {
   "cell_type": "code",
   "execution_count": null,
   "id": "62b8b94d",
   "metadata": {},
   "outputs": [],
   "source": [
    "zeilen_multiple = data.loc[ ['Manuel Neuer', 'Robert Lewandowski', 'Alphonso Davies'] ]\n",
    "print(zeilen_multiple)"
   ]
  },
  {
   "cell_type": "markdown",
   "id": "cc05d0f2",
   "metadata": {},
   "source": [
    "## Zugriff auf Spalten\n",
    "\n",
    "Auf Spalten können wir zugreifen, indem wir `.loc` mit zwei Argumenten benutzen.\n",
    "Dann steht das 1. Argument für den Zeilenindex und das 2. Argument für den\n",
    "Spaltenindex. Wenn wir die komplette Spalte betrachten wollen, setzen wir für\n",
    "den Zeilenindex einfach einen Doppelpunkt `:`. Damit werden automatisch als\n",
    "Anfangsindex die erste Zeile und als Endindex die letzte Zeile gewählt.\n",
    "Ansonsten erfolgen die Zugriffe auf Spalten analog zu den Zugriffen auf Zeilen\n",
    "über die drei Möglichkeiten\n",
    "\n",
    "* einzelne Spalte,\n",
    "* zusammenhängende Spalten (Slicing) und\n",
    "* unzusammenhängende Spalten als Liste.\n",
    "\n",
    "### Einzelne Spalte\n",
    "\n",
    "Alle Minuten, die die Spieler auf dem Platz standen, erhalten wir somit als"
   ]
  },
  {
   "cell_type": "code",
   "execution_count": null,
   "id": "8eefa045",
   "metadata": {},
   "outputs": [],
   "source": [
    "data_minuten = data.loc[:, 'Mins']\n",
    "print(data_minuten)"
   ]
  },
  {
   "cell_type": "markdown",
   "id": "b411d129",
   "metadata": {},
   "source": [
    "### Zusammenhängende Spalten: Slicing\n",
    "\n",
    "Wenn wir beispielsweise die verwandelten Elfmeter mit den versuchten Elfmetern\n",
    "vergleichen wollen, so können wir die beiden aufeinanderfolgenden Spalten\n",
    "'Penalty_Goals' und 'Penalty_Attempted' als Slice ausschneiden:"
   ]
  },
  {
   "cell_type": "code",
   "execution_count": null,
   "id": "e8299181",
   "metadata": {},
   "outputs": [],
   "source": [
    "data_elfmeter = data.loc[:, 'Penalty_Goals' : 'Penalty_Attempted']\n",
    "print(data_elfmeter)"
   ]
  },
  {
   "cell_type": "markdown",
   "id": "825e547c",
   "metadata": {},
   "source": [
    "### Selektion unzusammenhängender Spalten per Liste\n",
    "\n",
    "Die Anzahl der Tore ('Goals'), die Anzahl der Spiele ('Matches') und die\n",
    "durchschnittliche Anzahl erwarteter Tore pro Spiel ('xG') miteinander zu\n",
    "vergleichen, könnte aufschlussreich sein. Da die Spalten nicht nebeneinander\n",
    "liegen, müssen wir eine Liste benutzen, um sie zu selektieren."
   ]
  },
  {
   "cell_type": "code",
   "execution_count": null,
   "id": "5809f813",
   "metadata": {},
   "outputs": [],
   "source": [
    "data_tore = data.loc[:, ['Goals', 'Matches', 'xG'] ]\n",
    "print(data_tore)"
   ]
  },
  {
   "cell_type": "markdown",
   "id": "1a1b72a9",
   "metadata": {},
   "source": [
    "## Zugriff auf Zellen\n",
    "\n",
    "Es kann auch vorkommen, dass man gezielt auf eine einzelne Zelle oder einen\n",
    "Bereich von Zellen zugreifen möchte. Auch dazu benutzen wir das Attribut\n",
    "`.loc[]`. \n",
    "\n",
    "Der Trick ist nun, die drei Möglichkeiten (einzeln, Slice und Selektion per\n",
    "Liste) für die Zeilen mit den gleichen drei Möglichkeiten des Zugriffes für\n",
    "Spalten zu kombinieren.\n",
    "\n",
    "Wollen wir Beispielsweise das Alter der Fußballprofis von 'David Alaba'bis\n",
    "'Serge Gnabry' wissen, so gehen wir folgendermaßen vor:"
   ]
  },
  {
   "cell_type": "code",
   "execution_count": null,
   "id": "c4df50a6",
   "metadata": {},
   "outputs": [],
   "source": [
    "alter = data.loc['David Alaba' : 'Serge Gnabry', 'Age']\n",
    "print(alter)"
   ]
  },
  {
   "cell_type": "markdown",
   "id": "18ca72a3",
   "metadata": {},
   "source": [
    "Und möchten wir von den Herrn Thomas Müller, Kingsley Coman und Alphonso Davies\n",
    "sowhl die Nationalität als auch das Alter selektieren, so gehen wir wie folgt\n",
    "vor:"
   ]
  },
  {
   "cell_type": "code",
   "execution_count": null,
   "id": "308b4a3e",
   "metadata": {},
   "outputs": [],
   "source": [
    "data_special = data.loc[ ['Thomas Müller', 'Kingsley Coman', 'Alphonso Davies'], ['Nationality', 'Age'] ]\n",
    "print(data_special)"
   ]
  },
  {
   "cell_type": "markdown",
   "id": "3173670a",
   "metadata": {},
   "source": [
    "## Filtern\n",
    "\n",
    "Vielleicht haben Sie sich schon gefragt, warum wir nur Bayern-Spieler analysiert\n",
    "haben. Die Antwort ist simpel, Bayern stand im Datensatz oben in den ersten\n",
    "Zeilen. Tatsächlich sind aber die Spielerdaten von sieben Vereinen im Datensatz\n",
    "enthalten. Wir können uns die verschiedenen Werte einer Spalte mit der Methode\n",
    "`.unique()`ansehen.\n",
    "\n",
    "In einem ersten Schritt lesen wir die Spalte mit den Vereinen aus (Spalte\n",
    "'Club'). Dann wenden wir auf das Ergnis die Methode `.unique()` an."
   ]
  },
  {
   "cell_type": "code",
   "execution_count": null,
   "id": "da943568",
   "metadata": {},
   "outputs": [],
   "source": [
    "vereine = data.loc[:, 'Club']\n",
    "vereinsnamen = vereine.unique()\n",
    "print(vereinsnamen)"
   ]
  },
  {
   "cell_type": "markdown",
   "id": "97ec41ab",
   "metadata": {},
   "source": [
    "Wenn man möchte, kann man auch beide Schritte in einem Schritt ausführen:"
   ]
  },
  {
   "cell_type": "code",
   "execution_count": null,
   "id": "adc245be",
   "metadata": {},
   "outputs": [],
   "source": [
    "vereinsnamen = data.loc[:, 'Club'].unique()\n",
    "print(vereinsnamen)"
   ]
  },
  {
   "cell_type": "markdown",
   "id": "a6b02d8c",
   "metadata": {},
   "source": [
    "Jetzt wo wir wissen, dass auch Eintracht Frankfurt dabei ist, würden wir den\n",
    "Datensatz gerne nach Eintracht Frankfurt filter. Dazu benutzen wir einen\n",
    "Vergleich und speichern das Ergebnis des Vergleichs in einer Variablen."
   ]
  },
  {
   "cell_type": "code",
   "execution_count": null,
   "id": "a8c4afcc",
   "metadata": {},
   "outputs": [],
   "source": [
    "filter = data.loc[:, 'Club'] == 'Eintracht Frankfurt'\n",
    "print(filter)"
   ]
  },
  {
   "cell_type": "markdown",
   "id": "4211f11b",
   "metadata": {},
   "source": [
    "Das Ergebnis des Vergleichs, der in der Variablen `filter` gespeichert ist, ist\n",
    "ein Pandas-Series-Objekt, das für jede Zeile gespeichert hat, ob der Vergleich\n",
    "wahr (True) oder falsch (False) ist. Ist in einer Zeile der Club gleich\n",
    "'Eintracht Frankfurt', so ist in dem booleschen Objekt an dieser Stelle True\n",
    "eingetragen und ansonsten False. Der Datenyp dtype wird mit `bool` angegeben. \n",
    "\n",
    "Wir können nun anstatt einer Liste diesen booleschen Index nutzen, um Zeilen zu\n",
    "selektieren. Steht in einer Zeile des booleschen Series-Objektes `True`, so wird\n",
    "diese Zeile ausgewählt. Ansonsten wird die Zeile übersprungen. Damit erhalten\n",
    "wir alle Spielerdaten, die zu Eintracht Frankfurt gehören."
   ]
  },
  {
   "cell_type": "code",
   "execution_count": null,
   "id": "8e320bbc",
   "metadata": {},
   "outputs": [],
   "source": [
    "eintracht_frankfurt = data.loc[ filter, :]\n",
    "print(eintracht_frankfurt)"
   ]
  },
  {
   "cell_type": "markdown",
   "id": "16b41038",
   "metadata": {},
   "source": [
    "Da der print()-Befehl nicht alle Einträge anzeigt, gehen wir jetzt Zeile für\n",
    "Zeile durch. Den Zeilenindex erhalten wir über das Attribut `.index`:"
   ]
  },
  {
   "cell_type": "code",
   "execution_count": null,
   "id": "1decaeb7",
   "metadata": {},
   "outputs": [],
   "source": [
    "for zeilenindex in eintracht_frankfurt.index:\n",
    "    print(zeilenindex)"
   ]
  },
  {
   "cell_type": "markdown",
   "id": "cd51fd18",
   "metadata": {},
   "source": [
    "## Zusammenfassung\n",
    "\n",
    "In diesem Abschnitt konnten wir nur die Basis-Funktionalitäten streifen.\n",
    "Natürlich ist auch möglich, Bereiche zu sortieren oder gruppieren. Im nächsten\n",
    "Abschnitt erarbeiten wir uns erste statistische Analysen mit Pandas."
   ]
  }
 ],
 "metadata": {
  "jupytext": {
   "formats": "ipynb,md:myst",
   "text_representation": {
    "extension": ".md",
    "format_name": "myst",
    "format_version": 0.13,
    "jupytext_version": "1.13.8"
   }
  },
  "kernelspec": {
   "display_name": "Python 3 (ipykernel)",
   "language": "python",
   "name": "python3"
  },
  "language_info": {
   "codemirror_mode": {
    "name": "ipython",
    "version": 3
   },
   "file_extension": ".py",
   "mimetype": "text/x-python",
   "name": "python",
   "nbconvert_exporter": "python",
   "pygments_lexer": "ipython3",
   "version": "3.10.8"
  },
  "source_map": [
   13,
   38,
   42,
   52,
   55,
   70,
   73,
   84,
   87,
   94,
   97,
   117,
   120,
   128,
   131,
   140,
   143,
   158,
   161,
   167,
   170,
   183,
   187,
   191,
   194,
   200,
   203,
   216,
   219,
   224,
   227
  ]
 },
 "nbformat": 4,
 "nbformat_minor": 5
}