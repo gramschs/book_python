{
 "cells": [
  {
   "cell_type": "markdown",
   "id": "1b0edacf",
   "metadata": {},
   "source": [
    "# 9.2 Arbeiten mit Tabellendaten\n",
    "\n",
    "## Lernziele\n",
    "\n",
    "```{admonition} Lernziele\n",
    ":class: hint\n",
    "* Sie können auf ganze Zeilen und Spalten zugreifen:\n",
    "  * Zugriff auf eine einzelne Zeile oder Spalte, indem ein Index spezifiziert wird\n",
    "  * Zugriff auf mehrere zusammenhängende Zeilen oder Spalten (Slice) \n",
    "  * Zugriff auf mehrere unzusammenhängende Zeilen oder Spalten (Selektion)\n",
    "* Sie können auf einzelne oder mehrere Zellen der Tabelle zugreifen.\n",
    "* Sie können ein DataFrame-Objekt nach einer Eigenschaft filtern.\n",
    "```\n",
    "\n",
    "## Zugriff auf Zeilen\n",
    "\n",
    "Als erstes möchten wir ganze Zeilen der Tabelle lesen. Dazu verwenden wir das\n",
    "Attribut `.loc` mit passenden Indizes. \n",
    "\n",
    "Für die folgenden Demonstrationen wollen wir wiederum die Spielerdaten der\n",
    "Top7-Fußballvereine der Bundesligasaison 2020/21 verwenden. Importieren Sie\n",
    "bitte vorab die Daten und verwenden Sie die 1. Spalte (= Namen) als Zeilenindex."
   ]
  },
  {
   "cell_type": "code",
   "execution_count": 1,
   "id": "6cdf31db",
   "metadata": {},
   "outputs": [
    {
     "data": {
      "text/html": [
       "<div>\n",
       "<style scoped>\n",
       "    .dataframe tbody tr th:only-of-type {\n",
       "        vertical-align: middle;\n",
       "    }\n",
       "\n",
       "    .dataframe tbody tr th {\n",
       "        vertical-align: top;\n",
       "    }\n",
       "\n",
       "    .dataframe thead th {\n",
       "        text-align: right;\n",
       "    }\n",
       "</style>\n",
       "<table border=\"1\" class=\"dataframe\">\n",
       "  <thead>\n",
       "    <tr style=\"text-align: right;\">\n",
       "      <th></th>\n",
       "      <th>Club</th>\n",
       "      <th>Nationality</th>\n",
       "      <th>Position</th>\n",
       "      <th>Age</th>\n",
       "      <th>Matches</th>\n",
       "      <th>Starts</th>\n",
       "      <th>Mins</th>\n",
       "      <th>Goals</th>\n",
       "      <th>Assists</th>\n",
       "      <th>Penalty_Goals</th>\n",
       "      <th>Penalty_Attempted</th>\n",
       "      <th>xG</th>\n",
       "      <th>xA</th>\n",
       "      <th>Yellow_Cards</th>\n",
       "      <th>Red_Cards</th>\n",
       "    </tr>\n",
       "    <tr>\n",
       "      <th>Name</th>\n",
       "      <th></th>\n",
       "      <th></th>\n",
       "      <th></th>\n",
       "      <th></th>\n",
       "      <th></th>\n",
       "      <th></th>\n",
       "      <th></th>\n",
       "      <th></th>\n",
       "      <th></th>\n",
       "      <th></th>\n",
       "      <th></th>\n",
       "      <th></th>\n",
       "      <th></th>\n",
       "      <th></th>\n",
       "      <th></th>\n",
       "    </tr>\n",
       "  </thead>\n",
       "  <tbody>\n",
       "    <tr>\n",
       "      <th>Manuel Neuer</th>\n",
       "      <td>Bayern Munich</td>\n",
       "      <td>GER</td>\n",
       "      <td>GK</td>\n",
       "      <td>34</td>\n",
       "      <td>33</td>\n",
       "      <td>33</td>\n",
       "      <td>2970</td>\n",
       "      <td>0</td>\n",
       "      <td>0</td>\n",
       "      <td>0</td>\n",
       "      <td>0</td>\n",
       "      <td>0.00</td>\n",
       "      <td>0.01</td>\n",
       "      <td>1</td>\n",
       "      <td>0</td>\n",
       "    </tr>\n",
       "    <tr>\n",
       "      <th>Thomas Müller</th>\n",
       "      <td>Bayern Munich</td>\n",
       "      <td>GER</td>\n",
       "      <td>MF</td>\n",
       "      <td>30</td>\n",
       "      <td>32</td>\n",
       "      <td>31</td>\n",
       "      <td>2674</td>\n",
       "      <td>11</td>\n",
       "      <td>19</td>\n",
       "      <td>1</td>\n",
       "      <td>1</td>\n",
       "      <td>0.24</td>\n",
       "      <td>0.39</td>\n",
       "      <td>0</td>\n",
       "      <td>0</td>\n",
       "    </tr>\n",
       "    <tr>\n",
       "      <th>David Alaba</th>\n",
       "      <td>Bayern Munich</td>\n",
       "      <td>AUT</td>\n",
       "      <td>DF,MF</td>\n",
       "      <td>28</td>\n",
       "      <td>32</td>\n",
       "      <td>30</td>\n",
       "      <td>2675</td>\n",
       "      <td>2</td>\n",
       "      <td>4</td>\n",
       "      <td>0</td>\n",
       "      <td>0</td>\n",
       "      <td>0.04</td>\n",
       "      <td>0.08</td>\n",
       "      <td>4</td>\n",
       "      <td>0</td>\n",
       "    </tr>\n",
       "    <tr>\n",
       "      <th>Jérôme Boateng</th>\n",
       "      <td>Bayern Munich</td>\n",
       "      <td>GER</td>\n",
       "      <td>DF</td>\n",
       "      <td>31</td>\n",
       "      <td>29</td>\n",
       "      <td>29</td>\n",
       "      <td>2368</td>\n",
       "      <td>1</td>\n",
       "      <td>1</td>\n",
       "      <td>0</td>\n",
       "      <td>0</td>\n",
       "      <td>0.01</td>\n",
       "      <td>0.02</td>\n",
       "      <td>6</td>\n",
       "      <td>0</td>\n",
       "    </tr>\n",
       "    <tr>\n",
       "      <th>Robert Lewandowski</th>\n",
       "      <td>Bayern Munich</td>\n",
       "      <td>POL</td>\n",
       "      <td>FW</td>\n",
       "      <td>31</td>\n",
       "      <td>29</td>\n",
       "      <td>28</td>\n",
       "      <td>2458</td>\n",
       "      <td>41</td>\n",
       "      <td>7</td>\n",
       "      <td>8</td>\n",
       "      <td>9</td>\n",
       "      <td>1.16</td>\n",
       "      <td>0.13</td>\n",
       "      <td>4</td>\n",
       "      <td>0</td>\n",
       "    </tr>\n",
       "    <tr>\n",
       "      <th>Joshua Kimmich</th>\n",
       "      <td>Bayern Munich</td>\n",
       "      <td>GER</td>\n",
       "      <td>MF</td>\n",
       "      <td>25</td>\n",
       "      <td>27</td>\n",
       "      <td>25</td>\n",
       "      <td>2194</td>\n",
       "      <td>4</td>\n",
       "      <td>10</td>\n",
       "      <td>0</td>\n",
       "      <td>0</td>\n",
       "      <td>0.10</td>\n",
       "      <td>0.27</td>\n",
       "      <td>4</td>\n",
       "      <td>0</td>\n",
       "    </tr>\n",
       "    <tr>\n",
       "      <th>Kingsley Coman</th>\n",
       "      <td>Bayern Munich</td>\n",
       "      <td>FRA</td>\n",
       "      <td>FW,MF</td>\n",
       "      <td>24</td>\n",
       "      <td>29</td>\n",
       "      <td>23</td>\n",
       "      <td>1752</td>\n",
       "      <td>5</td>\n",
       "      <td>10</td>\n",
       "      <td>0</td>\n",
       "      <td>0</td>\n",
       "      <td>0.21</td>\n",
       "      <td>0.34</td>\n",
       "      <td>1</td>\n",
       "      <td>0</td>\n",
       "    </tr>\n",
       "    <tr>\n",
       "      <th>Benjamin Pavard</th>\n",
       "      <td>Bayern Munich</td>\n",
       "      <td>FRA</td>\n",
       "      <td>DF</td>\n",
       "      <td>24</td>\n",
       "      <td>24</td>\n",
       "      <td>22</td>\n",
       "      <td>1943</td>\n",
       "      <td>0</td>\n",
       "      <td>0</td>\n",
       "      <td>0</td>\n",
       "      <td>0</td>\n",
       "      <td>0.02</td>\n",
       "      <td>0.09</td>\n",
       "      <td>3</td>\n",
       "      <td>0</td>\n",
       "    </tr>\n",
       "    <tr>\n",
       "      <th>Alphonso Davies</th>\n",
       "      <td>Bayern Munich</td>\n",
       "      <td>CAN</td>\n",
       "      <td>DF</td>\n",
       "      <td>19</td>\n",
       "      <td>23</td>\n",
       "      <td>22</td>\n",
       "      <td>1763</td>\n",
       "      <td>1</td>\n",
       "      <td>2</td>\n",
       "      <td>0</td>\n",
       "      <td>0</td>\n",
       "      <td>0.01</td>\n",
       "      <td>0.04</td>\n",
       "      <td>2</td>\n",
       "      <td>1</td>\n",
       "    </tr>\n",
       "    <tr>\n",
       "      <th>Serge Gnabry</th>\n",
       "      <td>Bayern Munich</td>\n",
       "      <td>GER</td>\n",
       "      <td>FW,MF</td>\n",
       "      <td>25</td>\n",
       "      <td>27</td>\n",
       "      <td>20</td>\n",
       "      <td>1644</td>\n",
       "      <td>10</td>\n",
       "      <td>2</td>\n",
       "      <td>0</td>\n",
       "      <td>0</td>\n",
       "      <td>0.44</td>\n",
       "      <td>0.25</td>\n",
       "      <td>4</td>\n",
       "      <td>0</td>\n",
       "    </tr>\n",
       "  </tbody>\n",
       "</table>\n",
       "</div>"
      ],
      "text/plain": [
       "                             Club Nationality Position  Age  Matches  Starts  \\\n",
       "Name                                                                           \n",
       "Manuel Neuer        Bayern Munich         GER       GK   34       33      33   \n",
       "Thomas Müller       Bayern Munich         GER       MF   30       32      31   \n",
       "David Alaba         Bayern Munich         AUT    DF,MF   28       32      30   \n",
       "Jérôme Boateng      Bayern Munich         GER       DF   31       29      29   \n",
       "Robert Lewandowski  Bayern Munich         POL       FW   31       29      28   \n",
       "Joshua Kimmich      Bayern Munich         GER       MF   25       27      25   \n",
       "Kingsley Coman      Bayern Munich         FRA    FW,MF   24       29      23   \n",
       "Benjamin Pavard     Bayern Munich         FRA       DF   24       24      22   \n",
       "Alphonso Davies     Bayern Munich         CAN       DF   19       23      22   \n",
       "Serge Gnabry        Bayern Munich         GER    FW,MF   25       27      20   \n",
       "\n",
       "                    Mins  Goals  Assists  Penalty_Goals  Penalty_Attempted  \\\n",
       "Name                                                                         \n",
       "Manuel Neuer        2970      0        0              0                  0   \n",
       "Thomas Müller       2674     11       19              1                  1   \n",
       "David Alaba         2675      2        4              0                  0   \n",
       "Jérôme Boateng      2368      1        1              0                  0   \n",
       "Robert Lewandowski  2458     41        7              8                  9   \n",
       "Joshua Kimmich      2194      4       10              0                  0   \n",
       "Kingsley Coman      1752      5       10              0                  0   \n",
       "Benjamin Pavard     1943      0        0              0                  0   \n",
       "Alphonso Davies     1763      1        2              0                  0   \n",
       "Serge Gnabry        1644     10        2              0                  0   \n",
       "\n",
       "                      xG    xA  Yellow_Cards  Red_Cards  \n",
       "Name                                                     \n",
       "Manuel Neuer        0.00  0.01             1          0  \n",
       "Thomas Müller       0.24  0.39             0          0  \n",
       "David Alaba         0.04  0.08             4          0  \n",
       "Jérôme Boateng      0.01  0.02             6          0  \n",
       "Robert Lewandowski  1.16  0.13             4          0  \n",
       "Joshua Kimmich      0.10  0.27             4          0  \n",
       "Kingsley Coman      0.21  0.34             1          0  \n",
       "Benjamin Pavard     0.02  0.09             3          0  \n",
       "Alphonso Davies     0.01  0.04             2          1  \n",
       "Serge Gnabry        0.44  0.25             4          0  "
      ]
     },
     "execution_count": 1,
     "metadata": {},
     "output_type": "execute_result"
    }
   ],
   "source": [
    "import pandas as pd\n",
    "data = pd.read_csv('bundesliga_top7_offensive.csv', index_col=0)\n",
    "data.head(10)"
   ]
  },
  {
   "cell_type": "markdown",
   "id": "693ac6d9",
   "metadata": {},
   "source": [
    "### Einzelne Zeile\n",
    "\n",
    "Uns interessieren die Spielerdaten von Joshua Kimmich näher. Um eine ganze Zeile\n",
    "aus der Tabelle herauszugreifen, verwenden wir das Attribut `.loc[zeilenindex]`\n",
    "und geben in eckigen Klammern den Index der Zeile an, die wir betrachten wollen.\n",
    "Da wir beim Import die Namen als Zeileindex gesetzt haben, lautet der Zugriff\n",
    "also wie folgt:"
   ]
  },
  {
   "cell_type": "code",
   "execution_count": 2,
   "id": "a67f9c50",
   "metadata": {},
   "outputs": [
    {
     "name": "stdout",
     "output_type": "stream",
     "text": [
      "Club                 Bayern Munich\n",
      "Nationality                    GER\n",
      "Position                        MF\n",
      "Age                             25\n",
      "Matches                         27\n",
      "Starts                          25\n",
      "Mins                          2194\n",
      "Goals                            4\n",
      "Assists                         10\n",
      "Penalty_Goals                    0\n",
      "Penalty_Attempted                0\n",
      "xG                             0.1\n",
      "xA                            0.27\n",
      "Yellow_Cards                     4\n",
      "Red_Cards                        0\n",
      "Name: Joshua Kimmich, dtype: object\n"
     ]
    }
   ],
   "source": [
    "zeile = data.loc['Joshua Kimmich']\n",
    "print(zeile)"
   ]
  },
  {
   "cell_type": "markdown",
   "id": "4fcfca91",
   "metadata": {},
   "source": [
    "### Zusammenhängende Zeilen: Slicing\n",
    "\n",
    "Wenn wir auf mehrere Zeilen gleichzeitig zugreifen wollen, gibt es zwei\n",
    "Möglichkeiten:\n",
    "\n",
    "1. Die Zeilen folgen direkt aufeinander, sind also zusammenhängend.\n",
    "2. Zwischen den einzelnen Zeilen sind Lücken. \n",
    "\n",
    "Als erstes betrachten wir zusammenhängende Zeilen. Der Zugriff auf\n",
    "zusammenhängende Bereiche wird in der Informatik **Slicing** genannt. Bei der\n",
    "Angabe des Bereiches gibt man den Anfangsindex gefolgt von einem Doppelpunkt an\n",
    "und dann den Endindex der letzten Zeile, die \"herausgeschnitten\" werden soll."
   ]
  },
  {
   "cell_type": "code",
   "execution_count": 3,
   "id": "6c7044ba",
   "metadata": {},
   "outputs": [
    {
     "name": "stdout",
     "output_type": "stream",
     "text": [
      "                          Club Nationality Position  Age  Matches  Starts  \\\n",
      "Name                                                                        \n",
      "Joshua Kimmich   Bayern Munich         GER       MF   25       27      25   \n",
      "Kingsley Coman   Bayern Munich         FRA    FW,MF   24       29      23   \n",
      "Benjamin Pavard  Bayern Munich         FRA       DF   24       24      22   \n",
      "Alphonso Davies  Bayern Munich         CAN       DF   19       23      22   \n",
      "\n",
      "                 Mins  Goals  Assists  Penalty_Goals  Penalty_Attempted    xG  \\\n",
      "Name                                                                            \n",
      "Joshua Kimmich   2194      4       10              0                  0  0.10   \n",
      "Kingsley Coman   1752      5       10              0                  0  0.21   \n",
      "Benjamin Pavard  1943      0        0              0                  0  0.02   \n",
      "Alphonso Davies  1763      1        2              0                  0  0.01   \n",
      "\n",
      "                   xA  Yellow_Cards  Red_Cards  \n",
      "Name                                            \n",
      "Joshua Kimmich   0.27             4          0  \n",
      "Kingsley Coman   0.34             1          0  \n",
      "Benjamin Pavard  0.09             3          0  \n",
      "Alphonso Davies  0.04             2          1  \n"
     ]
    }
   ],
   "source": [
    "zeilen_slice = data.loc['Joshua Kimmich' : 'Alphonso Davies']\n",
    "print(zeilen_slice)"
   ]
  },
  {
   "cell_type": "markdown",
   "id": "6822efe7",
   "metadata": {},
   "source": [
    "Beim Slicing können wir den Angangsindex oder den Endindex oder sogar beides\n",
    "weglassen. Wenn wir den Anfangsindex weglassen, fängt Pandas bei der ersten\n",
    "Zeile an. Lassen wir den Endindex weg, geht der Slice automatisch bis zum Ende. \n",
    "\n",
    "Im folgenden Beispiel startet der Slice bei 'Robert Lewandowski'und geht bis zur\n",
    "letzten Zeile. Obwohl nicht alle Zeilendargestellt werden, erkennen wir das an\n",
    "der Anzahl der Zeilen: 173 rows (und 15 Spalten columns). Zur Erinnerung, es\n",
    "sind insgesamt 177 Zeilen."
   ]
  },
  {
   "cell_type": "code",
   "execution_count": 4,
   "id": "c294a063",
   "metadata": {},
   "outputs": [
    {
     "name": "stdout",
     "output_type": "stream",
     "text": [
      "                             Club Nationality Position  Age  Matches  Starts  \\\n",
      "Name                                                                           \n",
      "Robert Lewandowski  Bayern Munich         POL       FW   31       29      28   \n",
      "Joshua Kimmich      Bayern Munich         GER       MF   25       27      25   \n",
      "Kingsley Coman      Bayern Munich         FRA    FW,MF   24       29      23   \n",
      "Benjamin Pavard     Bayern Munich         FRA       DF   24       24      22   \n",
      "Alphonso Davies     Bayern Munich         CAN       DF   19       23      22   \n",
      "...                           ...         ...      ...  ...      ...     ...   \n",
      "Loris Karius         Union Berlin         GER       GK   27        4       3   \n",
      "Akaki Gogia          Union Berlin         GER       FW   28        7       0   \n",
      "Leon Dajaku          Union Berlin         GER       FW   19        2       0   \n",
      "Tim Maciejewski      Union Berlin         GER       MF   19        1       0   \n",
      "Joshua Mees          Union Berlin         GER       FW   24        1       0   \n",
      "\n",
      "                    Mins  Goals  Assists  Penalty_Goals  Penalty_Attempted  \\\n",
      "Name                                                                         \n",
      "Robert Lewandowski  2458     41        7              8                  9   \n",
      "Joshua Kimmich      2194      4       10              0                  0   \n",
      "Kingsley Coman      1752      5       10              0                  0   \n",
      "Benjamin Pavard     1943      0        0              0                  0   \n",
      "Alphonso Davies     1763      1        2              0                  0   \n",
      "...                  ...    ...      ...            ...                ...   \n",
      "Loris Karius         292      0        0              0                  0   \n",
      "Akaki Gogia          140      0        1              0                  0   \n",
      "Leon Dajaku           37      0        0              0                  0   \n",
      "Tim Maciejewski        8      0        0              0                  0   \n",
      "Joshua Mees            5      0        0              0                  0   \n",
      "\n",
      "                      xG    xA  Yellow_Cards  Red_Cards  \n",
      "Name                                                     \n",
      "Robert Lewandowski  1.16  0.13             4          0  \n",
      "Joshua Kimmich      0.10  0.27             4          0  \n",
      "Kingsley Coman      0.21  0.34             1          0  \n",
      "Benjamin Pavard     0.02  0.09             3          0  \n",
      "Alphonso Davies     0.01  0.04             2          1  \n",
      "...                  ...   ...           ...        ...  \n",
      "Loris Karius        0.00  0.00             0          0  \n",
      "Akaki Gogia         0.09  0.28             1          0  \n",
      "Leon Dajaku         0.00  0.00             0          0  \n",
      "Tim Maciejewski     0.00  0.00             0          0  \n",
      "Joshua Mees         2.02  0.00             0          0  \n",
      "\n",
      "[173 rows x 15 columns]\n"
     ]
    }
   ],
   "source": [
    "data_slice_from_lewandowski = data.loc['Robert Lewandowski': ]\n",
    "print(data_slice_from_lewandowski)"
   ]
  },
  {
   "cell_type": "markdown",
   "id": "ad26af83",
   "metadata": {},
   "source": [
    "### Selektion unzusammenhängender Zeilen per Liste\n",
    "\n",
    "Soll auf mehrere Zeilen zugegriffen werdenn, die nicht zusammenhängen, so können\n",
    "wir eine Liste mit den Zeilenindizes übergeben."
   ]
  },
  {
   "cell_type": "code",
   "execution_count": 5,
   "id": "0a4c4086",
   "metadata": {},
   "outputs": [
    {
     "name": "stdout",
     "output_type": "stream",
     "text": [
      "                             Club Nationality Position  Age  Matches  Starts  \\\n",
      "Name                                                                           \n",
      "Manuel Neuer        Bayern Munich         GER       GK   34       33      33   \n",
      "Robert Lewandowski  Bayern Munich         POL       FW   31       29      28   \n",
      "Alphonso Davies     Bayern Munich         CAN       DF   19       23      22   \n",
      "\n",
      "                    Mins  Goals  Assists  Penalty_Goals  Penalty_Attempted  \\\n",
      "Name                                                                         \n",
      "Manuel Neuer        2970      0        0              0                  0   \n",
      "Robert Lewandowski  2458     41        7              8                  9   \n",
      "Alphonso Davies     1763      1        2              0                  0   \n",
      "\n",
      "                      xG    xA  Yellow_Cards  Red_Cards  \n",
      "Name                                                     \n",
      "Manuel Neuer        0.00  0.01             1          0  \n",
      "Robert Lewandowski  1.16  0.13             4          0  \n",
      "Alphonso Davies     0.01  0.04             2          1  \n"
     ]
    }
   ],
   "source": [
    "zeilen_multiple = data.loc[ ['Manuel Neuer', 'Robert Lewandowski', 'Alphonso Davies'] ]\n",
    "print(zeilen_multiple)"
   ]
  },
  {
   "cell_type": "markdown",
   "id": "ea47f9ab",
   "metadata": {},
   "source": [
    "## Zugriff auf Spalten\n",
    "\n",
    "Auf Spalten können wir zugreifen, indem wir `.loc` mit zwei Argumenten benutzen.\n",
    "Dann steht das 1. Argument für den Zeilenindex und das 2. Argument für den\n",
    "Spaltenindex. Wenn wir die komplette Spalte betrachten wollen, setzen wir für\n",
    "den Zeilenindex einfach einen Doppelpunkt `:`. Damit werden automatisch als\n",
    "Anfangsindex die erste Zeile und als Endindex die letzte Zeile gewählt.\n",
    "Ansonsten erfolgen die Zugriffe auf Spalten analog zu den Zugriffen auf Zeilen\n",
    "über die drei Möglichkeiten\n",
    "\n",
    "* einzelne Spalte,\n",
    "* zusammenhängende Spalten (Slicing) und\n",
    "* unzusammenhängende Spalten als Liste.\n",
    "\n",
    "### Einzelne Spalte\n",
    "\n",
    "Alle Minuten, die die Spieler auf dem Platz standen, erhalten wir somit als"
   ]
  },
  {
   "cell_type": "code",
   "execution_count": 6,
   "id": "4b3bc120",
   "metadata": {},
   "outputs": [
    {
     "name": "stdout",
     "output_type": "stream",
     "text": [
      "Name\n",
      "Manuel Neuer          2970\n",
      "Thomas Müller         2674\n",
      "David Alaba           2675\n",
      "Jérôme Boateng        2368\n",
      "Robert Lewandowski    2458\n",
      "                      ... \n",
      "Loris Karius           292\n",
      "Akaki Gogia            140\n",
      "Leon Dajaku             37\n",
      "Tim Maciejewski          8\n",
      "Joshua Mees              5\n",
      "Name: Mins, Length: 177, dtype: int64\n"
     ]
    }
   ],
   "source": [
    "data_minuten = data.loc[:, 'Mins']\n",
    "print(data_minuten)"
   ]
  },
  {
   "cell_type": "markdown",
   "id": "7889b9dc",
   "metadata": {},
   "source": [
    "### Zusammenhängende Spalten: Slicing\n",
    "\n",
    "Wenn wir beispielsweise die verwandelten Elfmeter mit den versuchten Elfmetern\n",
    "vergleichen wollen, so können wir die beiden aufeinanderfolgenden Spalten\n",
    "'Penalty_Goals' und 'Penalty_Attempted' als Slice ausschneiden:"
   ]
  },
  {
   "cell_type": "code",
   "execution_count": 7,
   "id": "d06ff099",
   "metadata": {},
   "outputs": [
    {
     "name": "stdout",
     "output_type": "stream",
     "text": [
      "                    Penalty_Goals  Penalty_Attempted\n",
      "Name                                                \n",
      "Manuel Neuer                    0                  0\n",
      "Thomas Müller                   1                  1\n",
      "David Alaba                     0                  0\n",
      "Jérôme Boateng                  0                  0\n",
      "Robert Lewandowski              8                  9\n",
      "...                           ...                ...\n",
      "Loris Karius                    0                  0\n",
      "Akaki Gogia                     0                  0\n",
      "Leon Dajaku                     0                  0\n",
      "Tim Maciejewski                 0                  0\n",
      "Joshua Mees                     0                  0\n",
      "\n",
      "[177 rows x 2 columns]\n"
     ]
    }
   ],
   "source": [
    "data_elfmeter = data.loc[:, 'Penalty_Goals' : 'Penalty_Attempted']\n",
    "print(data_elfmeter)"
   ]
  },
  {
   "cell_type": "markdown",
   "id": "c59f0709",
   "metadata": {},
   "source": [
    "### Selektion unzusammenhängender Spalten per Liste\n",
    "\n",
    "Die Anzahl der Tore ('Goals'), die Anzahl der Spiele ('Matches') und die\n",
    "durchschnittliche Anzahl erwarteter Tore pro Spiel ('xG') miteinander zu\n",
    "vergleichen, könnte aufschlussreich sein. Da die Spalten nicht nebeneinander\n",
    "liegen, müssen wir eine Liste benutzen, um sie zu selektieren."
   ]
  },
  {
   "cell_type": "code",
   "execution_count": 8,
   "id": "ba2d7001",
   "metadata": {},
   "outputs": [
    {
     "name": "stdout",
     "output_type": "stream",
     "text": [
      "                    Goals  Matches    xG\n",
      "Name                                    \n",
      "Manuel Neuer            0       33  0.00\n",
      "Thomas Müller          11       32  0.24\n",
      "David Alaba             2       32  0.04\n",
      "Jérôme Boateng          1       29  0.01\n",
      "Robert Lewandowski     41       29  1.16\n",
      "...                   ...      ...   ...\n",
      "Loris Karius            0        4  0.00\n",
      "Akaki Gogia             0        7  0.09\n",
      "Leon Dajaku             0        2  0.00\n",
      "Tim Maciejewski         0        1  0.00\n",
      "Joshua Mees             0        1  2.02\n",
      "\n",
      "[177 rows x 3 columns]\n"
     ]
    }
   ],
   "source": [
    "data_tore = data.loc[:, ['Goals', 'Matches', 'xG'] ]\n",
    "print(data_tore)"
   ]
  },
  {
   "cell_type": "markdown",
   "id": "7aac0a5c",
   "metadata": {},
   "source": [
    "## Zugriff auf Zellen\n",
    "\n",
    "Es kann auch vorkommen, dass man gezielt auf eine einzelne Zelle oder einen\n",
    "Bereich von Zellen zugreifen möchte. Auch dazu benutzen wir das Attribut\n",
    "`.loc[]`. \n",
    "\n",
    "Der Trick ist nun, die drei Möglichkeiten (einzeln, Slice und Selektion per\n",
    "Liste) für die Zeilen mit den gleichen drei Möglichkeiten des Zugriffes für\n",
    "Spalten zu kombinieren.\n",
    "\n",
    "Wollen wir Beispielsweise das Alter der Fußballprofis von 'David Alaba'bis\n",
    "'Serge Gnabry' wissen, so gehen wir folgendermaßen vor:"
   ]
  },
  {
   "cell_type": "code",
   "execution_count": 9,
   "id": "9039e51c",
   "metadata": {},
   "outputs": [
    {
     "name": "stdout",
     "output_type": "stream",
     "text": [
      "Name\n",
      "David Alaba           28\n",
      "Jérôme Boateng        31\n",
      "Robert Lewandowski    31\n",
      "Joshua Kimmich        25\n",
      "Kingsley Coman        24\n",
      "Benjamin Pavard       24\n",
      "Alphonso Davies       19\n",
      "Serge Gnabry          25\n",
      "Name: Age, dtype: int64\n"
     ]
    }
   ],
   "source": [
    "alter = data.loc['David Alaba' : 'Serge Gnabry', 'Age']\n",
    "print(alter)"
   ]
  },
  {
   "cell_type": "markdown",
   "id": "0d6509a1",
   "metadata": {},
   "source": [
    "Und möchten wir von den Herrn Thomas Müller, Kingsley Coman und Alphonso Davies\n",
    "sowhl die Nationalität als auch das Alter selektieren, so gehen wir wie folgt\n",
    "vor:"
   ]
  },
  {
   "cell_type": "code",
   "execution_count": 10,
   "id": "ea21223c",
   "metadata": {},
   "outputs": [
    {
     "name": "stdout",
     "output_type": "stream",
     "text": [
      "                Nationality  Age\n",
      "Name                            \n",
      "Thomas Müller           GER   30\n",
      "Kingsley Coman          FRA   24\n",
      "Alphonso Davies         CAN   19\n"
     ]
    }
   ],
   "source": [
    "data_special = data.loc[ ['Thomas Müller', 'Kingsley Coman', 'Alphonso Davies'], ['Nationality', 'Age'] ]\n",
    "print(data_special)"
   ]
  },
  {
   "cell_type": "markdown",
   "id": "e7422aff",
   "metadata": {},
   "source": [
    "## Filtern\n",
    "\n",
    "Vielleicht haben Sie sich schon gefragt, warum wir nur Bayern-Spieler analysiert\n",
    "haben. Die Antwort ist simpel, Bayern stand im Datensatz oben in den ersten\n",
    "Zeilen. Tatsächlich sind aber die Spielerdaten von sieben Vereinen im Datensatz\n",
    "enthalten. Wir können uns die verschiedenen Werte einer Spalte mit der Methode\n",
    "`.unique()`ansehen.\n",
    "\n",
    "In einem ersten Schritt lesen wir die Spalte mit den Vereinen aus (Spalte\n",
    "'Club'). Dann wenden wir auf das Ergnis die Methode `.unique()` an."
   ]
  },
  {
   "cell_type": "code",
   "execution_count": 11,
   "id": "19a5df2d",
   "metadata": {},
   "outputs": [
    {
     "name": "stdout",
     "output_type": "stream",
     "text": [
      "['Bayern Munich' 'Borussia Dortmund' 'RB Leipzig' 'Wolfsburg'\n",
      " 'Eintracht Frankfurt' 'Bayer Leverkusen' 'Union Berlin']\n"
     ]
    }
   ],
   "source": [
    "vereine = data.loc[:, 'Club']\n",
    "vereinsnamen = vereine.unique()\n",
    "print(vereinsnamen)"
   ]
  },
  {
   "cell_type": "markdown",
   "id": "73d133ea",
   "metadata": {},
   "source": [
    "Wenn man möchte, kann man auch beide Schritte in einem Schritt ausführen:"
   ]
  },
  {
   "cell_type": "code",
   "execution_count": 12,
   "id": "054155e0",
   "metadata": {},
   "outputs": [
    {
     "name": "stdout",
     "output_type": "stream",
     "text": [
      "['Bayern Munich' 'Borussia Dortmund' 'RB Leipzig' 'Wolfsburg'\n",
      " 'Eintracht Frankfurt' 'Bayer Leverkusen' 'Union Berlin']\n"
     ]
    }
   ],
   "source": [
    "vereinsnamen = data.loc[:, 'Club'].unique()\n",
    "print(vereinsnamen)"
   ]
  },
  {
   "cell_type": "markdown",
   "id": "0b32de16",
   "metadata": {},
   "source": [
    "Jetzt wo wir wissen, dass auch Eintracht Frankfurt dabei ist, würden wir den\n",
    "Datensatz gerne nach Eintracht Frankfurt filter. Dazu benutzen wir einen\n",
    "Vergleich und speichern das Ergebnis des Vergleichs in einer Variablen."
   ]
  },
  {
   "cell_type": "code",
   "execution_count": 13,
   "id": "426e907a",
   "metadata": {},
   "outputs": [
    {
     "name": "stdout",
     "output_type": "stream",
     "text": [
      "Name\n",
      "Manuel Neuer          False\n",
      "Thomas Müller         False\n",
      "David Alaba           False\n",
      "Jérôme Boateng        False\n",
      "Robert Lewandowski    False\n",
      "                      ...  \n",
      "Loris Karius          False\n",
      "Akaki Gogia           False\n",
      "Leon Dajaku           False\n",
      "Tim Maciejewski       False\n",
      "Joshua Mees           False\n",
      "Name: Club, Length: 177, dtype: bool\n"
     ]
    }
   ],
   "source": [
    "filter = data.loc[:, 'Club'] == 'Eintracht Frankfurt'\n",
    "print(filter)"
   ]
  },
  {
   "cell_type": "markdown",
   "id": "dcbd60ce",
   "metadata": {},
   "source": [
    "Das Ergebnis des Vergleichs, der in der Variablen `filter` gespeichert ist, ist\n",
    "ein Pandas-Series-Objekt, das für jede Zeile gespeichert hat, ob der Vergleich\n",
    "wahr (True) oder falsch (False) ist. Ist in einer Zeile der Club gleich\n",
    "'Eintracht Frankfurt', so ist in dem booleschen Objekt an dieser Stelle True\n",
    "eingetragen und ansonsten False. Der Datenyp dtype wird mit `bool` angegeben. \n",
    "\n",
    "Wir können nun anstatt einer Liste diesen booleschen Index nutzen, um Zeilen zu\n",
    "selektieren. Steht in einer Zeile des booleschen Series-Objektes `True`, so wird\n",
    "diese Zeile ausgewählt. Ansonsten wird die Zeile übersprungen. Damit erhalten\n",
    "wir alle Spielerdaten, die zu Eintracht Frankfurt gehören."
   ]
  },
  {
   "cell_type": "code",
   "execution_count": 14,
   "id": "345b7949",
   "metadata": {},
   "outputs": [
    {
     "name": "stdout",
     "output_type": "stream",
     "text": [
      "                                   Club Nationality Position  Age  Matches  \\\n",
      "Name                                                                         \n",
      "Kevin Trapp         Eintracht Frankfurt         GER       GK   30       33   \n",
      "André Silva         Eintracht Frankfurt         POR       FW   24       32   \n",
      "Filip Kostić        Eintracht Frankfurt         SRB       DF   27       30   \n",
      "Martin Hinteregger  Eintracht Frankfurt         AUT       DF   27       29   \n",
      "Daichi Kamada       Eintracht Frankfurt         JPN    MF,FW   23       32   \n",
      "Makoto Hasebe       Eintracht Frankfurt         JPN    DF,MF   36       29   \n",
      "Djibril Sow         Eintracht Frankfurt         SUI       MF   23       28   \n",
      "Obite N'Dicka       Eintracht Frankfurt         FRA       DF   20       23   \n",
      "Sebastian Rode      Eintracht Frankfurt         GER       MF   29       27   \n",
      "Erik Durm           Eintracht Frankfurt         GER       DF   28       21   \n",
      "Stefan Ilsanker     Eintracht Frankfurt         AUT    MF,DF   31       27   \n",
      "Tuta                Eintracht Frankfurt         BRA       DF   21       19   \n",
      "Amin Younes         Eintracht Frankfurt         GER    MF,FW   26       26   \n",
      "David Abraham       Eintracht Frankfurt         ARG       DF   34       14   \n",
      "Aymen Barkok        Eintracht Frankfurt         MAR    FW,MF   22       26   \n",
      "Bas Dost            Eintracht Frankfurt         NED       FW   31       12   \n",
      "Luka Jović          Eintracht Frankfurt         SRB    FW,MF   22       18   \n",
      "Almamy Touré        Eintracht Frankfurt         MLI       DF   24       17   \n",
      "Steven Zuber        Eintracht Frankfurt         SUI    DF,MF   28       20   \n",
      "Timothy Chandler    Eintracht Frankfurt         USA       DF   30       15   \n",
      "Dominik Kohr        Eintracht Frankfurt         GER    MF,FW   26        7   \n",
      "Ajdin Hrustic       Eintracht Frankfurt         AUS    MF,FW   24       11   \n",
      "Danny da Costa      Eintracht Frankfurt         GER       DF   27        6   \n",
      "Elias Bördner       Eintracht Frankfurt         GER       GK   18        1   \n",
      "Ragnar Ache         Eintracht Frankfurt         GER    FW,DF   22        7   \n",
      "\n",
      "                    Starts  Mins  Goals  Assists  Penalty_Goals  \\\n",
      "Name                                                              \n",
      "Kevin Trapp             33  2970      0        0              0   \n",
      "André Silva             32  2760     28        7              7   \n",
      "Filip Kostić            29  2534      4       14              0   \n",
      "Martin Hinteregger      29  2527      2        1              0   \n",
      "Daichi Kamada           28  2356      5       12              0   \n",
      "Makoto Hasebe           26  2288      0        0              0   \n",
      "Djibril Sow             25  2175      0        2              0   \n",
      "Obite N'Dicka           23  2044      3        1              0   \n",
      "Sebastian Rode          19  1625      1        0              0   \n",
      "Erik Durm               19  1480      1        2              0   \n",
      "Stefan Ilsanker         17  1578      1        0              0   \n",
      "Tuta                    16  1459      0        0              0   \n",
      "Amin Younes             16  1391      3        3              0   \n",
      "David Abraham           14  1222      1        0              0   \n",
      "Aymen Barkok             9   977      2        3              0   \n",
      "Bas Dost                 9   817      4        2              1   \n",
      "Luka Jović               8   894      4        1              0   \n",
      "Almamy Touré             8   704      1        1              0   \n",
      "Steven Zuber             6   585      0        3              0   \n",
      "Timothy Chandler         3   432      1        0              0   \n",
      "Dominik Kohr             2   260      0        0              0   \n",
      "Ajdin Hrustic            1   272      1        0              0   \n",
      "Danny da Costa           1   110      0        0              0   \n",
      "Elias Bördner            1    90      0        0              0   \n",
      "Ragnar Ache              0   100      1        0              0   \n",
      "\n",
      "                    Penalty_Attempted    xG    xA  Yellow_Cards  Red_Cards  \n",
      "Name                                                                        \n",
      "Kevin Trapp                         0  0.00  0.00             0          0  \n",
      "André Silva                         7  0.79  0.18             1          0  \n",
      "Filip Kostić                        0  0.14  0.41             4          0  \n",
      "Martin Hinteregger                  0  0.07  0.03             4          0  \n",
      "Daichi Kamada                       0  0.21  0.28             3          0  \n",
      "Makoto Hasebe                       0  0.01  0.01             5          0  \n",
      "Djibril Sow                         0  0.02  0.06             6          0  \n",
      "Obite N'Dicka                       0  0.05  0.01            10          0  \n",
      "Sebastian Rode                      0  0.01  0.07            10          0  \n",
      "Erik Durm                           0  0.10  0.13             1          0  \n",
      "Stefan Ilsanker                     0  0.07  0.01             4          0  \n",
      "Tuta                                0  0.01  0.02             5          0  \n",
      "Amin Younes                         0  0.22  0.11             5          0  \n",
      "David Abraham                       0  0.05  0.03             5          1  \n",
      "Aymen Barkok                        0  0.15  0.27             5          0  \n",
      "Bas Dost                            1  0.47  0.25             3          0  \n",
      "Luka Jović                          0  0.28  0.06             2          0  \n",
      "Almamy Touré                        0  0.15  0.16             2          0  \n",
      "Steven Zuber                        0  0.12  0.29             1          0  \n",
      "Timothy Chandler                    0  0.18  0.07             2          0  \n",
      "Dominik Kohr                        0  0.19  0.01             1          0  \n",
      "Ajdin Hrustic                       0  0.10  0.14             2          0  \n",
      "Danny da Costa                      0  0.14  0.00             0          0  \n",
      "Elias Bördner                       0  0.00  0.00             0          0  \n",
      "Ragnar Ache                         0  0.24  0.00             1          0  \n"
     ]
    }
   ],
   "source": [
    "eintracht_frankfurt = data.loc[ filter, :]\n",
    "print(eintracht_frankfurt)"
   ]
  },
  {
   "cell_type": "markdown",
   "id": "2ef3fef6",
   "metadata": {},
   "source": [
    "Da der print()-Befehl nicht alle Einträge anzeigt, gehen wir jetzt Zeile für\n",
    "Zeile durch. Den Zeilenindex erhalten wir über das Attribut `.index`:"
   ]
  },
  {
   "cell_type": "code",
   "execution_count": 15,
   "id": "05f9328b",
   "metadata": {},
   "outputs": [
    {
     "name": "stdout",
     "output_type": "stream",
     "text": [
      "Kevin Trapp\n",
      "André Silva\n",
      "Filip Kostić\n",
      "Martin Hinteregger\n",
      "Daichi Kamada\n",
      "Makoto Hasebe\n",
      "Djibril Sow\n",
      "Obite N'Dicka\n",
      "Sebastian Rode\n",
      "Erik Durm\n",
      "Stefan Ilsanker\n",
      "Tuta\n",
      "Amin Younes\n",
      "David Abraham\n",
      "Aymen Barkok\n",
      "Bas Dost\n",
      "Luka Jović\n",
      "Almamy Touré\n",
      "Steven Zuber\n",
      "Timothy Chandler\n",
      "Dominik Kohr\n",
      "Ajdin Hrustic\n",
      "Danny da Costa\n",
      "Elias Bördner\n",
      "Ragnar Ache\n"
     ]
    }
   ],
   "source": [
    "for zeilenindex in eintracht_frankfurt.index:\n",
    "    print(zeilenindex)"
   ]
  },
  {
   "cell_type": "markdown",
   "id": "6dca75f1",
   "metadata": {},
   "source": [
    "## Zusammenfassung\n",
    "\n",
    "In diesem Abschnitt konnten wir nur die Basis-Funktionalitäten streifen.\n",
    "Natürlich ist auch möglich, Bereiche zu sortieren oder gruppieren. Im nächsten\n",
    "Abschnitt erarbeiten wir uns erste statistische Analysen mit Pandas."
   ]
  }
 ],
 "metadata": {
  "jupytext": {
   "formats": "ipynb,md:myst",
   "text_representation": {
    "extension": ".md",
    "format_name": "myst",
    "format_version": 0.13,
    "jupytext_version": "1.13.8"
   }
  },
  "kernelspec": {
   "display_name": "Python 3 (ipykernel)",
   "language": "python",
   "name": "python3"
  },
  "language_info": {
   "codemirror_mode": {
    "name": "ipython",
    "version": 3
   },
   "file_extension": ".py",
   "mimetype": "text/x-python",
   "name": "python",
   "nbconvert_exporter": "python",
   "pygments_lexer": "ipython3",
   "version": "3.10.8"
  },
  "source_map": [
   13,
   38,
   42,
   52,
   55,
   70,
   73,
   84,
   87,
   94,
   97,
   117,
   120,
   128,
   131,
   140,
   143,
   158,
   161,
   167,
   170,
   183,
   187,
   191,
   194,
   200,
   203,
   216,
   219,
   224,
   227
  ]
 },
 "nbformat": 4,
 "nbformat_minor": 5
}