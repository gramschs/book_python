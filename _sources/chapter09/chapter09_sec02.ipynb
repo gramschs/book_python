{
 "cells": [
  {
   "cell_type": "markdown",
   "id": "f5245d6c",
   "metadata": {},
   "source": [
    "# 9.2 Arbeiten mit Tabellendaten\n",
    "\n",
    "## Lernziele\n",
    "\n",
    "```{admonition} Lernziele\n",
    ":class: hint\n",
    "* Sie können auf ganze Zeilen und Spalten zugreifen:\n",
    "  * Zugriff auf eine einzelne Zeile oder Spalte, indem ein Index spezifiziert wird\n",
    "  * Zugriff auf mehrere zusammenhängende Zeilen oder Spalten (Slice) \n",
    "  * Zugriff auf mehrere unzusammenhängende Zeilen oder Spalten (Selektion)\n",
    "* Sie können auf einzelne oder mehrere Zellen der Tabelle zugreifen.\n",
    "* Sie können ein DataFrame-Objekt nach einer Eigenschaft filtern.\n",
    "```\n",
    "\n",
    "## Zugriff auf Zeilen\n",
    "\n",
    "Als erstes möchten wir ganze Zeilen der Tabelle lesen. Dazu verwenden wir das\n",
    "Attribut `.loc` mit passenden Indizes. \n",
    "\n",
    "Für die folgenden Demonstrationen wollen wir wiederum die Spielerdaten der\n",
    "Top7-Fußballvereine der Bundesligasaison 2020/21 verwenden. Importieren Sie\n",
    "bitte vorab die Daten und verwenden Sie die 1. Spalte (= Namen) als Zeilenindex."
   ]
  },
  {
   "cell_type": "code",
   "execution_count": 1,
   "id": "c7423059",
   "metadata": {},
   "outputs": [
    {
     "ename": "ModuleNotFoundError",
     "evalue": "No module named 'pandas'",
     "output_type": "error",
     "traceback": [
      "\u001b[0;31m---------------------------------------------------------------------------\u001b[0m",
      "\u001b[0;31mModuleNotFoundError\u001b[0m                       Traceback (most recent call last)",
      "Cell \u001b[0;32mIn[1], line 1\u001b[0m\n\u001b[0;32m----> 1\u001b[0m \u001b[38;5;28;01mimport\u001b[39;00m \u001b[38;5;21;01mpandas\u001b[39;00m \u001b[38;5;28;01mas\u001b[39;00m \u001b[38;5;21;01mpd\u001b[39;00m\n\u001b[1;32m      2\u001b[0m data \u001b[38;5;241m=\u001b[39m pd\u001b[38;5;241m.\u001b[39mread_csv(\u001b[38;5;124m'\u001b[39m\u001b[38;5;124mbundesliga_top7_offensive.csv\u001b[39m\u001b[38;5;124m'\u001b[39m, index_col\u001b[38;5;241m=\u001b[39m\u001b[38;5;241m0\u001b[39m)\n\u001b[1;32m      3\u001b[0m data\u001b[38;5;241m.\u001b[39mhead(\u001b[38;5;241m10\u001b[39m)\n",
      "\u001b[0;31mModuleNotFoundError\u001b[0m: No module named 'pandas'"
     ]
    }
   ],
   "source": [
    "import pandas as pd\n",
    "data = pd.read_csv('bundesliga_top7_offensive.csv', index_col=0)\n",
    "data.head(10)"
   ]
  },
  {
   "cell_type": "markdown",
   "id": "d1d2dbe7",
   "metadata": {},
   "source": [
    "### Einzelne Zeile\n",
    "\n",
    "Uns interessieren die Spielerdaten von Joshua Kimmich näher. Um eine ganze Zeile\n",
    "aus der Tabelle herauszugreifen, verwenden wir das Attribut `.loc[zeilenindex]`\n",
    "und geben in eckigen Klammern den Index der Zeile an, die wir betrachten wollen.\n",
    "Da wir beim Import die Namen als Zeileindex gesetzt haben, lautet der Zugriff\n",
    "also wie folgt:"
   ]
  },
  {
   "cell_type": "code",
   "execution_count": null,
   "id": "b97e68ca",
   "metadata": {},
   "outputs": [],
   "source": [
    "zeile = data.loc['Joshua Kimmich']\n",
    "print(zeile)"
   ]
  },
  {
   "cell_type": "markdown",
   "id": "2aac208f",
   "metadata": {},
   "source": [
    "### Zusammenhängende Zeilen: Slicing\n",
    "\n",
    "Wenn wir auf mehrere Zeilen gleichzeitig zugreifen wollen, gibt es zwei\n",
    "Möglichkeiten:\n",
    "\n",
    "1. Die Zeilen folgen direkt aufeinander, sind also zusammenhängend.\n",
    "2. Zwischen den einzelnen Zeilen sind Lücken. \n",
    "\n",
    "Als erstes betrachten wir zusammenhängende Zeilen. Der Zugriff auf\n",
    "zusammenhängende Bereiche wird in der Informatik **Slicing** genannt. Bei der\n",
    "Angabe des Bereiches gibt man den Anfangsindex gefolgt von einem Doppelpunkt an\n",
    "und dann den Endindex der letzten Zeile, die \"herausgeschnitten\" werden soll."
   ]
  },
  {
   "cell_type": "code",
   "execution_count": null,
   "id": "44a29155",
   "metadata": {},
   "outputs": [],
   "source": [
    "zeilen_slice = data.loc['Joshua Kimmich' : 'Alphonso Davies']\n",
    "print(zeilen_slice)"
   ]
  },
  {
   "cell_type": "markdown",
   "id": "cf3d118b",
   "metadata": {},
   "source": [
    "Beim Slicing können wir den Angangsindex oder den Endindex oder sogar beides\n",
    "weglassen. Wenn wir den Anfangsindex weglassen, fängt Pandas bei der ersten\n",
    "Zeile an. Lassen wir den Endindex weg, geht der Slice automatisch bis zum Ende. \n",
    "\n",
    "Im folgenden Beispiel startet der Slice bei 'Robert Lewandowski'und geht bis zur\n",
    "letzten Zeile. Obwohl nicht alle Zeilendargestellt werden, erkennen wir das an\n",
    "der Anzahl der Zeilen: 173 rows (und 15 Spalten columns). Zur Erinnerung, es\n",
    "sind insgesamt 177 Zeilen."
   ]
  },
  {
   "cell_type": "code",
   "execution_count": null,
   "id": "ca79e942",
   "metadata": {},
   "outputs": [],
   "source": [
    "data_slice_from_lewandowski = data.loc['Robert Lewandowski': ]\n",
    "print(data_slice_from_lewandowski)"
   ]
  },
  {
   "cell_type": "markdown",
   "id": "561bde67",
   "metadata": {},
   "source": [
    "### Selektion unzusammenhängender Zeilen per Liste\n",
    "\n",
    "Soll auf mehrere Zeilen zugegriffen werdenn, die nicht zusammenhängen, so können\n",
    "wir eine Liste mit den Zeilenindizes übergeben."
   ]
  },
  {
   "cell_type": "code",
   "execution_count": null,
   "id": "3d3747ce",
   "metadata": {},
   "outputs": [],
   "source": [
    "zeilen_multiple = data.loc[ ['Manuel Neuer', 'Robert Lewandowski', 'Alphonso Davies'] ]\n",
    "print(zeilen_multiple)"
   ]
  },
  {
   "cell_type": "markdown",
   "id": "eed80c75",
   "metadata": {},
   "source": [
    "## Zugriff auf Spalten\n",
    "\n",
    "Auf Spalten können wir zugreifen, indem wir `.loc` mit zwei Argumenten benutzen.\n",
    "Dann steht das 1. Argument für den Zeilenindex und das 2. Argument für den\n",
    "Spaltenindex. Wenn wir die komplette Spalte betrachten wollen, setzen wir für\n",
    "den Zeilenindex einfach einen Doppelpunkt `:`. Damit werden automatisch als\n",
    "Anfangsindex die erste Zeile und als Endindex die letzte Zeile gewählt.\n",
    "Ansonsten erfolgen die Zugriffe auf Spalten analog zu den Zugriffen auf Zeilen\n",
    "über die drei Möglichkeiten\n",
    "\n",
    "* einzelne Spalte,\n",
    "* zusammenhängende Spalten (Slicing) und\n",
    "* unzusammenhängende Spalten als Liste.\n",
    "\n",
    "### Einzelne Spalte\n",
    "\n",
    "Alle Minuten, die die Spieler auf dem Platz standen, erhalten wir somit als"
   ]
  },
  {
   "cell_type": "code",
   "execution_count": null,
   "id": "cbcbe5cf",
   "metadata": {},
   "outputs": [],
   "source": [
    "data_minuten = data.loc[:, 'Mins']\n",
    "print(data_minuten)"
   ]
  },
  {
   "cell_type": "markdown",
   "id": "13977961",
   "metadata": {},
   "source": [
    "### Zusammenhängende Spalten: Slicing\n",
    "\n",
    "Wenn wir beispielsweise die verwandelten Elfmeter mit den versuchten Elfmetern\n",
    "vergleichen wollen, so können wir die beiden aufeinanderfolgenden Spalten\n",
    "'Penalty_Goals' und 'Penalty_Attempted' als Slice ausschneiden:"
   ]
  },
  {
   "cell_type": "code",
   "execution_count": null,
   "id": "e9a32e14",
   "metadata": {},
   "outputs": [],
   "source": [
    "data_elfmeter = data.loc[:, 'Penalty_Goals' : 'Penalty_Attempted']\n",
    "print(data_elfmeter)"
   ]
  },
  {
   "cell_type": "markdown",
   "id": "4c1219b3",
   "metadata": {},
   "source": [
    "### Selektion unzusammenhängender Spalten per Liste\n",
    "\n",
    "Die Anzahl der Tore ('Goals'), die Anzahl der Spiele ('Matches') und die\n",
    "durchschnittliche Anzahl erwarteter Tore pro Spiel ('xG') miteinander zu\n",
    "vergleichen, könnte aufschlussreich sein. Da die Spalten nicht nebeneinander\n",
    "liegen, müssen wir eine Liste benutzen, um sie zu selektieren."
   ]
  },
  {
   "cell_type": "code",
   "execution_count": null,
   "id": "c9cac6b8",
   "metadata": {},
   "outputs": [],
   "source": [
    "data_tore = data.loc[:, ['Goals', 'Matches', 'xG'] ]\n",
    "print(data_tore)"
   ]
  },
  {
   "cell_type": "markdown",
   "id": "3024ec92",
   "metadata": {},
   "source": [
    "## Zugriff auf Zellen\n",
    "\n",
    "Es kann auch vorkommen, dass man gezielt auf eine einzelne Zelle oder einen\n",
    "Bereich von Zellen zugreifen möchte. Auch dazu benutzen wir das Attribut\n",
    "`.loc[]`. \n",
    "\n",
    "Der Trick ist nun, die drei Möglichkeiten (einzeln, Slice und Selektion per\n",
    "Liste) für die Zeilen mit den gleichen drei Möglichkeiten des Zugriffes für\n",
    "Spalten zu kombinieren.\n",
    "\n",
    "Wollen wir Beispielsweise das Alter der Fußballprofis von 'David Alaba'bis\n",
    "'Serge Gnabry' wissen, so gehen wir folgendermaßen vor:"
   ]
  },
  {
   "cell_type": "code",
   "execution_count": null,
   "id": "3e19a7f9",
   "metadata": {},
   "outputs": [],
   "source": [
    "alter = data.loc['David Alaba' : 'Serge Gnabry', 'Age']\n",
    "print(alter)"
   ]
  },
  {
   "cell_type": "markdown",
   "id": "d3f46a10",
   "metadata": {},
   "source": [
    "Und möchten wir von den Herrn Thomas Müller, Kingsley Coman und Alphonso Davies\n",
    "sowhl die Nationalität als auch das Alter selektieren, so gehen wir wie folgt\n",
    "vor:"
   ]
  },
  {
   "cell_type": "code",
   "execution_count": null,
   "id": "28d706fb",
   "metadata": {},
   "outputs": [],
   "source": [
    "data_special = data.loc[ ['Thomas Müller', 'Kingsley Coman', 'Alphonso Davies'], ['Nationality', 'Age'] ]\n",
    "print(data_special)"
   ]
  },
  {
   "cell_type": "markdown",
   "id": "caf0c6db",
   "metadata": {},
   "source": [
    "## Filtern\n",
    "\n",
    "Vielleicht haben Sie sich schon gefragt, warum wir nur Bayern-Spieler analysiert\n",
    "haben. Die Antwort ist simpel, Bayern stand im Datensatz oben in den ersten\n",
    "Zeilen. Tatsächlich sind aber die Spielerdaten von sieben Vereinen im Datensatz\n",
    "enthalten. Wir können uns die verschiedenen Werte einer Spalte mit der Methode\n",
    "`.unique()`ansehen.\n",
    "\n",
    "In einem ersten Schritt lesen wir die Spalte mit den Vereinen aus (Spalte\n",
    "'Club'). Dann wenden wir auf das Ergnis die Methode `.unique()` an."
   ]
  },
  {
   "cell_type": "code",
   "execution_count": null,
   "id": "7f619cac",
   "metadata": {},
   "outputs": [],
   "source": [
    "vereine = data.loc[:, 'Club']\n",
    "vereinsnamen = vereine.unique()\n",
    "print(vereinsnamen)"
   ]
  },
  {
   "cell_type": "markdown",
   "id": "ccd94e13",
   "metadata": {},
   "source": [
    "Wenn man möchte, kann man auch beide Schritte in einem Schritt ausführen:"
   ]
  },
  {
   "cell_type": "code",
   "execution_count": null,
   "id": "cfd33a30",
   "metadata": {},
   "outputs": [],
   "source": [
    "vereinsnamen = data.loc[:, 'Club'].unique()\n",
    "print(vereinsnamen)"
   ]
  },
  {
   "cell_type": "markdown",
   "id": "6373ae0e",
   "metadata": {},
   "source": [
    "Jetzt wo wir wissen, dass auch Eintracht Frankfurt dabei ist, würden wir den\n",
    "Datensatz gerne nach Eintracht Frankfurt filter. Dazu benutzen wir einen\n",
    "Vergleich und speichern das Ergebnis des Vergleichs in einer Variablen."
   ]
  },
  {
   "cell_type": "code",
   "execution_count": null,
   "id": "b55613c4",
   "metadata": {},
   "outputs": [],
   "source": [
    "filter = data.loc[:, 'Club'] == 'Eintracht Frankfurt'\n",
    "print(filter)"
   ]
  },
  {
   "cell_type": "markdown",
   "id": "a98f0663",
   "metadata": {},
   "source": [
    "Das Ergebnis des Vergleichs, der in der Variablen `filter` gespeichert ist, ist\n",
    "ein Pandas-Series-Objekt, das für jede Zeile gespeichert hat, ob der Vergleich\n",
    "wahr (True) oder falsch (False) ist. Ist in einer Zeile der Club gleich\n",
    "'Eintracht Frankfurt', so ist in dem booleschen Objekt an dieser Stelle True\n",
    "eingetragen und ansonsten False. Der Datenyp dtype wird mit `bool` angegeben. \n",
    "\n",
    "Wir können nun anstatt einer Liste diesen booleschen Index nutzen, um Zeilen zu\n",
    "selektieren. Steht in einer Zeile des booleschen Series-Objektes `True`, so wird\n",
    "diese Zeile ausgewählt. Ansonsten wird die Zeile übersprungen. Damit erhalten\n",
    "wir alle Spielerdaten, die zu Eintracht Frankfurt gehören."
   ]
  },
  {
   "cell_type": "code",
   "execution_count": null,
   "id": "daa0bae4",
   "metadata": {},
   "outputs": [],
   "source": [
    "eintracht_frankfurt = data.loc[ filter, :]\n",
    "print(eintracht_frankfurt)"
   ]
  },
  {
   "cell_type": "markdown",
   "id": "d3bef00c",
   "metadata": {},
   "source": [
    "Da der print()-Befehl nicht alle Einträge anzeigt, gehen wir jetzt Zeile für\n",
    "Zeile durch. Den Zeilenindex erhalten wir über das Attribut `.index`:"
   ]
  },
  {
   "cell_type": "code",
   "execution_count": null,
   "id": "3b9acba8",
   "metadata": {},
   "outputs": [],
   "source": [
    "for zeilenindex in eintracht_frankfurt.index:\n",
    "    print(zeilenindex)"
   ]
  },
  {
   "cell_type": "markdown",
   "id": "d58b39c5",
   "metadata": {},
   "source": [
    "## Zusammenfassung\n",
    "\n",
    "In diesem Abschnitt konnten wir nur die Basis-Funktionalitäten streifen.\n",
    "Natürlich ist auch möglich, Bereiche zu sortieren oder gruppieren. Im nächsten\n",
    "Abschnitt erarbeiten wir uns erste statistische Analysen mit Pandas."
   ]
  }
 ],
 "metadata": {
  "jupytext": {
   "formats": "ipynb,md:myst",
   "text_representation": {
    "extension": ".md",
    "format_name": "myst",
    "format_version": 0.13,
    "jupytext_version": "1.13.8"
   }
  },
  "kernelspec": {
   "display_name": "Python 3 (ipykernel)",
   "language": "python",
   "name": "python3"
  },
  "language_info": {
   "codemirror_mode": {
    "name": "ipython",
    "version": 3
   },
   "file_extension": ".py",
   "mimetype": "text/x-python",
   "name": "python",
   "nbconvert_exporter": "python",
   "pygments_lexer": "ipython3",
   "version": "3.10.8"
  },
  "source_map": [
   13,
   38,
   42,
   52,
   55,
   70,
   73,
   84,
   87,
   94,
   97,
   117,
   120,
   128,
   131,
   140,
   143,
   158,
   161,
   167,
   170,
   183,
   187,
   191,
   194,
   200,
   203,
   216,
   219,
   224,
   227
  ]
 },
 "nbformat": 4,
 "nbformat_minor": 5
}