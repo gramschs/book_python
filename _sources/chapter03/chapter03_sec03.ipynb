{
 "cells": [
  {
   "cell_type": "markdown",
   "id": "742f4fdc",
   "metadata": {},
   "source": [
    "# 3.3 Das Modul Turtle\n",
    "\n",
    "In der Informatik nennt man Grafiken, die dadurch entstehen, dass ein Roboter\n",
    "Linien auf eine Leinwand zeichnet, Turtle-Grafiken. Der Roboter wird dabei mit\n",
    "einfachen Kommandos gesteuert. Beschrieben wird er durch seine Position (x- und\n",
    "y-Koordinaten in einem kartesischen Koordinatensystem) und seine Ausrichtung.\n",
    "Der \"Stift\" des Roboters kann von seinen Eigenschaften her ebenfalls variieren.\n",
    "So können beispielsweise verschiedenfarbige Stifte verwendet werden oder die\n",
    "Linienstärke kann verändert werden.\n",
    "\n",
    "Der Kern von Python enthält bereits ein Modul namens `turtle`, um eine solche\n",
    "Turtle-Grafik zu erzeugen. Da wir in dieser Vorlesung mit Jupyter Notebooks\n",
    "arbeiten, verwenden wir jedoch das Modul `colabTurtlePlus`, das das Turtle-Modul mit\n",
    "Funktionalitäten für Jupyter Notebooks erweitert.\n",
    "\n",
    "```{admonition} Hinweis: Installation notwendig\n",
    ":class: warning\n",
    "Das Modul colabTurtlePlus ist kein Standardmodul und muss daher nachinstalliert\n",
    "werden. Bitte beachten Sie die Hinweise zur Installation \"Module\n",
    "nachinstallieren\" und die dazugehörige Mini-Übung unten.\n",
    "```\n",
    "\n",
    "## Lernziele \n",
    "\n",
    "```{admonition} Lernziele\n",
    ":class: admonition-goals\n",
    "* Sie können ein fehlendes Modul mit **conda** oder **pip** nachinstallieren.\n",
    "* Sie wissen, was eine **Turtle-Grafik** ist.\n",
    "* Sie können das Modul **colabTurtlePlus** importieren.\n",
    "* Sie können ein Roboterfeld initalisieren und den Roboter mit einfachen Kommandos über das Roboterfeld steuern.\n",
    "```"
   ]
  },
  {
   "cell_type": "markdown",
   "id": "0b52045d",
   "metadata": {},
   "source": [
    "## Module nachinstallieren\n",
    "\n",
    "Um ein Python-Modul bzw. ein Python-Paket aus einem Jupyter Notebook\n",
    "nachzuinstallieren, gibt es grundsätzlich zwei Möglichkeiten: mit **conda** oder\n",
    "mit **pip**. Conda ist ein Paket-Manager, der in der Anaconda-Distribution\n",
    "enthalten ist und in der Regel für die Installation von Python-Paketen verwendet\n",
    "wird, während pip ein Paket-Manager ist, der mit Python selbst installiert wird.\n",
    "\n",
    "Hier sind Schritt-für-Schritt-Anleitungen, wie man ein Python-Modul mit conda\n",
    "oder pip in einem Jupyter Notebook nachinstallieren kann.\n",
    "\n",
    "### Installation mit conda\n",
    "\n",
    "<ol>\n",
    "<li>Öffnen Sie das Jupyter Notebook.</li>\n",
    "<li>Erstellen Sie eine neue Code-Zelle und geben Sie folgenden Befehl ein:\n",
    "<p><code>!conda install &lt;paketname&gt;</code></p>\n",
    "<p>Ersetzen Sie dabei &lt;paketname&gt; durch den Namen des zu installierenden Pakets.</p>\n",
    "<li>Führen Sie die Zelle aus, indem Sie auf den Run-Button klicken.</li>\n",
    "<li>Warten Sie, bis das Paket heruntergeladen und installiert wurde.</li>\n",
    "<li>Überprüfen Sie, ob das Paket korrekt installiert wurde, indem Sie eine weitere\n",
    "   Code-Zelle erstellen und das Paket importieren:\n",
    "<p><code>import &lt;paketname&gt;</code></p>\n",
    "<p>Wenn kein Fehler auftritt, wurde das Paket erfolgreich installiert.</p>\n",
    "</ol>\n",
    "\n",
    "### Installation mit pip\n",
    "\n",
    "<ol>\n",
    "<li>Öffnen Sie das Jupyter Notebook.</li>\n",
    "<li>Erstellen Sie eine neue Code-Zelle und geben Sie folgenden Befehl ein:</li>\n",
    "<p><code>!pip install &lt;paketname&gt;</code></p>\n",
    "<p>Ersetzen Sie dabei &lt;paketname&gt; durch den Namen des zu installierenden Pakets.</p>\n",
    "<li>Führen Sie die Zelle aus, indem Sie auf den Run-Button klicken.</li>\n",
    "<li>Warten Sie, bis das Paket heruntergeladen und installiert wurde.</li>\n",
    "<li>Überprüfen Sie, ob das Paket korrekt installiert wurde, indem Sie eine weitere Code-Zelle erstellen und das Paket importieren:</p>\n",
    "<p><code>import &lt;paketname&gt;</code></p>\n",
    "<p>Wenn kein Fehler auftritt, wurde das Paket erfolgreich installiert.</p>\n",
    "</ol>\n",
    "\n",
    "### Wann conda und wann pip?\n",
    "\n",
    "Es ist wichtig zu beachten, dass conda und pip unterschiedliche\n",
    "Paket-Repositories verwenden. Wenn ein Paket mit conda installiert wurde, sollte\n",
    "es nicht mit pip aktualisiert oder deinstalliert werden, da dies zu\n",
    "Inkompatibilitäten führen kann. Umgekehrt sollte ein mit pip installiertes Paket\n",
    "nicht mit conda aktualisiert oder deinstalliert werden. \n",
    "\n",
    "In dieser Vorlesung arbeiten wir mit der Anaconda-Distribution. Sie sollten also\n",
    "immer zuerst versuchen, das fehlende Modul mit conda nachzuinstallieren. Nur\n",
    "wenn es nicht in der Anaconda-Distribution enthalten ist, nehmen Sie bitte pip.\n",
    "Die beiden folgenden Links verlinken auf die Liste der verfügbaren Pakete:\n",
    "\n",
    "* [https://docs.anaconda.com/anaconda/packages/pkg-docs/](https://docs.anaconda.com/anaconda/packages/pkg-docs/)\n",
    "* [https://pypi.org](https://pypi.org)\n",
    "\n",
    "```{admonition} Mini-Übung\n",
    ":class: miniexercise\n",
    "Installieren Sie jetzt das Modul `ColabTurtlePlus`, das leider nicht in der Anaconda-Distribution enthalten ist. Mehr Details zu diesem Modul finden Sie unter [https://pypi.org/project/ColabTurtlePlus/](https://pypi.org/project/ColabTurtlePlus/).\n",
    "```\n",
    "````{admonition} Lösung\n",
    ":class: miniexercise, toggle\n",
    "```markdown\n",
    "!pip install ColabTurtlePlus\n",
    "import ColabTurtlePlus\n",
    "```\n",
    "````\n",
    "\n",
    "\n",
    "## Ein Turtlefeld initalisieren \n",
    "\n",
    "Als erstes werden alle Funktionalitäten des Turtle-Moduls geladen. Die typische\n",
    "Abkürzung für dieses Modul ist `turtle`."
   ]
  },
  {
   "cell_type": "code",
   "execution_count": 1,
   "id": "8c816b1a",
   "metadata": {},
   "outputs": [
    {
     "ename": "ModuleNotFoundError",
     "evalue": "No module named 'ColabTurtlePlus'",
     "output_type": "error",
     "traceback": [
      "\u001b[0;31m---------------------------------------------------------------------------\u001b[0m",
      "\u001b[0;31mModuleNotFoundError\u001b[0m                       Traceback (most recent call last)",
      "Cell \u001b[0;32mIn[1], line 1\u001b[0m\n\u001b[0;32m----> 1\u001b[0m \u001b[38;5;28;01mimport\u001b[39;00m \u001b[38;5;21;01mColabTurtlePlus\u001b[39;00m\u001b[38;5;21;01m.\u001b[39;00m\u001b[38;5;21;01mTurtle\u001b[39;00m \u001b[38;5;28;01mas\u001b[39;00m \u001b[38;5;21;01mturtle\u001b[39;00m\n",
      "\u001b[0;31mModuleNotFoundError\u001b[0m: No module named 'ColabTurtlePlus'"
     ]
    }
   ],
   "source": [
    "import ColabTurtlePlus.Turtle as turtle"
   ]
  },
  {
   "cell_type": "markdown",
   "id": "8ae3f235",
   "metadata": {},
   "source": [
    "Es erscheint eine Meldung, nämlich der Hinweis: \"Put clearscreen() as the first\n",
    "line in a cell (after the import command) to re-run turtle commands in the\n",
    "cell\". Mit dem Kommando `turtle.clearscreen()` wird ein Turtlefeld initalisiert\n",
    "und gleichzeitig können später die vorhandenen Grafiken damit gelöscht werden,\n",
    "wenn die Code-Zelle erneut ausgeführt wird.\n",
    "\n",
    "Mit `dir(turtle)` können wir erkunden, was an Funktionalitäten vorhanden ist."
   ]
  },
  {
   "cell_type": "code",
   "execution_count": null,
   "id": "b7128519",
   "metadata": {},
   "outputs": [],
   "source": [
    "dir(turtle)"
   ]
  },
  {
   "cell_type": "markdown",
   "id": "7c14d240",
   "metadata": {},
   "source": [
    "Dann folgen wir der Anweisung, zuerst das Kommando `clearscreen()` zu benutzen."
   ]
  },
  {
   "cell_type": "code",
   "execution_count": null,
   "id": "d41e898d",
   "metadata": {},
   "outputs": [],
   "source": [
    "turtle.clearscreen()"
   ]
  },
  {
   "cell_type": "markdown",
   "id": "c788c799",
   "metadata": {},
   "source": [
    "Es erscheint eine leere Leinwand, die 800 Bildpunkte breit ist und 600\n",
    "Bildpunkte hoch ist. Bildpunkte werden normalerweise als **Pixel** bezeichnet,\n",
    "was wiederum mit px abgekürzt wird. \n",
    "\n",
    "Als nächstes setzen wir einen Roboter mitten in das Feld. Der Roboter soll den\n",
    "Namen Robo tragen. Da Variablen traditionell klein geschrieben werden, wird mit\n",
    "der folgenden Code-Zeile ein Roboter-Objekt namens `robo` initalisiert."
   ]
  },
  {
   "cell_type": "code",
   "execution_count": null,
   "id": "3f419142",
   "metadata": {},
   "outputs": [],
   "source": [
    "robo = turtle.Turtle()"
   ]
  },
  {
   "cell_type": "markdown",
   "id": "1234f79a",
   "metadata": {},
   "source": [
    "Der virtuelle Roboter wird durch ein Dreieck gekennzeichent. Die Spitze des\n",
    "Dreiecks zeigt in die Richtung, in die der Roboter aktuell schaut.\n",
    "\n",
    "## Der Roboter bewegt sich\n",
    "\n",
    "Der Roboter wird mit einfachen Befehlen wie vorwärts, links, rechts, usw.\n",
    "gesteuert. Die Befehle sind dabei englisch. Da sie an den Roboter gerichtet\n",
    "sind, wird zuerst der Name des Roboters verwendet, dann ein Punkt gesetzt und\n",
    "zuletzt der Befehlsname geschrieben. In die runden Klammern kommen die\n",
    "Argumente, z.B. um wie viele Schritte der Roboter sich vorwärts bewegen soll.\n",
    "\n",
    "Mit dem Befehl\n",
    "\n",
    "```python3\n",
    "robo.forward(schritte)\n",
    "```\n",
    "\n",
    "wird der Roboter vorwärts bewegt und legt insgesamt `schritte` (gemessen in Pixeln) zurück.\n",
    "\n",
    "Mit den Befehlen \n",
    "\n",
    "```python3\n",
    "robo.left(winkel)\n",
    "```\n",
    "\n",
    "und \n",
    "\n",
    "```python3\n",
    "robo.right(winkel)\n",
    "```\n",
    "\n",
    "wird der Roboter nach links (gegen den Uhrzeigersinn) oder rechts (im\n",
    "Uhrzeigersinn) gedreht. Der Drehwinkel wird durch die Variable `winkel`\n",
    "im Gradmaß bestimmt.\n",
    "\n",
    "Um jetzt den kompletten Code zusammen zu haben, wiederholen wir die bisherigen\n",
    "Code-Zeilen in der folgenden Code-Zelle und experimentieren dann in der\n",
    "übernächsten Code-Zelle mit der Steuerung des Roboters. Wenn Sie das Turtle-Feld\n",
    "wieder auf seinen Ausgangszustand zurücksetzen möchten, führen Sie erneut die\n",
    "Code-Zelle mit der Erzeugung und Initialisierung aus."
   ]
  },
  {
   "cell_type": "code",
   "execution_count": null,
   "id": "1e1a2977",
   "metadata": {},
   "outputs": [],
   "source": [
    "# Initalisierung des Feldes und Löschung bereits vorhandener Grafiken\n",
    "turtle.clearscreen()\n",
    "\n",
    "# Erzeugung eines Roboters mit Namen robo und Platzierung auf dem Feld\n",
    "robo = turtle.Turtle()\n",
    "\n",
    "# Robo bewegt sich\n",
    "robo.forward(100)\n",
    "robo.left(120)\n",
    "robo.forward(50)"
   ]
  },
  {
   "cell_type": "markdown",
   "id": "f2c679ad",
   "metadata": {},
   "source": [
    "```{admonition} Mini-Übung\n",
    ":class: miniexercise\n",
    "Lassen Sie den Roboter ein Rechteck der Länge 200 px und Höhe 100 px zeichnen. Am Ende soll der Roboter in die ursprüngliche Richtung hin ausgerichtet sein, also nach Osten bzw. rechts.\n",
    "```"
   ]
  },
  {
   "cell_type": "code",
   "execution_count": null,
   "id": "6ea4a7dc",
   "metadata": {},
   "outputs": [],
   "source": [
    "# Hier Ihr Code"
   ]
  },
  {
   "cell_type": "markdown",
   "id": "81dc00a9",
   "metadata": {},
   "source": [
    "````{admonition} Lösung\n",
    ":class: miniexercise, toggle\n",
    "```python\n",
    "turtle.clearscreen()\n",
    "robo = turtle.Turtle()\n",
    "robo.forward(200)\n",
    "robo.left(90)\n",
    "robo.forward(100)\n",
    "robo.left(90)\n",
    "robo.forward(200)\n",
    "robo.left(90)\n",
    "robo.forward(100)\n",
    "robo.left(90)\n",
    "```\n",
    "Anmerkung: natürlich hätten wir den Roboter auch viermal nach rechts drehen lassen können.\n",
    "````\n",
    "\n",
    "## Robo kann noch mehr... \n",
    "\n",
    "Die folgenden Befehle an den Roboter dienen zur Steuerung der Bewegung:\n",
    "\n",
    "* forward(schritte): Der Roboter bewegt sich vorwärts, die Streckenlänge wird in\n",
    "  Schritten `schritte` angegeben.\n",
    "* backward(schritte): Der Roboter bewegt sich rückwärts, die Streckenlänge wird\n",
    "  in Schritten `schritte` angegeben.\n",
    "* right(winkel): Der Roboter dreht sich nach rechts, der Winkel `winkel` wird in\n",
    "  Grad angegeben. \n",
    "* left(winkel): Der Roboter dreht sich nach links, der Winkel `winkel` wird in\n",
    "  Grad angegeben.  \n",
    "* goto(x,y): Der Roboter läuft direkt zu der angegeben Position (x,y).\n",
    "\n",
    "Der Stift wird mit folgenden Befehlen eingestellt:\n",
    "\n",
    "* penup(): Der Stift wird hochgehoben. Bewegt sich der Roboter, hinterlässt er\n",
    "  keine Zeichnung. \n",
    "* pendown(): Der Stift wird abgesetzt, ab jetzt zeichnet der Roboter wieder.\n",
    "* pensize(breite): Die Breite der Striche wird eingestellt, z.B. ist\n",
    "  `robo.pensize(10)` ein breiter Strich.  \n",
    "\n",
    "Für die Farbe gibt es das folgende Kommando:\n",
    "\n",
    "* pencolor(farbe): Ändert die Farbe der Striche, z.B. stellt der Befehl\n",
    "  `robo.pencolor('red')` auf rote Farbe um. Die Farben werden als String\n",
    "  übergeben und entsprechen den englischen Farben.\n",
    "\n",
    "Mehr Details finden Sie in der\n",
    "[Turtle-Dokumentation von ColabTurtlePlus](https://larryriddle.agnesscott.org/ColabTurtlePlus/documentation.html).\n",
    "\n",
    "Zum Abschluss noch eine Mini-Übung.\n",
    "\n",
    "```{admonition} Mini-Übung\n",
    ":class: miniexercise\n",
    "Lassen Sie den Roboter ein gleichseitiges Dreieck zeichnen. Die erste Seite soll rot sein, die zweite grün und die dritte blau.\n",
    "```"
   ]
  },
  {
   "cell_type": "code",
   "execution_count": null,
   "id": "49757293",
   "metadata": {},
   "outputs": [],
   "source": [
    "# Hier Ihr Code"
   ]
  },
  {
   "cell_type": "markdown",
   "id": "5202a32f",
   "metadata": {},
   "source": [
    "````{admonition} Lösung\n",
    ":class: miniexercise, toggle\n",
    "```python\n",
    "turtle.clearscreen()\n",
    "robo = turtle.Turtle()\n",
    "\n",
    "robo.pencolor('red')\n",
    "robo.forward(50)\n",
    "robo.left(120)\n",
    "robo.pencolor('green')\n",
    "robo.forward(100)\n",
    "robo.left(120)\n",
    "robo.pencolor('blue')\n",
    "robo.forward(100)\n",
    "robo.left(120)\n",
    "robo.pencolor('red')\n",
    "robo.forward(50)\n",
    "```\n",
    "````"
   ]
  }
 ],
 "metadata": {
  "jupytext": {
   "text_representation": {
    "extension": ".md",
    "format_name": "myst",
    "format_version": 0.13,
    "jupytext_version": "1.14.5"
   }
  },
  "kernelspec": {
   "display_name": "turtle",
   "language": "python",
   "name": "python3"
  },
  "language_info": {
   "codemirror_mode": {
    "name": "ipython",
    "version": 3
   },
   "file_extension": ".py",
   "mimetype": "text/x-python",
   "name": "python",
   "nbconvert_exporter": "python",
   "pygments_lexer": "ipython3",
   "version": "3.12.2"
  },
  "source_map": [
   12,
   46,
   122,
   124,
   134,
   136,
   140,
   142,
   152,
   154,
   197,
   208,
   215,
   217,
   274,
   276
  ]
 },
 "nbformat": 4,
 "nbformat_minor": 5
}