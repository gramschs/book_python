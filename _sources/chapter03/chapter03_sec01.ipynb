{
 "cells": [
  {
   "cell_type": "markdown",
   "id": "d5d58a48",
   "metadata": {},
   "source": [
    "# 3.1 Listen\n",
    "\n",
    "Bisher haben wir drei verschiedene Datentypen kennengelernt:\n",
    "* Integer (ganze Zahlen),\n",
    "* Floats (Fließkommazahlen) und\n",
    "* Strings (Zeichenketten).\n",
    "\n",
    "Damit können wir einzelne Objekte der realen Welt ganz gut abbilden. Mit einem\n",
    "String können wir den Namen einer Person erfassen, mit einem Integer das Alter\n",
    "der Person und mit einem Float die Körpergröße der Person gemessen in Meter. Was\n",
    "uns aber bisher fehlt ist, eine Sammlung von Namen oder eine Sammlung von\n",
    "Körpergrößen verwalten zu können. Daher werden wir uns in diesem Jupyter\n",
    "Notebook mit Listen beschäftigen.\n",
    "\n",
    "## Lernziele\n",
    "\n",
    "```{admonition} Lernziele\n",
    ":class: hint\n",
    "* Sie wissen, dass **Container** Datentypen sind, die andere Objekte als Sammlung verwalten.\n",
    "* Sie können eine **Liste** erzeugen.\n",
    "* Sie wissen, was der Fachbegriff **Index** bedeutet.\n",
    "* Sie können lesend und schreibend auf die Elemente einer Liste zugreifen, beherrschen also\n",
    "    * **Lesezugriff** und \n",
    "    * **Schreibzugriff**.\n",
    "* Sie können mit dem Plus-Operator + Listen **verketten**.\n",
    "* Sie können Elemente aus einer Liste löschen:\n",
    "    * Löschung per Index: Funktion **del**\n",
    "    * Löschung nach Wert: Methode **remove**\n",
    "```"
   ]
  },
  {
   "cell_type": "markdown",
   "id": "603a5993",
   "metadata": {},
   "source": [
    "## Container für Sammlungen\n",
    "\n",
    "In der Mathematik gibt es den Begriff des Vektors. Einen Vektor kann man als\n",
    "eine Sammlung von Zahlen interpretieren. Dabei müssen Vektoren nicht immer eine\n",
    "geometrische Interpretation haben. Beispielsweise steht der Vektor\n",
    "\n",
    "(116, 144, 199)\n",
    "\n",
    "für ein sehr schönes Blau, wenn die drei Komponenten als die Intensität der\n",
    "Farbanteile Rot - Grün - Blau interpretiert werden. Diese Art Farben zu\n",
    "beschreiben, wird RGB-Wert genannt (siehe auch [Wikipedia →\n",
    "RGB-Farbraum](https://de.wikipedia.org/wiki/RGB-Farbraum)). Die Internetseite\n",
    "[https://www.color-hex.com](https://www.color-hex.com/) ermöglicht es, die\n",
    "RGB-Werte verschiedener Farbtöne zu ermitteln.\n",
    "\n",
    "Wir könnten aber auch eine Namensliste mit den Mitgliedern einer WG führen\n",
    "wollen, z.B. [“Alice”, “Bob”, “Charlie”]. Damit verlassen wir die mathematische\n",
    "Welt der Zahlen und damit des Vektors. Aber auch für diese Anwendungsszenarien\n",
    "wäre es schön, Daten gemeinsam zu sammeln und zu verwalten. \n",
    "\n",
    "Der Fachbegriff für\n",
    "Datentypen, die daür gedacht sind, Daten als Sammlung zu verwalten, ist\n",
    "**Container**. In Python gibt es verschiedene Container:\n",
    "\n",
    "* Listen: list\n",
    "* Tupel: tuple\n",
    "* Dictionaries: dict\n",
    "* Mengen: set\n",
    "\n",
    "Wir behandeln in diesem Abschnitt die Listen."
   ]
  },
  {
   "cell_type": "markdown",
   "id": "9dfd8cbb",
   "metadata": {},
   "source": [
    "## Listen erzeugen mit []\n",
    "\n",
    "Eine Liste wird in Python durch eckige Klammern [  ] erzeugt. \n",
    "\n",
    "Betrachten wir ein Beispiel. Hier wird eine Liste mit den Elementen 1, 2, 3, 4,\n",
    "5 erzeugt und dann anschließend in der Variablen `liste_beispiel` gespeichert.\n",
    "Mit der Funktion `print()` lassen wir den Inhalt der Liste ausgeben."
   ]
  },
  {
   "cell_type": "code",
   "execution_count": 1,
   "id": "0b96bda0",
   "metadata": {},
   "outputs": [
    {
     "name": "stdout",
     "output_type": "stream",
     "text": [
      "[1, 2, 3, 4, 5]\n"
     ]
    }
   ],
   "source": [
    "liste_beispiel = [1, 2, 3, 4, 5]\n",
    "print(liste_beispiel)"
   ]
  },
  {
   "cell_type": "markdown",
   "id": "d89f26bf",
   "metadata": {},
   "source": [
    "Probieren Sie in der nächsten Mini-Übung selbst aus, wie eine Liste erzeugt\n",
    "wird."
   ]
  },
  {
   "cell_type": "markdown",
   "id": "3160709f",
   "metadata": {},
   "source": [
    "```{admonition} Mini-Übung\n",
    ":class: miniexercise\n",
    "Erzeugen Sie eine Liste mit Ihrem Vornamen, Ihrem Nachnamen und Ihrer Körpergröße in m. Welche Datentypen brauchen Sie für diese drei Objekte? Lassen Sie Ihre Liste auch ausgeben.\n",
    "```"
   ]
  },
  {
   "cell_type": "code",
   "execution_count": 2,
   "id": "126b634d",
   "metadata": {},
   "outputs": [],
   "source": [
    "# Hier Ihr Code"
   ]
  },
  {
   "cell_type": "markdown",
   "id": "0b4ca9f9",
   "metadata": {},
   "source": [
    "````{admonition} Lösung\n",
    ":class: minisolution, toggle\n",
    "```python\n",
    "person = ['Alice', 'Musterfrau', 1.61]\n",
    "print(person)\n",
    "```\n",
    "Vor- und Nachname werden durch Strings repräsentiert, die Körpergröße als Float.\n",
    "````\n",
    "\n",
    "Im folgenden Video können Sie sich die Erzeugung von Listen nochmal ansehen.\n",
    "\n",
    "<iframe width=\"560\" height=\"315\" src=\"https://www.youtube.com/embed/ihF8bZoauBs\" title=\"YouTube video player\" frameborder=\"0\" allow=\"accelerometer; autoplay; clipboard-write; encrypted-media; gyroscope; picture-in-picture; web-share\" allowfullscreen></iframe>\n",
    "\n",
    "## Elemente aus einer Liste herausholen: Zugriff\n",
    "\n",
    "Jede Liste hat einen Index. Man kann sich eine Liste wie eine Straße mit einer\n",
    "Sammlung von Häusern vorstellen. Um ein Haus in der Straße zu finden, hat es\n",
    "eine Hausnummer. Und das ist in der Informatik der **Index**, also die Position\n",
    "in der Liste, an der ein Element zu finden ist.\n",
    "\n",
    "In jeder Programmiersprache gibt es Container mit einem Index, wobei der Index\n",
    "in der Regel durch Integer repräsentiert wird. Allerdings gibt es Unterschiede,\n",
    "bei welcher Zahl die Nummerierung beginnt. **Python fängt mit der Null an.**\n",
    "Dann können wir mit dem Index sozusagen nachsehen, welches Element an dieser\n",
    "Index-Position gespeichert ist. Das nennt man in der Informatik **Lesezugriff**.\n",
    "Oder wir können das Element an einer bestimmten Index-Position gegen ein neues\n",
    "Element austauschen. Das nennt man dann **Schreibzugriff**.\n",
    "\n",
    "Um auf ein Element einer Liste zugreifen zu können (egal ob lesend oder\n",
    "schreibend), verwenden wir eckige Klammern und den Index. Der Lesezugriff für\n",
    "das erste Element sieht biepielsweise so aus:"
   ]
  },
  {
   "cell_type": "code",
   "execution_count": 3,
   "id": "5800c298",
   "metadata": {},
   "outputs": [
    {
     "name": "stdout",
     "output_type": "stream",
     "text": [
      "rot\n"
     ]
    }
   ],
   "source": [
    "# Erzeugung einer Liste\n",
    "meine_liste = ['rot', 'grün', 'blau', 'gelb', 'weiß', 'schwarz']\n",
    "\n",
    "# Lesezugriff mit Position 1, also Index 0\n",
    "erstes_objekt = meine_liste[0]\n",
    "print(erstes_objekt)"
   ]
  },
  {
   "cell_type": "markdown",
   "id": "de481cba",
   "metadata": {},
   "source": [
    "In der nächsten Mini-Übung wird der Lesezugriff genutzt, um ein Element in einer\n",
    "neuen Variable zu speichern."
   ]
  },
  {
   "cell_type": "markdown",
   "id": "276c39b5",
   "metadata": {},
   "source": [
    "```{admonition} Mini-Übung\n",
    ":class: miniexercise\n",
    "Speichern Sie das 4. Element der Liste `meine_liste = ['rot', 'grün', 'blau', 'gelb', 'weiß', 'schwarz']` in der Variable `vier` ab und lassen Sie es ausgeben.\n",
    "```"
   ]
  },
  {
   "cell_type": "code",
   "execution_count": 4,
   "id": "294beff2",
   "metadata": {},
   "outputs": [],
   "source": [
    "# Hier Ihr Code"
   ]
  },
  {
   "cell_type": "markdown",
   "id": "1805d49e",
   "metadata": {},
   "source": [
    "````{admonition} Lösung\n",
    ":class: minisolution, toggle\n",
    "```python\n",
    "meine_liste = ['rot', 'grün', 'blau', 'gelb', 'weiß', 'schwarz']\n",
    "\n",
    "vier = meine_liste[3]\n",
    "print(vier)\n",
    "```\n",
    "````"
   ]
  },
  {
   "cell_type": "markdown",
   "id": "86f5650d",
   "metadata": {},
   "source": [
    "Der Schreibzugriff erfolgt ebenfalls mit eckigen Klammern und dem Index.\n",
    "\n",
    "Im folgenden Code sehen Sie, wie in der Liste die Farbe weiß durch lila ersetzt wird."
   ]
  },
  {
   "cell_type": "code",
   "execution_count": 5,
   "id": "374c0f71",
   "metadata": {},
   "outputs": [
    {
     "name": "stdout",
     "output_type": "stream",
     "text": [
      "['rot', 'grün', 'blau', 'gelb', 'lila', 'schwarz']\n"
     ]
    }
   ],
   "source": [
    "# Erzeugung Liste\n",
    "meine_liste = ['rot', 'grün', 'blau', 'gelb', 'weiß', 'schwarz']\n",
    "\n",
    "# Schreibzugriff\n",
    "meine_liste[4] = 'lila'\n",
    "print(meine_liste)"
   ]
  },
  {
   "cell_type": "markdown",
   "id": "ae5960aa",
   "metadata": {},
   "source": [
    "Der Zugriff auf Listen wird auch in dem folgenden Video erklärt.\n",
    "\n",
    "<iframe width=\"560\" height=\"315\" src=\"https://www.youtube.com/embed/_XzWPXvya2w\" title=\"YouTube video player\" frameborder=\"0\" allow=\"accelerometer; autoplay; clipboard-write; encrypted-media; gyroscope; picture-in-picture; web-share\" allowfullscreen></iframe>\n",
    "\n",
    "## Liste + Liste = verkettete Liste\n",
    "\n",
    "Auch wenn es im ersten Moment verrückt erscheint, Python kann Listen addieren.\n",
    "Am besten schauen wir uns ein Beispiel an:"
   ]
  },
  {
   "cell_type": "code",
   "execution_count": 6,
   "id": "249471fb",
   "metadata": {},
   "outputs": [
    {
     "name": "stdout",
     "output_type": "stream",
     "text": [
      "['rot', 'grün', 'blau', 'red', 'green', 'blue']\n"
     ]
    }
   ],
   "source": [
    "liste_de = ['rot', 'grün', 'blau']\n",
    "liste_en = ['red', 'green', 'blue']\n",
    "\n",
    "# Verkettung zweier Listen durch +\n",
    "liste_de_en = liste_de + liste_en\n",
    "print(liste_de_en)"
   ]
  },
  {
   "cell_type": "markdown",
   "id": "fdac5dbe",
   "metadata": {},
   "source": [
    "Das Aneinanderhängen von Elementen zweier Container nennen wir in der Informatik\n",
    "**Verkettung**. Oft wird auch der englische Begriff **Concatenation** verwendet.\n",
    "\n",
    "In der folgenden Mini-Übung können Sie die Verkettung ausprobieren."
   ]
  },
  {
   "cell_type": "markdown",
   "id": "ba15f314",
   "metadata": {},
   "source": [
    "````{admonition} Mini-Übung\n",
    ":class: miniexercise\n",
    "Erzeugen Sie eine Liste mit den Monaten März, April und Mai und speichern Sie\n",
    "diese Liste in der Variable `fruehling`. Erzeugen Sie anschließend die Listen\n",
    "`sommer`, `herbst` und `winter` mit den jeweils passenden Monaten. Verketten Sie\n",
    "die vier Listen und speichern Sie in der Variable `jahr` ab. Lassen Sie zuletzt das \n",
    "Jahr anzeigen.\n",
    "\n",
    "Welchen Index hat Ihr Geburtsmonat in der Liste `jahr`?\n",
    "````"
   ]
  },
  {
   "cell_type": "code",
   "execution_count": 7,
   "id": "2ddf6da3",
   "metadata": {},
   "outputs": [],
   "source": [
    "# Hier Ihr Code"
   ]
  },
  {
   "cell_type": "markdown",
   "id": "2f8f31d2",
   "metadata": {},
   "source": [
    "````{admonition} Lösung\n",
    ":class: minisolution, toggle\n",
    "```python\n",
    "# Listen mit Monaten\n",
    "fruehling = ['März', 'April', 'Mai']\n",
    "sommer = ['Juni', 'Juli', 'August']\n",
    "herbst = ['September', 'Oktober', 'November']\n",
    "winter = ['Dezember', 'Januar', 'Februar']\n",
    "\n",
    "# Jahr\n",
    "jahr = fruehling + sommer + herbst + winter\n",
    "print(jahr)\n",
    "```\n",
    "Der März hat den Index 0, der April den Index 1 usw.. Der letzte Monat ist der\n",
    "Februar, der den Index 11 hat.\n",
    "````"
   ]
  },
  {
   "cell_type": "markdown",
   "id": "fbeae435",
   "metadata": {},
   "source": [
    "## Elemente löschen mit del und remove\n",
    "\n",
    "Die Verkettung der Listen führt dazu, dass die Listen länger werden. Die\n",
    "Umkehrung davon fehlt noch, das Kürzen von Listen. Wie so oft in Python gibt es\n",
    "mehrere Möglichkeiten, ein Element aus einer Liste zu entfernen, also zu\n",
    "löschen. Die Anweisung `del` löscht das Element an einer bestimmten Position.\n",
    "Zuerst kommt die Anweisung, dann das Listenelement mit Index:"
   ]
  },
  {
   "cell_type": "code",
   "execution_count": 8,
   "id": "68093f66",
   "metadata": {},
   "outputs": [
    {
     "name": "stdout",
     "output_type": "stream",
     "text": [
      "Vor dem Löschen: \n",
      "['Null', 'Eins', 'Zwei', 'Drei', 'Vier', 'Fünf']\n",
      "Nach dem Löschen\n",
      "['Null', 'Eins', 'Drei', 'Vier', 'Fünf']\n"
     ]
    }
   ],
   "source": [
    "meine_liste = ['Null', 'Eins', 'Zwei', 'Drei', 'Vier', 'Fünf']\n",
    "print('Vor dem Löschen: ')\n",
    "print(meine_liste)\n",
    "\n",
    "del meine_liste[2]\n",
    "print('Nach dem Löschen')\n",
    "print(meine_liste)"
   ]
  },
  {
   "cell_type": "markdown",
   "id": "a366d86a",
   "metadata": {},
   "source": [
    "Wie Sie sehen ist das dritte Element in der Liste gelöscht worden, da die\n",
    "Nummerierung des Index bei 0 startet."
   ]
  },
  {
   "cell_type": "markdown",
   "id": "62dc4c37",
   "metadata": {},
   "source": [
    "Vielleicht möchte man aber gar nicht ein Element an einer bestimmten Position\n",
    "löschen, sondern einen bestimmten Eintrag. Das folgende Beispiel implementiert\n",
    "eine Einkaufsliste in Python. Sobald ein Lebensmittel gekauft ist, soll es von\n",
    "der Liste gestrichen werden."
   ]
  },
  {
   "cell_type": "code",
   "execution_count": 9,
   "id": "1a5e7594",
   "metadata": {},
   "outputs": [
    {
     "name": "stdout",
     "output_type": "stream",
     "text": [
      "Einkaufsliste: \n",
      "['Milch', 'Kaffee', 'Brötchen', 'Marmelade']\n",
      "Nach dem Einkauf in der Bäckerei: \n",
      "['Milch', 'Kaffee', 'Marmelade']\n",
      "Nach dem Einkauf im Supermarkt: \n",
      "[]\n"
     ]
    }
   ],
   "source": [
    "einkaufsliste = ['Milch', 'Kaffee', 'Brötchen', 'Marmelade']\n",
    "\n",
    "print('Einkaufsliste: ')\n",
    "print(einkaufsliste)\n",
    "\n",
    "einkaufsliste.remove('Brötchen')\n",
    "print('Nach dem Einkauf in der Bäckerei: ')\n",
    "print(einkaufsliste)\n",
    "\n",
    "einkaufsliste.remove('Milch')\n",
    "einkaufsliste.remove('Kaffee')\n",
    "einkaufsliste.remove('Marmelade')\n",
    "print('Nach dem Einkauf im Supermarkt: ')\n",
    "print(einkaufsliste)"
   ]
  },
  {
   "cell_type": "markdown",
   "id": "766f7541",
   "metadata": {},
   "source": [
    "Die Vorgehensweise, um das Element `Milch` zu löschen, ist diesmal komplett\n",
    "anders. Diesmal hängen wir an die Variable `einkaufsliste` einen Punkt und dann\n",
    "den Namen des Kommandos `remove()`. Wieso das?\n",
    "\n",
    "Das Kommando `del` ist so wichtig und universell, dass es mit allen Containern\n",
    "funktioniert. Daher ist dieser Befehl als eine sogenannte **Funktion** im\n",
    "Python-Kern implementiert. Das Kommando `remove()` bezieht sich jedoch nur auf\n",
    "die Liste. Daher ist dieser Befehl als eine sogenannte **Methode**\n",
    "implementiert. Eine Methode ist eine Funktion, die zu einem Datentyp dazugehört.\n",
    "\n",
    "In späteren Kapiteln werden wir selbst Funktionen und Methoden\n",
    "(Objektorientierung) implementieren und auf die Unterschiede detaillierter\n",
    "eingehen. Im Moment begnügen wir uns mit der Tatsache, dass es Funktionen wie\n",
    "\n",
    "* input()\n",
    "* print()\n",
    "* del()\n",
    "\n",
    "gibt und Methoden, die mit einem Punkt an das Objekt angehängt werden wie z.B.\n",
    "`.remove()`."
   ]
  }
 ],
 "metadata": {
  "jupytext": {
   "text_representation": {
    "extension": ".md",
    "format_name": "myst",
    "format_version": 0.13,
    "jupytext_version": "1.14.5"
   }
  },
  "kernelspec": {
   "display_name": "turtle",
   "language": "python",
   "name": "python3"
  },
  "language_info": {
   "codemirror_mode": {
    "name": "ipython",
    "version": 3
   },
   "file_extension": ".py",
   "mimetype": "text/x-python",
   "name": "python",
   "nbconvert_exporter": "python",
   "pygments_lexer": "ipython3",
   "version": "3.10.8"
  },
  "source_map": [
   12,
   44,
   77,
   87,
   90,
   95,
   102,
   104,
   138,
   145,
   150,
   157,
   159,
   171,
   177,
   184,
   195,
   202,
   209,
   222,
   224,
   243,
   253,
   261,
   266,
   273,
   288
  ]
 },
 "nbformat": 4,
 "nbformat_minor": 5
}