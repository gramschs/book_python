{
 "cells": [
  {
   "cell_type": "code",
   "execution_count": 1,
   "id": "051f37a0",
   "metadata": {},
   "outputs": [
    {
     "data": {
      "application/vnd.jupyter.widget-view+json": {
       "model_id": "b37d1377c2f842cbbd4c8be2e7cab6db",
       "version_major": 2,
       "version_minor": 0
      },
      "text/plain": [
       "Canvas(height=250, width=500)"
      ]
     },
     "metadata": {},
     "output_type": "display_data"
    }
   ],
   "source": [
    "# Import der benötigten Module\n",
    "from ipyturtle3 import Canvas, TurtleScreen, Turtle\n",
    "\n",
    "# Erzeugung und Anzeige der Leinwand\n",
    "leinwand = Canvas(width=500, height=250)\n",
    "display(leinwand)\n",
    "\n",
    "# Initialisierung des Turtle-Feldes\n",
    "feld = TurtleScreen(leinwand)\n",
    "\n",
    "# Erzeugung eines Roboters mit Namen robo und Platzierung auf dem Feld\n",
    "robo = Turtle(feld)\n",
    "\n",
    "robo.forward(100)\n",
    "robo.left(120)\n",
    "robo.forward(50)"
   ]
  },
  {
   "cell_type": "code",
   "execution_count": 3,
   "id": "f197f4b0",
   "metadata": {},
   "outputs": [],
   "source": [
    "robo.penup()\n",
    "robo.forward(30)\n",
    "robo.pendown()\n",
    "robo.left(45)\n",
    "robo.forward(50)"
   ]
  },
  {
   "cell_type": "code",
   "execution_count": 4,
   "id": "4a8a7a2f",
   "metadata": {},
   "outputs": [],
   "source": [
    "robo.goto(-50, -50)"
   ]
  }
 ],
 "metadata": {
  "kernelspec": {
   "display_name": "Python 3 (ipykernel)",
   "language": "python",
   "name": "python3"
  },
  "language_info": {
   "codemirror_mode": {
    "name": "ipython",
    "version": 3
   },
   "file_extension": ".py",
   "mimetype": "text/x-python",
   "name": "python",
   "nbconvert_exporter": "python",
   "pygments_lexer": "ipython3",
   "version": "3.10.8"
  }
 },
 "nbformat": 4,
 "nbformat_minor": 5
}
