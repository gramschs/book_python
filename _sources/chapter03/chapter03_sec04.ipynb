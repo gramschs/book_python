{
 "cells": [
  {
   "cell_type": "markdown",
   "id": "56c5270e",
   "metadata": {},
   "source": [
    "# Übungen\n",
    "\n",
    "```{admonition} Übung 3.1 \n",
    ":class: miniexercise\n",
    "Schreiben Sie ein Programm, das den Benutzer zwei Seitenlängen für die beiden\n",
    "Katheten $a$ und $b$ eines rechtwinkligen Dreiecks eingeben lässt. Anschließend\n",
    "berechnet das Programm die Länge der Hypotenuse nach dem Satz des Pythagoras\n",
    "$a^2+b^2=c^2$ und gibt diese aus.\n",
    "\n",
    "Bemerkung: Was passiert, wenn Sie eine negative Zahl eingeben?\n",
    "```"
   ]
  }
 ],
 "metadata": {
  "jupytext": {
   "formats": "ipynb,md:myst",
   "text_representation": {
    "extension": ".md",
    "format_name": "myst",
    "format_version": 0.13,
    "jupytext_version": "1.13.8"
   }
  },
  "kernelspec": {
   "display_name": "Python 3 (ipykernel)",
   "language": "python",
   "name": "python3"
  },
  "language_info": {
   "codemirror_mode": {
    "name": "ipython",
    "version": 3
   },
   "file_extension": ".py",
   "mimetype": "text/x-python",
   "name": "python",
   "nbconvert_exporter": "python",
   "pygments_lexer": "ipython3",
   "version": "3.10.8"
  },
  "source_map": [
   13
  ]
 },
 "nbformat": 4,
 "nbformat_minor": 5
}