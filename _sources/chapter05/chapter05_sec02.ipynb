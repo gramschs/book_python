{
 "cells": [
  {
   "cell_type": "markdown",
   "id": "cf2d422f",
   "metadata": {},
   "source": [
    "# 5.2 Programmverzweigungen: if\n",
    "\n",
    "Im letzten Kapitel haben wir gelernt, wie ein Vergleich in Python durchgeführt\n",
    "wird und mit welchem Datentyp das Ergebnis eines solchen Vergleichs gespeichert\n",
    "wird. In diesem Kapitel geht es nun darum, dass ein Python-Programm auf das\n",
    "Ergebnis eines Vergleichs reagiert, indem Code-Abschnitte nur dann ausgeführt\n",
    "werden, wenn eine Bedingung erfüllt ist.\n",
    "\n",
    "## Lernziele\n",
    "\n",
    "```{admonition} Lernziele\n",
    ":class: goals\n",
    "* Sie können mit **if** eine Programmverzweigung implementieren.\n",
    "* Sie kennen den **modulo**-Operator `%`.\n",
    "```\n",
    "\n",
    "## Syntax der if-Verzweigung\n",
    "\n",
    "Bei einer Programmverzweigung wird Code abhängig von einer Bedingung ausgeführt.\n",
    "Im einfachsten Fall liegt ein if-Block vor. Die Syntax lautet wie folgt:\n",
    "\n",
    "```python\n",
    "if bedingung:\n",
    "    anweisung 1 # gehört zum if-Block\n",
    "    anweisung 2 # gehört zum if-Block\n",
    "anweisung 3 # gehört NICHT zum if-Block, wird immer ausgeführt\n",
    "```\n",
    "\n",
    "Ist die Bedingung erfüllt, also \"True\", so wird der eingerückte Anweisungsblock\n",
    "ausgeführt. Ist die Bedingung *nicht* erfüllt, wird dieser übersprungen. Damit\n",
    "ist gemeint, dass der Python-Interpreter nach dem Ende des if-Blocks\n",
    "weitermacht, falls die Bedingung nicht erfüllt ist (= False).\n",
    "\n",
    "Das Ende eines if-Blocks wird in Python durch die Einrückung bestimmt. Alle\n",
    "Anweisungen, die mit der gleichen Einrückung nach dem Doppelpunkt folgen,\n",
    "gehören zum if-Block. Sobald eine Zeile mit geringerer Einrückung (oder ohne\n",
    "Einrückung) erscheint, erkennt Python, dass der if-Block abgeschlossen ist.\n",
    "Diese Anweisungen werden dann unabhängig vom Ergebnis der if-Bedingung\n",
    "ausgeführt.\n",
    "\n",
    "Wir betrachten nun ein Beispiel:"
   ]
  },
  {
   "cell_type": "code",
   "execution_count": 1,
   "id": "664f7af6",
   "metadata": {},
   "outputs": [
    {
     "name": "stdout",
     "output_type": "stream",
     "text": [
      "Sie dürfen Alkohol kaufen.\n",
      "Bananen dürfen Sie immer kaufen, egal wie alt Sie sind ...\n"
     ]
    }
   ],
   "source": [
    "alter = 20\n",
    "if alter >= 18:\n",
    "    print('Sie dürfen Alkohol kaufen.')\n",
    "print('Bananen dürfen Sie immer kaufen, egal wie alt Sie sind ...')"
   ]
  },
  {
   "cell_type": "markdown",
   "id": "3c72ebaf",
   "metadata": {},
   "source": [
    "Da die Person volljährig ist (`alter = 20`), ist der Vergleich `alter >= 18`\n",
    "wahr, die Bedingung also erfüllt. Daher wird der Anweisungsblock, der nur aus\n",
    "einer einzigen Anweisung besteht, ausgeführt. Der Python-Interpreter gibt den\n",
    "String `Sie dürfen Alkohol kaufen.` aus und macht dann mit dem normalen Programm\n",
    "weiter. In unserem Beispiel mit dem Alkoholkauf ist die Zeile `print('Bananen\n",
    "dürfen Sie immer kaufen...')` nicht eingerückt und wird daher unabhängig vom\n",
    "Alter immer ausgeführt.\n",
    "\n",
    "Dieser Code könnte beispielsweise mit einer Benutzerabfrage kombiniert werden:\n",
    "\n",
    "```python\n",
    "alter = int(input('Wie alt sind Sie?'))\n",
    "if alter >= 18:\n",
    "    print('Sie dürfen Alkohol kaufen.')\n",
    "print('Bananen dürfen Sie immer kaufen, egal wie alt Sie sind...')\n",
    "```\n",
    "\n",
    "```{admonition} Mini-Übung\n",
    ":class: miniexercise\n",
    "Schreiben Sie ein Skript, das einen Benutzer oder eine Benutzerin nach der aktuellen Temperatur fragt. Wenn die Temperatur kleiner gleich 10 ˚C ist, soll ausgegeben werden: \"Heute ist es aber kalt!\"\n",
    "```"
   ]
  },
  {
   "cell_type": "code",
   "execution_count": 2,
   "id": "7ae13438",
   "metadata": {},
   "outputs": [],
   "source": [
    "# Geben Sie nach diesem Kommentar Ihren Code ein:\n"
   ]
  },
  {
   "cell_type": "markdown",
   "id": "93842dd4",
   "metadata": {},
   "source": [
    "````{admonition} Lösung\n",
    ":class: miniexercise, toggle\n",
    "```python\n",
    "# Eingabe\n",
    "temperatur = float(input('Welche Temperatur haben wir aktuell?'))\n",
    "\n",
    "# Verarbeitung und Ausgabe\n",
    "if temperatur <= 10:\n",
    "    print('Heute ist es aber kalt!')\n",
    "```\n",
    "````\n",
    "\n",
    "Nach dieser kurzen Mini-Übung kommt in der nächsten Mini-Übung eine etwas\n",
    "längere Aufgabenstellung.\n",
    "\n",
    "```{admonition} Mini-Übung\n",
    ":class: miniexercise\n",
    "Schreiben Sie ein Skript, das eine Benutzerin oder einen Benutzer nach einer Zahl fragt. \n",
    "Wenn die Zahl kleiner als 0 ist, soll ausgegeben werden: \"Die Zahl ist negativ.\"\n",
    "Wenn die Zahl genau gleich 0 ist, soll ausgegeben werden: \"Die Zahl ist Null.\"\n",
    "Wenn die Zahl größer als 0 ist, soll ausgegeben werden: \"Die Zahl ist positiv.\"\n",
    "\n",
    "Wie viele if-Blöcke brauchen Sie für die Umsetzung dieser Mini-Übung?\n",
    "```"
   ]
  },
  {
   "cell_type": "code",
   "execution_count": 3,
   "id": "0544c336",
   "metadata": {},
   "outputs": [],
   "source": [
    "# Geben Sie nach diesem Kommentar Ihren Code ein:\n"
   ]
  },
  {
   "cell_type": "markdown",
   "id": "ff57992a",
   "metadata": {},
   "source": [
    "````{admonition} Lösung\n",
    ":class: miniexercise, toggle\n",
    "```python\n",
    "# Eingabe\n",
    "zahl = float(input('Geben Sie bitte eine Zahl ein: '))\n",
    "\n",
    "# Verarbeitung und Ausgabe\n",
    "if zahl < 0:\n",
    "    print('Die Zahl ist negativ.')\n",
    "\n",
    "if zahl == 0:\n",
    "    print('Die Zahl ist Null.')\n",
    "\n",
    "if zahl > 0:\n",
    "    print('Die Zahl ist positiv.')\n",
    "```\n",
    "\n",
    "Der Code erfordert drei if-Blöcke. In einem späteren Kapitel werden wir lernen,\n",
    "diese Aufgabe eleganter mit elif / else zu programmieren.\n",
    "````\n",
    "\n",
    "```{dropdown} Video \"if-Anweisung\" von Programmieren Starten\n",
    "<iframe width=\"560\" height=\"315\" src=\"https://www.youtube.com/embed/b6KzYbM-Hvg\"\n",
    "title=\"YouTube video player\" frameborder=\"0\" allow=\"accelerometer; autoplay; clipboard-write;\n",
    "encrypted-media; gyroscope; picture-in-picture\" allowfullscreen></iframe>\n",
    "```\n",
    "\n",
    "## Der modulo-Operator\n",
    "\n",
    "Ein nützlicher Operator für Verzweigungen ist der modulo-Operator `%`. Dieser\n",
    "berechnet den Rest einer Division und wird häufig verwendet, um festzustellen,\n",
    "ob eine Zahl durch eine andere teilbar ist oder um zyklische Muster zu erzeugen."
   ]
  },
  {
   "cell_type": "code",
   "execution_count": 4,
   "id": "ab336f43",
   "metadata": {},
   "outputs": [
    {
     "name": "stdout",
     "output_type": "stream",
     "text": [
      "1\n",
      "0\n"
     ]
    }
   ],
   "source": [
    "# Beispiele für den modulo-Operator\n",
    "print(10 % 3)  # Ergebnis: 1 (Rest bei Division 10 durch 3)\n",
    "print(8 % 4)   # Ergebnis: 0 (Rest bei Division 8 durch 4)"
   ]
  },
  {
   "cell_type": "markdown",
   "id": "946b6c52",
   "metadata": {},
   "source": [
    "Der modulo-Operator ist besonders nützlich, um zu prüfen, ob eine Zahl gerade\n",
    "oder ungerade ist:"
   ]
  },
  {
   "cell_type": "code",
   "execution_count": 5,
   "id": "65b27efb",
   "metadata": {},
   "outputs": [],
   "source": [
    "zahl = 15\n",
    "if zahl % 2 == 0:\n",
    "    print(f\"Die Zahl {zahl} ist gerade.\")"
   ]
  },
  {
   "cell_type": "markdown",
   "id": "4c17c384",
   "metadata": {},
   "source": [
    "Er wird auch häufig eingesetzt, um zu überprüfen, ob ein Wert ein Vielfaches\n",
    "eines anderen ist. Zum Beispiel kann man prüfen, ob eine fortlaufende Zahl ein\n",
    "Vielfaches von 10 ist:"
   ]
  },
  {
   "cell_type": "code",
   "execution_count": 6,
   "id": "57803533",
   "metadata": {},
   "outputs": [
    {
     "name": "stdout",
     "output_type": "stream",
     "text": [
      "Die Zahl 10 ist ein Vielfaches von 10.\n",
      "Die Zahl 20 ist ein Vielfaches von 10.\n",
      "Die Zahl 30 ist ein Vielfaches von 10.\n"
     ]
    }
   ],
   "source": [
    "for i in range(1, 31):\n",
    "    if i % 10 == 0:\n",
    "        print(f\"Die Zahl {i} ist ein Vielfaches von 10.\")"
   ]
  },
  {
   "cell_type": "markdown",
   "id": "09388d7c",
   "metadata": {},
   "source": [
    "Dieses Konzept werden wir später bei Schleifen wiedersehen, wenn wir\n",
    "beispielsweise nur jeden n-ten Wert verarbeiten oder anzeigen möchten.\n",
    "\n",
    "```{admonition} Mini-Übung\n",
    ":class: miniexercise\n",
    "Schreiben Sie ein Programm, das die Zahlen von 1 bis 30 durchläuft und nur jede\n",
    "dritte Zahl ausgibt. Verwenden Sie den Modulo-Operator, um zu prüfen, ob eine\n",
    "Zahl durch 3 teilbar ist.\n",
    "```"
   ]
  },
  {
   "cell_type": "code",
   "execution_count": 7,
   "id": "0625fb67",
   "metadata": {},
   "outputs": [],
   "source": [
    "# Geben Sie nach diesem Kommentar Ihren Code ein:\n"
   ]
  },
  {
   "cell_type": "markdown",
   "id": "6373d177",
   "metadata": {},
   "source": [
    "````{admonition} Lösung\n",
    ":class: miniexercise, toggle\n",
    "```python\n",
    "# Ausgabe jeder dritten Zahl von 1 bis 30\n",
    "for zahl in range(1, 31):\n",
    "    if zahl % 3 == 0:\n",
    "        print(zahl)\n",
    "```\n",
    "````\n",
    "\n",
    "## Typische Fehlerquellen bei if-Anweisungen\n",
    "\n",
    "Bei der Implementierung von if-Anweisungen in Python gibt es einige häufige\n",
    "Fallstricke, die besonders Anfängern begegnen:\n",
    "\n",
    "**Vergessener Doppelpunkt:** Nach der Bedingung muss immer ein Doppelpunkt\n",
    "stehen.\n",
    "\n",
    "```python\n",
    "# Falsch\n",
    "if alter >= 18\n",
    "    print(\"Sie sind volljährig.\")\n",
    "\n",
    "# Richtig\n",
    "if alter >= 18:\n",
    "    print(\"Sie sind volljährig.\")\n",
    "```\n",
    "\n",
    "**Falsche Einrückung:** Python verwendet Einrückungen, um Codeblöcke zu\n",
    "definieren. Alle Anweisungen, die zum if-Block gehören, müssen gleich eingerückt\n",
    "sein.\n",
    "\n",
    "```python\n",
    "# Falsch\n",
    "if alter >= 18:\n",
    "print(\"Sie sind volljährig.\")  # Fehlende Einrückung!\n",
    "\n",
    "# Richtig\n",
    "if alter >= 18:\n",
    "    print(\"Sie sind volljährig.\")\n",
    "```\n",
    "\n",
    "**Verwechslung von Zuweisungs- und Vergleichsoperator:** Für Vergleiche wird\n",
    "`==` verwendet, nicht `=`.\n",
    "\n",
    "```python\n",
    "# Falsch (führt zu unerwarteten Ergebnissen)\n",
    "if alter = 18:  # Zuweisung statt Vergleich!\n",
    "    print(\"Sie sind genau 18.\")\n",
    "\n",
    "# Richtig\n",
    "if alter == 18:\n",
    "    print(\"Sie sind genau 18.\")\n",
    "```\n",
    "\n",
    "**Ungeeignete Datentypen für Vergleiche:** Achten Sie darauf, dass die\n",
    "verglichenen Werte kompatible Datentypen haben.\n",
    "\n",
    "```python\n",
    "# Problematisch\n",
    "alter = input(\"Wie alt sind Sie? \")  # alter ist ein String\n",
    "if alter >= 18:  # Vergleich zwischen String und Zahl führt zu TypeError\n",
    "    print(\"Sie sind volljährig.\")\n",
    "\n",
    "# Richtig\n",
    "alter = int(input(\"Wie alt sind Sie? \"))  # Umwandlung in Integer\n",
    "if alter >= 18:\n",
    "    print(\"Sie sind volljährig.\")\n",
    "```\n",
    "\n",
    "Diese Fehler führen zu Syntax- oder Laufzeitfehlern, die den Programmablauf\n",
    "unterbrechen. Achten Sie daher besonders auf die korrekte Syntax und Einrückung\n",
    "bei if-Anweisungen.\n",
    "\n",
    "## Zusammenfassung und Ausblick\n",
    "\n",
    "In diesem Kapitel haben wir uns mit einer einfachen Verzweigung beschäftigt. Im\n",
    "nächsten Kapitel geht es um mehrfache Verzweigungen mit elif und else."
   ]
  }
 ],
 "metadata": {
  "jupytext": {
   "formats": "ipynb,md:myst",
   "text_representation": {
    "extension": ".md",
    "format_name": "myst",
    "format_version": 0.13,
    "jupytext_version": "1.13.8"
   }
  },
  "kernelspec": {
   "display_name": "Python 3 (ipykernel)",
   "language": "python",
   "name": "python3"
  },
  "language_info": {
   "codemirror_mode": {
    "name": "ipython",
    "version": 3
   },
   "file_extension": ".py",
   "mimetype": "text/x-python",
   "name": "python",
   "nbconvert_exporter": "python",
   "pygments_lexer": "ipython3",
   "version": "3.12.2"
  },
  "source_map": [
   13,
   57,
   62,
   86,
   89,
   116,
   119,
   154,
   158,
   163,
   167,
   173,
   177,
   189,
   192
  ]
 },
 "nbformat": 4,
 "nbformat_minor": 5
}