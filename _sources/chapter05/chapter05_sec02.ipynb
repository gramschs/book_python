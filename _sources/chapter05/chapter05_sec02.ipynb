{
 "cells": [
  {
   "cell_type": "markdown",
   "id": "9143ebc2",
   "metadata": {},
   "source": [
    "# 5.2 Programmverzweigungen: if\n",
    "\n",
    "Im letzten Kapitel haben wir gelernt, wie ein Vergleich in Python durchgeführt\n",
    "wird und mit welchem Datentyp das Ergebnis eines solchen Vergleichs gespeichert\n",
    "wird. In diesem Kapitel geht es nun darum, dass das Python-Programm auf das\n",
    "Ergebnis eines Vergleichs reagiert, indem Code-Abschnitte nur dann ausgeführt\n",
    "werden, wenn eine Bedingung erfüllt ist.\n",
    "\n",
    "\n",
    "## Lernziele\n",
    "\n",
    "```{admonition} Lernziele\n",
    ":class: admonition-goals\n",
    "* Sie können mit **if** eine Programmverzweigung implementieren.\n",
    "```\n",
    "\n",
    "## Syntax der if-Verzweigung\n",
    "\n",
    "Bei einer Programmverzweigung wird Code abhängig von einer Bedingung ausgeführt.\n",
    "Im einfachsten Fall liegt ein if-Block vor. Die Syntax lautet wie folgt:\n",
    "\n",
    "```python\n",
    "if bedingung:\n",
    "    anweisungsblock\n",
    "```\n",
    "\n",
    "Ist die Bedingung erfüllt, also \"True\", so wird der eingerückte Anweisungsblock\n",
    "ausgeführt, ansonsten übersprungen. Damit ist gemeint, dass der\n",
    "Python-Interpreter nach dem Ende des if-Blocks weiter macht, falls die Bedingung\n",
    "nicht erfüllt (= False) wird.\n",
    "\n",
    "Wir betrachten nun ein Beispiel:"
   ]
  },
  {
   "cell_type": "code",
   "execution_count": 1,
   "id": "7146be80",
   "metadata": {},
   "outputs": [
    {
     "name": "stdout",
     "output_type": "stream",
     "text": [
      "Sie dürfen Alkohol kaufen.\n",
      "Bananen dürfen Sie immer kaufen, egal wie alt Sie sind ...\n"
     ]
    }
   ],
   "source": [
    "alter = 20\n",
    "if alter >= 18:\n",
    "    print('Sie dürfen Alkohol kaufen.')\n",
    "print('Bananen dürfen Sie immer kaufen, egal wie alt Sie sind ...')"
   ]
  },
  {
   "cell_type": "markdown",
   "id": "75651267",
   "metadata": {},
   "source": [
    "Da die Person volljährig ist (`alter = 20`), ist der Vergleich `alter >= 18`\n",
    "wahr, die Bedingung also erfüllt. Daher wird der Anweisungsblock, der nur aus\n",
    "einer einzigen Anweisung besteht, ausgeführt. Der Python-Interpreter gibt den\n",
    "String `Sie dürfen Alkohol kaufen.` aus und macht dann mit dem normalen Programm\n",
    "weiter.\n",
    "\n",
    "Dieser Code könnte beispielsweise mit einer Benutzerabfrage kombiniert werden:\n",
    "```python\n",
    "alter = int(input('Wie alt sind Sie?'))\n",
    "if (alter >= 18):\n",
    "    print('Sie dürfen Alkohol kaufen.')\n",
    "print('Bananen dürfen Sie immer kaufen, egal wie alt Sie sind...')\n",
    "```\n",
    "\n",
    "```{admonition} Mini-Übung\n",
    ":class: miniexercise\n",
    "Schreiben Sie ein Skript, das einen Benutzer oder eine Benutzerin nach der aktuellen Temperatur fragt. Wenn die Temperatur kleiner gleich 10 ˚C ist, soll ausgegeben werden: \"Heute ist es aber kalt!\"\n",
    "```"
   ]
  },
  {
   "cell_type": "code",
   "execution_count": 2,
   "id": "ce8272df",
   "metadata": {},
   "outputs": [],
   "source": [
    "# Geben Sie nach diesem Kommentar Ihren Code ein:\n"
   ]
  },
  {
   "cell_type": "markdown",
   "id": "3149a5a2",
   "metadata": {},
   "source": [
    "````{admonition} Lösung\n",
    ":class: miniexercise, toggle\n",
    "```python\n",
    "# Eingabe\n",
    "temperatur = int(input('Welche Temperatur haben wir aktuell?'))\n",
    "\n",
    "# Verarbeitung und Ausgabe\n",
    "if temperatur <= 10:\n",
    "    print('Heute ist es aber kalt!')\n",
    "```\n",
    "````\n",
    "\n",
    "```{admonition} Mini-Übung\n",
    ":class: miniexercise\n",
    "Schreiben Sie ein Skript, das eine Benutzerin oder einen Benutzer nach einer Zahl fragt. \n",
    "Wenn die Zahl kleiner als 0 ist, soll ausgegeben werden: \"Die Zahl ist negativ.\"\n",
    "Wenn die Zahl genau gleich 0 ist, soll ausgegeben werden: \"Die Zahl ist Null.\"\n",
    "Wenn die Zahl größer als 0 ist, soll ausgegeben werden: \"Die Zahl ist positiv.\"\n",
    "\n",
    "Wie viele if-Blöcke brauchen Sie für die Umsetzung dieser Mini-Übung?\n",
    "```"
   ]
  },
  {
   "cell_type": "code",
   "execution_count": 3,
   "id": "fc4ba473",
   "metadata": {},
   "outputs": [],
   "source": [
    "# Geben Sie nach diesem Kommentar Ihren Code ein:\n"
   ]
  },
  {
   "cell_type": "markdown",
   "id": "f8525ab5",
   "metadata": {},
   "source": [
    "````{admonition} Lösung\n",
    ":class: miniexercise, toggle\n",
    "```python\n",
    "# Eingabe\n",
    "zahl = float(input('Geben Sie bitte eine Zahl ein: '))\n",
    "\n",
    "# Verarbeitung und Ausgabe\n",
    "if zahl < 0:\n",
    "    print('Die Zahl ist negativ.')\n",
    "\n",
    "if zahl == 0:\n",
    "    print('Die Zahl ist Null.')\n",
    "\n",
    "if zahl > 0:\n",
    "    print('Die Zahl ist positiv.')\n",
    "```\n",
    "\n",
    "Der Code erfordert drei if-Blöcke.\n",
    "````\n",
    "\n",
    "<iframe width=\"560\" height=\"315\" src=\"https://www.youtube.com/embed/b6KzYbM-Hvg\" title=\"YouTube video player\" frameborder=\"0\" allow=\"accelerometer; autoplay; clipboard-write; encrypted-media; gyroscope; picture-in-picture\" allowfullscreen></iframe>"
   ]
  }
 ],
 "metadata": {
  "jupytext": {
   "formats": "ipynb,md:myst",
   "text_representation": {
    "extension": ".md",
    "format_name": "myst",
    "format_version": 0.13,
    "jupytext_version": "1.13.8"
   }
  },
  "kernelspec": {
   "display_name": "Python 3 (ipykernel)",
   "language": "python",
   "name": "python3"
  },
  "language_info": {
   "codemirror_mode": {
    "name": "ipython",
    "version": 3
   },
   "file_extension": ".py",
   "mimetype": "text/x-python",
   "name": "python",
   "nbconvert_exporter": "python",
   "pygments_lexer": "ipython3",
   "version": "3.11.0"
  },
  "source_map": [
   13,
   48,
   53,
   73,
   76,
   98,
   101
  ]
 },
 "nbformat": 4,
 "nbformat_minor": 5
}