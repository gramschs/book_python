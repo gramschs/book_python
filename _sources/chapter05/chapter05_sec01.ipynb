{
 "cells": [
  {
   "cell_type": "markdown",
   "id": "3c850e06",
   "metadata": {},
   "source": [
    "# 5.1 Vergleiche und der boolesche Datentyp\n",
    "\n",
    "Viele Möglichkeiten unserer Gesellschaft stehen nur Volljährigen offen und sind\n",
    "damit an eine Altersangabe gebunden. Wenn jetzt ein Computersystem vorab prüfen\n",
    "soll, ob Volljährigkeit vorliegt oder nicht, dann brauchen wir einen einfachen\n",
    "Vergleich. Daher beschäftigen wir uns in diesem Kapitel mit Vergleichen und dem\n",
    "Datentyp Bool.\n",
    "\n",
    "## Lernziele\n",
    "\n",
    "```{admonition} Lernziele\n",
    ":class: goals\n",
    "* Sie kennen den Datentyp **Bool** mit seinen beiden Werten `True` und `False`.\n",
    "* Sie kennen die wichtigsten **Vergleichsoperatoren** für Zahlen und Strings.\n",
    "```\n",
    "\n",
    "## Der Datentyp Bool\n",
    "\n",
    "Zurück zu dem Beispiel mit der Überprüfung der Volljährigkeit. Angenommen, wir\n",
    "speichern das Alter der Benutzers oder der Benutzerin in der Variable `alter`.\n",
    "Damit wäre ein simples Beispiel für eine einfache Bedingung der mathematische\n",
    "Ausdruck `alter < 18`. Der Wert der Variablen `alter` wird also mit der Zahl 18\n",
    "verglichen. Dieser Vergleich ist entweder **wahr (True)** oder **falsch\n",
    "(False)**. Oder anders formuliert, diese Bedingung ist entweder erfüllt oder\n",
    "nicht erfüllt.\n",
    "\n",
    "Um den Wahrheitswert einer Bedingung zu speichern, hat Python einen eigenen\n",
    "Datentyp, einen sogenannten booleschen Datentyp. Nach dem englischen Wort wird\n",
    "dieser Datentyp in der Informatik üblicherweise **Bool** oder **Boolean**\n",
    "genannt. Das besondere an diesem Datentyp ist, dass eine Variable diesen\n",
    "Datentyps nur zwei verschiedene Werte annehmen kann, nämlich\n",
    "\n",
    "* True: Wahrheitswert ist wahr oder\n",
    "* False: Wahrheitswert ist falsch.\n",
    "\n",
    "Aber wie kann man dann überprüfen, welcher Datentyp in einer Variablen\n",
    "gespeichert ist? Dazu gibt es das Kommando `type`. Führen Sie die nächste\n",
    "Code-Zelle aus."
   ]
  },
  {
   "cell_type": "code",
   "execution_count": 1,
   "id": "49249c64",
   "metadata": {},
   "outputs": [
    {
     "data": {
      "text/plain": [
       "bool"
      ]
     },
     "execution_count": 1,
     "metadata": {},
     "output_type": "execute_result"
    }
   ],
   "source": [
    "a = False\n",
    "type(a)"
   ]
  },
  {
   "cell_type": "markdown",
   "id": "c66fa36c",
   "metadata": {},
   "source": [
    "## Vergleiche mit Zahlen\n",
    "\n",
    "Nachdem wir jetzt den Datentyp kennengelernt haben, mit dem Python das Ergebnis\n",
    "eines Vergleichs speichert, kommen wir nun zu dem Vergleich selbst.\n",
    "\n",
    "Zunächst beschäftigen wir uns mit mathematischen Vergleichen. In der Mathematik\n",
    "ist ein Vergleich ein Ausdruck mit zwei Argumenten und einem Vergleichsoperator\n",
    "in der Mitte. Die beiden Argumente können auch unterschiedliche Datentypen\n",
    "haben, dann muss der Vergleichsoperator aber sinnvoll für diese Datentypen\n",
    "definiert sein. Zum Beispiel darf man einen Integer mit einem Float vergleichen\n",
    "\n",
    "`3 < 17.2`\n",
    "\n",
    "aber\n",
    "\n",
    "`3 < 'vier'`\n",
    "\n",
    "ist nicht sinnvoll und undefiniert. Es gibt die folgenden Vergleichsoperatoren\n",
    "in Python:\n",
    "\n",
    "* `<`   kleiner\n",
    "* `<=`  kleiner oder gleich\n",
    "* `>`   größer\n",
    "* `>=`  größer oder gleich\n",
    "* `==`  gleich\n",
    "* `!=` ungleich\n",
    "\n",
    "Im interaktiven Modus von Python können wir leicht den Wahrheitsgehalt von\n",
    "Vergleichen überprüfen. Wir setzen eine Variable auf den Wert 7:"
   ]
  },
  {
   "cell_type": "code",
   "execution_count": 2,
   "id": "dd5108d0",
   "metadata": {},
   "outputs": [],
   "source": [
    "x = 7"
   ]
  },
  {
   "cell_type": "markdown",
   "id": "1ae3feed",
   "metadata": {},
   "source": [
    "Jetzt probieren wir in den nachfolgenden Code-Zellen verschiedene\n",
    "Vergleichsoperatoren aus.\n",
    "\n",
    "Ist x genau gleich 15?"
   ]
  },
  {
   "cell_type": "code",
   "execution_count": 3,
   "id": "25b47b43",
   "metadata": {},
   "outputs": [
    {
     "data": {
      "text/plain": [
       "False"
      ]
     },
     "execution_count": 3,
     "metadata": {},
     "output_type": "execute_result"
    }
   ],
   "source": [
    "x == 15    "
   ]
  },
  {
   "cell_type": "markdown",
   "id": "93e0d418",
   "metadata": {},
   "source": [
    "Ist x kleiner als 42?"
   ]
  },
  {
   "cell_type": "code",
   "execution_count": 4,
   "id": "5ee14349",
   "metadata": {},
   "outputs": [
    {
     "data": {
      "text/plain": [
       "True"
      ]
     },
     "execution_count": 4,
     "metadata": {},
     "output_type": "execute_result"
    }
   ],
   "source": [
    "x < 42"
   ]
  },
  {
   "cell_type": "markdown",
   "id": "86c9e308",
   "metadata": {},
   "source": [
    "Ist x genau 30?"
   ]
  },
  {
   "cell_type": "code",
   "execution_count": 5,
   "id": "44e06004",
   "metadata": {},
   "outputs": [
    {
     "data": {
      "text/plain": [
       "False"
      ]
     },
     "execution_count": 5,
     "metadata": {},
     "output_type": "execute_result"
    }
   ],
   "source": [
    "x == 30"
   ]
  },
  {
   "cell_type": "markdown",
   "id": "8fef65c5",
   "metadata": {},
   "source": [
    "Ist x ungleich 42?"
   ]
  },
  {
   "cell_type": "code",
   "execution_count": 6,
   "id": "020319a2",
   "metadata": {},
   "outputs": [
    {
     "data": {
      "text/plain": [
       "True"
      ]
     },
     "execution_count": 6,
     "metadata": {},
     "output_type": "execute_result"
    }
   ],
   "source": [
    "x != 42 "
   ]
  },
  {
   "cell_type": "markdown",
   "id": "db4f61a0",
   "metadata": {},
   "source": [
    "Ist x größer als 30?"
   ]
  },
  {
   "cell_type": "code",
   "execution_count": 7,
   "id": "b4b7b75a",
   "metadata": {},
   "outputs": [
    {
     "data": {
      "text/plain": [
       "False"
      ]
     },
     "execution_count": 7,
     "metadata": {},
     "output_type": "execute_result"
    }
   ],
   "source": [
    "x > 30"
   ]
  },
  {
   "cell_type": "markdown",
   "id": "49a5234a",
   "metadata": {},
   "source": [
    "Ist x größer gleich 30?"
   ]
  },
  {
   "cell_type": "code",
   "execution_count": 8,
   "id": "5ee24309",
   "metadata": {},
   "outputs": [
    {
     "data": {
      "text/plain": [
       "False"
      ]
     },
     "execution_count": 8,
     "metadata": {},
     "output_type": "execute_result"
    }
   ],
   "source": [
    "x >= 30"
   ]
  },
  {
   "cell_type": "markdown",
   "id": "a77a8409",
   "metadata": {},
   "source": [
    "```{admonition} Mini-Übung\n",
    ":class: miniexercise\n",
    "Wählen Sie sich eine Zahl. Testen Sie anschließend:\n",
    "* Ist Ihre Zahl kleiner gleich 5?\n",
    "* Ist Ihre Zahl genau 17?\n",
    "* Ist Ihre Zahl nicht gleich 17?\n",
    "* Ist Ihre Zahl positiv?\n",
    "* Ist Ihre Zahl kleiner als -17.7?\n",
    "```"
   ]
  },
  {
   "cell_type": "code",
   "execution_count": 9,
   "id": "5fb7e27e",
   "metadata": {},
   "outputs": [],
   "source": [
    "# Geben Sie nach diesem Kommentar Ihren Code ein:\n"
   ]
  },
  {
   "cell_type": "markdown",
   "id": "3788448f",
   "metadata": {},
   "source": [
    "````{admonition} Lösung\n",
    ":class: miniexercise, toggle\n",
    "```python\n",
    "# Eingabe: Wahl meiner Zahl\n",
    "x = 33\n",
    "\n",
    "# kleiner gleich 5?\n",
    "x <= 5\n",
    "\n",
    "# genau gleich 17?\n",
    "x == 17\n",
    "\n",
    "# nicht gleich 17?\n",
    "x != 17\n",
    "\n",
    "# positiv?\n",
    "x > 0\n",
    "\n",
    "# kleiner als -17.7?\n",
    "x < -17.7\n",
    "```\n",
    "````\n",
    "\n",
    "```{dropdown} Video \"Vergleiche in Python\" von Programmieren Starten\n",
    "<iframe width=\"560\" height=\"315\" src=\"https://www.youtube.com/embed/ucsv_Nhhxmk\"\n",
    "title=\"YouTube video player\" frameborder=\"0\" allow=\"accelerometer; autoplay; clipboard-write;\n",
    "encrypted-media; gyroscope; picture-in-picture\" allowfullscreen></iframe>\n",
    "```\n",
    "\n",
    "## Vergleiche mit Strings\n",
    "\n",
    "Als nächstes werden wir uns mit der Verwendung von Strings in Vergleichen\n",
    "beschäftigen. Strings werden häufig in Vergleichen verwendet, um festzustellen,\n",
    "ob zwei Strings gleich sind oder ob ein String in einem anderen enthalten ist.\n",
    "\n",
    "Um festzustellen, ob zwei Strings in Python gleich sind, können wir den\n",
    "Gleichheitsoperator `==` verwenden. Der Gleichheitsoperator gibt `True` zurück,\n",
    "wenn die beiden Strings exakt übereinstimmen, und `False`, wenn sie sich\n",
    "unterscheiden."
   ]
  },
  {
   "cell_type": "code",
   "execution_count": 10,
   "id": "abbdb043",
   "metadata": {},
   "outputs": [
    {
     "name": "stdout",
     "output_type": "stream",
     "text": [
      "False\n",
      "True\n",
      "False\n"
     ]
    }
   ],
   "source": [
    "string01 = 'Hallo'\n",
    "string02 = 'Welt'\n",
    "string03 = 'Hallo'\n",
    "string04 = 'hallo'\n",
    "\n",
    "print(string01 == string02)  # Ausgabe: False\n",
    "print(string01 == string03)  # Ausgabe: True\n",
    "print(string01 == string04)  # Ausgabe: False"
   ]
  },
  {
   "cell_type": "markdown",
   "id": "019322ca",
   "metadata": {},
   "source": [
    "In diesem Beispiel sind die Strings `string01` und `string03` gleich. Der String\n",
    "`string02` ist jedoch unterschiedlich von `string01`, daher ist das Ergebnis\n",
    "`False`. Beachten Sie auch, dass der String `string04` nicht gleich `string01`\n",
    "ist, obwohl er den gleichen Wert hat, da Groß- und Kleinschreibung in Python bei\n",
    "der Vergleichsoperation berücksichtigt werden.\n",
    "\n",
    "Um zu überprüfen, ob ein String in einem anderen enthalten ist, können wir den\n",
    "Operator `in` verwenden. Der Operator `in` gibt `True` zurück, wenn der String\n",
    "in dem anderen String enthalten ist, und `False`, wenn nicht."
   ]
  },
  {
   "cell_type": "code",
   "execution_count": 11,
   "id": "6c280da4",
   "metadata": {},
   "outputs": [
    {
     "name": "stdout",
     "output_type": "stream",
     "text": [
      "True\n",
      "False\n"
     ]
    }
   ],
   "source": [
    "string01 = 'Hallo Welt'\n",
    "string02 = 'Welt'\n",
    "string03 = 'Python'\n",
    "\n",
    "print(string02 in string01)  # Ausgabe: True\n",
    "print(string03 in string01)  # Ausgabe: False"
   ]
  },
  {
   "cell_type": "markdown",
   "id": "c04974ad",
   "metadata": {},
   "source": [
    "In diesem Beispiel ist der String `string02` in dem String `string01` enthalten,\n",
    "daher ist das Ergebnis `True`. Der String `string03` ist jedoch nicht in\n",
    "`string01` enthalten, daher ist das Ergebnis `False`.\n",
    "\n",
    "Beachten Sie, dass bei der Überprüfung die Groß- und Kleinschreibung in Python\n",
    "beachtet werden muss. Wenn wir also nach dem String `'welt'` suchen, erhalten wir\n",
    "`False`, da der String `'Welt'` großgeschrieben ist.\n",
    "\n",
    "Wir können auch andere Vergleichsoperationen wie <, >, <=, >= mit Strings\n",
    "verwenden. Diese Operationen vergleichen die Strings nach ihrem\n",
    "lexikographischen Wert, d.h. sie vergleichen die Zeichen eines Strings in der\n",
    "Reihenfolge, in der sie auftreten."
   ]
  },
  {
   "cell_type": "code",
   "execution_count": 12,
   "id": "c8d90f84",
   "metadata": {},
   "outputs": [
    {
     "name": "stdout",
     "output_type": "stream",
     "text": [
      "True\n",
      "False\n",
      "True\n",
      "False\n"
     ]
    }
   ],
   "source": [
    "a = \"Apfel\"\n",
    "b = \"Banane\"\n",
    "\n",
    "print(a < b)  # Ausgabe: True\n",
    "print(a > b)  # Ausgabe: False\n",
    "print(a <= b)  # Ausgabe: True\n",
    "print(a >= b)  # Ausgabe: False"
   ]
  },
  {
   "cell_type": "markdown",
   "id": "abff68a1",
   "metadata": {},
   "source": [
    "In diesem Beispiel ist `'Apfel'` kleiner als `'Banane'`, da \"A\" im Alphabet vor\n",
    "\"B\" steht, daher ist das Ergebnis des `<`-Operators `True`. Der `>`-Operator\n",
    "gibt `False` zurück, da `'Apfel'` nicht größer als `'Banane'` ist. Der\n",
    "`<=`-Operator gibt `True` zurück, da `'Apfel'` kleiner oder gleich `'Banane'`\n",
    "ist. Der `>=`-Operator gibt `False` zurück, da `'Apfel'` nicht größer oder\n",
    "gleich `'Banane'` ist.\n",
    "\n",
    "````{admonition} Mini-Übung\n",
    ":class: miniexercise\n",
    "Gegeben sind die folgenden Strings:\n",
    "```python\n",
    "material1 = \"Stahl\"\n",
    "material2 = \"Aluminium\"\n",
    "material3 = \"Stahllegierung\"\n",
    "material4 = \"aluminium\"\n",
    "```\n",
    "Überprüfen Sie folgende Vergleiche und notieren Sie, ob das Ergebnis `True` oder\n",
    "`False` ist:\n",
    "\n",
    "1. Ist `material1` lexikographisch größer als `material2`?\n",
    "2. Enthält `material3` den String `material1`?\n",
    "3. Sind `material2` und `material4` identisch?\n",
    "4. Überprüfen Sie mit dem `in-`Operator, ob die Zeichenfolge \"leg\" in\n",
    "   `material3` vorkommt.\n",
    "5. Ist `material4` lexikographisch kleiner als `material1`?\n",
    "````"
   ]
  },
  {
   "cell_type": "code",
   "execution_count": 13,
   "id": "b9132063",
   "metadata": {},
   "outputs": [],
   "source": [
    "# Geben Sie nach diesem Kommentar Ihren Code ein:\n"
   ]
  },
  {
   "cell_type": "markdown",
   "id": "55eaa875",
   "metadata": {},
   "source": [
    "````{admonition} Lösung\n",
    ":class: miniexercise, toggle\n",
    "```python\n",
    "material1 = \"Stahl\"\n",
    "material2 = \"Aluminium\"\n",
    "material3 = \"Stahllegierung\"\n",
    "material4 = \"aluminium\"\n",
    "\n",
    "# 1. Ist material1 lexikographisch größer als material2?\n",
    "print(material1 > material2)  # True, da 'S' im Alphabet nach 'A' kommt\n",
    "\n",
    "# 2. Enthält material3 den String material1?\n",
    "print(material1 in material3)  # True, da \"Stahl\" in \"Stahllegierung\" enthalten ist\n",
    "\n",
    "# 3. Sind material2 und material4 identisch?\n",
    "print(material2 == material4)  # False, da Groß-/Kleinschreibung unterschiedlich ist\n",
    "\n",
    "# 4. Überprüfen Sie mit dem in-Operator, ob die Zeichenfolge \"leg\" in material3 vorkommt.\n",
    "print(\"leg\" in material3)  # True, da \"leg\" in \"Stahllegierung\" enthalten ist\n",
    "\n",
    "# 5. Ist material4 lexikographisch kleiner als material1?\n",
    "print(material4 < material1)  # False, da Großbuchstaben im ASCII-Code vor Kleinbuchstaben kommen\n",
    "```\n",
    "````\n",
    "\n",
    "## Zusammenfassung und Ausblick\n",
    "\n",
    "In diesem Kapitel haben wir den booleschen Datentyp Bool mit seinen Werten True\n",
    "und False kennengelernt. Wir haben Vergleichsoperatoren (<, >, ==, !=, <=, >=)\n",
    "für Zahlen und Strings untersucht und gesehen, wie String-Vergleiche auf\n",
    "lexikographischer Ordnung basieren. Außerdem haben wir den 'in'-Operator zur\n",
    "Überprüfung von Teil-Strings kennengelernt."
   ]
  }
 ],
 "metadata": {
  "jupytext": {
   "formats": "ipynb,md:myst",
   "text_representation": {
    "extension": ".md",
    "format_name": "myst",
    "format_version": 0.13,
    "jupytext_version": "1.13.8"
   }
  },
  "kernelspec": {
   "display_name": "Python 3 (ipykernel)",
   "language": "python",
   "name": "python3"
  },
  "language_info": {
   "codemirror_mode": {
    "name": "ipython",
    "version": 3
   },
   "file_extension": ".py",
   "mimetype": "text/x-python",
   "name": "python",
   "nbconvert_exporter": "python",
   "pygments_lexer": "ipython3",
   "version": "3.12.2"
  },
  "source_map": [
   13,
   54,
   57,
   89,
   91,
   98,
   100,
   104,
   106,
   110,
   112,
   116,
   118,
   122,
   124,
   128,
   130,
   142,
   145,
   187,
   196,
   208,
   215,
   230,
   238,
   267,
   270
  ]
 },
 "nbformat": 4,
 "nbformat_minor": 5
}