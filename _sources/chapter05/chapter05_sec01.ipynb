{
 "cells": [
  {
   "cell_type": "markdown",
   "id": "a2a96276",
   "metadata": {},
   "source": [
    "# 5.1 Vergleiche und der boolesche Datentyp\n",
    "\n",
    "Viele Möglichkeiten unserer Gesellschaft stehen nur Volljährigen offen und sind\n",
    "damit an eine Altersangabe gebunden. Wenn jetzt ein Computersystem vorab prüfen\n",
    "soll, ob Volljährigkeit vorliegt oder nicht, dann brauchen wir einen einfachen\n",
    "Vergleich. Daher beschäftigen wir uns in diesem Kapitel mit Vergleichen und dem\n",
    "Datentyp Bool.\n",
    "\n",
    "## Lernziele\n",
    "\n",
    "```{admonition} Lernziele\n",
    ":class: hint\n",
    "* Sie kennen den Datentyp **Bool** mit seinen beiden Werte True oder False.\n",
    "* Sie kennen die wichtigsten Vergleichsoperatoren für Zahlen und Strings.\n",
    "```\n",
    "\n",
    "## Der Datentyp Bool\n",
    "\n",
    "Zurück zu dem Beispiel mit der Überprüfung der Volljährigkeit. Angenommen, wir\n",
    "würden das Alter der Benutzers oder der Benutzerin in der Variable `alter`\n",
    "speichern. Damit wäre ein simples Beispiel für eine einfache Bedingung der\n",
    "mathematische Ausdruck `alter < 18`. Der Wert der Variablen `alter` wird also\n",
    "mit der Zahl 18 verglichen. Dieser Vergleich ist entweder **wahr (True)** oder\n",
    "**falsch (False)**. Oder anders formuliert, diese Bedingung ist entweder erfüllt\n",
    "oder nicht erfüllt. \n",
    "\n",
    "Um den Wahrheitswert einer Bedingung zu speichern, hat Python einen eigenen\n",
    "Datentyp, einen sogenannten booleschen Datentyp. Nach dem englischen Wort wird\n",
    "dieser Datentyp in der Informatik üblicherweise **Bool** oder **Boolean** genannt. Das\n",
    "besondere an diesem Datentyp ist, dass eine Variable diesen Datentyps nur zwei\n",
    "verschiedene Werte annehmen kann, nämlich\n",
    "* True: Wahrheitswert ist wahr oder\n",
    "* False: Wahrheitswert ist falsch.\n",
    "\n",
    "Aber wie kann man dann überprüfen, welcher Datentyp in einer Variablen\n",
    "gespeichert ist? Dazu gibt es das Kommando `type`. Führen Sie die nächste\n",
    "Code-Zelle aus."
   ]
  },
  {
   "cell_type": "code",
   "execution_count": 1,
   "id": "e76d19b8",
   "metadata": {},
   "outputs": [
    {
     "data": {
      "text/plain": [
       "bool"
      ]
     },
     "execution_count": 1,
     "metadata": {},
     "output_type": "execute_result"
    }
   ],
   "source": [
    "a = False\n",
    "type(a)"
   ]
  },
  {
   "cell_type": "markdown",
   "id": "b6e52f06",
   "metadata": {},
   "source": [
    "## Vergleiche mit Zahlen\n",
    "\n",
    "Nachdem wir jetzt den Datentyp kennengelernt haben, mit dem Python das Ergebnis\n",
    "eines Vergleichs speichert, kommen wir nun zu dem Vergleich selbst.\n",
    "\n",
    "Zunächst beschäftigen wir uns mit mathematischen Vergleichen. In der Mathematik\n",
    "ist ein Vergleich ein Ausdruck mit zwei Argumenten und einem Vergleichsoperator\n",
    "in der Mitte. Die beiden Argumente können auch unterschiedliche Datentypen\n",
    "haben, dann muss der Vergleichsoperator aber sinnvoll für diese Datentypen\n",
    "definiert sein. Z.B. darf man einen Integer mit einem Float vergleichen \n",
    "\n",
    "`3 < 17.2`\n",
    "\n",
    "aber\n",
    "\n",
    "`3 < 'vier'`\n",
    "\n",
    "ist nicht sinnvoll und undefiniert. Es gibt die folgenden Vergleichsoperatoren\n",
    "in Python:\n",
    "* `<`   kleiner\n",
    "* `<=`  kleiner oder gleich\n",
    "* `>`   größer\n",
    "* `>=`  größer oder gleich\n",
    "* `==`  gleich\n",
    "* `!= ` ungleich\n",
    "\n",
    "Im interaktiven Modus von Python können wir leicht den Wahrheitsgehalt von\n",
    "Vergleichen überprüfen. Wir setzen eine Variable auf den Wert 7:"
   ]
  },
  {
   "cell_type": "code",
   "execution_count": 2,
   "id": "a75591d7",
   "metadata": {},
   "outputs": [],
   "source": [
    "x = 7"
   ]
  },
  {
   "cell_type": "markdown",
   "id": "b1345112",
   "metadata": {},
   "source": [
    "Jetzt probieren wir in den nachfolgenden Code-Zellen verschiedene\n",
    "Vergleichsoperatoren aus. \n",
    "\n",
    "Ist x genau gleich 15?"
   ]
  },
  {
   "cell_type": "code",
   "execution_count": 3,
   "id": "59611f78",
   "metadata": {},
   "outputs": [
    {
     "data": {
      "text/plain": [
       "False"
      ]
     },
     "execution_count": 3,
     "metadata": {},
     "output_type": "execute_result"
    }
   ],
   "source": [
    "x == 15    "
   ]
  },
  {
   "cell_type": "markdown",
   "id": "8e3ed7e0",
   "metadata": {},
   "source": [
    "Ist x kleiner als 42?"
   ]
  },
  {
   "cell_type": "code",
   "execution_count": 4,
   "id": "bf579930",
   "metadata": {},
   "outputs": [
    {
     "data": {
      "text/plain": [
       "True"
      ]
     },
     "execution_count": 4,
     "metadata": {},
     "output_type": "execute_result"
    }
   ],
   "source": [
    "x < 42"
   ]
  },
  {
   "cell_type": "markdown",
   "id": "e4f4fd6b",
   "metadata": {},
   "source": [
    "Ist x genau 30?"
   ]
  },
  {
   "cell_type": "code",
   "execution_count": 5,
   "id": "8e157419",
   "metadata": {},
   "outputs": [
    {
     "data": {
      "text/plain": [
       "False"
      ]
     },
     "execution_count": 5,
     "metadata": {},
     "output_type": "execute_result"
    }
   ],
   "source": [
    "x == 30"
   ]
  },
  {
   "cell_type": "markdown",
   "id": "30163348",
   "metadata": {},
   "source": [
    "Ist x ungleich 42?"
   ]
  },
  {
   "cell_type": "code",
   "execution_count": 6,
   "id": "25a0222f",
   "metadata": {},
   "outputs": [
    {
     "data": {
      "text/plain": [
       "True"
      ]
     },
     "execution_count": 6,
     "metadata": {},
     "output_type": "execute_result"
    }
   ],
   "source": [
    "x != 42 "
   ]
  },
  {
   "cell_type": "markdown",
   "id": "82a9ca13",
   "metadata": {},
   "source": [
    "Ist x größer als 30?"
   ]
  },
  {
   "cell_type": "code",
   "execution_count": 7,
   "id": "45aab6b8",
   "metadata": {},
   "outputs": [
    {
     "data": {
      "text/plain": [
       "False"
      ]
     },
     "execution_count": 7,
     "metadata": {},
     "output_type": "execute_result"
    }
   ],
   "source": [
    "x > 30"
   ]
  },
  {
   "cell_type": "markdown",
   "id": "f1242abb",
   "metadata": {},
   "source": [
    "Ist x größer gleich 30?"
   ]
  },
  {
   "cell_type": "code",
   "execution_count": 8,
   "id": "f69a7006",
   "metadata": {},
   "outputs": [
    {
     "data": {
      "text/plain": [
       "False"
      ]
     },
     "execution_count": 8,
     "metadata": {},
     "output_type": "execute_result"
    }
   ],
   "source": [
    "x >= 30"
   ]
  },
  {
   "cell_type": "markdown",
   "id": "b4d455ab",
   "metadata": {},
   "source": [
    "```{admonition} Mini-Übung\n",
    ":class: miniexercise\n",
    "Wählen Sie sich eine Zahl. Testen Sie anschließend:\n",
    "* Ist Ihre Zahl kleiner gleich 5?\n",
    "* Ist Ihre Zahl genau 17?\n",
    "* Ist Ihre Zahl nicht gleich 17?\n",
    "* Ist Ihre Zahl positiv?\n",
    "* Ist Ihre Zahl kleiner als -17.7?\n",
    "```"
   ]
  },
  {
   "cell_type": "code",
   "execution_count": 9,
   "id": "bdbc5db9",
   "metadata": {},
   "outputs": [],
   "source": [
    "# Geben Sie nach diesem Kommentar Ihren Code ein:\n"
   ]
  },
  {
   "cell_type": "markdown",
   "id": "4e7ca9ad",
   "metadata": {},
   "source": [
    "````{admonition} Lösung\n",
    ":class: minisolution, toggle\n",
    "```python\n",
    "# Eingabe: Wahl meiner Zahl\n",
    "x = 33\n",
    "\n",
    "# kleiner gleich 5?\n",
    "x <= 5\n",
    "\n",
    "# genau gleich 17?\n",
    "x == 17\n",
    "\n",
    "# nicht gleich 17?\n",
    "x != 17\n",
    "\n",
    "# positiv?\n",
    "x > 0\n",
    "\n",
    "# kleiner als -17.7?\n",
    "x < -17.7\n",
    "```\n",
    "````\n",
    "\n",
    "<iframe width=\"560\" height=\"315\" src=\"https://www.youtube.com/embed/ucsv_Nhhxmk\" title=\"YouTube video player\" frameborder=\"0\" allow=\"accelerometer; autoplay; clipboard-write; encrypted-media; gyroscope; picture-in-picture\" allowfullscreen></iframe>\n",
    "\n",
    "## Vergleiche mit Strings\n",
    "\n",
    "Als nächstes werden wir uns mit der Verwendung von Strings in Vergleichen\n",
    "beschäftigen. Strings werden häufig in Vergleichen verwendet, um festzustellen,\n",
    "ob zwei Strings gleich sind oder ob ein String in einem anderen enthalten ist.\n",
    "\n",
    "Um festzustellen, ob zwei Strings in Python gleich sind, können wir den\n",
    "Gleichheitsoperator `==` verwenden. Der Gleichheitsoperator gibt `True` zurück,\n",
    "wenn die beiden Strings exakt übereinstimmen, und `False`, wenn sie sich\n",
    "unterscheiden."
   ]
  },
  {
   "cell_type": "code",
   "execution_count": 10,
   "id": "71512559",
   "metadata": {},
   "outputs": [
    {
     "name": "stdout",
     "output_type": "stream",
     "text": [
      "False\n",
      "True\n",
      "False\n"
     ]
    }
   ],
   "source": [
    "string01 = 'Hallo'\n",
    "string02 = 'Welt'\n",
    "string03 = 'Hallo'\n",
    "string04 = 'hallo'\n",
    "\n",
    "print(string01 == string02)  # Ausgabe: False\n",
    "print(string01 == string03)  # Ausgabe: True\n",
    "print(string01 == string04)  # Ausgabe: False"
   ]
  },
  {
   "cell_type": "markdown",
   "id": "e2218ec2",
   "metadata": {},
   "source": [
    "In diesem Beispiel sind die Strings `string01` und `string03` gleich. Der String\n",
    "`string02` ist jedoch unterschiedlich von `string01`, daher ist das Ergebnis\n",
    "`False`. Beachten Sie auch, dass der String `string04` nicht gleich `string01`\n",
    "ist, obwohl er den gleichen Wert hat, da Groß- und Kleinschreibung in Python bei\n",
    "der Vergleichsoperation berücksichtigt werden.\n",
    "\n",
    "Um zu überprüfen, ob ein String in einem anderen enthalten ist, können wir den\n",
    "Operator `in` verwenden. Der Operator `in` gibt `True` zurück, wenn der String\n",
    "in dem anderen String enthalten ist, und `False`, wenn nicht."
   ]
  },
  {
   "cell_type": "code",
   "execution_count": 11,
   "id": "2b770028",
   "metadata": {},
   "outputs": [
    {
     "name": "stdout",
     "output_type": "stream",
     "text": [
      "True\n",
      "False\n"
     ]
    }
   ],
   "source": [
    "a\n",
    "string01 = 'Hallo Welt'\n",
    "string02 = 'Welt'\n",
    "string03 = 'Python'\n",
    "\n",
    "print(string02 in string01)  # Ausgabe: True\n",
    "print(string03 in string01)  # Ausgabe: False"
   ]
  },
  {
   "cell_type": "markdown",
   "id": "ffa43734",
   "metadata": {},
   "source": [
    "In diesem Beispiel ist der String `string02` in dem String `string01` enthalten,\n",
    "daher ist das Ergebnis `True`. Der String `string03` ist jedoch nicht in\n",
    "`string01` enthalten, daher ist das Ergebnis `False`.\n",
    "\n",
    "Beachten Sie, dass bei der Überprüfung die Groß- und Kleinschreibung in Python\n",
    "beachtet werden muss. Wenn wir also nach dem String `'welt'` suchen, erhalten wir\n",
    "`False`, da der String `'Welt'` großgeschrieben ist.\n",
    "\n",
    "Wir können auch andere Vergleichsoperationen wie <, >, <=, >= mit Strings\n",
    "verwenden. Diese Operationen vergleichen die Strings nach ihrem\n",
    "lexikographischen Wert, d.h. sie vergleichen die Zeichen eines Strings in der\n",
    "Reihenfolge, in der sie auftreten."
   ]
  },
  {
   "cell_type": "code",
   "execution_count": 12,
   "id": "eabe5722",
   "metadata": {},
   "outputs": [
    {
     "name": "stdout",
     "output_type": "stream",
     "text": [
      "True\n",
      "False\n",
      "True\n",
      "False\n"
     ]
    }
   ],
   "source": [
    "a = \"Apfel\"\n",
    "b = \"Banane\"\n",
    "\n",
    "print(a < b)  # Ausgabe: True\n",
    "print(a > b)  # Ausgabe: False\n",
    "print(a <= b)  # Ausgabe: True\n",
    "print(a >= b)  # Ausgabe: False"
   ]
  },
  {
   "cell_type": "markdown",
   "id": "047c5d31",
   "metadata": {},
   "source": [
    "In diesem Beispiel ist `'Apfel'` kleiner als `'Banane'`, da \"A\" im Alphabet vor\n",
    "\"B\" steht, daher ist das Ergebnis des `<`-Operators `True`. Der `>`-Operator\n",
    "gibt `False` zurück, da `'Apfel'` größer als `'Banane'` ist. Der `<=`-Operator\n",
    "gibt `True` zurück, da `'Apfel'` kleiner oder gleich `'Banane'` ist. Der\n",
    "`>=`-Operator gibt `False` zurück, da `'Apfel'` nicht größer oder gleich\n",
    "`'Banane`' ist."
   ]
  }
 ],
 "metadata": {
  "jupytext": {
   "formats": "ipynb,md:myst",
   "text_representation": {
    "extension": ".md",
    "format_name": "myst",
    "format_version": 0.13,
    "jupytext_version": "1.13.8"
   }
  },
  "kernelspec": {
   "display_name": "Python 3 (ipykernel)",
   "language": "python",
   "name": "python3"
  },
  "language_info": {
   "codemirror_mode": {
    "name": "ipython",
    "version": 3
   },
   "file_extension": ".py",
   "mimetype": "text/x-python",
   "name": "python",
   "nbconvert_exporter": "python",
   "pygments_lexer": "ipython3",
   "version": "3.10.8"
  },
  "source_map": [
   13,
   53,
   56,
   86,
   88,
   93,
   95,
   98,
   100,
   103,
   105,
   108,
   110,
   113,
   115,
   118,
   120,
   131,
   134,
   171,
   180,
   192,
   200,
   215,
   223
  ]
 },
 "nbformat": 4,
 "nbformat_minor": 5
}