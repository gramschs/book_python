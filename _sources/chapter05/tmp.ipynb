{
 "cells": [
  {
   "cell_type": "code",
   "execution_count": 3,
   "metadata": {},
   "outputs": [
    {
     "name": "stdout",
     "output_type": "stream",
     "text": [
      "Du bist noch nicht volljährig.!\n"
     ]
    }
   ],
   "source": [
    "# Eingabe\n",
    "geburtsjahr = int(input('In welchem Jahr wurden Sie geboren? '))\n",
    "\n",
    "# Verarbeitung: berechne Alter\n",
    "aktuelles_jahr = 2023\n",
    "alter = aktuelles_jahr - geburtsjahr\n",
    "\n",
    "# Ausgabe\n",
    "if alter < 18:\n",
    "    print('Du bist noch nicht volljährig.!')\n",
    "elif alter == 18:\n",
    "    print('Hurra, Sie werden oder wurden dieses Jahr volljährig!')\n",
    "else:\n",
    "    print('')\n",
    "\n",
    "if alter > 18:\n",
    "    print('Sie sind bereits volljährig.')\n",
    "\n",
    "\n"
   ]
  },
  {
   "attachments": {},
   "cell_type": "markdown",
   "metadata": {},
   "source": [
    "Ein Onlineshop verkauft T-Shirts, Pullover und Jacken. Ein T-Shirt kostet 15,99\n",
    "EUR, ein Pullover 24,99 EUR und eine Jacke 39,99 EUR. \n",
    "\n",
    "Schreiben Sie ein Programm, das abfragt, wie viele T-Shirts, Pullover und Jacken\n",
    "bestellt werden sollen. Lassen Sie den Kaufpreis ausgeben. Dazu kommen aber noch\n",
    "die Portokosten. Bei einem Kaufpreis unter 50 Euro betragen die Portokosten\n",
    "13,95 Euro. Zwischen 50 und 100 Euro muss der Kunde 4,95 Euro Porto bezahlen. Ab\n",
    "einem Kaufpreis von 100 Euro gibt es keine Portokosten mehr. Lassen Sie\n",
    "zusätzlich die Portokosten und den Gesamtpreis ausgeben.\n",
    "\n",
    "Testen Sie Ihr Programm mit drei Beispielen für die drei unterschiedlichen\n",
    "Portokosten."
   ]
  },
  {
   "cell_type": "code",
   "execution_count": 7,
   "metadata": {},
   "outputs": [
    {
     "name": "stdout",
     "output_type": "stream",
     "text": [
      "Kaufpreis: 15.99 EUR\n",
      "Portokosten: 13.95 EUR\n",
      "Gesamtpreis: 29.94 EUR\n"
     ]
    }
   ],
   "source": [
    "\n",
    "# Einstellungen\n",
    "preis_tshirt = 15.99\n",
    "preis_pullover = 24.99\n",
    "preis_jacke = 39.99\n",
    "\n",
    "# Eingabe der Bestellung\n",
    "anzahl_tshirts = int(input('Wie viele T-Shirts werden bestellt? '))\n",
    "anzahl_pullover = int(input('Wie viele Pullover werden bestell? '))\n",
    "anzahl_jacken = int(input('Wie viele Jacken werden bestellt? '))\n",
    "\n",
    "# Verarbeitung\n",
    "kaufpreis = anzahl_tshirts * preis_tshirt + anzahl_pullover * preis_pullover + anzahl_jacken * preis_jacke\n",
    "\n",
    "if kaufpreis < 50:\n",
    "    portokosten = 13.95\n",
    "elif kaufpreis < 100:\n",
    "    portokosten = 4.95\n",
    "else:\n",
    "    portokosten = 0\n",
    "gesamtpreis = kaufpreis + portokosten\n",
    "\n",
    "# Ausgabe\n",
    "print(f'Kaufpreis: {kaufpreis:.2f} EUR')\n",
    "print(f'Portokosten: {portokosten} EUR')\n",
    "print(f'Gesamtpreis: {gesamtpreis:.2f} EUR')"
   ]
  },
  {
   "cell_type": "code",
   "execution_count": null,
   "metadata": {},
   "outputs": [],
   "source": []
  },
  {
   "attachments": {},
   "cell_type": "markdown",
   "metadata": {},
   "source": [
    "\n",
    "Wählen Sie sich Ihr Lieblingsrezept aus oder suchen Sie sich ein Rezept des\n",
    "Tages heraus (siehe https://www.chefkoch.de/rezepte/was-koche-ich-heute/).\n",
    "Notieren Sie sich die Zutatenlisten in zwei Listen. In der ersten Liste soll die\n",
    "Menge einer Zutat pro Person stehen, in der zweiten Liste die Zutat selbst.\n",
    "\n",
    "Lassen Sie dann den Computer fragen, für wie viele Personen gekocht werden soll.\n",
    "Dann soll der Computer eine Einkaufsliste ausgeben, bei der die Mengenangaben\n",
    "passend zur Personenanzahl skaliert sind. \n",
    "\n",
    "Beispiel Wrap-Pizza (https://www.chefkoch.de/rezepte/3252151483799016/Wrap-Pizza.html):\n",
    "\n",
    "Computer: Für wie viele Personen soll gekocht werden?\n",
    "Benutzer: 4\n",
    "Computer:\n",
    "Hier ist die Zutatenliste für 4 Personen:\n",
    "4 Tortillas\n",
    "8 EL Tomatenmark\n",
    "4 EL Wasser\n",
    "usw."
   ]
  },
  {
   "cell_type": "code",
   "execution_count": 9,
   "metadata": {},
   "outputs": [
    {
     "name": "stdout",
     "output_type": "stream",
     "text": [
      "Hier ist die Zutatenliste für 3 Personen:\n",
      "3 Tortilla(s)\n",
      "6 EL Tomatenmark\n",
      "3 EL Wasser\n",
      "3 TL Pizzagewürz\n",
      "3 Kochschinken\n",
      "3 Parikaschote(n)\n",
      "3 Zwiebeln\n",
      "3 Tomate(n)\n",
      "15 Peperoni\n",
      "135 Käse\n",
      "3 Oregano\n"
     ]
    }
   ],
   "source": [
    "# Zutaten fuer Wrap-Pizza fuer eine Person\n",
    "menge = [1, 2, 1, 1, 1, 1, 1, 1, 5, 45, 1]\n",
    "zutat = [\"Tortilla(s)\", \"EL Tomatenmark\", \"EL Wasser\", \"TL Pizzagewürz\", \"Kochschinken\", \"Parikaschote(n)\", \"Zwiebeln\", \"Tomate(n)\", \"Peperoni\", \"Käse\", \"Oregano\"]\n",
    "\n",
    "# Eingabe: Abfrage Personenanzahl\n",
    "personenanzahl = int(input('Für wie viele Personen soll gekocht werden?'))\n",
    "\n",
    "# Ausgabe\n",
    "print(f'Hier ist die Zutatenliste für {personenanzahl} Personen:')\n",
    "for i in range(len(menge)):\n",
    "    aktuelle_menge = menge[i] * personenanzahl\n",
    "    print(f'{aktuelle_menge} {zutat[i]}')"
   ]
  },
  {
   "cell_type": "code",
   "execution_count": 11,
   "metadata": {},
   "outputs": [
    {
     "name": "stdout",
     "output_type": "stream",
     "text": [
      "True\n"
     ]
    }
   ],
   "source": [
    "zutat\n",
    "x = 'EL Wasser' in zutat\n",
    "print(x)"
   ]
  },
  {
   "attachments": {},
   "cell_type": "markdown",
   "metadata": {},
   "source": [
    "Schreiben Sie ein Programm, das den Benutzer nach einem Satz fragt. Anschließend\n",
    "soll das Programm zählen, wie oft die Vokale a, e, i, o und u in dem Satz\n",
    "vorkommen.\n",
    "\n",
    "Zusatzfrage: Ws passiert bei Großbuchstaben?"
   ]
  },
  {
   "cell_type": "code",
   "execution_count": null,
   "metadata": {},
   "outputs": [],
   "source": [
    "# Eingabe\n",
    "text = input('Geben Sie einen Satz ein: ')\n",
    "\n",
    "# Verarbeitung\n",
    "anzahl_a = 0\n",
    "anzahl_e = 0\n",
    "anzahl_i = 0\n",
    "anzahl_o = 0\n",
    "anzahl_u = 0\n",
    "\n",
    "for zeichen in text:\n",
    "    if zeichen == 'a':\n",
    "        anzahl_a = anzahl_a + 1\n",
    "    elif zeichen == 'e':\n",
    "        anzahl_e = anzahl_e + 1\n",
    "    elif zeichen == 'i':\n",
    "        anzahl_i = anzahl_i + 1\n",
    "    elif zeichen == 'o':\n",
    "        anzahl_o = anzahl_o + 1\n",
    "    elif zeichen == 'u':\n",
    "        anzahl_u = anzahl_u + 1\n",
    "        \n",
    "# Ausgabe\n",
    "print(f'Anzahl a: {anzahl_a}')\n",
    "print(f'Anzahl e: {anzahl_e}')\n",
    "print(f'Anzahl i: {anzahl_i}')\n",
    "print(f'Anzahl o: {anzahl_o}')\n",
    "print(f'Anzahl u: {anzahl_u}')\n"
   ]
  }
 ],
 "metadata": {
  "kernelspec": {
   "display_name": "turtle",
   "language": "python",
   "name": "python3"
  },
  "language_info": {
   "codemirror_mode": {
    "name": "ipython",
    "version": 3
   },
   "file_extension": ".py",
   "mimetype": "text/x-python",
   "name": "python",
   "nbconvert_exporter": "python",
   "pygments_lexer": "ipython3",
   "version": "3.10.8"
  },
  "orig_nbformat": 4
 },
 "nbformat": 4,
 "nbformat_minor": 2
}
