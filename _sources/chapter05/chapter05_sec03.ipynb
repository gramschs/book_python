{
 "cells": [
  {
   "cell_type": "markdown",
   "id": "8aa89603",
   "metadata": {},
   "source": [
    "# 5.3 Programmverzweigungen mit mehreren Zweigen: if -- elif -- else\n",
    "\n",
    "In unserem Alltag kommen häufig Entscheidungen zwischen zwei Möglichkeiten vor.\n",
    "Wenn ich an eine T-Kreuzung komme, muss ich mich entscheiden: links oder rechts?\n",
    "Betrete ich ein Gebäude entscheide ich zwischen Treppe oder Fahrstuhl. Mein\n",
    "Alter entscheidet darüber, ob ich etwas darf oder nicht darf. Für diese Wahl\n",
    "zwischen zwei Möglichkeiten gibt es zweiteilige Programmverzweigungen. Und auch\n",
    "bei zweiteiligen Programmverzweigungen ist noch nicht Schluss, denn vielleicht\n",
    "kommt man ja an eine Viererkreuzung ... Daher behandeln wir in diesem Kapitel\n",
    "Programmverzweigungen mit mehreren Zweigen.\n",
    "\n",
    "## Lernziele\n",
    "\n",
    "```{admonition} Lernziele\n",
    ":class: hint\n",
    "* Sie können Programmverzweigungen mit zwei Zweigen mittels **if - else**\n",
    "  implementieren.\n",
    "* Sie können mehrteilige Programmverzweigungen mit **if - elif - else**\n",
    "  implementieren.\n",
    "```\n",
    "\n",
    "## Programmverzweigungen mit zwei Zweigen: if – else\n",
    "\n",
    "Wir erweitern die Syntax mit dem if-Block um ein neues Element, nämlich den\n",
    "sogenannten **else-Block**:\n",
    "\n",
    "```python\n",
    "if bedingung:\n",
    "    anweisungsblock 1\n",
    "else:\n",
    "    anweisungsblock 2\n",
    "```\n",
    "\n",
    "Wichtig ist, dass die Anweisungen, die nur bedingt ausgeführt werden sollen,\n",
    "eingerückt sind!\n",
    "\n",
    "Falls die Bedingung erfüllt ist, wird der 1. Anweisungsblock ausgeführt,\n",
    "ansonsten der 2. Anweisungsblock. Danach führt der Python-Interpreter alles nach\n",
    "dem if-else-Konstrukt aus, d.h. der Interpreter macht mit dem normalen\n",
    "Programmablauf weiter.\n",
    "\n",
    "Hier wieder das Beispiel mit dem Alter:  \n",
    "\n",
    "```python\n",
    "alter = int(input('Wie alt sind Sie? '))\n",
    "if alter >= 18:\n",
    "    print('Sie sind volljährig, Sie dürfen Alkohol kaufen.')\n",
    "else:\n",
    "    print('Sie sind noch nicht volljährig und dürfen daher keinen Alkohol kaufen.')\n",
    "\n",
    "print('Jetzt haben wir aber genug über den Alkoholkauf geredet...')\n",
    "```\n",
    "\n",
    "```{admonition} Mini-Übung\n",
    ":class: miniexercise\n",
    "Schreiben Sie ein Skript, das nach dem aktuellen Monat fragt (1 für Januar, 2\n",
    "für Februar, 3 für März, usw.). Wenn der aktuelle Monat Januar bis Juni ist,\n",
    "soll ausgegeben werden: \"Dieser Monat gehört zur 1. Jahreshälfte.\" Ansonsten\n",
    "soll ausgegeben werden: \"Dieser Monat gehört zur 2. Jahreshälfte.\"\n",
    "```"
   ]
  },
  {
   "cell_type": "code",
   "execution_count": 1,
   "id": "a5685bb2",
   "metadata": {},
   "outputs": [],
   "source": [
    "# Geben Sie nach diesem Kommentar Ihren Code ein:\n"
   ]
  },
  {
   "cell_type": "markdown",
   "id": "a15f2fb3",
   "metadata": {},
   "source": [
    "````{admonition} Lösung\n",
    ":class: minisolution, toggle\n",
    "```python\n",
    "# Eingabe\n",
    "monat = int(input('Geben Sie bitte den aktuellen Monat ein, 1 für Januar, 2 für Februar usw.'))\n",
    "\n",
    "# Verarbeitung und Ausgabe\n",
    "if monat <= 6:\n",
    "    print('Dieser Monat gehört zur 1. Jahreshälfte.')\n",
    "else:\n",
    "    print('Dieser Monat gehört zur 2. Jahreshälfte.')\n",
    "```\n",
    "````\n",
    "\n",
    "```{admonition} Mini-Übung\n",
    ":class: miniexercise\n",
    "Schreiben Sie ein Skript, das nach der aktuellen Temperatur fragt. Wenn die\n",
    "aktuelle Temperatur kleiner gleich 3 ˚C ist, dann lassen Sie ausgeben:\n",
    "\"Vorsicht, es besteht Glatteisgefahr!\" und ansonsten \"Kein Grund zur Sorge.\"\n",
    "```"
   ]
  },
  {
   "cell_type": "code",
   "execution_count": 2,
   "id": "acfd2074",
   "metadata": {},
   "outputs": [],
   "source": [
    "# Geben Sie nach diesem Kommentar Ihren Code ein:\n"
   ]
  },
  {
   "cell_type": "markdown",
   "id": "e3facafb",
   "metadata": {},
   "source": [
    "````{admonition} Lösung\n",
    ":class: minisolution, toggle\n",
    "```python\n",
    "# Eingabe\n",
    "temperatur = float(input('Welche Temperatur haben wir aktuell?'))\n",
    "\n",
    "# Verarbeitung und Ausgabe\n",
    "if temperatur <= 3:\n",
    "    print('Vorsicht, es besteht Glatteisgefahr!')\n",
    "else:\n",
    "    print('Kein Grund zur Sorge.')\n",
    "```\n",
    "````\n",
    "\n",
    "## Programmverzweigungen mit vielen Zweigen: if – elseif – else\n",
    "\n",
    "Eins, zwei, drei, viele ... häufig müssen mehr als zwei Fälle unterschieden\n",
    "werden. In einer Mini-Übung haben wir beispielsweise überprüft, ob eine Zahl\n",
    "negativ oder positiv oder Null ist. Ein Beispiel aus dem Alltag ist der Kauf\n",
    "einer Fahrkarte für den ÖPNV. Meist wird beim Ticketpreis unterschieden, ob die\n",
    "Person jünger als 6 ist (keine Fahrkarte notwendig), zwischen 6 und 14 ist\n",
    "(Schülerfahrkarte) oder älter als 14 (Erwachsenenfahrkarte). Da es jetzt drei\n",
    "Altersklassen gibt, können wir kein if-else-Konstrukt benutzen, denn nur weil\n",
    "die Person beispielsweise nicht jünger als 6 ist wissen wir noch lange nicht, ob\n",
    "die Person eine Schülerfahrkarte oder eine Erwachsenenfahrkarte braucht. \n",
    "\n",
    "Probieren wir es einfach:"
   ]
  },
  {
   "cell_type": "code",
   "execution_count": 3,
   "id": "1faf0f82",
   "metadata": {},
   "outputs": [
    {
     "name": "stdout",
     "output_type": "stream",
     "text": [
      "Schülerfahrkarte\n"
     ]
    }
   ],
   "source": [
    "alter = 8\n",
    "if alter < 6:\n",
    "    print('keine Fahrkarte notwendig')\n",
    "if alter <= 14:\n",
    "    print('Schülerfahrkarte')\n",
    "if alter > 14:\n",
    "    print('Erwachsenenfahrkarte')"
   ]
  },
  {
   "cell_type": "markdown",
   "id": "cc026645",
   "metadata": {},
   "source": [
    "Sieht zunächst einmal gut aus. Für ein Alter von 8 Jahren wird tatsächlich\n",
    "Schülerfahrkarte ausgegeben. Wenn wir jetzt aber das Alter auf 5 Jahre setzen,\n",
    "so bekommen wir zwei Ausgaben:"
   ]
  },
  {
   "cell_type": "code",
   "execution_count": 4,
   "id": "511357df",
   "metadata": {},
   "outputs": [
    {
     "name": "stdout",
     "output_type": "stream",
     "text": [
      "keine Fahrkarte notwendig\n",
      "Schülerfahrkarte\n"
     ]
    }
   ],
   "source": [
    "alter = 5\n",
    "if alter < 6:\n",
    "    print('keine Fahrkarte notwendig')\n",
    "if alter <= 14:\n",
    "    print('Schülerfahrkarte')\n",
    "if alter > 14:\n",
    "    print('Erwachsenenfahrkarte')"
   ]
  },
  {
   "cell_type": "markdown",
   "id": "cc94aa4c",
   "metadata": {},
   "source": [
    "Wir erhalten die Ausgabe `\"keine Fahrkarte notwendig\"`, weil die Bedingung des\n",
    "ersten if-Konstrukts erfüllt ist (`alter < 6`). Danach wird aber auch noch die\n",
    "Ausgabe `\"Schülerfahrkarte\"` angezeigt, weil auch die Bedingung des zweiten\n",
    "if-Konstrukts (`alter <= 14`) erfüllt ist. So geht es also nicht, zwischen drei\n",
    "Bedingungen zu unterscheiden.\n",
    "\n",
    "Probieren wir es mit einem zusätzlichen if-else-Konstrukt für die Unterscheidung\n",
    "der Kinder."
   ]
  },
  {
   "cell_type": "code",
   "execution_count": 5,
   "id": "e83a8159",
   "metadata": {},
   "outputs": [
    {
     "name": "stdout",
     "output_type": "stream",
     "text": [
      "keine Fahrkarte notwendig\n"
     ]
    }
   ],
   "source": [
    "alter = 5\n",
    "\n",
    "if alter < 6:\n",
    "    print('keine Fahrkarte notwendig')\n",
    "else:\n",
    "    print('Schülerfahrkarte')\n",
    "\n",
    "if alter > 14:\n",
    "    print('Erwachsenenfahrkarte')"
   ]
  },
  {
   "cell_type": "markdown",
   "id": "c00412d5",
   "metadata": {},
   "source": [
    "Jetzt sind aber Erwachsene problematisch:"
   ]
  },
  {
   "cell_type": "code",
   "execution_count": 6,
   "id": "8eb251fa",
   "metadata": {},
   "outputs": [
    {
     "name": "stdout",
     "output_type": "stream",
     "text": [
      "Schülerfahrkarte\n",
      "Erwachsenenfahrkarte\n"
     ]
    }
   ],
   "source": [
    "alter = 27\n",
    "\n",
    "if alter < 6:\n",
    "    print('keine Fahrkarte notwendig')\n",
    "else:\n",
    "    print('Schülerfahrkarte')\n",
    "\n",
    "if alter > 14:\n",
    "    print('Erwachsenenfahrkarte')"
   ]
  },
  {
   "cell_type": "markdown",
   "id": "46a56ed3",
   "metadata": {},
   "source": [
    "Tatsächlich läuft unser Programm-Code nur korrekt, wenn wir in den else-Zweig\n",
    "noch zusätzlich zwischen \"jünger als 14\" und \"älter als 14\" unterscheiden.\n",
    "\n",
    "Führen Sie die folgende Code-Zelle mehrfach aus. Ändern Sie dabei das Alter.\n",
    "Probieren Sie beispielsweise 5, 8, 11, 16, 21 und Ihr Alter aus."
   ]
  },
  {
   "cell_type": "code",
   "execution_count": 7,
   "id": "d4c32f0c",
   "metadata": {},
   "outputs": [
    {
     "name": "stdout",
     "output_type": "stream",
     "text": [
      "Erwachsenenfahrkarte\n"
     ]
    }
   ],
   "source": [
    "alter = 27\n",
    "\n",
    "if alter < 6:\n",
    "    print('keine Fahrkarte notwendig')\n",
    "else:\n",
    "    if alter <= 14:\n",
    "        print('Schülerfahrkarte')\n",
    "    else:\n",
    "        print('Erwachsenenfahrkarte')"
   ]
  },
  {
   "cell_type": "markdown",
   "id": "3e0f4b6b",
   "metadata": {},
   "source": [
    "Um den obigen Code besser zu verstehen, zeichen wir den Ablauf schematisch:\n",
    "\n",
    "```{image} pics/part02_fahrkarte.png\n",
    ":name: part02_fahrkarte\n",
    "```\n",
    "\n",
    "Es wäre schöner, wenn es für solche Mehrfachverzweigungen etwas\n",
    "übersichtlicheren Code gäbe. Und in der Tat, den gibt es. Man könnte sozusagen\n",
    "den Start des else-Konstruktes mit dem nachfolgenden if-Konstrukt verschmelzen.\n",
    "Das Ergebnis davon ist die if-elif-else-Syntax. Allgemein sieht das\n",
    "**if-elif-else-Konstrukt** so aus:\n",
    "\n",
    "\n",
    "```python\n",
    "if bedingung 1:\n",
    "    anweisungsblock 1\n",
    "elif bedingung 2:\n",
    "    anweisungsblock 2\n",
    "elif bedingung 3:\n",
    "    anweisungsblock 3   \n",
    "...\n",
    "else:\n",
    "    anweisungsblock n\n",
    "```\n",
    "\n",
    "Hier die besser lesbare Version der Unterscheidung von Zahlen in negative\n",
    "Zahlen, 0 und positive Zahlen aus der obigen Mini-Übung:"
   ]
  },
  {
   "cell_type": "code",
   "execution_count": 8,
   "id": "b7b9f8af",
   "metadata": {},
   "outputs": [
    {
     "name": "stdout",
     "output_type": "stream",
     "text": [
      "a ist positiv.\n"
     ]
    }
   ],
   "source": [
    "a = 17\n",
    "if a == 0:\n",
    "    print('a ist Null.')\n",
    "elif a < 0:\n",
    "    print('a ist negativ.')\n",
    "else:\n",
    "    print('a ist positiv.')"
   ]
  },
  {
   "cell_type": "markdown",
   "id": "916ac4cd",
   "metadata": {},
   "source": [
    "Und jetzt noch einmal eine besser lesbare Version des Fahrkartenautomaten:"
   ]
  },
  {
   "cell_type": "code",
   "execution_count": 9,
   "id": "ef4f652c",
   "metadata": {},
   "outputs": [
    {
     "name": "stdout",
     "output_type": "stream",
     "text": [
      "Erwachsenenfahrkarte\n"
     ]
    }
   ],
   "source": [
    "alter = 27\n",
    "\n",
    "if alter < 6:\n",
    "    print('keine Fahrkarte notwendig')\n",
    "elif alter <= 14:\n",
    "    print('Schülerfahrkarte')\n",
    "else:\n",
    "    print('Erwachsenenfahrkarte')"
   ]
  },
  {
   "cell_type": "markdown",
   "id": "0e7e5855",
   "metadata": {},
   "source": [
    "````{admonition} Mini-Übung\n",
    ":class: miniexercise\n",
    "Sie finden den aktuellen Bußgeldkatalog für Geschwindigkeitsüberschreitungen mit\n",
    "dem PKW im Internet auf der Seite:\n",
    "https://www.bussgeldkatalog.org/geschwindigkeitsueberschreitung/ Schreiben Sie\n",
    "ein Skript, dass abhängig von der Geschwindigkeitsüberschreitung ausgibt,\n",
    "welche Strafe in Euro verhängt wird. Die Tabelle für das Jahr 2022 lautet wie\n",
    "folgt:\n",
    "```{image} pics/part02_bussgeldkatalog.png\n",
    ":name: part02_bussgeldkatalog\n",
    "```\n",
    "````"
   ]
  },
  {
   "cell_type": "code",
   "execution_count": 10,
   "id": "2ad2e755",
   "metadata": {},
   "outputs": [],
   "source": [
    "# Geben Sie nach diesem Kommentar Ihren Code ein:\n"
   ]
  },
  {
   "cell_type": "markdown",
   "id": "0d2648a3",
   "metadata": {},
   "source": [
    "````{admonition} Lösung\n",
    ":class: minisolution, toggle\n",
    "```python\n",
    "# Eingabe\n",
    "verstoss = int(input('Wieviel zu schnell ist die Person gefahren? '))\n",
    "\n",
    "# Verarbeitung und Ausgabe\n",
    "if verstoss <= 10:\n",
    "    print('20 EUR')\n",
    "elif verstoss <= 15: \n",
    "    print('40 EUR')\n",
    "elif verstoss <= 20:\n",
    "    print('60 EUR')\n",
    "elif verstoss <= 25:\n",
    "    print('100 EUR')\n",
    "elif verstoss <= 30:\n",
    "    print('150 EUR')\n",
    "elif verstoss <= 40:\n",
    "    print('200 EUR')\n",
    "elif verstoss <= 50:\n",
    "    print('320 EUR')\n",
    "elif verstoss <= 60:\n",
    "    print('480 EUR')\n",
    "elif verstoss <= 70:\n",
    "    print('600 EUR')\n",
    "else:\n",
    "    print('700 EUR')\n",
    "```\n",
    "````\n",
    "\n",
    "```{admonition} Mini-Übung\n",
    ":class: miniexercise\n",
    "Schreiben Sie ein Skript, das die aktuelle Temperatur von einem Benutzer oder einer Benutzerin abfragt. Wenn die Temperatur\n",
    "* <= - 10 ˚C ist, dann Ausgabe: \"Es ist bitterkalt.\"\n",
    "* <= 0 ˚C ist, dann Ausgabe: \"Es ist kalt.\"\n",
    "* <= 10 ˚C ist, dann Ausgabe: \"Es ist kühl, aber OK.\"\n",
    "* <= 20 ˚C ist, dann Ausgabe: \"Es ist frühlingshaft.\"\n",
    "* <= 30 ˚C ist, dann Ausgabe: \"Es ist heiß!\"\n",
    "* \\> 30 ˚C ist, dann Ausgabe: \"Das ist ja nicht mehr auszuhalten heiß!!!\"\n",
    "```"
   ]
  },
  {
   "cell_type": "code",
   "execution_count": 11,
   "id": "ac28e983",
   "metadata": {},
   "outputs": [],
   "source": [
    "# Geben Sie nach diesem Kommentar Ihren Code ein:\n"
   ]
  },
  {
   "cell_type": "markdown",
   "id": "f17a5214",
   "metadata": {},
   "source": [
    "````{admonition} Lösung\n",
    ":class: minisolution, toggle\n",
    "```python\n",
    "# Eingabe\n",
    "temperatur = float(input('Welche Temperatur haben wir aktuell? '))\n",
    "\n",
    "# Verarbeitung und Ausgabe\n",
    "if temperatur <= - 10:\n",
    "    print('Es ist bitterkalt.')\n",
    "elif temperatur <= 0: \n",
    "    print('Es ist kalt.')\n",
    "elif temperatur <= 10:\n",
    "    print('Es ist kühl, aber OK.')\n",
    "elif temperatur <= 20:\n",
    "    print('Es ist frühlingshaft.')\n",
    "elif temperatur <= 30:\n",
    "    print('Es ist heiß!')\n",
    "else:\n",
    "    print('Das ist ja nicht mehr auszuhalten heiß!')\n",
    "```\n",
    "````\n",
    "\n",
    "<iframe width=\"560\" height=\"315\" src=\"https://www.youtube.com/embed/f3YdEdYSNdk\" title=\"YouTube video player\" frameborder=\"0\" allow=\"accelerometer; autoplay; clipboard-write; encrypted-media; gyroscope; picture-in-picture\" allowfullscreen></iframe>"
   ]
  }
 ],
 "metadata": {
  "jupytext": {
   "formats": "ipynb,md:myst",
   "text_representation": {
    "extension": ".md",
    "format_name": "myst",
    "format_version": 0.13,
    "jupytext_version": "1.13.8"
   }
  },
  "kernelspec": {
   "display_name": "Python 3 (ipykernel)",
   "language": "python",
   "name": "python3"
  },
  "language_info": {
   "codemirror_mode": {
    "name": "ipython",
    "version": 3
   },
   "file_extension": ".py",
   "mimetype": "text/x-python",
   "name": "python",
   "nbconvert_exporter": "python",
   "pygments_lexer": "ipython3",
   "version": "3.10.8"
  },
  "source_map": [
   13,
   75,
   78,
   99,
   102,
   131,
   139,
   145,
   153,
   164,
   174,
   178,
   188,
   196,
   206,
   236,
   244,
   248,
   257,
   271,
   274,
   315,
   318
  ]
 },
 "nbformat": 4,
 "nbformat_minor": 5
}