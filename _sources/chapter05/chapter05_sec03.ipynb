{
 "cells": [
  {
   "cell_type": "markdown",
   "id": "778e5389",
   "metadata": {},
   "source": [
    "# 5.3 Programmverzweigungen mit mehreren Zweigen: if -- elif -- else\n",
    "\n",
    "In unserem Alltag kommen häufig Entscheidungen zwischen zwei Möglichkeiten vor.\n",
    "Wenn ich an eine T-Kreuzung komme, muss ich mich entscheiden: links oder rechts?\n",
    "Betrete ich ein Gebäude, entscheide ich zwischen Treppe und Fahrstuhl. Mein\n",
    "Alter entscheidet darüber, ob ich etwas darf oder nicht darf. Für diese Wahl\n",
    "zwischen zwei Möglichkeiten gibt es Programmverzweigungen mit zwei Weigen. Und\n",
    "auch bei Programmverzweigungen mit zwei Zweigen hört es noch nicht auf, denn\n",
    "vielleicht kommt man ja an eine Viererkreuzung. Daher behandeln wir in diesem\n",
    "Kapitel Programmverzweigungen mit mehreren Zweigen.\n",
    "\n",
    "## Lernziele\n",
    "\n",
    "```{admonition} Lernziele\n",
    ":class: goals\n",
    "* Sie können Programmverzweigungen mit zwei Zweigen mittels **if - else**\n",
    "  implementieren.\n",
    "* Sie können mehrteilige Programmverzweigungen mit **if - elif - else**\n",
    "  implementieren.\n",
    "```\n",
    "\n",
    "## Programmverzweigungen mit zwei Zweigen: if – else\n",
    "\n",
    "Wir erweitern die Syntax mit dem if-Block um ein neues Element, nämlich den\n",
    "sogenannten **else-Block**:\n",
    "\n",
    "```python\n",
    "if bedingung:\n",
    "    anweisungsblock 1\n",
    "else:\n",
    "    anweisungsblock 2\n",
    "```\n",
    "\n",
    "Wichtig ist, dass die Anweisungen, die nur bedingt ausgeführt werden sollen,\n",
    "eingerückt sind!\n",
    "\n",
    "Falls die Bedingung erfüllt ist, wird der 1. Anweisungsblock ausgeführt,\n",
    "ansonsten der 2. Anweisungsblock. Danach führt der Python-Interpreter alles nach\n",
    "dem if-else-Konstrukt aus, d.h. der Interpreter macht mit dem normalen\n",
    "Programmablauf weiter.\n",
    "\n",
    "Hier erneut ein Beispiel mit dem Alter.\n",
    "\n",
    "```python\n",
    "alter = int(input('Wie alt sind Sie? '))\n",
    "if alter >= 18:\n",
    "    print('Sie sind volljährig, Sie dürfen Alkohol kaufen.')\n",
    "else:\n",
    "    print('Sie sind noch nicht volljährig und dürfen daher keinen Alkohol kaufen.')\n",
    "\n",
    "print('Jetzt haben wir aber genug über den Alkoholkauf geredet...')\n",
    "```\n",
    "\n",
    "Wir vertiefen die zweifache Verzweigung mit einer Mini-Übung.\n",
    "\n",
    "```{admonition} Mini-Übung\n",
    ":class: miniexercise\n",
    "Schreiben Sie ein Skript, das nach der aktuellen Temperatur fragt. Wenn die\n",
    "aktuelle Temperatur kleiner gleich 3 ˚C ist, dann lassen Sie ausgeben:\n",
    "\"Vorsicht, es besteht Glatteisgefahr!\" und ansonsten \"Kein Grund zur Sorge.\"\n",
    "```"
   ]
  },
  {
   "cell_type": "code",
   "execution_count": 1,
   "id": "d88d6395",
   "metadata": {},
   "outputs": [],
   "source": [
    "# Geben Sie nach diesem Kommentar Ihren Code ein:\n"
   ]
  },
  {
   "cell_type": "markdown",
   "id": "e020d44a",
   "metadata": {},
   "source": [
    "````{admonition} Lösung\n",
    ":class: miniexercise, toggle\n",
    "```python\n",
    "# Eingabe\n",
    "temperatur = float(input('Welche Temperatur haben wir aktuell?'))\n",
    "\n",
    "# Verarbeitung und Ausgabe\n",
    "if temperatur <= 3:\n",
    "    print('Vorsicht, es besteht Glatteisgefahr!')\n",
    "else:\n",
    "    print('Kein Grund zur Sorge.')\n",
    "```\n",
    "````\n",
    "\n",
    "## Programmverzweigungen mit vielen Zweigen: if – elif – else\n",
    "\n",
    "Eins, zwei, drei -- viele ... häufig müssen mehr als zwei Fälle unterschieden\n",
    "werden. In einer Mini-Übung haben wir beispielsweise überprüft, ob eine Zahl\n",
    "negativ oder positiv oder Null ist. Ein Beispiel aus dem Alltag ist der Kauf\n",
    "einer Fahrkarte für den ÖPNV. Meist wird beim Ticketpreis unterschieden, ob die\n",
    "Person jünger als 6 ist (keine Fahrkarte notwendig), zwischen 6 und 14 ist\n",
    "(Schülerfahrkarte) oder älter als 14 (Erwachsenenfahrkarte). Da es jetzt drei\n",
    "Altersklassen gibt, können wir kein if-else-Konstrukt benutzen, denn nur weil\n",
    "die Person beispielsweise nicht jünger als 6 ist wissen wir noch lange nicht, ob\n",
    "die Person eine Schülerfahrkarte oder eine Erwachsenenfahrkarte braucht.\n",
    "\n",
    "Beachten Sie die Wahl der Vergleichsoperatoren: Bei `alter <= 14` ist eine\n",
    "Person mit genau 14 Jahren noch in der Kategorie 'Schülerfahrkarte'. Bei `alter\n",
    "< 15` wäre dies ebenso der Fall. Überlegen Sie bei der Implementierung genau, ob\n",
    "Randwerte in- oder exklusiv behandelt werden sollen.\n",
    "\n",
    "Probieren wir es einfach:"
   ]
  },
  {
   "cell_type": "code",
   "execution_count": 2,
   "id": "fc827ce5",
   "metadata": {},
   "outputs": [
    {
     "name": "stdout",
     "output_type": "stream",
     "text": [
      "Schülerfahrkarte\n"
     ]
    }
   ],
   "source": [
    "alter = 8\n",
    "if alter < 6:\n",
    "    print('keine Fahrkarte notwendig')\n",
    "if alter <= 14:\n",
    "    print('Schülerfahrkarte')\n",
    "if alter > 14:\n",
    "    print('Erwachsenenfahrkarte')"
   ]
  },
  {
   "cell_type": "markdown",
   "id": "88a40484",
   "metadata": {},
   "source": [
    "Sieht zunächst einmal gut aus. Für ein Alter von 8 Jahren wird tatsächlich\n",
    "Schülerfahrkarte ausgegeben. Wenn wir jetzt aber das Alter auf 5 Jahre setzen,\n",
    "so bekommen wir zwei Ausgaben:"
   ]
  },
  {
   "cell_type": "code",
   "execution_count": 3,
   "id": "6fa8ccf5",
   "metadata": {},
   "outputs": [
    {
     "name": "stdout",
     "output_type": "stream",
     "text": [
      "keine Fahrkarte notwendig\n",
      "Schülerfahrkarte\n"
     ]
    }
   ],
   "source": [
    "alter = 5\n",
    "if alter < 6:\n",
    "    print('keine Fahrkarte notwendig')\n",
    "if alter <= 14:\n",
    "    print('Schülerfahrkarte')\n",
    "if alter > 14:\n",
    "    print('Erwachsenenfahrkarte')"
   ]
  },
  {
   "cell_type": "markdown",
   "id": "0d0e293c",
   "metadata": {},
   "source": [
    "Wir erhalten die Ausgabe `\"keine Fahrkarte notwendig\"`, weil die Bedingung des\n",
    "ersten if-Konstrukts erfüllt ist (`alter < 6`). Danach wird aber auch noch die\n",
    "Ausgabe `\"Schülerfahrkarte\"` angezeigt, weil auch die Bedingung des zweiten\n",
    "if-Konstrukts (`alter <= 14`) erfüllt ist. Diese Variante eignet sich also nicht\n",
    "zur Unterscheidung dreier Bedingungen.\n",
    "\n",
    "Probieren wir es mit einem zusätzlichen if-else-Konstrukt für die Unterscheidung\n",
    "der Kinder."
   ]
  },
  {
   "cell_type": "code",
   "execution_count": 4,
   "id": "ae1bc929",
   "metadata": {},
   "outputs": [
    {
     "name": "stdout",
     "output_type": "stream",
     "text": [
      "keine Fahrkarte notwendig\n"
     ]
    }
   ],
   "source": [
    "alter = 5\n",
    "\n",
    "if alter < 6:\n",
    "    print('keine Fahrkarte notwendig')\n",
    "else:\n",
    "    print('Schülerfahrkarte')\n",
    "\n",
    "if alter > 14:\n",
    "    print('Erwachsenenfahrkarte')"
   ]
  },
  {
   "cell_type": "markdown",
   "id": "3bd67469",
   "metadata": {},
   "source": [
    "Jetzt sind aber Erwachsene problematisch:"
   ]
  },
  {
   "cell_type": "code",
   "execution_count": 5,
   "id": "3c47d815",
   "metadata": {},
   "outputs": [
    {
     "name": "stdout",
     "output_type": "stream",
     "text": [
      "Schülerfahrkarte\n",
      "Erwachsenenfahrkarte\n"
     ]
    }
   ],
   "source": [
    "alter = 27\n",
    "\n",
    "if alter < 6:\n",
    "    print('keine Fahrkarte notwendig')\n",
    "else:\n",
    "    print('Schülerfahrkarte')\n",
    "\n",
    "if alter > 14:\n",
    "    print('Erwachsenenfahrkarte')"
   ]
  },
  {
   "cell_type": "markdown",
   "id": "762ff5ef",
   "metadata": {},
   "source": [
    "Der Programmcode funktioniert nur korrekt, wenn wir in den else-Zweig noch\n",
    "zusätzlich zwischen \"jünger als 14\" und \"älter als 14\" unterscheiden.\n",
    "\n",
    "Führen Sie die folgende Code-Zelle mehrfach aus. Ändern Sie dabei das Alter.\n",
    "Probieren Sie beispielsweise 5, 8, 11, 16, 21 und Ihr Alter aus."
   ]
  },
  {
   "cell_type": "code",
   "execution_count": 6,
   "id": "4baf70e8",
   "metadata": {},
   "outputs": [
    {
     "name": "stdout",
     "output_type": "stream",
     "text": [
      "Erwachsenenfahrkarte\n"
     ]
    }
   ],
   "source": [
    "alter = 27\n",
    "\n",
    "if alter < 6:\n",
    "    print('keine Fahrkarte notwendig')\n",
    "else:\n",
    "    if alter <= 14:\n",
    "        print('Schülerfahrkarte')\n",
    "    else:\n",
    "        print('Erwachsenenfahrkarte')"
   ]
  },
  {
   "cell_type": "markdown",
   "id": "87bcf05c",
   "metadata": {},
   "source": [
    "Um den obigen Code besser zu verstehen, zeichen wir den Ablauf schematisch:\n",
    "\n",
    "```{image} pics/part02_fahrkarte.png\n",
    ":name: part02_fahrkarte\n",
    "```\n",
    "\n",
    "Es wäre schöner, wenn es für solche Mehrfachverzweigungen etwas\n",
    "übersichtlicheren Code gäbe. Und in der Tat, den gibt es. Man könnte sozusagen\n",
    "den Start des else-Konstruktes mit dem nachfolgenden if-Konstrukt verschmelzen.\n",
    "`elif` ist eine Kurzform für `else if` und ermöglicht es, mehrere Bedingungen\n",
    "nacheinander zu prüfen, ohne die Einrückungstiefe zu erhöhen. Das Ergebnis davon\n",
    "ist die if-elif-else-Syntax. Allgemein sieht das **if-elif-else-Konstrukt** so\n",
    "aus:\n",
    "\n",
    "```python\n",
    "if bedingung 1:\n",
    "    anweisungsblock 1\n",
    "elif bedingung 2:\n",
    "    anweisungsblock 2\n",
    "elif bedingung 3:\n",
    "    anweisungsblock 3   \n",
    "...\n",
    "else:\n",
    "    anweisungsblock n\n",
    "```\n",
    "\n",
    "Wichtig: Bei einem if-elif-else-Konstrukt werden die Bedingungen der Reihe nach\n",
    "geprüft. Sobald eine Bedingung erfüllt ist, wird der zugehörige Anweisungsblock\n",
    "ausgeführt und alle nachfolgenden Bedingungen werden ignoriert. Daher ist die\n",
    "Reihenfolge der Bedingungen entscheidend für die korrekte Funktionsweise des\n",
    "Programms.\n",
    "\n",
    "Hier die besser lesbare Version der Unterscheidung von Zahlen in negative\n",
    "Zahlen, 0 und positive Zahlen aus der Mini-Übung:"
   ]
  },
  {
   "cell_type": "code",
   "execution_count": 7,
   "id": "ea6ea7bc",
   "metadata": {},
   "outputs": [
    {
     "name": "stdout",
     "output_type": "stream",
     "text": [
      "a ist positiv.\n"
     ]
    }
   ],
   "source": [
    "a = 17\n",
    "if a == 0:\n",
    "    print('a ist Null.')\n",
    "elif a < 0:\n",
    "    print('a ist negativ.')\n",
    "else:\n",
    "    print('a ist positiv.')"
   ]
  },
  {
   "cell_type": "markdown",
   "id": "b654717c",
   "metadata": {},
   "source": [
    "Hier die besser lesbare Version des Fahrkartenautomaten:"
   ]
  },
  {
   "cell_type": "code",
   "execution_count": 8,
   "id": "3ceb5a0a",
   "metadata": {},
   "outputs": [
    {
     "name": "stdout",
     "output_type": "stream",
     "text": [
      "Erwachsenenfahrkarte\n"
     ]
    }
   ],
   "source": [
    "alter = 27\n",
    "\n",
    "if alter < 6:\n",
    "    print('keine Fahrkarte notwendig')\n",
    "elif alter <= 14:\n",
    "    print('Schülerfahrkarte')\n",
    "else:\n",
    "    print('Erwachsenenfahrkarte')"
   ]
  },
  {
   "cell_type": "markdown",
   "id": "2f58fcb3",
   "metadata": {},
   "source": [
    "````{admonition} Mini-Übung\n",
    ":class: miniexercise\n",
    "Sie finden den aktuellen Bußgeldkatalog für Geschwindigkeitsüberschreitungen mit\n",
    "dem PKW im Internet auf der Seite:\n",
    "https://www.bussgeldkatalog.org/geschwindigkeitsueberschreitung/ Schreiben Sie\n",
    "ein Skript, dass abhängig von der Geschwindigkeitsüberschreitung ausgibt,\n",
    "welche Strafe in Euro verhängt wird. Die Tabelle für das Jahr 2022 lautet wie\n",
    "folgt:\n",
    "```{image} pics/part02_bussgeldkatalog.png\n",
    ":name: part02_bussgeldkatalog\n",
    "```\n",
    "````"
   ]
  },
  {
   "cell_type": "code",
   "execution_count": 9,
   "id": "180ecfd4",
   "metadata": {},
   "outputs": [],
   "source": [
    "# Geben Sie nach diesem Kommentar Ihren Code ein:\n"
   ]
  },
  {
   "cell_type": "markdown",
   "id": "73eeffa5",
   "metadata": {},
   "source": [
    "````{admonition} Lösung\n",
    ":class: miniexercise, toggle\n",
    "```python\n",
    "# Eingabe\n",
    "verstoss = int(input('Wieviel zu schnell ist die Person gefahren? '))\n",
    "\n",
    "# Verarbeitung und Ausgabe\n",
    "if verstoss <= 10:\n",
    "    print('20 EUR')\n",
    "elif verstoss <= 15: \n",
    "    print('40 EUR')\n",
    "elif verstoss <= 20:\n",
    "    print('60 EUR')\n",
    "elif verstoss <= 25:\n",
    "    print('100 EUR')\n",
    "elif verstoss <= 30:\n",
    "    print('150 EUR')\n",
    "elif verstoss <= 40:\n",
    "    print('200 EUR')\n",
    "elif verstoss <= 50:\n",
    "    print('320 EUR')\n",
    "elif verstoss <= 60:\n",
    "    print('480 EUR')\n",
    "elif verstoss <= 70:\n",
    "    print('600 EUR')\n",
    "else:\n",
    "    print('700 EUR')\n",
    "```\n",
    "````\n",
    "\n",
    "Wenn Sie das Thema elif/else vertiefen wollen, können Sie sich das folgende\n",
    "Video ansehen.\n",
    "\n",
    "```{dropdown} Video \"elif und else\" von Programmieren Starten\n",
    "<iframe width=\"560\" height=\"315\" src=\"https://www.youtube.com/embed/f3YdEdYSNdk\"\n",
    "title=\"YouTube video player\" frameborder=\"0\" allow=\"accelerometer; autoplay; clipboard-write;\n",
    "encrypted-media; gyroscope; picture-in-picture\" allowfullscreen></iframe>\n",
    "```\n",
    "\n",
    "## Zusammenfassung und Ausblick\n",
    "\n",
    "In diesem Kapitel haben wir gelernt, wie man mit if, elif und else in Python\n",
    "Programmverzweigungen mit zwei oder mehr Entscheidungszweigen umsetzt, um\n",
    "unterschiedliche Fälle gezielt abzufragen und übersichtlich zu strukturieren. Im\n",
    "nächsten Kapitel werden wir die Strukturierung des Code in kleinere Einheiten\n",
    "erlernen (Funktionen)."
   ]
  }
 ],
 "metadata": {
  "jupytext": {
   "formats": "ipynb,md:myst",
   "text_representation": {
    "extension": ".md",
    "format_name": "myst",
    "format_version": 0.13,
    "jupytext_version": "1.13.8"
   }
  },
  "kernelspec": {
   "display_name": "Python 3 (ipykernel)",
   "language": "python",
   "name": "python3"
  },
  "language_info": {
   "codemirror_mode": {
    "name": "ipython",
    "version": 3
   },
   "file_extension": ".py",
   "mimetype": "text/x-python",
   "name": "python",
   "nbconvert_exporter": "python",
   "pygments_lexer": "ipython3",
   "version": "3.12.2"
  },
  "source_map": [
   13,
   77,
   80,
   115,
   123,
   129,
   137,
   148,
   158,
   162,
   172,
   180,
   190,
   227,
   235,
   239,
   248,
   263,
   266
  ]
 },
 "nbformat": 4,
 "nbformat_minor": 5
}