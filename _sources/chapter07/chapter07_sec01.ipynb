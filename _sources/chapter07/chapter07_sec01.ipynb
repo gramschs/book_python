{
 "cells": [
  {
   "cell_type": "markdown",
   "id": "035d152e",
   "metadata": {},
   "source": [
    "# 7.1 Digitale Logik: und, oder, nicht\n",
    "\n",
    "In diesem Kapitel beschäftigen wir uns zuerst damit, wie kombinierte Bedingungen\n",
    "in der Programmiersprache Python formuliert werden. In der Informatik bezeichnet\n",
    "man dieses Themenfeld auch als **digitale Logik** oder **boolesche Algebra**. \n",
    "\n",
    "## Lernziele\n",
    "\n",
    "```{admonition} Lernziele\n",
    ":class: tip\n",
    "Sie kennen die logischen Operatoren und können diese in Python einsetzen:\n",
    "* logisches UND: `and`\n",
    "* logisches ODER: `or`\n",
    "* logisches NICHT: `not`\n",
    "```\n",
    "\n",
    "## Boolesche Algebra\n",
    "\n",
    "In früheren Kapiteln haben wir den boolschen Datentyp kennengelernt: wahr oder\n",
    "falsch. Man kann solche Ausdrücke auch kombinieren, z.B. könnte man fordern,\n",
    "dass zwei Bedingungen gleichzeitg erfüllt sein sollen.\n",
    "\n",
    "Beispiel beim Busfahren: Kinder unter 6 Jahren können kostenlos Bus fahren. Ab 6\n",
    "Jahren braucht man eine Fahrkarte. Bis 14 Jahre zahlt man den Kinderpreis, ab 15\n",
    "Jahren den Erwachsenenpreis. Die Bedingung für eine Kinderkarte lautet also:\n",
    "\n",
    "$$\\text{Alter} \\geq 6 \\text{ und } \\text{Alter} \\leq 14.$$\n",
    "\n",
    "Keine Kinderfahrkarte braucht man, wenn man jünger als 6 ist oder älter als 14,\n",
    "also:\n",
    "\n",
    "$$\\text{Alter} < 6 \\text{ oder } \\text{Alter} > 14.$$\n",
    "\n",
    "Eine Fahrkarte (egal ob Kinderfahrkarte oder Erwachsenenfahrkarte) muss\n",
    "mankaufen, wenn man kein Kind ist, also wenn\n",
    "\n",
    "$$\\text{nicht} \\left( \\text{Alter} < 6\\right).$$\n",
    "\n",
    "Gut, letzteres könnte man natürlicher einfacher mit $\\text{Alter} \\geq 6$\n",
    "ausdrücken, aber das klappt auch nicht bei jeder Bedingung.\n",
    "\n",
    "Im Folgenden beschäftigen wir uns daher mit der Verknüpfung von booleschen\n",
    "Ausdrücken. Dieses Fachgebiet nennt man auch boolsche Algebra oder digitale\n",
    "Logik. Wikipedia fasst hier die wichtigsten Regeln zur booleschen Algebra\n",
    "zusammen: https://de.wikipedia.org/wiki/Boolesche_Algebra \n",
    "\n",
    "Wir werden in dieser Vorlesung uns aber auf die logischen Verknüpfungen oder\n",
    "logischen Operatoren \n",
    "\n",
    "* UND\n",
    "* ODER\n",
    "* NICHT\n",
    "\n",
    "beschränken. \n",
    "\n",
    "## Das logische UND\n",
    "\n",
    "Beim logischen UND müssen beide Bedingungen erfüllt sein, damit insgesamt die\n",
    "kombinierte Bedingung erfüllt ist. Vergleichbar ist dies mit einer\n",
    "Reihenschaltung in der Elektrotechnik. Nur wenn beide Schalter eingeschaltet\n",
    "sind, kann der Strom fließen.\n",
    "\n",
    "Hier finden Sie den Link zu einem YouTube-Video (ca. 3:14 min) von Lehrer Schmidt zur UND-Schaltung:\n",
    "\n",
    "https://www.youtube.com/watch?v=79WVEr2BVZI\n",
    "\n",
    "Man schreibt die Ergebnisse der kombinierten Bedingungen normalerweise als eine\n",
    "Tabelle auf. Die erste Zeile würde man so lesen: Wenn “Bedingung 1 wahr” ist UND\n",
    "wenn “Bedingung 2 wahr” ist, so ist auch die kombinierte Bedingung “Bedingung 1\n",
    "UND Bedingung 2” wahr. Wir verwenden hier schon die Python-Werte `True` für wahr\n",
    "und `False` für falsch sowie den `and`-Operator für das logische UND:\n",
    "\n",
    "Bedingung 1 | Bedingung 2 | Ergebnis mit ```and```\n",
    "------------|-------------|--------------------------\n",
    "True | True | True\n",
    "False | True | False\n",
    "True | False | False\n",
    "False | False | False\n",
    "\n",
    "Beispiel: Zwei Personen wollen einen Kinofilm sehen, der erst ab 18 erlaubt ist.\n",
    "Nur wenn beide volljährig sind, können sie den Film gemeinsam besuchen:"
   ]
  },
  {
   "cell_type": "code",
   "execution_count": 1,
   "id": "a849c61a",
   "metadata": {},
   "outputs": [
    {
     "name": "stdout",
     "output_type": "stream",
     "text": [
      "Sie duerfen beide den Film sehen.\n"
     ]
    }
   ],
   "source": [
    "alter_person1 = 19\n",
    "alter_person2 = 22\n",
    "if (alter_person1 >= 18) and (alter_person2 >= 18):\n",
    "    print('Sie duerfen beide den Film sehen.')\n",
    "else:\n",
    "    print('Vielleicht darf einer von Ihnen den Film sehen, aber nicht beide.')"
   ]
  },
  {
   "cell_type": "markdown",
   "id": "8960e98f",
   "metadata": {},
   "source": [
    "```{admonition} Mini-Übung\n",
    ":class: miniexercise\n",
    "Schreiben Sie ein Skript, das nach dem Alter einer Person fragt. Wenn das Alter\n",
    "der Person zwischen 6 und 10 liegt, soll das Programm ausgeben “Wahrscheinlich\n",
    "gehst Du in die Grundschule.”\n",
    "```"
   ]
  },
  {
   "cell_type": "code",
   "execution_count": 2,
   "id": "ad1e9cba",
   "metadata": {},
   "outputs": [],
   "source": [
    "# Hier Ihr Code"
   ]
  },
  {
   "cell_type": "markdown",
   "id": "82f41023",
   "metadata": {},
   "source": [
    "````{admonition} Lösung\n",
    ":class: minisolution, toggle\n",
    "```python\n",
    "# Eingabe\n",
    "alter = int(input('Wie alt sind Sie?'))\n",
    "\n",
    "# Verarbeitung und Ausgabe\n",
    "if (6 <= alter) and (alter <= 10):\n",
    "    print('Wahrscheinlich gehst Du in die Gundschule.')\n",
    "```\n",
    "````\n",
    "\n",
    "## Das logische ODER\n",
    "\n",
    "Beim logischen ODER muss nur eine der beiden Bedingungen erfüllt sein, damit\n",
    "insgesamt die kombinierte Bedingung erfüllt ist. Damit ist natürlich die\n",
    "Bedingung insgesamt auch erfüllt, wenn beide Bedingungen wahr sind. Vergleichbar\n",
    "ist dies mit einer Parallelschaltung in der Elektrotechnik. Es reicht, wenn\n",
    "einer der beiden Schalter eingeschaltet sind, damit der Strom fließen kann. Auch\n",
    "wenn beide Schalter eingeschaltet sind, fließt Strom.\n",
    "\n",
    "Hier finden Sie den Link zu einem YouTube-Video (ca. 2:42 min) von Lehrer\n",
    "Schmidt zur ODER-Schaltung: https://www.youtube.com/watch?v=UNkXbvSN9w8\n",
    "\n",
    "Auch bei der ODER-Verknüpfung schreibt man üblicherweise die Ergebnisse der\n",
    "kombinierten Bedingungen in Form einer Tabelle. Die dritte Zeile würde man\n",
    "beispielsweise so lesen: Wenn “Bedingung 1 wahr” ist ODER wenn “Bedingung 2\n",
    "falsch” ist, so ist auch die kombinierte Bedingung “Bedingung 1 ODER Bedingung\n",
    "2” wahr. Wir verwenden hier wiederum die Python-Werte `True` für wahr und\n",
    "`False` für falsch sowie den logischen Oder-Operator `or`:\n",
    "\n",
    "Bedingung 1 | Bedingung 2 | Ergebnis mit ```or```\n",
    "------------|-------------|--------------------------\n",
    "True | True | True\n",
    "False | True | True\n",
    "True | False | True\n",
    "False | False | False\n",
    "\n",
    "Beispiel: Zwei Personen wollen ein Auto mieten, dazu muss aber mindestens einer\n",
    "von beiden den Führerschein besitzen."
   ]
  },
  {
   "cell_type": "code",
   "execution_count": 3,
   "id": "8d8abbdf",
   "metadata": {},
   "outputs": [
    {
     "name": "stdout",
     "output_type": "stream",
     "text": [
      "Sie duerfen das Auto mieten.\n"
     ]
    }
   ],
   "source": [
    "person1_hat_fuehrerschein = True\n",
    "person2_hat_fuehrerschein = False\n",
    "\n",
    "if (person1_hat_fuehrerschein == True) or (person2_hat_fuehrerschein == True):\n",
    "    print('Sie duerfen das Auto mieten.')\n",
    "else:\n",
    "    print('Keiner von beiden hat einen Fuehrerschein, geht nicht.')"
   ]
  },
  {
   "cell_type": "markdown",
   "id": "003fd6fe",
   "metadata": {},
   "source": [
    "Übrigens, der Vergleich `person1_hat_fuehrerschein == True` ist eigentlich\n",
    "doppelt gemoppelt, da ja die Variable bereits den Datentyp bool hat. Wir könnten\n",
    "also auch kürzer schreiben"
   ]
  },
  {
   "cell_type": "code",
   "execution_count": 4,
   "id": "ef2ff3ff",
   "metadata": {},
   "outputs": [
    {
     "name": "stdout",
     "output_type": "stream",
     "text": [
      "Sie duerfen das Auto mieten.\n"
     ]
    }
   ],
   "source": [
    "person1_hat_fuehrerschein = True\n",
    "person2_hat_fuehrerschein = False\n",
    "\n",
    "if person1_hat_fuehrerschein or person2_hat_fuehrerschein :\n",
    "    print('Sie duerfen das Auto mieten.')\n",
    "else:\n",
    "    print('Keiner von beiden hat einen Fuehrerschein, geht nicht.')"
   ]
  },
  {
   "cell_type": "markdown",
   "id": "ad6c5d58",
   "metadata": {},
   "source": [
    "```{admonition} Mini-Übung\n",
    ":class: miniexercise\n",
    "Schreiben Sie ein Skript, das nach dem Alter einer Person fragt. Wenn die Person\n",
    "jünger als 18 ist oder älter als 67, soll das Programm ausgeben: “Wahrscheinlich\n",
    "sind Sie/bist Du nicht berufstätig.”\n",
    "```"
   ]
  },
  {
   "cell_type": "code",
   "execution_count": 5,
   "id": "0ca57629",
   "metadata": {},
   "outputs": [],
   "source": [
    "# Hier Ihr Code"
   ]
  },
  {
   "cell_type": "markdown",
   "id": "1ea54231",
   "metadata": {},
   "source": [
    "````{admonition} Lösung\n",
    ":class: minisolution, toggle\n",
    "```python\n",
    "# Eingabe\n",
    "alter =  int(input('Alter: '))\n",
    "\n",
    "# Verarbeitung und Ausgabe\n",
    "if (alter < 18) or (67 < alter):\n",
    "    print('Wahrscheinlich sind Sie/bist Du nicht berufstätig.')\n",
    "```\n",
    "````\n",
    "\n",
    "## Das logische NICHT\n",
    "\n",
    "Das logische NICHT kehrt eine Aussage um. Wenn eine Bedingung wahr war, wird sie\n",
    "falsch. War jedoch die Bedingung vorher wahr, wird sie nach Anwendung des\n",
    "logischen NICHT falsch. Man schreibt auch diese Operation normalerweise als\n",
    "Tabelle auf, wobei wir den logischen Nicht-Opertor `not` verwenden:\n",
    "\n",
    "Bedingung 1 | Ergebnis mit ```not```\n",
    "------------|--------------------------\n",
    "True | False\n",
    "False | True \n",
    "\n",
    "Beispiel: Wenn eine Person keinen Führerschein hat, muss sie den Bus nehmen."
   ]
  },
  {
   "cell_type": "code",
   "execution_count": 6,
   "id": "cc2a214c",
   "metadata": {},
   "outputs": [
    {
     "name": "stdout",
     "output_type": "stream",
     "text": [
      "Sie muessen Bus fahren.\n"
     ]
    }
   ],
   "source": [
    "person_hat_fuehrerschein = False\n",
    "\n",
    "if not person_hat_fuehrerschein:\n",
    "    print('Sie muessen Bus fahren.')\n",
    "else:\n",
    "    print('Sie duerfen Auto fahren.')"
   ]
  },
  {
   "cell_type": "markdown",
   "id": "7baedfd2",
   "metadata": {},
   "source": [
    "```{admonition} Mini-Übung\n",
    ":class: miniexercise\n",
    "Überlegen Sie zunächst, was ist das Ergebnis der folgenden Verknüpfungen: wahr\n",
    "oder falsch?\n",
    "\n",
    "* wahr UND wahr\n",
    "* wahr ODER falsch\n",
    "* NICHT wahr\n",
    "* falsch ODER wahr\n",
    "* wahr ODER (NICHT falsch)\n",
    "* (NICHT wahr) UND falsch\n",
    "* NICHT (wahr ODER falsch)\n",
    "* (NICHT falsch) ODER (falsch UND falsch)\n",
    "\n",
    "Probieren Sie dann in der nächsten Code-Zelle aus, ob Sie die richtigen\n",
    "Ergebnisse hatten, indem Sie beispielsweise wahr und wahr in Python\n",
    "ausprobieren, also beispielsweise `True and True` eingeben.\n",
    "```"
   ]
  },
  {
   "cell_type": "code",
   "execution_count": 7,
   "id": "01530908",
   "metadata": {},
   "outputs": [],
   "source": [
    "# Hier Ihr Code"
   ]
  },
  {
   "cell_type": "markdown",
   "id": "5ae22759",
   "metadata": {},
   "source": [
    "````{admonition} Lösung\n",
    ":class: minisolution, toggle\n",
    "```python\n",
    "# wahr UND wahr\n",
    "True and True\n",
    "\n",
    "# wahr ODER falsch\n",
    "True or False\n",
    "\n",
    "# NICHT wahr\n",
    "not True\n",
    "\n",
    "# falsch ODER wahr\n",
    "False or True\n",
    "\n",
    "# wahr ODER (NICHT falsch)\n",
    "True or (not False)\n",
    "\n",
    "# (NICHT wahr) UND falsch\n",
    "(not True) and False\n",
    "\n",
    "# NICHT (wahr ODER falsch)\n",
    "not (True or False)\n",
    "\n",
    "# (NICHT falsch) ODER (falsch UND falsch)\n",
    "(not False) or (False and False)\n",
    "```\n",
    "````\n",
    "\n",
    "## Video\n",
    "\n",
    "<iframe width=\"560\" height=\"315\" src=\"https://www.youtube.com/embed/075l6R42tkQ\" title=\"YouTube video player\" frameborder=\"0\" allow=\"accelerometer; autoplay; clipboard-write; encrypted-media; gyroscope; picture-in-picture\" allowfullscreen></iframe>"
   ]
  }
 ],
 "metadata": {
  "jupytext": {
   "formats": "ipynb,md:myst",
   "text_representation": {
    "extension": ".md",
    "format_name": "myst",
    "format_version": 0.13,
    "jupytext_version": "1.13.8"
   }
  },
  "kernelspec": {
   "display_name": "Python 3 (ipykernel)",
   "language": "python",
   "name": "python3"
  },
  "language_info": {
   "codemirror_mode": {
    "name": "ipython",
    "version": 3
   },
   "file_extension": ".py",
   "mimetype": "text/x-python",
   "name": "python",
   "nbconvert_exporter": "python",
   "pygments_lexer": "ipython3",
   "version": "3.10.8"
  },
  "source_map": [
   13,
   97,
   104,
   112,
   114,
   156,
   164,
   170,
   178,
   186,
   188,
   215,
   222,
   242,
   244
  ]
 },
 "nbformat": 4,
 "nbformat_minor": 5
}