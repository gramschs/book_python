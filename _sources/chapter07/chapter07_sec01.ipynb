{
 "cells": [
  {
   "cell_type": "markdown",
   "id": "7feaeabf",
   "metadata": {},
   "source": [
    "# 7.1 Digitale Logik: und, oder, nicht\n",
    "\n",
    "In früheren Kapiteln haben wir den booleschen Datentyp kennengelernt: wahr\n",
    "(`True`) oder falsch (`False`). Man kann solche Ausdrücke auch kombinieren, z.B.\n",
    "wenn zwei Bedingungen gleichzeitig erfüllt sein sollen. Beispielsweise soll eine\n",
    "Maschine snur dann gestartet werden, wenn der Sicherheitsschalter aktiviert ist\n",
    "UND die Temperatur unter einem kritischen Wert liegt. Beide Bedingungen müssen\n",
    "erfüllt sein.\n",
    "\n",
    "Die Grundlage solcher Verknüpfungen bildet die **boolesche Algebra**, benannt\n",
    "nach dem Mathematiker [George\n",
    "Boole](https://de.wikipedia.org/wiki/George_Boole). In dieser Vorlesung\n",
    "konzentrieren wir uns auf die drei wichtigsten logischen Operatoren:\n",
    "\n",
    "* UND (`and`): beide Bedingungen müssen erfüllt sein\n",
    "* ODER (`or`): mindestens eine Bedingung muss erfüllt sein\n",
    "* NICHT (`not`): kehrt den Wahrheitswert einer Bedingung um\n",
    "\n",
    "Diese Operatoren sind grundlegend für technische Systeme und werden häufig für\n",
    "Steuerungen, Regelungen und Sicherheitssysteme eingesetzt.\n",
    "\n",
    "## Lernziele\n",
    "\n",
    "```{admonition} Lernziele\n",
    ":class: goals\n",
    "* Sie kennen die logischen Operatoren und können diese in Python einsetzen:\n",
    "    * logisches UND: `and`\n",
    "    * logisches ODER: `or`\n",
    "    * logisches NICHT: `not`\n",
    "* Sie verstehen die Priorität der logischen Operatoren und können komplexe\n",
    "  Bedingungen korrekt formulieren.\n",
    "```\n",
    "\n",
    "## Das logische UND\n",
    "\n",
    "Beim logischen UND müssen beide Bedingungen erfüllt sein, damit insgesamt die\n",
    "kombinierte Bedingung erfüllt ist. Vergleichbar ist dies mit einer\n",
    "Reihenschaltung in der Elektrotechnik: Nur wenn beide Schalter eingeschaltet\n",
    "sind, kann der Strom fließen.\n",
    "\n",
    "Hier finden Sie ein erläuterndes Video (ca. 3:14 min) zur UND-Schaltung:\n",
    "\n",
    "<https://www.youtube.com/watch?v=79WVEr2BVZI>\n",
    "\n",
    "Die Ergebnisse der UND-Verknüpfung lassen sich in einer Wahrheitstabelle\n",
    "darstellen:\n",
    "\n",
    "Bedingung 1 | Bedingung 2 | Ergebnis mit ```and```\n",
    "------------|-------------|--------------------------\n",
    "True | True | True\n",
    "False | True | False\n",
    "True | False | False\n",
    "False | False | False\n",
    "\n",
    "Beispiel aus der Industrie: Ein automatisches Werkzeug darf nur dann betätigt\n",
    "werden, wenn das Werkstück korrekt eingespannt ist UND der Sicherheitsbereich\n",
    "frei ist:"
   ]
  },
  {
   "cell_type": "code",
   "execution_count": 1,
   "id": "99288aa1",
   "metadata": {},
   "outputs": [
    {
     "name": "stdout",
     "output_type": "stream",
     "text": [
      "Werkzeug kann betätigt werden.\n"
     ]
    }
   ],
   "source": [
    "werkstueck_eingespannt = True\n",
    "sicherheitsbereich_frei = True\n",
    "\n",
    "if werkstueck_eingespannt and sicherheitsbereich_frei:\n",
    "    print('Werkzeug kann betätigt werden.')\n",
    "else:\n",
    "    print('Sicherheitsvoraussetzungen nicht erfüllt.')"
   ]
  },
  {
   "cell_type": "markdown",
   "id": "e4286ff2",
   "metadata": {},
   "source": [
    "Bei komplexeren Bedingungen kann die Verwendung von Klammern die Lesbarkeit\n",
    "verbessern, auch wenn dies syntaktisch nicht immer erforderlich ist:"
   ]
  },
  {
   "cell_type": "code",
   "execution_count": 2,
   "id": "c75be042",
   "metadata": {},
   "outputs": [
    {
     "name": "stdout",
     "output_type": "stream",
     "text": [
      "System arbeitet im normalen Betriebszustand.\n"
     ]
    }
   ],
   "source": [
    "temperatur = 75\n",
    "druck = 3.5\n",
    "\n",
    "if (temperatur < 80) and (druck < 4.0):\n",
    "    print('System arbeitet im normalen Betriebszustand.')\n",
    "else:\n",
    "    print('System außerhalb der normalen Parameter.')"
   ]
  },
  {
   "cell_type": "markdown",
   "id": "4b170e35",
   "metadata": {},
   "source": [
    "```{admonition} Mini-Übung\n",
    ":class: miniexercise\n",
    "Schreiben Sie ein Programm für die Steuerung einer Hydraulikpresse. Die Presse\n",
    "darf nur betätigt werden, wenn\n",
    "\n",
    "1. die Betriebstemperatur zwischen 60°C und 85°C liegt und\n",
    "2. der Druck zwischen 2.5 und 5.0 bar beträgt.\n",
    "\n",
    "Lassen Sie die Werte vom Benutzer eingeben und geben Sie eine entsprechende\n",
    "Meldung aus.\n",
    "```"
   ]
  },
  {
   "cell_type": "code",
   "execution_count": 3,
   "id": "e6d975e8",
   "metadata": {},
   "outputs": [],
   "source": [
    "# Hier Ihr Code"
   ]
  },
  {
   "cell_type": "markdown",
   "id": "4c43c44e",
   "metadata": {},
   "source": [
    "````{admonition} Lösung\n",
    ":class: miniexercise, toggle\n",
    "```python\n",
    "# Eingabe\n",
    "temperatur = float(input('Aktuelle Betriebstemperatur (°C): '))\n",
    "druck = float(input('Aktueller Druck (bar): '))\n",
    "\n",
    "# Verarbeitung und Ausgabe\n",
    "if (60 <= temperatur <= 85) and (2.5 <= druck <= 5.0):\n",
    "    print('Hydraulikpresse kann betätigt werden.')\n",
    "else:\n",
    "    print('Betriebsparameter außerhalb des sicheren Bereichs!')\n",
    "```\n",
    "````\n",
    "\n",
    "## Das logische ODER\n",
    "\n",
    "Beim logischen ODER muss nur eine der Bedingungen erfüllt sein, damit insgesamt\n",
    "die kombinierte Bedingung erfüllt ist. Die Bedingung ist auch erfüllt, wenn\n",
    "beide Teilbedingungen wahr sind. Vergleichbar ist dies mit einer\n",
    "Parallelschaltung in der Elektrotechnik: Es reicht, wenn einer der beiden\n",
    "Schalter eingeschaltet ist, damit der Strom fließen kann.\n",
    "\n",
    "Hier finden Sie ein erläuterndes Video (ca. 2:42 min) zur ODER-Schaltung:\n",
    "\n",
    "<https://www.youtube.com/watch?v=UNkXbvSN9w8>\n",
    "\n",
    "Die Wahrheitstabelle für das logische ODER:\n",
    "\n",
    "Bedingung 1 | Bedingung 2 | Ergebnis mit ```or```\n",
    "------------|-------------|--------------------------\n",
    "True | True | True\n",
    "False | True | True\n",
    "True | False | True\n",
    "False | False | False\n",
    "\n",
    "Beispiel aus der Produktion: Ein Notaus-System muss aktiviert werden, wenn\n",
    "entweder der Temperaturwert zu hoch ist ODER der Druckwert einen kritischen Wert\n",
    "überschreitet:"
   ]
  },
  {
   "cell_type": "code",
   "execution_count": 4,
   "id": "64377ff0",
   "metadata": {},
   "outputs": [
    {
     "name": "stdout",
     "output_type": "stream",
     "text": [
      "WARNUNG: Notabschaltung wird eingeleitet!\n"
     ]
    }
   ],
   "source": [
    "temperatur = 95  # in Grad Celsius\n",
    "druck = 4.8      # in bar\n",
    "\n",
    "if (temperatur > 90) or (druck > 5.0):\n",
    "    print('WARNUNG: Notabschaltung wird eingeleitet!')\n",
    "else:\n",
    "    print('System arbeitet im normalen Betriebsbereich.')"
   ]
  },
  {
   "cell_type": "markdown",
   "id": "1b96468c",
   "metadata": {},
   "source": [
    "Python verwendet eine sogenannte **Kurzschlussauswertung** für logische\n",
    "Operatoren. Dies bedeutet:\n",
    "\n",
    "* Bei einem `and`-Ausdruck: Wenn der erste Teil `False` ist, wird der zweite\n",
    "  Teil nicht mehr ausgewertet.\n",
    "* Bei einem `or`-Ausdruck: Wenn der erste Teil `True` ist, wird der zweite Teil\n",
    "  nicht mehr ausgewertet.\n",
    "\n",
    "Dies kann man sich zur Verbesserung der Performance zunutze machen, indem man\n",
    "bei `and`-Verknüpfungen die Bedingung mit der höheren Wahrscheinlichkeit für\n",
    "`False` zuerst platziert.\n",
    "\n",
    "```{admonition} Mini-Übung\n",
    ":class: miniexercise\n",
    "Schreiben Sie ein Programm für ein Alarmsystem einer CNC-Fräse. Das System soll\n",
    "einen Alarm auslösen, wenn:\n",
    "\n",
    "1. Die Drehzahl unter 500 U/min fällt oder über 2000 U/min steigt\n",
    "2. Die Kühlmitteltemperatur über 60°C steigt\n",
    "\n",
    "Lassen Sie die Werte vom Benutzer eingeben und geben Sie eine entsprechende\n",
    "Meldung aus.\n",
    "```"
   ]
  },
  {
   "cell_type": "code",
   "execution_count": 5,
   "id": "39450a91",
   "metadata": {},
   "outputs": [],
   "source": [
    "# Hier Ihr Code"
   ]
  },
  {
   "cell_type": "markdown",
   "id": "0a4dfeb0",
   "metadata": {},
   "source": [
    "````{admonition} Lösung\n",
    ":class: miniexercise, toggle\n",
    "```python\n",
    "# Eingabe\n",
    "drehzahl = float(input('Aktuelle Drehzahl (U/min): '))\n",
    "kuehlmitteltemperatur = float(input('Aktuelle Kühlmitteltemperatur (°C): '))\n",
    "\n",
    "# Verarbeitung und Ausgabe\n",
    "if (drehzahl < 500) or (drehzahl > 2000) or (kuehlmitteltemperatur > 60):\n",
    "    print('ALARM: Betriebsparameter außerhalb des sicheren Bereichs!')\n",
    "else:\n",
    "    print('System arbeitet im normalen Betriebsbereich.')\n",
    "```\n",
    "````\n",
    "\n",
    "## Das logische NICHT\n",
    "\n",
    "Das logische NICHT kehrt eine Aussage um. Wenn eine Bedingung wahr ist, wird sie\n",
    "falsch und umgekehrt. In Python verwenden wir den Operator `not` für diese\n",
    "Umkehrung.\n",
    "\n",
    "Die Wahrheitstabelle für das logische NICHT:\n",
    "\n",
    "Bedingung | Ergebnis mit ```not```\n",
    "----------|--------------------------\n",
    "True | False\n",
    "False | True\n",
    "\n",
    "Beispiel aus dem Maschinenbau: Eine Maschine darf nicht gestartet werden, wenn\n",
    "der Wartungsmodus aktiviert ist:"
   ]
  },
  {
   "cell_type": "code",
   "execution_count": 6,
   "id": "f41b9076",
   "metadata": {},
   "outputs": [
    {
     "name": "stdout",
     "output_type": "stream",
     "text": [
      "Maschine im Wartungsmodus: Start nicht möglich.\n"
     ]
    }
   ],
   "source": [
    "wartungsmodus_aktiv = True\n",
    "\n",
    "if not wartungsmodus_aktiv:\n",
    "    print('Maschine kann gestartet werden.')\n",
    "else:\n",
    "    print('Maschine im Wartungsmodus: Start nicht möglich.')"
   ]
  },
  {
   "cell_type": "markdown",
   "id": "bb747e45",
   "metadata": {},
   "source": [
    "Die Verwendung von `not` kann oft komplexe Bedingungen vereinfachen. Statt zu\n",
    "prüfen, ob ein Wert außerhalb eines Bereichs liegt, kann man prüfen, ob er nicht\n",
    "innerhalb des Bereichs liegt:"
   ]
  },
  {
   "cell_type": "code",
   "execution_count": 7,
   "id": "9572a834",
   "metadata": {},
   "outputs": [],
   "source": [
    "temperatur = 78\n",
    "\n",
    "# Diese beiden Bedingungen sind äquivalent\n",
    "if (temperatur < 60) or (temperatur > 85):\n",
    "    print('Temperatur außerhalb des Betriebsbereichs.')\n",
    "    \n",
    "if not (60 <= temperatur <= 85):\n",
    "    print('Temperatur außerhalb des Betriebsbereichs.')"
   ]
  },
  {
   "cell_type": "markdown",
   "id": "544a9da6",
   "metadata": {},
   "source": [
    "## Priorität der logischen Operatoren\n",
    "\n",
    "Bei mehreren logischen Operatoren in einem Ausdruck ist die Reihenfolge der\n",
    "Auswertung wichtig. In Python gilt folgende Priorität:\n",
    "\n",
    "1. Klammern `()`\n",
    "2. Nicht `not`\n",
    "3. Und `and`\n",
    "4. Oder `or`\n",
    "\n",
    "Zur Verdeutlichung einige Beispiele:"
   ]
  },
  {
   "cell_type": "code",
   "execution_count": 8,
   "id": "2058c0c7",
   "metadata": {},
   "outputs": [
    {
     "name": "stdout",
     "output_type": "stream",
     "text": [
      "not a and b = False\n",
      "a and b or c = True\n",
      "a and (b or c) = True\n"
     ]
    }
   ],
   "source": [
    "# Priorität der logischen Operatoren\n",
    "a = True\n",
    "b = False\n",
    "c = True\n",
    "\n",
    "# not hat Vorrang vor and\n",
    "ergebnis1 = not a and b  # entspricht (not a) and b\n",
    "print(f\"not a and b = {ergebnis1}\")\n",
    "\n",
    "# and hat Vorrang vor or\n",
    "ergebnis2 = a and b or c  # entspricht (a and b) or c\n",
    "print(f\"a and b or c = {ergebnis2}\")\n",
    "\n",
    "# Klammern ändern die Priorität\n",
    "ergebnis3 = a and (b or c)  # erst b or c, dann and\n",
    "print(f\"a and (b or c) = {ergebnis3}\")"
   ]
  },
  {
   "cell_type": "markdown",
   "id": "ddafcaa2",
   "metadata": {},
   "source": [
    "Um Missverständnisse zu vermeiden, ist es oft ratsam, Klammern zu setzen, auch\n",
    "wenn sie aufgrund der Prioritätsregeln nicht unbedingt nötig wären. Dies\n",
    "verbessert die Lesbarkeit des Codes.\n",
    "\n",
    "```{admonition} Mini-Übung\n",
    ":class: miniexercise\n",
    "Überlegen Sie zunächst, was das Ergebnis der folgenden logischen Verknüpfungen\n",
    "ist (wahr oder falsch):\n",
    "\n",
    "1. True and True\n",
    "2. True or False\n",
    "3. not True\n",
    "4. False or True\n",
    "5. True or (not False)\n",
    "6. (not True) and False\n",
    "7. not (True or False)\n",
    "8. (not False) or (False and False)\n",
    "\n",
    "Prüfen Sie Ihre Antworten anschließend im Python-Interpreter.\n",
    "```"
   ]
  },
  {
   "cell_type": "code",
   "execution_count": 9,
   "id": "276586b3",
   "metadata": {},
   "outputs": [],
   "source": [
    "# Hier Ihr Code"
   ]
  },
  {
   "cell_type": "markdown",
   "id": "cb11cbe7",
   "metadata": {},
   "source": [
    "````{admonition} Lösung\n",
    ":class: miniexercise, toggle\n",
    "```python\n",
    "# 1. True and True\n",
    "print(\"True and True =\", True and True)  # True\n",
    "\n",
    "# 2. True or False\n",
    "print(\"True or False =\", True or False)  # True\n",
    "\n",
    "# 3. not True\n",
    "print(\"not True =\", not True)  # False\n",
    "\n",
    "# 4. False or True\n",
    "print(\"False or True =\", False or True)  # True\n",
    "\n",
    "# 5. True or (not False)\n",
    "print(\"True or (not False) =\", True or (not False))  # True\n",
    "\n",
    "# 6. (not True) and False\n",
    "print(\"(not True) and False =\", (not True) and False)  # False\n",
    "\n",
    "# 7. not (True or False)\n",
    "print(\"not (True or False) =\", not (True or False))  # False\n",
    "\n",
    "# 8. (not False) or (False and False)\n",
    "print(\"(not False) or (False and False) =\", (not False) or (False and False))  # True\n",
    "```\n",
    "````\n",
    "\n",
    "```{dropdown} Video zu \"Logische Operatoren\" von Programmieren Starten\n",
    "<iframe width=\"560\" height=\"315\" src=\"https://www.youtube.com/embed/075l6R42tkQ\"\n",
    "title=\"YouTube video player\" frameborder=\"0\" allow=\"accelerometer; autoplay; clipboard-write;\n",
    "encrypted-media; gyroscope; picture-in-picture\" allowfullscreen></iframe>\n",
    "```\n",
    "\n",
    "## Zusammenfassung und Ausblick\n",
    "\n",
    "Die booleschen Operatoren `and`, `or` und `not` sind fundamentale Werkzeuge für\n",
    "die Programmierung von Bedingungen in Python. Sie ermöglichen die Formulierung\n",
    "komplexer Entscheidungslogik und sind besonders für Steuerungs- und\n",
    "Regelungsanwendungen von großer Bedeutung. Im nächsten Kapitel beschäftigen wir\n",
    "uns mit Schleifen."
   ]
  }
 ],
 "metadata": {
  "jupytext": {
   "formats": "ipynb,md:myst",
   "text_representation": {
    "extension": ".md",
    "format_name": "myst",
    "format_version": 0.13,
    "jupytext_version": "1.13.8"
   }
  },
  "kernelspec": {
   "display_name": "Python 3 (ipykernel)",
   "language": "python",
   "name": "python3"
  },
  "language_info": {
   "codemirror_mode": {
    "name": "ipython",
    "version": 3
   },
   "file_extension": ".py",
   "mimetype": "text/x-python",
   "name": "python",
   "nbconvert_exporter": "python",
   "pygments_lexer": "ipython3",
   "version": "3.12.2"
  },
  "source_map": [
   13,
   73,
   81,
   86,
   94,
   108,
   110,
   152,
   160,
   186,
   188,
   221,
   228,
   234,
   243,
   257,
   274,
   297,
   299
  ]
 },
 "nbformat": 4,
 "nbformat_minor": 5
}