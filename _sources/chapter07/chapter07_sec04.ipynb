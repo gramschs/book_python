{
 "cells": [
  {
   "cell_type": "markdown",
   "id": "b123d7f6",
   "metadata": {},
   "source": [
    "# Übungen\n",
    "\n",
    "```{admonition} Warnung\n",
    ":class: warning\n",
    "Achtung, dieser Abschnitt des Vorlesungsskriptes wird gerade überarbeitet!!!\n",
    "```\n",
    "\n",
    "TODO\n",
    "\n",
    "\n",
    "```{admonition} Übung 7.1 ???\n",
    "1. Schreiben Sie eine *Funktion*, mit der das kleine Einmaleins geübt werden\n",
    "   kann. Die Funktion soll als Eingabe die Anzahl der gewünschten Aufgaben haben\n",
    "   und als Ausgabe die Anzahl der richtigen Antworten. Innerhalb der Funktion\n",
    "   sollen dem Benutzer zufällige Einmaleins-Aufgaben gestellt werden. Es soll\n",
    "   gleich eine Rückmeldung gegeben werden, ob das Ergebnis richtig oder falsch\n",
    "   ist und ggf. was das richtige Ergebnis gewesen wäre.\n",
    "2. Schreiben Sie anschließend ein *Programm*, das den Benutzer fragt, wie viele\n",
    "   1x1-Aufgaben trainiert werden sollen. Anschließend wird die Funktion aus\n",
    "   Schritt 1 aufgerufen. Am Ende soll der Benutzer darüber informiert werden,\n",
    "   wie viel Prozent der Aufgaben richtig gelöst wurden.\n",
    "```\n",
    "\n",
    "Zahl erraten: Implementieren Sie ein einfaches Zahlenratespiel. Das Programm sollte eine Zufallszahl zwischen 1 und 100 auswählen und den Benutzer so lange nach einer Zahl fragen, bis er die ausgewählte Zahl erraten hat. Verwenden Sie dazu eine while-Schleife und die Funktion input() um die Eingaben des Benutzers zu erhalten.\n",
    "\n",
    "import random\n",
    "gesuchte_zahl = random.randint(1, 100)\n",
    "geratene_zahl = None\n",
    "\n",
    "while geratene_zahl != gesuchte_zahl:\n",
    "    geratene_zahl = int(input(\"Geben Sie eine Zahl zwischen 1 und 100 ein: \"))\n",
    "    if geratene_zahl < gesuchte_zahl:\n",
    "        print(\"Zu niedrig!\")\n",
    "    elif geratene_zahl > gesuchte_zahl:\n",
    "        print(\"Zu hoch!\")\n",
    "print(\"Herzlichen Glückwunsch! Sie haben die Zahl erraten.\")\n",
    "\n",
    "\n",
    "Beispiel 3: Begrenzung der Anzahl von Versuchen\n",
    "\n",
    "In diesem Beispiel begrenzen wir die Anzahl der Versuche, die ein Benutzer hat, um ein Passwort korrekt einzugeben. Wenn das Passwort nach 3 Versuchen nicht korrekt eingegeben wurde, bricht die Schleife ab.\n",
    "\n",
    "versuche = 0\n",
    "passwort = \"python\"\n",
    "\n",
    "while versuche < 3:\n",
    "    eingabe = input(\"Bitte geben Sie das Passwort ein: \")\n",
    "    if eingabe == passwort:\n",
    "        print(\"Zugriff gewährt.\")\n",
    "        break\n",
    "    versuche += 1\n",
    "else:\n",
    "    print(\"Zu viele falsche Versuche. Zugriff verweigert.\")"
   ]
  }
 ],
 "metadata": {
  "jupytext": {
   "formats": "ipynb,md:myst",
   "text_representation": {
    "extension": ".md",
    "format_name": "myst",
    "format_version": 0.13,
    "jupytext_version": "1.13.8"
   }
  },
  "kernelspec": {
   "display_name": "Python 3 (ipykernel)",
   "language": "python",
   "name": "python3"
  },
  "language_info": {
   "codemirror_mode": {
    "name": "ipython",
    "version": 3
   },
   "file_extension": ".py",
   "mimetype": "text/x-python",
   "name": "python",
   "nbconvert_exporter": "python",
   "pygments_lexer": "ipython3",
   "version": "3.10.8"
  },
  "source_map": [
   13
  ]
 },
 "nbformat": 4,
 "nbformat_minor": 5
}