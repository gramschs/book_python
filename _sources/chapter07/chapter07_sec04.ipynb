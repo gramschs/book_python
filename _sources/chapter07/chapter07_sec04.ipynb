{
 "cells": [
  {
   "cell_type": "markdown",
   "id": "0b4625e5",
   "metadata": {},
   "source": [
    "# Übungen\n",
    "\n",
    "```{admonition} Warnung\n",
    ":class: warning\n",
    "Achtung, dieser Abschnitt des Vorlesungsskriptes wird gerade überarbeitet!!!\n",
    "```\n",
    "\n",
    "TODO\n",
    "\n",
    "\n",
    "```{admonition} Übung 7.1 ???\n",
    "1. Schreiben Sie eine *Funktion*, mit der das kleine Einmaleins geübt werden\n",
    "   kann. Die Funktion soll als Eingabe die Anzahl der gewünschten Aufgaben haben\n",
    "   und als Ausgabe die Anzahl der richtigen Antworten. Innerhalb der Funktion\n",
    "   sollen dem Benutzer zufällige Einmaleins-Aufgaben gestellt werden. Es soll\n",
    "   gleich eine Rückmeldung gegeben werden, ob das Ergebnis richtig oder falsch\n",
    "   ist und ggf. was das richtige Ergebnis gewesen wäre.\n",
    "2. Schreiben Sie anschließend ein *Programm*, das den Benutzer fragt, wie viele\n",
    "   1x1-Aufgaben trainiert werden sollen. Anschließend wird die Funktion aus\n",
    "   Schritt 1 aufgerufen. Am Ende soll der Benutzer darüber informiert werden,\n",
    "   wie viel Prozent der Aufgaben richtig gelöst wurden.\n",
    "```"
   ]
  }
 ],
 "metadata": {
  "jupytext": {
   "formats": "ipynb,md:myst",
   "text_representation": {
    "extension": ".md",
    "format_name": "myst",
    "format_version": 0.13,
    "jupytext_version": "1.13.8"
   }
  },
  "kernelspec": {
   "display_name": "Python 3 (ipykernel)",
   "language": "python",
   "name": "python3"
  },
  "language_info": {
   "codemirror_mode": {
    "name": "ipython",
    "version": 3
   },
   "file_extension": ".py",
   "mimetype": "text/x-python",
   "name": "python",
   "nbconvert_exporter": "python",
   "pygments_lexer": "ipython3",
   "version": "3.10.8"
  },
  "source_map": [
   13
  ]
 },
 "nbformat": 4,
 "nbformat_minor": 5
}