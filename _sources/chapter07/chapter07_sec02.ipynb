{
 "cells": [
  {
   "cell_type": "markdown",
   "id": "c917a5c0",
   "metadata": {},
   "source": [
    "# 7.2 Schleifen mit Bedingung (while)\n",
    "\n",
    "Ein typisches Beispiel aus dem Alltag, bei dem wir etwas wiederholen, solange\n",
    "eine Bedingung erfüllt ist, ist das Kochen von Wasser. Moderne Wasserkocher\n",
    "haben einen eingebauten Temperatursensor, der die Temperatur des Wassers misst.\n",
    "Solange die Wassertemperatur kleiner als 100 ˚C ist, wird das Wasser\n",
    "erhitzt. Sobald die 100 ˚C erreicht sind, wird der Wasserkocher\n",
    "abgeschaltet. Solche Wiederholungen wollen wir nun mit Python umsetzen.\n",
    "\n",
    "## Lernziele\n",
    "\n",
    "```{admonition} Lernziele\n",
    ":class: hint\n",
    "* Sie können eine Schleife mit Bedingung als **while**-Schleife in Python\n",
    "  implementieren.\n",
    "* Sie können mit **break** eine Schleife vorzeitig abbrechen.\n",
    "* Sie können mit **continue** eine Schleife vorzeitig fortsetzen.\n",
    "```\n",
    "\n",
    "## Syntax der while-Schleife\n",
    "\n",
    "Bei einer Wiederholung mit Bedingung werden eine oder mehrere Anweisungen\n",
    "solange wiederholt, wie die Bedingung erfüllt ist. Die sogenannte while-Schleife\n",
    "hat folgende Struktur:\n",
    "\n",
    "```python\n",
    " while Bedingung: \n",
    "        anweisungsblock\n",
    "```\n",
    "\n",
    "Die bedingte Wiederholung wird mit dem Schlüsselwort `while` eingeleitet. Dann\n",
    "folgt die Bedingung, die mit einem `:` abgeschlossen wird. Alle Anweisungen, die\n",
    "wiederholt werden sollen, werden eingerückt. Diesen Teil nennt man das\n",
    "Schleifeninnere, die Zeile `while Bedingung:` nennt man den Schleifenkopf. \n",
    "\n",
    "```{warning}\n",
    "While-Schleifen sind ein mächtiges Werkzeug in Python, aber es ist wichtig, sie\n",
    "sorgfältig zu verwenden. Eine schlecht definierte Bedingung könnte dazu führen,\n",
    "dass die Schleife **unendlich** läuft, was zu Problemen führen kann.\n",
    "```\n",
    "\n",
    "Um auf das Beispiel mit dem Wasserkocher zurückzukommen ... auch wenn wir jetzt\n",
    "keinen echten Temperatursensor haben, würde eine while-Schleife"
   ]
  },
  {
   "cell_type": "code",
   "execution_count": 1,
   "id": "2de11424",
   "metadata": {},
   "outputs": [
    {
     "name": "stdout",
     "output_type": "stream",
     "text": [
      "aktuelle Wassertemperatur: 20 ˚C\n",
      "aktuelle Wassertemperatur: 30 ˚C\n",
      "aktuelle Wassertemperatur: 40 ˚C\n",
      "aktuelle Wassertemperatur: 50 ˚C\n",
      "aktuelle Wassertemperatur: 60 ˚C\n",
      "aktuelle Wassertemperatur: 70 ˚C\n",
      "aktuelle Wassertemperatur: 80 ˚C\n",
      "aktuelle Wassertemperatur: 90 ˚C\n",
      "aktuelle Wassertemperatur: 100 ˚C\n",
      "Befehl an Wasserkocher: schalte das Heizelement aus!\n",
      "Das Wasser ist fertig gekocht!\n"
     ]
    }
   ],
   "source": [
    "temperatur = 20\n",
    "while temperatur <= 100:\n",
    "  print(f'aktuelle Wassertemperatur: {temperatur} ˚C')\n",
    "  temperatur += 10 \n",
    "print('Befehl an Wasserkocher: schalte das Heizelement aus!')\n",
    "print('Das Wasser ist fertig gekocht!')"
   ]
  },
  {
   "cell_type": "markdown",
   "id": "4eb8652f",
   "metadata": {},
   "source": [
    "```{admonition} Mini-Übung\n",
    ":class: miniexercise\n",
    "Schreiben Sie ein Programm, das einen Countdown von 10 nach 0 implementiert.\n",
    "```"
   ]
  },
  {
   "cell_type": "code",
   "execution_count": 2,
   "id": "592f1de3",
   "metadata": {},
   "outputs": [],
   "source": [
    "# Hier Ihr Code"
   ]
  },
  {
   "cell_type": "markdown",
   "id": "a5c7298b",
   "metadata": {},
   "source": [
    "````{admonition} Lösung\n",
    ":class: minisolution, toggle\n",
    "```python\n",
    "zaehler = 10\n",
    "while zaehler >= 0:\n",
    "    print(zaehler)\n",
    "    zaehler = zaehler - 1\n",
    "```\n",
    "````\n",
    "\n",
    "\n",
    "## Schleifen abbrechen mit break\n",
    "\n",
    "Die `break`-Anweisung kann verwendet werden, um die Schleife vorzeitig zu\n",
    "beenden, auch wenn die Bedingung der `while`-Schleife noch `True` ist. Hier ist\n",
    "ein Beispiel:"
   ]
  },
  {
   "cell_type": "code",
   "execution_count": 3,
   "id": "e5ebffb7",
   "metadata": {},
   "outputs": [
    {
     "name": "stdout",
     "output_type": "stream",
     "text": [
      "Der Zaehler hat aktuell den Wert: 0.\n",
      "Der Zaehler hat aktuell den Wert: 1.\n",
      "Der Zaehler hat aktuell den Wert: 2.\n"
     ]
    }
   ],
   "source": [
    "zaehler = 0\n",
    "while zaehler < 5:\n",
    "    if zaehler == 3:\n",
    "        break\n",
    "    print(f'Der Zaehler hat aktuell den Wert: {zaehler}.')\n",
    "    zaehler = zaehler + 1"
   ]
  },
  {
   "cell_type": "markdown",
   "id": "14f39420",
   "metadata": {},
   "source": [
    "```{admonition} Mini-Übung\n",
    ":class: miniexercise\n",
    "Schreiben Sie ein Programm, das vom Benutzer natürliche Zahlen abfragt und diese\n",
    "quadriert und ausgibt. Wird eine 0 eingegeben, soll die Eingabe der Zahlen\n",
    "abgebrochen werden und die Meldung \"Sie haben 0 eingegeben, das Programm wird\n",
    "beendet.\" ausgegeben werden.\n",
    "```"
   ]
  },
  {
   "cell_type": "code",
   "execution_count": 4,
   "id": "26945311",
   "metadata": {},
   "outputs": [],
   "source": [
    "# Hier Ihr Code"
   ]
  },
  {
   "cell_type": "markdown",
   "id": "436a94c6",
   "metadata": {},
   "source": [
    "````{admonition} Lösung\n",
    ":class: minisolution, toggle\n",
    "```python\n",
    "while True:\n",
    "    zahl = int(input('Geben Sie eine natürliche Zahl ein (0 zum Beenden): '))\n",
    "    if zahl == 0:\n",
    "        print('Sie haben 0 eingegeben, das Programm wird beendet.')\n",
    "        break\n",
    "    quadratzahl = zahl**2\n",
    "    print(f'Das Quadrat von {zahl} ist {quadratzahl}.')\n",
    "```\n",
    "````\n",
    "\n",
    "\n",
    "## Schleifen vorzeitig fortsetzen mit continue\n",
    "\n",
    "Die `continue`-Anweisung wird verwendet, um den aktuellen Durchgang der Schleife\n",
    "zu beenden und sofort mit dem nächsten Schleifendurchgang zu beginnen. Hier ist\n",
    "ein Beispiel:"
   ]
  },
  {
   "cell_type": "code",
   "execution_count": 5,
   "id": "02c4280d",
   "metadata": {},
   "outputs": [
    {
     "name": "stdout",
     "output_type": "stream",
     "text": [
      "Der Zaehler hat aktuell den Wert: 1.\n",
      "Der Zaehler hat aktuell den Wert: 2.\n",
      "Der Zaehler hat aktuell den Wert: 4.\n",
      "Der Zaehler hat aktuell den Wert: 5.\n"
     ]
    }
   ],
   "source": [
    "zaehler = 0\n",
    "while zaehler < 5:\n",
    "    zaehler = zaehler + 1\n",
    "    if zaehler == 3:\n",
    "        continue\n",
    "    print(f'Der Zaehler hat aktuell den Wert: {zaehler}.')"
   ]
  },
  {
   "cell_type": "markdown",
   "id": "765d4d87",
   "metadata": {},
   "source": [
    "In diesem Beispiel wird \"Der Zaehler hat aktuell den Wert: 3\" nicht ausgegeben,\n",
    "da die `continue`-Anweisung dafür sorgt, dass vorzeitig der nächste\n",
    "Schleifendurchgang begonnen wird, sobald `zaehler` den Wert `3` erreicht.\n",
    "\n",
    "```{admonition} Mini-Übung\n",
    ":class: miniexercise\n",
    "Schreiben Sie ein Programm, dass eine Zahl abfragt und deren Wurzel berechnet\n",
    "und ausgibt. Wird eine negative Zahl eingegeben, so soll die Wurzelberechnung\n",
    "übersprungen werden. Insgesamt soll das Programm solange laufen, bis drei\n",
    "Wurzeln berechnet wurden.\n",
    "```"
   ]
  },
  {
   "cell_type": "code",
   "execution_count": 6,
   "id": "5ac25c52",
   "metadata": {},
   "outputs": [],
   "source": [
    "# Hier Ihr Code"
   ]
  },
  {
   "cell_type": "markdown",
   "id": "a74369b3",
   "metadata": {},
   "source": [
    "````{admonition} Lösung\n",
    ":class: minisolution, toggle\n",
    "```python\n",
    "zaehler = 0\n",
    "while zaehler < 3:\n",
    "    zahl = int(input('Geben Sie eine positive Zahl ein: '))\n",
    "    if zahl < 0:\n",
    "        print('Sie haben eine negative Zahl eingegeben, davon kann keine Wurzel berechnet werden.')\n",
    "        continue\n",
    "    wurzel = zahl**0.5\n",
    "    print(f'Die Wurzel von {zahl} ist {wurzel}.')\n",
    "    zaehler += 1\n",
    "```\n",
    "````\n",
    "\n",
    "## Video\n",
    "\n",
    "<iframe width=\"560\" height=\"315\" src=\"https://www.youtube.com/embed/sXLicTuJzB4\" title=\"YouTube video player\" frameborder=\"0\" allow=\"accelerometer; autoplay; clipboard-write; encrypted-media; gyroscope; picture-in-picture\" allowfullscreen></iframe>"
   ]
  }
 ],
 "metadata": {
  "jupytext": {
   "formats": "ipynb,md:myst",
   "text_representation": {
    "extension": ".md",
    "format_name": "myst",
    "format_version": 0.13,
    "jupytext_version": "1.13.8"
   }
  },
  "kernelspec": {
   "display_name": "Python 3 (ipykernel)",
   "language": "python",
   "name": "python3"
  },
  "language_info": {
   "codemirror_mode": {
    "name": "ipython",
    "version": 3
   },
   "file_extension": ".py",
   "mimetype": "text/x-python",
   "name": "python",
   "nbconvert_exporter": "python",
   "pygments_lexer": "ipython3",
   "version": "3.10.8"
  },
  "source_map": [
   13,
   59,
   66,
   72,
   74,
   92,
   99,
   108,
   110,
   131,
   138,
   151,
   153
  ]
 },
 "nbformat": 4,
 "nbformat_minor": 5
}