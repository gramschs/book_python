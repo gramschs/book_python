{
 "cells": [
  {
   "cell_type": "code",
   "execution_count": 1,
   "metadata": {},
   "outputs": [
    {
     "name": "stdout",
     "output_type": "stream",
     "text": [
      "10\n",
      "9\n",
      "8\n",
      "7\n",
      "6\n",
      "5\n",
      "4\n",
      "3\n",
      "2\n",
      "1\n"
     ]
    }
   ],
   "source": [
    "zaehler = 10\n",
    "while zaehler > 0:\n",
    "    print(zaehler)\n",
    "    zaehler = zaehler - 1"
   ]
  },
  {
   "cell_type": "code",
   "execution_count": 3,
   "metadata": {},
   "outputs": [
    {
     "name": "stdout",
     "output_type": "stream",
     "text": [
      "Das Quadrat von 8 ist 64.\n",
      "Das Quadrat von 2 ist 4.\n",
      "Das Quadrat von 3 ist 9.\n",
      "Das Quadrat von 4 ist 16.\n",
      "Das Quadrat von 5 ist 25.\n",
      "Sie haben 0 eingegeben, das Programm wird beendet.\n"
     ]
    }
   ],
   "source": [
    "while True:\n",
    "    zahl = int(input('Geben Sie eine natürliche Zahl ein (0 zum Beenden): '))\n",
    "    if zahl == 0:\n",
    "        print('Sie haben 0 eingegeben, das Programm wird beendet.')\n",
    "        break\n",
    "    quadratzahl = zahl**2\n",
    "    print(f'Das Quadrat von {zahl} ist {quadratzahl}.')\n"
   ]
  },
  {
   "cell_type": "code",
   "execution_count": 3,
   "metadata": {},
   "outputs": [
    {
     "name": "stdout",
     "output_type": "stream",
     "text": [
      "Die Wurzel von 2 ist 1.4142135623730951.\n",
      "Sie haben eine negative Zahl eingegeben, davon kann keine Wurzel berechnet werden.\n",
      "Sie haben eine negative Zahl eingegeben, davon kann keine Wurzel berechnet werden.\n",
      "Sie haben eine negative Zahl eingegeben, davon kann keine Wurzel berechnet werden.\n",
      "Sie haben eine negative Zahl eingegeben, davon kann keine Wurzel berechnet werden.\n",
      "Sie haben eine negative Zahl eingegeben, davon kann keine Wurzel berechnet werden.\n",
      "Die Wurzel von 4 ist 2.0.\n",
      "Die Wurzel von 5 ist 2.23606797749979.\n"
     ]
    }
   ],
   "source": [
    "zaehler = 0\n",
    "while zaehler < 3:\n",
    "    zahl = int(input('Geben Sie eine positive Zahl ein: '))\n",
    "    if zahl < 0:\n",
    "        print('Sie haben eine negative Zahl eingegeben, davon kann keine Wurzel berechnet werden.')\n",
    "        continue\n",
    "    wurzel = zahl**0.5\n",
    "    print(f'Die Wurzel von {zahl} ist {wurzel}.')\n",
    "    zaehler += 1"
   ]
  }
 ],
 "metadata": {
  "kernelspec": {
   "display_name": "turtle",
   "language": "python",
   "name": "python3"
  },
  "language_info": {
   "codemirror_mode": {
    "name": "ipython",
    "version": 3
   },
   "file_extension": ".py",
   "mimetype": "text/x-python",
   "name": "python",
   "nbconvert_exporter": "python",
   "pygments_lexer": "ipython3",
   "version": "3.10.8"
  },
  "orig_nbformat": 4
 },
 "nbformat": 4,
 "nbformat_minor": 2
}
