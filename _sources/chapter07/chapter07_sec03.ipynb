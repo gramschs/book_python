{
 "cells": [
  {
   "cell_type": "markdown",
   "id": "ebf253e3",
   "metadata": {},
   "source": [
    "# 7.3 Zufallszahlen\n",
    "\n",
    "In diesem Kapitel werden wir uns mit der Erzeugung und Anwendung von\n",
    "Zufallszahlen in Python beschäftigen. Wir nutzen dazu das Modul `numpy.random`\n",
    "aus der Bibliothek NumPy.\n",
    "\n",
    "## Lernziele\n",
    "\n",
    "```{admonition} Lernziele\n",
    ":class: important\n",
    "* Sie kennen den Unterscheid zwischen **gleichverteilten** und\n",
    "  **normalverteilten** Zufallszahlen.\n",
    "* Sie können gleichverteilte Integer und Floats erzeugen lassen.\n",
    "* Sie können normalverteilte Floats zu einem vorgegebenen Mittelwert und einer\n",
    "  vorgegebenen Standabweichung erzeugen lassen.\n",
    "```\n",
    "\n",
    "## Gleichverteilte Zufallszahlen\n",
    "\n",
    "Eine gleichverteilte Zufallszahl ist eine Zufallszahl, bei der jedes mögliche\n",
    "Ergebnis die gleiche Wahrscheinlichkeit hat. Das ist ähnlich wie beim Würfeln:\n",
    "Jede der sechs Zahlen hat die gleiche Wahrscheinlichkeit aufzutauchen.\n",
    "\n",
    "In Python können wir mit der Funktion `.uniform()` aus dem Modul `numpy.random`\n",
    "gleichverteilte Zufallszahlen erzeugen. Hier ist ein Beispiel:"
   ]
  },
  {
   "cell_type": "code",
   "execution_count": 1,
   "id": "dd0cacf1",
   "metadata": {},
   "outputs": [
    {
     "name": "stdout",
     "output_type": "stream",
     "text": [
      "0.07434701261120369\n"
     ]
    }
   ],
   "source": [
    "import numpy as np\n",
    "\n",
    "zufallszahl = np.random.uniform()\n",
    "print(zufallszahl)"
   ]
  },
  {
   "cell_type": "markdown",
   "id": "f22d0e52",
   "metadata": {},
   "source": [
    "Wir können auch mehrere Zahlen gleichzeitig erzeugen und dabei den Bereich der\n",
    "Zahlen bestimmen:"
   ]
  },
  {
   "cell_type": "code",
   "execution_count": 2,
   "id": "074931e0",
   "metadata": {},
   "outputs": [
    {
     "name": "stdout",
     "output_type": "stream",
     "text": [
      "[11.71716603 19.07000475 13.77993648 17.56148649 16.81468685]\n"
     ]
    }
   ],
   "source": [
    "zufallszahlen = np.random.uniform(10, 20, 5)\n",
    "print(zufallszahlen)"
   ]
  },
  {
   "cell_type": "markdown",
   "id": "2abbd3b8",
   "metadata": {},
   "source": [
    "Damit werden fünf gleichverteilte Zufallszahlen zwischen 10 und 20 generiert.\n",
    "\n",
    "Neben den Funktionen für kontinuierliche Zufallszahlen stellt `numpy.random`\n",
    "auch eine Funktion bereit, um zufällige Integer zu erzeugen. Die Funktion\n",
    "`randint()` erzeugt zufällige ganze Zahlen innerhalb eines angegebenen Intervalls.\n",
    "\n",
    "Dabei benötigt die Funktion `randint()` zwei Parameter: den Start des Intervalls\n",
    " und das Ende des Intervalls. Dabei gehört der Start des Intervalls dazu, aber\n",
    "das Ende des Intervalls nicht. Optional kann ein dritter Parameter hinzugefügt\n",
    "werden, um anzugeben, wie viele Zahlen erzeugt werden sollen.\n",
    "\n",
    "Hier ist ein Beispiel:"
   ]
  },
  {
   "cell_type": "code",
   "execution_count": 3,
   "id": "0ea78a88",
   "metadata": {},
   "outputs": [
    {
     "name": "stdout",
     "output_type": "stream",
     "text": [
      "96\n"
     ]
    }
   ],
   "source": [
    "zufallszahl = np.random.randint(37, 99)\n",
    "print(zufallszahl)"
   ]
  },
  {
   "cell_type": "markdown",
   "id": "a8b91e34",
   "metadata": {},
   "source": [
    "Der Code generiert eine zufällige ganze Zahl (Integer) zwischen 37 und 98. Die\n",
    "99 kann jedoch nicht zufällig gezogen werden, da das Ende des Intervalls nicht\n",
    "inkludiert ist.\n",
    "\n",
    "Und hier ist ein Beispiel für die Erzeugung mehrerer Zahlen:"
   ]
  },
  {
   "cell_type": "code",
   "execution_count": 4,
   "id": "7a8c9ae7",
   "metadata": {},
   "outputs": [
    {
     "name": "stdout",
     "output_type": "stream",
     "text": [
      "[7 1 4 7 9]\n"
     ]
    }
   ],
   "source": [
    "zufallszahlen = np.random.randint(0, 10, 5)\n",
    "print(zufallszahlen)"
   ]
  },
  {
   "cell_type": "markdown",
   "id": "1835d2da",
   "metadata": {},
   "source": [
    "Der Code generiert fünf ganzzahlige Zufallszahlen zwischen 0 und 9 und speichert\n",
    "sie in der Liste `zufallszahlen`.\n",
    "\n",
    "Es ist wichtig zu beachten, dass der obere Grenzwert bei `randint()` exklusiv\n",
    "ist, d.h. er wird selbst nicht als möglicher Ausgang berücksichtigt. Wenn also\n",
    "z.B. Zahlen von 1 bis 10 benötigt werden, sollte der obere Grenzwert als 11\n",
    "angegeben werden:"
   ]
  },
  {
   "cell_type": "code",
   "execution_count": 5,
   "id": "1c2db691",
   "metadata": {},
   "outputs": [
    {
     "name": "stdout",
     "output_type": "stream",
     "text": [
      "2\n"
     ]
    }
   ],
   "source": [
    "zufallszahl = np.random.randint(1, 11)\n",
    "print(zufallszahl)"
   ]
  },
  {
   "cell_type": "markdown",
   "id": "160b42f7",
   "metadata": {},
   "source": [
    "```{admonition} Mini-Übung\n",
    ":class: miniexercise\n",
    "Lassen Sie sechs Lottozahlen erzeugen, d.h. sechs Integer, die zwischen 1 und 49\n",
    "gleichmäßig verteilt sind. Die Lottozahlen sollen auch ausgegeben werden.\n",
    "\n",
    "Könnte damit die Ziehung der Lottozahlen simuliert werden?\n",
    "```"
   ]
  },
  {
   "cell_type": "code",
   "execution_count": 6,
   "id": "cf8dd851",
   "metadata": {},
   "outputs": [],
   "source": [
    "# Hier Ihr Code"
   ]
  },
  {
   "cell_type": "markdown",
   "id": "1be5917b",
   "metadata": {},
   "source": [
    "````{admonition} Lösung\n",
    ":class: miniexercise, toggle\n",
    "```python\n",
    "import numpy as np\n",
    "\n",
    "# Erzeugung der Lottozahlen\n",
    "lottozahlen = np.random.randint(1, 50, 6)\n",
    "\n",
    "# Ausgabe\n",
    "print(lottozahlen)\n",
    "```\n",
    "````\n",
    "\n",
    "## Normalverteilte Zufallszahlen\n",
    "\n",
    "Eine normalverteilte Zufallszahl folgt der sogenannten Normalverteilung oder\n",
    "Gaußschen Verteilung. Das ist eine Wahrscheinlichkeitsverteilung, die durch ihr\n",
    "Glockenkurven-Diagramm bekannt ist.\n",
    "\n",
    "Die Normalverteilung ist durch zwei Parameter definiert: Den Mittelwert (oder\n",
    "Erwartungswert) und die Standardabweichung. Der Mittelwert ist der Wert, um den\n",
    "die Werte im Durchschnitt zentriert sind. Die Standardabweichung ist ein Maß für\n",
    "die Streuung der Werte.\n",
    "\n",
    "In Python können wir mit der Funktion `numpy.random.normal()` normalverteilte\n",
    "Zufallszahlen erzeugen:"
   ]
  },
  {
   "cell_type": "code",
   "execution_count": 7,
   "id": "12e11af6",
   "metadata": {},
   "outputs": [
    {
     "name": "stdout",
     "output_type": "stream",
     "text": [
      "-0.0751583755051558\n"
     ]
    }
   ],
   "source": [
    "zufallszahl = np.random.normal(0, 1)\n",
    "print(zufallszahl)"
   ]
  },
  {
   "cell_type": "markdown",
   "id": "f54b61da",
   "metadata": {},
   "source": [
    "Das erste Argument `0` steht für einen Mittelwert von 0. Das zweite Argument `1`\n",
    "bedeutet, dass die Normalverteiung eine Standardabweichung von 1 hat.\n",
    "\n",
    "Wir können auch mehrere Zahlen gleichzeitig erzeugen:"
   ]
  },
  {
   "cell_type": "code",
   "execution_count": 8,
   "id": "b1af79f9",
   "metadata": {},
   "outputs": [
    {
     "name": "stdout",
     "output_type": "stream",
     "text": [
      "[-0.46549901 -0.94523351 -1.27541742 -0.9930857   0.82175394]\n"
     ]
    }
   ],
   "source": [
    "zufallszahlen = np.random.normal(0, 1, 5)\n",
    "print(zufallszahlen)"
   ]
  },
  {
   "cell_type": "markdown",
   "id": "9c0eba6f",
   "metadata": {},
   "source": [
    "Jetzt wurden fünf normalverteilte Zufallszahlen erzeugt.\n",
    "\n",
    "```{admonition} Mini-Übung\n",
    ":class: miniexercise\n",
    "Bei einer Schulklasse wird die Körpergröße der Jugendlichen (Alter: 14 bis 18\n",
    "Jahre) gemessen. Der Mittelwert bei den Mädchen ist 166.3 cm (Standardabweichung\n",
    "6.39 cm) und bei den Jungen 176.8 cm (Standardabweichung 7.46 cm) (Quelle:\n",
    "[Wikipedia ](https://de.wikipedia.org/wiki/Normalverteilung)).\n",
    "\n",
    "Lassen Sie die Körpergrößen einer durchschnittlichen Schulklasse (= 13 Mädchen und 13 Jungen)erzeugen und ausgeben.\n",
    "```"
   ]
  },
  {
   "cell_type": "code",
   "execution_count": 9,
   "id": "215200f5",
   "metadata": {},
   "outputs": [],
   "source": [
    "# Hier Ihr Code"
   ]
  },
  {
   "cell_type": "markdown",
   "id": "0ce7d5cc",
   "metadata": {},
   "source": [
    "````{admonition} Lösung\n",
    ":class: miniexercise, toggle\n",
    "```python\n",
    "import numpy as np\n",
    "\n",
    "# Erzeugung der Körpergrößen\n",
    "maedchen = np.random.normal(166.3, 6.39, 13)\n",
    "jungen = np.random.normal(176.8, 7.46, 13)\n",
    "\n",
    "# Ausgabe\n",
    "print(maedchen)\n",
    "print(jungen)\n",
    "```\n",
    "````"
   ]
  }
 ],
 "metadata": {
  "jupytext": {
   "formats": "ipynb,md:myst",
   "text_representation": {
    "extension": ".md",
    "format_name": "myst",
    "format_version": 0.13,
    "jupytext_version": "1.13.8"
   }
  },
  "kernelspec": {
   "display_name": "Python 3 (ipykernel)",
   "language": "python",
   "name": "python3"
  },
  "language_info": {
   "codemirror_mode": {
    "name": "ipython",
    "version": 3
   },
   "file_extension": ".py",
   "mimetype": "text/x-python",
   "name": "python",
   "nbconvert_exporter": "python",
   "pygments_lexer": "ipython3",
   "version": "3.12.2"
  },
  "source_map": [
   13,
   41,
   46,
   51,
   54,
   69,
   72,
   80,
   83,
   93,
   96,
   106,
   108,
   137,
   140,
   147,
   150,
   164,
   166
  ]
 },
 "nbformat": 4,
 "nbformat_minor": 5
}