{
 "cells": [
  {
   "cell_type": "markdown",
   "id": "730d657e",
   "metadata": {},
   "source": [
    "# 7.3 Zufallszahlen\n",
    "\n",
    "In diesem Kapitel werden wir uns mit der Erzeugung und Anwendung von\n",
    "Zufallszahlen in Python beschäftigen. Wir nutzen dazu das Modul `numpy.random`\n",
    "aus der Bibliothek NumPy.\n",
    "\n",
    "## Lernziele\n",
    "\n",
    "```{admonition} Lernziele\n",
    ":class: important\n",
    "* Sie kennen den Unterscheid zwischen **gleichverteilten** und\n",
    "  **normalverteilten** Zufallszahlen.\n",
    "* Sie können gleichverteilte Integer und Floats erzeugen lassen.\n",
    "* Sie können normalverteilte Floats zu einem vorgegebenen Mittelwert und einer\n",
    "  vorgegebenen Standabweichung erzeugen lassen.\n",
    "```\n",
    "\n",
    "## Gleichverteilte Zufallszahlen\n",
    "\n",
    "Eine gleichverteilte Zufallszahl ist eine Zufallszahl, bei der jedes mögliche\n",
    "Ergebnis die gleiche Wahrscheinlichkeit hat. Das ist ähnlich wie beim Würfeln:\n",
    "Jede der sechs Zahlen hat die gleiche Wahrscheinlichkeit aufzutauchen.\n",
    "\n",
    "In Python können wir mit der Funktion `.uniform()` aus dem Modul `numpy.random`\n",
    "gleichverteilte Zufallszahlen erzeugen. Hier ist ein Beispiel:"
   ]
  },
  {
   "cell_type": "code",
   "execution_count": 1,
   "id": "dec2339c",
   "metadata": {},
   "outputs": [
    {
     "name": "stdout",
     "output_type": "stream",
     "text": [
      "0.0785380685962993\n"
     ]
    }
   ],
   "source": [
    "import numpy as np\n",
    "\n",
    "zufallszahl = np.random.uniform()\n",
    "print(zufallszahl)"
   ]
  },
  {
   "cell_type": "markdown",
   "id": "17e667ca",
   "metadata": {},
   "source": [
    "Wir können auch mehrere Zahlen gleichzeitig erzeugen und dabei den Bereich der\n",
    "Zahlen bestimmen:"
   ]
  },
  {
   "cell_type": "code",
   "execution_count": 2,
   "id": "f1915908",
   "metadata": {},
   "outputs": [
    {
     "name": "stdout",
     "output_type": "stream",
     "text": [
      "[19.47479874 11.27523027 17.76355061 12.91781595 14.49216037]\n"
     ]
    }
   ],
   "source": [
    "zufallszahlen = np.random.uniform(10, 20, 5)\n",
    "print(zufallszahlen)"
   ]
  },
  {
   "cell_type": "markdown",
   "id": "c0beb2c3",
   "metadata": {},
   "source": [
    "Damit werden fünf gleichverteilte Zufallszahlen zwischen 10 und 20 generiert.\n",
    "\n",
    "Neben den Funktionen für kontinuierliche Zufallszahlen stellt `numpy.random`\n",
    "auch eine Funktion bereit, um zufällige Integer zu erzeugen. Die Funktion\n",
    "`randint()` erzeugt zufällige ganze Zahlen innerhalb eines angegebenen Intervalls.\n",
    "\n",
    "Dabei benötigt die Funktion `randint()` zwei Parameter: den Start des Intervalls\n",
    " und das Ende des Intervalls. Dabei gehört der Start des Intervalls dazu, aber\n",
    "das Ende des Intervalls nicht. Optional kann ein dritter Parameter hinzugefügt\n",
    "werden, um anzugeben, wie viele Zahlen erzeugt werden sollen.\n",
    "\n",
    "Hier ist ein Beispiel:"
   ]
  },
  {
   "cell_type": "code",
   "execution_count": 3,
   "id": "e93f9a67",
   "metadata": {},
   "outputs": [
    {
     "name": "stdout",
     "output_type": "stream",
     "text": [
      "71\n"
     ]
    }
   ],
   "source": [
    "zufallszahl = np.random.randint(37, 99)\n",
    "print(zufallszahl)"
   ]
  },
  {
   "cell_type": "markdown",
   "id": "5c4ad4f6",
   "metadata": {},
   "source": [
    "Der Code generiert eine zufällige ganze Zahl (Integer) zwischen 37 und 98. Die\n",
    "99 kann jedoch nicht zufällig gezogen werden, da das Ende des Intervalls nicht\n",
    "inkludiert ist.\n",
    "\n",
    "Und hier ist ein Beispiel für die Erzeugung mehrerer Zahlen:"
   ]
  },
  {
   "cell_type": "code",
   "execution_count": 4,
   "id": "4089c6f1",
   "metadata": {},
   "outputs": [
    {
     "name": "stdout",
     "output_type": "stream",
     "text": [
      "[7 3 0 7 9]\n"
     ]
    }
   ],
   "source": [
    "zufallszahlen = np.random.randint(0, 10, 5)\n",
    "print(zufallszahlen)"
   ]
  },
  {
   "cell_type": "markdown",
   "id": "6eecfafc",
   "metadata": {},
   "source": [
    "Der Code generiert fünf ganzzahlige Zufallszahlen zwischen 0 und 9 und speichert\n",
    "sie in der Liste `zufallszahlen`.\n",
    "\n",
    "Es ist wichtig zu beachten, dass der obere Grenzwert bei `randint()` exklusiv\n",
    "ist, d.h. er wird selbst nicht als möglicher Ausgang berücksichtigt. Wenn also\n",
    "z.B. Zahlen von 1 bis 10 benötigt werden, sollte der obere Grenzwert als 11\n",
    "angegeben werden:"
   ]
  },
  {
   "cell_type": "code",
   "execution_count": 5,
   "id": "7dcdf146",
   "metadata": {},
   "outputs": [
    {
     "name": "stdout",
     "output_type": "stream",
     "text": [
      "8\n"
     ]
    }
   ],
   "source": [
    "zufallszahl = np.random.randint(1, 11)\n",
    "print(zufallszahl)"
   ]
  },
  {
   "cell_type": "markdown",
   "id": "31546802",
   "metadata": {},
   "source": [
    "```{admonition} Mini-Übung\n",
    ":class: miniexercise\n",
    "Lassen Sie sechs Lottozahlen erzeugen, d.h. sechs Integer, die zwischen 1 und 49\n",
    "gleichmäßig verteilt sind. Die Lottozahlen sollen auch ausgegeben werden.\n",
    "\n",
    "Könnte damit die Ziehung der Lottozahlen simuliert werden?\n",
    "```"
   ]
  },
  {
   "cell_type": "code",
   "execution_count": 6,
   "id": "dfaa4cf2",
   "metadata": {},
   "outputs": [],
   "source": [
    "# Hier Ihr Code"
   ]
  },
  {
   "cell_type": "markdown",
   "id": "87a30760",
   "metadata": {},
   "source": [
    "````{admonition} Lösung\n",
    ":class: miniexercise, toggle\n",
    "```python\n",
    "import numpy as np\n",
    "\n",
    "# Erzeugung der Lottozahlen\n",
    "lottozahlen = np.random.randint(1, 50, 6)\n",
    "\n",
    "# Ausgabe\n",
    "print(lottozahlen)\n",
    "```\n",
    "````\n",
    "\n",
    "## Normalverteilte Zufallszahlen\n",
    "\n",
    "Eine normalverteilte Zufallszahl folgt der sogenannten Normalverteilung oder\n",
    "Gaußschen Verteilung. Das ist eine Wahrscheinlichkeitsverteilung, die durch ihr\n",
    "Glockenkurven-Diagramm bekannt ist.\n",
    "\n",
    "Die Normalverteilung ist durch zwei Parameter definiert: Den Mittelwert (oder\n",
    "Erwartungswert) und die Standardabweichung. Der Mittelwert ist der Wert, um den\n",
    "die Werte im Durchschnitt zentriert sind. Die Standardabweichung ist ein Maß für\n",
    "die Streuung der Werte.\n",
    "\n",
    "In Python können wir mit der Funktion `numpy.random.normal()` normalverteilte\n",
    "Zufallszahlen erzeugen:"
   ]
  },
  {
   "cell_type": "code",
   "execution_count": 7,
   "id": "0a57400a",
   "metadata": {},
   "outputs": [
    {
     "name": "stdout",
     "output_type": "stream",
     "text": [
      "0.025012998407243425\n"
     ]
    }
   ],
   "source": [
    "zufallszahl = np.random.normal(0, 1)\n",
    "print(zufallszahl)"
   ]
  },
  {
   "cell_type": "markdown",
   "id": "ef64f20b",
   "metadata": {},
   "source": [
    "Das erste Argument `0` steht für einen Mittelwert von 0. Das zweite Argument `1`\n",
    "bedeutet, dass die Normalverteiung eine Standardabweichung von 1 hat.\n",
    "\n",
    "Wir können auch mehrere Zahlen gleichzeitig erzeugen:"
   ]
  },
  {
   "cell_type": "code",
   "execution_count": 8,
   "id": "8087d8b6",
   "metadata": {},
   "outputs": [
    {
     "name": "stdout",
     "output_type": "stream",
     "text": [
      "[-0.38063434  0.68293222  1.53402803  0.65660771 -0.69623946]\n"
     ]
    }
   ],
   "source": [
    "zufallszahlen = np.random.normal(0, 1, 5)\n",
    "print(zufallszahlen)"
   ]
  },
  {
   "cell_type": "markdown",
   "id": "09fb133e",
   "metadata": {},
   "source": [
    "Jetzt wurden fünf normalverteilte Zufallszahlen erzeugt.\n",
    "\n",
    "```{admonition} Mini-Übung\n",
    ":class: miniexercise\n",
    "Bei einer Schulklasse wird die Körpergröße der Jugendlichen (Alter: 14 bis 18\n",
    "Jahre) gemessen. Der Mittelwert bei den Mädchen ist 166.3 cm (Standardabweichung\n",
    "6.39 cm) und bei den Jungen 176.8 cm (Standardabweichung 7.46 cm) (Quelle:\n",
    "[Wikipedia ](https://de.wikipedia.org/wiki/Normalverteilung)).\n",
    "\n",
    "Lassen Sie die Körpergrößen einer durchschnittlichen Schulklasse (= 13 Mädchen und 13 Jungen)erzeugen und ausgeben.\n",
    "```"
   ]
  },
  {
   "cell_type": "code",
   "execution_count": 9,
   "id": "ce0ef69c",
   "metadata": {},
   "outputs": [],
   "source": [
    "# Hier Ihr Code"
   ]
  },
  {
   "cell_type": "markdown",
   "id": "8e0bc4ee",
   "metadata": {},
   "source": [
    "````{admonition} Lösung\n",
    ":class: miniexercise, toggle\n",
    "```python\n",
    "import numpy as np\n",
    "\n",
    "# Erzeugung der Körpergrößen\n",
    "maedchen = np.random.normal(166.3, 6.39, 13)\n",
    "jungen = np.random.normal(176.8, 7.46, 13)\n",
    "\n",
    "# Ausgabe\n",
    "print(maedchen)\n",
    "print(jungen)\n",
    "```\n",
    "````"
   ]
  }
 ],
 "metadata": {
  "jupytext": {
   "formats": "ipynb,md:myst",
   "text_representation": {
    "extension": ".md",
    "format_name": "myst",
    "format_version": 0.13,
    "jupytext_version": "1.13.8"
   }
  },
  "kernelspec": {
   "display_name": "Python 3 (ipykernel)",
   "language": "python",
   "name": "python3"
  },
  "language_info": {
   "codemirror_mode": {
    "name": "ipython",
    "version": 3
   },
   "file_extension": ".py",
   "mimetype": "text/x-python",
   "name": "python",
   "nbconvert_exporter": "python",
   "pygments_lexer": "ipython3",
   "version": "3.12.2"
  },
  "source_map": [
   13,
   41,
   46,
   51,
   54,
   69,
   72,
   80,
   83,
   93,
   96,
   106,
   108,
   137,
   140,
   147,
   150,
   164,
   166
  ]
 },
 "nbformat": 4,
 "nbformat_minor": 5
}