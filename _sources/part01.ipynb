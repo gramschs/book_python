{
 "cells": [
  {
   "cell_type": "code",
   "execution_count": 1,
   "id": "d9170f64",
   "metadata": {
    "tags": [
     "remove-input"
    ]
   },
   "outputs": [],
   "source": [
    "from IPython.display import IFrame"
   ]
  },
  {
   "cell_type": "markdown",
   "id": "26964cea",
   "metadata": {},
   "source": [
    "# Einstieg in die Programmierung\n",
    "\n",
    "## Lernziele\n",
    "\n",
    "Dieses Jupyter Notebook ist der Einstieg in die wissenschaftliche Programmierung\n",
    "mit Python. Zuerst werden wir Python als Taschenrechner benutzen. Danach\n",
    "beschäftigen wir uns mit grundlegenden Begriffen der Informatik, nämlich\n",
    "\n",
    "* Hardware und Software,\n",
    "* Betriebssystem, Anwendungssoftware (App) und Bibliotheken\n",
    "* Programm und Skript sowie\n",
    "* kompilierte und interpretierte Programmiersprachen.\n",
    "\n",
    "Nach dem kurzen Ausflug in die Theorie der Informatik widmen wir uns einfachen\n",
    "Datentypen und Variablen. Zusammen mit einfachen Python-Kommandos, um Eingaben\n",
    "einer Benutzerin oder eines Benutzers abzufragen und auf dem Bildschirm\n",
    "auszugeben, wird es uns möglich, erste kleinere Python-Skripte zu schreiben.\n",
    "Das entspricht auch dem grundlegenden Ablauf in der Datenverarbeitung, dem\n",
    "EVA-Prinzip, das für Eingabe, Verarbeitung und Ausgabe steht.\n",
    "\n",
    "## Python als Taschenrechner\n",
    "\n",
    "Was ist überhaupt Python? Wikipedia erklärt Python folgendermaßen: \n",
    "\n",
    "> \"Python ([ˈpʰaɪθn̩], [ˈpʰaɪθɑn], auf Deutsch auch [ˈpʰyːtɔn]) ist eine\n",
    "  universelle, üblicherweise interpretierte, höhere Programmiersprache. Sie hat\n",
    "  den Anspruch, einen gut lesbaren, knappen Programmierstil zu fördern. So\n",
    "  werden beispielsweise Blöcke nicht durch geschweifte Klammern, sondern durch\n",
    "  Einrückungen strukturiert.\" \n",
    "  (Quelle: [Wikipedia](https://de.wikipedia.org/wiki/Python_(Programmiersprache))\n",
    "\n",
    "Aber benutzen wir Python erst einmal als Taschenrechner, bevor wir mit der\n",
    "Programmierung starten. Im Folgenden sehen Sie, wie die Grundrechenarten in\n",
    "Python verwendet werden:\n",
    "\n",
    "Addition:\n",
    "\n",
    "```python\n",
    "2+3\n",
    "```\n",
    "\n",
    "Subtraktion:\n",
    "\n",
    "```python\n",
    "2-3\n",
    "```\n",
    "\n",
    "Multiplikation:\n",
    "\n",
    "```python\n",
    "2*4\n",
    "```\n",
    "\n",
    "Division:\n",
    "\n",
    "```python\n",
    "8/2\n",
    "```\n",
    "\n",
    "Potenzierung:\n",
    "\n",
    "```python\n",
    "3**2\n",
    "```\n",
    "\n",
    "In diesem interaktiven Vorlesungsskript können Sie Python direkt ausprobieren.\n",
    "In der gleich folgenden Code-Zelle ist Platz für Ihren Python-Code. Die\n",
    "Code-Zelle ist zunächst mit einem Kommentar beschriftet, in diese Fall mit dem\n",
    "Kommentar \n",
    "\n",
    "```python\n",
    "# Geben Sie nach diesem Kommentar Ihren Code ein:\n",
    "```\n",
    "Alles was nach dem Hashtag # kommt, wird von Python ignoriert. Die sogenannten\n",
    "Kommentare, die durch das Hashtag-Zeichen eingeleitet werden, sind für uns\n",
    "Menschen bestimmt.\n",
    "\n",
    "Wenn Sie dieses Skript in einem Jupyter Notebook durcharbeiten, können Sie\n",
    "direkt in die nächste Code-Zelle (nach der Kommentarzeile) Ihren Python-Code\n",
    "schreiben und ausführen lassen. Wenn Sie dieses Skript Online lesen, klicken Sie\n",
    "bitte zuerst auf das Raketensymbol oben rechts und auf Live Code, um eine\n",
    "interaktive Code-Zelle erzeugen zu lassen. Beim ersten Start des Live Codes kann\n",
    "es etwas länger dauern. Sie erkennen, dass die Code-Zelle interaktiv geworden\n",
    "ist, wenn die Knöpfe `run`, `restart` und `restart & run all` erschienen sind.\n",
    "Dann geben Sie Ihren Code  (nach der Kommentarzeile) ein und drücken auf run."
   ]
  },
  {
   "cell_type": "code",
   "execution_count": 2,
   "id": "8c40ece5",
   "metadata": {},
   "outputs": [],
   "source": [
    "# Geben Sie nach diesem Kommentar Ihren Code ein:\n"
   ]
  },
  {
   "cell_type": "markdown",
   "id": "dd7a0b20",
   "metadata": {},
   "source": [
    "Selbstverständlich beherrscht Python auch Klammerregeln. Probieren Sie es aus!\n",
    "\n",
    "```{admonition} Mini-Übung\n",
    ":class: miniexercise\n",
    "Lassen Sie Python den Term $3\\cdot (7-10)+5$ berechnen. \n",
    "```\n",
    "````{admonition} Lösung\n",
    ":class: minisolution, toggle\n",
    "```python\n",
    "# Geben Sie nach diesem Kommentar Ihren Code ein:\n",
    "3 * (7-10) + 5\n",
    "```\n",
    "````"
   ]
  },
  {
   "cell_type": "code",
   "execution_count": 3,
   "id": "5cb1ddc7",
   "metadata": {},
   "outputs": [],
   "source": [
    "# Geben Sie nach diesem Kommentar Ihren Code ein:\n"
   ]
  },
  {
   "cell_type": "markdown",
   "id": "b43823e7",
   "metadata": {},
   "source": [
    "## Grundlegende Begriffe beim Programmieren\n",
    "\n",
    "Programme oder Skripte, die in Python programmiert werden, können in der Regel\n",
    "auch nur in Python ausgeführt werden. \n",
    "\n",
    "Aber ... \n",
    "* Was ist überhaupt ein Programm oder ein Skript? \n",
    "* Was ist der Unterschied zwischen einer App und einer Software? \n",
    "* Was sind Programmiersprachen?\n",
    "* Was ist ein Interpreter und was ist ein Compiler?\n",
    "* Und was hat es mit Bibliotheken auf sich?\n",
    "\n",
    "Fangen wir erstmal von vorne an mit der grundlegen Bedeutung des Fachbegriffes\n",
    "Software im Unterschied zu Hardware.\n",
    "\n",
    "### Hardware und Software\n",
    "\n",
    "Computer, mobile Geräte wie Smartphones oder auch technische Systeme wie eine\n",
    "Anlagensteuerung bestehen aus zwei Komponenten: Hardware und Software. Dabei\n",
    "bezeichnen wir mit **Hardware** alle physischen Kompenten eines Systems, also\n",
    "die elektronischen und mechanischen Bauteile. Die **Software** dahingegen\n",
    "umfasst die Programme und deren Dokumentation sowie Daten. Man könnte auch\n",
    "sagen, dass Hardware die materiellen Teile eines Computersystems bezeichnet,\n",
    "während Software die nicht-materiellen Teile zusammenfasst. \n",
    "\n",
    "Bitte schauen Sie sich jetzt kurz um. Welche Hardware fällt Ihnen auf, wenn Sie\n",
    "den Blick schweifen lassen?  Bei Wikipedia können Sie den Begriff\n",
    "[Hardware](https://de.wikipedia.org/wiki/Hardware) noch einmal nachlesen.\n",
    "Wikibooks bietet auch ein passendes Buch zu\n",
    "[Computerhardware](https://de.wikibooks.org/wiki/Computerhardware) an.\n",
    "\n",
    "Software ist eine Zusammenfassung der nicht-materiellen Komponenten eines\n",
    "Computersystems. Wikipedia listet hier gleich drei verschiedene ISO-Normen zur\n",
    "Definition von [Software](https://de.wikipedia.org/wiki/Software) auf.\n",
    "\n",
    "Wir verwenden im Folgenden die weitreichendste Definition von Software, wonach\n",
    "Software\n",
    "\n",
    "* Programme\n",
    "* Dokumentation und\n",
    "* Daten\n",
    "\n",
    "umfasst.\n",
    "\n",
    "Die letzteren beiden Begriffe sind am einfachsten zu erklären, Mit\n",
    "**Dokumentation** sind Bedienungsanleitungen und Handbücher gemeint, aber auch\n",
    "die technische Dokumentation, die für andere Informatiker:innen gedacht ist und\n",
    "in die Benutzer:innen eines Computersystems in der Regel keinen Einblick haben.\n",
    "**Daten** wiederum sind alle Beobachtungen oder Messungen. In der\n",
    "digitalisierten Form werden sie normalerweise durch Zahlenwerte repräsentiert.\n",
    "Was die Programme anbelangt, gibt es mehrere Kategorien, wie wir im nächsten\n",
    "Abschnitt sehen werden. \n",
    "\n",
    "### Betriebssystem, Anwendungssoftware und Bibliothek\n",
    "\n",
    "Die wichtigste Software eines jeden Computersystems ist das **Betriebssystem**.\n",
    "Das Betriebssystem umfasst alle Computerprogramme, die notwendig sind, um\n",
    "überhaupt den Computer zu betreiben, zu starten oder zu benutzen. Das\n",
    "[Betriebssystem](https://de.wikipedia.org/wiki/Betriebssystem) hat laut\n",
    "Wikipedia folgende Aufgaben: \n",
    "\n",
    "> ... Benutzerkommunikation; Laden, Ausführen, Unterbrechen und Beenden von\n",
    "  Programmen; Verwaltung und Zuteilung der Prozessorzeit; Verwaltung des\n",
    "  internen Speicherplatzes für Anwendungen; Verwaltung und Betrieb der\n",
    "  angeschlossenen Geräte; Schutzfunktionen z. B. durch Zugriffsbeschränkungen.\"\n",
    "\n",
    "Viele Menschen denken bei Software zuerst an **Anwendungssoftware** (siehe\n",
    "[Wikipedia/Anwendungssoftware](https://de.wikipedia.org/wiki/Anwendungssoftware)).\n",
    "Das sind Computerprogramme, die einen speziellen Zweck erfüllen sollen und den\n",
    "Benutzer oder die Benutzerin bei Aufgaben unterstützen. Im Englischen werden\n",
    "solche Computerprogramme auch als **Application** (= Anwendung, Verwendung,\n",
    "Einsatz) bezeichnet. 2008 hat die Firma Apple den \"iOS App Store\" gegründet, um\n",
    "Anwendungssoftware für das iPhone zu vertreiben. Seitdem wird immer häufiger\n",
    "auch im deutschen Sprachraum der Name Application oder App für verwendet.\n",
    "Vielfach steht \"Application\" eher für PC-Anwendungssoftware und der Kurzname\n",
    "\"App\" für Anwendungssoftware für Tablets und Smartphones.  \n",
    "\n",
    "Für Softwareentwickler sind — neben der Programmiersprache und den\n",
    "Software-Entwicklungswerkzeugen — vor allem Bibiotheken wichtig. Eine\n",
    "**Bibliothek** (siehe\n",
    "[Wikipedia/Bibliothek](https://de.wikipedia.org/wiki/Programmbibliothek)) ist\n",
    "eine Sammlung von Programmen, die zwar einen bestimmten Zweck haben, aber\n",
    "eigenständig nicht lauffähig werden. Diese Programmbibiotheken werden von\n",
    "Programmiererinnen und Programmieren benutzt, um nicht ständig neu das Rad\n",
    "erfinden zu müssen. Beispielsweise würde es den Software-Entwickungsprozess\n",
    "verlangsamen, wenn jedesmal neu ein Programm geschrieben werden müsste, dass die\n",
    "Wurzel einer Zahl berechnet oder ein Ergebnis einer Berechnung in eine Datei auf\n",
    "die Festplatte schreibt. Diese Spezialaufgaben wurden bereits von anderen\n",
    "Software-Entwickler:innen implmentiert und werden dann über die Bibliotheken der\n",
    "Gemeinschaft zur Verfügung gestellt.\n",
    "\n",
    "### Programmiersprachen und das erste Python-Programm\n",
    "\n",
    "Es gibt viele Programmiersprachen und jede hat ihre Vorteile und ihre Nachteile.\n",
    "Aber was ist eine Programmiersprache überhaupt? Eine **Programmiersprache** ist\n",
    "die formale Sprache zur Formulierung von Datenstrukturen und Algorithmen (=\n",
    "Abfolge von Anweisungen), die von einem Computer ausgeführt werden können. \n",
    "\n",
    "Es gibt nicht die wichtigste oder beste Programmiersprache, sondern die Auswahl\n",
    "der Programmiersprache sollte sich stets nach der anvisierten Anwendung richten.\n",
    "Der sogenannte Tiobe-Index zeigt die Beliebtheit der 50 wichtigsten\n",
    "Programmiersprachen: \n",
    "\n",
    "https://www.tiobe.com/tiobe-index/ \n",
    "\n",
    "In der Anfangszeit der Computer waren Programmiersprachen noch sehr nahe am\n",
    "Computern ausgerichtet. Hier sehen Sie ein Beispiel, wie in der\n",
    "Programmiersprache Assembler die Meldung \"Hallo Welt\" auf dem Monitor angezeigt\n",
    "wird:\n",
    "\n",
    "```{figure} pics/part01_assembler.png\n",
    ":name: part01_assembler\n",
    "\n",
    "\"Hallo Welt\" in Assembler (Quelle: [Wikipedia/Assemblersprache](https://de.wikipedia.org/wiki/Assemblersprache))\n",
    "```\n",
    "\n",
    "In Python ist dieser Programmcode wesentlich kürzer:\n",
    "\n",
    "```python\n",
    "print('Hallo Welt')\n",
    "```\n",
    "\n",
    "```{admonition} Mini-Übung\n",
    ":class: miniexercise\n",
    "Kopieren Sie die Zeile `print('Hallo Welt')` in die nächste Code-Zelle unter die Kommentarzeile und ersetzen Sie Welt durch Ihren Namen. Ihr erstes Computerprogramm in Python :-)\n",
    "```\n",
    "````{admonition} Lösung\n",
    ":class: minisolution, toggle\n",
    "```python\n",
    "# Geben Sie nach diesem Kommentar Ihren Code ein:\n",
    "print('Hallo Simone')\n",
    "```\n",
    "````"
   ]
  },
  {
   "cell_type": "code",
   "execution_count": 4,
   "id": "712788b8",
   "metadata": {},
   "outputs": [],
   "source": [
    "# Geben Sie nach diesem Kommentar Ihren Code ein:\n"
   ]
  },
  {
   "cell_type": "markdown",
   "id": "0e538347",
   "metadata": {},
   "source": [
    "Heute werden nur noch die sogenannten **höheren Programmiersprachen** verwendet\n",
    "(wie Python, MATLAB oder C++), die für Menschen leichter verständlich sind.\n",
    "Dafür müssen dann Programme, die in höheren Programmiersprachen geschrieben\n",
    "sind, in **Maschinensprache** übersetzt werden. Verschiedene Programmiersprachen\n",
    "verwenden dazu unterschiedliche Prinzipien. Die beiden wichtigsten Vertreter\n",
    "sind \n",
    "\n",
    "* **Compiler-Programmiersprachen** und\n",
    "* **Interpreter-Programmiersprachen**. \n",
    "\n",
    "Bei Compiler-Programmiersprachen wird der Programmcode vorab in Maschinensprache\n",
    "übersetzt und der Anwender erhält die Anwendungssoftware in Maschinensprache\n",
    "(bei Windows beispielsweise als exe-Datei). Den Vorgang des Übersetzens nennt\n",
    "man **kompilieren**. Bei Interpreter-Sprachen wird der Code in dem Moment in\n",
    "Maschinensprache übersetzt, in dem das Programm läuft bzw. ausgeführt wird.\n",
    "Während also das Programm läuft, muss gleichzeitig – quasi im Hintergrund – der\n",
    "Übersetzer arbeiten und die höhere Programmiersprache in Maschinensprache\n",
    "**interpretieren**. Daher der Name Interpreter-Sprache. Manchmal wird Code, der\n",
    "kompiliert wurde und dann eigenständig lauffähig ist, als **Programm**\n",
    "bezeichnet. Dahingegen wird Code, der interpretiert wird und dringend auf einen\n",
    "gerade laufenden Interpreter angewiesen ist, oft als Skript bezeichnet. Im\n",
    "Alltag geht diese Unterscheidung meist unter und wir verwenden den Begriff\n",
    "Programm auch für Python-Skripte.\n",
    "\n",
    "\n",
    "## Los geht es mit dem Programmieren - Datentypen in Python\n",
    "\n",
    "Der Computer kann Informationen nur als 0 oder 1 verarbeiten. Auf dem\n",
    "Speichermedium oder im Speicher selbst werden Daten daher als eine Folge von 0\n",
    "und 1 gespeichert. Damit es für uns Programmiererinnen und Programmierer\n",
    "einfacher wird, Daten zu speichern und zu verarbeiten, wurden Datentypen\n",
    "eingeführt.  \n",
    "\n",
    "**Datentypen** fassen gleichartige Objekte zusammen und stellen passende\n",
    "Operationen zur Verfügung. Es hängt von der Programmiersprache ab, welche\n",
    "Datentypen zur Verfügung stehen, wie diese im Hintergrund gespeichtert werden\n",
    "und welche Operationen damit möglich sind. In diesem Vorlesungsskript\n",
    "beschäftigen wir uns mit den einfachen Datentypen\n",
    "\n",
    "* Integer\n",
    "* Float\n",
    "* String\n",
    "\n",
    "### Zahlen \n",
    "\n",
    "In der Programmierung unterscheidet man grundsätzlich zwischen zwei Zahlenarten,\n",
    "den **Ganzzahlen** und den Gleitkommazahlen, die auch **Fließkommazahlen**\n",
    "genannt werden. Die Ganzzahlen werden in der Mathematik als ganze Zahlen\n",
    "bezeichnet. In der Informatik wird meist der englische Begriff **Integer**\n",
    "verwendet. Mit Integern können wir ganz normal rechnen, also Operationen\n",
    "ausführen. Einige davon haben wir ja bereits ausprobiert, als wir Python als\n",
    "Taschenrechner benutzt haben:"
   ]
  },
  {
   "cell_type": "code",
   "execution_count": 5,
   "id": "4e89474e",
   "metadata": {},
   "outputs": [
    {
     "data": {
      "text/plain": [
       "14"
      ]
     },
     "execution_count": 5,
     "metadata": {},
     "output_type": "execute_result"
    }
   ],
   "source": [
    "2 * (3 + 4)"
   ]
  },
  {
   "cell_type": "markdown",
   "id": "cdfcfcc3",
   "metadata": {},
   "source": [
    "Sobald wir eine Division vorliegen haben, die nicht aufgeht, verlassen wir den\n",
    "Bereich der ganzen Zahlen und kommen automatisch zu den Fließkommazahlen. In der\n",
    "Informatik wird eine Fließkommazahl als Float bezeichnet. Python rechnet\n",
    "automatisch mit dem richtigen Datentyp, wie Sie hier sehen:"
   ]
  },
  {
   "cell_type": "code",
   "execution_count": 6,
   "id": "e6009208",
   "metadata": {},
   "outputs": [
    {
     "data": {
      "text/plain": [
       "0.4"
      ]
     },
     "execution_count": 6,
     "metadata": {},
     "output_type": "execute_result"
    }
   ],
   "source": [
    "2/5"
   ]
  },
  {
   "cell_type": "markdown",
   "id": "1f52825f",
   "metadata": {},
   "source": [
    "Beachten Sie bitte: Das Dezimaltrennzeichen ist ein Punkt, nicht ein Komma wie\n",
    "im Deutschen. Aber ansonsten funktioniert alles wie erwartet:"
   ]
  },
  {
   "cell_type": "code",
   "execution_count": 7,
   "id": "b34ca9f9",
   "metadata": {},
   "outputs": [
    {
     "data": {
      "text/plain": [
       "6.8999999999999995"
      ]
     },
     "execution_count": 7,
     "metadata": {},
     "output_type": "execute_result"
    }
   ],
   "source": [
    "2.3 + 4.6"
   ]
  },
  {
   "cell_type": "code",
   "execution_count": 8,
   "id": "25b8df84",
   "metadata": {},
   "outputs": [
    {
     "data": {
      "text/plain": [
       "-3.8000000000000003"
      ]
     },
     "execution_count": 8,
     "metadata": {},
     "output_type": "execute_result"
    }
   ],
   "source": [
    "1.4 - 5.2"
   ]
  },
  {
   "cell_type": "code",
   "execution_count": 9,
   "id": "75089fec",
   "metadata": {},
   "outputs": [
    {
     "data": {
      "text/plain": [
       "-11.78"
      ]
     },
     "execution_count": 9,
     "metadata": {},
     "output_type": "execute_result"
    }
   ],
   "source": [
    "(-3.8) * 3.1"
   ]
  },
  {
   "cell_type": "code",
   "execution_count": 10,
   "id": "f0e65be5",
   "metadata": {},
   "outputs": [
    {
     "data": {
      "text/plain": [
       "8.0"
      ]
     },
     "execution_count": 10,
     "metadata": {},
     "output_type": "execute_result"
    }
   ],
   "source": [
    "2.4 / 0.3"
   ]
  },
  {
   "cell_type": "code",
   "execution_count": 11,
   "id": "dc2e6a7b",
   "metadata": {},
   "outputs": [
    {
     "data": {
      "text/plain": [
       "9536.7431640625"
      ]
     },
     "execution_count": 11,
     "metadata": {},
     "output_type": "execute_result"
    }
   ],
   "source": [
    "2.5**10"
   ]
  },
  {
   "cell_type": "markdown",
   "id": "3a548796",
   "metadata": {},
   "source": [
    "Das folgende Video fasst Zahlen in Python zusammen."
   ]
  },
  {
   "cell_type": "code",
   "execution_count": 12,
   "id": "1d14dec5",
   "metadata": {
    "tags": [
     "remove-input"
    ]
   },
   "outputs": [
    {
     "data": {
      "text/html": [
       "\n",
       "<iframe\n",
       "    width=\"560\"\n",
       "    height=\"315\"\n",
       "    src=\"https://www.youtube.com/embed/VtiDkRDPA_c\"\n",
       "    frameborder=\"0\"\n",
       "    allowfullscreen\n",
       "\n",
       "></iframe>\n"
      ],
      "text/plain": [
       "<IPython.lib.display.IFrame at 0x1041d35b0>"
      ]
     },
     "execution_count": 12,
     "metadata": {},
     "output_type": "execute_result"
    }
   ],
   "source": [
    "IFrame(width=560, height=315, src=\"https://www.youtube.com/embed/VtiDkRDPA_c\")"
   ]
  },
  {
   "cell_type": "markdown",
   "id": "ccc28e47",
   "metadata": {},
   "source": [
    "### Strings\n",
    "\n",
    "Daten sind aber sehr oft keine Zahlen. Beispielsweise könnte man sich\n",
    "vorstellen, eine Einkaufsliste zu erstellen und diese im Computer oder in einer\n",
    "Notiz-App auf dem Handy zu speichern. Eine solche Zeichenkette heißt in der\n",
    "Informatik **String**. Mit Zeichen meint man dabei Zahlen, Buchstaben oder\n",
    "andere wie beispielsweise !\"§$%&/()=?.\n",
    "\n",
    "Strings werden in Python durch doppelte Anführungszeichen definiert:"
   ]
  },
  {
   "cell_type": "code",
   "execution_count": 13,
   "id": "b82be35b",
   "metadata": {},
   "outputs": [
    {
     "data": {
      "text/plain": [
       "'Dies ist ein String!'"
      ]
     },
     "execution_count": 13,
     "metadata": {},
     "output_type": "execute_result"
    }
   ],
   "source": [
    "\"Dies ist ein String!\""
   ]
  },
  {
   "cell_type": "markdown",
   "id": "fad66b07",
   "metadata": {},
   "source": [
    "Auf Strings und ihre Anwendungen kommen wir später noch zurück. Wenn Sie bereits\n",
    "jetzt mehr erfahren wollen, können Sie sich folgendes Video ansehen."
   ]
  },
  {
   "cell_type": "code",
   "execution_count": 14,
   "id": "5f654fdc",
   "metadata": {
    "tags": [
     "remove-input"
    ]
   },
   "outputs": [
    {
     "data": {
      "text/html": [
       "\n",
       "<iframe\n",
       "    width=\"560\"\n",
       "    height=\"315\"\n",
       "    src=\"https://www.youtube.com/embed/sTEf4_mrLvw\"\n",
       "    frameborder=\"0\"\n",
       "    allowfullscreen\n",
       "\n",
       "></iframe>\n"
      ],
      "text/plain": [
       "<IPython.lib.display.IFrame at 0x1041d3430>"
      ]
     },
     "execution_count": 14,
     "metadata": {},
     "output_type": "execute_result"
    }
   ],
   "source": [
    "IFrame(width=560, height=315, src=\"https://www.youtube.com/embed/sTEf4_mrLvw\")"
   ]
  },
  {
   "cell_type": "markdown",
   "id": "47ced9c6",
   "metadata": {},
   "source": [
    "### Variablen \n",
    "\n",
    "**Variablen** sind beschriftete Schubladen. Oder anders formuliert sind\n",
    "Variablen Objekte, denen man einen Namen gibt. Technisch gesehen sind diese\n",
    "Schubladen ein kleiner Bereich im Arbeitsspeicher des Computers. Was in diesen\n",
    "Schubladen aufbewahrt wird, kann sehr unterschiedlich sein. Beispielsweise die\n",
    "Telefonnummer des ADAC-Pannendienstes, die 10. Nachkommastelle von $\\pi$ oder die\n",
    "aktuelle Position des Mauszeigers können in den Schubladen enthalten sein. \n",
    "\n",
    "Wir verwenden Variablen, um bestimmte Werte oder ein bestimmtes Objekt zu\n",
    "speichern. Eine Variable wird durch **Zuweisung** erzeugt. Damit meinen wir,\n",
    "dass eine Schublade angelegt wird und die Schublade dann erstmalig gefüllt wird.\n",
    "Das erstmalige Füllen der Schublade nennt man in der Informatik auch\n",
    "**Initialisieren**."
   ]
  },
  {
   "cell_type": "code",
   "execution_count": 15,
   "id": "438fe567",
   "metadata": {},
   "outputs": [],
   "source": [
    "x = 0.5"
   ]
  },
  {
   "cell_type": "markdown",
   "id": "dd9e3fb2",
   "metadata": {},
   "source": [
    "Sobald die Variable x in diesem Beispiel durch eine Zuweisung von 0.5 erstellt\n",
    "wurde, können wir sie verwenden:"
   ]
  },
  {
   "cell_type": "code",
   "execution_count": 16,
   "id": "ce8bc653",
   "metadata": {},
   "outputs": [
    {
     "data": {
      "text/plain": [
       "1.5"
      ]
     },
     "execution_count": 16,
     "metadata": {},
     "output_type": "execute_result"
    }
   ],
   "source": [
    "x * 3"
   ]
  },
  {
   "cell_type": "code",
   "execution_count": 17,
   "id": "44231bd7",
   "metadata": {},
   "outputs": [
    {
     "data": {
      "text/plain": [
       "18.3"
      ]
     },
     "execution_count": 17,
     "metadata": {},
     "output_type": "execute_result"
    }
   ],
   "source": [
    "x + 17.8"
   ]
  },
  {
   "cell_type": "markdown",
   "id": "06be23c9",
   "metadata": {},
   "source": [
    "Variablen müssen initialisiert (erstmalig mit einem Wert versehen) werden, bevor\n",
    "sie verwendet werden können, sonst tritt ein Fehler auf. \n",
    "\n",
    "```{admonition} Mini-Übung\n",
    ":class: miniexercise\n",
    "Schreiben Sie in die nächste Code-Zelle einfach den Buchstaben `n` unter die Kommentarzeile und lassen Sie dann die Code-Zelle mit `run` vom Python-Interpreter ausführen. Was beobachten Sie? Recherchieren Sie im Internet nach der Fehlermeldung. \n",
    "```\n",
    "````{admonition} Lösung\n",
    ":class: minisolution, toggle\n",
    "```python\n",
    "# Geben Sie nach diesem Kommentar Ihren Code ein:\n",
    "n\n",
    "```\n",
    "Der Interpreter zeigt in rot eine Fehlermeldung an: \"NameError: name 'n' is not defined\". Damit weist der Interpreter darauf hin, dass die Variable bisher nicht mit einem Wert versehen wurde, sie ist nicht intialisiert worden. Daher kann damit auch nicht gearbeitet werden.\n",
    "````"
   ]
  },
  {
   "cell_type": "code",
   "execution_count": 18,
   "id": "181d9e2a",
   "metadata": {},
   "outputs": [],
   "source": [
    "# Geben Sie nach diesem Kommentar Ihren Code ein:\n",
    "\n"
   ]
  },
  {
   "cell_type": "markdown",
   "id": "a0144894",
   "metadata": {},
   "source": [
    "Gerne können Sie sich auch folgendes Video auf YouTube ansehen, das eine\n",
    "Einführung in das Thema Variablen in Python gibt."
   ]
  },
  {
   "cell_type": "code",
   "execution_count": 19,
   "id": "62bbc737",
   "metadata": {
    "tags": [
     "remove-input"
    ]
   },
   "outputs": [
    {
     "data": {
      "text/html": [
       "\n",
       "<iframe\n",
       "    width=\"560\"\n",
       "    height=\"315\"\n",
       "    src=\"https://www.youtube.com/embed/jfOLXKPGXJ0\"\n",
       "    frameborder=\"0\"\n",
       "    allowfullscreen\n",
       "\n",
       "></iframe>\n"
      ],
      "text/plain": [
       "<IPython.lib.display.IFrame at 0x1041f7bb0>"
      ]
     },
     "execution_count": 19,
     "metadata": {},
     "output_type": "execute_result"
    }
   ],
   "source": [
    "IFrame(width=560, height=315, src=\"https://www.youtube.com/embed/jfOLXKPGXJ0\")"
   ]
  },
  {
   "cell_type": "markdown",
   "id": "814cd34d",
   "metadata": {},
   "source": [
    "### Zuweisungsoperator\n",
    "\n",
    "Wichtig ist, dass das `=` in der Informatik eine andere Bedeutung hat als in der\n",
    "Mathematik. = meint nicht das Gleichheitszeichen, sondern den sogenannten\n",
    "**Zuweisungsoperator**. Das ist in der Programmierung ein Kommando, das eine\n",
    "Schublade befüllt oder technischer ausgedrückt, ein Objekt einer Variable\n",
    "zuweist.\n",
    "\n",
    "Sehr häufig findet man Code wie\n",
    "\n",
    "```python\n",
    "x = x + 1\n",
    "```\n",
    "\n",
    "Würden wir dies als Gleichung lesen, wie wir es aus der Mathematik gewohnt sind,\n",
    "also $x = x+1$, könnten wir $x$ auf beiden Seiten subtrahieren und erhalten\n",
    "$0=1$. Wir wissen, dass dies nicht wahr ist, also stimmt hier etwas nicht.\n",
    "\n",
    "In Python sind \"Gleichungen\" keine mathematischen Gleichungen, sondern\n",
    "Zuweisungen. \"=\" ist kein Gleichheitszeichen im mathematischen Sinne, sondern\n",
    "eine Zuweisung. Die Zuweisung muss immer in der folgenden Weise zweistufig\n",
    "gelesen werden:\n",
    "\n",
    "1. Berechne den Wert auf der rechten Seite (also $x+1$).\n",
    "2. Weise den Wert auf der rechten Seite dem auf der linken Seite stehenden\n",
    "   Variablennamen zu.\n",
    "\n",
    "Wir probieren eine solche Zuweisung in der folgenden Code-Zelle aus und benutzen\n",
    "auch gleich die `print()`-Funktion, die wir bei unserem ersten Python-Programm\n",
    "\"Hallo Welt\" bereits kennengelernt haben, um den Wert der Variablen `x` ausgeben\n",
    "zu lassen:"
   ]
  },
  {
   "cell_type": "code",
   "execution_count": 20,
   "id": "d0e8276c",
   "metadata": {},
   "outputs": [
    {
     "name": "stdout",
     "output_type": "stream",
     "text": [
      "5\n"
     ]
    }
   ],
   "source": [
    "x = 4     \n",
    "x = x + 1\n",
    "print(x)"
   ]
  },
  {
   "cell_type": "markdown",
   "id": "17af5abe",
   "metadata": {},
   "source": [
    "Der Zuweisungsoperator ist äußerst wichtig in der Python-Programmierung. Daher\n",
    "empfehle ich Ihnen folgende Video."
   ]
  },
  {
   "cell_type": "code",
   "execution_count": 21,
   "id": "1d5ecdbb",
   "metadata": {
    "tags": [
     "remove-input"
    ]
   },
   "outputs": [
    {
     "data": {
      "text/html": [
       "\n",
       "<iframe\n",
       "    width=\"560\"\n",
       "    height=\"315\"\n",
       "    src=\"https://www.youtube.com/embed/XKFQ2_et5k8\"\n",
       "    frameborder=\"0\"\n",
       "    allowfullscreen\n",
       "\n",
       "></iframe>\n"
      ],
      "text/plain": [
       "<IPython.lib.display.IFrame at 0x1041f78b0>"
      ]
     },
     "execution_count": 21,
     "metadata": {},
     "output_type": "execute_result"
    }
   ],
   "source": [
    "IFrame( width=560, height=315, src=\"https://www.youtube.com/embed/XKFQ2_et5k8\")"
   ]
  },
  {
   "cell_type": "markdown",
   "id": "646cc336",
   "metadata": {},
   "source": [
    "### Richtlinien für Variablennamen\n",
    "\n",
    "Früher war der Speicherplatz von Computern klein, daher wurden häufig nur kurze\n",
    "Variablennamen wie beispielsweise i oder N verwendet. Heutzutage ist es\n",
    "Standard, nur in Ausnahmefällen (z.B. in Schleifen, dazu kommen wir noch) kurze\n",
    "Variablennamen zu nehmen. Stattdessen werden Namen benutzt, bei denen man\n",
    "erraten kann, was die Variable für einen Einsatzzweck hat. Beispielsweise lässt\n",
    "der Code"
   ]
  },
  {
   "cell_type": "code",
   "execution_count": 22,
   "id": "c000ed63",
   "metadata": {},
   "outputs": [
    {
     "name": "stdout",
     "output_type": "stream",
     "text": [
      "95.2\n"
     ]
    }
   ],
   "source": [
    "m = 0.19\n",
    "n = 80\n",
    "b = n + m * n\n",
    "print(b)"
   ]
  },
  {
   "cell_type": "markdown",
   "id": "fda3eb05",
   "metadata": {},
   "source": [
    "nur schwer vermuten, was damit bezweckt wird. Oder können Sie erahnen, was dort passieren soll?\n",
    "Dagegen erahnt man bei diesem Code schon eher, was bezweckt wird:"
   ]
  },
  {
   "cell_type": "code",
   "execution_count": 23,
   "id": "12e5c633",
   "metadata": {},
   "outputs": [
    {
     "name": "stdout",
     "output_type": "stream",
     "text": [
      "95.2\n"
     ]
    }
   ],
   "source": [
    "mehrwertsteuersatz = 19/100\n",
    "nettopreis = 80\n",
    "bruttopreis = nettopreis + mehrwertsteuersatz * nettopreis\n",
    "print(bruttopreis)"
   ]
  },
  {
   "cell_type": "markdown",
   "id": "f283ca5c",
   "metadata": {},
   "source": [
    "Verwenden Sie für Variablennamen nur ASCII-Zeichen, also keine Umlaute wie ö, ü\n",
    "oder ß. Zahlen sind erlaubt, aber nicht am Anfang des Namens. Es ist sinnvoll,\n",
    "lange Variablen durch einen Unterstrich besser lesbar zu gestalten (sogenannte\n",
    "Snake-Case-Formatierung). Ich empfehle für Variablennamen beispielsweise\n",
    "`dateiname_alt` oder `dateiname_neu`, wenn beispielsweise eine Datei umbenannt\n",
    "wird. Sie sind frei in der Gestaltung der Variablennamen, verboten sind nur die\n",
    "sogannnten **Schlüsselwörter**. Schlüsselwörter sind beispielsweise eingebaute\n",
    "Kommandos an den Python-Interpreter. Würden Sie diese als Variablennamen\n",
    "benutzen, wüsste der Python-Interpreter nicht, ob das Kommando oder die Variable\n",
    "gemeint ist.\n",
    "\n",
    "```{admonition} Mini-Übung\n",
    ":class: miniexercise\n",
    "Initialisieren Sie eine Variable namens alter mit Ihrem aktuellen Alter, eine Variable ``rentenalter`` mit dem Zahlenwert ``67`` und berechnen Sie dann, wie viele Jahre es noch bis zum Renteneintritt dauert. \n",
    "```"
   ]
  },
  {
   "cell_type": "code",
   "execution_count": 24,
   "id": "27ed3ffd",
   "metadata": {},
   "outputs": [],
   "source": [
    "# Geben Sie nach diesem Kommentar Ihren Code ein:\n",
    "\n"
   ]
  },
  {
   "cell_type": "markdown",
   "id": "f8144f28",
   "metadata": {},
   "source": [
    "````{admonition} Lösung\n",
    ":class: minisolution, toggle\n",
    "```python\n",
    "# Geben Sie nach diesem Kommentar Ihren Code ein:\n",
    "alter = 21\n",
    "rentenalter = 67\n",
    "print(rentenalter - alter)\n",
    "```\n",
    "````\n",
    "\n",
    "## Ein- und Ausgabe sowie das EVA-Prinzip\n",
    "\n",
    "Grundlegend geht es bei der Datenverarbeitung und vor allem bei der\n",
    "wissenschaftlichen Programmierung darum, Daten zu verarbeiten, wie der Name ja\n",
    "schon sagt sagt ;-) Selbst bei einer Smartphone-App zum Daddeln müssen Daten\n",
    "verarbeitet werden, nämlich das aktuelle Level, wo hat die Spielerin oder der\n",
    "Spieler gerade das Display berührt, was passiert in dem Spiel als nächstes usw.\n",
    "Grundsätzlich folgen datenverarbeitende Systeme dem sogenannten **EVA-Prinzip**.\n",
    "\n",
    "Wikipedia beschreibt das [EVA-Prinzip](https://de.wikipedia.org/wiki/EVA-Prinzip) wie folgt:\n",
    "> \"...Das EVA-Prinzip beschreibt ein Grundprinzip der Datenverarbeitung. Die\n",
    "  Abkürzung leitet sich aus den ersten Buchstaben der Begriffe Eingabe,\n",
    "  Verarbeitung und Ausgabe ab (englisch IPO model: input-process-output). Diese\n",
    "  drei Begriffe beschreiben die Reihenfolge, in der Daten verarbeitet werden.\"\n",
    "\n",
    "Typische Eingabe-Operationen sind dabei\n",
    "\n",
    "* die Eingabe von Zeichen über eine Tastatur oder\n",
    "* das Lesen von Dateien, die auf der Festplatte oder einem Speichermedium gespeichert sind.\n",
    "\n",
    "Häufige Ausgabe-Operationen sind\n",
    "\n",
    "* die Wiedergabe von Texten, Zahlen oder Bildern auf dem Bildschirm oder\n",
    "* das Schreiben von Dateien auf Festplatte oder Speichermedium.\n",
    "\n",
    "### Die input()-Funktion\n",
    "\n",
    "Die einfachste und häufigste **Eingabe** erfolgt über die Tastatur. Die Funktion\n",
    "`input()` stoppt das laufende Skript und erwartet eine Eingabe über die\n",
    "Tastatur. Dabei wird der Text angezeigt, der zwischen den einfachen Hochkommata\n",
    "steht. Bei Python wird die Eingabe als String interpretiert. Die Eingabe wird\n",
    "mit der Taste Return/Enter abgeschlossen. Probieren wir es aus:\n",
    "\n",
    "```python\n",
    "input('Bitte geben Sie Ihren Namen ein: ')\n",
    "```\n",
    "\n",
    "Wir haben zwar jetzt auf Aufforderung eine Zahl eingegeben, aber verarbeitet\n",
    "wurde diese Eingabe nicht. Es passierte einfach nichts. Um die Eingabe\n",
    "verarbeiten zu können, speichern wir sie zunächst in einer Variablen ab. \n",
    "\n",
    "```python\n",
    "x = input('Bitte geben Sie Ihren Namen ein: ');\n",
    "```\n",
    "\n",
    "Jetzt haben wir zwar den Namen in einer Variable gespeichert, aber so richtig\n",
    "passiert ist immer noch nichts. Jetzt wäre es noch schön, wenn wir dem Benutzer\n",
    "oder der Benutzerin unseres Skripts begrüßen können und einen entsprechenden Text\n",
    "anzeigen lassen können. Dazu verwenden wir erneut die `print()`-Funktion. \n",
    "\n",
    "```python\n",
    "print('Hallo')\n",
    "```\n",
    "Jetzt können wir alles zusammensetzen.\n",
    "\n",
    "```python\n",
    "x = input('Bitte geben Sie Ihren Namen ein: ');\n",
    "print('Hallo')\n",
    "print(x)\n",
    "```\n",
    "\n",
    "Kopieren Sie diesen Code in die nächste Code-Zelle und probieren Sie es aus!"
   ]
  },
  {
   "cell_type": "code",
   "execution_count": 25,
   "id": "4350f028",
   "metadata": {},
   "outputs": [],
   "source": [
    "# Geben Sie nach diesem Kommentar Ihren Code ein:\n",
    "\n"
   ]
  },
  {
   "cell_type": "markdown",
   "id": "374ca03b",
   "metadata": {},
   "source": [
    "In dem folgenden Video sehen Sie weitere Erläuterungen zur input()-Funktion."
   ]
  },
  {
   "cell_type": "code",
   "execution_count": 26,
   "id": "eea35794",
   "metadata": {
    "tags": [
     "remove-input"
    ]
   },
   "outputs": [
    {
     "data": {
      "text/html": [
       "\n",
       "<iframe\n",
       "    width=\"560\"\n",
       "    height=\"315\"\n",
       "    src=\"https://www.youtube.com/embed/I9h1c-121Uk\"\n",
       "    frameborder=\"0\"\n",
       "    allowfullscreen\n",
       "\n",
       "></iframe>\n"
      ],
      "text/plain": [
       "<IPython.lib.display.IFrame at 0x1041abd30>"
      ]
     },
     "execution_count": 26,
     "metadata": {},
     "output_type": "execute_result"
    }
   ],
   "source": [
    "IFrame(width=560, height=315, src=\"https://www.youtube.com/embed/I9h1c-121Uk\")"
   ]
  },
  {
   "cell_type": "markdown",
   "id": "2446feeb",
   "metadata": {},
   "source": [
    "### Umwandlung von Datentypen\n",
    "\n",
    "Die input()-Funktion hat eine Einschränkung. Bei ihrer Einführung wurde in einem\n",
    "Nebensatz erwähnt, dass die input()-Funktion Strings zurückgibt. Das ist eine\n",
    "häufige Fehlerquelle in der Programmierung, wenn man nach Zahlen fragt.\n",
    "Glücklicherweise gibt es dafür eine einfache Lösung. Wir können einen String in\n",
    "einen Integer oder Float verwandeln, indem wir die Funktionen `int()` oder\n",
    "`float()` benutzen. Wenn also nach einer Zahl per input()-Funktion gefrgt werden\n",
    "soll wie beispielsweise dem Alter einer Person, so lautet der Code wie folgt:\n",
    "\n",
    "```python\n",
    "x = int( input('Wie alt sind Sie?) )\n",
    "print('Alter: ')\n",
    "print(x)\n",
    "```\n",
    "\n",
    "Und soll es eine Fließkommazahl werden, so können wir folgendermaßen den\n",
    "Python-Interpreter fragen lassen:\n",
    "\n",
    "```python\n",
    "x = int( input('Wie groß sind Sie gemessen in Metern?) )\n",
    "print('Größe in m')\n",
    "print(x)\n",
    "```\n",
    "\n",
    "Probieren Sie gerne beide Varianten in der nächsten Code-Zelle aus."
   ]
  },
  {
   "cell_type": "code",
   "execution_count": 27,
   "id": "16e5e835",
   "metadata": {},
   "outputs": [],
   "source": [
    "# Geben Sie nach diesem Kommentar Ihren Code ein:\n",
    "\n"
   ]
  },
  {
   "cell_type": "markdown",
   "id": "7af702e1",
   "metadata": {},
   "source": [
    "Wenn Sie mehr über das sogenannte Type-Casting erfahren wollen, finden Sie\n",
    "Details in diesem Video:"
   ]
  },
  {
   "cell_type": "code",
   "execution_count": 28,
   "id": "1fc06020",
   "metadata": {
    "tags": [
     "remove-input"
    ]
   },
   "outputs": [
    {
     "data": {
      "text/html": [
       "\n",
       "<iframe\n",
       "    width=\"560\"\n",
       "    height=\"315\"\n",
       "    src=\"https://www.youtube.com/embed/u_ECGvn1Z2c\"\n",
       "    frameborder=\"0\"\n",
       "    allowfullscreen\n",
       "\n",
       "></iframe>\n"
      ],
      "text/plain": [
       "<IPython.lib.display.IFrame at 0x1041f7910>"
      ]
     },
     "execution_count": 28,
     "metadata": {},
     "output_type": "execute_result"
    }
   ],
   "source": [
    "IFrame(width=560, height=315, src=\"https://www.youtube.com/embed/u_ECGvn1Z2c\")"
   ]
  },
  {
   "cell_type": "markdown",
   "id": "75444929",
   "metadata": {},
   "source": [
    "## Zusammenfassung und Ausblick\n",
    "\n",
    "Der Einstieg in die wissenschaftliche Programmierung mit Python ist zunächst\n",
    "theoretisch. Zuerst haben wir uns mit grundlegenden Fachbegriffen der\n",
    "theoretischen Informatik und dem EVA-Prinzip beschäftigt. Aber bereits mit den\n",
    "ersten Funktionen in Python wie `input()` und `print()` sowie der Benutzung von\n",
    "Variablen können wir erste Python-Skripte programmieren."
   ]
  }
 ],
 "metadata": {
  "jupytext": {
   "formats": "ipynb,md:myst",
   "text_representation": {
    "extension": ".md",
    "format_name": "myst",
    "format_version": 0.13,
    "jupytext_version": "1.13.8"
   }
  },
  "kernelspec": {
   "display_name": "Python 3 (ipykernel)",
   "language": "python",
   "name": "python3"
  },
  "language_info": {
   "codemirror_mode": {
    "name": "ipython",
    "version": 3
   },
   "file_extension": ".py",
   "mimetype": "text/x-python",
   "name": "python",
   "nbconvert_exporter": "python",
   "pygments_lexer": "ipython3",
   "version": "3.9.13"
  },
  "source_map": [
   16,
   19,
   107,
   110,
   125,
   128,
   263,
   266,
   321,
   323,
   330,
   332,
   337,
   340,
   343,
   346,
   349,
   351,
   355,
   358,
   370,
   372,
   377,
   380,
   397,
   399,
   404,
   407,
   409,
   426,
   430,
   435,
   438,
   472,
   476,
   481,
   484,
   495,
   500,
   505,
   510,
   527,
   531,
   605,
   609,
   613,
   616,
   645,
   649,
   654,
   657
  ]
 },
 "nbformat": 4,
 "nbformat_minor": 5
}