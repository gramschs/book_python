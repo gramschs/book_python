{
 "cells": [
  {
   "cell_type": "markdown",
   "id": "4bbb7777",
   "metadata": {},
   "source": [
    "# Einstieg in die Programmierung mit Python\n",
    "\n",
    "## Lernziele\n",
    "\n",
    "Dieses Jupyter Notebook ist der Einstieg in die wissenschaftliche Programmierung\n",
    "mit Python. Zuerst werden wir Python als Taschenrechner benutzen. Danach\n",
    "beschäftigen wir uns mit grundlegenden Begriffen der Informatik, nämlich\n",
    "\n",
    "* Hardware und Software,\n",
    "* Programm und Skript,\n",
    "* kompilierte und interpretierte Programmiersprachen sowie\n",
    "* Betriebssystem, Anwendungssoftware (App) und Bibliotheken (Toolbox).\n",
    "\n",
    "Nach dem kurzen Ausflug in die Theorie der Informatik widmen wir uns einfachen\n",
    "Datentypen und Variablen. Zusammen mit einfachen Python-Kommandos, um Eingaben\n",
    "einer Benutzerin oder eines Benutzers abzufragen und auf dem Bildschirm\n",
    "auszugeben, wird es uns möglich, erste kleinere Python-Skripte zu schreiben.\n",
    "Das entspricht auch dem grundlegenden Ablauf in der Datenverarbeitung, dem\n",
    "EVA-Prinzip, das für Eingabe, Verarbeitung und Ausgabe steht.\n",
    "\n",
    "## Python als Taschenrechner\n",
    "\n",
    "Was ist überhaupt Python? Wikipedia erklärt \n",
    "[Python](https://de.wikipedia.org/wiki/Python_(Programmiersprache)) folgendermaßen: \n",
    "\n",
    "> Python ([ˈpʰaɪθn̩], [ˈpʰaɪθɑn], auf Deutsch auch [ˈpʰyːtɔn]) ist eine\n",
    "  universelle, üblicherweise interpretierte, höhere Programmiersprache. Sie hat\n",
    "  den Anspruch, einen gut lesbaren, knappen Programmierstil zu fördern. So\n",
    "  werden beispielsweise Blöcke nicht durch geschweifte Klammern, sondern durch\n",
    "  Einrückungen strukturiert.\n",
    "\n",
    "Wenn Sie das dazugehörige Jupyter Notebook in Python (Jupyter Lab) öffnen,\n",
    "können Sie Code-Zellen direkt ausführen lassen. \n",
    "\n",
    "Ansonsten kopieren Sie bitte den Inhalt der Code-Zellen in Ihr Python-Programm,\n",
    "um die nachfolgenden Ausführungen direkt nachvollziehen zu können.\n",
    "\n",
    "Addition:"
   ]
  },
  {
   "cell_type": "code",
   "execution_count": 1,
   "id": "302a1b33",
   "metadata": {},
   "outputs": [
    {
     "data": {
      "text/plain": [
       "5"
      ]
     },
     "execution_count": 1,
     "metadata": {},
     "output_type": "execute_result"
    }
   ],
   "source": [
    "2+3"
   ]
  },
  {
   "cell_type": "markdown",
   "id": "0f713411",
   "metadata": {},
   "source": [
    "Subtraktion:"
   ]
  },
  {
   "cell_type": "code",
   "execution_count": 2,
   "id": "7dd407f0",
   "metadata": {},
   "outputs": [
    {
     "data": {
      "text/plain": [
       "-1"
      ]
     },
     "execution_count": 2,
     "metadata": {},
     "output_type": "execute_result"
    }
   ],
   "source": [
    "2-3"
   ]
  },
  {
   "cell_type": "markdown",
   "id": "1f20640c",
   "metadata": {},
   "source": [
    "Multiplikation:"
   ]
  },
  {
   "cell_type": "code",
   "execution_count": 3,
   "id": "7ff5f376",
   "metadata": {},
   "outputs": [
    {
     "data": {
      "text/plain": [
       "8"
      ]
     },
     "execution_count": 3,
     "metadata": {},
     "output_type": "execute_result"
    }
   ],
   "source": [
    "2*4"
   ]
  },
  {
   "cell_type": "markdown",
   "id": "f49c0242",
   "metadata": {},
   "source": [
    "Division:"
   ]
  },
  {
   "cell_type": "code",
   "execution_count": 4,
   "id": "a0a4a115",
   "metadata": {},
   "outputs": [
    {
     "data": {
      "text/plain": [
       "4.0"
      ]
     },
     "execution_count": 4,
     "metadata": {},
     "output_type": "execute_result"
    }
   ],
   "source": [
    "8/2"
   ]
  },
  {
   "cell_type": "markdown",
   "id": "0cf64482",
   "metadata": {},
   "source": [
    "Potenzierung:"
   ]
  },
  {
   "cell_type": "code",
   "execution_count": 5,
   "id": "44b67731",
   "metadata": {},
   "outputs": [
    {
     "data": {
      "text/plain": [
       "9"
      ]
     },
     "execution_count": 5,
     "metadata": {},
     "output_type": "execute_result"
    }
   ],
   "source": [
    "3**2"
   ]
  },
  {
   "cell_type": "markdown",
   "id": "055a2b04",
   "metadata": {},
   "source": [
    "Selbstverständlich beherrscht Python auch Klammerregeln. Gerne können Sie den\n",
    "Term  durch Python berechnen lassen, probieren Sie es doch einmal selbst aus! In\n",
    "der folgenden Code-Zelle ist Platz für Ihren Python-Code. Die Code-Zelle ist\n",
    "zunächst mit einem Kommentar beschriftet, in diese Fall mit dem Kommentar"
   ]
  },
  {
   "cell_type": "code",
   "execution_count": 6,
   "id": "ebd03466",
   "metadata": {},
   "outputs": [],
   "source": [
    "# Hier Ihr Code"
   ]
  },
  {
   "cell_type": "markdown",
   "id": "1ec89a5a",
   "metadata": {},
   "source": [
    "Alles was nach dem Hashtag kommt, wird von Python ignoriert. Die sogenannten\n",
    "Kommentare, die durch das Hashtag-Zeichen eingeleitet werden, sind für uns\n",
    "Menschen bestimmt.\n",
    "\n",
    "```{exercise}\n",
    ":label: part01_miniexercise01\n",
    "Lassen Sie Python den Term $3\\cdot (7-10)+5$ berechnen.\n",
    "```\n",
    "````{solution} part01_miniexercise01\n",
    ":label: part01_minisolution01\n",
    ":class: dropdown\n",
    "```python\n",
    "3 * (7-10) + 5\n",
    "```\n",
    "````\n",
    "\n",
    "## Python als Programmiersprache\n",
    "\n",
    "Programme oder Skripte, die in Python programmiert werden, können in der Regel\n",
    "auch nur in Python ausgeführt werden. \n",
    "\n",
    "Aber ... \n",
    "* Was ist überhaupt ein Programm oder ein Skript? \n",
    "* Was ist der Unterschied zwischen einer App und einer Software? \n",
    "* Was sind Programmiersprachen?\n",
    "* Was ist ein Interpreter und was ist ein Compiler?\n",
    "* Und was hat es mit den Toolboxen auf sich?\n",
    "\n",
    "Fangen wir erstmal von vorne an mit der grundlegen Bedeutung des Fachbegriffes\n",
    "Software im Unterschied zu Hardware.\n",
    "\n",
    "### Hardware und Software\n",
    "\n",
    "Computer, mobile Geräte wie Smartphones oder auch technische Systeme wie eine\n",
    "Anlagensteuerung bestehen aus zwei Komponenten: Hardware und Software. Dabei\n",
    "bezeichnen wir mit Hardware alle physischen Kompenten eines Systems, also die\n",
    "elektronischen und mechanischen Bauteile. Die Software dahingegen umfasst die\n",
    "Programme und deren Dokumentation sowie Daten. Man könnte auch sagen, dass\n",
    "Hardware die materiellen Teile eines Computersystems bezeichnet, während\n",
    "Software die nicht-materiellen Teile zusammenfasst. \n",
    "\n",
    "Bitte schauen Sie sich jetzt kurz um. Welche Hardware fällt Ihnen auf, wenn Sie\n",
    "den Blick schweifen lassen? Tragen Sie in die nächste Text-Zelle Ihre Hardware\n",
    "ein.\n",
    "\n",
    "```{exercise}\n",
    ":label: part01_miniexercise02\n",
    "Tragen Sie hier die Hardware ein, die Sie gerade sehen oder die Ihnen generell einfällt:\n",
    "* xxx\n",
    "* xxx\n",
    "```\n",
    "````{solution} part01_miniexercise02\n",
    ":label: part01_minisolution02\n",
    ":class: dropdown\n",
    "* Monitor\n",
    "* Maus\n",
    "* Tastatur\n",
    "* PC\n",
    "* Webcam (Kamera)\n",
    "* Headset\n",
    "* ...\n",
    "````\n",
    "\n",
    "Nachdem Sie Ihre Komponenten notiert haben, können Sie den Begriff\n",
    "[Hardware](https://de.wikipedia.org/wiki/Hardware) noch einmal bei Wikipedia\n",
    "nachlesen. Wikibooks bietet auch ein passendes Buch zu\n",
    "[Computerhardware](https://de.wikibooks.org/wiki/Computerhardware) an.\n",
    "\n",
    "Software ist eine Zusammenfassung der nicht-materiellen Komponenten eines\n",
    "Computersystems. Wikipedia listet hier gleich drei verschiedene ISO-Normen zur\n",
    "Definition von [Software](https://de.wikipedia.org/wiki/Software) auf.\n",
    "\n",
    "Wir verwenden im Folgenden die weitreichendste Definition von Software, wonach\n",
    "Software\n",
    "\n",
    "* Programme\n",
    "* Dokumentation und\n",
    "* Daten\n",
    "\n",
    "umfasst.\n",
    "\n",
    "Die letzteren beiden Begriffe sind am einfachsten zu erklären, Mit Dokumentation\n",
    "sind Bedienungsanleitungen und Handbücher gemeint, aber auch die technische\n",
    "Dokumentation, die für andere Informatiker:innen gedacht ist und in die\n",
    "Benutzer:innen eines Computersystems in der Regel keinen Einblick haben. Daten\n",
    "wiederum sind alle Beobachtungen oder Messungen. In der digitalisierten Form\n",
    "werden sie normalerweise durch Zahlenwerte repräsentiert. \n",
    "\n",
    "Es gibt viele Programmiersprachen und jede hat ihre Vorteile und ihre Nachteile.\n",
    "Aber was ist eine Programmiersprache überhaupt? Eine Programmiersprache ist die\n",
    "formale Sprache zur Formulierung von Datenstrukturen und Algorithmen (= Abfolge\n",
    "von Anweisungen), die von einem Computer ausgeführt werden können. Es gibt nicht\n",
    "die wichtigste oder beste Programmiersprache, sondern die Auswahl der\n",
    "Programmiersprache sollte sich stets nach der anvisierten Anwendung richten. Der\n",
    "sogenannte Tiobe-Index zeigt die Beliebtheit der 50 wichtigsten\n",
    "Programmiersprachen: \n",
    "\n",
    "https://www.tiobe.com/tiobe-index/ \n",
    "\n",
    "In der Anfangszeit der Computer waren Programmiersprachen noch sehr nahe am Computern ausgerichtet. Hier sehen Sie ein Beispiel, wie in der Programmiersprache Assembler die Meldung \"Hallo Welt\" auf dem Monitor angezeigt wird:\n",
    "\n",
    "```{figure} pics/part01_assembler.png\n",
    ":name: part01_assembler\n",
    "\n",
    "\"Hallo Welt\" in Assembler (Quelle: https://de.wikipedia.org/wiki/Assemblersprache)\n",
    "```\n",
    "\n",
    "In Python ist dieser Programmcode wesentlich kürzer (in die Code-Zelle klicken und Run Section ausführen):"
   ]
  },
  {
   "cell_type": "code",
   "execution_count": 7,
   "id": "28009458",
   "metadata": {},
   "outputs": [
    {
     "name": "stdout",
     "output_type": "stream",
     "text": [
      "Hallo Welt\n"
     ]
    }
   ],
   "source": [
    "print('Hallo Welt')"
   ]
  },
  {
   "cell_type": "markdown",
   "id": "40405783",
   "metadata": {},
   "source": [
    "```{exercise}\n",
    ":label: part01_miniexercise03\n",
    "Kopieren Sie die Zeile `print('Hallo Welt')` in die nächste Code-Zelle unter die Kommentarzeile und ersetzen Sie Welt durch Ihren Namen. Ihr erstes Computerprogramm in Python :-)\n",
    "```\n",
    "````{solution} part01_miniexercise03\n",
    ":label: part01_minisolution03\n",
    ":class: dropdown\n",
    "```python\n",
    "print('Hallo Simone')\n",
    "```\n",
    "````\n",
    "\n",
    "Heute werden nur noch die sogenannten höheren Programmiersprachen verwendet (wie\n",
    "Python, MATLAB oder C++), die für Menschen leichter verständlich sind. Dafür\n",
    "müssen dann Programme, die in höheren Programmiersprachen geschrieben sind, in\n",
    "**Maschinensprache** übersetzt werden. Verschiedene Programmiersprachen\n",
    "verwenden dazu unterschiedliche Prinzipien. Die beiden wichtigsten Vertreter\n",
    "sind **Compiler-Programmiersprachen** und **Interpreter-Programmiersprachen**. \n",
    "\n",
    "Bei Compiler-Programmiersprachen wird der Programmcode vorab in Maschinensprache\n",
    "übersetzt und der Anwender erhält die Anwendungssoftware in Maschinensprache\n",
    "(bei Windows beispielsweise als exe-Datei). Den Vorgang des Übersetzens nennt\n",
    "man **Kompilieren**. Bei Interpreter-Sprachen wird der Code in dem Moment in\n",
    "Maschinensprache übersetzt, in dem das Programm läuft bzw. ausgeführt wird.\n",
    "Während also das Programm läuft, muss gleichzeitig – quasi im Hintergrund – der\n",
    "Übersetzer arbeiten und die höhere Programmiersprache in Maschinensprache\n",
    "**interpretieren**. Daher der Name Interpreter-Sprache. Manchmal wird Code, der\n",
    "kompiliert wurde und dann eigenständig lauffähig ist, als **Programm**\n",
    "bezeichnet. Dahingegen wird Code, der interpretiert wird und dringend auf einen\n",
    "gerade laufenden Interpreter angewiesen ist, oft als Skript bezeichnet. Im\n",
    "Alltag geht diese Unterscheidung meist unter und wir verwenden den Begriff\n",
    "Programm auch für Python-Skripte.\n",
    "\n",
    "```{exercise}\n",
    ":label: part01_miniexercise04\n",
    "Recherchieren Sie im Internet und schreiben Sie Ihre Antworten in diese Text-Zelle.\n",
    "\n",
    "1. Ordnen Sie folgende Programmiersprachen den beiden Kategorien Compiler-Sprache oder Interpreter-Sprache zu: C, C++, Fortran, Java, Matlab und Python.\n",
    "2. Stellen Sie eine Vermutung auf: in welcher Programmiersprache können die schnelleren Programme geschrieben werden?\n",
    "3. Raten Sie: welche Programmiersprachen sind leichter zu lernen und warum?\n",
    "```\n",
    "````{solution} part01_miniexercise04\n",
    ":label: part01_minisolution04\n",
    ":class: dropdown\n",
    "* Antwort 1:\n",
    "Compiler-Sprache: C, C++, Fortran\n",
    "Interpreter-Sprache: Java, Matlab, Python\n",
    "* Antwort 2:\n",
    "In der Regel sind Programme, die in einer Compiler-Sprache geschrieben wurden, schneller als interpretierte Programme. \n",
    "* Antwort 3:\n",
    "In der Regel sind interpretierte Programmiersprachen leichter zu lernen, da beispielsweise Code zeilenweise auf seine Korrektheit hin überprüft werden kann.\n",
    "````\n",
    "\n",
    "Die wichtigste Software eines jeden Computersystems ist das **Betriebssystem**.\n",
    "Das [Betriebssystem](https://de.wikipedia.org/wiki/Betriebssystem) umfasst alle\n",
    "Computerprogramme, die notwendig sind, um überhaupt den Computer zu betreiben,\n",
    "zu starten oder zu benutzen. Das Betriebssystem hat laut Wikipedia folgende\n",
    "Aufgaben: \n",
    "\n",
    "> ... Benutzerkommunikation; Laden, Ausführen, Unterbrechen und Beenden von\n",
    "  Programmen; Verwaltung und Zuteilung der Prozessorzeit; Verwaltung des\n",
    "  internen Speicherplatzes für Anwendungen; Verwaltung und Betrieb der\n",
    "  angeschlossenen Geräte; Schutzfunktionen z. B. durch Zugriffsbeschränkungen.\"\n",
    "\n",
    "Viele Menschen denken bei Software zuerst an **Anwendungssoftware** (siehe\n",
    "https://de.wikipedia.org/wiki/Anwendungssoftware). Das sind Computerprogramme,\n",
    "die einen speziellen Zweck erfüllen sollen und den Benutzer oder die Benutzerin\n",
    "bei Aufgaben unterstützen. Im Englischen werden solche Computerprogramme auch\n",
    "als **Application** (= Anwendung, Verwendung, Einsatz) bezeichnet. 2008 hat die\n",
    "Firma Apple den \"iOS App Store\" gegründet, um Anwendungssoftware für das iPhone\n",
    "zu vertreiben. Seitdem wird immer häufiger auch im deutschen Sprachraum der Name\n",
    "Application oder App für verwendet. Vielfach steht \"Application\" eher für\n",
    "PC-Anwendungssoftware und der Kurzname \"App\" für Anwendungssoftware für Tablets\n",
    "und Smartphones.  \n",
    "\n",
    "Für Softwareentwickler sind — neben der Programmiersprache und den\n",
    "Software-Entwicklungswerkzeugen — vor allem Bibiotheken wichtig. Eine\n",
    "**Bibliothek** (siehe https://de.wikipedia.org/wiki/Programmbibliothek) ist eine\n",
    "Sammlung von Programmen, die zwar einen bestimmten Zweck haben, aber\n",
    "eigenständig nicht lauffähig werden. Diese Programmbibiotheken werden von\n",
    "Programmiererinnen und Programmieren benutzt, um nicht ständig neu das Rad\n",
    "erfinden zu müssen. Beispielsweise würde es den Software-Entwickungsprozess\n",
    "verlangsamen, wenn jedesmal neu ein Programm geschrieben werden müsste, dass die\n",
    "Wurzel einer Zahl berechnet oder ein Ergebnis einer Berechnung in eine Datei auf\n",
    "die Festplatte schreibt. Diese Spezialaufgaben wurden bereits von anderen\n",
    "Software-Entwickler:innen implmentiert und werden dann über die Bibliotheken der\n",
    "Gemeinschaft zur Verfügung gestellt.\n",
    "\n",
    "## Einfache Datentypen: Integer, Floats und Strings\n",
    "\n",
    "Der Computer kann Informationen nur als 0 oder 1 verarbeiten. Auf dem\n",
    "Speichermedium oder im Speicher selbst werden Daten daher als eine Folge von 0\n",
    "und 1 gespeichert. Damit es für uns Programmiererinnen und Programmierer\n",
    "einfacher wird, Daten zu speichern und zu verarbeiten, wurden Datentypen\n",
    "eingeführt.  \n",
    "\n",
    "**Datentypen** fassen gleichartige Objekte zusammen und stellen passende\n",
    "Operationen zur Verfügung. Es hängt von der Programmiersprache ab, welche\n",
    "Datentypen zur Verfügung stehen, wie diese im Hintergrund gespeichtert werden\n",
    "und welche Operationen damit möglich sind. In diesem Vorlesungsskript\n",
    "beschäftigen wir uns mit den einfachen Datentypen\n",
    "\n",
    "* Integer\n",
    "* Float\n",
    "* String\n",
    "\n",
    "In der Programmierung unterscheidet man grundsätzlich zwischen zwei Zahlenarten,\n",
    "den **Ganzzahlen** und den Gleitkommazahlen/**Fließkommazahlen**. Die Ganzzahlen\n",
    "werden in der Mathematik als ganze Zahlen bezeichnet. In der Informatik wird\n",
    "meist der englische Begriff **Integer** verwendet. Mit Integern können wir ganz\n",
    "normal rechnen, also Operationen ausführen. Einige davon haben wir ja bereits\n",
    "ausprobiert, als wir Python als Taschenrechner benutzt haben:"
   ]
  },
  {
   "cell_type": "code",
   "execution_count": 8,
   "id": "6d211e33",
   "metadata": {},
   "outputs": [
    {
     "data": {
      "text/plain": [
       "14"
      ]
     },
     "execution_count": 8,
     "metadata": {},
     "output_type": "execute_result"
    }
   ],
   "source": [
    "23 + 4\n",
    "2 * (3 + 4)"
   ]
  },
  {
   "cell_type": "markdown",
   "id": "cbe70de5",
   "metadata": {},
   "source": [
    "Sobald wir eine Division vorliegen haben, die nicht aufgeht, verlassen wir den Bereich der ganzen Zahlen und kommen automatisch zu den Fließkommazahlen. In der Informatik wird eine Fließkommazahl als Float bezeichnet. Python rechnet automatisch mit dem richtigen Datentyp, wie Sie hier sehen:"
   ]
  },
  {
   "cell_type": "code",
   "execution_count": 9,
   "id": "3405ffc7",
   "metadata": {},
   "outputs": [
    {
     "data": {
      "text/plain": [
       "0.4"
      ]
     },
     "execution_count": 9,
     "metadata": {},
     "output_type": "execute_result"
    }
   ],
   "source": [
    "2/5"
   ]
  },
  {
   "cell_type": "markdown",
   "id": "6419f99a",
   "metadata": {},
   "source": [
    "Beachten Sie bitte: Das Dezimaltrennzeichen ist ein Punkt, nicht ein Komma wie im Deutschen. Aber ansonsten funktioniert alles wie erwartet:"
   ]
  },
  {
   "cell_type": "code",
   "execution_count": 10,
   "id": "71e5051a",
   "metadata": {},
   "outputs": [
    {
     "data": {
      "text/plain": [
       "6.8999999999999995"
      ]
     },
     "execution_count": 10,
     "metadata": {},
     "output_type": "execute_result"
    }
   ],
   "source": [
    "2.3 + 4.6"
   ]
  },
  {
   "cell_type": "code",
   "execution_count": 11,
   "id": "46f3ada3",
   "metadata": {},
   "outputs": [
    {
     "data": {
      "text/plain": [
       "-3.8000000000000003"
      ]
     },
     "execution_count": 11,
     "metadata": {},
     "output_type": "execute_result"
    }
   ],
   "source": [
    "1.4 - 5.2"
   ]
  },
  {
   "cell_type": "code",
   "execution_count": 12,
   "id": "d1a51dbd",
   "metadata": {},
   "outputs": [
    {
     "data": {
      "text/plain": [
       "-11.78"
      ]
     },
     "execution_count": 12,
     "metadata": {},
     "output_type": "execute_result"
    }
   ],
   "source": [
    "(-3.8) * 3.1"
   ]
  },
  {
   "cell_type": "code",
   "execution_count": 13,
   "id": "85067933",
   "metadata": {},
   "outputs": [
    {
     "data": {
      "text/plain": [
       "8.0"
      ]
     },
     "execution_count": 13,
     "metadata": {},
     "output_type": "execute_result"
    }
   ],
   "source": [
    "2.4 / 0.3"
   ]
  },
  {
   "cell_type": "code",
   "execution_count": 14,
   "id": "dc72baf7",
   "metadata": {},
   "outputs": [
    {
     "data": {
      "text/plain": [
       "9536.7431640625"
      ]
     },
     "execution_count": 14,
     "metadata": {},
     "output_type": "execute_result"
    }
   ],
   "source": [
    "2.5**10"
   ]
  },
  {
   "cell_type": "markdown",
   "id": "643f42ad",
   "metadata": {},
   "source": [
    "Daten sind aber sehr oft keine Zahlen. Beispielsweise könnte man sich\n",
    "vorstellen, eine Einkaufsliste zu erstellen und diese im Computer oder in einer\n",
    "Notiz-App auf dem Handy zu speichern. Eine solche Zeichenkette heißt in der\n",
    "Informatik **String**. Mit Zeichen meint man dabei Zahlen, Buchstaben oder\n",
    "andere wie beispielsweise !\"§$%&/()=?.\n",
    "\n",
    "Strings werden in Python durch doppelte Anführungszeichen definiert:"
   ]
  },
  {
   "cell_type": "code",
   "execution_count": 15,
   "id": "2fddd398",
   "metadata": {},
   "outputs": [
    {
     "data": {
      "text/plain": [
       "'Dies ist ein String!'"
      ]
     },
     "execution_count": 15,
     "metadata": {},
     "output_type": "execute_result"
    }
   ],
   "source": [
    "\"Dies ist ein String!\""
   ]
  },
  {
   "cell_type": "markdown",
   "id": "3cf6130c",
   "metadata": {},
   "source": [
    "Auf Strings und ihre Anwendungen kommen wir später noch zurück.\n",
    "\n",
    "## Variablen\n",
    "\n",
    "**Variablen** sind beschriftete Schubladen. Oder anders formuliert sind\n",
    "Variablen Objekte, denen man einen Namen gibt. Technisch gesehen sind diese\n",
    "Schubladen ein kleiner Bereich im Arbeitsspeicher des Computers. Was in diesen\n",
    "Schubladen aufbewahrt wird, kann sehr unterschiedlich sein. Beispielsweise die\n",
    "Telefonnummer des ADAC-Pannendienstes, die 10. Nachkommastelle von Pi oder die\n",
    "aktuelle Position des Mauszeigers können in den Schubladen enthalten sein. \n",
    "\n",
    "Wir verwenden Variablen, um bestimmte Werte oder ein bestimmtes Objekt zu\n",
    "speichern. Eine Variable wird durch **Zuweisung** erzeugt. Damit meinen wir,\n",
    "dass eine Schublade angelegt wird und die Schublade dann erstmalig gefüllt wird.\n",
    "Das erstmalige Füllen der Schublade nennt man in der Informatik auch\n",
    "**Initialisieren**."
   ]
  },
  {
   "cell_type": "code",
   "execution_count": 16,
   "id": "6672e29b",
   "metadata": {},
   "outputs": [],
   "source": [
    "x = 0.5"
   ]
  },
  {
   "cell_type": "markdown",
   "id": "21559d39",
   "metadata": {},
   "source": [
    "Sobald die Variable x in diesem Beispiel durch eine Zuweisung von 0.5 erstellt\n",
    "wurde, können wir sie verwenden:"
   ]
  },
  {
   "cell_type": "code",
   "execution_count": 17,
   "id": "1d2c5213",
   "metadata": {},
   "outputs": [
    {
     "data": {
      "text/plain": [
       "18.3"
      ]
     },
     "execution_count": 17,
     "metadata": {},
     "output_type": "execute_result"
    }
   ],
   "source": [
    "x * 3\n",
    "x + 17.8"
   ]
  },
  {
   "cell_type": "markdown",
   "id": "0887e7aa",
   "metadata": {},
   "source": [
    "Wichtig ist, dass das = in der Informatik eine andere Bedeutung hat als in der\n",
    "Mathematik. = meint nicht das Gleichheitszeichen, sondern den sogenannten\n",
    "Zuweisungsoperator. Das ist in der Programmierung ein Kommando, das eine\n",
    "Schublade befüllt oder technischer ausgedrückt, ein Objekt einer Variable\n",
    "zuweist.\n",
    "\n",
    "Variablen müssen initialisiert (erstmalig mit einem Wert versehen) werden, bevor\n",
    "sie verwendet werden können, sonst tritt ein Fehler auf. \n",
    "\n",
    "```{exercise}\n",
    ":label: part01_miniexercise05\n",
    "Schreiben Sie in die nächste Code-Zelle einfach den Buchstaben `n` unter die Kommentarzeile und lassen Sie dann die Code-Zelle mit `Run Section` vom Python-Interpreter ausführen. Was beobachten Sie? Recherchieren Sie im Internet nach der Fehlermeldung. \n",
    "```\n",
    "````{solution} part01_miniexercise05\n",
    ":label: part01_minisolution05\n",
    ":class: dropdown\n",
    "```python\n",
    "n\n",
    "```\n",
    "Der Interpreter zeigt in rot eine Fehlermeldung an: \"Unrecognized function or variable 'n'.\" Damit weist der Interpreter darauf hin, dass die Variable bisher nicht mit einem Wert versehen wurde, sie ist nicht intialisiert worden. Daher kann damit auch nicht gearbeitet werden.\n",
    "````\n",
    "\n",
    "Sehr häufig findet man Code wie\n",
    "\n",
    "```python\n",
    "x = x + 1\n",
    "```\n",
    "\n",
    "Würden wir dies als Gleichung lesen, wie wir es aus der Mathematik gewohnt sind,\n",
    "also $x = x+1$, könnten wir $x$ auf beiden Seiten subtrahieren und erhalten\n",
    "$0=1$. Wir wissen, dass dies nicht wahr ist, also stimmt hier etwas nicht.\n",
    "\n",
    "In Python sind \"Gleichungen\" keine mathematischen Gleichungen, sondern\n",
    "Zuweisungen. \"=\" ist kein Gleichheitszeichen im mathematischen Sinne, sondern\n",
    "eine Zuweisung. Die Zuweisung muss immer in der folgenden Weise zweistufig\n",
    "gelesen werden:\n",
    "1. Berechne den Wert auf der rechten Seite (also $x+1$).\n",
    "2. Weise den Wert auf der rechten Seite dem auf der linken Seite stehenden\n",
    "   Variablennamen zu."
   ]
  },
  {
   "cell_type": "code",
   "execution_count": 18,
   "id": "a519f1af",
   "metadata": {},
   "outputs": [
    {
     "data": {
      "text/plain": [
       "5"
      ]
     },
     "execution_count": 18,
     "metadata": {},
     "output_type": "execute_result"
    }
   ],
   "source": [
    "x = 4     \n",
    "x = x + 1\n",
    "x"
   ]
  },
  {
   "cell_type": "markdown",
   "id": "1d4a1bf8",
   "metadata": {},
   "source": [
    "Python gibt automatisch den Variablennamen mit seinen Inhalt aus, wenn wir die Code-Zelle ausführen. Gerade wenn man ein Programm entwickelt, ist dies sehr praktisch, weil man schnell sieht, welchen Inhalt Variablen haben.\n",
    "\n",
    "Richtlinien für Variablennamen:\n",
    "\n",
    "Früher war der Speicherplatz von Computern klein, daher wurden häufig nur kurze Variablennamen wie beispielsweise i oder N verwendet. Heutzutage ist es Standard, nur in Ausnahmefällen (z.B. in Schleifen, dazu kommen wir noch) kurze Variablennamen zu nehmen. Stattdessen werden Namen benutzt, bei denen man erraten kann, was die Variable für einen Einsatzzweck hat. Beispielsweise lässt der Code"
   ]
  },
  {
   "cell_type": "code",
   "execution_count": 19,
   "id": "07cde982",
   "metadata": {},
   "outputs": [],
   "source": [
    "m = 0.19\n",
    "n = 80\n",
    "b = n + m * n"
   ]
  },
  {
   "cell_type": "markdown",
   "id": "7927cb0c",
   "metadata": {},
   "source": [
    "nur schwer vermuten, was damit bezweckt wird. Oder können Sie erahnen, was dort passieren soll?\n",
    "Dagegen erahnt man bei diesem Code schon eher, was bezweckt wird:"
   ]
  },
  {
   "cell_type": "code",
   "execution_count": 20,
   "id": "6a6a032b",
   "metadata": {},
   "outputs": [],
   "source": [
    "mehrwertsteuersatz = 19/100\n",
    "nettopreis = 80\n",
    "bruttopreis = nettopreis + mehrwertsteuersatz * nettopreis"
   ]
  },
  {
   "cell_type": "markdown",
   "id": "14f31766",
   "metadata": {},
   "source": [
    "Verwenden Sie für Variablennamen nur ASCII-Zeichen, also keine Umlaute wie ö, ü\n",
    "oder ß. Zahlen sind erlaubt, aber nicht am Anfang des Namens. Es ist sinnvoll,\n",
    "lange Variablen durch einen Unterstrich besser lesbar zu gestalten (sogenannte\n",
    "Snake-Case-Formatierung). Ich empfehle für Variablennamen beispielsweise\n",
    "`dateiname_alt` oder `dateiname_neu`, wenn beispielsweise eine Datei umbenannt\n",
    "wird. Sie sind frei in der Gestaltung der Variablennamen, verboten sind nur die\n",
    "sogannnten **Schlüsselwörter**. Schlüsselwörter sind beispielsweise eingebaute\n",
    "Kommandos an den Python-Interpreter. Würden Sie diese als Variablennamen\n",
    "benutzen, wüsste der Python-Interpreter nicht, ob das Kommando oder die Variable\n",
    "gemeint ist.\n",
    "\n",
    "```{exercise}\n",
    ":label: part01_miniexercise06\n",
    "Initialisieren Sie eine Variable namens alter mit Ihrem aktuellen Alter, eine Variable ``rentenalter`` mit dem Zahlenwert ``67`` und berechnen Sie dann, wie viele Jahre es noch bis zum Renteneintritt dauert. \n",
    "```\n",
    "````{solution} part01_miniexercise06\n",
    ":label: part01_minisolution06\n",
    ":class: dropdown\n",
    "```python\n",
    "alter = 21\n",
    "rentenalter = 67\n",
    "print(rentenalter - alter)\n",
    "```\n",
    "````\n",
    "\n",
    "## Ein- und Ausgabe sowie das EVA-Prinzip\n",
    "\n",
    "Grundlegend geht es bei der Datenverarbeitung und vor allem bei der\n",
    "wissenschaftlichen Programmierung darum, Daten zu verarbeiten, wie der Name ja\n",
    "schon sagt sagt ;-) Selbst bei einer Smartphone-App zum Daddeln müssen Daten\n",
    "verarbeitet werden, nämlich das aktuelle Level, wo hat die Spielerin oder der\n",
    "Spieler gerade das Display berührt, was passiert in dem Spiel als nächstes usw.\n",
    "Grundsätzlich folgen datenverarbeitende Systeme dem sogenannten **EVA-Prinzip**.\n",
    "\n",
    "Wikipedia beschreibt das [EVA-Prinzip](https://de.wikipedia.org/wiki/EVA-Prinzip) wie folgt:\n",
    "> \"...Das EVA-Prinzip beschreibt ein Grundprinzip der Datenverarbeitung. Die\n",
    "  Abkürzung leitet sich aus den ersten Buchstaben der Begriffe Eingabe,\n",
    "  Verarbeitung und Ausgabe ab (englisch IPO model: input-process-output). Diese\n",
    "  drei Begriffe beschreiben die Reihenfolge, in der Daten verarbeitet werden.\"\n",
    "\n",
    "Typische Eingabe-Operationen sind dabei\n",
    "* die Eingabe von Zeichen über eine Tastatur oder\n",
    "* das Lesen von Dateien, die auf der Festplatte oder einem Speichermedium gespeichert sind.\n",
    "\n",
    "Häufige Ausgabe-Operationen sind\n",
    "* die Wiedergabe von Texten, Zahlen oder Bildern auf dem Bildschirm oder\n",
    "* das Schreiben von Dateien auf Festplatte oder Speichermedium.\n",
    "\n",
    "Die einfachste und häufigste **Eingabe** erfolgt über die Tastatur. Die Funktion\n",
    "`input()` stoppt das laufende Skript und erwartet eine Eingabe über die\n",
    "Tastatur. Dabei wird der Text zwischen den einfachen Hochkommata angezeigt. Bei\n",
    "Python wird die Eingabe als String interpretiert. Die Eingabe wird mit der Taste\n",
    "Return/Enter abgeschlossen. Probieren wir es aus:\n",
    "\n",
    "```python\n",
    "input('Bitte geben Sie Ihren Namen ein: ')\n",
    "```\n",
    "\n",
    "Wir haben zwar jetzt auf Aufforderung eine Zahl eingegeben, aber verarbeitet\n",
    "wurde diese Eingabe nicht. Es passierte einfach nichts. Um die Eingabe\n",
    "verarbeiten zu können, speichern wir sie zunächst in einer Variablen ab. \n",
    "\n",
    "```python\n",
    "x = input('Bitte geben Sie Ihren Namen ein: ');\n",
    "```\n",
    "\n",
    "Jetzt haben wir zwar den Namen in einer Variable gespeichert, aber so richtig passiert ist immer noch nichts. Jetzt wäre es noch schön, wenn wir dem Benutzer oder der Benuzerin unseres Skripts begrüßen können und einen entsprechenden Text anzeigen lassen können. Dazu gibt es in Python die Funktion `print()`. Damit wird - ähnlich wie bei der Funktion `input()` - der Text zwischen den einfachen Hochkommata ausgegeben.\n",
    "\n",
    "```python\n",
    "print('Hallo')\n",
    "```\n",
    "Jetzt können wir alles zusammensetzen.\n",
    "\n",
    "```python\n",
    "x = input('Bitte geben Sie Ihren Namen ein: ');\n",
    "print('Hallo')\n",
    "print(x)\n",
    "```\n",
    "\n",
    "Kopieren Sie diesen Code in die nächste Code-Zelle und probieren Sie es aus!"
   ]
  },
  {
   "cell_type": "code",
   "execution_count": 21,
   "id": "6b3de4d6",
   "metadata": {},
   "outputs": [],
   "source": [
    "# Hier Ihr Code\n"
   ]
  },
  {
   "cell_type": "markdown",
   "id": "c68b80c6",
   "metadata": {},
   "source": [
    "## Zusammenfassung und Ausblick\n",
    "\n",
    "Der Einstieg in die wissenschaftliche Programmierung mit Python ist zunächst theoretisch. Zuerst haben wir uns mit grundlegenden Fachbegriffen der theoretischen Informatik und dem EVA-Prinzip beschäftigt. Aber bereits mit den ersten Funktionen in Python wie `input()` und `print()` sowie der Benutzung von Variablen können wir erste Python-Skripte programmieren."
   ]
  }
 ],
 "metadata": {
  "jupytext": {
   "formats": "ipynb,md:myst",
   "text_representation": {
    "extension": ".md",
    "format_name": "myst",
    "format_version": 0.13,
    "jupytext_version": "1.13.8"
   }
  },
  "kernelspec": {
   "display_name": "Python 3 (ipykernel)",
   "language": "python",
   "name": "python3"
  },
  "language_info": {
   "codemirror_mode": {
    "name": "ipython",
    "version": 3
   },
   "file_extension": ".py",
   "mimetype": "text/x-python",
   "name": "python",
   "nbconvert_exporter": "python",
   "pygments_lexer": "ipython3",
   "version": "3.9.13"
  },
  "source_map": [
   13,
   54,
   56,
   60,
   62,
   66,
   68,
   72,
   74,
   78,
   80,
   87,
   89,
   200,
   202,
   317,
   320,
   324,
   326,
   330,
   333,
   336,
   339,
   342,
   344,
   354,
   356,
   374,
   376,
   381,
   384,
   426,
   430,
   438,
   442,
   447,
   451,
   534,
   537
  ]
 },
 "nbformat": 4,
 "nbformat_minor": 5
}