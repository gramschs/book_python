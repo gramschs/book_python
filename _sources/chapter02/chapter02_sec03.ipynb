{
 "cells": [
  {
   "cell_type": "markdown",
   "id": "3d11add0",
   "metadata": {},
   "source": [
    "# Das Modul Turtle\n",
    "\n",
    "In der Informatik nennt man Grafiken, die dadurch entstehen, dass ein Roboter\n",
    "Linien auf eine Leinwand zeichnet, Turtle-Grafiken. Der Roboter wird dabei mit\n",
    "einfachen Kommandos gesteuert. Beschrieben wird er durch seine Position (x- und\n",
    "y-Koordinaten in einem kartesischen Koordinatensystem) und seine Ausrichtung.\n",
    "Der \"Stift\" des Roboters kann von seinen Eigenschaften her ebenfalls variieren.\n",
    "So können beispielsweise verschiedenfarbige Stifte verwendet werden oder die\n",
    "Linienstärke kann verändert werden.\n",
    "\n",
    "Der Kern von Python enthält bereits ein Modul namens `turtle`, um eine solche\n",
    "Turtle-Grafik zu erzeugen. Da wir in dieser Vorlesung mit Jupyter Notebooks\n",
    "arbeiten, verwenden wir jedoch das Modul `ipyturtle3`, das das Turtle-Modul mit\n",
    "Funktionalitäten für Jupyter Notebooks erweitert.\n",
    "\n",
    "**Achtung: Bitte verwenden Sie kein JupyterLab, sondern die klassische Software\n",
    "Jupyter Notebook.**\n",
    "\n",
    "## Lernziele \n",
    "\n",
    "```{admonition} Lernziele\n",
    ":class: hint\n",
    "* Sie wissen, was eine **Turtle-Grafik** ist.\n",
    "* Sie können das Modul **ipyturtle3** importieren.\n",
    "* Sie können ein Roboterfeld initalisieren und den Roboter mit einfachen Kommandos über das Roboterfeld steuern.\n",
    "```"
   ]
  },
  {
   "cell_type": "markdown",
   "id": "b76fa74c",
   "metadata": {},
   "source": [
    "## Die Leinwand vorbereiten\n",
    "\n",
    "Als erstes importieren wir aus dem `ipyturtle3`-Modul die Kommandos Canvas, TurtleScreen und Turtle. Wir erzeugen mit dem Befehl\n",
    "\n",
    "```python3\n",
    "Canvas(width=500, height=250)\n",
    "``` \n",
    "\n",
    "eine leere Leinwand, die 500 Bildpunkte breit ist und 250 Bildpunkte hoch ist. Bildpunkte werden normalerweise als Pixel bezeichnet, was wiederum mit px abgekürzt wird. Damit wir mit der Leinwand weiter arbeiten können, speichern wir dieses Objekt in der Variablen `leinwand`. Zuletzt lassen wir uns die Leinwand mit dem Befehl `display()` anzeigen.\n",
    "\n",
    "Zusammengesetzt lautet der Code zur Erzeugung einer Leinwand also wie folgt:"
   ]
  },
  {
   "cell_type": "code",
   "execution_count": 1,
   "id": "e01f724b",
   "metadata": {},
   "outputs": [
    {
     "data": {
      "application/vnd.jupyter.widget-view+json": {
       "model_id": "970cd1cdf9e74b0db2f4459512b67336",
       "version_major": 2,
       "version_minor": 0
      },
      "text/plain": [
       "Canvas(height=250, width=500)"
      ]
     },
     "metadata": {},
     "output_type": "display_data"
    }
   ],
   "source": [
    "from ipyturtle3 import Canvas, TurtleScreen, Turtle\n",
    "\n",
    "leinwand = Canvas(width=500, height=250)\n",
    "display(leinwand)"
   ]
  },
  {
   "cell_type": "markdown",
   "id": "38111549",
   "metadata": {},
   "source": [
    "Damit der Computer weiß, dass auf dieser Leinwand eine Turtle-Grafik gezeichnet\n",
    "werden soll, platzieren wir über die Leinwand ein Turtle-Feld. Dazu erzeugen wir\n",
    "mit dem Befehl `TurtleScreen()` das Feld und speichern es zur weiteren\n",
    "Verwendung in der Variablen `feld`. Damit das Turtle-Feld auf der Leinwand\n",
    "platziert wird, müssen wir der Erzeugung des Turtle-Feldes die Leinwand als\n",
    "Zusatzinformation hinzufügen."
   ]
  },
  {
   "cell_type": "code",
   "execution_count": 2,
   "id": "4baf1838",
   "metadata": {},
   "outputs": [],
   "source": [
    "feld = TurtleScreen(leinwand)"
   ]
  },
  {
   "cell_type": "markdown",
   "id": "c1b839be",
   "metadata": {},
   "source": [
    "## Der Roboter bewegt sich\n",
    "\n",
    "Nun können wir endlich einen Roboter erzeugen und in die Mitte des Feldes setzen\n",
    "lassen."
   ]
  },
  {
   "cell_type": "code",
   "execution_count": 3,
   "id": "fb63f3d0",
   "metadata": {},
   "outputs": [],
   "source": [
    "robo = Turtle(feld)"
   ]
  },
  {
   "cell_type": "markdown",
   "id": "9ae561fa",
   "metadata": {},
   "source": [
    "Mit dem Befehl\n",
    "\n",
    "```python3\n",
    "robo.forward(schritte)\n",
    "````\n",
    "\n",
    "wird der Roboter vorwärts bewegt und legt insgesamt `schritte` (gemessen in Pixeln) zurück.\n",
    "\n",
    "Mit den Befehlen \n",
    "\n",
    "```python3\n",
    "robo.left(winkel)\n",
    "```\n",
    "\n",
    "und \n",
    "\n",
    "```python3\n",
    "robo.right(winkel)\n",
    "````\n",
    "\n",
    "wird der Roboter nach links (gegen den Uhrzeigersinn) oder rechts (im\n",
    "Uhrzeigersinn) gedreht. Der Drehwinkel wird durch die Variable `winkel`\n",
    "bestimmt.\n",
    "\n",
    "Um jetzt den kompletten Code zusammen zu haben, wiederholen wir die bisherigen\n",
    "Code-Zeilen in der folgenden Code-Zelle und experimentieren dann in der\n",
    "übernächsten Code-Zelle mit der Steuerung des Roboters. Wenn Sie das Turtle-Feld\n",
    "wieder auf seinen Ausgangszustand zurücksetzen möchten, führen Sie erneut die\n",
    "Code-Zelle mit der Erzeugung und Initialisierung aus."
   ]
  },
  {
   "cell_type": "code",
   "execution_count": 4,
   "id": "ba4ca11c",
   "metadata": {},
   "outputs": [
    {
     "data": {
      "application/vnd.jupyter.widget-view+json": {
       "model_id": "9242f38624bc47e9b4af8e8fb82e868c",
       "version_major": 2,
       "version_minor": 0
      },
      "text/plain": [
       "Canvas(height=250, width=500)"
      ]
     },
     "metadata": {},
     "output_type": "display_data"
    }
   ],
   "source": [
    "# Import der benötigten Module\n",
    "from ipyturtle3 import Canvas, TurtleScreen, Turtle\n",
    "\n",
    "# Erzeugung und Anzeige der Leinwand\n",
    "leinwand = Canvas(width=500, height=250)\n",
    "display(leinwand)\n",
    "\n",
    "# Initialisierung des Turtle-Feldes\n",
    "feld = TurtleScreen(leinwand)\n",
    "\n",
    "# Erzeugung eines Roboters mit Namen robo und Platzierung auf dem Feld\n",
    "robo = Turtle(feld)"
   ]
  },
  {
   "cell_type": "code",
   "execution_count": 5,
   "id": "8d22a698",
   "metadata": {},
   "outputs": [],
   "source": [
    "robo.forward(100)\n",
    "robo.left(120)\n",
    "robo.forward(50)"
   ]
  },
  {
   "cell_type": "markdown",
   "id": "4ca2dd4a",
   "metadata": {},
   "source": [
    "```{admonition} Mini-Übung\n",
    ":class: miniexercise\n",
    "Lassen Sie den Roboter ein Rechteck der Länge 200 px und Höhe 100 px zeichnen. Am Ende soll der Roboter in die ursprüngliche Richtung hin ausgerichtet sein, also nach Osten bzw. rechts.\n",
    "```"
   ]
  },
  {
   "cell_type": "code",
   "execution_count": 6,
   "id": "4f4c32e9",
   "metadata": {},
   "outputs": [],
   "source": [
    "# Hier Ihr Code"
   ]
  },
  {
   "cell_type": "markdown",
   "id": "66e7c529",
   "metadata": {},
   "source": [
    "````{admonition} Lösung\n",
    ":class: minisolution, toggle\n",
    "```python\n",
    "robo.forward(200)\n",
    "robo.left(90)\n",
    "robo.forward(100)\n",
    "robo.left(90)\n",
    "robo.forward(200)\n",
    "robo.left(90)\n",
    "robo.forward(100)\n",
    "robo.left(90)\n",
    "```\n",
    "Anmerkung: natürlich hätten wir den Roboter auch viermal nach rechts drehen lassen können.\n",
    "````"
   ]
  }
 ],
 "metadata": {
  "jupytext": {
   "text_representation": {
    "extension": ".md",
    "format_name": "myst",
    "format_version": 0.13,
    "jupytext_version": "1.14.5"
   }
  },
  "kernelspec": {
   "display_name": "turtle",
   "language": "python",
   "name": "python3"
  },
  "language_info": {
   "codemirror_mode": {
    "name": "ipython",
    "version": 3
   },
   "file_extension": ".py",
   "mimetype": "text/x-python",
   "name": "python",
   "nbconvert_exporter": "python",
   "pygments_lexer": "ipython3",
   "version": "3.10.8"
  },
  "source_map": [
   12,
   41,
   55,
   60,
   69,
   71,
   78,
   80,
   112,
   127,
   131,
   138,
   140
  ],
  "widgets": {
   "application/vnd.jupyter.widget-state+json": {
    "state": {
     "044ad869eff2410eae5e33a05b8dfddc": {
      "model_module": "ipycanvas",
      "model_module_version": "^0.13",
      "model_name": "CanvasManagerModel",
      "state": {
       "_model_module": "ipycanvas",
       "_model_module_version": "^0.13",
       "_model_name": "CanvasManagerModel",
       "_view_count": null,
       "_view_module": null,
       "_view_module_version": "",
       "_view_name": null
      }
     },
     "70117de43d814eb7a075816124b97ac9": {
      "model_module": "@jupyter-widgets/base",
      "model_module_version": "1.2.0",
      "model_name": "LayoutModel",
      "state": {
       "_model_module": "@jupyter-widgets/base",
       "_model_module_version": "1.2.0",
       "_model_name": "LayoutModel",
       "_view_count": null,
       "_view_module": "@jupyter-widgets/base",
       "_view_module_version": "1.2.0",
       "_view_name": "LayoutView",
       "align_content": null,
       "align_items": null,
       "align_self": null,
       "border": null,
       "bottom": null,
       "display": null,
       "flex": null,
       "flex_flow": null,
       "grid_area": null,
       "grid_auto_columns": null,
       "grid_auto_flow": null,
       "grid_auto_rows": null,
       "grid_column": null,
       "grid_gap": null,
       "grid_row": null,
       "grid_template_areas": null,
       "grid_template_columns": null,
       "grid_template_rows": null,
       "height": null,
       "justify_content": null,
       "justify_items": null,
       "left": null,
       "margin": null,
       "max_height": null,
       "max_width": null,
       "min_height": null,
       "min_width": null,
       "object_fit": null,
       "object_position": null,
       "order": null,
       "overflow": null,
       "overflow_x": null,
       "overflow_y": null,
       "padding": null,
       "right": null,
       "top": null,
       "visibility": null,
       "width": null
      }
     },
     "9242f38624bc47e9b4af8e8fb82e868c": {
      "model_module": "ipycanvas",
      "model_module_version": "^0.13",
      "model_name": "CanvasModel",
      "state": {
       "_canvas_manager": "IPY_MODEL_044ad869eff2410eae5e33a05b8dfddc",
       "_dom_classes": [],
       "_model_module": "ipycanvas",
       "_model_module_version": "^0.13",
       "_model_name": "CanvasModel",
       "_send_client_ready_event": true,
       "_view_count": null,
       "_view_module": "ipycanvas",
       "_view_module_version": "^0.13",
       "_view_name": "CanvasView",
       "height": 250,
       "image_data": null,
       "layout": "IPY_MODEL_a25a98cf940b462f90bf128a11d099d8",
       "sync_image_data": false,
       "width": 500
      }
     },
     "970cd1cdf9e74b0db2f4459512b67336": {
      "model_module": "ipycanvas",
      "model_module_version": "^0.13",
      "model_name": "CanvasModel",
      "state": {
       "_canvas_manager": "IPY_MODEL_044ad869eff2410eae5e33a05b8dfddc",
       "_dom_classes": [],
       "_model_module": "ipycanvas",
       "_model_module_version": "^0.13",
       "_model_name": "CanvasModel",
       "_send_client_ready_event": true,
       "_view_count": null,
       "_view_module": "ipycanvas",
       "_view_module_version": "^0.13",
       "_view_name": "CanvasView",
       "height": 250,
       "image_data": null,
       "layout": "IPY_MODEL_70117de43d814eb7a075816124b97ac9",
       "sync_image_data": false,
       "width": 500
      }
     },
     "a25a98cf940b462f90bf128a11d099d8": {
      "model_module": "@jupyter-widgets/base",
      "model_module_version": "1.2.0",
      "model_name": "LayoutModel",
      "state": {
       "_model_module": "@jupyter-widgets/base",
       "_model_module_version": "1.2.0",
       "_model_name": "LayoutModel",
       "_view_count": null,
       "_view_module": "@jupyter-widgets/base",
       "_view_module_version": "1.2.0",
       "_view_name": "LayoutView",
       "align_content": null,
       "align_items": null,
       "align_self": null,
       "border": null,
       "bottom": null,
       "display": null,
       "flex": null,
       "flex_flow": null,
       "grid_area": null,
       "grid_auto_columns": null,
       "grid_auto_flow": null,
       "grid_auto_rows": null,
       "grid_column": null,
       "grid_gap": null,
       "grid_row": null,
       "grid_template_areas": null,
       "grid_template_columns": null,
       "grid_template_rows": null,
       "height": null,
       "justify_content": null,
       "justify_items": null,
       "left": null,
       "margin": null,
       "max_height": null,
       "max_width": null,
       "min_height": null,
       "min_width": null,
       "object_fit": null,
       "object_position": null,
       "order": null,
       "overflow": null,
       "overflow_x": null,
       "overflow_y": null,
       "padding": null,
       "right": null,
       "top": null,
       "visibility": null,
       "width": null
      }
     }
    },
    "version_major": 2,
    "version_minor": 0
   }
  }
 },
 "nbformat": 4,
 "nbformat_minor": 5
}