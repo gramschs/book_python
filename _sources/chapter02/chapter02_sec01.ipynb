{
 "cells": [
  {
   "attachments": {},
   "cell_type": "markdown",
   "metadata": {},
   "source": [
    "# Listen\n",
    "\n",
    "Bisher haben wir drei verschiedene Datentypen kennengelernt:\n",
    "* Integer (ganze Zahlen),\n",
    "* Floats (Fließkommazahlen) und\n",
    "* Strings (Zeichenketten).\n",
    "\n",
    "Damit können wir einzelne Objekte der realen Welt ganz gut abbilden. Mit einem\n",
    "String können wir den Namen einer Person erfassen, mit einem Integer das Alter\n",
    "der Person und mit einem Float die Körpergröße der Person gemessen in Meter. Was\n",
    "uns aber bisher fehlt ist, eine Sammlung von Namen oder eine Sammlung von\n",
    "Körpergrößen verwalten zu können. Daher werden wir uns in diesem Jupyter\n",
    "Notebook mit Listen beschäftigen.\n",
    "\n",
    "## Lernziele\n",
    "\n",
    "```{admonition} Lernziele\n",
    ":class: hint\n",
    "* Sie wissen, dass **Container** Datentypen sind, die andere Objekte als Sammlung verwalten.\n",
    "* Sie können eine **Liste** erzeugen.\n",
    "* Sie wissen, was der Fachbegriff **Index** bedeutet.\n",
    "* Sie können lesend und schreibend auf die Elemente einer Liste zugreifen, beherrschen also\n",
    "    * **Lesezugriff** und \n",
    "    * **Schreibzugriff**.\n",
    "* Sie können mit dem Plus-Operator + Listen **verketten**.\n",
    "* Sie können Elemente aus einer Liste löschen:\n",
    "    * Löschung per Index: Funktion **del**\n",
    "    * Löschung nach Wert: Methode **remove**\n",
    "```\n"
   ]
  },
  {
   "attachments": {},
   "cell_type": "markdown",
   "metadata": {},
   "source": [
    "## Container für Sammlungen\n",
    "\n",
    "In der Mathematik gibt es den Begriff des Vektors. Einen Vektor kann man als\n",
    "eine Sammlung von Zahlen interpretieren. Dabei müssen Vektoren nicht immer eine\n",
    "geometrische Interpretation haben. Beispielsweise steht der Vektor\n",
    "\n",
    "(116, 144, 199)\n",
    "\n",
    "für ein sehr schönes Blau, wenn die drei Komponenten als die Intensität der\n",
    "Farbanteile Rot - Grün - Blau interpretiert werden. Diese Art Farben zu\n",
    "beschreiben, wird RGB-Wert genannt (siehe auch [Wikipedia →\n",
    "RGB-Farbraum](https://de.wikipedia.org/wiki/RGB-Farbraum)). Die Internetseite\n",
    "[https://www.color-hex.com](https://www.color-hex.com/) ermöglicht es, die\n",
    "RGB-Werte verschiedener Farbtöne zu ermitteln.\n",
    "\n",
    "Wir könnten aber auch eine Namensliste mit den Mitgliedern einer WG führen\n",
    "wollen, z.B. [“Alice”, “Bob”, “Charlie”]. Damit verlassen wir die mathematische\n",
    "Welt der Zahlen und damit des Vektors. Aber auch für diese Anwendungsszenarien\n",
    "wäre es schön, Daten gemeinsam zu sammeln und zu verwalten. \n",
    "\n",
    "Der Fachbegriff für\n",
    "Datentypen, die daür gedacht sind, Daten als Sammlung zu verwalten, ist\n",
    "**Container**. In Python gibt es verschiedene Container:\n",
    "\n",
    "* Listen: list\n",
    "* Tupel: tuple\n",
    "* Dictionaries: dict\n",
    "* Mengen: set\n",
    "\n",
    "Wir behandeln in diesem Abschnitt die Listen.\n"
   ]
  },
  {
   "attachments": {},
   "cell_type": "markdown",
   "metadata": {},
   "source": [
    "## Listen erzeugen mit []\n",
    "\n",
    "Eine Liste wird in Python durch eckige Klammern [  ] erzeugt. \n",
    "\n",
    "Betrachten wir ein Beispiel. Hier wird eine Liste mit den Elementen 1, 2, 3, 4,\n",
    "5 erzeugt und dann anschließend in der Variablen `liste_beispiel` gespeichert.\n",
    "Mit der Funktion `print()` lassen wir den Inhalt der Liste ausgeben."
   ]
  },
  {
   "cell_type": "code",
   "execution_count": 1,
   "metadata": {},
   "outputs": [
    {
     "name": "stdout",
     "output_type": "stream",
     "text": [
      "[1, 2, 3, 4, 5]\n"
     ]
    }
   ],
   "source": [
    "liste_beispiel = [1, 2, 3, 4, 5]\n",
    "print(liste_beispiel)"
   ]
  },
  {
   "attachments": {},
   "cell_type": "markdown",
   "metadata": {},
   "source": [
    "Probieren Sie in der nächsten Mini-Übung selbst aus, wie eine Liste erzeugt\n",
    "wird."
   ]
  },
  {
   "attachments": {},
   "cell_type": "markdown",
   "metadata": {},
   "source": [
    "```{admonition} Mini-Übung\n",
    ":class: miniexercise\n",
    "Erzeugen Sie eine Liste mit Ihrem Vornamen, Ihrem Nachnamen und Ihrer Körpergröße in m. Welche Datentypen brauchen Sie für diese drei Objekte? Lassen Sie Ihre Liste auch ausgeben.\n",
    "```"
   ]
  },
  {
   "cell_type": "code",
   "execution_count": 1,
   "metadata": {},
   "outputs": [],
   "source": [
    "# Hier Ihr Code\n"
   ]
  },
  {
   "attachments": {},
   "cell_type": "markdown",
   "metadata": {},
   "source": [
    "````{admonition} Lösung\n",
    ":class: minisolution, toggle\n",
    "```python\n",
    "person = ['Alice', 'Musterfrau', 1.61]\n",
    "print(person)\n",
    "```\n",
    "Vor- und Nachname werden durch Strings repräsentiert, die Körpergröße als Float.\n",
    "````"
   ]
  },
  {
   "attachments": {},
   "cell_type": "markdown",
   "metadata": {},
   "source": [
    "## Elemente aus einer Liste herausholen: Zugriff\n",
    "\n",
    "Jede Liste hat einen Index. Man kann sich eine Liste wie eine Straße mit einer\n",
    "Sammlung von Häusern vorstellen. Um ein Haus in der Straße zu finden, hat es\n",
    "eine Hausnummer. Und das ist in der Informatik der **Index**, also die Position\n",
    "in der Liste, an der ein Element zu finden ist.\n",
    "\n",
    "In jeder Programmiersprache gibt es Container mit einem Index, wobei der Index\n",
    "in der Regel durch Integer repräsentiert wird. Allerdings gibt es Unterschiede,\n",
    "bei welcher Zahl die Nummerierung beginnt. **Python fängt mit der Null an.**\n",
    "Dann können wir mit dem Index sozusagen nachsehen, welches Element an dieser\n",
    "Index-Position gespeichert ist. Das nennt man in der Informatik **Lesezugriff**.\n",
    "Oder wir können das Element an einer bestimmten Index-Position gegen ein neues\n",
    "Element austauschen. Das nennt man dann **Schreibzugriff**.\n",
    "\n",
    "Um auf ein Element einer Liste zugreifen zu können (egal ob lesend oder\n",
    "schreibend), verwenden wir eckige Klammern und den Index. Der Lesezugriff für\n",
    "das erste Element sieht biepielsweise so aus:"
   ]
  },
  {
   "cell_type": "code",
   "execution_count": 4,
   "metadata": {},
   "outputs": [
    {
     "name": "stdout",
     "output_type": "stream",
     "text": [
      "rot\n"
     ]
    }
   ],
   "source": [
    "# Erzeugung einer Liste\n",
    "meine_liste = ['rot', 'grün', 'blau', 'gelb', 'weiß', 'schwarz']\n",
    "\n",
    "# Lesezugriff mit Position 1, also Index 0\n",
    "erstes_objekt = meine_liste[0]\n",
    "print(erstes_objekt)"
   ]
  },
  {
   "attachments": {},
   "cell_type": "markdown",
   "metadata": {},
   "source": [
    "In der nächsten Mini-Übung wird der Lesezugriff genutzt, um ein Element in einer\n",
    "neuen Variable zu speichern.\n"
   ]
  },
  {
   "attachments": {},
   "cell_type": "markdown",
   "metadata": {},
   "source": [
    "```{admonition} Mini-Übung\n",
    ":class: miniexercise\n",
    "Speichern Sie das 4. Element der Liste `meine_liste = ['rot', 'grün', 'blau', 'gelb', 'weiß', 'schwarz']` in der Variable `vier` ab und lassen Sie es ausgeben.\n",
    "```"
   ]
  },
  {
   "cell_type": "code",
   "execution_count": 5,
   "metadata": {},
   "outputs": [
    {
     "name": "stdout",
     "output_type": "stream",
     "text": [
      "gelb\n"
     ]
    }
   ],
   "source": [
    "# Hier Ihr Code"
   ]
  },
  {
   "attachments": {},
   "cell_type": "markdown",
   "metadata": {},
   "source": [
    "````{admonition} Lösung\n",
    ":class: minisolution, toggle\n",
    "```python\n",
    "meine_liste = ['rot', 'grün', 'blau', 'gelb', 'weiß', 'schwarz']\n",
    "\n",
    "vier = meine_liste[3]\n",
    "print(vier)\n",
    "```\n",
    "````"
   ]
  },
  {
   "attachments": {},
   "cell_type": "markdown",
   "metadata": {},
   "source": [
    "Der Schreibzugriff erfolgt ebenfalls mit eckigen Klammern und dem Index.\n",
    "\n",
    "Im folgenden Code sehen Sie, wie in der Liste die Farbe weiß durch lila ersetzt wird."
   ]
  },
  {
   "cell_type": "code",
   "execution_count": 6,
   "metadata": {},
   "outputs": [
    {
     "name": "stdout",
     "output_type": "stream",
     "text": [
      "['rot', 'grün', 'blau', 'gelb', 'lila', 'schwarz']\n"
     ]
    }
   ],
   "source": [
    "# Erzeugung Liste\n",
    "meine_liste = ['rot', 'grün', 'blau', 'gelb', 'weiß', 'schwarz']\n",
    "\n",
    "# Schreibzugriff\n",
    "meine_liste[4] = 'lila'\n",
    "print(meine_liste)"
   ]
  },
  {
   "attachments": {},
   "cell_type": "markdown",
   "metadata": {},
   "source": [
    "## Liste + Liste = verkettete Liste\n",
    "\n",
    "Auch wenn es im ersten Moment verrückt erscheint, Python kann Listen addieren.\n",
    "Am besten schauen wir uns ein Beispiel an:"
   ]
  },
  {
   "cell_type": "code",
   "execution_count": 7,
   "metadata": {},
   "outputs": [
    {
     "name": "stdout",
     "output_type": "stream",
     "text": [
      "['rot', 'grün', 'blau', 'red', 'green', 'blue']\n"
     ]
    }
   ],
   "source": [
    "liste_de = ['rot', 'grün', 'blau']\n",
    "liste_en = ['red', 'green', 'blue']\n",
    "\n",
    "# Verkettung zweier Listen durch +\n",
    "liste_de_en = liste_de + liste_en\n",
    "print(liste_de_en)"
   ]
  },
  {
   "attachments": {},
   "cell_type": "markdown",
   "metadata": {},
   "source": [
    "Das Aneinanderhängen von Elementen zweier Container nennen wir in der Informatik\n",
    "**Verkettung**. Oft wird auch der englische Begriff **Concatenation** verwendet.\n",
    "\n",
    "In der folgenden Mini-Übung können Sie die Verkettung ausprobieren."
   ]
  },
  {
   "attachments": {},
   "cell_type": "markdown",
   "metadata": {},
   "source": [
    "````{admonition} Mini-Übung\n",
    ":class: miniexercise\n",
    "Erzeugen Sie eine Liste mit den Monaten März, April und Mai und speichern Sie\n",
    "diese Liste in der Variable `fruehling`. Erzeugen Sie anschließend die Listen\n",
    "`sommer`, `herbst` und `winter` mit den jeweils passenden Monaten. Verketten Sie\n",
    "die vier Listen und speichern Sie in der Variable `jahr` ab. Lassen Sie zuletzt das \n",
    "Jahr anzeigen.\n",
    "\n",
    "Welchen Index hat Ihr Geburtsmonat in der Liste `jahr`?\n",
    "````"
   ]
  },
  {
   "cell_type": "code",
   "execution_count": 1,
   "metadata": {},
   "outputs": [
    {
     "name": "stdout",
     "output_type": "stream",
     "text": [
      "['März', 'April', 'Mai', 'Juni', 'Juli', 'August', 'September', 'Oktober', 'November', 'Dezember', 'Januar', 'Februar']\n"
     ]
    }
   ],
   "source": [
    "# Hier Ihr Code\n"
   ]
  },
  {
   "attachments": {},
   "cell_type": "markdown",
   "metadata": {},
   "source": [
    "````{admonition} Lösung\n",
    ":class: minisolution, toggle\n",
    "```python\n",
    "# Listen mit Monaten\n",
    "fruehling = ['März', 'April', 'Mai']\n",
    "sommer = ['Juni', 'Juli', 'August']\n",
    "herbst = ['September', 'Oktober', 'November']\n",
    "winter = ['Dezember', 'Januar', 'Februar']\n",
    "\n",
    "# Jahr\n",
    "jahr = fruehling + sommer + herbst + winter\n",
    "print(jahr)\n",
    "```\n",
    "Der März hat den Index 0, der April den Index 1 usw.. Der letzte Monat ist der\n",
    "Februar, der den Index 11 hat.\n",
    "````\n"
   ]
  },
  {
   "attachments": {},
   "cell_type": "markdown",
   "metadata": {},
   "source": [
    "## Elemente löschen mit del und remove\n",
    "\n",
    "Die Verkettung der Listen führt dazu, dass die Listen länger werden. Die\n",
    "Umkehrung davon fehlt noch, das Kürzen von Listen. Wie so oft in Python gibt es\n",
    "mehrere Möglichkeiten, ein Element aus einer Liste zu entfernen, also zu\n",
    "löschen. Die Anweisung `del` löscht das Element an einer bestimmten Position.\n",
    "Zuerst kommt die Anweisung, dann das Listenelement mit Index:"
   ]
  },
  {
   "cell_type": "code",
   "execution_count": 3,
   "metadata": {},
   "outputs": [
    {
     "name": "stdout",
     "output_type": "stream",
     "text": [
      "Vor dem Löschen: \n",
      "['Null', 'Eins', 'Zwei', 'Drei', 'Vier', 'Fünf']\n",
      "Nach dem Löschen\n",
      "['Null', 'Eins', 'Drei', 'Vier', 'Fünf']\n"
     ]
    }
   ],
   "source": [
    "meine_liste = ['Null', 'Eins', 'Zwei', 'Drei', 'Vier', 'Fünf']\n",
    "print('Vor dem Löschen: ')\n",
    "print(meine_liste)\n",
    "\n",
    "del meine_liste[2]\n",
    "print('Nach dem Löschen')\n",
    "print(meine_liste)"
   ]
  },
  {
   "attachments": {},
   "cell_type": "markdown",
   "metadata": {},
   "source": [
    "Wie Sie sehen ist das dritte Element in der Liste gelöscht worden, da die\n",
    "Nummerierung des Index bei 0 startet."
   ]
  },
  {
   "attachments": {},
   "cell_type": "markdown",
   "metadata": {},
   "source": [
    "Vielleicht möchte man aber gar nicht ein Element an einer bestimmten Position\n",
    "löschen, sondern einen bestimmten Eintrag. Das folgende Beispiel implementiert\n",
    "eine Einkaufsliste in Python. Sobald ein Lebensmittel gekauft ist, soll es von\n",
    "der Liste gestrichen werden."
   ]
  },
  {
   "cell_type": "code",
   "execution_count": 7,
   "metadata": {},
   "outputs": [
    {
     "name": "stdout",
     "output_type": "stream",
     "text": [
      "Einkaufsliste: \n",
      "['Milch', 'Kaffee', 'Brötchen', 'Marmelade']\n",
      "Nach dem Einkauf in der Bäckerei: \n",
      "['Milch', 'Kaffee', 'Marmelade']\n",
      "Nach dem Einkauf im Supermarkt: \n",
      "[]\n",
      "0\n"
     ]
    }
   ],
   "source": [
    "einkaufsliste = ['Milch', 'Kaffee', 'Brötchen', 'Marmelade']\n",
    "\n",
    "print('Einkaufsliste: ')\n",
    "print(einkaufsliste)\n",
    "\n",
    "einkaufsliste.remove('Brötchen')\n",
    "print('Nach dem Einkauf in der Bäckerei: ')\n",
    "print(einkaufsliste)\n",
    "\n",
    "einkaufsliste.remove('Milch')\n",
    "einkaufsliste.remove('Kaffee')\n",
    "einkaufsliste.remove('Marmelade')\n",
    "print('Nach dem Einkauf im Supermarkt: ')\n",
    "print(einkaufsliste)\n"
   ]
  },
  {
   "attachments": {},
   "cell_type": "markdown",
   "metadata": {},
   "source": [
    "Die Vorgehensweise, um das Element `Milch` zu löschen, ist diesmal komplett\n",
    "anders. Diesmal hängen wir an die Variable `einkaufsliste` einen Punkt und dann\n",
    "den Namen des Kommandos `remove()`. Wieso das?\n",
    "\n",
    "Das Kommando `del` ist so wichtig und universell, dass es mit allen Containern\n",
    "funktioniert. Daher ist dieser Befehl als eine sogenannte **Funktion** im\n",
    "Python-Kern implementiert. Das Kommando `remove()` bezieht sich jedoch nur auf\n",
    "die Liste. Daher ist dieser Befehl als eine sogenannte **Methode**\n",
    "implementiert. Eine Methode ist eine Funktion, die zu einem Datentyp dazugehört.\n",
    "\n",
    "In späteren Kapiteln werden wir selbst Funktionen und Methoden\n",
    "(Objektorientierung) implementieren und auf die Unterschiede detaillierter\n",
    "eingehen. Im Moment begnügen wir uns mit der Tatsache, dass es Funktionen wie\n",
    "\n",
    "* input()\n",
    "* print()\n",
    "* del()\n",
    "\n",
    "gibt und Methoden, die mit einem Punkt an das Objekt angehängt werden wie z.B.\n",
    "`.remove()`."
   ]
  }
 ],
 "metadata": {
  "kernelspec": {
   "display_name": "turtle",
   "language": "python",
   "name": "python3"
  },
  "language_info": {
   "codemirror_mode": {
    "name": "ipython",
    "version": 3
   },
   "file_extension": ".py",
   "mimetype": "text/x-python",
   "name": "python",
   "nbconvert_exporter": "python",
   "pygments_lexer": "ipython3",
   "version": "3.10.8"
  },
  "vscode": {
   "interpreter": {
    "hash": "16275fca663e32c106d20bcf6c285993a460d839f327eae28e75507b786215eb"
   }
  }
 },
 "nbformat": 4,
 "nbformat_minor": 2
}
