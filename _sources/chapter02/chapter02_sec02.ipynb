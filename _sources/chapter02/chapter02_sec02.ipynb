{
 "cells": [
  {
   "cell_type": "markdown",
   "id": "d79dbd58",
   "metadata": {},
   "source": [
    "# 2.2 Datentypen und Variablen\n",
    "\n",
    "Mit Zahlen wird anders umgegangen, als mit Texten. Zahlen werden beispielsweise\n",
    "addiert, bei Texten werden beispielsweise Kleinbuchstaben durch Großbuchstaben\n",
    "ersetzt. Daher ist es nicht verwunderlich, dass Python für beide Arten von\n",
    "Informationen eine andere technische Umsetzung verwendet. Das führt zu dem Thema\n",
    "Datentypen und dem Speichern von Informationen in Variablen.\n",
    "\n",
    "## Lernziele\n",
    "\n",
    "```{admonition} Lernziele\n",
    ":class: goals\n",
    "* Sie wissen, was **Datentypen** sind.\n",
    "* Sie kennen den Unterschied zwischen **Ganzzahlen** und **Fließkommazahlen**\n",
    "  und die dazugehörigen Datentypen **Integer** und **Float**.\n",
    "* Sie kennen den Datentyp **String**, der **Zeichenketten** repräsentiert.\n",
    "* Sie wissen, was eine **Variable** ist und wie sie erzeugt und gefüllt wird.\n",
    "* Sie können mit der Funktion **type()** den Datentyp einer Variable ermitteln.\n",
    "```\n",
    "\n",
    "## Los geht es mit dem Programmieren - Datentypen in Python\n",
    "\n",
    "Der Computer kann Informationen nur als 0 oder 1 verarbeiten. Auf dem\n",
    "Speichermedium oder im Speicher selbst werden Daten daher als eine Folge von 0\n",
    "und 1 gespeichert. Damit es für uns Programmiererinnen und Programmierer\n",
    "einfacher wird, Daten zu speichern und zu verarbeiten, wurden Datentypen\n",
    "eingeführt.  \n",
    "\n",
    "**Datentypen** fassen gleichartige Objekte zusammen und stellen passende\n",
    "Operationen zur Verfügung. Es hängt von der Programmiersprache ab, welche\n",
    "Datentypen zur Verfügung stehen, wie diese im Hintergrund gespeichtert werden\n",
    "und welche Operationen damit möglich sind. In diesem Kapitel beschäftigen wir\n",
    "uns mit den einfachen Datentypen\n",
    "\n",
    "* Integer\n",
    "* Float\n",
    "* String\n",
    "\n",
    "### Zahlen (Integers und Floats)\n",
    "\n",
    "In der Programmierung unterscheidet man grundsätzlich zwischen zwei Zahlenarten,\n",
    "den **Ganzzahlen** und den Gleitkommazahlen, die auch **Fließkommazahlen**\n",
    "genannt werden. Die Ganzzahlen werden in der Mathematik als ganze Zahlen\n",
    "bezeichnet. In der Informatik wird meist der englische Begriff **Integer**\n",
    "verwendet. Mit Integern können wir ganz normal rechnen, also Operationen\n",
    "ausführen. Einige davon haben wir ja bereits ausprobiert, als wir Python als\n",
    "Taschenrechner benutzt haben:"
   ]
  },
  {
   "cell_type": "code",
   "execution_count": 1,
   "id": "e55806d5",
   "metadata": {},
   "outputs": [
    {
     "data": {
      "text/plain": [
       "14"
      ]
     },
     "execution_count": 1,
     "metadata": {},
     "output_type": "execute_result"
    }
   ],
   "source": [
    "2 * (3 + 4)"
   ]
  },
  {
   "cell_type": "markdown",
   "id": "4dddd06c",
   "metadata": {},
   "source": [
    "Sobald wir eine Division vorliegen haben, die nicht aufgeht, verlassen wir den\n",
    "Bereich der ganzen Zahlen und kommen automatisch zu den Fließkommazahlen. In der\n",
    "Informatik wird eine Fließkommazahl als Float bezeichnet. Python rechnet\n",
    "automatisch mit dem richtigen Datentyp, wie Sie hier sehen:"
   ]
  },
  {
   "cell_type": "code",
   "execution_count": 2,
   "id": "6416f468",
   "metadata": {},
   "outputs": [
    {
     "data": {
      "text/plain": [
       "0.4"
      ]
     },
     "execution_count": 2,
     "metadata": {},
     "output_type": "execute_result"
    }
   ],
   "source": [
    "2/5"
   ]
  },
  {
   "cell_type": "markdown",
   "id": "1244fd64",
   "metadata": {},
   "source": [
    "Beachten Sie bitte: Das Dezimaltrennzeichen ist ein Punkt, nicht ein Komma wie\n",
    "im Deutschen. Aber ansonsten funktioniert alles wie erwartet:"
   ]
  },
  {
   "cell_type": "code",
   "execution_count": 3,
   "id": "f6eb8212",
   "metadata": {},
   "outputs": [
    {
     "data": {
      "text/plain": [
       "6.8999999999999995"
      ]
     },
     "execution_count": 3,
     "metadata": {},
     "output_type": "execute_result"
    }
   ],
   "source": [
    "2.3 + 4.6"
   ]
  },
  {
   "cell_type": "code",
   "execution_count": 4,
   "id": "a8c919e8",
   "metadata": {},
   "outputs": [
    {
     "data": {
      "text/plain": [
       "-3.8000000000000003"
      ]
     },
     "execution_count": 4,
     "metadata": {},
     "output_type": "execute_result"
    }
   ],
   "source": [
    "1.4 - 5.2"
   ]
  },
  {
   "cell_type": "code",
   "execution_count": 5,
   "id": "93ef9304",
   "metadata": {},
   "outputs": [
    {
     "data": {
      "text/plain": [
       "-11.78"
      ]
     },
     "execution_count": 5,
     "metadata": {},
     "output_type": "execute_result"
    }
   ],
   "source": [
    "(-3.8) * 3.1"
   ]
  },
  {
   "cell_type": "code",
   "execution_count": 6,
   "id": "3a420c1d",
   "metadata": {},
   "outputs": [
    {
     "data": {
      "text/plain": [
       "8.0"
      ]
     },
     "execution_count": 6,
     "metadata": {},
     "output_type": "execute_result"
    }
   ],
   "source": [
    "2.4 / 0.3"
   ]
  },
  {
   "cell_type": "code",
   "execution_count": 7,
   "id": "26a3d155",
   "metadata": {},
   "outputs": [
    {
     "data": {
      "text/plain": [
       "9536.7431640625"
      ]
     },
     "execution_count": 7,
     "metadata": {},
     "output_type": "execute_result"
    }
   ],
   "source": [
    "2.5**10"
   ]
  },
  {
   "cell_type": "markdown",
   "id": "a74697bb",
   "metadata": {},
   "source": [
    "Das folgende Video fasst Zahlen in Python zusammen.\n",
    "\n",
    "```{dropdown} Video \"Zahlen in Python\" von Programmieren Starten\n",
    "<iframe width=\"560\" height=\"315\" src=\"https://www.youtube.com/embed/VtiDkRDPA_c\" title=\"YouTube video player\" frameborder=\"0\" allow=\"accelerometer; autoplay; clipboard-write; encrypted-media; gyroscope; picture-in-picture; web-share\" allowfullscreen></iframe>\n",
    "```\n",
    "\n",
    "### Strings\n",
    "\n",
    "Daten sind aber sehr oft keine Zahlen. Beispielsweise könnte man sich\n",
    "vorstellen, eine Einkaufsliste zu erstellen und diese im Computer oder in einer\n",
    "Notiz-App auf dem Handy zu speichern. Eine solche Zeichenkette heißt in der\n",
    "Informatik **String**. Mit Zeichen meint man dabei Zahlen, Buchstaben oder\n",
    "andere wie beispielsweise `!\"§$%&/()=?`.\n",
    "\n",
    "Strings werden in Python durch einfache oder doppelte Anführungszeichen definiert:"
   ]
  },
  {
   "cell_type": "code",
   "execution_count": 8,
   "id": "43657dd3",
   "metadata": {},
   "outputs": [
    {
     "data": {
      "text/plain": [
       "'Dies ist ein String!'"
      ]
     },
     "execution_count": 8,
     "metadata": {},
     "output_type": "execute_result"
    }
   ],
   "source": [
    "\"Dies ist ein String!\""
   ]
  },
  {
   "cell_type": "markdown",
   "id": "be2639a9",
   "metadata": {},
   "source": [
    "Strings haben wir bei dem Hallo-Welt-Programm schon kennengelernt. Allerdings\n",
    "haben wir zu diesem Zeitpunkt noch nicht den korrekten Fachbegriff String\n",
    "verwendet, sondern sie als Texte bezeichnet.\n",
    "\n",
    "Auf Strings und ihre Anwendungen kommen wir später noch zurück. Wenn Sie bereits\n",
    "jetzt mehr erfahren wollen, können Sie sich folgendes Video ansehen.\n",
    "\n",
    "```{dropdown} Video \"Strings in Python\" von Programmieren Starten\n",
    "<iframe width=\"560\" height=\"315\" src=\"https://www.youtube.com/embed/sTEf4_mrLvw\" title=\"YouTube video player\" frameborder=\"0\" allow=\"accelerometer; autoplay; clipboard-write; encrypted-media; gyroscope; picture-in-picture; web-share\" allowfullscreen></iframe>\n",
    "```\n",
    "\n",
    "## Variablen\n",
    "\n",
    "**Variablen** sind beschriftete Schubladen. Oder anders formuliert sind\n",
    "Variablen Objekte, denen man einen Namen gibt. Technisch gesehen sind diese\n",
    "Schubladen ein kleiner Bereich im Arbeitsspeicher des Computers. Was in diesen\n",
    "Schubladen aufbewahrt wird, kann sehr unterschiedlich sein. Beispielsweise die\n",
    "Telefonnummer des ADAC-Pannendienstes, die 10. Nachkommastelle von $\\pi$ oder die\n",
    "aktuelle Position des Mauszeigers können in den Schubladen enthalten sein.\n",
    "\n",
    "Wir verwenden Variablen, um bestimmte Werte oder ein bestimmtes Objekt zu\n",
    "speichern. Eine Variable wird durch **Zuweisung** erzeugt. Damit meinen wir,\n",
    "dass eine Schublade angelegt wird und die Schublade dann erstmalig gefüllt wird.\n",
    "Das erstmalige Füllen der Schublade nennt man in der Informatik auch\n",
    "**Initialisieren**."
   ]
  },
  {
   "cell_type": "code",
   "execution_count": 9,
   "id": "c2dd57f3",
   "metadata": {},
   "outputs": [],
   "source": [
    "x = 0.5"
   ]
  },
  {
   "cell_type": "markdown",
   "id": "00a15e60",
   "metadata": {},
   "source": [
    "Sobald die Variable x in diesem Beispiel durch eine Zuweisung von 0.5 erstellt\n",
    "wurde, können wir sie verwenden:"
   ]
  },
  {
   "cell_type": "code",
   "execution_count": 10,
   "id": "328337a0",
   "metadata": {},
   "outputs": [
    {
     "data": {
      "text/plain": [
       "1.5"
      ]
     },
     "execution_count": 10,
     "metadata": {},
     "output_type": "execute_result"
    }
   ],
   "source": [
    "x * 3"
   ]
  },
  {
   "cell_type": "code",
   "execution_count": 11,
   "id": "19c072e3",
   "metadata": {},
   "outputs": [
    {
     "data": {
      "text/plain": [
       "18.3"
      ]
     },
     "execution_count": 11,
     "metadata": {},
     "output_type": "execute_result"
    }
   ],
   "source": [
    "x + 17.8"
   ]
  },
  {
   "cell_type": "markdown",
   "id": "6d73acb6",
   "metadata": {},
   "source": [
    "Variablen müssen initialisiert (erstmalig mit einem Wert versehen) werden, bevor\n",
    "sie verwendet werden können, sonst tritt ein Fehler auf.\n",
    "\n",
    "```{admonition} Mini-Übung\n",
    ":class: miniexercise\n",
    "Schreiben Sie in die nächste Code-Zelle einfach den Buchstaben `n` unter die Kommentarzeile und lassen Sie dann die Code-Zelle mit `run` vom Python-Interpreter ausführen. Was beobachten Sie? Recherchieren Sie im Internet nach der Fehlermeldung. \n",
    "```"
   ]
  },
  {
   "cell_type": "code",
   "execution_count": 12,
   "id": "b1a605d7",
   "metadata": {},
   "outputs": [],
   "source": [
    "# Geben Sie nach diesem Kommentar Ihren Code ein:\n"
   ]
  },
  {
   "cell_type": "markdown",
   "id": "0b5a0ac4",
   "metadata": {},
   "source": [
    "````{admonition} Lösung\n",
    ":class: miniexercise, toggle\n",
    "```python\n",
    "n\n",
    "```\n",
    "Der Interpreter zeigt in rot eine Fehlermeldung an: \"NameError: name 'n' is not defined\". Damit weist der Interpreter darauf hin, dass die Variable bisher nicht mit einem Wert versehen wurde, sie ist nicht intialisiert worden. Daher kann damit auch nicht gearbeitet werden.\n",
    "````\n",
    "\n",
    "Gerne können Sie sich auch folgendes Video auf YouTube ansehen, das eine\n",
    "Einführung in das Thema Variablen in Python gibt.\n",
    "\n",
    "```{dropdown} Video \"Variablen in Python\" von Programmieren Starten\n",
    "<iframe width=\"560\" height=\"315\" src=\"https://www.youtube.com/embed/jfOLXKPGXJ0\" title=\"YouTube video player\" frameborder=\"0\" allow=\"accelerometer; autoplay; clipboard-write; encrypted-media; gyroscope; picture-in-picture; web-share\" allowfullscreen></iframe>\n",
    "```\n",
    "\n",
    "## Richtlinien für Variablennamen\n",
    "\n",
    "Früher war der Speicherplatz von Computern klein, daher wurden häufig nur kurze\n",
    "Variablennamen wie beispielsweise i oder N verwendet. Heutzutage ist es\n",
    "Standard, nur in Ausnahmefällen (z.B. in Schleifen, dazu kommen wir noch) kurze\n",
    "Variablennamen zu nehmen. Stattdessen werden Namen benutzt, bei denen man\n",
    "erraten kann, was die Variable für einen Einsatzzweck hat. Beispielsweise lässt\n",
    "der Code"
   ]
  },
  {
   "cell_type": "code",
   "execution_count": 13,
   "id": "151732f1",
   "metadata": {},
   "outputs": [
    {
     "name": "stdout",
     "output_type": "stream",
     "text": [
      "95.2\n"
     ]
    }
   ],
   "source": [
    "m = 0.19\n",
    "n = 80\n",
    "b = n + m * n\n",
    "print(b)"
   ]
  },
  {
   "cell_type": "markdown",
   "id": "2cdc25ef",
   "metadata": {},
   "source": [
    "nur schwer vermuten, was damit bezweckt wird. Oder können Sie erahnen, was dort passieren soll?\n",
    "Dagegen erahnt man bei diesem Code schon eher, was bezweckt wird:"
   ]
  },
  {
   "cell_type": "code",
   "execution_count": 14,
   "id": "ebb0ad3f",
   "metadata": {},
   "outputs": [
    {
     "name": "stdout",
     "output_type": "stream",
     "text": [
      "95.2\n"
     ]
    }
   ],
   "source": [
    "mehrwertsteuersatz = 19/100\n",
    "nettopreis = 80\n",
    "bruttopreis = nettopreis + mehrwertsteuersatz * nettopreis\n",
    "print(bruttopreis)"
   ]
  },
  {
   "cell_type": "markdown",
   "id": "c168a7d1",
   "metadata": {},
   "source": [
    "Verwenden Sie für Variablennamen nur ASCII-Zeichen, also keine Umlaute wie ö, ü\n",
    "oder ß. Zahlen sind erlaubt, aber nicht am Anfang des Namens. Es ist sinnvoll,\n",
    "lange Variablen durch einen Unterstrich besser lesbar zu gestalten (sogenannte\n",
    "Snake-Case-Formatierung). Ich empfehle für Variablennamen beispielsweise\n",
    "`dateiname_alt` oder `dateiname_neu`, wenn beispielsweise eine Datei umbenannt\n",
    "wird. Sie sind frei in der Gestaltung der Variablennamen, verboten sind nur die\n",
    "sogannnten **Schlüsselwörter**. Schlüsselwörter sind beispielsweise eingebaute\n",
    "Kommandos an den Python-Interpreter. Würden Sie diese als Variablennamen\n",
    "benutzen, wüsste der Python-Interpreter nicht, ob das Kommando oder die Variable\n",
    "gemeint ist.\n",
    "\n",
    "```{admonition} Mini-Übung\n",
    ":class: miniexercise\n",
    "Initialisieren Sie eine Variable namens alter mit Ihrem aktuellen Alter, eine\n",
    "Variable ``rentenalter`` mit dem Zahlenwert ``67`` und berechnen Sie dann, wie\n",
    "viele Jahre es noch bis zum Renteneintritt dauert.\n",
    "```"
   ]
  },
  {
   "cell_type": "code",
   "execution_count": 15,
   "id": "5a3839f1",
   "metadata": {},
   "outputs": [],
   "source": [
    "# Geben Sie nach diesem Kommentar Ihren Code ein:\n"
   ]
  },
  {
   "cell_type": "markdown",
   "id": "eb1afbb1",
   "metadata": {},
   "source": [
    "````{admonition} Lösung\n",
    ":class: miniexercise, toggle\n",
    "```python\n",
    "# Geben Sie nach diesem Kommentar Ihren Code ein:\n",
    "alter = 21\n",
    "rentenalter = 67\n",
    "print(rentenalter - alter)\n",
    "```\n",
    "````\n",
    "\n",
    "## Datentypen ermitteln mit type()\n",
    "\n",
    "In den bisher betrachteten Beispielen sind die Python-Programme ein bis zwei\n",
    "Zeilen lang. Unwahrscheinlich, dass dann nicht klar ist, welchen Datentyp eine\n",
    "Variable hat. Wenn aber später die Programme länger werden und vielleicht auch\n",
    "Benutzereingaben dazu kommen, kann man auch den Überblick darüber verlieren.\n",
    "Dafür gibt es die **type()**-Funktion."
   ]
  },
  {
   "cell_type": "code",
   "execution_count": 16,
   "id": "c9d389be",
   "metadata": {},
   "outputs": [
    {
     "name": "stdout",
     "output_type": "stream",
     "text": [
      "<class 'int'>\n",
      "<class 'float'>\n",
      "<class 'str'>\n"
     ]
    }
   ],
   "source": [
    "datentyp_integer = type(3)\n",
    "print(datentyp_integer)\n",
    "\n",
    "datentyp_float = type(3.1)\n",
    "print(datentyp_float)\n",
    "\n",
    "datentyp_string = type('Hallo')\n",
    "print(datentyp_string)"
   ]
  },
  {
   "cell_type": "markdown",
   "id": "b5aba900",
   "metadata": {},
   "source": [
    "## Weiteres Lernmaterial\n",
    "\n",
    "Das folgende Video fasst die drei Datentypen Integer, Float uns String\n",
    "übersichtsartig zusammen.\n",
    "\n",
    "```{dropdown} Video \"Datentypen in Python\" von Programmieren Starten\n",
    "<iframe width=\"560\" height=\"315\" src=\"https://www.youtube.com/embed/1WqFJ5wsA4o\" title=\"YouTube video player\" frameborder=\"0\" allow=\"accelerometer; autoplay; clipboard-write; encrypted-media; gyroscope; picture-in-picture; web-share\" allowfullscreen></iframe>\n",
    "```"
   ]
  }
 ],
 "metadata": {
  "jupytext": {
   "cell_metadata_filter": "-all",
   "formats": "ipynb,md:myst",
   "text_representation": {
    "extension": ".md",
    "format_name": "myst",
    "format_version": 0.13,
    "jupytext_version": "1.14.5"
   }
  },
  "kernelspec": {
   "display_name": "Python 3 (ipykernel)",
   "language": "python",
   "name": "python3"
  },
  "language_info": {
   "codemirror_mode": {
    "name": "ipython",
    "version": 3
   },
   "file_extension": ".py",
   "mimetype": "text/x-python",
   "name": "python",
   "nbconvert_exporter": "python",
   "pygments_lexer": "ipython3",
   "version": "3.12.2"
  },
  "source_map": [
   14,
   64,
   66,
   73,
   75,
   80,
   84,
   88,
   92,
   96,
   98,
   116,
   118,
   146,
   148,
   153,
   157,
   159,
   169,
   172,
   198,
   203,
   208,
   213,
   233,
   236,
   256,
   265
  ]
 },
 "nbformat": 4,
 "nbformat_minor": 5
}