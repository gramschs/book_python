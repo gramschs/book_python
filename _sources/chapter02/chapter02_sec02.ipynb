{
 "cells": [
  {
   "cell_type": "markdown",
   "id": "2be2cc90",
   "metadata": {},
   "source": [
    "# Das Modul Math\n",
    "\n",
    "Python kann auch auf schwachbrüstiger Hardware laufen wie beispielsweise auf\n",
    "dem Raspberry Pi. Ein Grund für die Effizienz von Python ist, dass nicht alle\n",
    "möglichen Datentypen, Funktionen und Methoden von Beginn an in den Speicher\n",
    "geladen werden, sondern erst bei Bedarf. Python-Code ist in sogenannte Module\n",
    "unterteilt.\n",
    "\n",
    "In diesem Jupyter Notebook werden wir den Modul-Mechanismus anhand des\n",
    "Math-Moduls kennenlernen."
   ]
  },
  {
   "cell_type": "markdown",
   "id": "a71f703b",
   "metadata": {},
   "source": [
    "## Lernziele\n",
    "\n",
    "```{admonition} Lernziele\n",
    ":class: hint\n",
    "* Sie können erklären, was ein **Modul** in Python ist.\n",
    "* Sie können ein Modul komplett mit **import modul** importieren und auf die darin enthaltenen Funktionalitäten mit **modul.funktionalitaet** zugreifen.\n",
    "* Sie können mit **from modul import funktionalitaet** einzelne Funktionalitäten eines Moduls importieren.\n",
    "```"
   ]
  },
  {
   "cell_type": "markdown",
   "id": "91d5589d",
   "metadata": {},
   "source": [
    "## Import math\n",
    "\n",
    "Es wäre schön, häufig gebrauchte Zahlen wie die Kreiszahl $\\pi$ oder die\n",
    "Eulersche Zahl $e$ zur Verfügung zu haben. Leider gehören beide nicht zum\n",
    "Python-Kern, wie der folgende Versuch zeigt:"
   ]
  },
  {
   "cell_type": "code",
   "execution_count": 1,
   "id": "b5a4231e",
   "metadata": {},
   "outputs": [
    {
     "ename": "NameError",
     "evalue": "name 'pi' is not defined",
     "output_type": "error",
     "traceback": [
      "\u001b[0;31m---------------------------------------------------------------------------\u001b[0m",
      "\u001b[0;31mNameError\u001b[0m                                 Traceback (most recent call last)",
      "Cell \u001b[0;32mIn[1], line 1\u001b[0m\n\u001b[0;32m----> 1\u001b[0m \u001b[38;5;28mprint\u001b[39m(\u001b[43mpi\u001b[49m)\n",
      "\u001b[0;31mNameError\u001b[0m: name 'pi' is not defined"
     ]
    }
   ],
   "source": [
    "print(pi)"
   ]
  },
  {
   "cell_type": "markdown",
   "id": "42030e03",
   "metadata": {},
   "source": [
    "Python gibt eine Fehlermeldung aus. Der Fehler lautet \"NameError\". Der\n",
    "Python-Interpreter meldet auch, bei welcher Variable der Namensfehler auftritt,\n",
    "nämlich bei 'pi'. \n",
    "\n",
    "Die fehlende Kreiszahl Pi könnte natürlich zu Beginn eines Programmes eingeführt werden."
   ]
  },
  {
   "cell_type": "code",
   "execution_count": null,
   "id": "af1dcde3",
   "metadata": {},
   "outputs": [],
   "source": [
    "pi = 3.14\n",
    "print(pi)"
   ]
  },
  {
   "cell_type": "markdown",
   "id": "8da451b4",
   "metadata": {},
   "source": [
    "Aber es gibt ja noch mehr Funktionalitäten, die im Python-Kern fehlen wie\n",
    "beispielsweise die Sinus-Funktion oder die Wurzel-Funktion. \n",
    "\n",
    "Module sind Python-Programme, die Konstanten oder Anweisungen (Funktionen,\n",
    "Klassen) zur Verfügung stellen und damit den eigentlichen Python-Kern erweitern.\n",
    "Module müssen importiert werden, damit der Python-Interpreter diese erweiterten\n",
    "Funktionalitäten benutzen kann.\n",
    "\n",
    "Es gibt mehrere Anweisungen, ein Modul zu importieren. Als erstes betrachten wir\n",
    "die direkte import-Anweisung und importieren das Mathematik-Modul `math`."
   ]
  },
  {
   "cell_type": "code",
   "execution_count": null,
   "id": "8c88bc17",
   "metadata": {},
   "outputs": [],
   "source": [
    "import math"
   ]
  },
  {
   "cell_type": "markdown",
   "id": "7021928c",
   "metadata": {},
   "source": [
    "Wird die obige Anweisung `import math` ausgeführt, passiert scheinbar nichts.\n",
    "Tatsächlich hat der Python-Interpreter jedoch das Modul `math` geladen. Die\n",
    "Anweisung `dir(math)` listet auf, was genau alles importiert wurde."
   ]
  },
  {
   "cell_type": "code",
   "execution_count": null,
   "id": "fa1a0359",
   "metadata": {},
   "outputs": [],
   "source": [
    "dir(math)"
   ]
  },
  {
   "cell_type": "markdown",
   "id": "b6815f36",
   "metadata": {},
   "source": [
    "Offensichtlich gehören sehr viele mathematische Funktionen zum math-Modul, aber auch die beiden Zahlen `pi` und `e` finden wir in der Liste. Dann können wir ja $\\pi$ jetzt direkt ausgeben lassen:"
   ]
  },
  {
   "cell_type": "code",
   "execution_count": null,
   "id": "28287939",
   "metadata": {},
   "outputs": [],
   "source": [
    "print(pi)"
   ]
  },
  {
   "cell_type": "markdown",
   "id": "a5e99a16",
   "metadata": {},
   "source": [
    "Erstaunlich, dass in einem Standard-Modul von Python die Programmier:innen $\\pi$\n",
    "nur mit zwei Nachkommastellen angegeben haben... haben sie auch nicht. Die\n",
    "Variable `pi` wurde von uns selbst mit `pi = 3.14` definiert und ist nicht\n",
    "identisch mit `pi` aus dem math-Modul. Die Kreiszahl aus dem math-Modul heißt\n",
    "nämlich `math.pi`."
   ]
  },
  {
   "cell_type": "code",
   "execution_count": null,
   "id": "a2cc3574",
   "metadata": {},
   "outputs": [],
   "source": [
    "print(math.pi)"
   ]
  },
  {
   "cell_type": "markdown",
   "id": "115478fc",
   "metadata": {},
   "source": [
    "Um Konstanten, Datentypen oder Funktionen eines Moduls zu nutzen, wird der\n",
    "Modulname vorangestellt und erneut der Punkt benutzt. Probieren Sie es in der\n",
    "nächsten Mini-Übung aus."
   ]
  },
  {
   "cell_type": "markdown",
   "id": "c77f979b",
   "metadata": {},
   "source": [
    "````{admonition} Mini-Übung\n",
    ":class: miniexercise\n",
    "Weisen Sie der Variablen x den Wert $\\pi$ zu. Lassen Sie dann $y = \\sin(x)$\n",
    "berechnen und ausgeben.\n",
    "````"
   ]
  },
  {
   "cell_type": "code",
   "execution_count": null,
   "id": "fe6a0024",
   "metadata": {},
   "outputs": [],
   "source": [
    "# Hier Ihr Code"
   ]
  },
  {
   "cell_type": "markdown",
   "id": "6c21560a",
   "metadata": {},
   "source": [
    "````{admonition} Lösung\n",
    ":class: solution, toggle\n",
    "```python\n",
    "x = math.pi\n",
    "y = math.sin(x)\n",
    "\n",
    "print(y)\n",
    "```\n",
    "````"
   ]
  },
  {
   "cell_type": "markdown",
   "id": "a0c58b6e",
   "metadata": {},
   "source": [
    "## From math import\n",
    "\n",
    "Wenn nur die Kreiszahl $\\pi$ gebraucht wird, ist der komplette Import des\n",
    "math-Modules zuviel des Guten. Auch kann es lästig sein, immer `math.` vor pi zu\n",
    "setzen. Eine zweite Möglichkeit, Funktionalitäten eines Moduls zu importieren,\n",
    "ist die Alternative\n",
    "\n",
    "```python\n",
    "from modulname import etwas1, etwas2\n",
    "```\n",
    "\n",
    "$\\pi$ und die Sinus-Funktion werden dann folgendermaßen importiert:"
   ]
  },
  {
   "cell_type": "code",
   "execution_count": null,
   "id": "52b6b817",
   "metadata": {},
   "outputs": [],
   "source": [
    "from math import pi, sin"
   ]
  },
  {
   "cell_type": "markdown",
   "id": "b9de8068",
   "metadata": {},
   "source": [
    "Jetzt können `pi` und `sin` direkt benutzt werden, ohne `math.` davor zu schreiben."
   ]
  },
  {
   "cell_type": "code",
   "execution_count": null,
   "id": "f6aec269",
   "metadata": {},
   "outputs": [],
   "source": [
    "print(pi)\n",
    "print(sin(0))"
   ]
  },
  {
   "cell_type": "markdown",
   "id": "021f5ac2",
   "metadata": {},
   "source": [
    "Tatsächlich gibt es noch weitere Möglichkeiten, etwas aus einem Modul zu importieren. Einen Überblick über diese Alternativen finden Sie im Internet unter [https://docs.python.org/3/tutorial/modules.html](https://docs.python.org/3/tutorial/modules.html)."
   ]
  }
 ],
 "metadata": {
  "jupytext": {
   "text_representation": {
    "extension": ".md",
    "format_name": "myst",
    "format_version": 0.13,
    "jupytext_version": "1.14.5"
   }
  },
  "kernelspec": {
   "display_name": "turtle",
   "language": "python",
   "name": "python3"
  },
  "language_info": {
   "codemirror_mode": {
    "name": "ipython",
    "version": 3
   },
   "file_extension": ".py",
   "mimetype": "text/x-python",
   "name": "python",
   "nbconvert_exporter": "python",
   "pygments_lexer": "ipython3",
   "version": "3.10.8"
  },
  "source_map": [
   12,
   25,
   36,
   44,
   46,
   54,
   57,
   70,
   72,
   78,
   80,
   84,
   86,
   94,
   96,
   102,
   110,
   112,
   124,
   139,
   141,
   145,
   148
  ]
 },
 "nbformat": 4,
 "nbformat_minor": 5
}