{
 "cells": [
  {
   "cell_type": "markdown",
   "id": "fa126de0",
   "metadata": {},
   "source": [
    "# 4.3 Zufallszahlen\n",
    "\n",
    "In diesem Kapitel werden wir uns mit der Erzeugung und Anwendung von\n",
    "Zufallszahlen in Python beschäftigen. Wir nutzen dazu das Modul `numpy.random`\n",
    "aus der Bibliothek NumPy.\n",
    "\n",
    "## Lernziele\n",
    "\n",
    "```{admonition} Lernziele\n",
    ":class: goals\n",
    "* Sie kennen das Modul `numpy.random`.\n",
    "* Sie können mit `.randint()` **gleichverteilte Integers** und mit `.uniform()`\n",
    "  **gleichverteilte Floats** erzeugen lassen.\n",
    "* Sie können mit `.normal()` **normalverteilte Floats** zu einem vorgegebenen\n",
    "  Mittelwert und einer vorgegebenen Standabweichung erzeugen lassen.\n",
    "* Sie kennen den Unterschied zwischen gleichverteilten und\n",
    "  normalverteilten Zufallszahlen.\n",
    "```\n",
    "\n",
    "## Gleichverteilte Zufallszahlen\n",
    "\n",
    "Beim Würfeln mit einem sechseitigen Würfel (W6) hat jede Augenzahl von 1 bis 6\n",
    "die gleiche Wahrscheinlichkeit von 1/6. Wenn wir mit Python einen solchen Würfel\n",
    "simulieren möchten, können wir die Funktion `randint()` aus dem Modul\n",
    "`numpy.random` verwenden. Dazu müssen wir zunächst NumPy importieren."
   ]
  },
  {
   "cell_type": "code",
   "execution_count": 1,
   "id": "a8f47e1c",
   "metadata": {},
   "outputs": [
    {
     "name": "stdout",
     "output_type": "stream",
     "text": [
      "1\n"
     ]
    }
   ],
   "source": [
    "import numpy as np\n",
    "\n",
    "wuerfelwurf = np.random.randint(1, 7)\n",
    "print(wuerfelwurf)"
   ]
  },
  {
   "cell_type": "markdown",
   "id": "bc1d4fb1",
   "metadata": {},
   "source": [
    "Die Funktion `randint()` kann nicht ohne Argumente aufgerufen werden, denn wir\n",
    "müssen den Bereich vorschreiben, aus dem die gleichverteilten Zufallszahlen\n",
    "gezogen werden sollen. Der Bereich wird durch das erste und zweite Argument der\n",
    "Funktion gebildet, wobei das erste Argument inklusive ist und das zweite\n",
    "Argument exklusive. Da das erste Argument inklusiv ist, geben wir hier die `1`\n",
    "an. Dahingegen müssen wir als zweites Argument die `7` übergeben, um\n",
    "gleichverteilte Zufallszahlen bis `6` zu bekommen, da das zweite Argument\n",
    "exklusiv ist.\n",
    "\n",
    "Wir können auch ein drittes Argument übergeben, das die Anzahl der gezogenen\n",
    "Zufallszahlen steuert. Mit dem folgenden Code werden beispielsweise 10\n",
    "gleichverteilte Integers zwischen 1 und 6 zufällig gezogen."
   ]
  },
  {
   "cell_type": "code",
   "execution_count": 2,
   "id": "8bfd85ea",
   "metadata": {},
   "outputs": [
    {
     "name": "stdout",
     "output_type": "stream",
     "text": [
      "[6 6 4 5 3 6 2 3 2 3]\n"
     ]
    }
   ],
   "source": [
    "wuerfelwurfe = np.random.randint(1, 7, 10)\n",
    "print(wuerfelwurfe)"
   ]
  },
  {
   "cell_type": "markdown",
   "id": "de4601bd",
   "metadata": {},
   "source": [
    "Probieren wir das neu erlernte Wissen in einer Mini-Übung aus.\n",
    "\n",
    "```{admonition} Mini-Übung\n",
    ":class: miniexercise\n",
    "Lassen Sie sechs Lottozahlen erzeugen, d.h. sechs Integer, die zwischen 1 und 49\n",
    "gleichmäßig verteilt sind. Die Lottozahlen sollen auch ausgegeben werden.\n",
    "\n",
    "Könnte damit die Ziehung der Lottozahlen simuliert werden?\n",
    "```"
   ]
  },
  {
   "cell_type": "code",
   "execution_count": 3,
   "id": "16fc5f52",
   "metadata": {},
   "outputs": [],
   "source": [
    "# Hier Ihr Code"
   ]
  },
  {
   "cell_type": "markdown",
   "id": "f7b2e463",
   "metadata": {},
   "source": [
    "````{admonition} Lösung\n",
    ":class: minisolution, toggle\n",
    "```python\n",
    "import numpy as np\n",
    "\n",
    "# Erzeugung der Lottozahlen\n",
    "lottozahlen = np.random.randint(1, 50, 6)\n",
    "\n",
    "# Ausgabe\n",
    "print(lottozahlen)\n",
    "```\n",
    "Eine Simulation der Ziehung der Lottozahlen ist damit nicht möglich. Bei der\n",
    "echten Ziehung darf jede Zahl nur einmal vorkommen, dies gewährleistet der obige\n",
    "Code nicht.\n",
    "````\n",
    "\n",
    "Sollen gleichverteilte Floats erzeugt werden, nutzen wir die Funktion\n",
    "`.uniform()`, die ebenfalls im Modul `numpy.random` enthalten ist. Hier können\n",
    "wir scheinbar auf die Angabe eines Bereichs verzichten."
   ]
  },
  {
   "cell_type": "code",
   "execution_count": 4,
   "id": "f648322d",
   "metadata": {},
   "outputs": [
    {
     "name": "stdout",
     "output_type": "stream",
     "text": [
      "0.7763957931673936\n"
     ]
    }
   ],
   "source": [
    "zufallszahl = np.random.uniform()\n",
    "print(zufallszahl)"
   ]
  },
  {
   "cell_type": "markdown",
   "id": "fb939db4",
   "metadata": {},
   "source": [
    "Wenn wir die obige Code-Zelle mehrfach ausführen, stellen wir fest, dass die\n",
    "gleichverteilten Floats zwischen 0 und 1 liegen. Etwas präziser formuliert\n",
    "liegen die Zufallszahlen in dem halboffenen Intervall $[0, 1)$. Wir können auch\n",
    "hier das Intervall vorschreiben, indem wir die linke Intervallgrenze als erstes\n",
    "Argument (inklusiv) übergeben und die rechte Intervallgrenze als zweites\n",
    "Argument (exklusiv)."
   ]
  },
  {
   "cell_type": "code",
   "execution_count": 5,
   "id": "cfe21846",
   "metadata": {},
   "outputs": [
    {
     "name": "stdout",
     "output_type": "stream",
     "text": [
      "-3.1556346715000467\n"
     ]
    }
   ],
   "source": [
    "zufallszahl = np.random.uniform(-5.2, 3.0)\n",
    "print(zufallszahl)"
   ]
  },
  {
   "cell_type": "markdown",
   "id": "6c6e91ed",
   "metadata": {},
   "source": [
    "Mit Hilfe des dritten Argumentes können wir mehreren Zufallszahlen gleichzeitig\n",
    "erzeugen lassen."
   ]
  },
  {
   "cell_type": "code",
   "execution_count": 6,
   "id": "ec8c943d",
   "metadata": {},
   "outputs": [
    {
     "name": "stdout",
     "output_type": "stream",
     "text": [
      "[15.18305059 10.96408119 11.07501766 18.87358795 15.07114072]\n"
     ]
    }
   ],
   "source": [
    "zufallszahlen = np.random.uniform(10, 20, 5)\n",
    "print(zufallszahlen)"
   ]
  },
  {
   "cell_type": "markdown",
   "id": "8d13867a",
   "metadata": {},
   "source": [
    "Damit werden fünf gleichverteilte Zufallszahlen zwischen 10 und 20 (exklusiv)\n",
    "generiert.\n",
    "\n",
    "Wir wollen nun analysieren, ob die Zufallszahlen wirklich gleichmäßig aus dem\n",
    "Intervall $[10, 20)$ stammen. Dazu lassen wir 1000 gleichverteilte Zufallszahlen\n",
    "generieren. Danach teilen wir das Intervall in 10 Abschnitte und lassen nun von\n",
    "$[10, 11)$, $[11, 12)$, $[12, 13)$ usw. bis $[19, 20)$ zählen, wie häufig eine\n",
    "Zufallszahl aus diesem Teilintervall kommt. Dieses sogenannte Histogramm sieht\n",
    "folgendermaßen aus (den Code brauchen Sie noch nicht verstehen, das kommt\n",
    "später)."
   ]
  },
  {
   "cell_type": "code",
   "execution_count": 7,
   "id": "53511d7a",
   "metadata": {},
   "outputs": [
    {
     "data": {
      "image/png": "[encoded data removed]",
      "text/plain": [
       "<Figure size 640x480 with 1 Axes>"
      ]
     },
     "metadata": {},
     "output_type": "display_data"
    }
   ],
   "source": [
    "import matplotlib.pyplot as plt\n",
    "\n",
    "zufallszahlen = np.random.uniform(10, 20, 2000)\n",
    "\n",
    "plt.hist(zufallszahlen)\n",
    "plt.title('Histogramm: Gleichverteilung im Intervall [10, 20]')\n",
    "plt.xlabel('Teilintervalle')\n",
    "plt.ylabel('Häufigkeit');"
   ]
  },
  {
   "cell_type": "markdown",
   "id": "26cfd78b",
   "metadata": {},
   "source": [
    "Ordnet man die gezogenen Zufallszahlen den 10 Teilintervallen zu, so sind in\n",
    "jedem Teilintervall ungefähr 200 Zufallszahlen enthalten.\n",
    "\n",
    "## Normalverteilte Zufallszahlen\n",
    "\n",
    "Eine normalverteilte Zufallszahl folgt der sogenannten Normalverteilung oder\n",
    "Gaußschen Verteilung. Das ist eine Wahrscheinlichkeitsverteilung, die durch ihr\n",
    "Glockenkurven-Diagramm bekannt ist. Sie ist eine der wichtigsten Modelle in\n",
    "Natur- und Ingenieurwissenschaften, da viele Messgrößen (z. B. Körpergröße,\n",
    "Fertigungstoleranzen, Messfehler) näherungsweise normalverteilt sind.\n",
    "\n",
    "Die Normalverteilung wird durch zwei Parameter beschrieben: den Mittelwert (oder\n",
    "Erwartungswert) und die Standardabweichung. Der Mittelwert ist der Wert, um den\n",
    "die Werte im Durchschnitt zentriert sind. Die Standardabweichung ist ein Maß für\n",
    "die Streuung der Werte.\n",
    "\n",
    "In Python können wir mit der Funktion `numpy.random.normal()` normalverteilte\n",
    "Zufallszahlen erzeugen:"
   ]
  },
  {
   "cell_type": "code",
   "execution_count": 8,
   "id": "32f729c1",
   "metadata": {},
   "outputs": [
    {
     "name": "stdout",
     "output_type": "stream",
     "text": [
      "-0.00691477940599921\n"
     ]
    }
   ],
   "source": [
    "zufallszahl = np.random.normal(0, 1)\n",
    "print(zufallszahl)"
   ]
  },
  {
   "cell_type": "markdown",
   "id": "585b8723",
   "metadata": {},
   "source": [
    "Das erste Argument `0` steht für einen Mittelwert von 0. Das zweite Argument `1`\n",
    "bedeutet, dass die Normalverteiung eine Standardabweichung von 1 hat.\n",
    "\n",
    "Wir können auch mehrere Zahlen gleichzeitig erzeugen:"
   ]
  },
  {
   "cell_type": "code",
   "execution_count": 9,
   "id": "8cf39b7c",
   "metadata": {},
   "outputs": [
    {
     "name": "stdout",
     "output_type": "stream",
     "text": [
      "[-2.08678177  1.98516408  0.13078192 -0.79042537  0.29085184]\n"
     ]
    }
   ],
   "source": [
    "zufallszahlen = np.random.normal(0, 1, 5)\n",
    "print(zufallszahlen)"
   ]
  },
  {
   "cell_type": "markdown",
   "id": "a276b27f",
   "metadata": {},
   "source": [
    "Jetzt wurden fünf normalverteilte Zufallszahlen erzeugt.\n",
    "\n",
    "```{admonition} Mini-Übung\n",
    ":class: miniexercise\n",
    "Bei einer Schulklasse wird die Körpergröße der Jugendlichen (Alter: 14 bis 18\n",
    "Jahre) gemessen. Der Mittelwert bei den Mädchen ist 166.3 cm (Standardabweichung\n",
    "6.39 cm) und bei den Jungen 176.8 cm (Standardabweichung 7.46 cm) (Quelle:\n",
    "[Wikipedia](https://de.wikipedia.org/wiki/Normalverteilung)).\n",
    "\n",
    "Lassen Sie die Körpergrößen einer durchschnittlichen Schulklasse (= 13 Mädchen\n",
    "und 13 Jungen) erzeugen und ausgeben.\n",
    "```"
   ]
  },
  {
   "cell_type": "code",
   "execution_count": 10,
   "id": "ff807db8",
   "metadata": {},
   "outputs": [],
   "source": [
    "# Hier Ihr Code"
   ]
  },
  {
   "cell_type": "markdown",
   "id": "bb196089",
   "metadata": {},
   "source": [
    "````{admonition} Lösung\n",
    ":class: minisolution, toggle\n",
    "```python\n",
    "import numpy as np\n",
    "\n",
    "# Erzeugung der Körpergrößen\n",
    "maedchen = np.random.normal(166.3, 6.39, 13)\n",
    "jungen = np.random.normal(176.8, 7.46, 13)\n",
    "\n",
    "# Ausgabe\n",
    "print(maedchen)\n",
    "print(jungen)\n",
    "```\n",
    "````\n",
    "\n",
    "Auch hier wollen wir visualisieren, wie die Häufigkeit der Zufallszahlen\n",
    "verteilt ist. Dazu erzeugen wir 2000 normalverteilte Zufallszahlen mit\n",
    "Mittelwert 0 und Standardabweichung 1, was standardnormalverteilt genannt wird.\n",
    "Diesmal nehmen wir 10 automatische Teilintervalle, um die Häufigkeiten der\n",
    "Zufallszahlen pro Teilintervall anzeigen zu lassen."
   ]
  },
  {
   "cell_type": "code",
   "execution_count": 11,
   "id": "1d5a95ba",
   "metadata": {},
   "outputs": [
    {
     "data": {
      "image/png": "[encoded data removed]",
      "text/plain": [
       "<Figure size 640x480 with 1 Axes>"
      ]
     },
     "metadata": {},
     "output_type": "display_data"
    }
   ],
   "source": [
    "import matplotlib.pyplot as plt\n",
    "\n",
    "zufallszahlen = np.random.normal(0, 1, 2000)\n",
    "\n",
    "plt.hist(zufallszahlen)\n",
    "plt.title('Histogramm: Standardnormalverteilung')\n",
    "plt.xlabel('Teilintervalle')\n",
    "plt.ylabel('Häufigkeit');"
   ]
  },
  {
   "cell_type": "markdown",
   "id": "74bb7fed",
   "metadata": {},
   "source": [
    "## Zusammenfassung und Ausblick\n",
    "\n",
    "Mit den Zufallszahlen können wir Anwendungen des Alltags durch Python simulieren\n",
    "lassen. Bevor wir sie einsetzen, müssen wir jedoch entscheiden, ob wir Integers\n",
    "oder Floats benötigen und ob sie gleichverteilt oder normalverteilt sein sollen.\n",
    "Das nächste Kapitel führt Kontrollstrukturen ein, um abhängig von einer\n",
    "Bedingung Code auszuführen."
   ]
  }
 ],
 "metadata": {
  "jupytext": {
   "formats": "ipynb,md:myst",
   "text_representation": {
    "extension": ".md",
    "format_name": "myst",
    "format_version": 0.13,
    "jupytext_version": "1.13.8"
   }
  },
  "kernelspec": {
   "display_name": "Python 3 (ipykernel)",
   "language": "python",
   "name": "python3"
  },
  "language_info": {
   "codemirror_mode": {
    "name": "ipython",
    "version": 3
   },
   "file_extension": ".py",
   "mimetype": "text/x-python",
   "name": "python",
   "nbconvert_exporter": "python",
   "pygments_lexer": "ipython3",
   "version": "3.12.2"
  },
  "source_map": [
   13,
   41,
   46,
   61,
   64,
   76,
   78,
   100,
   103,
   112,
   115,
   120,
   123,
   136,
   145,
   166,
   169,
   176,
   179,
   194,
   196,
   219,
   228
  ]
 },
 "nbformat": 4,
 "nbformat_minor": 5
}