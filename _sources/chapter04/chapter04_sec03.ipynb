{
 "cells": [
  {
   "cell_type": "markdown",
   "id": "f20d2c1a",
   "metadata": {},
   "source": [
    "# 4.3 Strings\n",
    "\n",
    "Den Datentyp String haben Sie bereits zu Beginn im Kapitel \"Einstieg in die\n",
    "Programmierung\" kennengelernt. Bis jetzt haben wir Strings vor allem dazu\n",
    "benutzt, um mit der print()-Funktion etwas auszugeben. In diesem Jupyter\n",
    "Notebook geht es nun darum, Strings auch zu manipulieren und mit den sogenannten\n",
    "f-Strings auch formatierte Ausgaben zu produzieren.\n",
    "\n",
    "\n",
    "## Lernziele\n",
    "\n",
    "```{admonition} Lernziele\n",
    ":class: hint\n",
    "* Sie wissen, dass Strings unveränderliche Container sind und welche Konsequenzen das für die Programmierung hat.\n",
    "* Sie können mit dem Index auf einzelne Zeichen eines Strings zugreifen.\n",
    "* Sie können Strings mit dem Plus-Operator **verketten**.\n",
    "* Sie können mit der **.replace()**-Methode einen Teilstring in einem String durch einen anderen Teilstring ersetzen.\n",
    "* Sie können mit einem **f-String** den Wert einer Variablen in einen String einbetten und zur Laufzeit anzeigen lassen.\n",
    "```\n",
    "\n",
    "\n",
    "## Strings sind Container\n",
    "\n",
    "Im deutschen Fachbegriff Zeichenketten steckt schon die Idee, Strings als eine\n",
    "Verkettung von einzelnen Zeichen zu interpretieren. Mit dieser Idee ist dann\n",
    "vielleicht auch nicht verwunderlich, dass die einzelnen Zeichen eines Strings\n",
    "über den Index angesprochen werden können."
   ]
  },
  {
   "cell_type": "code",
   "execution_count": 1,
   "id": "3c5121fe",
   "metadata": {},
   "outputs": [
    {
     "name": "stdout",
     "output_type": "stream",
     "text": [
      "Hallo, Du da!\n",
      "2. Zeichen: \n",
      "a\n"
     ]
    }
   ],
   "source": [
    "# Erzeugung und Anzeige String\n",
    "mein_string = 'Hallo, Du da!'\n",
    "print(mein_string)\n",
    "\n",
    "# Zugriff auf einzelne Zeichen per Index\n",
    "print('2. Zeichen: ')\n",
    "print(mein_string[1])"
   ]
  },
  {
   "cell_type": "markdown",
   "id": "754daddd",
   "metadata": {},
   "source": [
    "Aber welche Zeichen gehören dazu? Probieren Sie die folgende Mini-Übung aus.\n",
    "\n",
    "````{admonition} Mini-Übung\n",
    ":class: miniexercise\n",
    "Speichern Sie den String 'Hallo, Du da!' in einer Variable. Beantworten Sie folgende Fragen zuerst durch Überlegen, dann durch Ausprobieren.\n",
    "\n",
    "* Was ist der größte Index des String 'Hallo, Du da!'?\n",
    "* Was passiert, wenn Sie auf den Index 20 zugreifen wollen?\n",
    "* Welches Zeichen hat den Index 6?\n",
    "````\n",
    "\n",
    "````{admonition} Lösung\n",
    ":class: minisolution, toggle\n",
    "\n",
    "* Der größte Index ist 12.\n",
    "* Beim Versuch, auf Index 20 zuzugreifen, gibt es eine Fehlermeldung: 'IndexError: string index out of range'. Der Index 20 ist außerhalb des zulässigen Indexbereichs von 0 bis 12.\n",
    "* Das Zeichen an Indexposition 6 ist ein Leerzeichen. Leerzeichen sind auch Zeichen und müssen mitgezählt werden.\n",
    "````\n",
    "\n",
    "\n",
    "Mit den beiden for-Schleifen der letzten beiden Abschnitte, können wir die\n",
    "Zeichen auch einzeln ausgeben lassen. Als erstes die for-Schleife mit\n",
    "Liste/String:"
   ]
  },
  {
   "cell_type": "code",
   "execution_count": 2,
   "id": "93515351",
   "metadata": {},
   "outputs": [
    {
     "name": "stdout",
     "output_type": "stream",
     "text": [
      "H\n",
      "a\n",
      "l\n",
      "l\n",
      "o\n",
      ",\n",
      " \n",
      "D\n",
      "u\n",
      " \n",
      "D\n",
      "a\n",
      "!\n"
     ]
    }
   ],
   "source": [
    "for zeichen in 'Hallo, Du Da!':\n",
    "    print(zeichen)"
   ]
  },
  {
   "cell_type": "markdown",
   "id": "06502e7b",
   "metadata": {},
   "source": [
    "Als nächstes wird über den Index iteriert. Iteration ist der Fachbegriff für das\n",
    "mehrfache Wiederholen einer Anweisung."
   ]
  },
  {
   "cell_type": "code",
   "execution_count": 3,
   "id": "9556a8cf",
   "metadata": {},
   "outputs": [
    {
     "name": "stdout",
     "output_type": "stream",
     "text": [
      "H\n",
      "a\n",
      "l\n",
      "l\n",
      "o\n",
      ",\n",
      " \n",
      "D\n",
      "u\n",
      " \n",
      "d\n",
      "a\n",
      "!\n"
     ]
    }
   ],
   "source": [
    "mein_string = 'Hallo, Du da!'\n",
    "for i in range(13):\n",
    "    zeichen = mein_string[i]\n",
    "    print(zeichen)"
   ]
  },
  {
   "cell_type": "markdown",
   "id": "ef957e95",
   "metadata": {},
   "source": [
    "## Strings sind unveränderlich\n",
    "\n",
    "Bei den Listen haben wir einzelne Elemente der Liste manipuliert, z.B. das\n",
    "dritte Element durch ein anderes ersetzt wie in dem folgenden Beispiel."
   ]
  },
  {
   "cell_type": "code",
   "execution_count": 4,
   "id": "809779be",
   "metadata": {},
   "outputs": [
    {
     "name": "stdout",
     "output_type": "stream",
     "text": [
      "Am Anfang: \n",
      "['Eins', 'Zwei', 'Drei', 'Vier', 'Fünf']\n",
      "Nach dem Austausch:\n",
      "['Eins', 'Zwei', 'MMMH', 'Vier', 'Fünf']\n"
     ]
    }
   ],
   "source": [
    "meine_liste = ['Eins', 'Zwei', 'Drei', 'Vier', 'Fünf']\n",
    "print('Am Anfang: ')\n",
    "print(meine_liste)\n",
    "\n",
    "# Austausch der 'Drei' durch 'MMMH'\n",
    "meine_liste[2] = 'MMMH'\n",
    "print('Nach dem Austausch:')\n",
    "print(meine_liste)"
   ]
  },
  {
   "cell_type": "markdown",
   "id": "dd8e44ac",
   "metadata": {},
   "source": [
    "Obwohl Strings auch Container sind, funktioniert die Manipulation eines\n",
    "einzelnen Zeichens in einem String leider nicht. Entfernen Sie in der folgenden\n",
    "Code-Zelle den Kommentar vor `wort[0] = 'H'`. Was passiert?"
   ]
  },
  {
   "cell_type": "code",
   "execution_count": 5,
   "id": "7456ee72",
   "metadata": {},
   "outputs": [
    {
     "name": "stdout",
     "output_type": "stream",
     "text": [
      "Am Anfang: \n",
      "hallo!\n",
      "Nach dem Austausch:\n",
      "hallo!\n"
     ]
    }
   ],
   "source": [
    "wort = 'hallo!'\n",
    "print('Am Anfang: ')\n",
    "print(wort)\n",
    "\n",
    "# Austausch des kleinen Buchstaben h durch ein großes H \n",
    "# wort[0] = 'H'\n",
    "print('Nach dem Austausch:')\n",
    "print(wort)"
   ]
  },
  {
   "cell_type": "markdown",
   "id": "a94978b2",
   "metadata": {},
   "source": [
    "Der Python-Interpreter gibt eine Fehlermeldung aus: 'str' object does not\n",
    "support item assignment. Ein item ist ein einzelnes Element der Liste und\n",
    "assignment ist das englische Wort für Zuweisung. Auf deutsch lautet diese\n",
    "Fehlermeldung also, dass ein String-Objekt die Zuweisung eines einzelnen\n",
    "Elements/Zeichens nicht unterstützt. Oder anders ausgedrückt, es ist verboten,\n",
    "einen String durch eine Zuweisung zu ändern. \n",
    "\n",
    "Bei Strings handelt es sich um einen sogenannten **unveränderlichen Datentyp**.\n",
    "Das bedeutet, dass der Inhalt eines Strings nach seiner Erstellung nicht mehr\n",
    "verändert werden kann.\n",
    "\n",
    "Es gibt andere Programmiersprachen wie beispielsweise C und MATLAB, in denen\n",
    "Strings als veränderliche Objekte umgesetzt sind. Die Entwickler:innen von\n",
    "Python haben sich bei der Entwicklung von Python aus Gründen der\n",
    "Speichereffizienz und der Sicherheit von daraus abgeleiten Datentypen (z.B.\n",
    "Dictionaries) dagegen entschieden.\n",
    "\n",
    "\n",
    "## Und wenn doch ein String geändert werden soll?\n",
    "\n",
    "Natürlich kann es dennoch vielfältige Gründe geben, einen String nach seiner\n",
    "Erstellung noch abzuändern. Beispielsweise könnte bei einer Benutzereingabe ein\n",
    "Tippfehler aufgetreten sein, der korrigiert werden soll. Obwohl Strings in\n",
    "Python unveränderlich sind, gibt es immer noch viele Operationen, die auf\n",
    "Strings ausgeführt werden können, wie z.B. das Anhängen von Strings, das Suchen\n",
    "oder das Ersetzen von Teilstrings. Allerdings wird in diesen Fällen nicht der\n",
    "ursprüngliche String modifiziert, sondern ein neuer String erzeugt.\n",
    "\n",
    "### Verketten von Strings\n",
    "\n",
    "Sie können Strings in Python einfach aneinanderhängen (verketten), indem Sie den\n",
    "`+`-Operator verwenden. Hier ist ein Beispiel:"
   ]
  },
  {
   "cell_type": "code",
   "execution_count": 6,
   "id": "05190dd6",
   "metadata": {},
   "outputs": [
    {
     "name": "stdout",
     "output_type": "stream",
     "text": [
      "Hallo Alice!\n"
     ]
    }
   ],
   "source": [
    "name  = 'Alice'\n",
    "gruss = 'Hallo ' + name + '!'\n",
    "print(gruss)"
   ]
  },
  {
   "cell_type": "markdown",
   "id": "85e5d518",
   "metadata": {},
   "source": [
    "Allerdings haben Sie damit nicht wirklich den String geändert, sondern einen\n",
    "neuen String erzeugt.\n",
    "\n",
    "### Ersetzen von Teilstrings\n",
    "\n",
    "Python bietet mehrere Methoden zum Suchen und Ersetzen von Teilstrings in einem\n",
    "String. Eine dieser Methoden ist `.replace()`. Hier ist ein Beispiel:"
   ]
  },
  {
   "cell_type": "code",
   "execution_count": 7,
   "id": "b5fd8a37",
   "metadata": {},
   "outputs": [
    {
     "name": "stdout",
     "output_type": "stream",
     "text": [
      "MATLAB ist eine großartige Programmiersprache!\n"
     ]
    }
   ],
   "source": [
    "text = 'MATLAB ist eine großartige Programmiersprache!'\n",
    "text.replace('MATLAB', 'Python')\n",
    "print(text)"
   ]
  },
  {
   "cell_type": "markdown",
   "id": "e837a99b",
   "metadata": {},
   "source": [
    "In diesem Beispiel haben wir den Teilstring \"MATLAB\" durch den Teilstring\n",
    "\"Python\" ersetzt. Es gibt viele andere nützliche Operationen, die Sie auf\n",
    "Strings in Python ausführen können, wie z.B. das Suchen von Teilstrings mit der\n",
    "`.find()`-Methode, das Zählen von Vorkommen von Teilstrings mit der\n",
    "`.count()`-Methode und das Konvertieren von Strings in Groß- oder\n",
    "Kleinbuchstaben mit den Methoden `.upper()` und `.lower()`. In der nächsten\n",
    "Mini-Übung probieren wir noch einmal die `.replace()`-Methode aus.\n",
    "\n",
    "\n",
    "````{admonition} Mini-Übung\n",
    ":class: miniexercise\n",
    "Schreiben Sie ein Programm, das in dem Spruch \"Zehn Ziegen zogen 10 Kilogramm Zucker zum Zoo.\" die Einheit Kilogramm durch Zentner ersetzt. Lassen Sie den Spruch vor und nach der Korrektur ausgeben.\n",
    "````\n",
    "````{admonition} Lösung\n",
    ":class: minisolution, toggle\n",
    "```python\n",
    "spruch = 'Zehn Ziegen zogen 10 Kilogramm Zucker zum Zoo.'\n",
    "\n",
    "print('Vorher dem Anwenden der .replace()-Methode: ')\n",
    "print(spruch)\n",
    "\n",
    "print('Jetzt wird .replace() angewendet: ')\n",
    "spruch.replace('Kilogramm', 'Zentner')\n",
    "print(spruch)\n",
    "```\n",
    "````\n",
    "\n",
    "\n",
    "## Formatierte Strings (f-Strings)\n",
    "\n",
    "Zum Schluss behandeln wir noch formatierte Strings, die sogenannten f-Strings.\n",
    "Seit Python 3.6 erleichtert dieser Typ von String die Programmierung. Falls Sie\n",
    "Python-Code sehen, in dem Prozentzeichen vorkommen (ganz, ganz alt) oder die\n",
    ".format()-Methode benutzt wird, wundern Sie sich nicht. In dieser Vorlesung\n",
    "verwenden wir f-Strings.\n",
    "\n",
    "f-Strings sind die Abkürzung für \"formatted string literals\". Sie ermöglichen\n",
    "es, den Wert einer Variable oder einen Ausdruck direkt in den String\n",
    "einzubetten. Dazu werden geschweifte Klammern verwendet, also `{` und `}` und zu\n",
    "Beginn des Strings wird ein `f` eingefügt, um aus dem String einen f-String zu\n",
    "machen. Der Python-Interpreter fügt dann zur Laufzeit des Programms den\n",
    "entsprechenden Wert der Variable in den String ein.\n",
    " \n",
    "Hier ein Beispiel:"
   ]
  },
  {
   "cell_type": "code",
   "execution_count": 8,
   "id": "710ef03c",
   "metadata": {},
   "outputs": [
    {
     "name": "stdout",
     "output_type": "stream",
     "text": [
      "Mein Name ist Alice und ich bin 14 Jahre alt.\n"
     ]
    }
   ],
   "source": [
    "name = 'Alice'\n",
    "alter = 14\n",
    "print(f'Mein Name ist {name} und ich bin {alter} Jahre alt.')"
   ]
  },
  {
   "cell_type": "markdown",
   "id": "7e3e8e4e",
   "metadata": {},
   "source": [
    "Insbesondere bei Ausgabe von Zahlen sind f-Strings besonders nützlich. Wenn nach\n",
    "dem Variablennamen ein Doppelpunkt eingefügt wird, kann danach die Anzahl der\n",
    "gewünschten Stellen vor dem Komma (hier natürlich ein Punkt) und der\n",
    "Nachkommastellen festgelegt werden. Zusätzlich setzen wir ein `f` in die\n",
    "geschweiften Klammern, um einen Float anzeigen zu lassen. Im folgenden Beispiel\n",
    "geben wir $\\pi$ auf zwei Nachkommastellen an."
   ]
  },
  {
   "cell_type": "code",
   "execution_count": 9,
   "id": "91fe2128",
   "metadata": {},
   "outputs": [
    {
     "name": "stdout",
     "output_type": "stream",
     "text": [
      "Pi = 3.14\n"
     ]
    }
   ],
   "source": [
    "from numpy import pi\n",
    "\n",
    "print(f'Pi = {pi:1.2f}')"
   ]
  },
  {
   "cell_type": "markdown",
   "id": "8d09a592",
   "metadata": {},
   "source": [
    "Es ist schwierig, sich alle Formatierungsoptionen zu merken. Auf der\n",
    "Internetseite\n",
    "[https://cheatography.com/brianallan/cheat-sheets/python-f-strings-basics/](https://cheatography.com/brianallan/cheat-sheets/python-f-strings-basics/)\n",
    "finden Sie eine umfangreiche Übersicht und können sich zudem ein pdf-Ddokument\n",
    "herunterladen.\n",
    "\n",
    "\n",
    "````{admonition} Mini-Übung\n",
    ":class: miniexercise\n",
    "Schreiben Sie ein Programm, mit dem der Flächeninhalt eines Rechtecks berechnet werden soll. Die beide Seitenlängen werden jeweils in den Variablen `laenge` und `breite` gespeichert (suchen Sie sich eigene Zahlen aus). Ausgegeben werden soll dann: \"Der Flächeninhalt eines Rechtecks mit den Seiten XX und XX ist XX.\", wobei XX durch die korrekten Zahlen ersetzt werden und der Flächeninhalt auf eine Nachkommastelle gerundet werden soll.\n",
    "````\n",
    "````{admonition} Lösung\n",
    ":class: minisolution, toggle\n",
    "```python\n",
    "# Eingabe\n",
    "laenge = 5.5\n",
    "breite = 6.3\n",
    "\n",
    "# Verarbeitung\n",
    "flaeche = laenge * breite\n",
    "\n",
    "# Ausgabe \n",
    "print(f'Der Flächeninhalt eines Rechtecks mit den Seiten {laenge} und {breite} ist {flaeche:.1f}.')\n",
    "```\n",
    "````"
   ]
  }
 ],
 "metadata": {
  "jupytext": {
   "text_representation": {
    "extension": ".md",
    "format_name": "myst",
    "format_version": 0.13,
    "jupytext_version": "1.14.5"
   }
  },
  "kernelspec": {
   "display_name": "turtle",
   "language": "python",
   "name": "python3"
  },
  "language_info": {
   "codemirror_mode": {
    "name": "ipython",
    "version": 3
   },
   "file_extension": ".py",
   "mimetype": "text/x-python",
   "name": "python",
   "nbconvert_exporter": "python",
   "pygments_lexer": "ipython3",
   "version": "3.10.8"
  },
  "source_map": [
   12,
   42,
   50,
   76,
   79,
   84,
   89,
   96,
   105,
   111,
   120,
   155,
   159,
   169,
   173,
   220,
   224,
   233,
   237
  ]
 },
 "nbformat": 4,
 "nbformat_minor": 5
}