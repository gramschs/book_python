{
 "cells": [
  {
   "cell_type": "markdown",
   "id": "5439d525",
   "metadata": {},
   "source": [
    "(ref04_sec01)=\n",
    "# 4.1 for-Schleifen mit Liste\n",
    "\n",
    "In der Praxis kommt es oft vor, dass wir von vornherein wissen, wie oft wir eine\n",
    "Handlung wiederholen wollen. Beispielsweise soll in einem Verein darüber\n",
    "abgestimmt werde, ob Anna oder Bob zukünftig die Kasse verwalten soll. Alle\n",
    "Vereinsmitglieder schreiben einen der beiden Namen auf einen Zettel und werfen\n",
    "ihn in die Wahlurne. Jetzt beginnt die Wiederholung. Charlie greift in die Urne,\n",
    "zieht einen Zettel heraus, liest den Namen vor und macht dann entweder bei Anna\n",
    "oder bei Bob einen Strich auf dem Flipboard. Solange Zettel in der Urne sind,\n",
    "wird diese Prozedur wiederholt. Wenn wir aber bereits vorher wissen, dass 12\n",
    "Vereinsmitglieder abgestimmt haben, so wird Charlie 12 x diese Prozedur\n",
    "wiederholen. In diesem Fall bietet sich die Umsetzung als sogenannte\n",
    "Zählschleife an.\n",
    "\n",
    "In Python gibt es zwei Varianten von Zählschleifen. Zum einen die Zählschleife,\n",
    "bei der Elemente einer Liste abgearbeitet werden. Zum anderen die Zählschleife\n",
    "mit einem Zahlenbereich. In diesem Abschnitt behandeln wir Zählschleife mit\n",
    "einer Liste.\n",
    "\n",
    "## Lernziele \n",
    "\n",
    "```{admonition} Lernziele\n",
    ":class: hint\n",
    "* Sie können eine **for-Schleife mit Liste** programmieren.\n",
    "* Sie wissen, wie die Fachbegriffe der einzelnen Bestandteil der Schleife\n",
    "  lauten:\n",
    "  * **Kopfzeile**, wird mit **Doppelpunkt :** abgeschlossen\n",
    "  * Schlüsselwörter **for** und **in**\n",
    "  * **Schleifenvariable**  \n",
    "* Sie wissen, dass der Anweisungsblock des Schleifeninneren eingerückt werden\n",
    "  muss. Die **Einrückung** muss immer mit der gleichen Anzahl von Zeichen\n",
    "  (Leerzeichen oder Tab) erfolgen.\n",
    "```\n",
    "\n",
    "\n",
    "## Syntax der for-Schleife mit Liste\n",
    "\n",
    "Die for-Schleife mit Liste hat folgende Syntax (= Grammatik einer\n",
    "Programmiersprache):\n",
    "\n",
    "```python3\n",
    "for element in liste:\n",
    "    anweisungen\n",
    "```\n",
    "\n",
    "Eine Schleife beginnt mit dem Schlüsselwort **for**. Danach kommt der Name der\n",
    "sogenannten **Schleifenvariable**, in diesem Fall also `element`. Als nächstes\n",
    "folgt wieder ein Schlüsselwort, nämlich **in** und zuletzt die Variable mit der\n",
    "Liste oder die Liste selbst. Diese Zeile nennt man **Kopfzeile**.\n",
    "\n",
    "Python muss wissen, welche Kommandos für jeden Schleifendurchgang ausgeführt\n",
    "werden sollen. Daher wird die Kopfzeile der Schleife mit einem Doppelpunkt `:`\n",
    "beendet. Danach werden alle Kommandos aufgelistet, die ausgeführt werden sollen.\n",
    "Damit Python weiß, wann es wieder mit dem normalen Programm weitergehen soll,\n",
    "müssen wir dem Python-Interpreter das Ende der Schleife signalisieren. In vielen\n",
    "Programmiersprachen wird das mit dem Schlüsselwort `end` gemacht oder es werden\n",
    "Klammern gesetzt. In Python wird stattdessen mit **Einrückung** gearbeitet. Alle\n",
    "Zeilen mit Anweisungen, die eingerückt sind, werden in der Schleife wiederholt.\n",
    "\n",
    "## for-Schleifen mit Listen von Zahlen\n",
    "\n",
    "Probieren wir es mit einem einfachen Beispiel:"
   ]
  },
  {
   "cell_type": "code",
   "execution_count": 1,
   "id": "a7798878",
   "metadata": {},
   "outputs": [
    {
     "name": "stdout",
     "output_type": "stream",
     "text": [
      "2\n",
      "4\n",
      "6\n",
      "8\n",
      "10\n"
     ]
    }
   ],
   "source": [
    "for i in [2, 4, 6, 8, 10]:\n",
    "    print(i)"
   ]
  },
  {
   "cell_type": "markdown",
   "id": "279f93b4",
   "metadata": {},
   "source": [
    "Die Schleifenvariable heißt `i`. Sie nimmt beim 1. Schleifendurchgang den Wert\n",
    "`2` an. Dann werden die Anweisungen im Schleifeninneren ausgeführt, also die\n",
    "print()-Funktion für `i = 2` angewendet und eine 2 ausgegeben. Dann wird die\n",
    "Schleife ein 2. Mal durchlaufen. Diesmal nimmt die Schleifenvariable `i` den\n",
    "Wert `4` an und die print()-Funktion gibt 4 aus. Das geht so weiter bis zum 5.\n",
    "Schleifendurchgang, wo die Schleifenvariable den Wert `i = 10` annimmt und eine\n",
    "10 auf dem Bildschirm angezeigt wird. Da die `10` das letzte Element der Liste\n",
    "war, macht der Python-Interpreter mit dem normalen Programm weiter. Bei unserem\n",
    "kurzen Beispiel ist aber schon das Ende des Programmes erreicht. Zusammengefasst,\n",
    "werden nacheinander die Elemente der Liste `[2, 4, 6, 8, 10]` auf dem Bildschirm\n",
    "ausgegeben.\n",
    "\n",
    "Meistens geht es nicht darum, nur etwas einzeln anzuzeigen, sondern die Elemente\n",
    "der Menge zu verarbeiten. Im nächsten Beispiel soll jedes Element der Liste\n",
    "`[4,5,7,11,21` um 2 erhöht und dann angezeigt werden."
   ]
  },
  {
   "cell_type": "code",
   "execution_count": 2,
   "id": "cb4f8989",
   "metadata": {},
   "outputs": [
    {
     "name": "stdout",
     "output_type": "stream",
     "text": [
      "6\n",
      "7\n",
      "9\n",
      "13\n",
      "23\n",
      "Ich bin fertig!\n"
     ]
    }
   ],
   "source": [
    "for zahl in [4,5,7,11,21]:\n",
    "    zahl2 = zahl + 2\n",
    "    print(zahl2)\n",
    "\n",
    "print('Ich bin fertig!')"
   ]
  },
  {
   "cell_type": "markdown",
   "id": "8e2c0468",
   "metadata": {},
   "source": [
    "Im Kapitel [Kapitel 4.2](ref04_sec01) werden wir noch eine einfachere Funktion\n",
    "kennenlernen, um Zahlenlisten nach einem vorgegebenem Schema zu erzeugen.\n",
    "\n",
    "```{admonition} Mini-Übung\n",
    ":class: miniexercise\n",
    "Schreiben Sie ein Programm, das die ersten 10 Quadratzahlen berechnet und ausgibt.\n",
    "```\n",
    "````{admonition} Lösung\n",
    ":class: minisolution, toggle\n",
    "```python\n",
    "for i in [1,2,3,4,5,6,7,8,9,10]:\n",
    "    quadrat = i ** 2\n",
    "    print(quadrat)\n",
    "```\n",
    "````\n",
    "\n",
    "## for-Schleifen mit Listen von Strings\n",
    "\n",
    "Eigentlich ist die Unterscheidung von Listen mit Zahlen oder Strings nur aus\n",
    "didaktischen Gründen erfolgt. Für den Python-Interpreter ist es unerheblich, mit\n",
    "welchen Datentypen die Liste gefüllt ist, die in der for-Schleife durchlaufen\n",
    "wird. Auch eine Liste mit Strings stellt kein Problem dar, wie das folgende\n",
    "Beispiel zeigt:"
   ]
  },
  {
   "cell_type": "code",
   "execution_count": 3,
   "id": "bbeb56ea",
   "metadata": {},
   "outputs": [
    {
     "name": "stdout",
     "output_type": "stream",
     "text": [
      "Januar\n",
      "Februar\n",
      "März\n",
      "April\n",
      "Mai\n",
      "Juni\n",
      "Juli\n",
      "August\n",
      "September\n",
      "Oktober\n",
      "November\n",
      "Dezember\n"
     ]
    }
   ],
   "source": [
    "monate = ['Januar', 'Februar', 'März', 'April', 'Mai', 'Juni', \n",
    "'Juli', 'August', 'September', 'Oktober', 'November', 'Dezember']\n",
    "\n",
    "for monat in monate:\n",
    "    print(monat)"
   ]
  },
  {
   "cell_type": "markdown",
   "id": "de463277",
   "metadata": {},
   "source": [
    "Am besten probieren Sie es einmal selbst aus:\n",
    "\n",
    "```{admonition} Mini-Übung\n",
    ":class: miniexercise\n",
    "Schreiben Sie eine for-Schleife, die die klassischen Schulnoten \"sehr gut\"  bis\n",
    "\"ungenügend\" einzeln ausgibt. Zur Erinnerung: die deutschen Schulnotenlauten\n",
    "lauten sehr gut, gut, befriedigend, ausreichend, mangelhaft und ungenügend.\n",
    "```\n",
    "````{admonition} Lösung\n",
    ":class: minisolution, toggle\n",
    "```python\n",
    "# Erzeugung Liste\n",
    "noten_liste = [\"sehr gut\",\"gut\", \"befriedigend\", \"ausreichend\", \"mangelhaft\", \"ungenügend\"];\n",
    "\n",
    "# Ausgabe \n",
    "for note in noten_liste:\n",
    "    print(note)\n",
    "```\n",
    "````"
   ]
  }
 ],
 "metadata": {
  "jupytext": {
   "text_representation": {
    "extension": ".md",
    "format_name": "myst",
    "format_version": 0.13,
    "jupytext_version": "1.14.5"
   }
  },
  "kernelspec": {
   "display_name": "turtle",
   "language": "python",
   "name": "python3"
  },
  "language_info": {
   "codemirror_mode": {
    "name": "ipython",
    "version": 3
   },
   "file_extension": ".py",
   "mimetype": "text/x-python",
   "name": "python",
   "nbconvert_exporter": "python",
   "pygments_lexer": "ipython3",
   "version": "3.10.8"
  },
  "source_map": [
   12,
   78,
   81,
   99,
   105,
   131,
   137
  ]
 },
 "nbformat": 4,
 "nbformat_minor": 5
}