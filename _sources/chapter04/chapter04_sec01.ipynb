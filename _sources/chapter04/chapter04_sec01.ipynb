{
 "cells": [
  {
   "cell_type": "markdown",
   "id": "2ba46e8d",
   "metadata": {},
   "source": [
    "# 4.1 for-Schleifen mit Liste\n",
    "\n",
    "In der Praxis kommt es oft vor, dass wir von vornherein wissen, wie oft wir eine\n",
    "Handlung wiederholen wollen. Beispielsweise soll in einem Verein darüber\n",
    "abgestimmt werde, ob Anna oder Bob zukünftig die Kasse verwalten soll. Alle\n",
    "Vereinsmitglieder schreiben einen der beiden Namen auf einen Zettel und werfen\n",
    "ihn in die Wahlurne. Jetzt beginnt die Wiederholung. Charlie greift in die Urne,\n",
    "zieht einen Zettel heraus, liest den Namen vor und macht dann entweder bei Anna\n",
    "oder bei Bob einen Strich auf dem Flipboard. Solange Zettel in der Urne sind,\n",
    "wird diese Prozedur wiederholt. Wenn wir aber bereits vorher wissen, dass 12\n",
    "Vereinsmitglieder abgestimmt haben, so wird Charlie 12 x diese Prozedur\n",
    "wiederholen. In diesem Fall bietet sich die Umsetzung als sogenannte\n",
    "Zählschleife an.\n",
    "\n",
    "In Python gibt es zwei Varianten von Zählschleifen. Zum einen die Zählschleife,\n",
    "bei der Elemente einer Liste abgearbeitet werden. Zum anderen die Zählschleife\n",
    "mit einem Zahlenbereich. In diesem Abschnitt behandeln wir Zählschleife mit\n",
    "einer Liste.\n",
    "\n",
    "```{admonition} Lernziele\n",
    ":class: hint\n",
    "* TODO\n",
    "```\n",
    "\n",
    "\n",
    "<!-- #region -->\n",
    "## Grammatik der for-Schleife mit Liste\n",
    "\n",
    "Die for-Schleife mit Liste hat folgende Syntax (= Grammatik einer Programmiersprache):\n",
    "\n",
    "```python3\n",
    "for element in liste:\n",
    "    anweisungsblock\n",
    "```\n",
    "\n",
    "Eine Schleife beginnt mit dem Schlüsselwort **for**. Danach kommt der Name der sogenannten **Schleifenvariable**, in diesem Fall also `element`. Als nächstes folgt wieder ein Schlüsselwort, nämlich **in** und zuletzt die Liste.\n",
    "\n",
    "Python muss wissen, welche Kommandos für jeden Schleifendurchgang ausgeführt werden sollen. Daher wird die Kopfzeile der Schleife mit einem Doppelpunkt `:` beendet. Danach werden alle Kommandos aufgelistet, die ausgeführt werden sollen. Damit Python weiß, wann es wieder mit dem normalen Programm weitergehen soll, müssen wir dem Python-Interpreter das Ende der Schleife signalisieren. In vielen Programmiersprachen wird das mit dem Schlüsselwort `end` gemacht oder es werden Klammern gesetzt. In Python wird stattdessen mit **Einrückung** gearbeitet. Alle Zeilen, die eingerückt sind, werden in der Schleife wiederholt.\n",
    "\n",
    "Probieren wir es mit einem einfachen Beispiel:\n",
    "\n",
    "\n",
    "<!-- #endregion -->\n",
    "\n",
    "```python\n",
    "for i in [2, 4, 6, 8, 10]:\n",
    "    print(i)\n",
    "```\n",
    "\n",
    "\n",
    "Es werden nacheinander die Elemente der Menge `[2, 4, 6, 8, 10]` auf dem Bildschirm ausgegeben.\n",
    "\n",
    "Meistens geht es nicht darum, nur etwas einzeln anzuzeigen, sondern die Elemente der Menge zu verarbeiten. Im nächsten Beispiel soll jedes Element der Liste `[4,5,7,11,21` um 2 erhöht und dann angezeigt werden.\n",
    "\n",
    "```python\n",
    "for zahl in [4,5,7,11,21]:\n",
    "    zahl2 = zahl + 2\n",
    "    print(zahl2)\n",
    "\n",
    "print('Ich bin fertig!')\n",
    "```\n",
    "\n",
    "```{admonition} Mini-Übung\n",
    "Schreiben Sie eine For-Schleife, die die klassischen Schulnoten \"sehr gut\"  bis \"ungenügend\" einzeln ausgibt. Zur Erinnerung: die deutschen Schulnotenlauten lauten sehr gut, gut, befriedigend, ausreichend, mangelhaft und ungenügend.\n",
    "```\n",
    "````{admonition} Lösung\n",
    ":class: minisolution, toggle\n",
    "```python\n",
    "# Erzeugung Liste\n",
    "noten_liste = [\"sehr gut\",\"gut\", \"befriedigend\", \"ausreichend\", \"mangelhaft\", \"ungenügend\"];\n",
    "\n",
    "# Ausgabe \n",
    "for note in noten_liste:\n",
    "    print(note)\n",
    "```\n",
    "````"
   ]
  }
 ],
 "metadata": {
  "jupytext": {
   "text_representation": {
    "extension": ".md",
    "format_name": "myst",
    "format_version": 0.13,
    "jupytext_version": "1.14.5"
   }
  },
  "kernelspec": {
   "display_name": "turtle",
   "language": "python",
   "name": "python3"
  },
  "language_info": {
   "codemirror_mode": {
    "name": "ipython",
    "version": 3
   },
   "file_extension": ".py",
   "mimetype": "text/x-python",
   "name": "python",
   "nbconvert_exporter": "python",
   "pygments_lexer": "ipython3",
   "version": "3.10.8"
  },
  "source_map": [
   12
  ]
 },
 "nbformat": 4,
 "nbformat_minor": 5
}