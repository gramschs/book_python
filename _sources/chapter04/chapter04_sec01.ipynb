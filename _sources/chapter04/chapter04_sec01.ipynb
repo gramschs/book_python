{
 "cells": [
  {
   "cell_type": "markdown",
   "id": "00ee8f1a",
   "metadata": {},
   "source": [
    "# 4.1 for-Schleifen\n",
    "\n",
    "In der Praxis kommt es oft vor, dass wir von vornherein wissen, wie oft wir eine\n",
    "Handlung wiederholen wollen. Beispielsweise soll in einem Verein darüber\n",
    "abgestimmt werden, ob Anna oder Bob zukünftig die Kasse verwalten soll. Alle\n",
    "Vereinsmitglieder schreiben einen der beiden Namen auf einen Zettel und werfen\n",
    "ihn in die Wahlurne. Jetzt beginnt die Wiederholung. Charlie greift in die Urne,\n",
    "zieht einen Zettel heraus, liest den Namen vor und macht dann entweder bei Anna\n",
    "oder bei Bob einen Strich auf dem Flipboard. Solange Zettel in der Urne sind,\n",
    "wird diese Prozedur wiederholt. Wenn wir aber bereits vorher wissen, dass 12\n",
    "Vereinsmitglieder abgestimmt haben, so wird Charlie 12 x diese Prozedur\n",
    "wiederholen. In diesem Fall bietet sich die Umsetzung als sogenannte\n",
    "Zählschleife an.\n",
    "\n",
    "In Python gibt es zwei Varianten von Zählschleifen. Zum einen die Zählschleife,\n",
    "bei der Elemente einer Liste abgearbeitet werden. Zum anderen die Zählschleife\n",
    "mit einem Zahlenbereich.\n",
    "\n",
    "## Lernziele\n",
    "\n",
    "```{admonition} Lernziele\n",
    ":class: goals\n",
    "* Sie können eine **for-Schleife mit Liste** programmieren.\n",
    "* Sie wissen, wie die Fachbegriffe der einzelnen Bestandteil der Schleife\n",
    "  lauten:\n",
    "  * **Kopfzeile**, wird mit **Doppelpunkt :** abgeschlossen\n",
    "  * Schlüsselwörter **for** und **in**\n",
    "  * **Schleifenvariable**  \n",
    "* Sie wissen, dass der Anweisungsblock des Schleifeninneren eingerückt werden\n",
    "  muss. Die **Einrückung** muss immer mit der gleichen Anzahl von Zeichen\n",
    "  (Leerzeichen oder Tab) erfolgen.\n",
    "* Sie können Zahlenlisten mit der **range()**-Funktion erzeugen und diese mit\n",
    "  der for-Schleife kombinieren.\n",
    "```\n",
    "\n",
    "## for-Schleifen mit Liste\n",
    "\n",
    "Erkunden wir den folgenden Python-Code:"
   ]
  },
  {
   "cell_type": "code",
   "execution_count": 1,
   "id": "ef0a5099",
   "metadata": {},
   "outputs": [
    {
     "name": "stdout",
     "output_type": "stream",
     "text": [
      "2\n",
      "4\n",
      "6\n",
      "8\n",
      "10\n"
     ]
    }
   ],
   "source": [
    "for i in [2, 4, 6, 8, 10]:\n",
    "    print(i)"
   ]
  },
  {
   "cell_type": "markdown",
   "id": "9b0d3d56",
   "metadata": {},
   "source": [
    "Nacheinander wird die Variable `i` auf die Werte in der Liste `[2, 4, 6, 8, 10]`\n",
    "gesetzt und per `print()` ausgegeben. Dieses Programmkonstrukt nennt man eine\n",
    "**for-Schleife**.\n",
    "\n",
    "Eine for-Schleife beginnt mit dem Schlüsselwort **for**. Danach kommt der Name\n",
    "der sogenannten **Schleifenvariable**, in diesem Fall also `i`. Als nächstes\n",
    "folgt wieder ein Schlüsselwort, nämlich **in** und zuletzt eine Liste. Diese\n",
    "Zeile nennt man **Kopfzeile**.\n",
    "\n",
    "Python muss wissen, welche Kommandos für jeden Schleifendurchgang ausgeführt\n",
    "werden sollen. Daher wird die Kopfzeile der Schleife mit einem Doppelpunkt `:`\n",
    "beendet. Danach werden alle Kommandos aufgelistet, die ausgeführt werden sollen.\n",
    "Damit Python weiß, wann es wieder mit dem normalen Programm weitergehen soll,\n",
    "müssen wir dem Python-Interpreter das Ende der Schleife signalisieren. In vielen\n",
    "Programmiersprachen wird das mit dem Schlüsselwort `end` gemacht oder es werden\n",
    "Klammern gesetzt. In Python wird stattdessen mit **Einrückung** gearbeitet. Alle\n",
    "Zeilen mit Anweisungen, die eingerückt sind, werden in der Schleife wiederholt.\n",
    "\n",
    "In dem obigen Beispiel heißt die Schleifenvariable `i`. Sie nimmt beim 1.\n",
    "Schleifendurchgang den Wert `2` an. Dann werden die Anweisungen im\n",
    "Schleifeninneren ausgeführt, also die print()-Funktion für `i = 2` angewendet\n",
    "und eine 2 ausgegeben. Dann wird die Schleife ein 2. Mal durchlaufen. Diesmal\n",
    "nimmt die Schleifenvariable `i` den Wert `4` an und die print()-Funktion gibt 4\n",
    "aus. Das geht so weiter bis zum 5. Schleifendurchgang, wo die Schleifenvariable\n",
    "den Wert `i = 10` annimmt und eine 10 auf dem Bildschirm angezeigt wird. Da die\n",
    "`10` das letzte Element der Liste war, macht der Python-Interpreter mit dem\n",
    "normalen Programm weiter. Bei unserem kurzen Beispiel ist aber schon das Ende\n",
    "des Programmes erreicht. Zusammengefasst, werden nacheinander die Elemente der\n",
    "Liste `[2, 4, 6, 8, 10]` auf dem Bildschirm ausgegeben.\n",
    "\n",
    "Allgemein hat die for-Schleife mit Liste folgende Syntax (= Grammatik einer\n",
    "Programmiersprache):\n",
    "\n",
    "```python3\n",
    "for element in liste:\n",
    "    anweisungen\n",
    "```\n",
    "\n",
    "## Anwendungsbeispiele der for-Schleife\n",
    "\n",
    "Meistens geht es nicht darum, nur etwas einzeln anzuzeigen, sondern die Elemente\n",
    "der Menge zu verarbeiten. Im nächsten Beispiel soll jedes Element der Liste\n",
    "`[4,5,7,11,21` um 2 erhöht und dann angezeigt werden."
   ]
  },
  {
   "cell_type": "code",
   "execution_count": 2,
   "id": "a0bd345f",
   "metadata": {},
   "outputs": [
    {
     "name": "stdout",
     "output_type": "stream",
     "text": [
      "6\n",
      "7\n",
      "9\n",
      "13\n",
      "23\n",
      "Ich bin fertig!\n"
     ]
    }
   ],
   "source": [
    "for zahl in [4,5,7,11,21]:\n",
    "    zahl2 = zahl + 2\n",
    "    print(zahl2)\n",
    "\n",
    "print('Ich bin fertig!')"
   ]
  },
  {
   "cell_type": "markdown",
   "id": "1d3593d1",
   "metadata": {},
   "source": [
    "```{admonition} Mini-Übung\n",
    ":class: miniexercise\n",
    "Schreiben Sie ein Programm, das die ersten 10 Quadratzahlen berechnet und ausgibt.\n",
    "```"
   ]
  },
  {
   "cell_type": "code",
   "execution_count": 3,
   "id": "b53cb170",
   "metadata": {},
   "outputs": [],
   "source": [
    "# Hier Ihr Code."
   ]
  },
  {
   "cell_type": "markdown",
   "id": "de6bc8ec",
   "metadata": {},
   "source": [
    "````{admonition} Lösung\n",
    ":class: minisolution, toggle\n",
    "```python\n",
    "for i in [1,2,3,4,5,6,7,8,9,10]:\n",
    "    quadrat = i ** 2\n",
    "    print(quadrat)\n",
    "```\n",
    "````\n",
    "\n",
    "Für den Python-Interpreter ist es unerheblich, mit welchen Datentypen die Liste\n",
    "gefüllt ist, die in der for-Schleife durchlaufen wird. Auch eine Liste mit\n",
    "Strings stellt kein Problem dar, wie das folgende Beispiel zeigt:"
   ]
  },
  {
   "cell_type": "code",
   "execution_count": 4,
   "id": "bde0d83b",
   "metadata": {},
   "outputs": [
    {
     "name": "stdout",
     "output_type": "stream",
     "text": [
      "Januar\n",
      "Februar\n",
      "März\n",
      "April\n",
      "Mai\n",
      "Juni\n",
      "Juli\n",
      "August\n",
      "September\n",
      "Oktober\n",
      "November\n",
      "Dezember\n"
     ]
    }
   ],
   "source": [
    "monate = ['Januar', 'Februar', 'März', 'April', 'Mai', 'Juni', \n",
    "'Juli', 'August', 'September', 'Oktober', 'November', 'Dezember']\n",
    "\n",
    "for monat in monate:\n",
    "    print(monat)"
   ]
  },
  {
   "cell_type": "markdown",
   "id": "23b4190b",
   "metadata": {},
   "source": [
    "Am besten probieren Sie es einmal selbst aus:\n",
    "\n",
    "```{admonition} Mini-Übung\n",
    ":class: miniexercise\n",
    "Schreiben Sie eine for-Schleife, die die klassischen Schulnoten »sehr gut«  bis\n",
    "»ungenügend« einzeln ausgibt. Zur Erinnerung: die deutschen Schulnoten\n",
    "lauten sehr gut, gut, befriedigend, ausreichend, mangelhaft und ungenügend.\n",
    "```"
   ]
  },
  {
   "cell_type": "code",
   "execution_count": 5,
   "id": "3c0209be",
   "metadata": {},
   "outputs": [],
   "source": [
    "# Hier Ihr Code."
   ]
  },
  {
   "cell_type": "markdown",
   "id": "5bc6d358",
   "metadata": {},
   "source": [
    "````{admonition} Lösung\n",
    ":class: minisolution, toggle\n",
    "```python\n",
    "# Erzeugung Liste\n",
    "noten_liste = [\"sehr gut\", \"gut\", \"befriedigend\", \"ausreichend\", \"mangelhaft\", \"ungenügend\"]\n",
    "\n",
    "# Ausgabe \n",
    "for note in noten_liste:\n",
    "    print(note)\n",
    "```\n",
    "````\n",
    "\n",
    "```{dropdown} Video \"for-Schleife\" von Programmieren Starten\n",
    "<iframe width=\"560\" height=\"315\" src=\"https://www.youtube.com/embed/ISo1uqLcVw8?si=HhdcBq1rzxtLZ10L\" title=\"YouTube video player\" frameborder=\"0\" allow=\"accelerometer;\n",
    "autoplay; clipboard-write; encrypted-media; gyroscope; picture-in-picture; web-share\" referrerpolicy=\"strict-origin-when-cross-origin\" allowfullscreen></iframe>\n",
    "```\n",
    "\n",
    "## for-Schleifen mit range()\n",
    "\n",
    "In vielen Fällen möchten wir eine Schleife für eine bestimmte Anzahl von\n",
    "Iterationen ausführen. In Python können wir dies mit Hilfe der\n",
    "`range()`-Funktion erreichen. Die range()-Funktion generiert ein spezielles\n",
    "Objekt von Zahlen, die wir dann anschließend in einer for-Schleife verwenden\n",
    "können. Natürlich kann die Liste von Zahlen auch für andere Dinge genutzt\n",
    "werden, aber die Verwendung für for-Schleifen ist sicherlich der häufigste\n",
    "Einsatzzweck von range().\n",
    "\n",
    "Die Syntax der range()-Funktion ist:\n",
    "\n",
    "```python\n",
    "range(stop)               # erzeugt Zahlen von 0 bis (stop - 1)\n",
    "range(start, stop)        # erzeugt Zahlen von start bis (stop - 1)\n",
    "range(start, stop, step)  # erzeugt Zahlen von start bis (stop - 1) mit der Schrittweite step\n",
    "```\n",
    "\n",
    "Es ist schwierig, sich den Inhalt von `range()` direkt anzuschauen. Am\n",
    "einfachsten ist es, die range()-Funktion direkt mit der for-Schleife zu\n",
    "kombinieren.\n",
    "\n",
    "```python\n",
    "for i in range(start, stop, step):\n",
    "    anweisungen\n",
    "```\n",
    "\n",
    "Hier ist `i` die Schleifenvarible, die nacheinander bei jedem Schleifendurchgang\n",
    "die Werte in der von range() erzeugten Liste annimmt. Im Folgenden finden Sie\n",
    "einige Beispiele für die Verwendung von for-Schleifen mit range():"
   ]
  },
  {
   "cell_type": "code",
   "execution_count": 6,
   "id": "2e1e6c1e",
   "metadata": {},
   "outputs": [
    {
     "name": "stdout",
     "output_type": "stream",
     "text": [
      "0\n",
      "1\n",
      "2\n",
      "3\n",
      "4\n"
     ]
    }
   ],
   "source": [
    "for i in range(5):\n",
    "    print(i)"
   ]
  },
  {
   "cell_type": "markdown",
   "id": "ff51bb36",
   "metadata": {},
   "source": [
    "`range(5)` erzeugt eine Liste mit den Zahlen 0, 1, 2, 3, 4, die dann durch die\n",
    "`print()`-Funktion nacheinander ausgegeben werden."
   ]
  },
  {
   "cell_type": "code",
   "execution_count": 7,
   "id": "286aee84",
   "metadata": {},
   "outputs": [
    {
     "name": "stdout",
     "output_type": "stream",
     "text": [
      "2\n",
      "3\n",
      "4\n",
      "5\n"
     ]
    }
   ],
   "source": [
    "for i in range(2, 6):      \n",
    "    print(i)"
   ]
  },
  {
   "cell_type": "markdown",
   "id": "a743e495",
   "metadata": {},
   "source": [
    "`range(2,6)` erzeugt eine Liste mit den Zahlen 2, 3, 4, 5. Achtung, die 6 gehört\n",
    "nicht dazu, da das letzte Element der Liste ja die stop-Zahl - 1 ist."
   ]
  },
  {
   "cell_type": "code",
   "execution_count": 8,
   "id": "d9b9c715",
   "metadata": {},
   "outputs": [
    {
     "name": "stdout",
     "output_type": "stream",
     "text": [
      "1\n",
      "3\n",
      "5\n",
      "7\n",
      "9\n"
     ]
    }
   ],
   "source": [
    "for i in range(1, 10, 2): \n",
    "    print(i)"
   ]
  },
  {
   "cell_type": "markdown",
   "id": "c68477db",
   "metadata": {},
   "source": [
    "`range(1, 10, 2)` erzeugt die Liste 1, 3, 5, 7, 9.\n",
    "\n",
    "Um die Bedeutung der Schrittweite `step` zu zeigen, können wir einmal eine\n",
    "negative Schrittweite ausprobieren."
   ]
  },
  {
   "cell_type": "code",
   "execution_count": 9,
   "id": "81f943a8",
   "metadata": {},
   "outputs": [
    {
     "name": "stdout",
     "output_type": "stream",
     "text": [
      "10\n",
      "9\n",
      "8\n",
      "7\n",
      "6\n",
      "5\n",
      "4\n",
      "3\n",
      "2\n",
      "1\n"
     ]
    }
   ],
   "source": [
    "for i in range(10, 0, -1):\n",
    "    print(i)"
   ]
  },
  {
   "cell_type": "markdown",
   "id": "5f97555c",
   "metadata": {},
   "source": [
    "Die negative Schrittweite `step = -1` führt dazu, dass der Python-Interpreter\n",
    "rückwärts zählt.\n",
    "\n",
    "```{admonition} Mini-Übung\n",
    ":class: miniexercise\n",
    "Lassen Sie die Dreier-Zahlen von 3 bis 99 ausgeben, also 3, 6, 9, 12, 15, ..., 96, 99.\n",
    "```"
   ]
  },
  {
   "cell_type": "code",
   "execution_count": 10,
   "id": "c1c4e7c3",
   "metadata": {},
   "outputs": [],
   "source": [
    "# Hier Ihr Code."
   ]
  },
  {
   "cell_type": "markdown",
   "id": "2504e0f0",
   "metadata": {},
   "source": [
    "````{admonition} Lösung\n",
    ":class: minisolution, toggle\n",
    "```python\n",
    "for i in range(3, 100, 3):\n",
    "    print(i)\n",
    "```\n",
    "````\n",
    "\n",
    "Insbesondere, wenn die Anzahl der Wiederholungen feststeht, kommt die\n",
    "for-Schleife in Kombination mit range() zum Einsatz. Im Folgenden sehen wir uns\n",
    "ein Beispiel dazu an.\n",
    "\n",
    "Beispiel: Berechnung der Summe der ersten 10 natürlichen Zahlen"
   ]
  },
  {
   "cell_type": "code",
   "execution_count": 11,
   "id": "5571ec61",
   "metadata": {},
   "outputs": [
    {
     "name": "stdout",
     "output_type": "stream",
     "text": [
      "Die Summe der ersten 10 natürlichen Zahlen ist:  55\n"
     ]
    }
   ],
   "source": [
    "summe = 0\n",
    "for i in range(1, 11):\n",
    "    summe += i\n",
    "\n",
    "print(\"Die Summe der ersten 10 natürlichen Zahlen ist: \", summe)"
   ]
  },
  {
   "cell_type": "markdown",
   "id": "f8af2700",
   "metadata": {},
   "source": [
    "```{admonition} Mini-Übung\n",
    ":class: miniexercise\n",
    "Schreiben Sie ein Programm, dass die Summe der ersten n Quadratzahlen berechnet.\n",
    "```"
   ]
  },
  {
   "cell_type": "code",
   "execution_count": 12,
   "id": "f4c51ec8",
   "metadata": {},
   "outputs": [],
   "source": [
    "# Hier Ihr Code."
   ]
  },
  {
   "cell_type": "markdown",
   "id": "c5494adf",
   "metadata": {},
   "source": [
    "````{admonition} Lösung\n",
    ":class: minisolution, toggle\n",
    "```python\n",
    "n = 5  # Beispielwert\n",
    "summe = 0\n",
    "\n",
    "for i in range(1, n + 1):\n",
    "    summe += i ** 2\n",
    "\n",
    "print(\"Die Summe der ersten Quadratzahlen ist:\", summe)\n",
    "```\n",
    "\n",
    "Hier ist die Variable `n` im Python-Code gesetzt worden. Schöner wäre eine interaktive Abfrage mit der input()-Funktion:\n",
    "```python\n",
    "n = int(input('Wie viele Quadratzahlen sollen summiert werden?))\n",
    "```\n",
    "Aber das war nicht gefragt.\n",
    "````\n",
    "\n",
    "```{dropdown} Video \"for-Schleife mit range()\" von Programmieren Starten\n",
    "<iframe width=\"560\" height=\"315\" src=\"https://www.youtube.com/embed/pQh5Idw2sKM?si=TKEewQnlA8At66KA\" title=\"YouTube video player\" frameborder=\"0\" allow=\"accelerometer; \n",
    "autoplay; clipboard-write; encrypted-media; gyroscope; picture-in-picture; web-share\" referrerpolicy=\"strict-origin-when-cross-origin\" allowfullscreen></iframe>\n",
    "```\n",
    "\n",
    "## Zusammenfassung und Ausblick\n",
    "\n",
    "In diesem Kapitel haben wir gelernt, wie man in Python for-Schleifen verwendet,\n",
    "um Wiederholungen umzusetzen. Wir haben zwei Varianten kennengelernt: die\n",
    "for-Schleife mit Listen und die for-Schleife mit der range()-Funktion. Dabei\n",
    "haben wir Begriffe wie Schleifenvariable, Kopfzeile und Einrückung eingeführt\n",
    "und deren Bedeutung erklärt. Anhand von Beispielen und Übungen haben wir\n",
    "gesehen, wie man Listen von Zahlen oder Texten durchläuft und die Elemente\n",
    "weiterverarbeitet. Außerdem haben wir gelernt, wie man mit range() Zahlenfolgen\n",
    "erzeugt – auch mit Startwert, Stoppwert und Schrittweite. Im nächsten Kapitel\n",
    "werden wir das Thema Strings erneut aufgreifen und vertiefen."
   ]
  }
 ],
 "metadata": {
  "jupytext": {
   "text_representation": {
    "extension": ".md",
    "format_name": "myst",
    "format_version": 0.13,
    "jupytext_version": "1.14.5"
   }
  },
  "kernelspec": {
   "display_name": "turtle",
   "language": "python",
   "name": "python3"
  },
  "language_info": {
   "codemirror_mode": {
    "name": "ipython",
    "version": 3
   },
   "file_extension": ".py",
   "mimetype": "text/x-python",
   "name": "python",
   "nbconvert_exporter": "python",
   "pygments_lexer": "ipython3",
   "version": "3.12.2"
  },
  "source_map": [
   12,
   53,
   56,
   102,
   108,
   115,
   117,
   132,
   138,
   149,
   151,
   201,
   204,
   209,
   212,
   217,
   220,
   227,
   230,
   240,
   242,
   258,
   264,
   271,
   273
  ]
 },
 "nbformat": 4,
 "nbformat_minor": 5
}