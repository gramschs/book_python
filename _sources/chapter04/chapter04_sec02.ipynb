{
 "cells": [
  {
   "cell_type": "markdown",
   "id": "e62f70ef",
   "metadata": {},
   "source": [
    "(ref04_sec01)=\n",
    "# 4.2 for-Schleifen mit range\n",
    "\n",
    "```{admonition} Warnung\n",
    ":class: warning\n",
    "Achtung, dieser Abschnitt des Vorlesungsskriptes wird gerade überarbeitet!!!\n",
    "```\n",
    "\n",
    "```{admonition} Lernziele\n",
    ":class: hint\n",
    "* TODO\n",
    "```"
   ]
  }
 ],
 "metadata": {
  "jupytext": {
   "text_representation": {
    "extension": ".md",
    "format_name": "myst",
    "format_version": 0.13,
    "jupytext_version": "1.14.5"
   }
  },
  "kernelspec": {
   "display_name": "turtle",
   "language": "python",
   "name": "python3"
  },
  "language_info": {
   "codemirror_mode": {
    "name": "ipython",
    "version": 3
   },
   "file_extension": ".py",
   "mimetype": "text/x-python",
   "name": "python",
   "nbconvert_exporter": "python",
   "pygments_lexer": "ipython3",
   "version": "3.9.15"
  },
  "source_map": [
   12
  ]
 },
 "nbformat": 4,
 "nbformat_minor": 5
}