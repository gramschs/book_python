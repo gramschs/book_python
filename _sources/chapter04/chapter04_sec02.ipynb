{
 "cells": [
  {
   "cell_type": "markdown",
   "id": "0f065790",
   "metadata": {},
   "source": [
    "# 4.2 Strings\n",
    "\n",
    "Den Datentyp String haben Sie bereits zu Beginn im Kapitel \"Einstieg in die\n",
    "Programmierung\" kennengelernt. Bis jetzt haben wir Strings vor allem dazu\n",
    "benutzt, um mit der print()-Funktion etwas auszugeben. In diesem Jupyter\n",
    "Notebook geht es nun darum, Strings auch zu manipulieren und mit den sogenannten\n",
    "f-Strings auch formatierte Ausgaben zu produzieren.\n",
    "\n",
    "## Lernziele\n",
    "\n",
    "```{admonition} Lernziele\n",
    ":class: goals\n",
    "* Sie wissen, dass Strings unveränderliche Container sind und welche\n",
    "  Konsequenzen das für die Programmierung hat.\n",
    "* Sie können mit dem Index auf einzelne Zeichen eines Strings zugreifen.\n",
    "* Sie können Strings mit dem Plus-Operator **verketten**.\n",
    "* Sie können mit der **.replace()**-Methode einen Teilstring in einem String\n",
    "  durch einen anderen Teilstring ersetzen.\n",
    "* Sie können mit einem **f-String** den Wert einer Variablen in einen String\n",
    "  einbetten und zur Laufzeit anzeigen lassen.\n",
    "```\n",
    "\n",
    "## Strings sind Container\n",
    "\n",
    "Im deutschen Fachbegriff Zeichenketten steckt schon die Idee, Strings als eine\n",
    "Verkettung von einzelnen Zeichen zu interpretieren. Mit dieser Idee ist dann\n",
    "vielleicht auch nicht verwunderlich, dass die einzelnen Zeichen eines Strings\n",
    "über den Index angesprochen werden können."
   ]
  },
  {
   "cell_type": "code",
   "execution_count": 1,
   "id": "14ad9185",
   "metadata": {},
   "outputs": [
    {
     "name": "stdout",
     "output_type": "stream",
     "text": [
      "Hallo, Du da!\n",
      "2. Zeichen: \n",
      "a\n"
     ]
    }
   ],
   "source": [
    "# Erzeugung und Anzeige String\n",
    "mein_string = 'Hallo, Du da!'\n",
    "print(mein_string)\n",
    "\n",
    "# Zugriff auf einzelne Zeichen per Index\n",
    "print('2. Zeichen: ')\n",
    "print(mein_string[1])"
   ]
  },
  {
   "cell_type": "markdown",
   "id": "91f77cfd",
   "metadata": {},
   "source": [
    "Aber welche Zeichen gehören dazu? Probieren Sie die folgende Mini-Übung aus.\n",
    "\n",
    "```{admonition} Mini-Übung\n",
    ":class: miniexercise\n",
    "Speichern Sie den String 'Hallo, Du da!' in einer Variable. Beantworten Sie\n",
    "folgende Fragen zuerst durch Überlegen, dann durch Ausprobieren.\n",
    "\n",
    "* Was ist der größte Index des String 'Hallo, Du da!'?\n",
    "* Was passiert, wenn Sie versuchen, auf den Index 20 zuzugreifen?\n",
    "* Welches Zeichen hat den Index 6?\n",
    "```"
   ]
  },
  {
   "cell_type": "code",
   "execution_count": 2,
   "id": "0968dfb1",
   "metadata": {},
   "outputs": [],
   "source": [
    "# Hier Ihr Code."
   ]
  },
  {
   "cell_type": "markdown",
   "id": "5b9b0ca1",
   "metadata": {},
   "source": [
    "````{admonition} Lösung\n",
    ":class: minisolution, toggle\n",
    "* Der größte Index ist 12.\n",
    "* Beim Versuch, auf Index 20 zuzugreifen, gibt es eine Fehlermeldung:\n",
    "  'IndexError: string index out of range'. Der Index 20 ist außerhalb des\n",
    "  zulässigen Indexbereichs von 0 bis 12.\n",
    "* Das Zeichen an Indexposition 6 ist ein Leerzeichen. Leerzeichen sind auch\n",
    "  Zeichen und müssen mitgezählt werden.\n",
    "````\n",
    "\n",
    "Mit den beiden for-Schleifen der letzten beiden Abschnitte können wir die\n",
    "Zeichen auch einzeln ausgeben lassen. Als erstes nutzen wir die for-Schleife\n",
    "direkt:"
   ]
  },
  {
   "cell_type": "code",
   "execution_count": 3,
   "id": "4dfd0efd",
   "metadata": {},
   "outputs": [
    {
     "name": "stdout",
     "output_type": "stream",
     "text": [
      "H\n",
      "a\n",
      "l\n",
      "l\n",
      "o\n",
      ",\n",
      " \n",
      "D\n",
      "u\n",
      " \n",
      "D\n",
      "a\n",
      "!\n"
     ]
    }
   ],
   "source": [
    "for zeichen in 'Hallo, Du Da!':\n",
    "    print(zeichen)"
   ]
  },
  {
   "cell_type": "markdown",
   "id": "6b22eeba",
   "metadata": {},
   "source": [
    "Als nächstes wird über den Index iteriert. Iteration ist der Fachbegriff für das\n",
    "mehrfache Wiederholen einer Anweisung."
   ]
  },
  {
   "cell_type": "code",
   "execution_count": 4,
   "id": "60dff860",
   "metadata": {},
   "outputs": [
    {
     "name": "stdout",
     "output_type": "stream",
     "text": [
      "H\n",
      "a\n",
      "l\n",
      "l\n",
      "o\n",
      ",\n",
      " \n",
      "D\n",
      "u\n",
      " \n",
      "d\n",
      "a\n",
      "!\n"
     ]
    }
   ],
   "source": [
    "mein_string = 'Hallo, Du da!'\n",
    "for i in range(13):\n",
    "    zeichen = mein_string[i]\n",
    "    print(zeichen)"
   ]
  },
  {
   "cell_type": "markdown",
   "id": "ba21059f",
   "metadata": {},
   "source": [
    "Woher kommt die magische Zahl 13 in dem obigen `range()`-Objekt? Das ist die\n",
    "Länge des Strings, die wir besser mit der `len()`-Funktion bestimmen lassen."
   ]
  },
  {
   "cell_type": "code",
   "execution_count": 5,
   "id": "1d7b1684",
   "metadata": {},
   "outputs": [
    {
     "name": "stdout",
     "output_type": "stream",
     "text": [
      "H\n",
      "a\n",
      "l\n",
      "l\n",
      "o\n",
      ",\n",
      " \n",
      "D\n",
      "u\n",
      " \n",
      "d\n",
      "a\n",
      "!\n"
     ]
    }
   ],
   "source": [
    "mein_string = 'Hallo, Du da!'\n",
    "laenge = len(mein_string)\n",
    "for i in range(laenge):\n",
    "    zeichen = mein_string[i]\n",
    "    print(zeichen)"
   ]
  },
  {
   "cell_type": "markdown",
   "id": "0d2d4de3",
   "metadata": {},
   "source": [
    "## Strings sind unveränderlich\n",
    "\n",
    "Bei Listen können wir einzelne Elemente der Liste direkt manipulieren, z.B.\n",
    "können wir das dritte Element durch ein anderes ersetzen wie in dem folgenden\n",
    "Beispiel."
   ]
  },
  {
   "cell_type": "code",
   "execution_count": 6,
   "id": "9770a315",
   "metadata": {},
   "outputs": [
    {
     "name": "stdout",
     "output_type": "stream",
     "text": [
      "Am Anfang: \n",
      "['Eins', 'Zwei', 'Drei', 'Vier', 'Fünf']\n",
      "Nach dem Austausch:\n",
      "['Eins', 'Zwei', 'MMMH', 'Vier', 'Fünf']\n"
     ]
    }
   ],
   "source": [
    "meine_liste = ['Eins', 'Zwei', 'Drei', 'Vier', 'Fünf']\n",
    "print('Am Anfang: ')\n",
    "print(meine_liste)\n",
    "\n",
    "# Austausch der 'Drei' durch 'MMMH'\n",
    "meine_liste[2] = 'MMMH'\n",
    "print('Nach dem Austausch:')\n",
    "print(meine_liste)"
   ]
  },
  {
   "cell_type": "markdown",
   "id": "10a951b8",
   "metadata": {},
   "source": [
    "Obwohl Strings genau wie Listen Container sind, funktioniert die Manipulation\n",
    "eines einzelnen Zeichens in einem String leider nicht. Entfernen Sie in der\n",
    "folgenden Code-Zelle den Kommentar vor `wort[0] = 'H'`. Was passiert?"
   ]
  },
  {
   "cell_type": "code",
   "execution_count": 7,
   "id": "070a1ac9",
   "metadata": {},
   "outputs": [
    {
     "name": "stdout",
     "output_type": "stream",
     "text": [
      "Am Anfang: \n",
      "hallo!\n",
      "Nach dem Austausch:\n",
      "hallo!\n"
     ]
    }
   ],
   "source": [
    "wort = 'hallo!'\n",
    "print('Am Anfang: ')\n",
    "print(wort)\n",
    "\n",
    "# Austausch des kleinen Buchstaben h durch ein großes H \n",
    "# wort[0] = 'H'\n",
    "print('Nach dem Austausch:')\n",
    "print(wort)"
   ]
  },
  {
   "cell_type": "markdown",
   "id": "75c0739b",
   "metadata": {},
   "source": [
    "Der Python-Interpreter gibt eine Fehlermeldung aus: 'str' object does not\n",
    "support item assignment'. Ein item ist ein einzelnes Element der Liste und\n",
    "assignment ist das englische Wort für Zuweisung. Auf Deutsch lautet diese\n",
    "Fehlermeldung also, dass ein String-Objekt die Zuweisung eines einzelnen\n",
    "Elements/Zeichens nicht unterstützt. Oder anders ausgedrückt, es ist verboten,\n",
    "einen String durch eine Zuweisung zu ändern.\n",
    "\n",
    "Bei Strings handelt es sich um einen sogenannten **unveränderlichen Datentyp**.\n",
    "Das bedeutet, dass der Inhalt eines Strings nach seiner Erstellung nicht mehr\n",
    "verändert werden kann.\n",
    "\n",
    "Es gibt andere Programmiersprachen wie beispielsweise C und MATLAB, in denen\n",
    "Strings als veränderliche Objekte umgesetzt sind. Die Entwickler:innen von\n",
    "Python haben sich bei der Entwicklung von Python aus Gründen der\n",
    "Speichereffizienz und der Sicherheit von daraus abgeleiten Datentypen (z.B.\n",
    "Dictionaries) dagegen entschieden.\n",
    "\n",
    "## Und wenn doch ein String geändert werden soll?\n",
    "\n",
    "Natürlich kann es dennoch vielfältige Gründe geben, einen String nach seiner\n",
    "Erstellung noch abzuändern. Beispielsweise könnte bei einer Benutzereingabe ein\n",
    "Tippfehler aufgetreten sein, der korrigiert werden soll. Obwohl Strings in\n",
    "Python unveränderlich sind, gibt es immer noch viele Operationen, die auf\n",
    "Strings ausgeführt werden können, wie z.B. das Anhängen von Strings, das Suchen\n",
    "oder das Ersetzen von Teilstrings. Allerdings wird in diesen Fällen nicht der\n",
    "ursprüngliche String modifiziert, sondern ein neuer String erzeugt.\n",
    "\n",
    "### Verketten von Strings\n",
    "\n",
    "Sie können Strings in Python einfach aneinanderhängen (verketten), indem Sie den\n",
    "`+`-Operator verwenden. Hier ist ein Beispiel:"
   ]
  },
  {
   "cell_type": "code",
   "execution_count": 8,
   "id": "f16c17db",
   "metadata": {},
   "outputs": [
    {
     "name": "stdout",
     "output_type": "stream",
     "text": [
      "Hallo Alice!\n"
     ]
    }
   ],
   "source": [
    "name  = 'Alice'\n",
    "gruss = 'Hallo ' + name + '!'\n",
    "print(gruss)"
   ]
  },
  {
   "cell_type": "markdown",
   "id": "9c931d7e",
   "metadata": {},
   "source": [
    "Allerdings haben Sie damit nicht wirklich den String geändert, sondern einen\n",
    "neuen String erzeugt.\n",
    "\n",
    "### Ersetzen von Teilstrings\n",
    "\n",
    "Python bietet mehrere Methoden zum Suchen und Ersetzen von Teilstrings in einem\n",
    "String. Eine dieser Methoden ist `.replace()`. Hier ist ein Beispiel:"
   ]
  },
  {
   "cell_type": "code",
   "execution_count": 9,
   "id": "b776e0b5",
   "metadata": {},
   "outputs": [
    {
     "name": "stdout",
     "output_type": "stream",
     "text": [
      "Python ist eine großartige Programmiersprache!\n"
     ]
    }
   ],
   "source": [
    "text = 'MATLAB ist eine großartige Programmiersprache!'\n",
    "neuer_text = text.replace('MATLAB', 'Python')\n",
    "print(neuer_text)"
   ]
  },
  {
   "cell_type": "markdown",
   "id": "d93eac6d",
   "metadata": {},
   "source": [
    "In diesem Beispiel haben wir den Teilstring \"MATLAB\" durch den Teilstring\n",
    "\"Python\" ersetzt. Wie Sie sehen, mussten wir für den abgeänderten Text eine neue\n",
    "Variable namens `neuer_text` verwenden. Wenn mehrfach Änderungen des Strings\n",
    "durchgeführt werden sollen, ist das Ausdenken von neuen Variablennamen lästig.\n",
    "Dann kann der ursprüngliche Variablenname wiederverwendet werden, wie im\n",
    "folgenden Beispiel."
   ]
  },
  {
   "cell_type": "code",
   "execution_count": 10,
   "id": "e8297c90",
   "metadata": {},
   "outputs": [
    {
     "name": "stdout",
     "output_type": "stream",
     "text": [
      "Python ist eine großartige Programmiersprache!\n"
     ]
    }
   ],
   "source": [
    "text = 'MATLAB ist eine großartige Programmiersprache!'\n",
    "text = text.replace('MATLAB', 'Python')\n",
    "print(text)"
   ]
  },
  {
   "cell_type": "markdown",
   "id": "ca5d5149",
   "metadata": {},
   "source": [
    "Es gibt viele andere nützliche Operationen, die Sie auf Strings in Python\n",
    "ausführen können, wie z.B. das Suchen von Teilstrings mit der `.find()`-Methode,\n",
    "das Zählen von Vorkommen von Teilstrings mit der `.count()`-Methode und das\n",
    "Konvertieren von Strings in Groß- oder Kleinbuchstaben mit den Methoden\n",
    "`.upper()` und `.lower()`. In der nächsten Mini-Übung probieren wir noch einmal\n",
    "die `.replace()`-Methode aus.\n",
    "\n",
    "````{admonition} Mini-Übung\n",
    ":class: miniexercise\n",
    "Schreiben Sie ein Programm, das in dem Spruch \"Zehn Ziegen zogen 10 Kilogramm\n",
    "Zucker zum Zoo.\" die Einheit Kilogramm durch Zentner ersetzt. Lassen Sie den\n",
    "Spruch vor und nach der Korrektur ausgeben.\n",
    "````"
   ]
  },
  {
   "cell_type": "code",
   "execution_count": 11,
   "id": "6ce4a9eb",
   "metadata": {},
   "outputs": [],
   "source": [
    "# Hier Ihr Code."
   ]
  },
  {
   "cell_type": "markdown",
   "id": "f6461e49",
   "metadata": {},
   "source": [
    "````{admonition} Lösung\n",
    ":class: minisolution, toggle\n",
    "```python\n",
    "spruch = 'Zehn Ziegen zogen 10 Kilogramm Zucker zum Zoo.'\n",
    "\n",
    "print('Vor dem Anwenden der .replace()-Methode: ')\n",
    "print(spruch)\n",
    "\n",
    "print('Jetzt wird .replace() angewendet: ')\n",
    "spruch = spruch.replace('Kilogramm', 'Zentner')\n",
    "print(spruch)\n",
    "```\n",
    "````\n",
    "\n",
    "## Formatierte Strings (f-Strings)\n",
    "\n",
    "Zum Schluss behandeln wir noch formatierte Strings, die sogenannten f-Strings.\n",
    "Seit Python 3.6 erleichtert dieser Typ von String die Programmierung. Falls Sie\n",
    "Python-Code sehen, in dem Prozentzeichen vorkommen (ganz, ganz alt) oder die\n",
    ".format()-Methode benutzt wird, wundern Sie sich nicht. In dieser Vorlesung\n",
    "verwenden wir f-Strings.\n",
    "\n",
    "f-Strings sind die Abkürzung für \"formatted string literals\". Sie ermöglichen\n",
    "es, den Wert einer Variable oder einen Ausdruck direkt in den String\n",
    "einzubetten. Dazu werden geschweifte Klammern verwendet, also `{` und `}` und zu\n",
    "Beginn des Strings wird ein `f` eingefügt, um aus dem String einen f-String zu\n",
    "machen. Der Python-Interpreter fügt dann zur Laufzeit des Programms den\n",
    "entsprechenden Wert der Variable in den String ein.\n",
    "\n",
    "Hier ein Beispiel:"
   ]
  },
  {
   "cell_type": "code",
   "execution_count": 12,
   "id": "9e69b1ca",
   "metadata": {},
   "outputs": [
    {
     "name": "stdout",
     "output_type": "stream",
     "text": [
      "Mein Name ist Alice und ich bin 14 Jahre alt.\n"
     ]
    }
   ],
   "source": [
    "name = 'Alice'\n",
    "alter = 14\n",
    "print(f'Mein Name ist {name} und ich bin {alter} Jahre alt.')"
   ]
  },
  {
   "cell_type": "markdown",
   "id": "92d57ee0",
   "metadata": {},
   "source": [
    "Insbesondere bei Ausgabe von Zahlen sind f-Strings besonders nützlich. Wenn nach\n",
    "dem Variablennamen ein Doppelpunkt eingefügt wird, kann danach die Anzahl der\n",
    "gewünschten Stellen vor dem Komma (hier natürlich ein Punkt) und der\n",
    "Nachkommastellen festgelegt werden. Zusätzlich setzen wir ein `f` in die\n",
    "geschweiften Klammern, um einen Float anzeigen zu lassen. Im folgenden Beispiel\n",
    "geben wir $\\pi$ auf zwei Nachkommastellen an."
   ]
  },
  {
   "cell_type": "code",
   "execution_count": 13,
   "id": "c5b9abe8",
   "metadata": {},
   "outputs": [
    {
     "name": "stdout",
     "output_type": "stream",
     "text": [
      "Pi = 3.14\n"
     ]
    }
   ],
   "source": [
    "from numpy import pi\n",
    "\n",
    "print(f'Pi = {pi:.2f}')"
   ]
  },
  {
   "cell_type": "markdown",
   "id": "eedc39b6",
   "metadata": {},
   "source": [
    "Es ist schwierig, sich alle Formatierungsoptionen zu merken. Auf der\n",
    "Internetseite\n",
    "[https://cheatography.com/brianallan/cheat-sheets/python-f-strings-basics/](https://cheatography.com/brianallan/cheat-sheets/python-f-strings-basics/)\n",
    "finden Sie eine umfangreiche Übersicht und können sich zudem ein pdf-Dokument\n",
    "herunterladen.\n",
    "\n",
    "````{admonition} Mini-Übung\n",
    ":class: miniexercise\n",
    "Schreiben Sie ein Programm, mit dem der Flächeninhalt eines Rechtecks berechnet werden soll. Die beide Seitenlängen werden jeweils in den Variablen `laenge` und `breite` gespeichert (suchen Sie sich eigene Zahlen aus). Ausgegeben werden soll dann: \"Der Flächeninhalt eines Rechtecks mit den Seiten XX und XX ist XX.\", wobei XX durch die korrekten Zahlen ersetzt werden und der Flächeninhalt auf eine Nachkommastelle gerundet werden soll.\n",
    "````"
   ]
  },
  {
   "cell_type": "code",
   "execution_count": 14,
   "id": "f02eab3f",
   "metadata": {},
   "outputs": [],
   "source": [
    "# Hier Ihr Code."
   ]
  },
  {
   "cell_type": "markdown",
   "id": "b4d004a0",
   "metadata": {},
   "source": [
    "````{admonition} Lösung\n",
    ":class: minisolution, toggle\n",
    "```python\n",
    "# Eingabe\n",
    "laenge = 5.5\n",
    "breite = 6.3\n",
    "\n",
    "# Verarbeitung\n",
    "flaeche = laenge * breite\n",
    "\n",
    "# Ausgabe \n",
    "print(f'Der Flächeninhalt eines Rechtecks mit den Seiten {laenge} und {breite} ist {flaeche:.1f}.')\n",
    "```\n",
    "````\n",
    "\n",
    "## Zusammenfassung und Ausblick\n",
    "\n",
    "In diesem Kapitel haben wir gelernt, dass Strings unveränderlich sind. Werden\n",
    "Strings manipuliert, müssen wir das Ergebnis explizit in einer neuen Variablen\n",
    "speichern, sollten wir mit dem manipuliertem String weiter arbeiten wollen. Im\n",
    "nächsten Kapitel betrachten wir Zufallszahlen."
   ]
  }
 ],
 "metadata": {
  "jupytext": {
   "text_representation": {
    "extension": ".md",
    "format_name": "myst",
    "format_version": 0.13,
    "jupytext_version": "1.14.5"
   }
  },
  "kernelspec": {
   "display_name": "turtle",
   "language": "python",
   "name": "python3"
  },
  "language_info": {
   "codemirror_mode": {
    "name": "ipython",
    "version": 3
   },
   "file_extension": ".py",
   "mimetype": "text/x-python",
   "name": "python",
   "nbconvert_exporter": "python",
   "pygments_lexer": "ipython3",
   "version": "3.12.2"
  },
  "source_map": [
   12,
   43,
   51,
   65,
   67,
   83,
   86,
   91,
   96,
   101,
   107,
   115,
   124,
   130,
   139,
   173,
   177,
   187,
   191,
   200,
   204,
   220,
   222,
   255,
   259,
   268,
   272,
   285,
   287
  ]
 },
 "nbformat": 4,
 "nbformat_minor": 5
}