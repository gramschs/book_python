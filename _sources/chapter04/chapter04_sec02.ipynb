{
 "cells": [
  {
   "cell_type": "markdown",
   "id": "0b316cee",
   "metadata": {},
   "source": [
    "# 4.2 Strings\n",
    "\n",
    "Den Datentyp String haben Sie bereits zu Beginn im Kapitel \"Einstieg in die\n",
    "Programmierung\" kennengelernt. Bis jetzt haben wir Strings vor allem dazu\n",
    "benutzt, um mit der print()-Funktion etwas auszugeben. In diesem Jupyter\n",
    "Notebook geht es nun darum, Strings auch zu manipulieren und mit den sogenannten\n",
    "f-Strings auch formatierte Ausgaben zu produzieren.\n",
    "\n",
    "## Lernziele\n",
    "\n",
    "```{admonition} Lernziele\n",
    ":class: admonition-goals\n",
    "* Sie wissen, dass Strings unveränderliche Container sind und welche Konsequenzen das für die Programmierung hat.\n",
    "* Sie können mit dem Index auf einzelne Zeichen eines Strings zugreifen.\n",
    "* Sie können Strings mit dem Plus-Operator **verketten**.\n",
    "* Sie können mit der **.replace()**-Methode einen Teilstring in einem String durch einen anderen Teilstring ersetzen.\n",
    "* Sie können mit einem **f-String** den Wert einer Variablen in einen String einbetten und zur Laufzeit anzeigen lassen.\n",
    "```\n",
    "\n",
    "## Strings sind Container\n",
    "\n",
    "Im deutschen Fachbegriff Zeichenketten steckt schon die Idee, Strings als eine\n",
    "Verkettung von einzelnen Zeichen zu interpretieren. Mit dieser Idee ist dann\n",
    "vielleicht auch nicht verwunderlich, dass die einzelnen Zeichen eines Strings\n",
    "über den Index angesprochen werden können."
   ]
  },
  {
   "cell_type": "code",
   "execution_count": 1,
   "id": "06ca53cf",
   "metadata": {},
   "outputs": [
    {
     "name": "stdout",
     "output_type": "stream",
     "text": [
      "Hallo, Du da!\n",
      "2. Zeichen: \n",
      "a\n"
     ]
    }
   ],
   "source": [
    "# Erzeugung und Anzeige String\n",
    "mein_string = 'Hallo, Du da!'\n",
    "print(mein_string)\n",
    "\n",
    "# Zugriff auf einzelne Zeichen per Index\n",
    "print('2. Zeichen: ')\n",
    "print(mein_string[1])"
   ]
  },
  {
   "cell_type": "markdown",
   "id": "e70a3f9a",
   "metadata": {},
   "source": [
    "Aber welche Zeichen gehören dazu? Probieren Sie die folgende Mini-Übung aus.\n",
    "\n",
    "````{admonition} Mini-Übung\n",
    ":class: miniexercise\n",
    "Speichern Sie den String 'Hallo, Du da!' in einer Variable. Beantworten Sie folgende Fragen zuerst durch Überlegen, dann durch Ausprobieren.\n",
    "\n",
    "* Was ist der größte Index des String 'Hallo, Du da!'?\n",
    "* Was passiert, wenn Sie auf den Index 20 zugreifen wollen?\n",
    "* Welches Zeichen hat den Index 6?\n",
    "````\n",
    "\n",
    "````{admonition} Lösung\n",
    ":class: miniexercise, toggle\n",
    "\n",
    "* Der größte Index ist 12.\n",
    "* Beim Versuch, auf Index 20 zuzugreifen, gibt es eine Fehlermeldung: 'IndexError: string index out of range'. Der Index 20 ist außerhalb des zulässigen Indexbereichs von 0 bis 12.\n",
    "* Das Zeichen an Indexposition 6 ist ein Leerzeichen. Leerzeichen sind auch Zeichen und müssen mitgezählt werden.\n",
    "````\n",
    "\n",
    "Mit den beiden for-Schleifen der letzten beiden Abschnitte, können wir die\n",
    "Zeichen auch einzeln ausgeben lassen. Als erstes die for-Schleife mit\n",
    "Liste/String:"
   ]
  },
  {
   "cell_type": "code",
   "execution_count": 2,
   "id": "596ca7a5",
   "metadata": {},
   "outputs": [
    {
     "name": "stdout",
     "output_type": "stream",
     "text": [
      "H\n",
      "a\n",
      "l\n",
      "l\n",
      "o\n",
      ",\n",
      " \n",
      "D\n",
      "u\n",
      " \n",
      "D\n",
      "a\n",
      "!\n"
     ]
    }
   ],
   "source": [
    "for zeichen in 'Hallo, Du Da!':\n",
    "    print(zeichen)"
   ]
  },
  {
   "cell_type": "markdown",
   "id": "d05ad42a",
   "metadata": {},
   "source": [
    "Als nächstes wird über den Index iteriert. Iteration ist der Fachbegriff für das\n",
    "mehrfache Wiederholen einer Anweisung."
   ]
  },
  {
   "cell_type": "code",
   "execution_count": 3,
   "id": "ee3bfc98",
   "metadata": {},
   "outputs": [
    {
     "name": "stdout",
     "output_type": "stream",
     "text": [
      "H\n",
      "a\n",
      "l\n",
      "l\n",
      "o\n",
      ",\n",
      " \n",
      "D\n",
      "u\n",
      " \n",
      "d\n",
      "a\n",
      "!\n"
     ]
    }
   ],
   "source": [
    "mein_string = 'Hallo, Du da!'\n",
    "for i in range(13):\n",
    "    zeichen = mein_string[i]\n",
    "    print(zeichen)"
   ]
  },
  {
   "cell_type": "markdown",
   "id": "dc2e5eb6",
   "metadata": {},
   "source": [
    "## Strings sind unveränderlich\n",
    "\n",
    "Bei den Listen haben wir einzelne Elemente der Liste manipuliert, z.B. das\n",
    "dritte Element durch ein anderes ersetzt wie in dem folgenden Beispiel."
   ]
  },
  {
   "cell_type": "code",
   "execution_count": 4,
   "id": "0f7b537a",
   "metadata": {},
   "outputs": [
    {
     "name": "stdout",
     "output_type": "stream",
     "text": [
      "Am Anfang: \n",
      "['Eins', 'Zwei', 'Drei', 'Vier', 'Fünf']\n",
      "Nach dem Austausch:\n",
      "['Eins', 'Zwei', 'MMMH', 'Vier', 'Fünf']\n"
     ]
    }
   ],
   "source": [
    "meine_liste = ['Eins', 'Zwei', 'Drei', 'Vier', 'Fünf']\n",
    "print('Am Anfang: ')\n",
    "print(meine_liste)\n",
    "\n",
    "# Austausch der 'Drei' durch 'MMMH'\n",
    "meine_liste[2] = 'MMMH'\n",
    "print('Nach dem Austausch:')\n",
    "print(meine_liste)"
   ]
  },
  {
   "cell_type": "markdown",
   "id": "62b1e896",
   "metadata": {},
   "source": [
    "Obwohl Strings auch Container sind, funktioniert die Manipulation eines\n",
    "einzelnen Zeichens in einem String leider nicht. Entfernen Sie in der folgenden\n",
    "Code-Zelle den Kommentar vor `wort[0] = 'H'`. Was passiert?"
   ]
  },
  {
   "cell_type": "code",
   "execution_count": 5,
   "id": "607cbd70",
   "metadata": {},
   "outputs": [
    {
     "name": "stdout",
     "output_type": "stream",
     "text": [
      "Am Anfang: \n",
      "hallo!\n",
      "Nach dem Austausch:\n",
      "hallo!\n"
     ]
    }
   ],
   "source": [
    "wort = 'hallo!'\n",
    "print('Am Anfang: ')\n",
    "print(wort)\n",
    "\n",
    "# Austausch des kleinen Buchstaben h durch ein großes H \n",
    "# wort[0] = 'H'\n",
    "print('Nach dem Austausch:')\n",
    "print(wort)"
   ]
  },
  {
   "cell_type": "markdown",
   "id": "52e4d329",
   "metadata": {},
   "source": [
    "Der Python-Interpreter gibt eine Fehlermeldung aus: 'str' object does not\n",
    "support item assignment. Ein item ist ein einzelnes Element der Liste und\n",
    "assignment ist das englische Wort für Zuweisung. Auf deutsch lautet diese\n",
    "Fehlermeldung also, dass ein String-Objekt die Zuweisung eines einzelnen\n",
    "Elements/Zeichens nicht unterstützt. Oder anders ausgedrückt, es ist verboten,\n",
    "einen String durch eine Zuweisung zu ändern.\n",
    "\n",
    "Bei Strings handelt es sich um einen sogenannten **unveränderlichen Datentyp**.\n",
    "Das bedeutet, dass der Inhalt eines Strings nach seiner Erstellung nicht mehr\n",
    "verändert werden kann.\n",
    "\n",
    "Es gibt andere Programmiersprachen wie beispielsweise C und MATLAB, in denen\n",
    "Strings als veränderliche Objekte umgesetzt sind. Die Entwickler:innen von\n",
    "Python haben sich bei der Entwicklung von Python aus Gründen der\n",
    "Speichereffizienz und der Sicherheit von daraus abgeleiten Datentypen (z.B.\n",
    "Dictionaries) dagegen entschieden.\n",
    "\n",
    "## Und wenn doch ein String geändert werden soll?\n",
    "\n",
    "Natürlich kann es dennoch vielfältige Gründe geben, einen String nach seiner\n",
    "Erstellung noch abzuändern. Beispielsweise könnte bei einer Benutzereingabe ein\n",
    "Tippfehler aufgetreten sein, der korrigiert werden soll. Obwohl Strings in\n",
    "Python unveränderlich sind, gibt es immer noch viele Operationen, die auf\n",
    "Strings ausgeführt werden können, wie z.B. das Anhängen von Strings, das Suchen\n",
    "oder das Ersetzen von Teilstrings. Allerdings wird in diesen Fällen nicht der\n",
    "ursprüngliche String modifiziert, sondern ein neuer String erzeugt.\n",
    "\n",
    "### Verketten von Strings\n",
    "\n",
    "Sie können Strings in Python einfach aneinanderhängen (verketten), indem Sie den\n",
    "`+`-Operator verwenden. Hier ist ein Beispiel:"
   ]
  },
  {
   "cell_type": "code",
   "execution_count": 6,
   "id": "1ee5ca7c",
   "metadata": {},
   "outputs": [
    {
     "name": "stdout",
     "output_type": "stream",
     "text": [
      "Hallo Alice!\n"
     ]
    }
   ],
   "source": [
    "name  = 'Alice'\n",
    "gruss = 'Hallo ' + name + '!'\n",
    "print(gruss)"
   ]
  },
  {
   "cell_type": "markdown",
   "id": "32ba9ddd",
   "metadata": {},
   "source": [
    "Allerdings haben Sie damit nicht wirklich den String geändert, sondern einen\n",
    "neuen String erzeugt.\n",
    "\n",
    "### Ersetzen von Teilstrings\n",
    "\n",
    "Python bietet mehrere Methoden zum Suchen und Ersetzen von Teilstrings in einem\n",
    "String. Eine dieser Methoden ist `.replace()`. Hier ist ein Beispiel:"
   ]
  },
  {
   "cell_type": "code",
   "execution_count": 7,
   "id": "5a3e49e8",
   "metadata": {},
   "outputs": [
    {
     "name": "stdout",
     "output_type": "stream",
     "text": [
      "Python ist eine großartige Programmiersprache!\n"
     ]
    }
   ],
   "source": [
    "text = 'MATLAB ist eine großartige Programmiersprache!'\n",
    "neuer_text = text.replace('MATLAB', 'Python')\n",
    "print(neuer_text)"
   ]
  },
  {
   "cell_type": "markdown",
   "id": "70f8f708",
   "metadata": {},
   "source": [
    "In diesem Beispiel haben wir den Teilstring \"MATLAB\" durch den Teilstring\n",
    "\"Python\" ersetzt. Wie Sie sehen, mussten wir für den abgeänderten Text eine neue\n",
    "Variable namens `neuer_text` verwenden. Wenn mehrfach Änderungen des Strings\n",
    "durchgeführt werden sollen, ist das Ausdenken von neuen Variablennamen lästig.\n",
    "Dann kann auch der alte Variablenname wiederverwendet werden, wie in dem\n",
    "folgendem Beispiel."
   ]
  },
  {
   "cell_type": "code",
   "execution_count": 8,
   "id": "398fd1aa",
   "metadata": {},
   "outputs": [
    {
     "name": "stdout",
     "output_type": "stream",
     "text": [
      "Python ist eine großartige Programmiersprache!\n"
     ]
    }
   ],
   "source": [
    "text = 'MATLAB ist eine großartige Programmiersprache!'\n",
    "text = text.replace('MATLAB', 'Python')\n",
    "print(text)"
   ]
  },
  {
   "cell_type": "markdown",
   "id": "5a62d27a",
   "metadata": {},
   "source": [
    "Es gibt viele andere nützliche Operationen, die Sie auf Strings in Python\n",
    "ausführen können, wie z.B. das Suchen von Teilstrings mit der `.find()`-Methode,\n",
    "das Zählen von Vorkommen von Teilstrings mit der `.count()`-Methode und das\n",
    "Konvertieren von Strings in Groß- oder Kleinbuchstaben mit den Methoden\n",
    "`.upper()` und `.lower()`. In der nächsten Mini-Übung probieren wir noch einmal\n",
    "die `.replace()`-Methode aus.\n",
    "\n",
    "````{admonition} Mini-Übung\n",
    ":class: miniexercise\n",
    "Schreiben Sie ein Programm, das in dem Spruch \"Zehn Ziegen zogen 10 Kilogramm Zucker zum Zoo.\" die Einheit Kilogramm durch Zentner ersetzt. Lassen Sie den Spruch vor und nach der Korrektur ausgeben.\n",
    "````\n",
    "\n",
    "````{admonition} Lösung\n",
    ":class: miniexercise, toggle\n",
    "```python\n",
    "spruch = 'Zehn Ziegen zogen 10 Kilogramm Zucker zum Zoo.'\n",
    "\n",
    "print('Vorher dem Anwenden der .replace()-Methode: ')\n",
    "print(spruch)\n",
    "\n",
    "print('Jetzt wird .replace() angewendet: ')\n",
    "spruch.replace('Kilogramm', 'Zentner')\n",
    "print(spruch)\n",
    "```\n",
    "````\n",
    "\n",
    "## Formatierte Strings (f-Strings)\n",
    "\n",
    "Zum Schluss behandeln wir noch formatierte Strings, die sogenannten f-Strings.\n",
    "Seit Python 3.6 erleichtert dieser Typ von String die Programmierung. Falls Sie\n",
    "Python-Code sehen, in dem Prozentzeichen vorkommen (ganz, ganz alt) oder die\n",
    ".format()-Methode benutzt wird, wundern Sie sich nicht. In dieser Vorlesung\n",
    "verwenden wir f-Strings.\n",
    "\n",
    "f-Strings sind die Abkürzung für \"formatted string literals\". Sie ermöglichen\n",
    "es, den Wert einer Variable oder einen Ausdruck direkt in den String\n",
    "einzubetten. Dazu werden geschweifte Klammern verwendet, also `{` und `}` und zu\n",
    "Beginn des Strings wird ein `f` eingefügt, um aus dem String einen f-String zu\n",
    "machen. Der Python-Interpreter fügt dann zur Laufzeit des Programms den\n",
    "entsprechenden Wert der Variable in den String ein.\n",
    "\n",
    "Hier ein Beispiel:"
   ]
  },
  {
   "cell_type": "code",
   "execution_count": 9,
   "id": "3fe38168",
   "metadata": {},
   "outputs": [
    {
     "name": "stdout",
     "output_type": "stream",
     "text": [
      "Mein Name ist Alice und ich bin 14 Jahre alt.\n"
     ]
    }
   ],
   "source": [
    "name = 'Alice'\n",
    "alter = 14\n",
    "print(f'Mein Name ist {name} und ich bin {alter} Jahre alt.')"
   ]
  },
  {
   "cell_type": "markdown",
   "id": "d6a10b5d",
   "metadata": {},
   "source": [
    "Insbesondere bei Ausgabe von Zahlen sind f-Strings besonders nützlich. Wenn nach\n",
    "dem Variablennamen ein Doppelpunkt eingefügt wird, kann danach die Anzahl der\n",
    "gewünschten Stellen vor dem Komma (hier natürlich ein Punkt) und der\n",
    "Nachkommastellen festgelegt werden. Zusätzlich setzen wir ein `f` in die\n",
    "geschweiften Klammern, um einen Float anzeigen zu lassen. Im folgenden Beispiel\n",
    "geben wir $\\pi$ auf zwei Nachkommastellen an."
   ]
  },
  {
   "cell_type": "code",
   "execution_count": 10,
   "id": "45b1ad38",
   "metadata": {},
   "outputs": [
    {
     "name": "stdout",
     "output_type": "stream",
     "text": [
      "Pi = 3.14\n"
     ]
    }
   ],
   "source": [
    "from numpy import pi\n",
    "\n",
    "print(f'Pi = {pi:1.2f}')"
   ]
  },
  {
   "cell_type": "markdown",
   "id": "d948487e",
   "metadata": {},
   "source": [
    "Es ist schwierig, sich alle Formatierungsoptionen zu merken. Auf der\n",
    "Internetseite\n",
    "[https://cheatography.com/brianallan/cheat-sheets/python-f-strings-basics/](https://cheatography.com/brianallan/cheat-sheets/python-f-strings-basics/)\n",
    "finden Sie eine umfangreiche Übersicht und können sich zudem ein pdf-Ddokument\n",
    "herunterladen.\n",
    "\n",
    "````{admonition} Mini-Übung\n",
    ":class: miniexercise\n",
    "Schreiben Sie ein Programm, mit dem der Flächeninhalt eines Rechtecks berechnet werden soll. Die beide Seitenlängen werden jeweils in den Variablen `laenge` und `breite` gespeichert (suchen Sie sich eigene Zahlen aus). Ausgegeben werden soll dann: \"Der Flächeninhalt eines Rechtecks mit den Seiten XX und XX ist XX.\", wobei XX durch die korrekten Zahlen ersetzt werden und der Flächeninhalt auf eine Nachkommastelle gerundet werden soll.\n",
    "````\n",
    "\n",
    "````{admonition} Lösung\n",
    ":class: miniexercise, toggle\n",
    "```python\n",
    "# Eingabe\n",
    "laenge = 5.5\n",
    "breite = 6.3\n",
    "\n",
    "# Verarbeitung\n",
    "flaeche = laenge * breite\n",
    "\n",
    "# Ausgabe \n",
    "print(f'Der Flächeninhalt eines Rechtecks mit den Seiten {laenge} und {breite} ist {flaeche:.1f}.')\n",
    "```\n",
    "````"
   ]
  }
 ],
 "metadata": {
  "jupytext": {
   "text_representation": {
    "extension": ".md",
    "format_name": "myst",
    "format_version": 0.13,
    "jupytext_version": "1.14.5"
   }
  },
  "kernelspec": {
   "display_name": "turtle",
   "language": "python",
   "name": "python3"
  },
  "language_info": {
   "codemirror_mode": {
    "name": "ipython",
    "version": 3
   },
   "file_extension": ".py",
   "mimetype": "text/x-python",
   "name": "python",
   "nbconvert_exporter": "python",
   "pygments_lexer": "ipython3",
   "version": "3.12.2"
  },
  "source_map": [
   12,
   40,
   48,
   73,
   76,
   81,
   86,
   93,
   102,
   108,
   117,
   151,
   155,
   165,
   169,
   178,
   182,
   227,
   231,
   240,
   244
  ]
 },
 "nbformat": 4,
 "nbformat_minor": 5
}