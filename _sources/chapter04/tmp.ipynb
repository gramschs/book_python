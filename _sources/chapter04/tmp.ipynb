{
 "cells": [
  {
   "cell_type": "code",
   "execution_count": 3,
   "metadata": {},
   "outputs": [
    {
     "name": "stdout",
     "output_type": "stream",
     "text": [
      "Die Fakultät von 5 ist 120, also 5! = 120.\n"
     ]
    }
   ],
   "source": [
    "# Eingabe des Benutzers\n",
    "n = int(input('Bitte gegen Sie die Zahl n ein, zu der die Fakultät berechnet werden soll: '))\n",
    "\n",
    "# Verarbeitung\n",
    "ergebnis = 1\n",
    "for i in range(n, 1, -1):\n",
    "    ergebnis = ergebnis * i\n",
    "\n",
    "# Ausgabe\n",
    "print(f'Die Fakultät von {n} ist {ergebnis}, also {n}! = {ergebnis}.') \n"
   ]
  },
  {
   "cell_type": "code",
   "execution_count": 6,
   "metadata": {},
   "outputs": [
    {
     "name": "stdout",
     "output_type": "stream",
     "text": [
      "Januar ist der 1. Monat im Jahr.\n",
      "Februar ist der 2. Monat im Jahr.\n",
      "März ist der 3. Monat im Jahr.\n",
      "April ist der 4. Monat im Jahr.\n",
      "Mai ist der 5. Monat im Jahr.\n",
      "Juni ist der 6. Monat im Jahr.\n",
      "Juli ist der 7. Monat im Jahr.\n",
      "August ist der 8. Monat im Jahr.\n",
      "September ist der 9. Monat im Jahr.\n",
      "Oktober ist der 10. Monat im Jahr.\n",
      "November ist der 11. Monat im Jahr.\n",
      "Dezember ist der 12. Monat im Jahr.\n"
     ]
    }
   ],
   "source": [
    "monate = ['Januar', 'Februar', 'März', 'April', 'Mai', 'Juni', \n",
    "'Juli', 'August', 'September', 'Oktober', 'November', 'Dezember']\n",
    "\n",
    "for i in range(12):\n",
    "    monat = monate[i]\n",
    "    print(f'{monat} ist der {i+1}. Monat im Jahr.')"
   ]
  },
  {
   "cell_type": "code",
   "execution_count": 7,
   "metadata": {},
   "outputs": [
    {
     "name": "stdout",
     "output_type": "stream",
     "text": [
      "Die Summe der Zahlen ist: 15.\n"
     ]
    }
   ],
   "source": [
    "# Initalisierung der leeren Liste\n",
    "zahlen = []\n",
    "\n",
    "# Eingabe der 5 Zahlen durch einen Benutzer\n",
    "for i in range(5):\n",
    "    zahl = int(input(\"Bitte geben Sie eine Zahl ein: \"))\n",
    "    zahlen.append(zahl)\n",
    "\n",
    "# Verarbeitung: Berechnung der Summe\n",
    "summe = 0\n",
    "for zahl in zahlen:\n",
    "    summe = summe + zahl\n",
    "\n",
    "# Ausgabe\n",
    "print(f'Die Summe der Zahlen ist: {summe}.')"
   ]
  },
  {
   "cell_type": "code",
   "execution_count": 10,
   "metadata": {},
   "outputs": [
    {
     "name": "stdin",
     "output_type": "stream",
     "text": [
      "Bitte geben Sie die Anzahl der Seiten des n-Ecks ein:  7\n"
     ]
    },
    {
     "data": {
      "text/html": [
       "\n",
       "      <svg width=\"800\" height=\"600\">  \n",
       "        <rect width=\"100%\" height=\"100%\" style=\"fill:white;stroke:;stroke-width:1\"/>\n",
       "        \n",
       "        \n",
       "        <line x1=\"400.0\" y1=\"300.0\" x2=\"430.0\" y2=\"300.0\" stroke-linecap=\"round\" style=\"stroke:black;stroke-width:1\" /><line x1=\"430.0\" y1=\"300.0\" x2=\"448.705\" y2=\"323.455\" stroke-linecap=\"round\" style=\"stroke:black;stroke-width:1\" /><line x1=\"448.705\" y1=\"323.455\" x2=\"442.029\" y2=\"352.703\" stroke-linecap=\"round\" style=\"stroke:black;stroke-width:1\" /><line x1=\"442.029\" y1=\"352.703\" x2=\"415.0\" y2=\"365.72\" stroke-linecap=\"round\" style=\"stroke:black;stroke-width:1\" /><line x1=\"415.0\" y1=\"365.72\" x2=\"387.971\" y2=\"352.703\" stroke-linecap=\"round\" style=\"stroke:black;stroke-width:1\" /><line x1=\"387.971\" y1=\"352.703\" x2=\"381.295\" y2=\"323.455\" stroke-linecap=\"round\" style=\"stroke:black;stroke-width:1\" /><line x1=\"381.295\" y1=\"323.455\" x2=\"400.0\" y2=\"300.0\" stroke-linecap=\"round\" style=\"stroke:black;stroke-width:1\" />\n",
       "        \n",
       "        \n",
       "        <g id=\"classic\" visibility=\"visible\" transform=\"rotate(218.5714285714286,400.0,300.0) translate(400.0, 300.0)\">\n",
       "<polygon points=\"-5,-4.5 0,-2.5 5,-4.5 0,4.5\" transform=\"skewX(0) scale(1,1)\" style=\"stroke:black;fill:black;stroke-width:1\" />\n",
       "<animateTransform id = \"one\" attributeName=\"transform\" \n",
       "                      type=\"scale\"\n",
       "                      from=\"1 1\" to=\"1 1\"\n",
       "                      begin=\"0s\" dur=\"0.01s\"\n",
       "                      repeatCount=\"1\"\n",
       "                      additive=\"sum\"\n",
       "                      fill=\"freeze\"\n",
       "                /><animateTransform attributeName=\"transform\"\n",
       "                    type=\"rotate\"\n",
       "                    from=\"0 0 0\" to =\"51.42857142857143 0 0\"\n",
       "                    begin=\"one.end\" dur=\"0.14285714285714285s\"\n",
       "                    repeatCount=\"1\"\n",
       "                    additive=\"sum\"\n",
       "                    fill=\"freeze\"\n",
       "                /></g>\n",
       "      </svg>\n",
       "    "
      ],
      "text/plain": [
       "<IPython.core.display.HTML object>"
      ]
     },
     "metadata": {},
     "output_type": "display_data"
    }
   ],
   "source": [
    "import ColabTurtlePlus.Turtle as turtle\n",
    "\n",
    "turtle.clearscreen()\n",
    "\n",
    "anzahl_seiten = int(input('Bitte geben Sie die Anzahl der Seiten des n-Ecks ein: '))\n",
    "\n",
    "for i in range(anzahl_seiten):\n",
    "    turtle.forward(30)\n",
    "    turtle.right(360 / anzahl_seiten)"
   ]
  },
  {
   "cell_type": "code",
   "execution_count": null,
   "metadata": {},
   "outputs": [],
   "source": []
  }
 ],
 "metadata": {
  "kernelspec": {
   "display_name": "Python 3 (ipykernel)",
   "language": "python",
   "name": "python3"
  },
  "language_info": {
   "codemirror_mode": {
    "name": "ipython",
    "version": 3
   },
   "file_extension": ".py",
   "mimetype": "text/x-python",
   "name": "python",
   "nbconvert_exporter": "python",
   "pygments_lexer": "ipython3",
   "version": "3.10.8"
  }
 },
 "nbformat": 4,
 "nbformat_minor": 4
}
