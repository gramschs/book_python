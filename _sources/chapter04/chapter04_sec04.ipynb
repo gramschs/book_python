{
 "cells": [
  {
   "cell_type": "markdown",
   "id": "35ac2205",
   "metadata": {},
   "source": [
    "# Übungen\n",
    "\n",
    "1. Schreiben Sie ein Programm, das den Benutzer nach seinem Namen und seinem Alter fragt und dann eine Begrüßungsnachricht ausgibt, die den Namen und das Alter des Benutzers enthält. Verwenden Sie eine f-String, um den Namen und das Alter des Benutzers in die Begrüßungsnachricht einzufügen.\n",
    "\n",
    "2. Schreiben Sie ein Programm, das den Benutzer nach seiner E-Mail-Adresse fragt und dann eine Bestätigungsmeldung ausgibt, die die E-Mail-Adresse des Benutzers enthält. Verwenden Sie eine f-String, um die E-Mail-Adresse des Benutzers in die Bestätigungsmeldung einzufügen.\n",
    "   \n",
    "3. Schreiben Sie ein Programm, das den Benutzer nach zwei Zahlen fragt und dann die Summe, das Produkt und den Quotienten dieser Zahlen ausgibt. Verwenden Sie eine f-String, um die Zahlen und die Ergebnisse in die Ausgabe einzufügen.\n",
    " \n",
    "4. Schreiben Sie ein Programm, das eine Liste von Namen enthält und dann eine Nachricht ausgibt, die jeden Namen in der Liste einzeln begrüßt. Verwenden Sie eine Schleife und eine f-String, um die Nachricht für jeden Namen in der Liste zu erstellen.\n",
    "\n",
    "5. Schreiben Sie ein Programm, das eine Zeichenkette enthält und dann eine Nachricht ausgibt, die angibt, wie viele Vorkommen eines bestimmten Buchstabens in der Zeichenkette vorhanden sind. Verwenden Sie eine f-String, um den Buchstaben und die Anzahl der Vorkommen in die Nachricht einzufügen."
   ]
  }
 ],
 "metadata": {
  "jupytext": {
   "formats": "ipynb,md:myst",
   "text_representation": {
    "extension": ".md",
    "format_name": "myst",
    "format_version": 0.13,
    "jupytext_version": "1.13.8"
   }
  },
  "kernelspec": {
   "display_name": "Python 3 (ipykernel)",
   "language": "python",
   "name": "python3"
  },
  "language_info": {
   "codemirror_mode": {
    "name": "ipython",
    "version": 3
   },
   "file_extension": ".py",
   "mimetype": "text/x-python",
   "name": "python",
   "nbconvert_exporter": "python",
   "pygments_lexer": "ipython3",
   "version": "3.10.8"
  },
  "source_map": [
   13
  ]
 },
 "nbformat": 4,
 "nbformat_minor": 5
}