{
 "cells": [
  {
   "cell_type": "markdown",
   "id": "5875b5e3",
   "metadata": {},
   "source": [
    "# 13. Grundbegriffe Künstliche Intelligenz\n",
    "\n",
    "Maschinelles Lernen (ML) und Künstliche Intelligenz (KI) sind die Trends des\n",
    "letzten Jahrzehnts. Stand Juli 2022 liefert die Suchmaschine Google für den\n",
    "deutschen Begriff maschinelles Lernen 2.8 Millionen Treffer. Auf Englisch\n",
    "(Machine Learning) sind es sogar 1.67 Milliarden Suchergebnisse. Vermutlich\n",
    "werden sowohl für den deutschen Begriff als auch die englischsprachige Variante\n",
    "die Trefferzahlen mittlerweile höher sein.\n",
    "\n",
    "In den folgenden Kapiteln werden wir zunächst einmal klären, was maschinelles\n",
    "Lernen ist und die grundlegenden Begriffe des maschinellen Lernens kennenlernen.\n",
    "Wir schließen diesen Part mit der Installation der notwendigen Software-Tools\n",
    "ab."
   ]
  }
 ],
 "metadata": {
  "jupytext": {
   "formats": "ipynb,md:myst",
   "text_representation": {
    "extension": ".md",
    "format_name": "myst",
    "format_version": 0.13,
    "jupytext_version": "1.15.2"
   }
  },
  "kernelspec": {
   "display_name": "Python 3",
   "language": "python",
   "name": "python3"
  },
  "source_map": [
   13
  ]
 },
 "nbformat": 4,
 "nbformat_minor": 5
}