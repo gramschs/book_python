{
 "cells": [
  {
   "cell_type": "markdown",
   "id": "93bf11fc",
   "metadata": {},
   "source": [
    "# Datentypen und Variablen\n",
    "\n",
    "TODO\n",
    "\n",
    "## Lernziele\n",
    "\n",
    "```{admonition} Lernziele\n",
    ":class: hint\n",
    "* Sie wissen, was **Datentypen** sind.\n",
    "* Sie kennen den Unterschied zwischen **Ganzzahlen** und **Fließkommazahlen**\n",
    "  und die dazugehörigen Datentypen **Integer** und **Float**.\n",
    "```\n",
    "\n",
    "## Los geht es mit dem Programmieren - Datentypen in Python\n",
    "\n",
    "Der Computer kann Informationen nur als 0 oder 1 verarbeiten. Auf dem\n",
    "Speichermedium oder im Speicher selbst werden Daten daher als eine Folge von 0\n",
    "und 1 gespeichert. Damit es für uns Programmiererinnen und Programmierer\n",
    "einfacher wird, Daten zu speichern und zu verarbeiten, wurden Datentypen\n",
    "eingeführt.  \n",
    "\n",
    "**Datentypen** fassen gleichartige Objekte zusammen und stellen passende\n",
    "Operationen zur Verfügung. Es hängt von der Programmiersprache ab, welche\n",
    "Datentypen zur Verfügung stehen, wie diese im Hintergrund gespeichtert werden\n",
    "und welche Operationen damit möglich sind. In diesem Kapitel beschäftigen wir\n",
    "uns mit den einfachen Datentypen\n",
    "\n",
    "* Integer\n",
    "* Float\n",
    "* String\n",
    "\n",
    "### Zahlen \n",
    "\n",
    "In der Programmierung unterscheidet man grundsätzlich zwischen zwei Zahlenarten,\n",
    "den **Ganzzahlen** und den Gleitkommazahlen, die auch **Fließkommazahlen**\n",
    "genannt werden. Die Ganzzahlen werden in der Mathematik als ganze Zahlen\n",
    "bezeichnet. In der Informatik wird meist der englische Begriff **Integer**\n",
    "verwendet. Mit Integern können wir ganz normal rechnen, also Operationen\n",
    "ausführen. Einige davon haben wir ja bereits ausprobiert, als wir Python als\n",
    "Taschenrechner benutzt haben:"
   ]
  },
  {
   "cell_type": "code",
   "execution_count": 1,
   "id": "2ae85895",
   "metadata": {},
   "outputs": [
    {
     "data": {
      "text/plain": [
       "14"
      ]
     },
     "execution_count": 1,
     "metadata": {},
     "output_type": "execute_result"
    }
   ],
   "source": [
    "2 * (3 + 4)"
   ]
  },
  {
   "cell_type": "markdown",
   "id": "7f67b048",
   "metadata": {},
   "source": [
    "Sobald wir eine Division vorliegen haben, die nicht aufgeht, verlassen wir den\n",
    "Bereich der ganzen Zahlen und kommen automatisch zu den Fließkommazahlen. In der\n",
    "Informatik wird eine Fließkommazahl als Float bezeichnet. Python rechnet\n",
    "automatisch mit dem richtigen Datentyp, wie Sie hier sehen:"
   ]
  },
  {
   "cell_type": "code",
   "execution_count": 2,
   "id": "7d7134cb",
   "metadata": {},
   "outputs": [
    {
     "data": {
      "text/plain": [
       "0.4"
      ]
     },
     "execution_count": 2,
     "metadata": {},
     "output_type": "execute_result"
    }
   ],
   "source": [
    "2/5"
   ]
  },
  {
   "cell_type": "markdown",
   "id": "23e326ad",
   "metadata": {},
   "source": [
    "Beachten Sie bitte: Das Dezimaltrennzeichen ist ein Punkt, nicht ein Komma wie\n",
    "im Deutschen. Aber ansonsten funktioniert alles wie erwartet:"
   ]
  },
  {
   "cell_type": "code",
   "execution_count": 3,
   "id": "719c576d",
   "metadata": {},
   "outputs": [
    {
     "data": {
      "text/plain": [
       "6.8999999999999995"
      ]
     },
     "execution_count": 3,
     "metadata": {},
     "output_type": "execute_result"
    }
   ],
   "source": [
    "2.3 + 4.6"
   ]
  },
  {
   "cell_type": "code",
   "execution_count": 4,
   "id": "3e28565e",
   "metadata": {},
   "outputs": [
    {
     "data": {
      "text/plain": [
       "-3.8000000000000003"
      ]
     },
     "execution_count": 4,
     "metadata": {},
     "output_type": "execute_result"
    }
   ],
   "source": [
    "1.4 - 5.2"
   ]
  },
  {
   "cell_type": "code",
   "execution_count": 5,
   "id": "7c9758de",
   "metadata": {},
   "outputs": [
    {
     "data": {
      "text/plain": [
       "-11.78"
      ]
     },
     "execution_count": 5,
     "metadata": {},
     "output_type": "execute_result"
    }
   ],
   "source": [
    "(-3.8) * 3.1"
   ]
  },
  {
   "cell_type": "code",
   "execution_count": 6,
   "id": "ff024ce9",
   "metadata": {},
   "outputs": [
    {
     "data": {
      "text/plain": [
       "8.0"
      ]
     },
     "execution_count": 6,
     "metadata": {},
     "output_type": "execute_result"
    }
   ],
   "source": [
    "2.4 / 0.3"
   ]
  },
  {
   "cell_type": "code",
   "execution_count": 7,
   "id": "fe667773",
   "metadata": {},
   "outputs": [
    {
     "data": {
      "text/plain": [
       "9536.7431640625"
      ]
     },
     "execution_count": 7,
     "metadata": {},
     "output_type": "execute_result"
    }
   ],
   "source": [
    "2.5**10"
   ]
  },
  {
   "cell_type": "markdown",
   "id": "5b9e6065",
   "metadata": {},
   "source": [
    "Das folgende Video fasst Zahlen in Python zusammen."
   ]
  },
  {
   "cell_type": "code",
   "execution_count": 8,
   "id": "be73e4fa",
   "metadata": {
    "tags": [
     "remove-input"
    ]
   },
   "outputs": [
    {
     "ename": "NameError",
     "evalue": "name 'IFrame' is not defined",
     "output_type": "error",
     "traceback": [
      "\u001b[0;31m---------------------------------------------------------------------------\u001b[0m",
      "\u001b[0;31mNameError\u001b[0m                                 Traceback (most recent call last)",
      "Cell \u001b[0;32mIn[8], line 1\u001b[0m\n\u001b[0;32m----> 1\u001b[0m \u001b[43mIFrame\u001b[49m(width\u001b[38;5;241m=\u001b[39m\u001b[38;5;241m560\u001b[39m, height\u001b[38;5;241m=\u001b[39m\u001b[38;5;241m315\u001b[39m, src\u001b[38;5;241m=\u001b[39m\u001b[38;5;124m\"\u001b[39m\u001b[38;5;124mhttps://www.youtube.com/embed/VtiDkRDPA_c\u001b[39m\u001b[38;5;124m\"\u001b[39m)\n",
      "\u001b[0;31mNameError\u001b[0m: name 'IFrame' is not defined"
     ]
    }
   ],
   "source": [
    "IFrame(width=560, height=315, src=\"https://www.youtube.com/embed/VtiDkRDPA_c\")"
   ]
  },
  {
   "cell_type": "markdown",
   "id": "e60f49d0",
   "metadata": {},
   "source": [
    "### Strings\n",
    "\n",
    "Daten sind aber sehr oft keine Zahlen. Beispielsweise könnte man sich\n",
    "vorstellen, eine Einkaufsliste zu erstellen und diese im Computer oder in einer\n",
    "Notiz-App auf dem Handy zu speichern. Eine solche Zeichenkette heißt in der\n",
    "Informatik **String**. Mit Zeichen meint man dabei Zahlen, Buchstaben oder\n",
    "andere wie beispielsweise !\"§$%&/()=?.\n",
    "\n",
    "Strings werden in Python durch doppelte Anführungszeichen definiert:"
   ]
  },
  {
   "cell_type": "code",
   "execution_count": null,
   "id": "72ff8da1",
   "metadata": {},
   "outputs": [],
   "source": [
    "\"Dies ist ein String!\""
   ]
  },
  {
   "cell_type": "markdown",
   "id": "e044c401",
   "metadata": {},
   "source": [
    "Auf Strings und ihre Anwendungen kommen wir später noch zurück. Wenn Sie bereits\n",
    "jetzt mehr erfahren wollen, können Sie sich folgendes Video ansehen."
   ]
  },
  {
   "cell_type": "code",
   "execution_count": null,
   "id": "15780d47",
   "metadata": {
    "tags": [
     "remove-input"
    ]
   },
   "outputs": [],
   "source": [
    "IFrame(width=560, height=315, src=\"https://www.youtube.com/embed/sTEf4_mrLvw\")"
   ]
  }
 ],
 "metadata": {
  "jupytext": {
   "cell_metadata_filter": "-all",
   "formats": "ipynb,md:myst",
   "text_representation": {
    "extension": ".md",
    "format_name": "myst",
    "format_version": 0.13,
    "jupytext_version": "1.14.5"
   }
  },
  "kernelspec": {
   "display_name": "Python 3 (ipykernel)",
   "language": "python",
   "name": "python3"
  },
  "language_info": {
   "codemirror_mode": {
    "name": "ipython",
    "version": 3
   },
   "file_extension": ".py",
   "mimetype": "text/x-python",
   "name": "python",
   "nbconvert_exporter": "python",
   "pygments_lexer": "ipython3",
   "version": "3.10.8"
  },
  "source_map": [
   14,
   57,
   59,
   66,
   68,
   73,
   77,
   81,
   85,
   89,
   91,
   95,
   99,
   111,
   113,
   118
  ]
 },
 "nbformat": 4,
 "nbformat_minor": 5
}