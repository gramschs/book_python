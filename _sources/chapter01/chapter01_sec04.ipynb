{
 "cells": [
  {
   "cell_type": "markdown",
   "id": "403c14ce",
   "metadata": {},
   "source": [
    "# Übungen\n",
    "\n",
    "```{admonition} Übung 1.1\n",
    ":class: miniexercise\n",
    "Installieren Sie Anaconda und Python auf Ihrem PC oder Laptop. Starten Sie die\n",
    "Software Jupyter Notebook. Laden Sie dieses Jupyter Notebook herunter und öffnen\n",
    "Sie es mit der Software Jupyter Notebook.\n",
    "```\n",
    "\n",
    "```{admonition} Übung 1.2\n",
    ":class: miniexercise \n",
    "Benutzen Sie Python als Taschenrechner. Fügen Sie dazu diesem Jupyter Notebook eine Code-Zelle hinzu und lassen Sie die folgenden Ausdrücke berechnen:\n",
    "* 2 + 3\n",
    "* 2 - 3\n",
    "* 4 * 5\n",
    "* 16 / 4\n",
    "* 16 / 3\n",
    "* 5**2\n",
    "```\n",
    "\n",
    "```{admonition} Übung 1.3\n",
    ":class: miniexercise\n",
    "In der vorhergehenden Aufgabe haben Sie den Ausdruck `5**2` berechnen lassen.\n",
    "Fügen Sie jetzt eine Markdown-Zelle ein. Schreiben Sie auf, was Ihrer Vermutung\n",
    "nach der `**`-Operator für eine Bedeutung hat. Recherchieren Sie anschließend im\n",
    "Internet, nach der Bedeutung und vergleichen Sie Ihre Antwort mit der Recherche.\n",
    "Fügen Sie die Internetseite als URL in die Markdown-Zelle ein.\n",
    "```\n",
    "\n",
    "```{admonition} Übung 1.4\n",
    ":class: miniexercise\n",
    "Speichern Sie das bearbeitete Jupyter Notebook unter einem anderen Namen ab.\n",
    "Exportieren Sie es als pdf-Dokument (über HTML).\n",
    "```"
   ]
  }
 ],
 "metadata": {
  "jupytext": {
   "cell_metadata_filter": "-all",
   "formats": "ipynb,md:myst",
   "main_language": "python",
   "text_representation": {
    "extension": ".md",
    "format_name": "myst",
    "format_version": 0.13,
    "jupytext_version": "1.14.5"
   }
  },
  "kernelspec": {
   "display_name": "Python 3 (ipykernel)",
   "language": "python",
   "name": "python3"
  },
  "language_info": {
   "codemirror_mode": {
    "name": "ipython",
    "version": 3
   },
   "file_extension": ".py",
   "mimetype": "text/x-python",
   "name": "python",
   "nbconvert_exporter": "python",
   "pygments_lexer": "ipython3",
   "version": "3.10.8"
  },
  "source_map": [
   15
  ]
 },
 "nbformat": 4,
 "nbformat_minor": 5
}