{
 "cells": [
  {
   "cell_type": "markdown",
   "id": "8d176a0f",
   "metadata": {},
   "source": [
    "# 1. Getting Started\n",
    "\n",
    "Das Kapitel \"Getting Started\" gibt Ihnen zuerst eine Einführung in Hardware und\n",
    "Software. Danach werden grundlegende Begriffe zum Programmieren erläutert. Im\n",
    "dritten Abschnitt folgt eine kurze Anleitung, wie Python installiert wird, und\n",
    "wie Jupyter Notebooks aufgebaut sind."
   ]
  }
 ],
 "metadata": {
  "jupytext": {
   "cell_metadata_filter": "-all",
   "formats": "ipynb,md:myst",
   "main_language": "python",
   "text_representation": {
    "extension": ".md",
    "format_name": "myst",
    "format_version": 0.13,
    "jupytext_version": "1.14.5"
   }
  },
  "kernelspec": {
   "display_name": "Python 3 (ipykernel)",
   "language": "python",
   "name": "python3"
  },
  "language_info": {
   "codemirror_mode": {
    "name": "ipython",
    "version": 3
   },
   "file_extension": ".py",
   "mimetype": "text/x-python",
   "name": "python",
   "nbconvert_exporter": "python",
   "pygments_lexer": "ipython3",
   "version": "3.10.8"
  },
  "source_map": [
   15
  ]
 },
 "nbformat": 4,
 "nbformat_minor": 5
}