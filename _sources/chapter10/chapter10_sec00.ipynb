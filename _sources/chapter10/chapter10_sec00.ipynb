{
 "cells": [
  {
   "cell_type": "markdown",
   "id": "63b0e00d",
   "metadata": {},
   "source": [
    "# 10. Pandas anstatt Excel\n",
    "\n",
    "Maschinelles Lernenist dazu gedacht, Muster in größeren Datenmengen zu finden.\n",
    "Der einfache Datenyp Liste reicht nicht aus, um größere Datenmengen effizient zu\n",
    "verwalten. Typischerweise liegen größere Datensätze in Form von Tabllen vor. Das\n",
    "verwendetet Datenformat variiert dabei. Manchnal liegen die Daten im\n",
    "Excel-Format vor, sehr oft jedoch auch im CSV-Format. Davei steht CSV als\n",
    "Abkürzung für Comma Separated Values, also Werte die durch ein Komma getrennt\n",
    "werden.\n",
    "\n",
    "Um Daten in Tabellenform einzulesen und leicht zu verarbeiten könnnen, gibt es\n",
    "in Python das Pandas-Modul, das wir uns in diesem Kapitel näher ansehen werden."
   ]
  }
 ],
 "metadata": {
  "jupytext": {
   "formats": "ipynb,md:myst",
   "text_representation": {
    "extension": ".md",
    "format_name": "myst",
    "format_version": 0.13,
    "jupytext_version": "1.13.8"
   }
  },
  "kernelspec": {
   "display_name": "Python 3 (ipykernel)",
   "language": "python",
   "name": "python3"
  },
  "source_map": [
   13
  ]
 },
 "nbformat": 4,
 "nbformat_minor": 5
}