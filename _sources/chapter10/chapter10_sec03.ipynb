{
 "cells": [
  {
   "cell_type": "markdown",
   "id": "9c0396a5",
   "metadata": {},
   "source": [
    "# 10.3 Visualisierung von DataFrames\n",
    "\n",
    "## Lernziele\n",
    "\n",
    "```{admonition} Lernziele\n",
    ":class: hint\n",
    "* Sie können den Zeilenindex **.index**, den Spaltenindex **.columns** und die\n",
    "  Werte der Zellen **.values** aus dem DataFrame extrahieren.\n",
    "* Sie können mit der Methode **.axhline().** zu einem Plot eine horizontale\n",
    "  Linie hinzufügen.\n",
    "* Sie können die Fehlerbalken mit **errorbar()** visualisieren.\n",
    "```\n",
    "\n",
    "## Array aus Tabelle extrahieren\n",
    "\n",
    "Aber wie kombinieren wir jetzt die Funktionalitäten des Pandas-Moduls mit denen\n",
    "des Matplotlib-Moduls? Der grundlegende Datentyp für Matplotlib ist das\n",
    "NumPy-Array und auch in den Pandas-Datenobjekten stecken im Kern NumPy-Arrays.\n",
    "Wenn wir also Pandas-Objekte visualisieren wollen, extrahieren wir die Daten als\n",
    "NumPy-Arrays und plotten dann diese mit Matploblib.\n",
    "\n",
    "Wir benutzen die folgenden Methoden: \n",
    "\n",
    "* ``.index`` liefert den Zeilenindex\n",
    "* ``.columns`` liefert die Spaltennamen \n",
    "* ``.values`` liefert die Werten in der Tabelle als NumPy-Array\n",
    "\n",
    "Wir verwenden wieder einen realistischen Datensatz und importieren den uns\n",
    "schon bekannten Datensatz der Top7-Fußballvereine der Bundesliga 2020/21."
   ]
  },
  {
   "cell_type": "code",
   "execution_count": 1,
   "id": "1d0cfbbf",
   "metadata": {},
   "outputs": [
    {
     "ename": "ModuleNotFoundError",
     "evalue": "No module named 'pandas'",
     "output_type": "error",
     "traceback": [
      "\u001b[0;31m---------------------------------------------------------------------------\u001b[0m",
      "\u001b[0;31mModuleNotFoundError\u001b[0m                       Traceback (most recent call last)",
      "Cell \u001b[0;32mIn[1], line 1\u001b[0m\n\u001b[0;32m----> 1\u001b[0m \u001b[38;5;28;01mimport\u001b[39;00m \u001b[38;5;21;01mpandas\u001b[39;00m \u001b[38;5;28;01mas\u001b[39;00m \u001b[38;5;21;01mpd\u001b[39;00m\n\u001b[1;32m      3\u001b[0m data \u001b[38;5;241m=\u001b[39m pd\u001b[38;5;241m.\u001b[39mread_csv(\u001b[38;5;124m'\u001b[39m\u001b[38;5;124mbundesliga_top7_offensive.csv\u001b[39m\u001b[38;5;124m'\u001b[39m, index_col\u001b[38;5;241m=\u001b[39m\u001b[38;5;241m0\u001b[39m)\n\u001b[1;32m      5\u001b[0m \u001b[38;5;28mprint\u001b[39m(\u001b[38;5;124m'\u001b[39m\u001b[38;5;124mZeilenindex: \u001b[39m\u001b[38;5;124m'\u001b[39m)\n",
      "\u001b[0;31mModuleNotFoundError\u001b[0m: No module named 'pandas'"
     ]
    }
   ],
   "source": [
    "import pandas as pd\n",
    "\n",
    "data = pd.read_csv('bundesliga_top7_offensive.csv', index_col=0)\n",
    "\n",
    "print('Zeilenindex: ')\n",
    "print(data.index)\n",
    "\n",
    "print('Spaltenindex:')\n",
    "print(data.columns)\n",
    "\n",
    "print('Werte der Zellen in der Tabelle als Numpy-Array:')\n",
    "print(data.values)"
   ]
  },
  {
   "cell_type": "markdown",
   "id": "bd33d749",
   "metadata": {},
   "source": [
    "So kann man direkt die Daten aus einem Pandas-DataFrame extrahieren und\n",
    "visualisieren. Wenn wir beispielsweise wissen wollen, wie alt die Spieler der\n",
    "Eintracht Frankfurt sind, filtern wir zuerst. Danach stellen wir auf der x-Achse\n",
    "die Namen der Spieler (= Zeilenindex) dar und auf der y-Achse das Alter ('Age').\n",
    "Da es sich bei den Spielern um Kategorien, also diskrete Daten handelt,\n",
    "verwenden wir ein Balkendiagramm."
   ]
  },
  {
   "cell_type": "code",
   "execution_count": null,
   "id": "78fcdf27",
   "metadata": {},
   "outputs": [],
   "source": [
    "import matplotlib.pylab as plt\n",
    "plt.style.use('bmh')\n",
    "plt.rcParams['font.family'] = ['TeX Gyre Heros', 'sans-serif']\n",
    "\n",
    "# data\n",
    "filter = data.loc[:, 'Club'] == 'Eintracht Frankfurt'\n",
    "data_eintracht_frankfurt = data.loc[filter, :]\n",
    "x = data_eintracht_frankfurt.index\n",
    "y = data_eintracht_frankfurt.loc[:, 'Age']\n",
    "\n",
    "# plot\n",
    "fig, ax = plt.subplots()\n",
    "ax.bar(x,y)\n",
    "ax.set_xlabel('Spieler')\n",
    "ax.set_ylabel('Alter')\n",
    "ax.set_title('Spielerdaten Eintracht Frankfurt 20/21');"
   ]
  },
  {
   "cell_type": "markdown",
   "id": "fb77f11f",
   "metadata": {},
   "source": [
    "Leider kann man die Spielernamen nicht mehr lesen. Wir können händisch in das\n",
    "Styling der x-Achsenbeschriftung eingreifen und die die Beschriftung um 45 Grad\n",
    "drehen. Dann sieht der Code folgendermaßen aus:"
   ]
  },
  {
   "cell_type": "code",
   "execution_count": null,
   "id": "3c0cb304",
   "metadata": {},
   "outputs": [],
   "source": [
    "# plot\n",
    "fig, ax = plt.subplots()\n",
    "ax.bar(x,y)\n",
    "ax.set_xlabel('Spieler')\n",
    "ax.set_ylabel('Alter')\n",
    "ax.set_title('Spielerdaten Eintracht Frankfurt 20/21')\n",
    "ax.xaxis.set_ticks(x)                                   # rotiert die x-Achsenbeschriftung\n",
    "ax.set_xticklabels(x, rotation = 45, ha=\"right\");       # um 45 Grad"
   ]
  },
  {
   "cell_type": "markdown",
   "id": "01b574ac",
   "metadata": {},
   "source": [
    "## Plot vom Mittelwert als horizontale Linie\n",
    "\n",
    "Als nächstes möchten wir in den Plot Zusatzinformationen mit einblenden. So\n",
    "würden wir gerne sichtbar machen, wo das Durchschnittsalter der Fußballspieler\n",
    "liegt. Dadurch können wir schnell ablesen, welcher Spieler über dem Durchschnitt\n",
    "liegt und welcher jünger als der Durchschnitt ist.\n",
    "\n",
    "Dazu müssen wir zunächst die Zusatzinformation aus den Daten herausholen, sprich\n",
    "den Mittelwert des Alters berechnen lassen."
   ]
  },
  {
   "cell_type": "code",
   "execution_count": null,
   "id": "84ea1c09",
   "metadata": {},
   "outputs": [],
   "source": [
    "mittelwert_alter = data_eintracht_frankfurt.loc[:, 'Age'].mean()\n",
    "print('Mittleres Alter der Spieler: {}'.format(mittelwert_alter))"
   ]
  },
  {
   "cell_type": "markdown",
   "id": "d76ea4e5",
   "metadata": {},
   "source": [
    "Und nun ergänzen wir den Plot der Altersangaben mit dem Mittelwert. Dazu\n",
    "zeichnen wir eine horizontale Linie mit der Höhe des Altersdurchschnitts. Dazu\n",
    "verwenden wir die Methode `.axhline()`."
   ]
  },
  {
   "cell_type": "code",
   "execution_count": null,
   "id": "dc726e54",
   "metadata": {},
   "outputs": [],
   "source": [
    "fig, ax = plt.subplots()\n",
    "ax.bar(x,y)\n",
    "ax.set_xlabel('Spieler')\n",
    "ax.xaxis.set_ticks(x)                               # rotiert die x-Achsenbeschriftung\n",
    "ax.set_xticklabels(x, rotation = 45, ha=\"right\")    # um 45 Grad\n",
    "ax.set_ylabel('Alter')\n",
    "ax.set_title('Spielerdaten Eintracht Frankfurt 20/21')\n",
    "# horizontale Linie\n",
    "ax.axhline(mittelwert_alter, color='red');"
   ]
  },
  {
   "cell_type": "markdown",
   "id": "89fdd7fc",
   "metadata": {},
   "source": [
    "## Plot der Standardabweichung als Fehlerbalken\n",
    "\n",
    "Bei allen Messungen treten Messfehler auf. Manchmal weiß man von Anfang an,\n",
    "welchen Messfehler das Messgerät hat. Ein anderes Mal hat man beispielsweise\n",
    "eine Messung zehnmal wiederholt und möchte nun den Mittelwert als Datenpunkt und\n",
    "die Standardabweichung der Messergebnisse als Fehlerbalken visualisieren. Durch\n",
    "die Angabe eines Fehlerbalkens kann man dem Betrachter eine Zusatzinformation\n",
    "mitteilen. Für die Darstellung von Fehlerbalken stellt das Matplotlib-Modul die\n",
    "Methode ``errorbar()`` zur Verfügung. Mehr Informationen gibt es auf der\n",
    "Hilfeseite\n",
    "\n",
    "> https://matplotlib.org/stable/api/_as_gen/matplotlib.pyplot.errorbar.html"
   ]
  },
  {
   "cell_type": "code",
   "execution_count": null,
   "id": "2575ddd9",
   "metadata": {},
   "outputs": [],
   "source": [
    "# data\n",
    "standardabweichung_alter = data_eintracht_frankfurt.loc[:, 'Age'].std()\n",
    "\n",
    "# plot data\n",
    "fig, ax = plt.subplots()\n",
    "ax.errorbar(x, y, yerr=standardabweichung_alter)\n",
    "# styling\n",
    "ax.set_xlabel('Spieler')\n",
    "ax.xaxis.set_ticks(x)                               # rotiert die x-Achsenbeschriftung\n",
    "ax.set_xticklabels(x, rotation = 45, ha=\"right\")    # um 45 Grad\n",
    "ax.set_ylabel('Alter')\n",
    "ax.set_title('Spielerdaten Eintracht Frankfurt 20/21');"
   ]
  },
  {
   "cell_type": "markdown",
   "id": "30668390",
   "metadata": {},
   "source": [
    "Die Grafik sieht irritierend aus, da die Altersangben der Spieler verbunden\n",
    "wurden. Ästhetischer und besser interpretierbar wird die Grafik, wenn wir noch\n",
    "ein wenig an den Optionen herumschrauben. Van der Plas empfiehlt beispielsweise\n",
    "die folgenden Optionen in seinem Buch \"Data Science mit Python\":"
   ]
  },
  {
   "cell_type": "code",
   "execution_count": null,
   "id": "81947503",
   "metadata": {},
   "outputs": [],
   "source": [
    "# plot data\n",
    "fig, ax = plt.subplots()\n",
    "ax.errorbar(x, y, yerr=standardabweichung_alter, fmt='o', color='black', \n",
    "ecolor='lightgray', elinewidth=3, capsize=0);\n",
    "# styling\n",
    "ax.set_xlabel('Spieler')\n",
    "ax.xaxis.set_ticks(x)                               # rotiert die x-Achsenbeschriftung\n",
    "ax.set_xticklabels(x, rotation = 45, ha=\"right\")    # um 45 Grad\n",
    "ax.set_ylabel('Alter')\n",
    "ax.set_title('Spielerdaten Eintracht Frankfurt 20/21');"
   ]
  },
  {
   "cell_type": "markdown",
   "id": "d66f26ae",
   "metadata": {},
   "source": [
    "## Zusammenfassung und Ausblick\n",
    "\n",
    "Nachdem wir uns erarbeitet haben, wie Daten aus einem DataFrame für eine\n",
    "Visualisierung mit Matplotlib aufbereitet werden, lernen wir im nächsten\n",
    "Abschnitt noch einen weiteren Diagrammtyp kennen, das Histogramm."
   ]
  }
 ],
 "metadata": {
  "jupytext": {
   "formats": "ipynb,md:myst",
   "text_representation": {
    "extension": ".md",
    "format_name": "myst",
    "format_version": 0.13,
    "jupytext_version": "1.13.8"
   }
  },
  "kernelspec": {
   "display_name": "Python 3 (ipykernel)",
   "language": "python",
   "name": "python3"
  },
  "language_info": {
   "codemirror_mode": {
    "name": "ipython",
    "version": 3
   },
   "file_extension": ".py",
   "mimetype": "text/x-python",
   "name": "python",
   "nbconvert_exporter": "python",
   "pygments_lexer": "ipython3",
   "version": "3.10.8"
  },
  "source_map": [
   13,
   45,
   58,
   67,
   84,
   90,
   99,
   111,
   114,
   120,
   130,
   146,
   159,
   166,
   177
  ]
 },
 "nbformat": 4,
 "nbformat_minor": 5
}