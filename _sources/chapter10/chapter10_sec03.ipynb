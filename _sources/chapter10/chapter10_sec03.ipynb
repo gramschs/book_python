{
 "cells": [
  {
   "cell_type": "markdown",
   "id": "b6b1b6a0",
   "metadata": {},
   "source": [
    "# 10.3 Visualisierung von DataFrames\n",
    "\n",
    "## Lernziele\n",
    "\n",
    "```{admonition} Lernziele\n",
    ":class: hint\n",
    "* Sie können den Zeilenindex **.index**, den Spaltenindex **.columns** und die\n",
    "  Werte der Zellen **.values** aus dem DataFrame extrahieren.\n",
    "* Sie können mit der Methode **.axhline().** zu einem Plot eine horizontale\n",
    "  Linie hinzufügen.\n",
    "* Sie können die Fehlerbalken mit **errorbar()** visualisieren.\n",
    "```\n",
    "\n",
    "## Array aus Tabelle extrahieren\n",
    "\n",
    "Aber wie kombinieren wir jetzt die Funktionalitäten des Pandas-Moduls mit denen\n",
    "des Matplotlib-Moduls? Der grundlegende Datentyp für Matplotlib ist das\n",
    "NumPy-Array und auch in den Pandas-Datenobjekten stecken im Kern NumPy-Arrays.\n",
    "Wenn wir also Pandas-Objekte visualisieren wollen, extrahieren wir die Daten als\n",
    "NumPy-Arrays und plotten dann diese mit Matploblib.\n",
    "\n",
    "Wir benutzen die folgenden Methoden: \n",
    "\n",
    "* ``.index`` liefert den Zeilenindex\n",
    "* ``.columns`` liefert die Spaltennamen \n",
    "* ``.values`` liefert die Werten in der Tabelle als NumPy-Array\n",
    "\n",
    "Wir verwenden wieder einen realistischen Datensatz und importieren den uns\n",
    "schon bekannten Datensatz der Top7-Fußballvereine der Bundesliga 2020/21."
   ]
  },
  {
   "cell_type": "code",
   "execution_count": 1,
   "id": "bc8a9a5d",
   "metadata": {},
   "outputs": [
    {
     "ename": "FileNotFoundError",
     "evalue": "[Errno 2] No such file or directory: 'bundesliga_top7_offensive.csv'",
     "output_type": "error",
     "traceback": [
      "\u001b[0;31m---------------------------------------------------------------------------\u001b[0m",
      "\u001b[0;31mFileNotFoundError\u001b[0m                         Traceback (most recent call last)",
      "Cell \u001b[0;32mIn[1], line 3\u001b[0m\n\u001b[1;32m      1\u001b[0m \u001b[38;5;28;01mimport\u001b[39;00m \u001b[38;5;21;01mpandas\u001b[39;00m \u001b[38;5;28;01mas\u001b[39;00m \u001b[38;5;21;01mpd\u001b[39;00m\n\u001b[0;32m----> 3\u001b[0m data \u001b[38;5;241m=\u001b[39m \u001b[43mpd\u001b[49m\u001b[38;5;241;43m.\u001b[39;49m\u001b[43mread_csv\u001b[49m\u001b[43m(\u001b[49m\u001b[38;5;124;43m'\u001b[39;49m\u001b[38;5;124;43mbundesliga_top7_offensive.csv\u001b[39;49m\u001b[38;5;124;43m'\u001b[39;49m\u001b[43m,\u001b[49m\u001b[43m \u001b[49m\u001b[43mindex_col\u001b[49m\u001b[38;5;241;43m=\u001b[39;49m\u001b[38;5;241;43m0\u001b[39;49m\u001b[43m)\u001b[49m\n\u001b[1;32m      5\u001b[0m \u001b[38;5;28mprint\u001b[39m(\u001b[38;5;124m'\u001b[39m\u001b[38;5;124mZeilenindex: \u001b[39m\u001b[38;5;124m'\u001b[39m)\n\u001b[1;32m      6\u001b[0m \u001b[38;5;28mprint\u001b[39m(data\u001b[38;5;241m.\u001b[39mindex)\n",
      "File \u001b[0;32m/opt/homebrew/Caskroom/miniconda/base/envs/turtle/lib/python3.10/site-packages/pandas/util/_decorators.py:211\u001b[0m, in \u001b[0;36mdeprecate_kwarg.<locals>._deprecate_kwarg.<locals>.wrapper\u001b[0;34m(*args, **kwargs)\u001b[0m\n\u001b[1;32m    209\u001b[0m     \u001b[38;5;28;01melse\u001b[39;00m:\n\u001b[1;32m    210\u001b[0m         kwargs[new_arg_name] \u001b[38;5;241m=\u001b[39m new_arg_value\n\u001b[0;32m--> 211\u001b[0m \u001b[38;5;28;01mreturn\u001b[39;00m \u001b[43mfunc\u001b[49m\u001b[43m(\u001b[49m\u001b[38;5;241;43m*\u001b[39;49m\u001b[43margs\u001b[49m\u001b[43m,\u001b[49m\u001b[43m \u001b[49m\u001b[38;5;241;43m*\u001b[39;49m\u001b[38;5;241;43m*\u001b[39;49m\u001b[43mkwargs\u001b[49m\u001b[43m)\u001b[49m\n",
      "File \u001b[0;32m/opt/homebrew/Caskroom/miniconda/base/envs/turtle/lib/python3.10/site-packages/pandas/util/_decorators.py:331\u001b[0m, in \u001b[0;36mdeprecate_nonkeyword_arguments.<locals>.decorate.<locals>.wrapper\u001b[0;34m(*args, **kwargs)\u001b[0m\n\u001b[1;32m    325\u001b[0m \u001b[38;5;28;01mif\u001b[39;00m \u001b[38;5;28mlen\u001b[39m(args) \u001b[38;5;241m>\u001b[39m num_allow_args:\n\u001b[1;32m    326\u001b[0m     warnings\u001b[38;5;241m.\u001b[39mwarn(\n\u001b[1;32m    327\u001b[0m         msg\u001b[38;5;241m.\u001b[39mformat(arguments\u001b[38;5;241m=\u001b[39m_format_argument_list(allow_args)),\n\u001b[1;32m    328\u001b[0m         \u001b[38;5;167;01mFutureWarning\u001b[39;00m,\n\u001b[1;32m    329\u001b[0m         stacklevel\u001b[38;5;241m=\u001b[39mfind_stack_level(),\n\u001b[1;32m    330\u001b[0m     )\n\u001b[0;32m--> 331\u001b[0m \u001b[38;5;28;01mreturn\u001b[39;00m \u001b[43mfunc\u001b[49m\u001b[43m(\u001b[49m\u001b[38;5;241;43m*\u001b[39;49m\u001b[43margs\u001b[49m\u001b[43m,\u001b[49m\u001b[43m \u001b[49m\u001b[38;5;241;43m*\u001b[39;49m\u001b[38;5;241;43m*\u001b[39;49m\u001b[43mkwargs\u001b[49m\u001b[43m)\u001b[49m\n",
      "File \u001b[0;32m/opt/homebrew/Caskroom/miniconda/base/envs/turtle/lib/python3.10/site-packages/pandas/io/parsers/readers.py:950\u001b[0m, in \u001b[0;36mread_csv\u001b[0;34m(filepath_or_buffer, sep, delimiter, header, names, index_col, usecols, squeeze, prefix, mangle_dupe_cols, dtype, engine, converters, true_values, false_values, skipinitialspace, skiprows, skipfooter, nrows, na_values, keep_default_na, na_filter, verbose, skip_blank_lines, parse_dates, infer_datetime_format, keep_date_col, date_parser, dayfirst, cache_dates, iterator, chunksize, compression, thousands, decimal, lineterminator, quotechar, quoting, doublequote, escapechar, comment, encoding, encoding_errors, dialect, error_bad_lines, warn_bad_lines, on_bad_lines, delim_whitespace, low_memory, memory_map, float_precision, storage_options)\u001b[0m\n\u001b[1;32m    935\u001b[0m kwds_defaults \u001b[38;5;241m=\u001b[39m _refine_defaults_read(\n\u001b[1;32m    936\u001b[0m     dialect,\n\u001b[1;32m    937\u001b[0m     delimiter,\n\u001b[0;32m   (...)\u001b[0m\n\u001b[1;32m    946\u001b[0m     defaults\u001b[38;5;241m=\u001b[39m{\u001b[38;5;124m\"\u001b[39m\u001b[38;5;124mdelimiter\u001b[39m\u001b[38;5;124m\"\u001b[39m: \u001b[38;5;124m\"\u001b[39m\u001b[38;5;124m,\u001b[39m\u001b[38;5;124m\"\u001b[39m},\n\u001b[1;32m    947\u001b[0m )\n\u001b[1;32m    948\u001b[0m kwds\u001b[38;5;241m.\u001b[39mupdate(kwds_defaults)\n\u001b[0;32m--> 950\u001b[0m \u001b[38;5;28;01mreturn\u001b[39;00m \u001b[43m_read\u001b[49m\u001b[43m(\u001b[49m\u001b[43mfilepath_or_buffer\u001b[49m\u001b[43m,\u001b[49m\u001b[43m \u001b[49m\u001b[43mkwds\u001b[49m\u001b[43m)\u001b[49m\n",
      "File \u001b[0;32m/opt/homebrew/Caskroom/miniconda/base/envs/turtle/lib/python3.10/site-packages/pandas/io/parsers/readers.py:605\u001b[0m, in \u001b[0;36m_read\u001b[0;34m(filepath_or_buffer, kwds)\u001b[0m\n\u001b[1;32m    602\u001b[0m _validate_names(kwds\u001b[38;5;241m.\u001b[39mget(\u001b[38;5;124m\"\u001b[39m\u001b[38;5;124mnames\u001b[39m\u001b[38;5;124m\"\u001b[39m, \u001b[38;5;28;01mNone\u001b[39;00m))\n\u001b[1;32m    604\u001b[0m \u001b[38;5;66;03m# Create the parser.\u001b[39;00m\n\u001b[0;32m--> 605\u001b[0m parser \u001b[38;5;241m=\u001b[39m \u001b[43mTextFileReader\u001b[49m\u001b[43m(\u001b[49m\u001b[43mfilepath_or_buffer\u001b[49m\u001b[43m,\u001b[49m\u001b[43m \u001b[49m\u001b[38;5;241;43m*\u001b[39;49m\u001b[38;5;241;43m*\u001b[39;49m\u001b[43mkwds\u001b[49m\u001b[43m)\u001b[49m\n\u001b[1;32m    607\u001b[0m \u001b[38;5;28;01mif\u001b[39;00m chunksize \u001b[38;5;129;01mor\u001b[39;00m iterator:\n\u001b[1;32m    608\u001b[0m     \u001b[38;5;28;01mreturn\u001b[39;00m parser\n",
      "File \u001b[0;32m/opt/homebrew/Caskroom/miniconda/base/envs/turtle/lib/python3.10/site-packages/pandas/io/parsers/readers.py:1442\u001b[0m, in \u001b[0;36mTextFileReader.__init__\u001b[0;34m(self, f, engine, **kwds)\u001b[0m\n\u001b[1;32m   1439\u001b[0m     \u001b[38;5;28mself\u001b[39m\u001b[38;5;241m.\u001b[39moptions[\u001b[38;5;124m\"\u001b[39m\u001b[38;5;124mhas_index_names\u001b[39m\u001b[38;5;124m\"\u001b[39m] \u001b[38;5;241m=\u001b[39m kwds[\u001b[38;5;124m\"\u001b[39m\u001b[38;5;124mhas_index_names\u001b[39m\u001b[38;5;124m\"\u001b[39m]\n\u001b[1;32m   1441\u001b[0m \u001b[38;5;28mself\u001b[39m\u001b[38;5;241m.\u001b[39mhandles: IOHandles \u001b[38;5;241m|\u001b[39m \u001b[38;5;28;01mNone\u001b[39;00m \u001b[38;5;241m=\u001b[39m \u001b[38;5;28;01mNone\u001b[39;00m\n\u001b[0;32m-> 1442\u001b[0m \u001b[38;5;28mself\u001b[39m\u001b[38;5;241m.\u001b[39m_engine \u001b[38;5;241m=\u001b[39m \u001b[38;5;28;43mself\u001b[39;49m\u001b[38;5;241;43m.\u001b[39;49m\u001b[43m_make_engine\u001b[49m\u001b[43m(\u001b[49m\u001b[43mf\u001b[49m\u001b[43m,\u001b[49m\u001b[43m \u001b[49m\u001b[38;5;28;43mself\u001b[39;49m\u001b[38;5;241;43m.\u001b[39;49m\u001b[43mengine\u001b[49m\u001b[43m)\u001b[49m\n",
      "File \u001b[0;32m/opt/homebrew/Caskroom/miniconda/base/envs/turtle/lib/python3.10/site-packages/pandas/io/parsers/readers.py:1735\u001b[0m, in \u001b[0;36mTextFileReader._make_engine\u001b[0;34m(self, f, engine)\u001b[0m\n\u001b[1;32m   1733\u001b[0m     \u001b[38;5;28;01mif\u001b[39;00m \u001b[38;5;124m\"\u001b[39m\u001b[38;5;124mb\u001b[39m\u001b[38;5;124m\"\u001b[39m \u001b[38;5;129;01mnot\u001b[39;00m \u001b[38;5;129;01min\u001b[39;00m mode:\n\u001b[1;32m   1734\u001b[0m         mode \u001b[38;5;241m+\u001b[39m\u001b[38;5;241m=\u001b[39m \u001b[38;5;124m\"\u001b[39m\u001b[38;5;124mb\u001b[39m\u001b[38;5;124m\"\u001b[39m\n\u001b[0;32m-> 1735\u001b[0m \u001b[38;5;28mself\u001b[39m\u001b[38;5;241m.\u001b[39mhandles \u001b[38;5;241m=\u001b[39m \u001b[43mget_handle\u001b[49m\u001b[43m(\u001b[49m\n\u001b[1;32m   1736\u001b[0m \u001b[43m    \u001b[49m\u001b[43mf\u001b[49m\u001b[43m,\u001b[49m\n\u001b[1;32m   1737\u001b[0m \u001b[43m    \u001b[49m\u001b[43mmode\u001b[49m\u001b[43m,\u001b[49m\n\u001b[1;32m   1738\u001b[0m \u001b[43m    \u001b[49m\u001b[43mencoding\u001b[49m\u001b[38;5;241;43m=\u001b[39;49m\u001b[38;5;28;43mself\u001b[39;49m\u001b[38;5;241;43m.\u001b[39;49m\u001b[43moptions\u001b[49m\u001b[38;5;241;43m.\u001b[39;49m\u001b[43mget\u001b[49m\u001b[43m(\u001b[49m\u001b[38;5;124;43m\"\u001b[39;49m\u001b[38;5;124;43mencoding\u001b[39;49m\u001b[38;5;124;43m\"\u001b[39;49m\u001b[43m,\u001b[49m\u001b[43m \u001b[49m\u001b[38;5;28;43;01mNone\u001b[39;49;00m\u001b[43m)\u001b[49m\u001b[43m,\u001b[49m\n\u001b[1;32m   1739\u001b[0m \u001b[43m    \u001b[49m\u001b[43mcompression\u001b[49m\u001b[38;5;241;43m=\u001b[39;49m\u001b[38;5;28;43mself\u001b[39;49m\u001b[38;5;241;43m.\u001b[39;49m\u001b[43moptions\u001b[49m\u001b[38;5;241;43m.\u001b[39;49m\u001b[43mget\u001b[49m\u001b[43m(\u001b[49m\u001b[38;5;124;43m\"\u001b[39;49m\u001b[38;5;124;43mcompression\u001b[39;49m\u001b[38;5;124;43m\"\u001b[39;49m\u001b[43m,\u001b[49m\u001b[43m \u001b[49m\u001b[38;5;28;43;01mNone\u001b[39;49;00m\u001b[43m)\u001b[49m\u001b[43m,\u001b[49m\n\u001b[1;32m   1740\u001b[0m \u001b[43m    \u001b[49m\u001b[43mmemory_map\u001b[49m\u001b[38;5;241;43m=\u001b[39;49m\u001b[38;5;28;43mself\u001b[39;49m\u001b[38;5;241;43m.\u001b[39;49m\u001b[43moptions\u001b[49m\u001b[38;5;241;43m.\u001b[39;49m\u001b[43mget\u001b[49m\u001b[43m(\u001b[49m\u001b[38;5;124;43m\"\u001b[39;49m\u001b[38;5;124;43mmemory_map\u001b[39;49m\u001b[38;5;124;43m\"\u001b[39;49m\u001b[43m,\u001b[49m\u001b[43m \u001b[49m\u001b[38;5;28;43;01mFalse\u001b[39;49;00m\u001b[43m)\u001b[49m\u001b[43m,\u001b[49m\n\u001b[1;32m   1741\u001b[0m \u001b[43m    \u001b[49m\u001b[43mis_text\u001b[49m\u001b[38;5;241;43m=\u001b[39;49m\u001b[43mis_text\u001b[49m\u001b[43m,\u001b[49m\n\u001b[1;32m   1742\u001b[0m \u001b[43m    \u001b[49m\u001b[43merrors\u001b[49m\u001b[38;5;241;43m=\u001b[39;49m\u001b[38;5;28;43mself\u001b[39;49m\u001b[38;5;241;43m.\u001b[39;49m\u001b[43moptions\u001b[49m\u001b[38;5;241;43m.\u001b[39;49m\u001b[43mget\u001b[49m\u001b[43m(\u001b[49m\u001b[38;5;124;43m\"\u001b[39;49m\u001b[38;5;124;43mencoding_errors\u001b[39;49m\u001b[38;5;124;43m\"\u001b[39;49m\u001b[43m,\u001b[49m\u001b[43m \u001b[49m\u001b[38;5;124;43m\"\u001b[39;49m\u001b[38;5;124;43mstrict\u001b[39;49m\u001b[38;5;124;43m\"\u001b[39;49m\u001b[43m)\u001b[49m\u001b[43m,\u001b[49m\n\u001b[1;32m   1743\u001b[0m \u001b[43m    \u001b[49m\u001b[43mstorage_options\u001b[49m\u001b[38;5;241;43m=\u001b[39;49m\u001b[38;5;28;43mself\u001b[39;49m\u001b[38;5;241;43m.\u001b[39;49m\u001b[43moptions\u001b[49m\u001b[38;5;241;43m.\u001b[39;49m\u001b[43mget\u001b[49m\u001b[43m(\u001b[49m\u001b[38;5;124;43m\"\u001b[39;49m\u001b[38;5;124;43mstorage_options\u001b[39;49m\u001b[38;5;124;43m\"\u001b[39;49m\u001b[43m,\u001b[49m\u001b[43m \u001b[49m\u001b[38;5;28;43;01mNone\u001b[39;49;00m\u001b[43m)\u001b[49m\u001b[43m,\u001b[49m\n\u001b[1;32m   1744\u001b[0m \u001b[43m\u001b[49m\u001b[43m)\u001b[49m\n\u001b[1;32m   1745\u001b[0m \u001b[38;5;28;01massert\u001b[39;00m \u001b[38;5;28mself\u001b[39m\u001b[38;5;241m.\u001b[39mhandles \u001b[38;5;129;01mis\u001b[39;00m \u001b[38;5;129;01mnot\u001b[39;00m \u001b[38;5;28;01mNone\u001b[39;00m\n\u001b[1;32m   1746\u001b[0m f \u001b[38;5;241m=\u001b[39m \u001b[38;5;28mself\u001b[39m\u001b[38;5;241m.\u001b[39mhandles\u001b[38;5;241m.\u001b[39mhandle\n",
      "File \u001b[0;32m/opt/homebrew/Caskroom/miniconda/base/envs/turtle/lib/python3.10/site-packages/pandas/io/common.py:856\u001b[0m, in \u001b[0;36mget_handle\u001b[0;34m(path_or_buf, mode, encoding, compression, memory_map, is_text, errors, storage_options)\u001b[0m\n\u001b[1;32m    851\u001b[0m \u001b[38;5;28;01melif\u001b[39;00m \u001b[38;5;28misinstance\u001b[39m(handle, \u001b[38;5;28mstr\u001b[39m):\n\u001b[1;32m    852\u001b[0m     \u001b[38;5;66;03m# Check whether the filename is to be opened in binary mode.\u001b[39;00m\n\u001b[1;32m    853\u001b[0m     \u001b[38;5;66;03m# Binary mode does not support 'encoding' and 'newline'.\u001b[39;00m\n\u001b[1;32m    854\u001b[0m     \u001b[38;5;28;01mif\u001b[39;00m ioargs\u001b[38;5;241m.\u001b[39mencoding \u001b[38;5;129;01mand\u001b[39;00m \u001b[38;5;124m\"\u001b[39m\u001b[38;5;124mb\u001b[39m\u001b[38;5;124m\"\u001b[39m \u001b[38;5;129;01mnot\u001b[39;00m \u001b[38;5;129;01min\u001b[39;00m ioargs\u001b[38;5;241m.\u001b[39mmode:\n\u001b[1;32m    855\u001b[0m         \u001b[38;5;66;03m# Encoding\u001b[39;00m\n\u001b[0;32m--> 856\u001b[0m         handle \u001b[38;5;241m=\u001b[39m \u001b[38;5;28;43mopen\u001b[39;49m\u001b[43m(\u001b[49m\n\u001b[1;32m    857\u001b[0m \u001b[43m            \u001b[49m\u001b[43mhandle\u001b[49m\u001b[43m,\u001b[49m\n\u001b[1;32m    858\u001b[0m \u001b[43m            \u001b[49m\u001b[43mioargs\u001b[49m\u001b[38;5;241;43m.\u001b[39;49m\u001b[43mmode\u001b[49m\u001b[43m,\u001b[49m\n\u001b[1;32m    859\u001b[0m \u001b[43m            \u001b[49m\u001b[43mencoding\u001b[49m\u001b[38;5;241;43m=\u001b[39;49m\u001b[43mioargs\u001b[49m\u001b[38;5;241;43m.\u001b[39;49m\u001b[43mencoding\u001b[49m\u001b[43m,\u001b[49m\n\u001b[1;32m    860\u001b[0m \u001b[43m            \u001b[49m\u001b[43merrors\u001b[49m\u001b[38;5;241;43m=\u001b[39;49m\u001b[43merrors\u001b[49m\u001b[43m,\u001b[49m\n\u001b[1;32m    861\u001b[0m \u001b[43m            \u001b[49m\u001b[43mnewline\u001b[49m\u001b[38;5;241;43m=\u001b[39;49m\u001b[38;5;124;43m\"\u001b[39;49m\u001b[38;5;124;43m\"\u001b[39;49m\u001b[43m,\u001b[49m\n\u001b[1;32m    862\u001b[0m \u001b[43m        \u001b[49m\u001b[43m)\u001b[49m\n\u001b[1;32m    863\u001b[0m     \u001b[38;5;28;01melse\u001b[39;00m:\n\u001b[1;32m    864\u001b[0m         \u001b[38;5;66;03m# Binary mode\u001b[39;00m\n\u001b[1;32m    865\u001b[0m         handle \u001b[38;5;241m=\u001b[39m \u001b[38;5;28mopen\u001b[39m(handle, ioargs\u001b[38;5;241m.\u001b[39mmode)\n",
      "\u001b[0;31mFileNotFoundError\u001b[0m: [Errno 2] No such file or directory: 'bundesliga_top7_offensive.csv'"
     ]
    }
   ],
   "source": [
    "import pandas as pd\n",
    "\n",
    "data = pd.read_csv('bundesliga_top7_offensive.csv', index_col=0)\n",
    "\n",
    "print('Zeilenindex: ')\n",
    "print(data.index)\n",
    "\n",
    "print('Spaltenindex:')\n",
    "print(data.columns)\n",
    "\n",
    "print('Werte der Zellen in der Tabelle als Numpy-Array:')\n",
    "print(data.values)"
   ]
  },
  {
   "cell_type": "markdown",
   "id": "3c3596b5",
   "metadata": {},
   "source": [
    "So kann man direkt die Daten aus einem Pandas-DataFrame extrahieren und\n",
    "visualisieren. Wenn wir beispielsweise wissen wollen, wie alt die Spieler der\n",
    "Eintracht Frankfurt sind, filtern wir zuerst. Danach stellen wir auf der x-Achse\n",
    "die Namen der Spieler (= Zeilenindex) dar und auf der y-Achse das Alter ('Age').\n",
    "Da es sich bei den Spielern um Kategorien, also diskrete Daten handelt,\n",
    "verwenden wir ein Balkendiagramm."
   ]
  },
  {
   "cell_type": "code",
   "execution_count": null,
   "id": "ea430c28",
   "metadata": {},
   "outputs": [],
   "source": [
    "import matplotlib.pylab as plt\n",
    "plt.style.use('bmh')\n",
    "plt.rcParams['font.family'] = ['TeX Gyre Heros', 'sans-serif']\n",
    "\n",
    "# data\n",
    "filter = data.loc[:, 'Club'] == 'Eintracht Frankfurt'\n",
    "data_eintracht_frankfurt = data.loc[filter, :]\n",
    "x = data_eintracht_frankfurt.index\n",
    "y = data_eintracht_frankfurt.loc[:, 'Age']\n",
    "\n",
    "# plot\n",
    "fig, ax = plt.subplots()\n",
    "ax.bar(x,y)\n",
    "ax.set_xlabel('Spieler')\n",
    "ax.set_ylabel('Alter')\n",
    "ax.set_title('Spielerdaten Eintracht Frankfurt 20/21');"
   ]
  },
  {
   "cell_type": "markdown",
   "id": "7bb1cb1a",
   "metadata": {},
   "source": [
    "Leider kann man die Spielernamen nicht mehr lesen. Wir können händisch in das\n",
    "Styling der x-Achsenbeschriftung eingreifen und die die Beschriftung um 45 Grad\n",
    "drehen. Dann sieht der Code folgendermaßen aus:"
   ]
  },
  {
   "cell_type": "code",
   "execution_count": null,
   "id": "4b19177b",
   "metadata": {},
   "outputs": [],
   "source": [
    "# plot\n",
    "fig, ax = plt.subplots()\n",
    "ax.bar(x,y)\n",
    "ax.set_xlabel('Spieler')\n",
    "ax.set_ylabel('Alter')\n",
    "ax.set_title('Spielerdaten Eintracht Frankfurt 20/21')\n",
    "ax.xaxis.set_ticks(x)                                   # rotiert die x-Achsenbeschriftung\n",
    "ax.set_xticklabels(x, rotation = 45, ha=\"right\");       # um 45 Grad"
   ]
  },
  {
   "cell_type": "markdown",
   "id": "073cdb74",
   "metadata": {},
   "source": [
    "## Plot vom Mittelwert als horizontale Linie\n",
    "\n",
    "Als nächstes möchten wir in den Plot Zusatzinformationen mit einblenden. So\n",
    "würden wir gerne sichtbar machen, wo das Durchschnittsalter der Fußballspieler\n",
    "liegt. Dadurch können wir schnell ablesen, welcher Spieler über dem Durchschnitt\n",
    "liegt und welcher jünger als der Durchschnitt ist.\n",
    "\n",
    "Dazu müssen wir zunächst die Zusatzinformation aus den Daten herausholen, sprich\n",
    "den Mittelwert des Alters berechnen lassen."
   ]
  },
  {
   "cell_type": "code",
   "execution_count": null,
   "id": "e2edca22",
   "metadata": {},
   "outputs": [],
   "source": [
    "mittelwert_alter = data_eintracht_frankfurt.loc[:, 'Age'].mean()\n",
    "print('Mittleres Alter der Spieler: {}'.format(mittelwert_alter))"
   ]
  },
  {
   "cell_type": "markdown",
   "id": "a905f851",
   "metadata": {},
   "source": [
    "Und nun ergänzen wir den Plot der Altersangaben mit dem Mittelwert. Dazu\n",
    "zeichnen wir eine horizontale Linie mit der Höhe des Altersdurchschnitts. Dazu\n",
    "verwenden wir die Methode `.axhline()`."
   ]
  },
  {
   "cell_type": "code",
   "execution_count": null,
   "id": "c91468be",
   "metadata": {},
   "outputs": [],
   "source": [
    "fig, ax = plt.subplots()\n",
    "ax.bar(x,y)\n",
    "ax.set_xlabel('Spieler')\n",
    "ax.xaxis.set_ticks(x)                               # rotiert die x-Achsenbeschriftung\n",
    "ax.set_xticklabels(x, rotation = 45, ha=\"right\")    # um 45 Grad\n",
    "ax.set_ylabel('Alter')\n",
    "ax.set_title('Spielerdaten Eintracht Frankfurt 20/21')\n",
    "# horizontale Linie\n",
    "ax.axhline(mittelwert_alter, color='red');"
   ]
  },
  {
   "cell_type": "markdown",
   "id": "e101294c",
   "metadata": {},
   "source": [
    "## Plot der Standardabweichung als Fehlerbalken\n",
    "\n",
    "Bei allen Messungen treten Messfehler auf. Manchmal weiß man von Anfang an,\n",
    "welchen Messfehler das Messgerät hat. Ein anderes Mal hat man beispielsweise\n",
    "eine Messung zehnmal wiederholt und möchte nun den Mittelwert als Datenpunkt und\n",
    "die Standardabweichung der Messergebnisse als Fehlerbalken visualisieren. Durch\n",
    "die Angabe eines Fehlerbalkens kann man dem Betrachter eine Zusatzinformation\n",
    "mitteilen. Für die Darstellung von Fehlerbalken stellt das Matplotlib-Modul die\n",
    "Methode ``errorbar()`` zur Verfügung. Mehr Informationen gibt es auf der\n",
    "Hilfeseite\n",
    "\n",
    "> https://matplotlib.org/stable/api/_as_gen/matplotlib.pyplot.errorbar.html"
   ]
  },
  {
   "cell_type": "code",
   "execution_count": null,
   "id": "118bc071",
   "metadata": {},
   "outputs": [],
   "source": [
    "# data\n",
    "standardabweichung_alter = data_eintracht_frankfurt.loc[:, 'Age'].std()\n",
    "\n",
    "# plot data\n",
    "fig, ax = plt.subplots()\n",
    "ax.errorbar(x, y, yerr=standardabweichung_alter)\n",
    "# styling\n",
    "ax.set_xlabel('Spieler')\n",
    "ax.xaxis.set_ticks(x)                               # rotiert die x-Achsenbeschriftung\n",
    "ax.set_xticklabels(x, rotation = 45, ha=\"right\")    # um 45 Grad\n",
    "ax.set_ylabel('Alter')\n",
    "ax.set_title('Spielerdaten Eintracht Frankfurt 20/21');"
   ]
  },
  {
   "cell_type": "markdown",
   "id": "2ac7b613",
   "metadata": {},
   "source": [
    "Die Grafik sieht irritierend aus, da die Altersangben der Spieler verbunden\n",
    "wurden. Ästhetischer und besser interpretierbar wird die Grafik, wenn wir noch\n",
    "ein wenig an den Optionen herumschrauben. Van der Plas empfiehlt beispielsweise\n",
    "die folgenden Optionen in seinem Buch \"Data Science mit Python\":"
   ]
  },
  {
   "cell_type": "code",
   "execution_count": null,
   "id": "d9399408",
   "metadata": {},
   "outputs": [],
   "source": [
    "# plot data\n",
    "fig, ax = plt.subplots()\n",
    "ax.errorbar(x, y, yerr=standardabweichung_alter, fmt='o', color='black', \n",
    "ecolor='lightgray', elinewidth=3, capsize=0);\n",
    "# styling\n",
    "ax.set_xlabel('Spieler')\n",
    "ax.xaxis.set_ticks(x)                               # rotiert die x-Achsenbeschriftung\n",
    "ax.set_xticklabels(x, rotation = 45, ha=\"right\")    # um 45 Grad\n",
    "ax.set_ylabel('Alter')\n",
    "ax.set_title('Spielerdaten Eintracht Frankfurt 20/21');"
   ]
  },
  {
   "cell_type": "markdown",
   "id": "af7f7071",
   "metadata": {},
   "source": [
    "## Zusammenfassung und Ausblick\n",
    "\n",
    "Nachdem wir uns erarbeitet haben, wie Daten aus einem DataFrame für eine\n",
    "Visualisierung mit Matplotlib aufbereitet werden, lernen wir im nächsten\n",
    "Abschnitt noch einen weiteren Diagrammtyp kennen, das Histogramm."
   ]
  }
 ],
 "metadata": {
  "jupytext": {
   "formats": "ipynb,md:myst",
   "text_representation": {
    "extension": ".md",
    "format_name": "myst",
    "format_version": 0.13,
    "jupytext_version": "1.13.8"
   }
  },
  "kernelspec": {
   "display_name": "Python 3 (ipykernel)",
   "language": "python",
   "name": "python3"
  },
  "language_info": {
   "codemirror_mode": {
    "name": "ipython",
    "version": 3
   },
   "file_extension": ".py",
   "mimetype": "text/x-python",
   "name": "python",
   "nbconvert_exporter": "python",
   "pygments_lexer": "ipython3",
   "version": "3.10.8"
  },
  "source_map": [
   13,
   45,
   58,
   67,
   84,
   90,
   99,
   111,
   114,
   120,
   130,
   146,
   159,
   166,
   177
  ]
 },
 "nbformat": 4,
 "nbformat_minor": 5
}