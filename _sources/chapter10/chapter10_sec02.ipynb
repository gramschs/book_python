{
 "cells": [
  {
   "cell_type": "markdown",
   "id": "ea74c6fd",
   "metadata": {},
   "source": [
    "# 10.2 Linien-, Balken- und Streudiagramme\n",
    "\n",
    "## Lernziele\n",
    "\n",
    "```{admonition} Lernziele\n",
    ":class: hint\n",
    "* Sie können **Matplotlib** mit der üblichen Abkürzung **plt** importieren.\n",
    "* Sie können Funktionen als **Liniendiagramm** visualisieren.\n",
    "* Sie können diskrete Daten als **Balkendiagramm** visualisieren.\n",
    "* Sie können Messwerte mit **Streudiagrammen** darstellen. \n",
    "```\n",
    "\n",
    "## Liniendiagramme \n",
    "\n",
    "Liniendiagramme werden zur Visualisierung benutzt, wenn die Daten kontinuierlich\n",
    "sind und zu jedem x-Wert ein y-Wert vorliegt. Am häufigsten ist dies der Fall,\n",
    "wenn die Daten von einer mathematischen Funktion stammen. Obwohl die Daten\n",
    "theoretisch für jeden x-Wert vorliegen und wir daher Millionen von (x,y)-Punkten\n",
    "zeichnen könnten, benutzen wir eine Weretabelle mit weniger (x,y)-Paaren. Die\n",
    "Anzahl der (x,y)-Paare bestimmt dann, wie \"glatt\" die Visualisierung wirkt.\n",
    "\n",
    "Erzeugen wir uns eine Liste mit x-Werten und dazugehörigen y-Werten."
   ]
  },
  {
   "cell_type": "code",
   "execution_count": 1,
   "id": "16f27189",
   "metadata": {},
   "outputs": [],
   "source": [
    "x = [-2, -1, 0, 1, 2]\n",
    "y = [4, 1, 0, 1, 4]"
   ]
  },
  {
   "cell_type": "markdown",
   "id": "0941d633",
   "metadata": {},
   "source": [
    "Danach lassen wir den Interpreter diese Werte zeichnen. Dazu benötigen wir das\n",
    "Modul `matplotlib`, genauer gesagt nur einen Teil dieses Moduls namens `pylab`.\n",
    "Daher laden wir es zuerst mit der typischen Abkürzung `plt`."
   ]
  },
  {
   "cell_type": "code",
   "execution_count": 2,
   "id": "d24b43a9",
   "metadata": {},
   "outputs": [
    {
     "ename": "ModuleNotFoundError",
     "evalue": "No module named 'matplotlib'",
     "output_type": "error",
     "traceback": [
      "\u001b[0;31m---------------------------------------------------------------------------\u001b[0m",
      "\u001b[0;31mModuleNotFoundError\u001b[0m                       Traceback (most recent call last)",
      "Cell \u001b[0;32mIn[2], line 1\u001b[0m\n\u001b[0;32m----> 1\u001b[0m \u001b[38;5;28;01mimport\u001b[39;00m \u001b[38;5;21;01mmatplotlib\u001b[39;00m\u001b[38;5;21;01m.\u001b[39;00m\u001b[38;5;21;01mpylab\u001b[39;00m \u001b[38;5;28;01mas\u001b[39;00m \u001b[38;5;21;01mplt\u001b[39;00m\n",
      "\u001b[0;31mModuleNotFoundError\u001b[0m: No module named 'matplotlib'"
     ]
    }
   ],
   "source": [
    "import matplotlib.pylab as plt"
   ]
  },
  {
   "cell_type": "markdown",
   "id": "641b3f90",
   "metadata": {},
   "source": [
    "Matplotlib bietet zwei Schnittstellen an, die Funktionen und Methoden des Moduls\n",
    "zu benutzen. Die erste Schnittstelle ist **zustandsorientiert**, die zweite\n",
    "**objektorientiert**. Die zustandsorientierte Schnittstelle ist älter. Die\n",
    "Entwickler:innen des Matplotlib-Moduls orientierten sich zunächst an der\n",
    "kommerziellen Software MATLAB und griffen erst in einer späteren Phase auf\n",
    "Objektorientierung zurück. \n",
    "\n",
    "Bei der zustandsorientierten Schnittstelle werden Funktionen benutzt, die auf\n",
    "das aktuelle Objekt wirken. Das hat Nachteile, wenn beispielsweise mehrere Plots\n",
    "in einer Grafik gegenübergestellt werden. Dann ist es schwierig zuzuordnen, was\n",
    "gerade das aktuelle Objekt ist. Daher hilft die zweite Matplotlib-Schnittstelle,\n",
    "die objektorientierte Schnittstelle, mehrere Objekte auseinanderzuhalten. Wir\n",
    "werden in dieser Vorlesung die objektorientierte Schnittstelle verwenden.\n",
    "\n",
    "Zunächst erzeugen wir das Grafik-Objekt bestehend aus einer Figure (=Grafik als\n",
    "Ganzes) und Axes (=Achsen) explizit mit der Funktion ``plt.subplots()``und\n",
    "speichern diese in entsprechenden Variablen. Dann verwenden wir Methoden, das\n",
    "Grafikobjekt zu manipulieren. Beispielsweise fügen wir den Achsen einen\n",
    "Linienplot und Beschriftungen hinzu."
   ]
  },
  {
   "cell_type": "code",
   "execution_count": null,
   "id": "c8e1b4aa",
   "metadata": {},
   "outputs": [],
   "source": [
    "fig, ax = plt.subplots() \n",
    "ax.plot(x,y)"
   ]
  },
  {
   "cell_type": "markdown",
   "id": "31f12295",
   "metadata": {},
   "source": [
    "PS: Ohne Strichpunkt/Semikolon gibt Jupyter-Lab noch Objekttyp und Referenz des\n",
    "Speicherplatzes aus. In einem normalen Python-Skript würde das nicht passieren.\n",
    "Sie können diese Angabe durch den Strichpunkt/Semikolon in der letzten Zeile\n",
    "unterdrücken.\n",
    "\n",
    "Aber zurück zum Plot, sieht ziemlich krakelig aus. Eigentlich sollte dies eine\n",
    "Parabel im Intervall $[-2,2]$ werden. Mit nur 5 Punkten und der Tatsache, dass\n",
    "diese 5 Punkte mit geraden Linien verbunden werden, sieht es etwas unschön aus.\n",
    "Besser wird es mit mehr Punkten, aber die wollen wir jetzt nicht von Hand\n",
    "erzeugen. Wir verwenden das Modul `numpy` für numerisches Python, das wir wieder\n",
    "einmal zuerst laden müssen:\n",
    "\n",
    "```python\n",
    "import numpy as np\n",
    "```\n",
    "\n",
    "Die Funktion `np.linspace(a,b, Anzahl)` erzeugt Punkte im Intervall $[a,b]$ je\n",
    "nach eingestellter Anzahl."
   ]
  },
  {
   "cell_type": "code",
   "execution_count": null,
   "id": "d210136d",
   "metadata": {},
   "outputs": [],
   "source": [
    "import numpy as np\n",
    "\n",
    "x = np.linspace(-2, 2, 100) \n",
    "y = x**2\n",
    "\n",
    "fig, ax = plt.subplots()\n",
    "ax.plot(x,y);"
   ]
  },
  {
   "cell_type": "markdown",
   "id": "4979ee19",
   "metadata": {},
   "source": [
    "Nächstes Thema, Beschriftungen. Mit den Methoden `.set_xlabel()` und\n",
    "`.set_ylabel()` beschriften Sie die x- und y-Achse. Mit `.set_title()` wird der\n",
    "Titel gesetzt."
   ]
  },
  {
   "cell_type": "code",
   "execution_count": null,
   "id": "8e428257",
   "metadata": {},
   "outputs": [],
   "source": [
    "# data\n",
    "x = np.linspace(-10,10,200)\n",
    "y = np.sin(x)\n",
    "\n",
    "# plot\n",
    "fig, ax = plt.subplots()\n",
    "ax.plot(x,y)\n",
    "ax.set_xlabel('Zeit in Sekunden')\n",
    "ax.set_ylabel('Stromstärke in Ampere')\n",
    "ax.set_title('Wechselstrom');"
   ]
  },
  {
   "cell_type": "markdown",
   "id": "7fac3110",
   "metadata": {},
   "source": [
    "Zuletzt soll unser Plot gespeichert werden. Es stehen mehrere Grafikformate zur\n",
    "Verfügung. Mehr Details finden Sie auf der Internetseite [Dokumentation\n",
    "savefig](https://matplotlib.org/stable/api/_as_gen/matplotlib.pyplot.savefig.html).\n",
    "Ein typisches Ausgabeformat ist eine Rastergrafik wie z.B. png. \n",
    "\n",
    "Da die komplette Grafik (= Figure) gespeichert werden soll, wird `.savefig()`\n",
    "auf das Objekt `fig` angewendet:"
   ]
  },
  {
   "cell_type": "code",
   "execution_count": null,
   "id": "484c3176",
   "metadata": {},
   "outputs": [],
   "source": [
    "fig.savefig('plot_stromstaerke.png', dpi=300);"
   ]
  },
  {
   "cell_type": "markdown",
   "id": "d087b316",
   "metadata": {},
   "source": [
    "```{admonition} Mini-Übung\n",
    ":class: miniexercise \n",
    "Bitte plotten Sie folgende Funktionen: \n",
    "    \n",
    "* lineare Funktion, z.B. f(x) = 7x + 2\n",
    "* Sinus,\n",
    "* Kosinus,\n",
    "* Exponentialfunktion und\n",
    "* Wurzelfunktion.\n",
    "\n",
    "Verändern Sie auch das Definitionsgebiet der Funktionen, also das Intervall für\n",
    "$x$. (Bei welcher Funktion müssen Sie besonders auf das Defiitionsgebiet der\n",
    "Funktion achten?)\n",
    "```"
   ]
  },
  {
   "cell_type": "code",
   "execution_count": null,
   "id": "56952ee9",
   "metadata": {},
   "outputs": [],
   "source": [
    "# Hier Ihr Code:"
   ]
  },
  {
   "cell_type": "markdown",
   "id": "9f9b181f",
   "metadata": {},
   "source": [
    "````{admonition} Lösung\n",
    ":class: minisolution, toggle\n",
    "```python\n",
    "import matplotlib.pylab as plt\n",
    "import numpy as np\n",
    "\n",
    "x1 = np.linspace(-3, 3, 101)\n",
    "y1 = 3 * x1 + 7\n",
    "\n",
    "x2 = np.linspace(-2 * np.pi, 2 * np.pi, 101)\n",
    "y2 = np.sin(x2)\n",
    "y3 = np.cos(x2)\n",
    "\n",
    "x4 = np.linspace(-3, 3, 101)\n",
    "y4 = np.exp(x4)\n",
    "\n",
    "x5 = np.linspace(0, 5, 101)\n",
    "y5 = np.sqrt(x5)\n",
    "\n",
    "fig, ax = plt.subplots()\n",
    "ax.plot(x5,y5)\n",
    "ax.set_xlabel('x-Achse')\n",
    "ax.set_ylabel('y-Achse')\n",
    "ax.set_title('Mini-Übung');\n",
    "```\n",
    "````"
   ]
  },
  {
   "cell_type": "markdown",
   "id": "01528e56",
   "metadata": {},
   "source": [
    "## Balkendiagramme\n",
    "\n",
    "Mit der Methode `.bar()` kann ein Balkendiagramm erstellt werden. Nehmen wir mal\n",
    "an, wir möchten auswerten, wie viele Nutzer/innen in Moodle auf die Jupyter\n",
    "Notebooks zum Download zugegriffen haben:\n",
    "\n",
    "| Woche | Anzahl Nutzer/innen |\n",
    "| --- | --- |\n",
    "| 2 | 14 |\n",
    "| 3 | 12 |\n",
    "| 4 | 10 |\n",
    "| 5 | 10 |\n",
    "| 6 | 9  |\n",
    "\n",
    "Dann wird das Balkendiagramm mit folgenden Code erzeugt:"
   ]
  },
  {
   "cell_type": "code",
   "execution_count": null,
   "id": "3cba2166",
   "metadata": {},
   "outputs": [],
   "source": [
    "# data\n",
    "x = [2,3,4,5,6]\n",
    "y = [14,12,10,10,9]\n",
    "\n",
    "# bar plot\n",
    "fig, ax = plt.subplots()\n",
    "ax.bar(x,y)\n",
    "ax.set_xlabel('Woche')\n",
    "ax.set_ylabel('Anzahl Nutzer/innen')\n",
    "ax.set_title('Zugriff auf Jupyter Notebooks zum Download WiSe 2021/22');"
   ]
  },
  {
   "cell_type": "markdown",
   "id": "08c2b33e",
   "metadata": {},
   "source": [
    "```{admonition} Mini-Übung\n",
    ":class: miniexercise \n",
    "\n",
    "Hier ist eine Tabelle mit den Zugriffszahlen auf das MATLAB Live Script in der\n",
    "Vorlesung angewandte Informatik im Sommersemester 2021. Bitte stellen Sie die\n",
    "Daten als Balkendiagramm inklusive Beschriftungen dar.\n",
    "\n",
    "|Woche |Anzahl Nutzer/innen|\n",
    "| --- | --- |\n",
    "| 3 | 9  |\n",
    "| 4 | 17 |\n",
    "| 5 | 15 |\n",
    "| 6 | 10 |\n",
    "| 7 | 11 |\n",
    "```"
   ]
  },
  {
   "cell_type": "code",
   "execution_count": null,
   "id": "25cb1180",
   "metadata": {},
   "outputs": [],
   "source": [
    "# Hier Ihr Code:"
   ]
  },
  {
   "cell_type": "markdown",
   "id": "e9343734",
   "metadata": {},
   "source": [
    "````{admonition} Lösung\n",
    ":class: minisolution, toggle\n",
    "```python\n",
    "import matplotlib.pylab as plt\n",
    "import numpy as np\n",
    "\n",
    "x = [3, 4, 5, 6, 7]\n",
    "y = [9, 17, 15, 10, 11]\n",
    "\n",
    "fig, ax = plt.subplots()\n",
    "ax.bar(x,y)\n",
    "ax.set_xlabel('Woche')\n",
    "ax.set_ylabel('Zugriffe')\n",
    "ax.set_title('Zugriffszahlen MATLAB Live Skripte SoSe 22');\n",
    "```\n",
    "````"
   ]
  },
  {
   "cell_type": "markdown",
   "id": "7315e95d",
   "metadata": {},
   "source": [
    "## Streudiagramme\n",
    "\n",
    "Bei Streudiagrammen werden nicht die Punkte $(x_1,y_2)$ mit $(x_2,y_2)$ mit\n",
    "$(x_3,y_3)$ usw. durch Linien verbunden, sondern jeder Punkt selbst wird an der\n",
    "Stelle seiner Koordinaten eingezeichnet. Ob dazu ein Punkt, Kreis, Dreieck oder\n",
    "Quadrat oder ein anderes Symbol verwendet wird, bleibt dem Anwender überlassen.\n",
    "Streudiagramme heißen im Englischen Scatter-Plot, daher lautet die entsprechende\n",
    "Matplotlib-Methode auch ``.scatter()``."
   ]
  },
  {
   "cell_type": "code",
   "execution_count": null,
   "id": "83e47df0",
   "metadata": {},
   "outputs": [],
   "source": [
    "# data\n",
    "x = np.linspace(-2*np.pi, 2*np.pi, 50)\n",
    "y = np.sin(x)\n",
    "\n",
    "# scatter plot\n",
    "fig, ax = plt.subplots()\n",
    "ax.scatter(x,y);"
   ]
  },
  {
   "cell_type": "markdown",
   "id": "32a9ba08",
   "metadata": {},
   "source": [
    "Über die Option ``marker= `` lässt sich das Symbol einstellen, mit dem das\n",
    "Streudiagramm erzeugt wird. Wie Sie sehen, ist ein ausgefüllter Kreis\n",
    "voreingestellt. Lesen Sie auf der Internetseite \n",
    "\n",
    "> https://matplotlib.org/stable/api/markers_api.html#module-matplotlib.markers\n",
    "\n",
    "nach, welche Marker-Symbole existieren. Probieren Sie einige der Symbole hier\n",
    "aus:"
   ]
  },
  {
   "cell_type": "code",
   "execution_count": null,
   "id": "74744a46",
   "metadata": {},
   "outputs": [],
   "source": [
    "# data\n",
    "x = np.linspace(-2*np.pi, 2*np.pi, 50)\n",
    "y = np.sin(x)\n",
    "\n",
    "# scatter plot\n",
    "fig, ax = plt.subplots()\n",
    "ax.scatter(x,y, marker='x');"
   ]
  },
  {
   "cell_type": "markdown",
   "id": "cfc53f91",
   "metadata": {},
   "source": [
    "Für bekannte Funktionen wie Sinus oder Kosinus würde man Liniendiagramme\n",
    "verwenden. Streudiagramme eignen sich eher für die Visualisierung einzelner\n",
    "Messungen. Wenn Sie beispielsweise an jeden Wochentag die Temperatur an zwei\n",
    "Orten messen, bietet es sich an, beide Messreihen in einem Streudiagramm zu\n",
    "visualisieren. Dazu sollten Sie unterschiedliche Marker und unterschiedliche\n",
    "Farben verwenden."
   ]
  },
  {
   "cell_type": "code",
   "execution_count": null,
   "id": "ddf59300",
   "metadata": {},
   "outputs": [],
   "source": [
    "# data\n",
    "x  = ['Mo', 'Di', 'Mi', 'Do', 'Fr', 'Sa', 'So']\n",
    "y1 = np.random.uniform(15,23,7)\n",
    "y2 = np.random.uniform(15,23,7)\n",
    "\n",
    "# scatter plots\n",
    "fig, ax = plt.subplots()\n",
    "ax.scatter(x, y1, marker='+')\n",
    "ax.scatter(x, y2, marker='.');"
   ]
  },
  {
   "cell_type": "markdown",
   "id": "31cf2ebf",
   "metadata": {},
   "source": [
    "Dann ist es aber auch gut, die Visualisierung zu beschriften. Dazu kennzeichnet\n",
    "man jeden einzelnen Plot-Aufruf mit einem sogenannten Label, z.B.\n",
    "\n",
    "```python\n",
    "ax.scatter(x,y1, label='Messung1')\n",
    "```\n",
    "Zuletzt verwendet man die Methode `ax.legend()`, die eine Legende mit allen\n",
    "Label-Einträgen erzeugt, bei denen die Farben der Kurven und die Marker korrekt\n",
    "zu den Namen (Labels) zugeordnet werden."
   ]
  },
  {
   "cell_type": "code",
   "execution_count": null,
   "id": "216fecd7",
   "metadata": {},
   "outputs": [],
   "source": [
    "# data\n",
    "x  = ['Mo', 'Di', 'Mi', 'Do', 'Fr', 'Sa', 'So']\n",
    "y1 = np.random.uniform(15,23,7)\n",
    "y2 = np.random.uniform(15,23,7)\n",
    "\n",
    "# scatter plots\n",
    "fig, ax = plt.subplots()\n",
    "ax.scatter(x, y1, marker='+', label='Frankfurt')\n",
    "ax.scatter(x, y2, marker='.', label='Offenbach')\n",
    "ax.legend()\n",
    "ax.set_title('Durchschnittstemperatur');"
   ]
  },
  {
   "cell_type": "markdown",
   "id": "9ae0eeab",
   "metadata": {},
   "source": [
    "```{admonition} Mini-Übung\n",
    ":class: miniexercise \n",
    "Stellen Sie die Sinus-Funktion im Intervall $[-4\\pi,4\\pi]$ als Scatter-Plot dar.\n",
    "Dabei sollen negative Funktionswerte blau eingefärbt werden und positive\n",
    "Funktionswerte rot. Setzen Sie zusätzlich an Nullstellen einen schwarzen\n",
    "Diamanten.     \n",
    "```"
   ]
  },
  {
   "cell_type": "code",
   "execution_count": null,
   "id": "ccf49ab5",
   "metadata": {},
   "outputs": [],
   "source": [
    "# Hier Ihr Code"
   ]
  },
  {
   "cell_type": "markdown",
   "id": "671bb00a",
   "metadata": {},
   "source": [
    "````{admonition} Lösung\n",
    ":class: minisolution, toggle\n",
    "```python\n",
    "import matplotlib.pylab as plt\n",
    "import numpy as np\n",
    "\n",
    "# data \n",
    "x = np.linspace(-4*np.pi, 4*np.pi, 100)\n",
    "y = np.sin(x)\n",
    "my_color = []\n",
    "for y_i in y:\n",
    "    if y_i <= 0:\n",
    "        my_color.append('b')\n",
    "    else:\n",
    "        my_color.append('r')\n",
    "x_diamond = np.arange(-4*np.pi, 5*np.pi, np.pi)\n",
    "y_diamond = np.zeros(np.shape(x_diamond))\n",
    "\n",
    "# plot\n",
    "fig, ax = plt.subplots()\n",
    "ax.scatter(x,y, c=my_color)\n",
    "ax.scatter(x_diamond, y_diamond, marker='D', c='k')\n",
    "```\n",
    "````"
   ]
  },
  {
   "cell_type": "markdown",
   "id": "d0bb9bbe",
   "metadata": {},
   "source": [
    "## Zusammenfassung und Ausblick\n",
    "\n",
    "In diesem Abschnitt haben wir die drei wichtigsten Diagrammtypen wiederholt. Das\n",
    "Linien- und das Streudiagramm werden für die Visualisierung von kontinuierlichen\n",
    "Daten verwendet, wohingegen das Balkendiagramm dem Plot von diskreten Daten\n",
    "(Kategorien) dient. Im folgenden Abschnitt verknüpfen wir Matplotlib mit Pandas\n",
    "zur Visualisierung von Tabellendaten in einem DataFrame."
   ]
  }
 ],
 "metadata": {
  "jupytext": {
   "formats": "ipynb,md:myst",
   "text_representation": {
    "extension": ".md",
    "format_name": "myst",
    "format_version": 0.13,
    "jupytext_version": "1.13.8"
   }
  },
  "kernelspec": {
   "display_name": "Python 3 (ipykernel)",
   "language": "python",
   "name": "python3"
  },
  "language_info": {
   "codemirror_mode": {
    "name": "ipython",
    "version": 3
   },
   "file_extension": ".py",
   "mimetype": "text/x-python",
   "name": "python",
   "nbconvert_exporter": "python",
   "pygments_lexer": "ipython3",
   "version": "3.10.8"
  },
  "source_map": [
   13,
   38,
   41,
   47,
   49,
   71,
   74,
   95,
   103,
   109,
   120,
   130,
   132,
   149,
   151,
   180,
   198,
   209,
   227,
   229,
   248,
   259,
   267,
   278,
   286,
   295,
   305,
   317,
   329,
   339,
   341,
   368
  ]
 },
 "nbformat": 4,
 "nbformat_minor": 5
}