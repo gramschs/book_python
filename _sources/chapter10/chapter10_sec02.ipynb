{
 "cells": [
  {
   "cell_type": "markdown",
   "id": "a33a7eee",
   "metadata": {},
   "source": [
    "# 10.2 Arbeiten mit Tabellendaten\n",
    "\n",
    "Eine Tabellenkalkulationssoftware wie LibreOffice Calc, Excel oder Number ist\n",
    "nicht nur nützlich, um Daten zu sammeln und zu speichern, sondern auch um\n",
    "statistische Auswertungen durchzuführen. In diesem Kapitel geht es darum, wie\n",
    "auf einzelne Zeilen, Spalten oder Zellen zugegriffen wird.\n",
    "\n",
    "## Lernziele\n",
    "\n",
    "```{admonition} Lernziele\n",
    ":class: goals\n",
    "* Sie können auf ganze Zeilen und Spalten zugreifen:\n",
    "  * Zugriff auf eine einzelne Zeile oder Spalte, indem ein Index spezifiziert wird\n",
    "  * Zugriff auf mehrere zusammenhängende Zeilen oder Spalten (Slice) \n",
    "  * Zugriff auf mehrere unzusammenhängende Zeilen oder Spalten (Selektion)\n",
    "* Sie können auf einzelne oder mehrere Zellen der Tabelle zugreifen.\n",
    "* Sie können ein DataFrame-Objekt nach einer Eigenschaft filtern.\n",
    "```\n",
    "\n",
    "## Zugriff auf Zeilen\n",
    "\n",
    "Als erstes möchten wir ganze Zeilen der Tabelle lesen. Dazu verwenden wir das\n",
    "Attribut `.loc` mit passenden Indizes. \n",
    "\n",
    "Für die folgenden Demonstrationen wollen wir wiederum die Spielerdaten der\n",
    "Top7-Fußballvereine der Bundesligasaison 2020/21 verwenden. Importieren Sie\n",
    "bitte vorab die Daten und verwenden Sie die 1. Spalte (= Namen) als Zeilenindex."
   ]
  },
  {
   "cell_type": "code",
   "execution_count": 1,
   "id": "c01d98eb",
   "metadata": {},
   "outputs": [
    {
     "data": {
      "text/html": [
       "<div>\n",
       "<style scoped>\n",
       "    .dataframe tbody tr th:only-of-type {\n",
       "        vertical-align: middle;\n",
       "    }\n",
       "\n",
       "    .dataframe tbody tr th {\n",
       "        vertical-align: top;\n",
       "    }\n",
       "\n",
       "    .dataframe thead th {\n",
       "        text-align: right;\n",
       "    }\n",
       "</style>\n",
       "<table border=\"1\" class=\"dataframe\">\n",
       "  <thead>\n",
       "    <tr style=\"text-align: right;\">\n",
       "      <th></th>\n",
       "      <th>Club</th>\n",
       "      <th>Nationality</th>\n",
       "      <th>Position</th>\n",
       "      <th>Age</th>\n",
       "      <th>Matches</th>\n",
       "      <th>Starts</th>\n",
       "      <th>Mins</th>\n",
       "      <th>Goals</th>\n",
       "      <th>Assists</th>\n",
       "      <th>Penalty_Goals</th>\n",
       "      <th>Penalty_Attempted</th>\n",
       "      <th>xG</th>\n",
       "      <th>xA</th>\n",
       "      <th>Yellow_Cards</th>\n",
       "      <th>Red_Cards</th>\n",
       "    </tr>\n",
       "    <tr>\n",
       "      <th>Name</th>\n",
       "      <th></th>\n",
       "      <th></th>\n",
       "      <th></th>\n",
       "      <th></th>\n",
       "      <th></th>\n",
       "      <th></th>\n",
       "      <th></th>\n",
       "      <th></th>\n",
       "      <th></th>\n",
       "      <th></th>\n",
       "      <th></th>\n",
       "      <th></th>\n",
       "      <th></th>\n",
       "      <th></th>\n",
       "      <th></th>\n",
       "    </tr>\n",
       "  </thead>\n",
       "  <tbody>\n",
       "    <tr>\n",
       "      <th>Manuel Neuer</th>\n",
       "      <td>Bayern Munich</td>\n",
       "      <td>GER</td>\n",
       "      <td>GK</td>\n",
       "      <td>34</td>\n",
       "      <td>33</td>\n",
       "      <td>33</td>\n",
       "      <td>2970</td>\n",
       "      <td>0</td>\n",
       "      <td>0</td>\n",
       "      <td>0</td>\n",
       "      <td>0</td>\n",
       "      <td>0.00</td>\n",
       "      <td>0.01</td>\n",
       "      <td>1</td>\n",
       "      <td>0</td>\n",
       "    </tr>\n",
       "    <tr>\n",
       "      <th>Thomas Müller</th>\n",
       "      <td>Bayern Munich</td>\n",
       "      <td>GER</td>\n",
       "      <td>MF</td>\n",
       "      <td>30</td>\n",
       "      <td>32</td>\n",
       "      <td>31</td>\n",
       "      <td>2674</td>\n",
       "      <td>11</td>\n",
       "      <td>19</td>\n",
       "      <td>1</td>\n",
       "      <td>1</td>\n",
       "      <td>0.24</td>\n",
       "      <td>0.39</td>\n",
       "      <td>0</td>\n",
       "      <td>0</td>\n",
       "    </tr>\n",
       "    <tr>\n",
       "      <th>David Alaba</th>\n",
       "      <td>Bayern Munich</td>\n",
       "      <td>AUT</td>\n",
       "      <td>DF,MF</td>\n",
       "      <td>28</td>\n",
       "      <td>32</td>\n",
       "      <td>30</td>\n",
       "      <td>2675</td>\n",
       "      <td>2</td>\n",
       "      <td>4</td>\n",
       "      <td>0</td>\n",
       "      <td>0</td>\n",
       "      <td>0.04</td>\n",
       "      <td>0.08</td>\n",
       "      <td>4</td>\n",
       "      <td>0</td>\n",
       "    </tr>\n",
       "    <tr>\n",
       "      <th>Jérôme Boateng</th>\n",
       "      <td>Bayern Munich</td>\n",
       "      <td>GER</td>\n",
       "      <td>DF</td>\n",
       "      <td>31</td>\n",
       "      <td>29</td>\n",
       "      <td>29</td>\n",
       "      <td>2368</td>\n",
       "      <td>1</td>\n",
       "      <td>1</td>\n",
       "      <td>0</td>\n",
       "      <td>0</td>\n",
       "      <td>0.01</td>\n",
       "      <td>0.02</td>\n",
       "      <td>6</td>\n",
       "      <td>0</td>\n",
       "    </tr>\n",
       "    <tr>\n",
       "      <th>Robert Lewandowski</th>\n",
       "      <td>Bayern Munich</td>\n",
       "      <td>POL</td>\n",
       "      <td>FW</td>\n",
       "      <td>31</td>\n",
       "      <td>29</td>\n",
       "      <td>28</td>\n",
       "      <td>2458</td>\n",
       "      <td>41</td>\n",
       "      <td>7</td>\n",
       "      <td>8</td>\n",
       "      <td>9</td>\n",
       "      <td>1.16</td>\n",
       "      <td>0.13</td>\n",
       "      <td>4</td>\n",
       "      <td>0</td>\n",
       "    </tr>\n",
       "    <tr>\n",
       "      <th>Joshua Kimmich</th>\n",
       "      <td>Bayern Munich</td>\n",
       "      <td>GER</td>\n",
       "      <td>MF</td>\n",
       "      <td>25</td>\n",
       "      <td>27</td>\n",
       "      <td>25</td>\n",
       "      <td>2194</td>\n",
       "      <td>4</td>\n",
       "      <td>10</td>\n",
       "      <td>0</td>\n",
       "      <td>0</td>\n",
       "      <td>0.10</td>\n",
       "      <td>0.27</td>\n",
       "      <td>4</td>\n",
       "      <td>0</td>\n",
       "    </tr>\n",
       "    <tr>\n",
       "      <th>Kingsley Coman</th>\n",
       "      <td>Bayern Munich</td>\n",
       "      <td>FRA</td>\n",
       "      <td>FW,MF</td>\n",
       "      <td>24</td>\n",
       "      <td>29</td>\n",
       "      <td>23</td>\n",
       "      <td>1752</td>\n",
       "      <td>5</td>\n",
       "      <td>10</td>\n",
       "      <td>0</td>\n",
       "      <td>0</td>\n",
       "      <td>0.21</td>\n",
       "      <td>0.34</td>\n",
       "      <td>1</td>\n",
       "      <td>0</td>\n",
       "    </tr>\n",
       "    <tr>\n",
       "      <th>Benjamin Pavard</th>\n",
       "      <td>Bayern Munich</td>\n",
       "      <td>FRA</td>\n",
       "      <td>DF</td>\n",
       "      <td>24</td>\n",
       "      <td>24</td>\n",
       "      <td>22</td>\n",
       "      <td>1943</td>\n",
       "      <td>0</td>\n",
       "      <td>0</td>\n",
       "      <td>0</td>\n",
       "      <td>0</td>\n",
       "      <td>0.02</td>\n",
       "      <td>0.09</td>\n",
       "      <td>3</td>\n",
       "      <td>0</td>\n",
       "    </tr>\n",
       "    <tr>\n",
       "      <th>Alphonso Davies</th>\n",
       "      <td>Bayern Munich</td>\n",
       "      <td>CAN</td>\n",
       "      <td>DF</td>\n",
       "      <td>19</td>\n",
       "      <td>23</td>\n",
       "      <td>22</td>\n",
       "      <td>1763</td>\n",
       "      <td>1</td>\n",
       "      <td>2</td>\n",
       "      <td>0</td>\n",
       "      <td>0</td>\n",
       "      <td>0.01</td>\n",
       "      <td>0.04</td>\n",
       "      <td>2</td>\n",
       "      <td>1</td>\n",
       "    </tr>\n",
       "    <tr>\n",
       "      <th>Serge Gnabry</th>\n",
       "      <td>Bayern Munich</td>\n",
       "      <td>GER</td>\n",
       "      <td>FW,MF</td>\n",
       "      <td>25</td>\n",
       "      <td>27</td>\n",
       "      <td>20</td>\n",
       "      <td>1644</td>\n",
       "      <td>10</td>\n",
       "      <td>2</td>\n",
       "      <td>0</td>\n",
       "      <td>0</td>\n",
       "      <td>0.44</td>\n",
       "      <td>0.25</td>\n",
       "      <td>4</td>\n",
       "      <td>0</td>\n",
       "    </tr>\n",
       "  </tbody>\n",
       "</table>\n",
       "</div>"
      ],
      "text/plain": [
       "                             Club Nationality Position  Age  Matches  Starts  \\\n",
       "Name                                                                           \n",
       "Manuel Neuer        Bayern Munich         GER       GK   34       33      33   \n",
       "Thomas Müller       Bayern Munich         GER       MF   30       32      31   \n",
       "David Alaba         Bayern Munich         AUT    DF,MF   28       32      30   \n",
       "Jérôme Boateng      Bayern Munich         GER       DF   31       29      29   \n",
       "Robert Lewandowski  Bayern Munich         POL       FW   31       29      28   \n",
       "Joshua Kimmich      Bayern Munich         GER       MF   25       27      25   \n",
       "Kingsley Coman      Bayern Munich         FRA    FW,MF   24       29      23   \n",
       "Benjamin Pavard     Bayern Munich         FRA       DF   24       24      22   \n",
       "Alphonso Davies     Bayern Munich         CAN       DF   19       23      22   \n",
       "Serge Gnabry        Bayern Munich         GER    FW,MF   25       27      20   \n",
       "\n",
       "                    Mins  Goals  Assists  Penalty_Goals  Penalty_Attempted  \\\n",
       "Name                                                                         \n",
       "Manuel Neuer        2970      0        0              0                  0   \n",
       "Thomas Müller       2674     11       19              1                  1   \n",
       "David Alaba         2675      2        4              0                  0   \n",
       "Jérôme Boateng      2368      1        1              0                  0   \n",
       "Robert Lewandowski  2458     41        7              8                  9   \n",
       "Joshua Kimmich      2194      4       10              0                  0   \n",
       "Kingsley Coman      1752      5       10              0                  0   \n",
       "Benjamin Pavard     1943      0        0              0                  0   \n",
       "Alphonso Davies     1763      1        2              0                  0   \n",
       "Serge Gnabry        1644     10        2              0                  0   \n",
       "\n",
       "                      xG    xA  Yellow_Cards  Red_Cards  \n",
       "Name                                                     \n",
       "Manuel Neuer        0.00  0.01             1          0  \n",
       "Thomas Müller       0.24  0.39             0          0  \n",
       "David Alaba         0.04  0.08             4          0  \n",
       "Jérôme Boateng      0.01  0.02             6          0  \n",
       "Robert Lewandowski  1.16  0.13             4          0  \n",
       "Joshua Kimmich      0.10  0.27             4          0  \n",
       "Kingsley Coman      0.21  0.34             1          0  \n",
       "Benjamin Pavard     0.02  0.09             3          0  \n",
       "Alphonso Davies     0.01  0.04             2          1  \n",
       "Serge Gnabry        0.44  0.25             4          0  "
      ]
     },
     "execution_count": 1,
     "metadata": {},
     "output_type": "execute_result"
    }
   ],
   "source": [
    "import pandas as pd\n",
    "data = pd.read_csv('bundesliga_top7_offensive.csv', index_col=0)\n",
    "data.head(10)"
   ]
  },
  {
   "cell_type": "markdown",
   "id": "c53501bc",
   "metadata": {},
   "source": [
    "### Einzelne Zeile\n",
    "\n",
    "Uns interessieren die Spielerdaten von Thomas Müller näher. \n",
    "\n",
    "```{figure} pics/tabelle_zeile_einzeln.png\n",
    ":name: fig08_01\n",
    ":alt: Eine einzelne Zeile der Tabelle ist markiert.\n",
    ":align: center\n",
    ":width: 50%\n",
    "\n",
    "Auf eine einzelne Zeile der Tabelle wird mit `.loc[zeilenindex]` zugegriffen.\n",
    "```\n",
    "\n",
    "Um eine ganze Zeile aus der Tabelle herauszugreifen, verwenden wir das Attribut\n",
    "`.loc[zeilenindex]` und geben in eckigen Klammern den Index der Zeile an, die\n",
    "wir betrachten wollen. Da wir beim Import die Namen als Zeileindex gesetzt\n",
    "haben, lautet der Zugriff also wie folgt:"
   ]
  },
  {
   "cell_type": "code",
   "execution_count": 2,
   "id": "58cb31fd",
   "metadata": {},
   "outputs": [
    {
     "name": "stdout",
     "output_type": "stream",
     "text": [
      "Club                 Bayern Munich\n",
      "Nationality                    GER\n",
      "Position                        MF\n",
      "Age                             30\n",
      "Matches                         32\n",
      "Starts                          31\n",
      "Mins                          2674\n",
      "Goals                           11\n",
      "Assists                         19\n",
      "Penalty_Goals                    1\n",
      "Penalty_Attempted                1\n",
      "xG                            0.24\n",
      "xA                            0.39\n",
      "Yellow_Cards                     0\n",
      "Red_Cards                        0\n",
      "Name: Thomas Müller, dtype: object\n"
     ]
    }
   ],
   "source": [
    "zeile = data.loc['Thomas Müller']\n",
    "print(zeile)"
   ]
  },
  {
   "cell_type": "markdown",
   "id": "f030606b",
   "metadata": {},
   "source": [
    "### Zusammenhängende Zeilen: Slicing\n",
    "\n",
    "Wenn wir auf mehrere Zeilen gleichzeitig zugreifen wollen, gibt es zwei\n",
    "Möglichkeiten:\n",
    "\n",
    "1. Die Zeilen folgen direkt aufeinander, sind also zusammenhängend.\n",
    "2. Zwischen den einzelnen Zeilen sind Lücken. \n",
    "\n",
    "Als erstes betrachten wir zusammenhängende Zeilen. Der Zugriff auf\n",
    "zusammenhängende Bereiche wird in der Informatik **Slicing** genannt.\n",
    "\n",
    "```{figure} pics/tabelle_zeile_slice.png\n",
    ":name: fig08_02\n",
    ":alt: Mehrere zusammenhängende Zeilen der Tabelle sind markiert.\n",
    ":align: center\n",
    ":width: 50%\n",
    "\n",
    "Auf mehrere zusammenhängende Zeilen der Tabelle wird mit `.loc[start:stopp]` zugegriffen. Das nennt man Slicing.\n",
    "```\n",
    "\n",
    "Bei der Angabe des Bereiches gibt man den Anfangsindex gefolgt von einem\n",
    "Doppelpunkt an und dann den Endindex der letzten Zeile, die \"herausgeschnitten\"\n",
    "werden soll."
   ]
  },
  {
   "cell_type": "code",
   "execution_count": 3,
   "id": "4b9d2a0c",
   "metadata": {},
   "outputs": [
    {
     "name": "stdout",
     "output_type": "stream",
     "text": [
      "                         Club Nationality Position  Age  Matches  Starts  \\\n",
      "Name                                                                       \n",
      "Thomas Müller   Bayern Munich         GER       MF   30       32      31   \n",
      "David Alaba     Bayern Munich         AUT    DF,MF   28       32      30   \n",
      "Jérôme Boateng  Bayern Munich         GER       DF   31       29      29   \n",
      "\n",
      "                Mins  Goals  Assists  Penalty_Goals  Penalty_Attempted    xG  \\\n",
      "Name                                                                           \n",
      "Thomas Müller   2674     11       19              1                  1  0.24   \n",
      "David Alaba     2675      2        4              0                  0  0.04   \n",
      "Jérôme Boateng  2368      1        1              0                  0  0.01   \n",
      "\n",
      "                  xA  Yellow_Cards  Red_Cards  \n",
      "Name                                           \n",
      "Thomas Müller   0.39             0          0  \n",
      "David Alaba     0.08             4          0  \n",
      "Jérôme Boateng  0.02             6          0  \n"
     ]
    }
   ],
   "source": [
    "zeilen_slice = data.loc['Thomas Müller' : 'Jérôme Boateng']\n",
    "print(zeilen_slice)"
   ]
  },
  {
   "cell_type": "markdown",
   "id": "3c97354f",
   "metadata": {},
   "source": [
    "Beim Slicing können wir den Angangsindex oder den Endindex oder sogar beides\n",
    "weglassen. Wenn wir den Anfangsindex weglassen, fängt Pandas bei der ersten\n",
    "Zeile an. Lassen wir den Endindex weg, geht der Slice automatisch bis zum Ende. \n",
    "\n",
    "Im folgenden Beispiel startet der Slice bei 'Robert Lewandowski'und geht bis zur\n",
    "letzten Zeile. Obwohl nicht alle Zeilendargestellt werden, erkennen wir das an\n",
    "der Anzahl der Zeilen: 173 rows (und 15 Spalten columns). Zur Erinnerung, es\n",
    "sind insgesamt 177 Zeilen."
   ]
  },
  {
   "cell_type": "code",
   "execution_count": 4,
   "id": "7fc81849",
   "metadata": {},
   "outputs": [
    {
     "name": "stdout",
     "output_type": "stream",
     "text": [
      "                             Club Nationality Position  Age  Matches  Starts  \\\n",
      "Name                                                                           \n",
      "Robert Lewandowski  Bayern Munich         POL       FW   31       29      28   \n",
      "Joshua Kimmich      Bayern Munich         GER       MF   25       27      25   \n",
      "Kingsley Coman      Bayern Munich         FRA    FW,MF   24       29      23   \n",
      "Benjamin Pavard     Bayern Munich         FRA       DF   24       24      22   \n",
      "Alphonso Davies     Bayern Munich         CAN       DF   19       23      22   \n",
      "...                           ...         ...      ...  ...      ...     ...   \n",
      "Loris Karius         Union Berlin         GER       GK   27        4       3   \n",
      "Akaki Gogia          Union Berlin         GER       FW   28        7       0   \n",
      "Leon Dajaku          Union Berlin         GER       FW   19        2       0   \n",
      "Tim Maciejewski      Union Berlin         GER       MF   19        1       0   \n",
      "Joshua Mees          Union Berlin         GER       FW   24        1       0   \n",
      "\n",
      "                    Mins  Goals  Assists  Penalty_Goals  Penalty_Attempted  \\\n",
      "Name                                                                         \n",
      "Robert Lewandowski  2458     41        7              8                  9   \n",
      "Joshua Kimmich      2194      4       10              0                  0   \n",
      "Kingsley Coman      1752      5       10              0                  0   \n",
      "Benjamin Pavard     1943      0        0              0                  0   \n",
      "Alphonso Davies     1763      1        2              0                  0   \n",
      "...                  ...    ...      ...            ...                ...   \n",
      "Loris Karius         292      0        0              0                  0   \n",
      "Akaki Gogia          140      0        1              0                  0   \n",
      "Leon Dajaku           37      0        0              0                  0   \n",
      "Tim Maciejewski        8      0        0              0                  0   \n",
      "Joshua Mees            5      0        0              0                  0   \n",
      "\n",
      "                      xG    xA  Yellow_Cards  Red_Cards  \n",
      "Name                                                     \n",
      "Robert Lewandowski  1.16  0.13             4          0  \n",
      "Joshua Kimmich      0.10  0.27             4          0  \n",
      "Kingsley Coman      0.21  0.34             1          0  \n",
      "Benjamin Pavard     0.02  0.09             3          0  \n",
      "Alphonso Davies     0.01  0.04             2          1  \n",
      "...                  ...   ...           ...        ...  \n",
      "Loris Karius        0.00  0.00             0          0  \n",
      "Akaki Gogia         0.09  0.28             1          0  \n",
      "Leon Dajaku         0.00  0.00             0          0  \n",
      "Tim Maciejewski     0.00  0.00             0          0  \n",
      "Joshua Mees         2.02  0.00             0          0  \n",
      "\n",
      "[173 rows x 15 columns]\n"
     ]
    }
   ],
   "source": [
    "data_slice_from_lewandowski = data.loc['Robert Lewandowski': ]\n",
    "print(data_slice_from_lewandowski)"
   ]
  },
  {
   "cell_type": "markdown",
   "id": "14560974",
   "metadata": {},
   "source": [
    "### Selektion unzusammenhängender Zeilen per Liste\n",
    "\n",
    "Soll auf mehrere Zeilen zugegriffen werdenn, die nicht zusammenhängen, so nennt\n",
    "man das **Selektion**.\n",
    "\n",
    "```{figure} pics/tabelle_zeile_selektion.png\n",
    ":name: fig08_03\n",
    ":alt: Slicing von Zeilen einer Tabelle\n",
    ":align: center\n",
    ":width: 50%\n",
    "\n",
    "Auf mehrere unzusammenhängende Zeilen der Tabelle wird mit `.loc[list]` zugegriffen. Das nennt man Selektion.\n",
    "```\n",
    "\n",
    "Um mehrere unzusammenhängende Zeilen zu selektieren, übergeben wir `.loc[]` eine\n",
    "Liste mit den gewünschten Zeilenindizes."
   ]
  },
  {
   "cell_type": "code",
   "execution_count": 5,
   "id": "52b5c4ba",
   "metadata": {},
   "outputs": [
    {
     "name": "stdout",
     "output_type": "stream",
     "text": [
      "                       Club Nationality Position  Age  Matches  Starts  Mins  \\\n",
      "Name                                                                           \n",
      "Manuel Neuer  Bayern Munich         GER       GK   34       33      33  2970   \n",
      "David Alaba   Bayern Munich         AUT    DF,MF   28       32      30  2675   \n",
      "\n",
      "              Goals  Assists  Penalty_Goals  Penalty_Attempted    xG    xA  \\\n",
      "Name                                                                         \n",
      "Manuel Neuer      0        0              0                  0  0.00  0.01   \n",
      "David Alaba       2        4              0                  0  0.04  0.08   \n",
      "\n",
      "              Yellow_Cards  Red_Cards  \n",
      "Name                                   \n",
      "Manuel Neuer             1          0  \n",
      "David Alaba              4          0  \n"
     ]
    }
   ],
   "source": [
    "zeilen_selektion = data.loc[ ['Manuel Neuer', 'David Alaba'] ]\n",
    "print(zeilen_selektion)"
   ]
  },
  {
   "cell_type": "markdown",
   "id": "e2f87509",
   "metadata": {},
   "source": [
    "```{admonition} Mini-Übung\n",
    ":class: miniexercise\n",
    "Lassen Sie sich die folgenden Zeilen anzeigen:\n",
    "* Kingsley Coman\n",
    "* Kingsley Coman bis Alphonso Davies\n",
    "* Robert Lewandowski, Kingsley Coman und Serge Gnabry\n",
    "```"
   ]
  },
  {
   "cell_type": "code",
   "execution_count": 6,
   "id": "7cc247a5",
   "metadata": {},
   "outputs": [],
   "source": [
    "# Hier Ihr Code"
   ]
  },
  {
   "cell_type": "markdown",
   "id": "43ebf93f",
   "metadata": {},
   "source": [
    "````{admonition} Lösung\n",
    ":class: miniexercise, toggle\n",
    "```python\n",
    "data_zeile = data.loc['Kingsley Coman']\n",
    "data_slice = data.loc['Kingsley Coman' : 'Alphonso Davies']\n",
    "data_selektion = data.loc[['Robert Lewandowski','Kingsley Coman', 'Serge Gnabry']]\n",
    "\n",
    "print(data_zeile)\n",
    "print(data_slice)\n",
    "print(data_selektion)\n",
    "```\n",
    "````\n",
    "\n",
    "## Zugriff auf Spalten\n",
    "\n",
    "Auf Spalten können wir zugreifen, indem wir `.loc` mit zwei Argumenten benutzen.\n",
    "Dann steht das 1. Argument für den Zeilenindex und das 2. Argument für den\n",
    "Spaltenindex. Wenn wir die komplette Spalte betrachten wollen, setzen wir für\n",
    "den Zeilenindex einfach einen Doppelpunkt `:`. Damit werden automatisch als\n",
    "Anfangsindex die erste Zeile und als Endindex die letzte Zeile gewählt.\n",
    "Ansonsten erfolgen die Zugriffe auf Spalten analog zu den Zugriffen auf Zeilen\n",
    "über die drei Möglichkeiten\n",
    "\n",
    "* einzelne Spalte,\n",
    "* zusammenhängende Spalten (Slicing) und\n",
    "* unzusammenhängende Spalten als Liste (Selektion).\n",
    "\n",
    "### Einzelne Spalte\n",
    "\n",
    "Als nächstes greifen wir auf eine Spalte der Tabelle zu.\n",
    "\n",
    "```{figure} pics/tabelle_spalte_einzeln.png\n",
    ":name: fig08_04\n",
    ":alt: Einzelne Spalte einer Tabelle\n",
    ":align: center\n",
    ":width: 50%\n",
    "\n",
    "Auf eine einzelne Spalte der Tabelle wird mit `.loc[:, spaltenindex]` zugegriffen. \n",
    "```\n",
    "\n",
    "Das Alter der Fußballspieler erhalten wir somit mit dem Spaltenindex `Age`."
   ]
  },
  {
   "cell_type": "code",
   "execution_count": 7,
   "id": "8a527dab",
   "metadata": {},
   "outputs": [
    {
     "name": "stdout",
     "output_type": "stream",
     "text": [
      "Name\n",
      "Manuel Neuer          34\n",
      "Thomas Müller         30\n",
      "David Alaba           28\n",
      "Jérôme Boateng        31\n",
      "Robert Lewandowski    31\n",
      "                      ..\n",
      "Loris Karius          27\n",
      "Akaki Gogia           28\n",
      "Leon Dajaku           19\n",
      "Tim Maciejewski       19\n",
      "Joshua Mees           24\n",
      "Name: Age, Length: 177, dtype: int64\n"
     ]
    }
   ],
   "source": [
    "alter = data.loc[:, 'Age']\n",
    "print(alter)"
   ]
  },
  {
   "cell_type": "markdown",
   "id": "b5cb41f4",
   "metadata": {},
   "source": [
    "### Zusammenhängende Spalten: Slicing\n",
    "\n",
    "Wenn wir beispielsweise die Anzahl der Spiele (`Matches`), die ein Spieler in\n",
    "der Saison absolviert hat, mit der Anzahl der Spiele, in denen er vom Anfang an\n",
    "auf dem Platz stand (`Starts`) vergleichen wollen, so können wir die beiden\n",
    "aufeinanderfolgenden Spalten 'Matches' und 'Starts' als Slice ausschneiden.\n",
    "\n",
    "```{figure} pics/tabelle_spalte_slice.png\n",
    ":name: fig08_05\n",
    ":alt: Slice von Spalten einer Tabelle\n",
    ":align: center\n",
    ":width: 50%\n",
    "\n",
    "Auf mehrere zusammenhängende Spalten der Tabelle wird mit `.loc[:, start:stopp]` zugegriffen. Das nennt man Slicing.\n",
    "```\n",
    "\n",
    "Analog zum Slicing von Zeilen wird ein Slicing von Spalten durchgeführt, indem\n",
    "der Anfangsspaltenindex hingeschrieben wird, dann ein Doppelpunkt gesetzt wird\n",
    "und dann der Endspaltenindex notiert wird. Das folgende Beispiel zeigt das\n",
    "Slicing zweier Spalten."
   ]
  },
  {
   "cell_type": "code",
   "execution_count": 8,
   "id": "f97356ca",
   "metadata": {},
   "outputs": [
    {
     "name": "stdout",
     "output_type": "stream",
     "text": [
      "                    Matches  Starts\n",
      "Name                               \n",
      "Manuel Neuer             33      33\n",
      "Thomas Müller            32      31\n",
      "David Alaba              32      30\n",
      "Jérôme Boateng           29      29\n",
      "Robert Lewandowski       29      28\n",
      "...                     ...     ...\n",
      "Loris Karius              4       3\n",
      "Akaki Gogia               7       0\n",
      "Leon Dajaku               2       0\n",
      "Tim Maciejewski           1       0\n",
      "Joshua Mees               1       0\n",
      "\n",
      "[177 rows x 2 columns]\n"
     ]
    }
   ],
   "source": [
    "spiele = data.loc[:, 'Matches' : 'Starts']\n",
    "print(spiele)"
   ]
  },
  {
   "cell_type": "markdown",
   "id": "6b4f5fe2",
   "metadata": {},
   "source": [
    "### Selektion unzusammenhängender Spalten per Liste\n",
    "\n",
    "Die Anzahl der Spiele (`Matches`) und die Anzahl der gespielten Minuten in der\n",
    "kompletten Saison (`Mins`) die Anzahl der Spiele ('Matches') miteinander könnte\n",
    "aufschlussreich sein, um die durchschnittliche Minutenzahl pro Spiel zu\n",
    "ermitteln. Da die Spalten nicht nebeneinander liegen, müssen wir eine Liste\n",
    "benutzen, um sie zu selektieren. \n",
    "\n",
    "```{figure} pics/tabelle_spalte_selektion.png\n",
    ":name: fig08_06\n",
    ":alt: Selektion von Spalten einer Tabelle\n",
    ":align: center\n",
    ":width: 50%\n",
    "\n",
    "Auf mehrere unzusammenhängende Spalten der Tabelle wird mit `.loc[:, list]` zugegriffen. Das nennt man Selektion.\n",
    "```\n",
    "\n",
    "Das folgende Code-Beispiel demonstriert die Selektion zweier Spalten."
   ]
  },
  {
   "cell_type": "code",
   "execution_count": 9,
   "id": "4b19381c",
   "metadata": {},
   "outputs": [
    {
     "name": "stdout",
     "output_type": "stream",
     "text": [
      "                    Matches  Mins\n",
      "Name                             \n",
      "Manuel Neuer             33  2970\n",
      "Thomas Müller            32  2674\n",
      "David Alaba              32  2675\n",
      "Jérôme Boateng           29  2368\n",
      "Robert Lewandowski       29  2458\n",
      "...                     ...   ...\n",
      "Loris Karius              4   292\n",
      "Akaki Gogia               7   140\n",
      "Leon Dajaku               2    37\n",
      "Tim Maciejewski           1     8\n",
      "Joshua Mees               1     5\n",
      "\n",
      "[177 rows x 2 columns]\n"
     ]
    }
   ],
   "source": [
    "spiele_minuten = data.loc[:, ['Matches', 'Mins'] ]\n",
    "print(spiele_minuten)"
   ]
  },
  {
   "cell_type": "markdown",
   "id": "7ea2861f",
   "metadata": {},
   "source": [
    "```{admonition} Mini-Übung\n",
    ":class: miniexercise\n",
    "Lassen Sie sich die folgenden Spalten anzeigen:\n",
    "* Nationality\n",
    "* Nationality bis Age\n",
    "* Nationality, Age und Matches\n",
    "```"
   ]
  },
  {
   "cell_type": "code",
   "execution_count": 10,
   "id": "58d2b86e",
   "metadata": {},
   "outputs": [],
   "source": [
    "# Hier Ihr Code"
   ]
  },
  {
   "cell_type": "markdown",
   "id": "880abba1",
   "metadata": {},
   "source": [
    "````{admonition} Lösung\n",
    ":class: miniexercise, toggle\n",
    "```python\n",
    "data_spalte = data.loc[:, 'Nationality']\n",
    "data_slice = data.loc[:, 'Nationality' : 'Age']\n",
    "data_selektion = data.loc[:, ['Nationality','Age', 'Matches']]\n",
    "\n",
    "print(data_spalte)\n",
    "print(data_slice)\n",
    "print(data_selektion)\n",
    "```\n",
    "````\n",
    "\n",
    "## Zugriff auf Zellen\n",
    "\n",
    "Es kann auch vorkommen, dass man gezielt auf eine einzelne Zelle oder einen\n",
    "Bereich von Zellen zugreifen möchte. Auch dazu benutzen wir das Attribut\n",
    "`.loc[]`. \n",
    "\n",
    "Eine Zelle ist ein einzelnes Element der Tabelle, sozusagen der Kreuzungspunkt\n",
    "zwischen Zeile und Spalte. Die Zelle mit dem Zeilenindex `Thomas Müller` und dem\n",
    "Spaltenindex `Age`enthält das Alter von Thomas Müller.\n",
    "\n",
    "```{figure} pics/tabelle_zelle_einzeln.png\n",
    ":name: fig08_07\n",
    ":alt: Einzelne Zelle einer Tabelle\n",
    ":align: center\n",
    ":width: 50%\n",
    "\n",
    "Auf ein einzelne Zelle der Tabelle wird mit `.loc[zeilenindex, spaltenindex]` zugegriffen.\n",
    "```\n",
    "\n",
    "Der Trick ist nun, die drei Möglichkeiten (einzeln, Slice und Selektion per\n",
    "Liste) für die Zeilen mit den gleichen drei Möglichkeiten des Zugriffes für\n",
    "Spalten zu kombinieren.\n",
    "\n",
    "Wollen wir beispielsweise das Alter von Thomas Müller aus der Tabelle\n",
    "heraussuchen, so gehen wir folgendermaßen vor."
   ]
  },
  {
   "cell_type": "code",
   "execution_count": 11,
   "id": "c27ebc74",
   "metadata": {},
   "outputs": [
    {
     "name": "stdout",
     "output_type": "stream",
     "text": [
      "Thomas Müller ist 30 Jahre alt.\n"
     ]
    }
   ],
   "source": [
    "alter_mueller = data.loc['Thomas Müller', 'Age']\n",
    "print(f'Thomas Müller ist {alter_mueller} Jahre alt.')"
   ]
  },
  {
   "cell_type": "markdown",
   "id": "d37c253d",
   "metadata": {},
   "source": [
    "Wollen wir Beispielsweise das Alter der Fußballprofis von 'David Alaba' bis\n",
    "'Robert Lewandowski' wissen, so gehen wir folgendermaßen vor:"
   ]
  },
  {
   "cell_type": "code",
   "execution_count": 12,
   "id": "32d016a3",
   "metadata": {},
   "outputs": [
    {
     "name": "stdout",
     "output_type": "stream",
     "text": [
      "Name\n",
      "David Alaba           28\n",
      "Jérôme Boateng        31\n",
      "Robert Lewandowski    31\n",
      "Name: Age, dtype: int64\n"
     ]
    }
   ],
   "source": [
    "alter_slice = data.loc['David Alaba' : 'Robert Lewandowski', 'Age']\n",
    "print(alter_slice)"
   ]
  },
  {
   "cell_type": "markdown",
   "id": "9bd0806d",
   "metadata": {},
   "source": [
    "Und möchten wir von den Herren Thomas Müller und Joshua Kimmich sowhl die\n",
    "Nationalität als auch das Alter selektieren, so gehen wir wie folgt vor:"
   ]
  },
  {
   "cell_type": "code",
   "execution_count": 13,
   "id": "e518218b",
   "metadata": {},
   "outputs": [
    {
     "name": "stdout",
     "output_type": "stream",
     "text": [
      "               Nationality  Age\n",
      "Name                           \n",
      "Thomas Müller          GER   30\n",
      "Joshua Kimmich         GER   25\n"
     ]
    }
   ],
   "source": [
    "spezialauswahl = data.loc[ ['Thomas Müller', 'Joshua Kimmich'], ['Nationality', 'Age'] ]\n",
    "print(spezialauswahl)"
   ]
  },
  {
   "cell_type": "markdown",
   "id": "f4f3e79d",
   "metadata": {},
   "source": [
    "```{admonition} Mini-Übung\n",
    ":class: miniexercise\n",
    "Lassen Sie sich das Alter von Robert Lewandowski und Thomas Müller anzeigen.\n",
    "```"
   ]
  },
  {
   "cell_type": "code",
   "execution_count": 14,
   "id": "4292b4ba",
   "metadata": {},
   "outputs": [],
   "source": [
    "# Hier Ihr Code"
   ]
  },
  {
   "cell_type": "markdown",
   "id": "d656ddfc",
   "metadata": {},
   "source": [
    "````{admonition} Lösung\n",
    ":class: miniexercise, toggle\n",
    "```python\n",
    "alter = data.loc[['Robert Lewandowski', 'Thomas Müller'], 'Age']\n",
    "print(alter)\n",
    "```\n",
    "````\n",
    "\n",
    "## Filtern\n",
    "\n",
    "Vielleicht haben Sie sich schon gefragt, warum wir nur Bayern-Spieler analysiert\n",
    "haben. Die Antwort ist simpel, Bayern stand im Datensatz oben in den ersten\n",
    "Zeilen. Tatsächlich sind aber die Spielerdaten von sieben Vereinen im Datensatz\n",
    "enthalten. Wir können uns die verschiedenen Werte einer Spalte mit der Methode\n",
    "`.unique()`ansehen.\n",
    "\n",
    "In einem ersten Schritt lesen wir die Spalte mit den Vereinen aus (Spalte\n",
    "'Club'). Dann wenden wir auf das Ergnis die Methode `.unique()` an."
   ]
  },
  {
   "cell_type": "code",
   "execution_count": 15,
   "id": "e0e5b446",
   "metadata": {},
   "outputs": [
    {
     "name": "stdout",
     "output_type": "stream",
     "text": [
      "['Bayern Munich' 'Borussia Dortmund' 'RB Leipzig' 'Wolfsburg'\n",
      " 'Eintracht Frankfurt' 'Bayer Leverkusen' 'Union Berlin']\n"
     ]
    }
   ],
   "source": [
    "vereine = data.loc[:, 'Club']\n",
    "vereinsnamen = vereine.unique()\n",
    "print(vereinsnamen)"
   ]
  },
  {
   "cell_type": "markdown",
   "id": "47041dc9",
   "metadata": {},
   "source": [
    "Wenn man möchte, kann man auch beide Schritte in einem Schritt ausführen:"
   ]
  },
  {
   "cell_type": "code",
   "execution_count": 16,
   "id": "318b2d5b",
   "metadata": {},
   "outputs": [
    {
     "name": "stdout",
     "output_type": "stream",
     "text": [
      "['Bayern Munich' 'Borussia Dortmund' 'RB Leipzig' 'Wolfsburg'\n",
      " 'Eintracht Frankfurt' 'Bayer Leverkusen' 'Union Berlin']\n"
     ]
    }
   ],
   "source": [
    "vereinsnamen = data.loc[:, 'Club'].unique()\n",
    "print(vereinsnamen)"
   ]
  },
  {
   "cell_type": "markdown",
   "id": "dc9de115",
   "metadata": {},
   "source": [
    "Jetzt wo wir wissen, dass auch Eintracht Frankfurt dabei ist, würden wir den\n",
    "Datensatz gerne nach Eintracht Frankfurt filtern. Dazu benutzen wir einen\n",
    "Vergleich und speichern das Ergebnis des Vergleichs in einer Variablen."
   ]
  },
  {
   "cell_type": "code",
   "execution_count": 17,
   "id": "4e18cc6c",
   "metadata": {},
   "outputs": [
    {
     "name": "stdout",
     "output_type": "stream",
     "text": [
      "Name\n",
      "Manuel Neuer          False\n",
      "Thomas Müller         False\n",
      "David Alaba           False\n",
      "Jérôme Boateng        False\n",
      "Robert Lewandowski    False\n",
      "                      ...  \n",
      "Loris Karius          False\n",
      "Akaki Gogia           False\n",
      "Leon Dajaku           False\n",
      "Tim Maciejewski       False\n",
      "Joshua Mees           False\n",
      "Name: Club, Length: 177, dtype: bool\n"
     ]
    }
   ],
   "source": [
    "filter_eintracht = data.loc[:, 'Club'] == 'Eintracht Frankfurt'\n",
    "print(filter_eintracht)"
   ]
  },
  {
   "cell_type": "markdown",
   "id": "3f49a622",
   "metadata": {},
   "source": [
    "Das Ergebnis des Vergleichs, der in der Variablen `filter_eintracht` gespeichert\n",
    "ist, ist ein Pandas-Series-Objekt, das für jede Zeile gespeichert hat, ob der\n",
    "Vergleich wahr (True) oder falsch (False) ist. Ist in einer Zeile der Club\n",
    "gleich 'Eintracht Frankfurt', so ist in dem booleschen Objekt an dieser Stelle\n",
    "True eingetragen und ansonsten False. Der Datenyp dtype wird mit `bool`\n",
    "angegeben. \n",
    "\n",
    "Wir können nun anstatt einer Liste diesen booleschen Index nutzen, um Zeilen zu\n",
    "selektieren. Steht in einer Zeile des booleschen Series-Objektes `True`, so wird\n",
    "diese Zeile ausgewählt. Ansonsten wird die Zeile übersprungen. Damit erhalten\n",
    "wir alle Spielerdaten, die zu Eintracht Frankfurt gehören."
   ]
  },
  {
   "cell_type": "code",
   "execution_count": 18,
   "id": "59e44020",
   "metadata": {},
   "outputs": [
    {
     "name": "stdout",
     "output_type": "stream",
     "text": [
      "                                   Club Nationality Position  Age  Matches  \\\n",
      "Name                                                                         \n",
      "Kevin Trapp         Eintracht Frankfurt         GER       GK   30       33   \n",
      "André Silva         Eintracht Frankfurt         POR       FW   24       32   \n",
      "Filip Kostić        Eintracht Frankfurt         SRB       DF   27       30   \n",
      "Martin Hinteregger  Eintracht Frankfurt         AUT       DF   27       29   \n",
      "Daichi Kamada       Eintracht Frankfurt         JPN    MF,FW   23       32   \n",
      "Makoto Hasebe       Eintracht Frankfurt         JPN    DF,MF   36       29   \n",
      "Djibril Sow         Eintracht Frankfurt         SUI       MF   23       28   \n",
      "Obite N'Dicka       Eintracht Frankfurt         FRA       DF   20       23   \n",
      "Sebastian Rode      Eintracht Frankfurt         GER       MF   29       27   \n",
      "Erik Durm           Eintracht Frankfurt         GER       DF   28       21   \n",
      "Stefan Ilsanker     Eintracht Frankfurt         AUT    MF,DF   31       27   \n",
      "Tuta                Eintracht Frankfurt         BRA       DF   21       19   \n",
      "Amin Younes         Eintracht Frankfurt         GER    MF,FW   26       26   \n",
      "David Abraham       Eintracht Frankfurt         ARG       DF   34       14   \n",
      "Aymen Barkok        Eintracht Frankfurt         MAR    FW,MF   22       26   \n",
      "Bas Dost            Eintracht Frankfurt         NED       FW   31       12   \n",
      "Luka Jović          Eintracht Frankfurt         SRB    FW,MF   22       18   \n",
      "Almamy Touré        Eintracht Frankfurt         MLI       DF   24       17   \n",
      "Steven Zuber        Eintracht Frankfurt         SUI    DF,MF   28       20   \n",
      "Timothy Chandler    Eintracht Frankfurt         USA       DF   30       15   \n",
      "Dominik Kohr        Eintracht Frankfurt         GER    MF,FW   26        7   \n",
      "Ajdin Hrustic       Eintracht Frankfurt         AUS    MF,FW   24       11   \n",
      "Danny da Costa      Eintracht Frankfurt         GER       DF   27        6   \n",
      "Elias Bördner       Eintracht Frankfurt         GER       GK   18        1   \n",
      "Ragnar Ache         Eintracht Frankfurt         GER    FW,DF   22        7   \n",
      "\n",
      "                    Starts  Mins  Goals  Assists  Penalty_Goals  \\\n",
      "Name                                                              \n",
      "Kevin Trapp             33  2970      0        0              0   \n",
      "André Silva             32  2760     28        7              7   \n",
      "Filip Kostić            29  2534      4       14              0   \n",
      "Martin Hinteregger      29  2527      2        1              0   \n",
      "Daichi Kamada           28  2356      5       12              0   \n",
      "Makoto Hasebe           26  2288      0        0              0   \n",
      "Djibril Sow             25  2175      0        2              0   \n",
      "Obite N'Dicka           23  2044      3        1              0   \n",
      "Sebastian Rode          19  1625      1        0              0   \n",
      "Erik Durm               19  1480      1        2              0   \n",
      "Stefan Ilsanker         17  1578      1        0              0   \n",
      "Tuta                    16  1459      0        0              0   \n",
      "Amin Younes             16  1391      3        3              0   \n",
      "David Abraham           14  1222      1        0              0   \n",
      "Aymen Barkok             9   977      2        3              0   \n",
      "Bas Dost                 9   817      4        2              1   \n",
      "Luka Jović               8   894      4        1              0   \n",
      "Almamy Touré             8   704      1        1              0   \n",
      "Steven Zuber             6   585      0        3              0   \n",
      "Timothy Chandler         3   432      1        0              0   \n",
      "Dominik Kohr             2   260      0        0              0   \n",
      "Ajdin Hrustic            1   272      1        0              0   \n",
      "Danny da Costa           1   110      0        0              0   \n",
      "Elias Bördner            1    90      0        0              0   \n",
      "Ragnar Ache              0   100      1        0              0   \n",
      "\n",
      "                    Penalty_Attempted    xG    xA  Yellow_Cards  Red_Cards  \n",
      "Name                                                                        \n",
      "Kevin Trapp                         0  0.00  0.00             0          0  \n",
      "André Silva                         7  0.79  0.18             1          0  \n",
      "Filip Kostić                        0  0.14  0.41             4          0  \n",
      "Martin Hinteregger                  0  0.07  0.03             4          0  \n",
      "Daichi Kamada                       0  0.21  0.28             3          0  \n",
      "Makoto Hasebe                       0  0.01  0.01             5          0  \n",
      "Djibril Sow                         0  0.02  0.06             6          0  \n",
      "Obite N'Dicka                       0  0.05  0.01            10          0  \n",
      "Sebastian Rode                      0  0.01  0.07            10          0  \n",
      "Erik Durm                           0  0.10  0.13             1          0  \n",
      "Stefan Ilsanker                     0  0.07  0.01             4          0  \n",
      "Tuta                                0  0.01  0.02             5          0  \n",
      "Amin Younes                         0  0.22  0.11             5          0  \n",
      "David Abraham                       0  0.05  0.03             5          1  \n",
      "Aymen Barkok                        0  0.15  0.27             5          0  \n",
      "Bas Dost                            1  0.47  0.25             3          0  \n",
      "Luka Jović                          0  0.28  0.06             2          0  \n",
      "Almamy Touré                        0  0.15  0.16             2          0  \n",
      "Steven Zuber                        0  0.12  0.29             1          0  \n",
      "Timothy Chandler                    0  0.18  0.07             2          0  \n",
      "Dominik Kohr                        0  0.19  0.01             1          0  \n",
      "Ajdin Hrustic                       0  0.10  0.14             2          0  \n",
      "Danny da Costa                      0  0.14  0.00             0          0  \n",
      "Elias Bördner                       0  0.00  0.00             0          0  \n",
      "Ragnar Ache                         0  0.24  0.00             1          0  \n"
     ]
    }
   ],
   "source": [
    "eintracht_frankfurt = data.loc[ filter_eintracht, :]\n",
    "print(eintracht_frankfurt)"
   ]
  },
  {
   "cell_type": "markdown",
   "id": "ac6bc9d4",
   "metadata": {},
   "source": [
    "Da der print()-Befehl nicht alle Einträge anzeigt, gehen wir jetzt Zeile für\n",
    "Zeile durch. Den Zeilenindex erhalten wir über das Attribut `.index`:"
   ]
  },
  {
   "cell_type": "code",
   "execution_count": 19,
   "id": "c69d1888",
   "metadata": {},
   "outputs": [
    {
     "name": "stdout",
     "output_type": "stream",
     "text": [
      "Kevin Trapp\n",
      "André Silva\n",
      "Filip Kostić\n",
      "Martin Hinteregger\n",
      "Daichi Kamada\n",
      "Makoto Hasebe\n",
      "Djibril Sow\n",
      "Obite N'Dicka\n",
      "Sebastian Rode\n",
      "Erik Durm\n",
      "Stefan Ilsanker\n",
      "Tuta\n",
      "Amin Younes\n",
      "David Abraham\n",
      "Aymen Barkok\n",
      "Bas Dost\n",
      "Luka Jović\n",
      "Almamy Touré\n",
      "Steven Zuber\n",
      "Timothy Chandler\n",
      "Dominik Kohr\n",
      "Ajdin Hrustic\n",
      "Danny da Costa\n",
      "Elias Bördner\n",
      "Ragnar Ache\n"
     ]
    }
   ],
   "source": [
    "for zeilenindex in eintracht_frankfurt.index:\n",
    "    print(zeilenindex)"
   ]
  },
  {
   "cell_type": "markdown",
   "id": "49a868c5",
   "metadata": {},
   "source": [
    "## Zusammenfassung\n",
    "\n",
    "In diesem Abschnitt konnten wir nur die Basis-Funktionalitäten streifen.\n",
    "Natürlich ist auch möglich, Bereiche zu sortieren oder gruppieren. Im nächsten\n",
    "Abschnitt erarbeiten wir uns erste statistische Analysen mit Pandas."
   ]
  }
 ],
 "metadata": {
  "jupytext": {
   "formats": "ipynb,md:myst",
   "text_representation": {
    "extension": ".md",
    "format_name": "myst",
    "format_version": 0.13,
    "jupytext_version": "1.13.8"
   }
  },
  "kernelspec": {
   "display_name": "Python 3 (ipykernel)",
   "language": "python",
   "name": "python3"
  },
  "language_info": {
   "codemirror_mode": {
    "name": "ipython",
    "version": 3
   },
   "file_extension": ".py",
   "mimetype": "text/x-python",
   "name": "python",
   "nbconvert_exporter": "python",
   "pygments_lexer": "ipython3",
   "version": "3.12.2"
  },
  "source_map": [
   13,
   43,
   47,
   67,
   70,
   96,
   99,
   110,
   113,
   132,
   135,
   145,
   147,
   192,
   195,
   219,
   222,
   243,
   246,
   256,
   258,
   299,
   302,
   307,
   310,
   315,
   318,
   325,
   327,
   348,
   352,
   356,
   359,
   365,
   368,
   382,
   385,
   390,
   393
  ]
 },
 "nbformat": 4,
 "nbformat_minor": 5
}