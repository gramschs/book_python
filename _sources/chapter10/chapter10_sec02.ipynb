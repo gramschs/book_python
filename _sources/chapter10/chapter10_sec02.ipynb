{
 "cells": [
  {
   "cell_type": "markdown",
   "id": "7155bc2e",
   "metadata": {},
   "source": [
    "# 10.2 Lineare Regression mit polyfit und polyval\n",
    "\n",
    "## Lernziele\n",
    "\n",
    "```{admonition} Lernziele\n",
    ":class: hint\n",
    "* Sie können mit **polyfit** die Koeffizienten einer Regressionsgerade zu\n",
    "  gegebenen Messwerten bestimmen.\n",
    "* Sie können mit **polyval** aus den berechneten Koeffizienten die\n",
    "  Regressionsgerade bestimmen.\n",
    "```\n",
    "\n",
    "## Koeffizienten der Regressionsgerade berechnen mit polyfit\n",
    "\n",
    "Python bzw. das Modul NumPy unterstützt die Suche nach der Regressionspolynomen\n",
    "mit der Funktion `polyfit()`. Eine detaillierte Bechreibung finden Sie ìn der\n",
    "[NumPy-Dokumentation\n",
    "(polyfit)](https://numpy.org/doc/stable/reference/generated/numpy.polynomial.polynomial.polyfit.html).\n",
    "Aufgerufen wird polyfit mit\n",
    "\n",
    "`p = polyfit(x, y, grad)`\n",
    "\n",
    "Dabei sind x und y die die Messdaten und `grad` ist ein Integer mit dem\n",
    "Polynomgrad. Für eine lineare Funktion setzen wir `grad = 1`. Das Ergebnis ist\n",
    "eine Liste (genauer gesagt ein Tupel). Die Liste enthält die Koeffizienten des\n",
    "Polynoms in absteigender Reihenfolge.\n",
    "\n",
    "Ist der Polynomgrad 1, dann ist `p[0]` die Steigung der linearen\n",
    "Regressionsgerade und der y-Achsenabschnitt ist in `p[1]` gespeichert:\n",
    "\n",
    "$$f(x) = p[0] \\cdot x + p[1].$$\n",
    "\n",
    "Um die Anwendung von `polyfit()` zu zeigen, werden zunächst die folgenden sieben\n",
    "Messpunkte visualisiert:"
   ]
  },
  {
   "cell_type": "code",
   "execution_count": 1,
   "id": "7cb5222f",
   "metadata": {},
   "outputs": [
    {
     "data": {
      "image/png": "[encoded data removed]",
      "text/plain": [
       "<Figure size 640x480 with 1 Axes>"
      ]
     },
     "metadata": {
      "filenames": {
       "image/png": "/Users/gramschs/lectures/book_python/doc/_build/jupyter_execute/chapter10/chapter10_sec02_1_0.png"
      }
     },
     "output_type": "display_data"
    }
   ],
   "source": [
    "import matplotlib.pylab as plt\n",
    "\n",
    "x = [-1, 0, 1, 2,  3, 4, 5]\n",
    "y = [-2.52,  0.85,   3.21,  7.19,  8.93, 12.89, 15.40]\n",
    "\n",
    "plt.figure()\n",
    "plt.scatter(x,y)\n",
    "plt.xlabel('Ursache')\n",
    "plt.ylabel('Wirkung')\n",
    "plt.title('Künstliche Messdaten mit linearem Zusammenhang');"
   ]
  },
  {
   "cell_type": "markdown",
   "id": "2acac268",
   "metadata": {},
   "source": [
    "Als nächstes verwenden wir `polyfit`, um die Koeffizienten einer\n",
    "Regressionsgerade von Python berechnen zu lassen."
   ]
  },
  {
   "cell_type": "code",
   "execution_count": 2,
   "id": "e633d9ee",
   "metadata": {},
   "outputs": [
    {
     "name": "stdout",
     "output_type": "stream",
     "text": [
      "[2.98428571 0.59571429]\n"
     ]
    }
   ],
   "source": [
    "import numpy as np\n",
    "\n",
    "koeffizienten = np.polyfit(x,y, 1)\n",
    "print(koeffizienten)"
   ]
  },
  {
   "cell_type": "markdown",
   "id": "f9126ab1",
   "metadata": {},
   "source": [
    "Die gefundene Regressionsgerade lautet also\n",
    "\n",
    "$$f(x) = 2.98\\cdot x + 0.59.$$ \n",
    "\n",
    "```{admonition} Mini-Übung\n",
    ":class: miniexercise\n",
    "Lassen Sie zusätzlich zu den Messwerten die gefundene Regressionsgerade in der\n",
    "Farbe rot visualisieren.\n",
    "```"
   ]
  },
  {
   "cell_type": "code",
   "execution_count": 3,
   "id": "19e32050",
   "metadata": {},
   "outputs": [],
   "source": [
    "# Hier Ihr Code"
   ]
  },
  {
   "cell_type": "markdown",
   "id": "3be36313",
   "metadata": {},
   "source": [
    "````{admonition} Lösung\n",
    ":class: minisolution, toggle\n",
    "```python\n",
    "# Wertetabelle für Regressionsgerade\n",
    "x_modell = np.linspace(-1, 5)\n",
    "y_modell = 2.98 * x_modell + 0.59\n",
    "\n",
    "# Visualisierung Messwerte und Regressionsgerade\n",
    "plt.figure()\n",
    "plt.scatter(x,y)\n",
    "plt.plot(x_modell, y_modell, color='red')\n",
    "plt.xlabel('Ursache')\n",
    "plt.ylabel('Wirkung')\n",
    "plt.title('Künstliche Messdaten mit linearem Zusammenhang');\n",
    "```\n",
    "````\n",
    "\n",
    "## Regressionsgerade aus Koeffizienten mit polyval aufstellen\n",
    "\n",
    "Eine weitere Funktion aus dem NumPy-Modul ist die Funktion `polyval()`. Die\n",
    "polyval-Funktion wird dazu benutzt, ein Polynom aufzustellen. Der Aufruf der\n",
    "polyval-Funktion sieht prinzipiell so aus:\n",
    "\n",
    "```python\n",
    "y = np.polyval(koeffizienten, x)\n",
    "```\n",
    "\n",
    "Dabei ist `koeffizienten` die Liste mit den Koeffizienten des Polynoms, die z.B.\n",
    "aus der Berechnung `polyfit()`stammen. Die Koeffizienten sind dabei wieder\n",
    "absteigend sortiert. Zuerst kommt der Koeffizient der höchsten Potenz. `x` ist\n",
    "eine Liste von Zahlen oder ein NumPy-Array, für die das Polynom ausgewertet\n",
    "werden soll.\n",
    "\n",
    "Wenn wir beispielhaft die Regressionsgerade des Beispiels an der Stelle $x =\n",
    "2.5$ auswerten wollen, so schreiben wir"
   ]
  },
  {
   "cell_type": "code",
   "execution_count": 4,
   "id": "a5997b54",
   "metadata": {},
   "outputs": [
    {
     "name": "stdout",
     "output_type": "stream",
     "text": [
      "Die Regressionsgerade an der Stelle x = 2.5 ist 8.06.\n"
     ]
    }
   ],
   "source": [
    "y = np.polyval(koeffizienten, 2.5)\n",
    "print(f'Die Regressionsgerade an der Stelle x = 2.5 ist {y:.2f}.')"
   ]
  },
  {
   "cell_type": "markdown",
   "id": "5c8a6e89",
   "metadata": {},
   "source": [
    "```{admonition} Mini-Übung\n",
    ":class: miniexercise\n",
    "Lassen Sie die Regressionsgerade mit `polyval` aus den mit `polyfit` für das\n",
    "Intervall $[-1,5]$ auswerten und visualisieren Sie die Messwerte (in blau)\n",
    "zusammen mit der Regressionsgeraden (in rot).\n",
    "```"
   ]
  },
  {
   "cell_type": "code",
   "execution_count": 5,
   "id": "acd0edd0",
   "metadata": {},
   "outputs": [],
   "source": [
    "# Hier Ihr Code"
   ]
  },
  {
   "cell_type": "markdown",
   "id": "8ec19428",
   "metadata": {},
   "source": [
    "````{admonition} Lösung\n",
    ":class: minisolution, toggle\n",
    "```python\n",
    "# Wertetabelle für Regressionsgerade\n",
    "x_modell = np.linspace(-1, 5)\n",
    "y_modell = np.polyval(koeffizienten, x_modell)\n",
    "\n",
    "# Visualisierung Messwerte und Regressionsgerade\n",
    "plt.figure()\n",
    "plt.scatter(x,y)\n",
    "plt.plot(x_modell, y_modell, color='red')\n",
    "plt.xlabel('Ursache')\n",
    "plt.ylabel('Wirkung')\n",
    "plt.title('Künstliche Messdaten mit linearem Zusammenhang');\n",
    "```\n",
    "````"
   ]
  }
 ],
 "metadata": {
  "jupytext": {
   "formats": "ipynb,md:myst",
   "text_representation": {
    "extension": ".md",
    "format_name": "myst",
    "format_version": 0.13,
    "jupytext_version": "1.13.8"
   }
  },
  "kernelspec": {
   "display_name": "Python 3 (ipykernel)",
   "language": "python",
   "name": "python3"
  },
  "language_info": {
   "codemirror_mode": {
    "name": "ipython",
    "version": 3
   },
   "file_extension": ".py",
   "mimetype": "text/x-python",
   "name": "python",
   "nbconvert_exporter": "python",
   "pygments_lexer": "ipython3",
   "version": "3.10.8"
  },
  "source_map": [
   13,
   50,
   61,
   66,
   71,
   82,
   84,
   121,
   124,
   132,
   134
  ]
 },
 "nbformat": 4,
 "nbformat_minor": 5
}