{
 "cells": [
  {
   "cell_type": "markdown",
   "id": "439a07c8",
   "metadata": {},
   "source": [
    "# 6.2 Funktionen mit Parameter und Rückgabe\n",
    "\n",
    "Vorgefertigte Funktionen haben wir schon mir Argument und Rückgabewert\n",
    "aufgerufen. In diesem Kapitel geht es darum, selbst eine Funktion zu\n",
    "implementieren, die Argumente entgegennimmt, diese verarbeitet und dann\n",
    "Rückgabewerte liefert.\n",
    "\n",
    "## Lernziele\n",
    "\n",
    "```{admonition} Lernziel\n",
    ":class: hint\n",
    "Sie können eine Funktion mit Parametern und Rückgabewerten selbst\n",
    "implementieren.\n",
    "```\n",
    "\n",
    "## Definition von Funktionen mit Parametern\n",
    "\n",
    "Meistens haben Funktionen Argumente, um Eingaben entgegennehmen und verarbeiten\n",
    "zu können. Das Argument wird bei der Implementierung der Funktion mit einer\n",
    "Variablen eingeführt. \n",
    "\n",
    "Die allgemeine Syntax zur Definition einer eigenen Funktion mit Parametern sieht\n",
    "wie folgt aus:\n",
    "\n",
    "```python\n",
    "def meine_funktion(arg1, arg2, ..., argn):\n",
    "    anweisung01\n",
    "    anweisung02\n",
    "     ...\n",
    "```\n",
    "\n",
    "Funktionen werden mit dem Schlüsselwort `def` gefolgt vom Funktionsnamen und\n",
    "einer Liste von Parametern in Klammern definiert. Die Code-Anweisungen der\n",
    "Funktion werden eingerückt.\n",
    "\n",
    "Als Beispiel betrachten wir erneut die Funktion, die Grüße ausrichtet. Doch\n",
    "jetzt erweitern wir die Funktion. Die modifizierte Variante soll konkret eine\n",
    "Person grüßen."
   ]
  },
  {
   "cell_type": "code",
   "execution_count": 1,
   "id": "d7cd4805",
   "metadata": {},
   "outputs": [],
   "source": [
    "def gruesse_ausrichten_mit_parameter(name):\n",
    "    print(f'Ich grüße {name}!')"
   ]
  },
  {
   "cell_type": "markdown",
   "id": "a29c0352",
   "metadata": {},
   "source": [
    "Der Aufruf einer Funktion ohne passende Argumente führt nun zu einer\n",
    "Fehlermeldung.\n",
    "\n",
    "```python\n",
    "gruesse_ausrichten_mit_parameter()\n",
    "```\n",
    "\n",
    "Daher müssen wir die modifizierte Funktion nun wie folgt aufrufen:"
   ]
  },
  {
   "cell_type": "code",
   "execution_count": 2,
   "id": "b2dd750a",
   "metadata": {},
   "outputs": [
    {
     "name": "stdout",
     "output_type": "stream",
     "text": [
      "Ich grüße Anna!\n"
     ]
    }
   ],
   "source": [
    "gruesse_ausrichten_mit_parameter('Anna')"
   ]
  },
  {
   "cell_type": "markdown",
   "id": "3283c157",
   "metadata": {},
   "source": [
    "Die Funktion `gruesse_ausrichten_mit_parameter()` hat aber keinen Rückgabewert.\n",
    "Das können wir wie folgt testen:"
   ]
  },
  {
   "cell_type": "code",
   "execution_count": 3,
   "id": "53ee6c60",
   "metadata": {},
   "outputs": [
    {
     "name": "stdout",
     "output_type": "stream",
     "text": [
      "Ich grüße Alice!\n"
     ]
    },
    {
     "data": {
      "text/plain": [
       "NoneType"
      ]
     },
     "execution_count": 3,
     "metadata": {},
     "output_type": "execute_result"
    }
   ],
   "source": [
    "x = gruesse_ausrichten_mit_parameter('Alice')\n",
    "type(x)"
   ]
  },
  {
   "cell_type": "markdown",
   "id": "05283107",
   "metadata": {},
   "source": [
    "`x` ist vom Typ `NoneType` oder anders ausgedrückt, in der Variablen `x` ist\n",
    "kein Datentyp gepeichert.\n",
    "\n",
    "Sind Funktionen ohne Rückgabewert sinnvoll? Ja, denn so können Python-Programme\n",
    "vereinfacht werden. Sollte in einem Programm ein Block von Anweisungen mehrmals\n",
    "ausgeführt werden, lohnt es sich, diesen in eine Funktion auszulagern, um diese\n",
    "einfach aufrufen zu können.\n",
    "\n",
    "```{admonition} Mini-Übung\n",
    ":class: miniexercise\n",
    "Schreiben Sie eine Funktion, die mit Turtle ein Rechteck zeichnet. Die beiden\n",
    "Seitenlängen des Rechtecks sollen als Argumente der Funktion übergeben werden.\n",
    "Testen Sie Ihre Funktion auch.\n",
    "```\n",
    "````{admonition} Lösung\n",
    ":class: minisolution, toggle\n",
    "```python\n",
    "import ColabTurtlePlus.Turtle as turtle\n",
    "turtle.clearscreen()\n",
    "\n",
    "def zeichne_rechteck(seite1, seite2):\n",
    "    rechteck = turtle.Turtle()\n",
    "    for i in range(2):\n",
    "        rechteck.forward(seite1)\n",
    "        rechteck.left(90)\n",
    "        rechteck.forward(seite2)\n",
    "        rechteck.left(90)\n",
    "        \n",
    "a = 100\n",
    "b = 30\n",
    "zeichne_rechteck(a,b)\n",
    "```\n",
    "````\n",
    "\n",
    "Das folgende Video fasst Funktionen mit Argumenten in Python zusammen.\n",
    "\n",
    "<iframe width=\"560\" height=\"315\" src=\"https://www.youtube.com/embed/af9ORp1Pty0\" title=\"YouTube video player\" frameborder=\"0\" allow=\"accelerometer; autoplay; clipboard-write; encrypted-media; gyroscope; picture-in-picture; web-share\" allowfullscreen></iframe>\n",
    "\n",
    "## Funktionen mit Parametern und Rückgabewerten\n",
    "\n",
    "In der Regel jedoch haben Funktionen einen Rückgabewert. Die allgemeine Syntax\n",
    "zur Definition einer eigenen Funktion mit Parametern und Rückgabewert sieht wie\n",
    "folgt aus:\n",
    "\n",
    "```python\n",
    "def meine_funktion(arg1, arg2, ..., argn):\n",
    "    anweisung01\n",
    "    anweisung02\n",
    "     ...\n",
    "\n",
    "    return rueckgabewert1, rückgabewert2, ...  \n",
    "```\n",
    "\n",
    "An der Definitionszeile ändert sich nichts. Zuerst wird das Schlüsselwort `def`\n",
    "verwendet, dann folgt der Funktionsname und zuletzt werden die Parameter in\n",
    "Klammern aufgelistet. Der Rückgabewert der Funktion wird dann durch das\n",
    "Schlüsselwort `return` im Inneren der Funktion, also im eingerückten Teil\n",
    "definiert. Die Funktion kann einen oder mehrere Rückgabewerte zurückliefern. Bei\n",
    "mehreren Rückgabewerten werden diese einfach durch Komma getrennt.\n",
    "\n",
    "Schauen wir uns ein Beispiel an. Die folgende Funktion nimmt einen Parameter\n",
    "entgegen und gibt einen Rückgabewert zurück."
   ]
  },
  {
   "cell_type": "code",
   "execution_count": 4,
   "id": "df097769",
   "metadata": {},
   "outputs": [],
   "source": [
    "def berechne_quadratzahl(zahl):\n",
    "    return zahl * zahl"
   ]
  },
  {
   "cell_type": "markdown",
   "id": "fc601069",
   "metadata": {},
   "source": [
    "Jetzt können wir die Funktion ausprobieren."
   ]
  },
  {
   "cell_type": "code",
   "execution_count": 5,
   "id": "4d305396",
   "metadata": {},
   "outputs": [
    {
     "name": "stdout",
     "output_type": "stream",
     "text": [
      "1 mal 1 ist 1\n",
      "2 mal 2 ist 4\n",
      "3 mal 3 ist 9\n",
      "4 mal 4 ist 16\n",
      "5 mal 5 ist 25\n",
      "6 mal 6 ist 36\n",
      "7 mal 7 ist 49\n",
      "8 mal 8 ist 64\n",
      "9 mal 9 ist 81\n",
      "10 mal 10 ist 100\n"
     ]
    }
   ],
   "source": [
    "for x in range(1,11):\n",
    "    y = berechne_quadratzahl(x) \n",
    "    print(f'{x} mal {x} ist {y}')"
   ]
  },
  {
   "cell_type": "markdown",
   "id": "c48a67df",
   "metadata": {},
   "source": [
    "Als nächstes kommt ein Beispiel mit zwei Rückgabewerten. Nicht nur die\n",
    "Quadratzahl, sondern auch die Kubikzahl soll berechnet werden."
   ]
  },
  {
   "cell_type": "code",
   "execution_count": 6,
   "id": "55af204f",
   "metadata": {},
   "outputs": [],
   "source": [
    "def berechne_quadrat_kubik(zahl):\n",
    "    quadrat = zahl**2\n",
    "    kubik = zahl**3\n",
    "    return quadrat, kubik"
   ]
  },
  {
   "cell_type": "markdown",
   "id": "e0937b1f",
   "metadata": {},
   "source": [
    "Und erneut testen wir die Funktion."
   ]
  },
  {
   "cell_type": "code",
   "execution_count": 7,
   "id": "a1ccf059",
   "metadata": {},
   "outputs": [
    {
     "name": "stdout",
     "output_type": "stream",
     "text": [
      "x = 1, x^2 = 1, x^3 = 1\n",
      "x = 2, x^2 = 4, x^3 = 8\n",
      "x = 3, x^2 = 9, x^3 = 27\n",
      "x = 4, x^2 = 16, x^3 = 64\n",
      "x = 5, x^2 = 25, x^3 = 125\n"
     ]
    }
   ],
   "source": [
    "for x in range(1,6):\n",
    "    x_hoch_2, x_hoch_3 = berechne_quadrat_kubik(x)\n",
    "    print(f'x = {x}, x^2 = {x_hoch_2}, x^3 = {x_hoch_3}')"
   ]
  },
  {
   "cell_type": "markdown",
   "id": "94283f44",
   "metadata": {},
   "source": [
    "```{admonition} Mini-Übung\n",
    ":class: miniexercise\n",
    "Schreiben Sie ein Programm, das mit Turtle ein Rechteck zeichnet, wobei die\n",
    "beiden Seitenlängen als Argumente der Funktion übergeben werden. Die Funktion\n",
    "soll den Umfang des Rechtecks und den Flächeninhalt zurückgeben. Lassen Sie\n",
    "anschließend Umfang und Flächeninhalt ausgeben.\n",
    "```\n",
    "````{admonition} Lösung\n",
    ":class: minisolution, toggle\n",
    "```python\n",
    "import ColabTurtlePlus.Turtle as turtle\n",
    "turtle.clearscreen()\n",
    "\n",
    "def zeichne_rechteck(seite1, seite2):\n",
    "    # Zeichnung des Rechecks\n",
    "    rechteck = turtle.Turtle()\n",
    "    for i in range(2):\n",
    "        rechteck.forward(seite1)\n",
    "        rechteck.left(90)\n",
    "        rechteck.forward(seite2)\n",
    "        rechteck.left(90)\n",
    "        \n",
    "    # Berechnung Umfang und Flächeninhalt\n",
    "    umfang = 2 * seite1 + 2 * seite2\n",
    "    flaeche = seite1 * seite2\n",
    "    \n",
    "    # Rückgabe\n",
    "    return umfang, flaeche\n",
    "    \n",
    "# Test der Funktion      \n",
    "a = 100\n",
    "b = 30\n",
    "U,A = zeichne_rechteck(a,b)\n",
    "print(f'Der Umfang ist {U:.2f} Längeneinheiten, der Flächeninhalt des Rechtecks ist {A:.2f} Flächeneinheiten.')\n",
    "```\n",
    "````\n",
    "\n",
    "Auch zu dem Thema Funktionen mit Rückgabe gibt es ein Video.\n",
    "\n",
    "<iframe width=\"560\" height=\"315\" src=\"https://www.youtube.com/embed/ehSP-sYoKCY\" title=\"YouTube video player\" frameborder=\"0\" allow=\"accelerometer; autoplay; clipboard-write; encrypted-media; gyroscope; picture-in-picture; web-share\" allowfullscreen></iframe>"
   ]
  }
 ],
 "metadata": {
  "jupytext": {
   "formats": "ipynb,md:myst",
   "text_representation": {
    "extension": ".md",
    "format_name": "myst",
    "format_version": 0.13,
    "jupytext_version": "1.13.8"
   }
  },
  "kernelspec": {
   "display_name": "Python 3 (ipykernel)",
   "language": "python",
   "name": "python3"
  },
  "language_info": {
   "codemirror_mode": {
    "name": "ipython",
    "version": 3
   },
   "file_extension": ".py",
   "mimetype": "text/x-python",
   "name": "python",
   "nbconvert_exporter": "python",
   "pygments_lexer": "ipython3",
   "version": "3.10.8"
  },
  "source_map": [
   13,
   54,
   57,
   68,
   70,
   75,
   78,
   143,
   146,
   150,
   154,
   159,
   164,
   168,
   172
  ]
 },
 "nbformat": 4,
 "nbformat_minor": 5
}