{
 "cells": [
  {
   "cell_type": "code",
   "execution_count": 7,
   "metadata": {},
   "outputs": [
    {
     "data": {
      "text/html": [
       "\n",
       "      <svg width=\"800\" height=\"600\">  \n",
       "        <rect width=\"100%\" height=\"100%\" style=\"fill:white;stroke:;stroke-width:1\"/>\n",
       "        \n",
       "        \n",
       "        <line x1=\"400.0\" y1=\"300.0\" x2=\"500.0\" y2=\"300.0\" stroke-linecap=\"round\" style=\"stroke:black;stroke-width:1\" /><line x1=\"500.0\" y1=\"300.0\" x2=\"500.0\" y2=\"270.0\" stroke-linecap=\"round\" style=\"stroke:black;stroke-width:1\" /><line x1=\"500.0\" y1=\"270.0\" x2=\"400.0\" y2=\"270.0\" stroke-linecap=\"round\" style=\"stroke:black;stroke-width:1\" /><line x1=\"400.0\" y1=\"270.0\" x2=\"400.0\" y2=\"300.0\" stroke-linecap=\"round\" style=\"stroke:black;stroke-width:1\" />\n",
       "        \n",
       "        \n",
       "        <g id=\"classic\" visibility=\"visible\" transform=\"rotate(0,400.0,300.0) translate(400.0, 300.0)\">\n",
       "<polygon points=\"-5,-4.5 0,-2.5 5,-4.5 0,4.5\" transform=\"skewX(0) scale(1,1)\" style=\"stroke:black;fill:black;stroke-width:1\" />\n",
       "<animateTransform id = \"one\" attributeName=\"transform\" \n",
       "                      type=\"scale\"\n",
       "                      from=\"1 1\" to=\"1 1\"\n",
       "                      begin=\"0s\" dur=\"0.01s\"\n",
       "                      repeatCount=\"1\"\n",
       "                      additive=\"sum\"\n",
       "                      fill=\"freeze\"\n",
       "                /><animateTransform attributeName=\"transform\"\n",
       "                    type=\"rotate\"\n",
       "                    from=\"0 0 0\" to =\"-90 0 0\"\n",
       "                    begin=\"one.end\" dur=\"0.25s\"\n",
       "                    repeatCount=\"1\"\n",
       "                    additive=\"sum\"\n",
       "                    fill=\"freeze\"\n",
       "                /></g>\n",
       "      </svg>\n",
       "    "
      ],
      "text/plain": [
       "<IPython.core.display.HTML object>"
      ]
     },
     "metadata": {},
     "output_type": "display_data"
    },
    {
     "name": "stdout",
     "output_type": "stream",
     "text": [
      "Der Umfang ist 260.00 Längeneinheiten, der Flächeninhalt des Rechtecks ist 3000.00 Flächeneinheiten.\n"
     ]
    }
   ],
   "source": [
    "import ColabTurtlePlus.Turtle as turtle\n",
    "turtle.clearscreen()\n",
    "\n",
    "def zeichne_rechteck(seite1, seite2):\n",
    "    # Zeichnung des Rechecks\n",
    "    rechteck = turtle.Turtle()\n",
    "    for i in range(2):\n",
    "        rechteck.forward(seite1)\n",
    "        rechteck.left(90)\n",
    "        rechteck.forward(seite2)\n",
    "        rechteck.left(90)\n",
    "        \n",
    "    # Berechnung Umfang und Flächeninhalt\n",
    "    umfang = 2 * seite1 + 2 * seite2\n",
    "    flaeche = seite1 * seite2\n",
    "    \n",
    "    # Rückgabe\n",
    "    return umfang, flaeche\n",
    "    \n",
    "# Test der Funktion      \n",
    "a = 100\n",
    "b = 30\n",
    "U,A = zeichne_rechteck(a,b)\n",
    "print(f'Der Umfang ist {U:.2f} Längeneinheiten, der Flächeninhalt des Rechtecks ist {A:.2f} Flächeneinheiten.')"
   ]
  },
  {
   "cell_type": "code",
   "execution_count": null,
   "metadata": {},
   "outputs": [],
   "source": []
  },
  {
   "cell_type": "code",
   "execution_count": 3,
   "metadata": {},
   "outputs": [
    {
     "name": "stdout",
     "output_type": "stream",
     "text": [
      "Ich grüße Anna!\n"
     ]
    },
    {
     "data": {
      "text/plain": [
       "NoneType"
      ]
     },
     "execution_count": 3,
     "metadata": {},
     "output_type": "execute_result"
    }
   ],
   "source": [
    "def gruesse_ausrichten_mit_parameter(name):\n",
    "    print(f'Ich grüße {name}!')\n",
    "\n",
    "x = gruesse_ausrichten_mit_parameter('Anna')\n",
    "type(x)"
   ]
  },
  {
   "cell_type": "code",
   "execution_count": 8,
   "metadata": {},
   "outputs": [
    {
     "name": "stdout",
     "output_type": "stream",
     "text": [
      "Ich bin eine globale Variable.\n",
      "Ich bin eine globale Variable.\n"
     ]
    }
   ],
   "source": [
    "globale_variable = \"Ich bin eine globale Variable.\"\n",
    "\n",
    "def globale_variable_beispiel():\n",
    "    print(globale_variable)\n",
    "\n",
    "globale_variable_beispiel()  # Gibt \"Ich bin eine globale Variable.\" aus\n",
    "print(globale_variable)  # Gibt \"Ich bin eine globale Variable.\" aus\n"
   ]
  },
  {
   "cell_type": "code",
   "execution_count": 12,
   "metadata": {},
   "outputs": [
    {
     "name": "stdout",
     "output_type": "stream",
     "text": [
      "Bitte geben Sie Ihr Gewicht in kg an:  75\n",
      "Bitte geben Sie Ihre Körpergröße in m an:  1.61\n",
      "Sie haben Übergewicht. Ihr BMI lautet 28.9\n"
     ]
    }
   ],
   "source": [
    "# Funktion zur Berechnung des BMI\n",
    "def berechne_bmi(gewicht, koerpergroesse):\n",
    "    bmi = gewicht / koerpergroesse**2\n",
    "    return bmi\n",
    "\n",
    "### HAUPTPROGRAMM ###\n",
    "\n",
    "# Eingabe\n",
    "m = float(input('Bitte geben Sie Ihr Gewicht in kg an: '))\n",
    "l = float(input('Bitte geben Sie Ihre Körpergröße in m an: '))\n",
    "\n",
    "# Verarbeitung\n",
    "bmi = berechne_bmi(m,l)\n",
    "\n",
    "# Ausgabe\n",
    "if bmi <= 18.5:\n",
    "    print(f'Sie haben Untergewicht. Ihr BMI lautet {bmi :.1f}.')\n",
    "elif bmi <= 25:\n",
    "    print(f'Sie haben Normalgewicht. Ihr BMI lautet {bmi :.1f}.')\n",
    "elif bmi <= 30:\n",
    "    print(f'Sie haben Übergewicht. Ihr BMI lautet {bmi :.1f}.')\n",
    "else:\n",
    "    print('Sie haben Adipositas, bitte suchen Sie einen Arzt auf. Ihr BMI lautet {bmi :.1f}.', bmi)\n",
    "\n",
    "\n"
   ]
  },
  {
   "cell_type": "code",
   "execution_count": 13,
   "metadata": {},
   "outputs": [
    {
     "name": "stdout",
     "output_type": "stream",
     "text": [
      "    *\n",
      "   ***\n",
      "  *****\n",
      " *******\n",
      "*********\n",
      "   |||\n",
      "   |||\n",
      "   |||\n",
      "Der Tannenbaum ist insgesamt 8 Zeilen hoch.\n"
     ]
    }
   ],
   "source": [
    "\n",
    "\n",
    "def zeichne_tannenbaum(blaetterhoehe, stammhoehe):\n",
    "    # Blätter zeichnen\n",
    "    for i in range(blaetterhoehe):\n",
    "        print(' ' * (blaetterhoehe - i - 1) + '*' * (2 * i + 1))\n",
    "    # Stamm zeichnen\n",
    "    for i in range(stammhoehe):\n",
    "        print(' ' * (blaetterhoehe - 1 - 1)  + 3  * '|')\n",
    "\n",
    "    # Gesamthöhe berechnen und zurückgeben\n",
    "    gesamthoehe = blaetterhoehe + stammhoehe\n",
    "    return gesamthoehe\n",
    "\n",
    "\n",
    "# Test\n",
    "L = zeichne_tannenbaum(5, 3)\n",
    "print(f'Der Tannenbaum ist insgesamt {L} Zeilen hoch.')\n",
    "\n"
   ]
  },
  {
   "cell_type": "code",
   "execution_count": 55,
   "metadata": {},
   "outputs": [
    {
     "data": {
      "text/html": [
       "\n",
       "      <svg width=\"800\" height=\"600\">  \n",
       "        <rect width=\"100%\" height=\"100%\" style=\"fill:white;stroke:;stroke-width:1\"/>\n",
       "        \n",
       "        \n",
       "        <line x1=\"350.0\" y1=\"300.0\" x2=\"350.0\" y2=\"100.0\" stroke-linecap=\"round\" style=\"stroke:black;stroke-width:1\" /><line x1=\"300.0\" y1=\"100.0\" x2=\"400.0\" y2=\"100.0\" stroke-linecap=\"round\" style=\"stroke:black;stroke-width:1\" /><path d=\"M 460.0 300.0 A 50 50 0 0 0 460.0 200.0\" stroke-linecap=\"round\" \n",
       "            fill=\"transparent\" fill-opacity=\"0\" style=\"stroke:black;stroke-width:1\"/><path d=\"M 460.0 200.0 A 50 50 0 0 0 460.0 300.0\" stroke-linecap=\"round\" \n",
       "            fill=\"transparent\" fill-opacity=\"0\" style=\"stroke:black;stroke-width:1\"/><line x1=\"520.0\" y1=\"300.0\" x2=\"520.0\" y2=\"100.0\" stroke-linecap=\"round\" style=\"stroke:black;stroke-width:1\" /><path d=\"M 520.0 100.0 A -50 -50 0 0 1 520.0 200.0\" stroke-linecap=\"round\" \n",
       "            fill=\"transparent\" fill-opacity=\"0\" style=\"stroke:black;stroke-width:1\"/><line x1=\"520.0\" y1=\"200.0\" x2=\"570.0\" y2=\"300.0\" stroke-linecap=\"round\" style=\"stroke:black;stroke-width:1\" />\n",
       "        \n",
       "        \n",
       "        <g id=\"classic\" visibility=\"visible\" transform=\"rotate(270.0,520.0,300.0) translate(520.0, 300.0)\">\n",
       "<polygon points=\"-5,-4.5 0,-2.5 5,-4.5 0,4.5\" transform=\"skewX(0) scale(1,1)\" style=\"stroke:black;fill:black;stroke-width:1\" />\n",
       "</g>\n",
       "      </svg>\n",
       "    "
      ],
      "text/plain": [
       "<IPython.core.display.HTML object>"
      ]
     },
     "metadata": {},
     "output_type": "display_data"
    }
   ],
   "source": [
    "import ColabTurtlePlus.Turtle as turtle\n",
    "turtle.clearscreen()\n",
    "\n",
    "robo = turtle.Turtle()\n",
    "robo.speed(13)\n",
    "\n",
    "def zeichne_R(start, robo):\n",
    "    robo.penup()\n",
    "    robo.goto(start, 0)\n",
    "    robo.pendown()\n",
    "    robo.left(90)\n",
    "    robo.forward(200)\n",
    "    robo.right(90)\n",
    "    robo.circle(-50, 180)\n",
    "    robo.left(135)\n",
    "    robo.goto(start + 50, 0)\n",
    "    robo.left(45)\n",
    "    \n",
    "    # Rückkehr\n",
    "    robo.penup()\n",
    "    robo.goto(start,0)\n",
    "    \n",
    "    return 50\n",
    "\n",
    "\n",
    "def zeichne_O(start, robo):\n",
    "    robo.penup()\n",
    "    robo.goto(start + 50, 0)\n",
    "    robo.pendown()\n",
    "    robo.circle(50,360)\n",
    "\n",
    "    # Rückkehr\n",
    "    robo.penup()\n",
    "    robo.goto(start,0)\n",
    "    \n",
    "    return 100\n",
    "\n",
    "def zeichne_T(start, robo):\n",
    "    robo.penup()\n",
    "    robo.goto(start + 50, 0)\n",
    "    robo.left(90)\n",
    "    robo.pendown()\n",
    "    robo.forward(200)\n",
    "    robo.penup()\n",
    "    robo.goto(start + 0,200)\n",
    "    robo.right(90)\n",
    "    robo.pendown()\n",
    "    robo.goto(start + 100,200)\n",
    "    \n",
    "    # Rückkehr\n",
    "    robo.penup()\n",
    "    robo.goto(start, 0)\n",
    "    \n",
    "    return 100\n",
    "   \n",
    "auswahl =  'TOR'\n",
    "\n",
    "if auswahl == 'ROT':\n",
    "    start_R = -100\n",
    "    breite_R = zeichne_R(start_R, robo)\n",
    "    start_O = start_R + breite_R + 10\n",
    "    breite_O = zeichne_O(start_O, robo)\n",
    "    start_T = start_O + breite_O + 10\n",
    "    zeichne_T(start_T, robo)\n",
    "else:\n",
    "    start_T = -100\n",
    "    breite_T = zeichne_T(start_T, robo)\n",
    "    start_O = start_T + breite_T + 10\n",
    "    breite_O = zeichne_O(start_O, robo)\n",
    "    start_R = start_O + breite_O + 10\n",
    "    zeichne_R(start_R, robo)"
   ]
  },
  {
   "cell_type": "code",
   "execution_count": 51,
   "metadata": {},
   "outputs": [
    {
     "data": {
      "text/plain": [
       "50"
      ]
     },
     "execution_count": 51,
     "metadata": {},
     "output_type": "execute_result"
    }
   ],
   "source": [
    "turtle.clearscreen()\n",
    "\n",
    "# Schreibe ROT\n",
    "start_T = -100\n",
    "breite_T = zeichne_T(start_T)\n",
    "start_O = start_T + breite_T + 10\n",
    "breite_O = zeichne_O(start_O)\n",
    "start_R = start_O + breite_O + 10\n",
    "zeichne_R(start_R)"
   ]
  },
  {
   "cell_type": "code",
   "execution_count": 4,
   "metadata": {},
   "outputs": [
    {
     "data": {
      "text/html": [
       "\n",
       "      <svg width=\"800\" height=\"600\">  \n",
       "        <rect width=\"100%\" height=\"100%\" style=\"fill:white;stroke:;stroke-width:1\"/>\n",
       "        \n",
       "        \n",
       "        <line x1=\"400.0\" y1=\"300.0\" x2=\"400.0\" y2=\"450.0\" stroke-linecap=\"round\" style=\"stroke:black;stroke-width:1\" /><line x1=\"400.0\" y1=\"450.0\" x2=\"370.0\" y2=\"250.0\" stroke-linecap=\"round\" style=\"stroke:black;stroke-width:1\" /><path d=\"M 370.0 250.0 A -50 -50 0 0 1 370.0 350.0\" stroke-linecap=\"round\" \n",
       "            fill=\"transparent\" fill-opacity=\"0\" style=\"stroke:black;stroke-width:1\"/><line x1=\"400.0\" y1=\"340.0\" x2=\"407.0710678118655\" y2=\"347.0710678118655\" stroke-linecap=\"round\" style=\"stroke:black;stroke-width:1\" /><line x1=\"407.0710678118655\" y1=\"347.0710678118655\" x2=\"414.14213562373095\" y2=\"354.14213562373095\" stroke-linecap=\"round\" style=\"stroke:black;stroke-width:1\" /><line x1=\"414.14213562373095\" y1=\"354.14213562373095\" x2=\"421.2132034355964\" y2=\"361.2132034355964\" stroke-linecap=\"round\" style=\"stroke:black;stroke-width:1\" /><line x1=\"421.2132034355964\" y1=\"361.2132034355964\" x2=\"428.2842712474619\" y2=\"368.2842712474619\" stroke-linecap=\"round\" style=\"stroke:black;stroke-width:1\" /><line x1=\"428.2842712474619\" y1=\"368.2842712474619\" x2=\"435.3553390593274\" y2=\"375.3553390593274\" stroke-linecap=\"round\" style=\"stroke:black;stroke-width:1\" /><line x1=\"435.3553390593274\" y1=\"375.3553390593274\" x2=\"442.42640687119285\" y2=\"382.42640687119285\" stroke-linecap=\"round\" style=\"stroke:black;stroke-width:1\" /><line x1=\"442.42640687119285\" y1=\"382.42640687119285\" x2=\"449.49747468305833\" y2=\"389.49747468305833\" stroke-linecap=\"round\" style=\"stroke:black;stroke-width:1\" />\n",
       "        \n",
       "        \n",
       "        <g id=\"classic\" visibility=\"visible\" transform=\"rotate(-45.0,449.49747468305833,389.49747468305833) translate(449.49747468305833, 389.49747468305833)\">\n",
       "<polygon points=\"-5,-4.5 0,-2.5 5,-4.5 0,4.5\" transform=\"skewX(0) scale(1,1)\" style=\"stroke:black;fill:black;stroke-width:1\" />\n",
       "</g>\n",
       "      </svg>\n",
       "    "
      ],
      "text/plain": [
       "<IPython.core.display.HTML object>"
      ]
     },
     "metadata": {},
     "output_type": "display_data"
    }
   ],
   "source": [
    "turtle.clearscreen()\n",
    "\n",
    "t = turtle.Turtle()\n",
    "\n",
    "t.right(90)\n",
    "t.forward(150)\n",
    "t.goto(-30,50)\n",
    "t.right(-90)\n",
    "t.circle(-50,180,100)\n",
    "t.penup()\n",
    "t.goto(0,-40)\n",
    "t.left(135)\n",
    "t.pendown()\n",
    "t.forward(70)"
   ]
  }
 ],
 "metadata": {
  "kernelspec": {
   "display_name": "Python 3 (ipykernel)",
   "language": "python",
   "name": "python3"
  },
  "language_info": {
   "codemirror_mode": {
    "name": "ipython",
    "version": 3
   },
   "file_extension": ".py",
   "mimetype": "text/x-python",
   "name": "python",
   "nbconvert_exporter": "python",
   "pygments_lexer": "ipython3",
   "version": "3.10.8"
  }
 },
 "nbformat": 4,
 "nbformat_minor": 4
}
