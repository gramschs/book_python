{
 "cells": [
  {
   "cell_type": "markdown",
   "id": "deb1e675",
   "metadata": {},
   "source": [
    "# 6.3 Lokale und globale Variablen\n",
    "\n",
    "In Python gibt es zwei Arten von Variablen: lokale und globale Variablen. Der\n",
    "Unterschied zwischen beiden liegt in ihrem Geltungsbereich (auch \"Scope\"\n",
    "genannt), also wo im Programm sie verwendet werden können. Vor allem bei der\n",
    "Definition von Funktionen ist die Nichtbeachtung des Unterschieds eine häufige\n",
    "Fehlerquelle, weshalb wir in diesem Kapitel den Unterschied beleuchten.\n",
    "\n",
    "## Lernziele\n",
    "\n",
    "```{admonition} Lernziele\n",
    ":class: goals\n",
    "* Sie kennen den Unterschied zwischen **lokalen** und **globalen** Variablen.\n",
    "* Sie können erklären, warum die Trennung von lokalen und globalen Variablen\n",
    "  wichtig ist.\n",
    "* Sie wissen, wie Sie Werte aus Funktionen an das Hauptprogramm zurückgeben\n",
    "  können.\n",
    "```\n",
    "\n",
    "## Lokale Variablen\n",
    "\n",
    "Schauen Sie sich bitte folgende Funktionsimplementierung an. Was macht die\n",
    "Funktion?"
   ]
  },
  {
   "cell_type": "code",
   "execution_count": 1,
   "id": "92751fca",
   "metadata": {},
   "outputs": [],
   "source": [
    "def erhoehe_um_eins(x):\n",
    "    x = x + 1"
   ]
  },
  {
   "cell_type": "markdown",
   "id": "e9d30fec",
   "metadata": {},
   "source": [
    "Probieren wir es aus."
   ]
  },
  {
   "cell_type": "code",
   "execution_count": 2,
   "id": "792c6cb6",
   "metadata": {},
   "outputs": [
    {
     "name": "stdout",
     "output_type": "stream",
     "text": [
      "Vor der Anwendung der Funktion ist x = 17.\n",
      "Nach der Anwendung der Funktion ist x = 17.\n"
     ]
    }
   ],
   "source": [
    "x = 17\n",
    "\n",
    "print(f'Vor der Anwendung der Funktion ist x = {x}.')\n",
    "erhoehe_um_eins(x)\n",
    "print(f'Nach der Anwendung der Funktion ist x = {x}.')"
   ]
  },
  {
   "cell_type": "markdown",
   "id": "8d86f744",
   "metadata": {},
   "source": [
    "Überraschung! Der Wert von `x` hat sich nicht verändert, obwohl die Funktion\n",
    "offensichtlich `x` um 1 erhöhen sollte. Um besser zu verstehen, was passiert,\n",
    "schauen wir in die Funktion \"hinein\", indem wir einige `print`-Anweisungen\n",
    "hinzufügen:"
   ]
  },
  {
   "cell_type": "code",
   "execution_count": 3,
   "id": "9fe301ae",
   "metadata": {},
   "outputs": [],
   "source": [
    "def erhoehe_um_eins(x):\n",
    "    print(f'Im Inneren der Funktion vor der Erhöhung ist x = {x}.')\n",
    "    x = x + 1\n",
    "    print(f'Im Inneren der Funktion nach der Erhöhung ist x = {x}.') "
   ]
  },
  {
   "cell_type": "markdown",
   "id": "5d2f18c5",
   "metadata": {},
   "source": [
    "Jetzt probieren wir nochmal aus, die Funktion auf `x = 17` anzuwenden:"
   ]
  },
  {
   "cell_type": "code",
   "execution_count": 4,
   "id": "9070d003",
   "metadata": {},
   "outputs": [
    {
     "name": "stdout",
     "output_type": "stream",
     "text": [
      "Vor der Anwendung der Funktion ist x = 17.\n",
      "Im Inneren der Funktion vor der Erhöhung ist x = 17.\n",
      "Im Inneren der Funktion nach der Erhöhung ist x = 18.\n",
      "Nach der Anwendung der Funktion ist x = 17.\n"
     ]
    }
   ],
   "source": [
    "x = 17\n",
    "\n",
    "print(f'Vor der Anwendung der Funktion ist x = {x}.')\n",
    "erhoehe_um_eins(x)\n",
    "print(f'Nach der Anwendung der Funktion ist x = {x}.')"
   ]
  },
  {
   "cell_type": "markdown",
   "id": "3ef221ae",
   "metadata": {},
   "source": [
    "Was ist passiert? Die Variable `x` in der Funktion ist eine **lokale Variable**.\n",
    "Lokale Variablen sind Variablen, die innerhalb einer Funktion definiert werden.\n",
    "Ihr Geltungsbereich ist auf die Funktion beschränkt, in der sie definiert\n",
    "wurden. Das bedeutet, dass sie innerhalb der Funktion verwendet werden können,\n",
    "aber außerhalb der Funktion nicht sichtbar oder zugänglich sind.\n",
    "\n",
    "```{admonition} Hinweis\n",
    ":class: warning\n",
    "Wenn Sie eine Funktion aufrufen und ihr einen Wert übergeben, wird dieser Wert\n",
    "in eine neue, lokale Variable kopiert. Änderungen an dieser lokalen Variable\n",
    "wirken sich nicht auf Variablen außerhalb der Funktion aus, auch wenn diese\n",
    "denselben Namen haben.\n",
    "```\n",
    "\n",
    "Es ist Absicht, dass Python strikt darauf achtet, lokale Variablen auf ihren Geltungsbereich zu beschränken. Die Entwickler einer Funktion können vorab nicht wissen, wie alle anderen Variablen im Hauptprogramm heißen. Daher müssen alle Variablen in der Funktion lokal bleiben, um nicht unabsichtlich Variablen, die zufälligerweise den gleichen Namen tragen, zu überschreiben.\n",
    "\n",
    "## Werte aus Funktionen zurückgeben\n",
    "\n",
    "Möchte man erreichen, dass eine Funktion den Wert einer Variable ändert, kann man dies über die Rückgabe und explizite Zuweisung erreichen. Dann ist aber jedem Programmierer und jeder Programmiererin, die diese Funktion benutzt, explizit klar, dass damit der Wert der Variablen geändert wird."
   ]
  },
  {
   "cell_type": "code",
   "execution_count": 5,
   "id": "7d6fd72e",
   "metadata": {},
   "outputs": [
    {
     "name": "stdout",
     "output_type": "stream",
     "text": [
      "Vor der Anwendung der Funktion ist x = 17.\n",
      "Nach der Anwendung der Funktion ist x = 18.\n"
     ]
    }
   ],
   "source": [
    "# modifizierte Funktion mit Rückgabe\n",
    "def erhoehe_um_eins(x):\n",
    "    x = x + 1\n",
    "    return x\n",
    "\n",
    "# Test\n",
    "x = 17\n",
    "\n",
    "print(f'Vor der Anwendung der Funktion ist x = {x}.')\n",
    "x = erhoehe_um_eins(x)\n",
    "print(f'Nach der Anwendung der Funktion ist x = {x}.')"
   ]
  },
  {
   "cell_type": "markdown",
   "id": "6dce7fbf",
   "metadata": {},
   "source": [
    "Jetzt funktioniert es! Durch die Rückgabe des veränderten Wertes und die\n",
    "Zuweisung an die Variable `x` im Hauptprogramm wird der Wert tatsächlich\n",
    "geändert.\n",
    "\n",
    "## Globale Variablen\n",
    "\n",
    "Globale Variablen sind Variablen, die außerhalb von Funktionen definiert werden. Ihr Geltungsbereich erstreckt sich über das gesamte Programm, was bedeutet, dass sie sowohl innerhalb als auch außerhalb von Funktionen verwendet werden können.\n",
    "In Python ist die Verwendung einer globalen Variable innerhalb einer Funktion standardmäßig nur lesend möglich. Um auch einen Schreibzugriff zu erlauben, gibt es die Möglichkeit, eine Variable mit dem Schlüsselwort `global` innerhalb der Funktion zu deklarieren:"
   ]
  },
  {
   "cell_type": "code",
   "execution_count": 6,
   "id": "d3e10141",
   "metadata": {},
   "outputs": [
    {
     "name": "stdout",
     "output_type": "stream",
     "text": [
      "Vor der Funktion: x = 10\n",
      "Nach der Funktion: x = 15\n"
     ]
    }
   ],
   "source": [
    "x = 10  # Globale Variable\n",
    "\n",
    "def aendere_global():\n",
    "    global x  # Deklaration, dass wir die globale Variable x verwenden wollen\n",
    "    x = x + 5\n",
    "\n",
    "print(f'Vor der Funktion: x = {x}')\n",
    "aendere_global()\n",
    "print(f'Nach der Funktion: x = {x}')"
   ]
  },
  {
   "cell_type": "markdown",
   "id": "5786b2fe",
   "metadata": {},
   "source": [
    "```{admonition} Warnung\n",
    ":class: warning\n",
    "Die Verwendung von globalen Variablen wird in der professionellen Programmierung\n",
    "oft vermieden, da sie zu schwer nachvollziehbaren Programmabläufen führen kann.\n",
    "Wenn mehrere Funktionen dieselbe globale Variable verändern, ist es schwierig zu\n",
    "verfolgen, wann und wie Variablen verändert werden. Dies führt zu Programmen,\n",
    "die fehleranfällig und schwer zu warten sind.\n",
    "\n",
    "Verwenden Sie stattdessen Parameter und Rückgabewerte, um Daten zwischen\n",
    "Funktionen und dem Hauptprogramm zu übertragen. Dies macht Ihren Code klarer,\n",
    "nachvollziehbarer und weniger fehleranfällig.\n",
    "```\n",
    "\n",
    "Um den Unterschied zwischen lokalen und globalen Variablen zu verdeutlichen, können wir uns den Geltungsbereich wie \"Blasen\" oder \"Räume\" vorstellen.\n",
    "\n",
    "```{image} pics/variable-scope.svg\n",
    ":name: variable-scope.svg\n",
    "```\n",
    "\n",
    "## Zusammenfassung und Ausblick\n",
    "\n",
    "In diesem Kapitel haben wir den Untrrschied zwischen globalen und lokalen\n",
    "Variablen gelernt. Im nächsten Kapitel widmen wir uns dem Thema digitale Logik."
   ]
  }
 ],
 "metadata": {
  "jupytext": {
   "formats": "ipynb,md:myst",
   "text_representation": {
    "extension": ".md",
    "format_name": "myst",
    "format_version": 0.13,
    "jupytext_version": "1.13.8"
   }
  },
  "kernelspec": {
   "display_name": "Python 3 (ipykernel)",
   "language": "python",
   "name": "python3"
  },
  "language_info": {
   "codemirror_mode": {
    "name": "ipython",
    "version": 3
   },
   "file_extension": ".py",
   "mimetype": "text/x-python",
   "name": "python",
   "nbconvert_exporter": "python",
   "pygments_lexer": "ipython3",
   "version": "3.12.2"
  },
  "source_map": [
   13,
   39,
   42,
   46,
   52,
   59,
   64,
   68,
   74,
   96,
   108,
   119,
   129
  ]
 },
 "nbformat": 4,
 "nbformat_minor": 5
}