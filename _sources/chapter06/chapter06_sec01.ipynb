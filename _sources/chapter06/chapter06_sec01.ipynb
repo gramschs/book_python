{
 "cells": [
  {
   "cell_type": "markdown",
   "id": "7c2e0014",
   "metadata": {},
   "source": [
    "# 6.1 Funktionen selbst schreiben\n",
    "\n",
    "Eine Funktion in Python ist eine Zusammenfassung von Anweisungen, die dazu\n",
    "dienen, eine bestimmte Teilaufgabe zu lösen. Dabei arbeitet die Funktion in\n",
    "ihrer allgemeinsten Form nach dem EVA-Prinzip: Eingabe, Verarbeitung, Ausgabe.\n",
    "Die Funktion übernimmt Objekte als Eingabe, verarbeitet diese und liefert\n",
    "Objekte als Ergebnis zurück. Wie die Funktion dabei im Inneren genau\n",
    "funktioniert (Verarbeitung), ist für den Anwender zunächst unwichtig.\n",
    "\n",
    "Beispielsweise gibt es im Modul `numpy` die Funktion `sqrt()`. Wir übergeben der\n",
    "Funktion eine Zahl (Eingabe), z.B. `sqrt(5)`. Die Funktion liefert dann als\n",
    "Ergebnis $\\sqrt{5}$​ zurück. Welches Verfahren zur Berechnung der Wurzel\n",
    "verwendet wurde, müssen wir als Anwender nicht wissen.\n",
    "\n",
    "Insbesondere muss die Teilaufgabe, die die Funktion löst, nichts mit Mathematik\n",
    "zu tun haben. Eine Funktion in der Informatik unterscheidet sich von einer\n",
    "mathematischen Funktion, auch wenn oft mathematische Funktionen als Beispiel\n",
    "verwendet werden. Ein Beispiel für eine nicht-mathematische Funktion haben Sie\n",
    "mit `input()` bereits kennengelernt. Die Funktion nimmt einen Text entgegen, z.B.\n",
    "die Frage \"Wie groß sind Sie?\". Dann wird dieser Text verarbeitet, in diesem\n",
    "Fall auf dem Bildschirm angezeigt und die Antwort eingelesen. Die Antwort kann\n",
    "dann in einer Variablen gespeichert werden.\n",
    "\n",
    "## Lernziele\n",
    "\n",
    "```{admonition} Lernziele\n",
    ":class: goals\n",
    "* Sie kennen die Fachbegriffe \n",
    "  * **Aufruf** einer Funktion,\n",
    "  * **Argumente** einer Funktion und\n",
    "  * **Rückgabewert** einer Funktion.\n",
    "* Sie können eine einfache Funktion selbst implementieren und aufrufen.\n",
    "```\n",
    "\n",
    "## Die Benutzung von Funktionen (oder der Aufruf von Funktionen)\n",
    "\n",
    "Der Aufruf einer Funktion hat folgende Syntax:\n",
    "\n",
    "```python\n",
    "rueckgabewert = funktion( argument1, argument2, ... )\n",
    "```\n",
    "\n",
    "Eine Funktion wird benutzt, indem man den Namen der Funktion und dann in runden\n",
    "Klammern ihre **Argumente** hinschreibt. In der Informatik wird das als\n",
    "**Aufruf** einer Funktion bezeichnet. Welche Argumente für eine Funktion\n",
    "verwendet werden dürfen, hängt von der Implementierung der Funktion ab.\n",
    "\n",
    "Beispielsweise kann als Argument für die `len()`-Funktion ein String übergeben\n",
    "werden oder eine Liste."
   ]
  },
  {
   "cell_type": "code",
   "execution_count": 1,
   "id": "35ca9a5d",
   "metadata": {},
   "outputs": [
    {
     "data": {
      "text/plain": [
       "5"
      ]
     },
     "execution_count": 1,
     "metadata": {},
     "output_type": "execute_result"
    }
   ],
   "source": [
    "len('Hallo')"
   ]
  },
  {
   "cell_type": "code",
   "execution_count": 2,
   "id": "bc0b6e78",
   "metadata": {},
   "outputs": [
    {
     "data": {
      "text/plain": [
       "6"
      ]
     },
     "execution_count": 2,
     "metadata": {},
     "output_type": "execute_result"
    }
   ],
   "source": [
    "len([1,2,3,4,8,2])"
   ]
  },
  {
   "cell_type": "markdown",
   "id": "0e2d57b0",
   "metadata": {},
   "source": [
    "In der Regel geben Funktionen wieder Ergebnisse zurück. Diese werden\n",
    "**Rückgabewert** genannt. Beispielsweise können die Rückgabewert einer Variable\n",
    "zugewiesen werden, um mit dem Ergebnis weiter zu arbeiten."
   ]
  },
  {
   "cell_type": "code",
   "execution_count": 3,
   "id": "c17334c3",
   "metadata": {},
   "outputs": [
    {
     "name": "stdout",
     "output_type": "stream",
     "text": [
      "Das Wort Hallo enthält mehr Buchstaben als Einträge in der Liste.\n"
     ]
    }
   ],
   "source": [
    "laenge1 = len('Hallo')\n",
    "laenge2 = len(['Apfel', 'Banane', 'Erdbeere'])\n",
    "\n",
    "if laenge1 < laenge2:\n",
    "    print('Das Wort Hallo enthält weniger Buchstaben als Früchte im Obstsalat.')\n",
    "else:\n",
    "    print('Das Wort Hallo enthält mehr Buchstaben als Einträge in der Liste.')"
   ]
  },
  {
   "cell_type": "markdown",
   "id": "60694cad",
   "metadata": {},
   "source": [
    "## Definition von einfachen Funktionen\n",
    "\n",
    "Einfache Funktionen werden mit dem Schlüsselwort `def` gefolgt vom\n",
    "Funktionsnamen definiert. In Python verwendet man für Funktionsnamen\n",
    "üblicherweise Kleinbuchstaben und Unterstriche zur Trennung von Wörtern. Die\n",
    "Code-Anweisungen der Funktion werden eingerückt.\n",
    "\n",
    "```python\n",
    "def meine_funktion():\n",
    "    anweisung01\n",
    "    anweisung02\n",
    "     ...\n",
    "\n",
    "```\n",
    "\n",
    "Erstes Beispiel:\n",
    "\n",
    "Die folgende Funktion hat weder Eingabe noch Rückgabe, sondern führt einfach\n",
    "eine Aktion aus."
   ]
  },
  {
   "cell_type": "code",
   "execution_count": 4,
   "id": "76b1231b",
   "metadata": {},
   "outputs": [],
   "source": [
    "def gruesse_ausrichten():\n",
    "    print('Ich grüße Sie!')"
   ]
  },
  {
   "cell_type": "markdown",
   "id": "1ce954b3",
   "metadata": {},
   "source": [
    "Nachdem die Funktion `gruesse_ausrichten()` so implementiert wurde, können wir\n",
    "sie im Folgenden direkt verwenden."
   ]
  },
  {
   "cell_type": "code",
   "execution_count": 5,
   "id": "bf18d746",
   "metadata": {},
   "outputs": [
    {
     "name": "stdout",
     "output_type": "stream",
     "text": [
      "Ich grüße Sie!\n"
     ]
    }
   ],
   "source": [
    "gruesse_ausrichten()"
   ]
  },
  {
   "cell_type": "markdown",
   "id": "a4833a24",
   "metadata": {},
   "source": [
    "Und natürlich kann man sie in Programmverzweigungen und Schleifen einbauen."
   ]
  },
  {
   "cell_type": "code",
   "execution_count": 6,
   "id": "5cc0362e",
   "metadata": {},
   "outputs": [
    {
     "name": "stdout",
     "output_type": "stream",
     "text": [
      "Ich grüße Sie!\n",
      "Ich grüße Sie!\n",
      "Ich grüße Sie!\n",
      "Ich grüße Sie!\n",
      "Ich grüße Sie!\n",
      "Ich grüße Sie!\n",
      "Ich grüße Sie!\n"
     ]
    }
   ],
   "source": [
    "for i in range(7):\n",
    "    gruesse_ausrichten()"
   ]
  },
  {
   "cell_type": "markdown",
   "id": "0d801a6b",
   "metadata": {},
   "source": [
    "```{admonition} Mini-Übung\n",
    ":class: miniexercise\n",
    "Schreiben Sie eine Funktion, die mit Turtle ein Rechteck zeichnet. Testen Sie\n",
    "Ihre Funktion auch.\n",
    "```"
   ]
  },
  {
   "cell_type": "code",
   "execution_count": 7,
   "id": "b5e8805a",
   "metadata": {},
   "outputs": [],
   "source": [
    "# Geben Sie nach diesem Kommentar Ihren Code ein:\n"
   ]
  },
  {
   "cell_type": "markdown",
   "id": "d454e7fe",
   "metadata": {},
   "source": [
    "````{admonition} Lösung\n",
    ":class: miniexercise, toggle\n",
    "```python\n",
    "import ColabTurtlePlus.Turtle as turtle\n",
    "turtle.clearscreen()\n",
    "\n",
    "def zeichne_rechteck():\n",
    "    rechteck = turtle.Turtle()\n",
    "    for i in range(2):\n",
    "        rechteck.forward(100)\n",
    "        rechteck.left(90)\n",
    "        rechteck.forward(50)\n",
    "        rechteck.left(90)\n",
    "        \n",
    "zeichne_rechteck()\n",
    "```\n",
    "````\n",
    "\n",
    "Das folgende Video zeigt Ihnen nochmal, wie in Python Funktionen definiert\n",
    "werden.\n",
    "\n",
    "```{dropdown} Video \"Funktionen\" von Programmieren Starten\n",
    "<iframe width=\"560\" height=\"315\" src=\"https://www.youtube.com/embed/LQCfN5HS9xI\"\n",
    "title=\"YouTube video player\" frameborder=\"0\" allow=\"accelerometer; autoplay; clipboard-write; encrypted-media; gyroscope; picture-in-picture; web-share\" allowfullscreen></iframe>\n",
    "```\n",
    "\n",
    "## Zusammenfassung und Ausblick\n",
    "\n",
    "In diesem Kapitel haben wir einfache Funktionen in Python kennengelernt. Mit dem\n",
    "Schlüsselwort `def` können wir Anweisungen bündeln und über einen Funktionsnamen\n",
    "wiederholt aufrufen. Im nächsten Kapitel erweitern wir unsere Funktionen um\n",
    "Parameter und Rückgabewerte, wodurch sie flexibler und vielseitiger einsetzbar\n",
    "werden."
   ]
  }
 ],
 "metadata": {
  "jupytext": {
   "formats": "ipynb,md:myst",
   "text_representation": {
    "extension": ".md",
    "format_name": "myst",
    "format_version": 0.13,
    "jupytext_version": "1.13.8"
   }
  },
  "kernelspec": {
   "display_name": "Python 3 (ipykernel)",
   "language": "python",
   "name": "python3"
  },
  "language_info": {
   "codemirror_mode": {
    "name": "ipython",
    "version": 3
   },
   "file_extension": ".py",
   "mimetype": "text/x-python",
   "name": "python",
   "nbconvert_exporter": "python",
   "pygments_lexer": "ipython3",
   "version": "3.12.2"
  },
  "source_map": [
   13,
   65,
   69,
   71,
   77,
   85,
   107,
   110,
   115,
   117,
   121,
   124,
   132,
   135
  ]
 },
 "nbformat": 4,
 "nbformat_minor": 5
}