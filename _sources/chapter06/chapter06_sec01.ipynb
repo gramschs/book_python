{
 "cells": [
  {
   "cell_type": "markdown",
   "id": "d5caa07f",
   "metadata": {},
   "source": [
    "# 6.1 Funktionen selbst schreiben\n",
    "\n",
    "Eine Funktion in Python ist eine Zusammenfassung von Anweisungen, die dazu\n",
    "dienen, eine bestimmte Teilaufgabe zu lösen. Dabei arbeitet die Funktion in\n",
    "ihrer allgemeinsten Form nach dem EVA-Prinzip. Die Funktion übernimmt Objekte\n",
    "als Eingabe, verarbeitet diese und liefert Objekte als Ergebnis zurück. Wie die\n",
    "Funktion dabei im Inneren genau funktioniert (Verarbeitung), ist unwichtig.\n",
    "\n",
    "Beispielsweise gibt es im Modul `numpy` die Funktion `sqrt()`. Wir wissen, dass\n",
    "wir der Funktion eine Zahl übergeben müssen (Eingabe), z.B. `sqrt(5)`. Die\n",
    "Funktion liefert dann als Ergebnis $\\sqrt{5}$ zurück. Welches Verfahren zur\n",
    "Berechnung der Wurzel verwendet wurde, wissen wir nicht. \n",
    "\n",
    "Insbesondere muss die Teilaufgabe, die die Funktion löst, nichts mit Mathematik\n",
    "zu tun haben. Eine Funktion in der Informatik hat nichts mit einer\n",
    "mathematischen Funktion zu tun, auch wenn oft mathematische Funktionen als\n",
    "Beispiel verwendet werden. Ein Beispiel für eine nicht-mathematische Funktion\n",
    "haben Sie mit `input()` bereits kennengelernt. Die Funktion nimmt einen Text\n",
    "entgegen, z.B. die Frage \"Wie groß sind Sie?\". Dann wird dieser Text\n",
    "verarbeitet, in diesem Fall auf dem Bidschirm angezeigt und die Antwort\n",
    "eingelesen. Die Antwort kann dann in einer Variablen gespeichert werden.\n",
    "\n",
    "## Lernziele\n",
    "\n",
    "```{admonition} Lernziele\n",
    ":class: admonition-goals\n",
    "* Sie kennen die Fachbegriffe \n",
    "  * **Aufruf** einer Funktion,\n",
    "  * **Argumente** oder **Parameter** einer Funktion und\n",
    "  * **Rückgabewert** einer Funktion.\n",
    "* Sie können eine einfache Funktion selbst implementieren.\n",
    "```\n",
    "\n",
    "## Die Benutzung von Funktionen (oder der Aufruf von Funktionen)\n",
    "\n",
    "Der Aufruf einer Funktion hat folgende Syntax:\n",
    "\n",
    "```python\n",
    "rueckgabewert = funktion( argument1, argument2, ... )\n",
    "```\n",
    "\n",
    "Eine Funktion wird benutzt, indem man den Namen der Funktion und dann in runden\n",
    "Klammern ihre **Parameter** als Liste hinschreibt. Die konkreten Parameter einer\n",
    "Funktion beim Aufruf werden die **Argumente der Funktion** genannt. Welche\n",
    "Argumente für eine Funktion verwendet werden dürfen, hängt von der\n",
    "Implementierung der Funktion ab.\n",
    "\n",
    "Beispielsweise kann als Argument für die `len()`-Funktion ein String übergeben\n",
    "werden oder eine Liste. Stellen Sie eine Vermutung auf: was könnte die\n",
    "`len()`-Funktion bewirken?"
   ]
  },
  {
   "cell_type": "code",
   "execution_count": 1,
   "id": "b57cf840",
   "metadata": {},
   "outputs": [
    {
     "data": {
      "text/plain": [
       "5"
      ]
     },
     "execution_count": 1,
     "metadata": {},
     "output_type": "execute_result"
    }
   ],
   "source": [
    "len('Hallo')"
   ]
  },
  {
   "cell_type": "code",
   "execution_count": 2,
   "id": "fe1d511e",
   "metadata": {},
   "outputs": [
    {
     "data": {
      "text/plain": [
       "6"
      ]
     },
     "execution_count": 2,
     "metadata": {},
     "output_type": "execute_result"
    }
   ],
   "source": [
    "len([1,2,3,4,8,2])"
   ]
  },
  {
   "cell_type": "markdown",
   "id": "5e6151f7",
   "metadata": {},
   "source": [
    "In der Regel geben Funktionen wieder Ergebnisse zurück. Diese werden\n",
    "**Rückgabewert** genannt. Beispielsweise können die Rückgabewert einer Variable\n",
    "zugewiesen werden, um mit dem Ergebnis weiter zu arbeiten."
   ]
  },
  {
   "cell_type": "code",
   "execution_count": 3,
   "id": "105ffd1c",
   "metadata": {},
   "outputs": [
    {
     "name": "stdout",
     "output_type": "stream",
     "text": [
      "Das Wort Hallo enthält mehr Buchstaben als Einträge in der Liste.\n"
     ]
    }
   ],
   "source": [
    "laenge1 = len('Hallo')\n",
    "laenge2 = len(['Apfel', 'Banane', 'Erdbeere'])\n",
    "\n",
    "if laenge1 < laenge2:\n",
    "    print('Das Wort Hallo enthält weniger Buchstaben als Früchte im Obstsalat.')\n",
    "else:\n",
    "    print('Das Wort Hallo enthält mehr Buchstaben als Einträge in der Liste.')"
   ]
  },
  {
   "cell_type": "markdown",
   "id": "3dab0dbb",
   "metadata": {},
   "source": [
    "## Definition von einfachen Funktionen\n",
    "\n",
    "Einfache Funktionen werden mit dem Schlüsselwort `def` gefolgt vom\n",
    "Funktionsnamen definiert. Die Code-Anweisungen der Funktion werden eingerückt. \n",
    "\n",
    "```python\n",
    "def meine_funktion():\n",
    "    anweisung01\n",
    "    anweisung02\n",
    "     ...\n",
    "\n",
    "```\n",
    "\n",
    "Erstes Beispiel:\n",
    "\n",
    "Die folgende Funktion hat kein Argument und keine Rückgabe."
   ]
  },
  {
   "cell_type": "code",
   "execution_count": 4,
   "id": "7f80dd00",
   "metadata": {},
   "outputs": [],
   "source": [
    "def gruesse_ausrichten():\n",
    "    print('Ich grüße Sie!')"
   ]
  },
  {
   "cell_type": "markdown",
   "id": "958e9aca",
   "metadata": {},
   "source": [
    "Nachdem die Funktion `gruesse_ausrichten()` so implementiert wurde, können wir\n",
    "sie im Folgenden direkt verwenden."
   ]
  },
  {
   "cell_type": "code",
   "execution_count": 5,
   "id": "311053fd",
   "metadata": {},
   "outputs": [
    {
     "name": "stdout",
     "output_type": "stream",
     "text": [
      "Ich grüße Sie!\n"
     ]
    }
   ],
   "source": [
    "gruesse_ausrichten()"
   ]
  },
  {
   "cell_type": "markdown",
   "id": "298563c6",
   "metadata": {},
   "source": [
    "Und natürlich kann man sie in Programmverzweigungen und Schleifen einbauen."
   ]
  },
  {
   "cell_type": "code",
   "execution_count": 6,
   "id": "e1b41dec",
   "metadata": {},
   "outputs": [
    {
     "name": "stdout",
     "output_type": "stream",
     "text": [
      "Ich grüße Sie!\n",
      "Ich grüße Sie!\n",
      "Ich grüße Sie!\n",
      "Ich grüße Sie!\n",
      "Ich grüße Sie!\n",
      "Ich grüße Sie!\n",
      "Ich grüße Sie!\n"
     ]
    }
   ],
   "source": [
    "for i in range(7):\n",
    "    gruesse_ausrichten()"
   ]
  },
  {
   "cell_type": "markdown",
   "id": "4da458b3",
   "metadata": {},
   "source": [
    "```{admonition} Mini-Übung\n",
    ":class: miniexercise\n",
    "Schreiben Sie eine Funktion, die mit Turtle ein Rechteck zeichnet. Testen Sie Ihre Funktion auch.\n",
    "```\n",
    "````{admonition} Lösung\n",
    ":class: miniexercise, toggle\n",
    "```python\n",
    "import ColabTurtlePlus.Turtle as turtle\n",
    "turtle.clearscreen()\n",
    "\n",
    "def zeichne_rechteck():\n",
    "    rechteck = turtle.Turtle()\n",
    "    for i in range(2):\n",
    "        rechteck.forward(100)\n",
    "        rechteck.left(90)\n",
    "        rechteck.forward(50)\n",
    "        rechteck.left(90)\n",
    "        \n",
    "zeichne_rechteck()\n",
    "```\n",
    "````\n",
    "\n",
    "Das folgende Video zeigt Ihnen nochmal, wie in Python Funktionen definiert\n",
    "werden.\n",
    "\n",
    "<iframe width=\"560\" height=\"315\" src=\"https://www.youtube.com/embed/LQCfN5HS9xI\" title=\"YouTube video player\" frameborder=\"0\" allow=\"accelerometer; autoplay; clipboard-write; encrypted-media; gyroscope; picture-in-picture; web-share\" allowfullscreen></iframe>"
   ]
  }
 ],
 "metadata": {
  "jupytext": {
   "formats": "ipynb,md:myst",
   "text_representation": {
    "extension": ".md",
    "format_name": "myst",
    "format_version": 0.13,
    "jupytext_version": "1.13.8"
   }
  },
  "kernelspec": {
   "display_name": "Python 3 (ipykernel)",
   "language": "python",
   "name": "python3"
  },
  "language_info": {
   "codemirror_mode": {
    "name": "ipython",
    "version": 3
   },
   "file_extension": ".py",
   "mimetype": "text/x-python",
   "name": "python",
   "nbconvert_exporter": "python",
   "pygments_lexer": "ipython3",
   "version": "3.12.2"
  },
  "source_map": [
   13,
   66,
   70,
   72,
   78,
   86,
   105,
   108,
   113,
   115,
   119,
   122
  ]
 },
 "nbformat": 4,
 "nbformat_minor": 5
}