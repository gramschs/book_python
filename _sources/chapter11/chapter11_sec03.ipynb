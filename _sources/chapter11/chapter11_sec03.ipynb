{
 "cells": [
  {
   "cell_type": "markdown",
   "id": "bc8a6d79",
   "metadata": {},
   "source": [
    "# 11.3 Polynomiale Regression\n",
    "\n",
    "```{admonition} Warnung\n",
    ":class: warning\n",
    "Achtung, dieser Abschnitt des Vorlesungsskriptes wird gerade überarbeitet!!!\n",
    "```\n",
    "\n",
    "TODO"
   ]
  }
 ],
 "metadata": {
  "jupytext": {
   "formats": "ipynb,md:myst",
   "text_representation": {
    "extension": ".md",
    "format_name": "myst",
    "format_version": 0.13,
    "jupytext_version": "1.13.8"
   }
  },
  "kernelspec": {
   "display_name": "Python 3 (ipykernel)",
   "language": "python",
   "name": "python3"
  },
  "language_info": {
   "codemirror_mode": {
    "name": "ipython",
    "version": 3
   },
   "file_extension": ".py",
   "mimetype": "text/x-python",
   "name": "python",
   "nbconvert_exporter": "python",
   "pygments_lexer": "ipython3",
   "version": "3.10.8"
  },
  "source_map": [
   13
  ]
 },
 "nbformat": 4,
 "nbformat_minor": 5
}